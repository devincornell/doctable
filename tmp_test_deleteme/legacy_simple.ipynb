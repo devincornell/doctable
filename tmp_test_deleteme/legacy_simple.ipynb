{
 "cells": [
  {
   "cell_type": "markdown",
   "metadata": {},
   "source": [
    "# DocTable Simple Example\n",
    "In this notebook, I show how to define a DocTable as a python class, populate the DocTable using the .add() and .addmany() commands, query data through generators and pandas dataframes, and finally update DocTable entries."
   ]
  },
  {
   "cell_type": "code",
   "execution_count": 1,
   "metadata": {},
   "outputs": [],
   "source": [
    "from pprint import pprint\n",
    "from timeit import default_timer as timer\n",
    "from dt1_helper import get_sklearn_newsgroups\n",
    "\n",
    "import sys\n",
    "sys.path.append('..')\n",
    "import doctable as dt # this will be the table object we use to interact with our database."
   ]
  },
  {
   "cell_type": "markdown",
   "metadata": {},
   "source": [
    "## Get News Data From sklearn.datasets\n",
    "Then parses into a dataframe."
   ]
  },
  {
   "cell_type": "code",
   "execution_count": 2,
   "metadata": {},
   "outputs": [
    {
     "name": "stdout",
     "output_type": "stream",
     "text": [
      "<class 'pandas.core.frame.DataFrame'>\n",
      "RangeIndex: 11314 entries, 0 to 11313\n",
      "Data columns (total 3 columns):\n",
      "filename    11314 non-null object\n",
      "target      11314 non-null object\n",
      "text        11314 non-null object\n",
      "dtypes: object(3)\n",
      "memory usage: 265.3+ KB\n",
      "None\n"
     ]
    },
    {
     "data": {
      "text/html": [
       "<div>\n",
       "<style scoped>\n",
       "    .dataframe tbody tr th:only-of-type {\n",
       "        vertical-align: middle;\n",
       "    }\n",
       "\n",
       "    .dataframe tbody tr th {\n",
       "        vertical-align: top;\n",
       "    }\n",
       "\n",
       "    .dataframe thead th {\n",
       "        text-align: right;\n",
       "    }\n",
       "</style>\n",
       "<table border=\"1\" class=\"dataframe\">\n",
       "  <thead>\n",
       "    <tr style=\"text-align: right;\">\n",
       "      <th></th>\n",
       "      <th>filename</th>\n",
       "      <th>target</th>\n",
       "      <th>text</th>\n",
       "    </tr>\n",
       "  </thead>\n",
       "  <tbody>\n",
       "    <tr>\n",
       "      <td>0</td>\n",
       "      <td>21379</td>\n",
       "      <td>soc.religion.christian</td>\n",
       "      <td>From: kbanner@philae.sas.upenn.edu (Ken Banner...</td>\n",
       "    </tr>\n",
       "    <tr>\n",
       "      <td>1</td>\n",
       "      <td>20874</td>\n",
       "      <td>soc.religion.christian</td>\n",
       "      <td>From: simon@monu6.cc.monash.edu.au\\nSubject: S...</td>\n",
       "    </tr>\n",
       "    <tr>\n",
       "      <td>2</td>\n",
       "      <td>58936</td>\n",
       "      <td>sci.med</td>\n",
       "      <td>From: jeffp@vetmed.wsu.edu (Jeff Parke)\\nSubje...</td>\n",
       "    </tr>\n",
       "  </tbody>\n",
       "</table>\n",
       "</div>"
      ],
      "text/plain": [
       "  filename                  target  \\\n",
       "0    21379  soc.religion.christian   \n",
       "1    20874  soc.religion.christian   \n",
       "2    58936                 sci.med   \n",
       "\n",
       "                                                text  \n",
       "0  From: kbanner@philae.sas.upenn.edu (Ken Banner...  \n",
       "1  From: simon@monu6.cc.monash.edu.au\\nSubject: S...  \n",
       "2  From: jeffp@vetmed.wsu.edu (Jeff Parke)\\nSubje...  "
      ]
     },
     "execution_count": 2,
     "metadata": {},
     "output_type": "execute_result"
    }
   ],
   "source": [
    "ddf = get_sklearn_newsgroups()\n",
    "print(ddf.info())\n",
    "ddf.head(3)"
   ]
  },
  {
   "cell_type": "markdown",
   "metadata": {},
   "source": [
    "## Define DocTable Class\n",
    "This class definition will contain the columns, datatypes, unique constraints, and index commands needed for your DocTable.\n",
    "In moving your data from DataFrame to DocTable, you should consider column data types and custom indices carefully."
   ]
  },
  {
   "cell_type": "code",
   "execution_count": 4,
   "metadata": {},
   "outputs": [],
   "source": [
    "# this class will represent the doctable. It inherits from DocTable a number of add/query/remove functions.\n",
    "# of course, you can add any additional methods to this class definition as you find useful.\n",
    "class SimpleNewsGroups(dt.DocTable):\n",
    "    def __init__(self, fname):\n",
    "        '''\n",
    "            This includes examples of init variables. See DocTable class for complete list of options.\n",
    "            Inputs:\n",
    "                fname: fname is the name of the new sqlite database that will be used for this class.\n",
    "        '''\n",
    "        tabname = 'simplenewsgroups'\n",
    "        super().__init__(\n",
    "            fname=fname, \n",
    "            tabname=tabname, \n",
    "            colschema=(\n",
    "                'id integer primary key autoincrement',\n",
    "                'file_id int',\n",
    "                'category string',\n",
    "                'raw_text string',\n",
    "            )\n",
    "        )\n",
    "        \n",
    "        # this section defines any other commands that should be executed upon init\n",
    "        # NOTICE: references tabname defined in the above __init__ function\n",
    "        # extra commands to create index tables for fast lookup\n",
    "        self.query(\"create index if not exists idx1 on \"+tabname+\"(file_id)\")\n",
    "        self.query(\"create index if not exists idx2 on \"+tabname+\"(category)\")"
   ]
  },
  {
   "cell_type": "markdown",
   "metadata": {},
   "source": [
    "Create a connection to the database by constructing an instance of the class. If this is the first time you've run this code, it will create a new sqlite database file with no entries."
   ]
  },
  {
   "cell_type": "code",
   "execution_count": 5,
   "metadata": {},
   "outputs": [
    {
     "name": "stdout",
     "output_type": "stream",
     "text": [
      "<Documents ct: 0>\n"
     ]
    }
   ],
   "source": [
    "sng = SimpleNewsGroups('simple_news_group.db')\n",
    "print(sng)"
   ]
  },
  {
   "cell_type": "markdown",
   "metadata": {},
   "source": [
    "## Adding Data\n",
    "There are two common ways to add data to your DocTable.\n",
    "\n",
    "(1) Add in rows individually\n",
    "\n",
    "(2) Add in bulk with or without specifying column names"
   ]
  },
  {
   "cell_type": "code",
   "execution_count": 6,
   "metadata": {},
   "outputs": [
    {
     "name": "stdout",
     "output_type": "stream",
     "text": [
      "2366.1215798929334 mil sec.\n",
      "<Documents ct: 11314>\n"
     ]
    }
   ],
   "source": [
    "# adds data one row at a time. Takes longer than bulk version\n",
    "start = timer()\n",
    "\n",
    "for ind,dat in ddf.iterrows():\n",
    "    row = {'file_id':int(dat['filename']), 'category':dat['target'], 'raw_text':dat['text']}\n",
    "    sng.add(row, ifnotunique='replace')\n",
    "\n",
    "print((timer() - start)*1000, 'mil sec.')\n",
    "print(sng)"
   ]
  },
  {
   "cell_type": "code",
   "execution_count": 7,
   "metadata": {},
   "outputs": [
    {
     "name": "stdout",
     "output_type": "stream",
     "text": [
      "1893.8379744067788 mil sec.\n",
      "<Documents ct: 22628>\n"
     ]
    }
   ],
   "source": [
    "# adds tuple data in bulk by specifying columns we are adding\n",
    "start = timer()\n",
    "\n",
    "col_order = ('file_id','category','raw_text')\n",
    "data = [(dat['filename'],dat['target'],dat['text']) for ind,dat in ddf.iterrows()]\n",
    "sng.addmany(data,keys=col_order, ifnotunique='replace')\n",
    "\n",
    "print((timer() - start)*1000, 'mil sec.')\n",
    "print(sng)"
   ]
  },
  {
   "cell_type": "markdown",
   "metadata": {},
   "source": [
    "## Querying Data\n",
    "There are two primary ways of querying data from a DocTable:\n",
    "\n",
    "(1) retrieve one-by-one from generator using \".get()\" function.\n",
    "(2) retrieve all data in Pandas DataFrame suing \".getdf()\" function."
   ]
  },
  {
   "cell_type": "code",
   "execution_count": 8,
   "metadata": {},
   "outputs": [
    {
     "name": "stdout",
     "output_type": "stream",
     "text": [
      "72052: From: ivan@erich.triumf.ca (Ivan D. Reid)\n",
      "Subject:\n",
      "72052: From: ivan@erich.triumf.ca (Ivan D. Reid)\n",
      "Subject:\n",
      "101725: Subject: Re: Lexan Polish?\n",
      "From: jeff@mri.com (Jon\n"
     ]
    }
   ],
   "source": [
    "result = sng.get(\n",
    "    sel=('file_id','raw_text'), \n",
    "    where='category == \"rec.motorcycles\"', \n",
    "    orderby='file_id ASC', \n",
    "    limit=3,\n",
    ")\n",
    "for row in result:\n",
    "    print(str(row['file_id'])+':', row['raw_text'][:50])"
   ]
  },
  {
   "cell_type": "code",
   "execution_count": 9,
   "metadata": {},
   "outputs": [
    {
     "data": {
      "text/html": [
       "<div>\n",
       "<style scoped>\n",
       "    .dataframe tbody tr th:only-of-type {\n",
       "        vertical-align: middle;\n",
       "    }\n",
       "\n",
       "    .dataframe tbody tr th {\n",
       "        vertical-align: top;\n",
       "    }\n",
       "\n",
       "    .dataframe thead th {\n",
       "        text-align: right;\n",
       "    }\n",
       "</style>\n",
       "<table border=\"1\" class=\"dataframe\">\n",
       "  <thead>\n",
       "    <tr style=\"text-align: right;\">\n",
       "      <th></th>\n",
       "      <th>file_id</th>\n",
       "      <th>raw_text</th>\n",
       "    </tr>\n",
       "  </thead>\n",
       "  <tbody>\n",
       "    <tr>\n",
       "      <td>0</td>\n",
       "      <td>72052</td>\n",
       "      <td>From: ivan@erich.triumf.ca (Ivan D. Reid)\\nSub...</td>\n",
       "    </tr>\n",
       "    <tr>\n",
       "      <td>1</td>\n",
       "      <td>72052</td>\n",
       "      <td>From: ivan@erich.triumf.ca (Ivan D. Reid)\\nSub...</td>\n",
       "    </tr>\n",
       "    <tr>\n",
       "      <td>2</td>\n",
       "      <td>101725</td>\n",
       "      <td>Subject: Re: Lexan Polish?\\nFrom: jeff@mri.com...</td>\n",
       "    </tr>\n",
       "    <tr>\n",
       "      <td>3</td>\n",
       "      <td>101725</td>\n",
       "      <td>Subject: Re: Lexan Polish?\\nFrom: jeff@mri.com...</td>\n",
       "    </tr>\n",
       "    <tr>\n",
       "      <td>4</td>\n",
       "      <td>102616</td>\n",
       "      <td>From: blgardne@javelin.sim.es.com (Dances With...</td>\n",
       "    </tr>\n",
       "  </tbody>\n",
       "</table>\n",
       "</div>"
      ],
      "text/plain": [
       "   file_id                                           raw_text\n",
       "0    72052  From: ivan@erich.triumf.ca (Ivan D. Reid)\\nSub...\n",
       "1    72052  From: ivan@erich.triumf.ca (Ivan D. Reid)\\nSub...\n",
       "2   101725  Subject: Re: Lexan Polish?\\nFrom: jeff@mri.com...\n",
       "3   101725  Subject: Re: Lexan Polish?\\nFrom: jeff@mri.com...\n",
       "4   102616  From: blgardne@javelin.sim.es.com (Dances With..."
      ]
     },
     "execution_count": 9,
     "metadata": {},
     "output_type": "execute_result"
    }
   ],
   "source": [
    "result_df = sng.getdf(\n",
    "    sel=('file_id','raw_text'), \n",
    "    where='category == \"rec.motorcycles\"', \n",
    "    orderby='file_id ASC', \n",
    "    limit=5,\n",
    ")\n",
    "result_df"
   ]
  },
  {
   "cell_type": "markdown",
   "metadata": {},
   "source": [
    "## Updating Data in DocTable\n",
    "The \".update()\" function will change entries in the DocTable."
   ]
  },
  {
   "cell_type": "code",
   "execution_count": 10,
   "metadata": {},
   "outputs": [
    {
     "data": {
      "text/html": [
       "<div>\n",
       "<style scoped>\n",
       "    .dataframe tbody tr th:only-of-type {\n",
       "        vertical-align: middle;\n",
       "    }\n",
       "\n",
       "    .dataframe tbody tr th {\n",
       "        vertical-align: top;\n",
       "    }\n",
       "\n",
       "    .dataframe thead th {\n",
       "        text-align: right;\n",
       "    }\n",
       "</style>\n",
       "<table border=\"1\" class=\"dataframe\">\n",
       "  <thead>\n",
       "    <tr style=\"text-align: right;\">\n",
       "      <th></th>\n",
       "      <th>id</th>\n",
       "      <th>file_id</th>\n",
       "      <th>category</th>\n",
       "      <th>raw_text</th>\n",
       "    </tr>\n",
       "  </thead>\n",
       "  <tbody>\n",
       "    <tr>\n",
       "      <td>0</td>\n",
       "      <td>395</td>\n",
       "      <td>103121</td>\n",
       "      <td>nevermind</td>\n",
       "      <td>From: MJMUISE@1302.watstar.uwaterloo.ca (Mike ...</td>\n",
       "    </tr>\n",
       "    <tr>\n",
       "      <td>1</td>\n",
       "      <td>11709</td>\n",
       "      <td>103121</td>\n",
       "      <td>nevermind</td>\n",
       "      <td>From: MJMUISE@1302.watstar.uwaterloo.ca (Mike ...</td>\n",
       "    </tr>\n",
       "  </tbody>\n",
       "</table>\n",
       "</div>"
      ],
      "text/plain": [
       "      id  file_id   category  \\\n",
       "0    395   103121  nevermind   \n",
       "1  11709   103121  nevermind   \n",
       "\n",
       "                                            raw_text  \n",
       "0  From: MJMUISE@1302.watstar.uwaterloo.ca (Mike ...  \n",
       "1  From: MJMUISE@1302.watstar.uwaterloo.ca (Mike ...  "
      ]
     },
     "execution_count": 10,
     "metadata": {},
     "output_type": "execute_result"
    }
   ],
   "source": [
    "sng.update({'category':'nevermind',},where='file_id == \"103121\"')\n",
    "sng.getdf(where='file_id == \"103121\"') # to see update, look at \"category\" column entry"
   ]
  }
 ],
 "metadata": {
  "kernelspec": {
   "display_name": "Python 3",
   "language": "python",
   "name": "python3"
  },
  "language_info": {
   "codemirror_mode": {
    "name": "ipython",
    "version": 3
   },
   "file_extension": ".py",
   "mimetype": "text/x-python",
   "name": "python",
   "nbconvert_exporter": "python",
   "pygments_lexer": "ipython3",
   "version": "3.7.3"
  }
 },
 "nbformat": 4,
 "nbformat_minor": 4
}
