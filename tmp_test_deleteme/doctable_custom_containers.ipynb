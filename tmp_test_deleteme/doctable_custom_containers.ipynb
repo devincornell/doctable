{
 "cells": [
  {
   "cell_type": "markdown",
   "source": [
    "# Custom Containers from Select Queries\n",
    "Here I show how to use custom containers to wrap results from select queries. This may be useful if you intend to build an aggregate data structure from resulting rows."
   ],
   "metadata": {}
  },
  {
   "cell_type": "code",
   "execution_count": 1,
   "source": [
    "import sys\n",
    "sys.path.append('..')\n",
    "import doctable"
   ],
   "outputs": [],
   "metadata": {}
  },
  {
   "cell_type": "markdown",
   "source": [
    "We start by creating a schema for our database and using it to create a new doctable object. This schema includes three columns, and we insert some elements into the table for testing."
   ],
   "metadata": {}
  },
  {
   "cell_type": "code",
   "execution_count": 2,
   "source": [
    "import dataclasses\n",
    "import datetime\n",
    "@doctable.schema(require_slots=False)\n",
    "class Row:\n",
    "    number: int\n",
    "    idx: int = doctable.IDCol()\n",
    "    updated: datetime.datetime = doctable.UpdatedCol()\n",
    "\n",
    "db = doctable.DocTable(schema=Row, target=':memory:')\n",
    "db.insert([Row(i) for i in range(10000)])\n",
    "db.count()"
   ],
   "outputs": [
    {
     "output_type": "execute_result",
     "data": {
      "text/plain": [
       "10000"
      ]
     },
     "metadata": {},
     "execution_count": 2
    }
   ],
   "metadata": {}
  },
  {
   "cell_type": "markdown",
   "source": [
    "You can see that by default, the return type is a list."
   ],
   "metadata": {}
  },
  {
   "cell_type": "code",
   "execution_count": 3,
   "source": [
    "type(db.select())"
   ],
   "outputs": [
    {
     "output_type": "execute_result",
     "data": {
      "text/plain": [
       "list"
      ]
     },
     "metadata": {},
     "execution_count": 3
    }
   ],
   "metadata": {}
  },
  {
   "cell_type": "markdown",
   "source": [
    "Using the `result_container` parameter of `.select()`, we are able to use a custom class to wrap our data. First I show an example using `RowList`, a class which extends the basic python `list`, adding only a simple method to return the sum of numbers associated with each row."
   ],
   "metadata": {}
  },
  {
   "cell_type": "code",
   "execution_count": 4,
   "source": [
    "class RowList(list):\n",
    "    def payload_sum(self):\n",
    "        return sum(r.number for r in self)\n",
    "    \n",
    "res = db.select(result_container=RowList)\n",
    "print(f'type={type(res)}, len={len(res)}, sum={res.payload_sum()}')"
   ],
   "outputs": [
    {
     "output_type": "error",
     "ename": "TypeError",
     "evalue": "unsupported operand type(s) for +: 'int' and 'NoneType'",
     "traceback": [
      "\u001b[0;31m---------------------------------------------------------------------------\u001b[0m",
      "\u001b[0;31mTypeError\u001b[0m                                 Traceback (most recent call last)",
      "\u001b[0;32m<ipython-input-4-c7572cbd0816>\u001b[0m in \u001b[0;36m<module>\u001b[0;34m\u001b[0m\n\u001b[1;32m      4\u001b[0m \u001b[0;34m\u001b[0m\u001b[0m\n\u001b[1;32m      5\u001b[0m \u001b[0mres\u001b[0m \u001b[0;34m=\u001b[0m \u001b[0mdb\u001b[0m\u001b[0;34m.\u001b[0m\u001b[0mselect\u001b[0m\u001b[0;34m(\u001b[0m\u001b[0mresult_container\u001b[0m\u001b[0;34m=\u001b[0m\u001b[0mRowList\u001b[0m\u001b[0;34m)\u001b[0m\u001b[0;34m\u001b[0m\u001b[0;34m\u001b[0m\u001b[0m\n\u001b[0;32m----> 6\u001b[0;31m \u001b[0mprint\u001b[0m\u001b[0;34m(\u001b[0m\u001b[0;34mf'type={type(res)}, len={len(res)}, sum={res.payload_sum()}'\u001b[0m\u001b[0;34m)\u001b[0m\u001b[0;34m\u001b[0m\u001b[0;34m\u001b[0m\u001b[0m\n\u001b[0m",
      "\u001b[0;32m<ipython-input-4-c7572cbd0816>\u001b[0m in \u001b[0;36mpayload_sum\u001b[0;34m(self)\u001b[0m\n\u001b[1;32m      1\u001b[0m \u001b[0;32mclass\u001b[0m \u001b[0mRowList\u001b[0m\u001b[0;34m(\u001b[0m\u001b[0mlist\u001b[0m\u001b[0;34m)\u001b[0m\u001b[0;34m:\u001b[0m\u001b[0;34m\u001b[0m\u001b[0;34m\u001b[0m\u001b[0m\n\u001b[1;32m      2\u001b[0m     \u001b[0;32mdef\u001b[0m \u001b[0mpayload_sum\u001b[0m\u001b[0;34m(\u001b[0m\u001b[0mself\u001b[0m\u001b[0;34m)\u001b[0m\u001b[0;34m:\u001b[0m\u001b[0;34m\u001b[0m\u001b[0;34m\u001b[0m\u001b[0m\n\u001b[0;32m----> 3\u001b[0;31m         \u001b[0;32mreturn\u001b[0m \u001b[0msum\u001b[0m\u001b[0;34m(\u001b[0m\u001b[0mr\u001b[0m\u001b[0;34m.\u001b[0m\u001b[0mnumber\u001b[0m \u001b[0;32mfor\u001b[0m \u001b[0mr\u001b[0m \u001b[0;32min\u001b[0m \u001b[0mself\u001b[0m\u001b[0;34m)\u001b[0m\u001b[0;34m\u001b[0m\u001b[0;34m\u001b[0m\u001b[0m\n\u001b[0m\u001b[1;32m      4\u001b[0m \u001b[0;34m\u001b[0m\u001b[0m\n\u001b[1;32m      5\u001b[0m \u001b[0mres\u001b[0m \u001b[0;34m=\u001b[0m \u001b[0mdb\u001b[0m\u001b[0;34m.\u001b[0m\u001b[0mselect\u001b[0m\u001b[0;34m(\u001b[0m\u001b[0mresult_container\u001b[0m\u001b[0;34m=\u001b[0m\u001b[0mRowList\u001b[0m\u001b[0;34m)\u001b[0m\u001b[0;34m\u001b[0m\u001b[0;34m\u001b[0m\u001b[0m\n",
      "\u001b[0;31mTypeError\u001b[0m: unsupported operand type(s) for +: 'int' and 'NoneType'"
     ]
    }
   ],
   "metadata": {}
  },
  {
   "cell_type": "markdown",
   "source": [
    "We can use any class that takes a set of results as the single argument in the constructor. I now define a class `RowGroup` that separates out rows with big and little numbers. When I providee `RowGroup` to the `result_container` argument of the select query, we can see that the RowGroup has separated out the rows into the two groups."
   ],
   "metadata": {}
  },
  {
   "cell_type": "code",
   "execution_count": null,
   "source": [
    "class RowGroup:\n",
    "    def __init__(self, rows):\n",
    "        self.big = list()\n",
    "        self.little = list()\n",
    "        for row in rows:\n",
    "            if row.number > 100:\n",
    "                self.big.append(row)\n",
    "            else:\n",
    "                self.little.append(row)\n",
    "\n",
    "res = db.select(result_container=RowGroup)\n",
    "print(f'type={type(res)}, big len={len(res.big)}, little len={len(res.little)}')"
   ],
   "outputs": [
    {
     "output_type": "stream",
     "name": "stdout",
     "text": [
      "type=<class '__main__.RowGroup'>, big len=9899, little len=101\n"
     ]
    }
   ],
   "metadata": {}
  },
  {
   "cell_type": "markdown",
   "source": [
    "Here I showed how we can create custom containers for our row objects. Of course, we can create new methods that use select with the `result_container` argument to return the RowList."
   ],
   "metadata": {}
  },
  {
   "cell_type": "code",
   "execution_count": null,
   "source": [
    "class MyTable(doctable.DocTable):\n",
    "    def select_rowlist(self, *args, **kwargs):\n",
    "        return super().select(*args, result_container=RowList, **kwargs)\n",
    "\n",
    "db2 = MyTable(schema=Row, target=':memory:')\n",
    "db2.insert([Row(i) for i in range(10000)])\n",
    "res = db2.select_rowlist()\n",
    "print(f'type={type(res)}, len={len(res)}, sum={res.payload_sum()}')"
   ],
   "outputs": [
    {
     "output_type": "stream",
     "name": "stdout",
     "text": [
      "type=<class '__main__.RowList'>, len=10000, sum=49995000\n"
     ]
    }
   ],
   "metadata": {}
  }
 ],
 "metadata": {
  "kernelspec": {
   "name": "python3",
   "display_name": "Python 3.8.5 64-bit ('base': conda)"
  },
  "language_info": {
   "codemirror_mode": {
    "name": "ipython",
    "version": 3
   },
   "file_extension": ".py",
   "mimetype": "text/x-python",
   "name": "python",
   "nbconvert_exporter": "python",
   "pygments_lexer": "ipython3",
   "version": "3.8.5"
  },
  "interpreter": {
   "hash": "80712910726593b564a07c7ac6087ce3072c1b43af7fa58c28aea85a2c346dd3"
  }
 },
 "nbformat": 4,
 "nbformat_minor": 4
}