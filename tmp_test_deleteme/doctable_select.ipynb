{
 "cells": [
  {
   "cell_type": "markdown",
   "metadata": {},
   "source": [
    "# DocTable Examples: Select\n",
    "Here I show how to select data from a DocTable. We cover object-oriented conditional selects emulating the `WHERE` SQL clause, as well as some reduce functions."
   ]
  },
  {
   "cell_type": "code",
   "execution_count": 1,
   "metadata": {},
   "outputs": [],
   "source": [
    "import random\n",
    "import pandas as pd\n",
    "import numpy as np\n",
    "import sys\n",
    "sys.path.append('..')\n",
    "import doctable"
   ]
  },
  {
   "cell_type": "code",
   "execution_count": 2,
   "metadata": {},
   "outputs": [
    {
     "name": "stdout",
     "output_type": "stream",
     "text": [
      "<DocTable (4 cols)::sqlite:///:memory::_documents_>\n"
     ]
    }
   ],
   "source": [
    "import dataclasses\n",
    "@doctable.schema\n",
    "class Record:\n",
    "    __slots__ = []\n",
    "    id: int = doctable.IDCol()\n",
    "    name: str = doctable.Col(nullable=False)\n",
    "    age: int = None\n",
    "    is_old: bool = None\n",
    "\n",
    "table = doctable.DocTable(target=':memory:', schema=Record, verbose=True)\n",
    "print(table)"
   ]
  },
  {
   "cell_type": "code",
   "execution_count": 3,
   "metadata": {},
   "outputs": [
    {
     "name": "stdout",
     "output_type": "stream",
     "text": [
      "<DocTable (4 cols)::sqlite:///:memory::_documents_>\n"
     ]
    }
   ],
   "source": [
    "N = 10\n",
    "for i in range(N):\n",
    "    age = random.random() # number in [0,1]\n",
    "    is_old = age > 0.5\n",
    "    table.insert({'name':'user_'+str(i), 'age':age, 'is_old':is_old}, verbose=False)\n",
    "print(table)"
   ]
  },
  {
   "cell_type": "markdown",
   "metadata": {},
   "source": [
    "## Regular Selects\n",
    "These functions all return lists of ResultProxy objects. As such, they can be accessed using numerical indices or keyword indices. For instance, if one select output row is ```row=(1, 'user_0')``` (after selecting \"id\" and \"user\"), it can be accessed such that ```row[0]==row['id']``` and ```row[1]==row['user']```."
   ]
  },
  {
   "cell_type": "code",
   "execution_count": 4,
   "metadata": {},
   "outputs": [
    {
     "name": "stdout",
     "output_type": "stream",
     "text": [
      "DocTable: SELECT _documents_.id, _documents_.name, _documents_.age, _documents_.is_old \n",
      "FROM _documents_\n",
      " LIMIT ? OFFSET ?\n"
     ]
    },
    {
     "data": {
      "text/plain": [
       "[Record(id=1, name='user_0', age=0.04379398878146823, is_old=False),\n",
       " Record(id=2, name='user_1', age=0.32083938549074387, is_old=False)]"
      ]
     },
     "execution_count": 4,
     "metadata": {},
     "output_type": "execute_result"
    }
   ],
   "source": [
    "# the limit argument means the result will only return some rows.\n",
    "# I'll use it for convenience in these examples.\n",
    "# this selects all rows\n",
    "table.select(limit=2)"
   ]
  },
  {
   "cell_type": "code",
   "execution_count": 5,
   "metadata": {},
   "outputs": [
    {
     "name": "stdout",
     "output_type": "stream",
     "text": [
      "DocTable: SELECT _documents_.id, _documents_.name \n",
      "FROM _documents_\n",
      " LIMIT ? OFFSET ?\n"
     ]
    },
    {
     "data": {
      "text/plain": [
       "[Record(id=1, name='user_0', age=None, is_old=None)]"
      ]
     },
     "execution_count": 5,
     "metadata": {},
     "output_type": "execute_result"
    }
   ],
   "source": [
    "table.select(['id','name'], limit=1)"
   ]
  },
  {
   "cell_type": "code",
   "execution_count": 6,
   "metadata": {},
   "outputs": [
    {
     "name": "stdout",
     "output_type": "stream",
     "text": [
      "DocTable: SELECT _documents_.id, _documents_.name \n",
      "FROM _documents_\n",
      " LIMIT ? OFFSET ?\n"
     ]
    },
    {
     "data": {
      "text/plain": [
       "[Record(id=1, name='user_0', age=None, is_old=None)]"
      ]
     },
     "execution_count": 6,
     "metadata": {},
     "output_type": "execute_result"
    }
   ],
   "source": [
    "# can also select by accessing the column object (db['id']) itself\n",
    "# this will be useful later with more complex queries\n",
    "table.select([table['id'],table['name']], limit=1)"
   ]
  },
  {
   "cell_type": "code",
   "execution_count": 7,
   "metadata": {},
   "outputs": [
    {
     "name": "stdout",
     "output_type": "stream",
     "text": [
      "DocTable: SELECT _documents_.id, _documents_.name, _documents_.age, _documents_.is_old \n",
      "FROM _documents_\n",
      " LIMIT ? OFFSET ?\n"
     ]
    },
    {
     "data": {
      "text/plain": [
       "Record(id=1, name='user_0', age=0.04379398878146823, is_old=False)"
      ]
     },
     "execution_count": 7,
     "metadata": {},
     "output_type": "execute_result"
    }
   ],
   "source": [
    "table.select_first()"
   ]
  },
  {
   "cell_type": "code",
   "execution_count": 8,
   "metadata": {},
   "outputs": [
    {
     "name": "stdout",
     "output_type": "stream",
     "text": [
      "DocTable: SELECT _documents_.name \n",
      "FROM _documents_\n",
      " LIMIT ? OFFSET ?\n"
     ]
    },
    {
     "data": {
      "text/plain": [
       "['user_0', 'user_1', 'user_2', 'user_3', 'user_4']"
      ]
     },
     "execution_count": 8,
     "metadata": {},
     "output_type": "execute_result"
    }
   ],
   "source": [
    "table.select('name',limit=5)"
   ]
  },
  {
   "cell_type": "code",
   "execution_count": 9,
   "metadata": {},
   "outputs": [
    {
     "name": "stdout",
     "output_type": "stream",
     "text": [
      "DocTable: SELECT _documents_.age \n",
      "FROM _documents_\n",
      " LIMIT ? OFFSET ?\n"
     ]
    },
    {
     "data": {
      "text/plain": [
       "0.04379398878146823"
      ]
     },
     "execution_count": 9,
     "metadata": {},
     "output_type": "execute_result"
    }
   ],
   "source": [
    "table.select_first('age')"
   ]
  },
  {
   "cell_type": "markdown",
   "metadata": {},
   "source": [
    "## Conditional Selects"
   ]
  },
  {
   "cell_type": "code",
   "execution_count": 10,
   "metadata": {},
   "outputs": [
    {
     "name": "stdout",
     "output_type": "stream",
     "text": [
      "DocTable: SELECT _documents_.id, _documents_.name, _documents_.age, _documents_.is_old \n",
      "FROM _documents_ \n",
      "WHERE _documents_.id = ?\n"
     ]
    },
    {
     "data": {
      "text/plain": [
       "[Record(id=2, name='user_1', age=0.32083938549074387, is_old=False)]"
      ]
     },
     "execution_count": 10,
     "metadata": {},
     "output_type": "execute_result"
    }
   ],
   "source": [
    "table.select(where=table['id']==2)"
   ]
  },
  {
   "cell_type": "code",
   "execution_count": 11,
   "metadata": {},
   "outputs": [
    {
     "name": "stdout",
     "output_type": "stream",
     "text": [
      "DocTable: SELECT _documents_.id, _documents_.name, _documents_.age, _documents_.is_old \n",
      "FROM _documents_ \n",
      "WHERE _documents_.id < ?\n"
     ]
    },
    {
     "data": {
      "text/plain": [
       "[Record(id=1, name='user_0', age=0.04379398878146823, is_old=False),\n",
       " Record(id=2, name='user_1', age=0.32083938549074387, is_old=False)]"
      ]
     },
     "execution_count": 11,
     "metadata": {},
     "output_type": "execute_result"
    }
   ],
   "source": [
    "table.select(where=table['id']<3)"
   ]
  },
  {
   "cell_type": "code",
   "execution_count": 12,
   "metadata": {},
   "outputs": [
    {
     "name": "stdout",
     "output_type": "stream",
     "text": [
      "DocTable: SELECT _documents_.id, _documents_.name, _documents_.age, _documents_.is_old \n",
      "FROM _documents_ \n",
      "WHERE _documents_.id % ? = ?\n",
      " LIMIT ? OFFSET ?\n"
     ]
    },
    {
     "data": {
      "text/plain": [
       "[Record(id=2, name='user_1', age=0.32083938549074387, is_old=False),\n",
       " Record(id=4, name='user_3', age=0.5649107128684847, is_old=True)]"
      ]
     },
     "execution_count": 12,
     "metadata": {},
     "output_type": "execute_result"
    }
   ],
   "source": [
    "# mod operator works too\n",
    "table.select(where=(table['id']%2)==0, limit=2)"
   ]
  },
  {
   "cell_type": "code",
   "execution_count": 13,
   "metadata": {},
   "outputs": [
    {
     "name": "stdout",
     "output_type": "stream",
     "text": [
      "DocTable: SELECT _documents_.id, _documents_.name, _documents_.age, _documents_.is_old \n",
      "FROM _documents_ \n",
      "WHERE _documents_.id >= ? AND _documents_.id <= ? AND _documents_.name != ?\n"
     ]
    },
    {
     "data": {
      "text/plain": [
       "[Record(id=2, name='user_1', age=0.32083938549074387, is_old=False),\n",
       " Record(id=4, name='user_3', age=0.5649107128684847, is_old=True)]"
      ]
     },
     "execution_count": 13,
     "metadata": {},
     "output_type": "execute_result"
    }
   ],
   "source": [
    "# note parantheses to handle order of ops with overloaded bitwise ops\n",
    "table.select(where= (table['id']>=2) & (table['id']<=4) & (table['name']!='user_2'))"
   ]
  },
  {
   "cell_type": "code",
   "execution_count": 14,
   "metadata": {},
   "outputs": [
    {
     "name": "stdout",
     "output_type": "stream",
     "text": [
      "DocTable: SELECT _documents_.id, _documents_.name, _documents_.age, _documents_.is_old \n",
      "FROM _documents_ \n",
      "WHERE _documents_.name IN (?, ?)\n"
     ]
    },
    {
     "data": {
      "text/plain": [
       "[Record(id=3, name='user_2', age=0.10213129577978541, is_old=False),\n",
       " Record(id=4, name='user_3', age=0.5649107128684847, is_old=True)]"
      ]
     },
     "execution_count": 14,
     "metadata": {},
     "output_type": "execute_result"
    }
   ],
   "source": [
    "table.select(where=table['name'].in_(('user_2','user_3')))"
   ]
  },
  {
   "cell_type": "code",
   "execution_count": 15,
   "metadata": {},
   "outputs": [
    {
     "name": "stdout",
     "output_type": "stream",
     "text": [
      "DocTable: SELECT _documents_.id, _documents_.name, _documents_.age, _documents_.is_old \n",
      "FROM _documents_ \n",
      "WHERE _documents_.id BETWEEN ? AND ?\n"
     ]
    },
    {
     "data": {
      "text/plain": [
       "[Record(id=2, name='user_1', age=0.32083938549074387, is_old=False),\n",
       " Record(id=3, name='user_2', age=0.10213129577978541, is_old=False),\n",
       " Record(id=4, name='user_3', age=0.5649107128684847, is_old=True)]"
      ]
     },
     "execution_count": 15,
     "metadata": {},
     "output_type": "execute_result"
    }
   ],
   "source": [
    "table.select(where=table['id'].between(2,4))"
   ]
  },
  {
   "cell_type": "code",
   "execution_count": 16,
   "metadata": {},
   "outputs": [
    {
     "name": "stdout",
     "output_type": "stream",
     "text": [
      "DocTable: SELECT _documents_.id, _documents_.name, _documents_.age, _documents_.is_old \n",
      "FROM _documents_ \n",
      "WHERE _documents_.name NOT IN (?, ?) AND _documents_.id < ?\n"
     ]
    },
    {
     "data": {
      "text/plain": [
       "[Record(id=1, name='user_0', age=0.04379398878146823, is_old=False),\n",
       " Record(id=2, name='user_1', age=0.32083938549074387, is_old=False)]"
      ]
     },
     "execution_count": 16,
     "metadata": {},
     "output_type": "execute_result"
    }
   ],
   "source": [
    "# use of logical not operator \"~\"\n",
    "table.select(where= ~(table['name'].in_(('user_2','user_3'))) & (table['id'] < 4))"
   ]
  },
  {
   "cell_type": "code",
   "execution_count": 17,
   "metadata": {},
   "outputs": [
    {
     "name": "stdout",
     "output_type": "stream",
     "text": [
      "DocTable: SELECT _documents_.id, _documents_.name, _documents_.age, _documents_.is_old \n",
      "FROM _documents_ \n",
      "WHERE _documents_.id != ? AND _documents_.id <= ?\n"
     ]
    },
    {
     "data": {
      "text/plain": [
       "[Record(id=1, name='user_0', age=0.04379398878146823, is_old=False),\n",
       " Record(id=2, name='user_1', age=0.32083938549074387, is_old=False)]"
      ]
     },
     "execution_count": 17,
     "metadata": {},
     "output_type": "execute_result"
    }
   ],
   "source": [
    "# more verbose operators .and_, .or_, and .not_ are bound to the doctable package\n",
    "table.select(where= doctable.or_(doctable.not_(table['id']==4)) & (table['id'] <= 2))"
   ]
  },
  {
   "cell_type": "code",
   "execution_count": 18,
   "metadata": {},
   "outputs": [
    {
     "name": "stdout",
     "output_type": "stream",
     "text": [
      "DocTable: SELECT _documents_.age \n",
      "FROM _documents_\n",
      "DocTable: SELECT _documents_.name \n",
      "FROM _documents_ \n",
      "WHERE _documents_.age > ?\n",
      " LIMIT ? OFFSET ?\n"
     ]
    },
    {
     "data": {
      "text/plain": [
       "['user_3', 'user_5']"
      ]
     },
     "execution_count": 18,
     "metadata": {},
     "output_type": "execute_result"
    }
   ],
   "source": [
    "# now with simple computation\n",
    "ages = table.select(table['age'])\n",
    "mean_age = sum(ages)/len(ages)\n",
    "table.select(table['name'], where=table['age']>mean_age, limit=2)"
   ]
  },
  {
   "cell_type": "code",
   "execution_count": 19,
   "metadata": {},
   "outputs": [
    {
     "name": "stdout",
     "output_type": "stream",
     "text": [
      "DocTable: SELECT _documents_.age AS myage, _documents_.name AS myname \n",
      "FROM _documents_\n",
      " LIMIT ? OFFSET ?\n"
     ]
    },
    {
     "data": {
      "text/plain": [
       "{'myage': 0.04379398878146823, 'myname': 'user_0'}"
      ]
     },
     "execution_count": 19,
     "metadata": {},
     "output_type": "execute_result"
    }
   ],
   "source": [
    "# apply .label() method to columns\n",
    "dict(table.select_first([table['age'].label('myage'), table['name'].label('myname')], as_dataclass=False))"
   ]
  },
  {
   "cell_type": "markdown",
   "metadata": {},
   "source": [
    "## Column Operators\n",
    "I bind the .min, .max, .count, .sum, and .mode methods to the column objects. Additionally, I move the .count method to a separate DocTable2 method."
   ]
  },
  {
   "cell_type": "code",
   "execution_count": 20,
   "metadata": {},
   "outputs": [
    {
     "name": "stdout",
     "output_type": "stream",
     "text": [
      "DocTable: SELECT sum(_documents_.age) AS sum_1, count(_documents_.age) AS count_1, _documents_.age \n",
      "FROM _documents_\n",
      " LIMIT ? OFFSET ?\n"
     ]
    },
    {
     "data": {
      "text/plain": [
       "(3.748372290260373, 10, 0.04379398878146823)"
      ]
     },
     "execution_count": 20,
     "metadata": {},
     "output_type": "execute_result"
    }
   ],
   "source": [
    "table.select_first([table['age'].sum, table['age'].count, table['age']], as_dataclass=False)"
   ]
  },
  {
   "cell_type": "code",
   "execution_count": 21,
   "metadata": {},
   "outputs": [
    {
     "name": "stdout",
     "output_type": "stream",
     "text": [
      "DocTable: SELECT sum(_documents_.age) AS sum, count(_documents_.age) AS ct \n",
      "FROM _documents_\n",
      " LIMIT ? OFFSET ?\n"
     ]
    },
    {
     "data": {
      "text/plain": [
       "{'sum': 3.748372290260373, 'ct': 10}"
      ]
     },
     "execution_count": 21,
     "metadata": {},
     "output_type": "execute_result"
    }
   ],
   "source": [
    "# with labels now\n",
    "dict(table.select_first([table['age'].sum.label('sum'), table['age'].count.label('ct')], as_dataclass=False))"
   ]
  },
  {
   "cell_type": "markdown",
   "metadata": {},
   "source": [
    "## ORDER BY, GROUP BY, LIMIT\n",
    "These additional arguments have also been provided."
   ]
  },
  {
   "cell_type": "code",
   "execution_count": 22,
   "metadata": {},
   "outputs": [
    {
     "name": "stdout",
     "output_type": "stream",
     "text": [
      "DocTable: SELECT _documents_.id, _documents_.name, _documents_.age, _documents_.is_old \n",
      "FROM _documents_\n",
      " LIMIT ? OFFSET ?\n"
     ]
    },
    {
     "data": {
      "text/plain": [
       "[Record(id=1, name='user_0', age=0.04379398878146823, is_old=False),\n",
       " Record(id=2, name='user_1', age=0.32083938549074387, is_old=False)]"
      ]
     },
     "execution_count": 22,
     "metadata": {},
     "output_type": "execute_result"
    }
   ],
   "source": [
    "# the limit is obvious - it has been used throughout these examples\n",
    "table.select(limit=2)"
   ]
  },
  {
   "cell_type": "code",
   "execution_count": 23,
   "metadata": {},
   "outputs": [
    {
     "name": "stdout",
     "output_type": "stream",
     "text": [
      "DocTable: SELECT _documents_.id, _documents_.name, _documents_.age, _documents_.is_old \n",
      "FROM _documents_ ORDER BY _documents_.age DESC\n",
      " LIMIT ? OFFSET ?\n"
     ]
    },
    {
     "data": {
      "text/plain": [
       "[Record(id=8, name='user_7', age=0.7809152967349511, is_old=True),\n",
       " Record(id=6, name='user_5', age=0.6081281581554809, is_old=True)]"
      ]
     },
     "execution_count": 23,
     "metadata": {},
     "output_type": "execute_result"
    }
   ],
   "source": [
    "# orderby clause\n",
    "table.select(orderby=table['age'].desc(), limit=2)"
   ]
  },
  {
   "cell_type": "code",
   "execution_count": 24,
   "metadata": {},
   "outputs": [
    {
     "name": "stdout",
     "output_type": "stream",
     "text": [
      "DocTable: SELECT _documents_.id, _documents_.name, _documents_.age, _documents_.is_old \n",
      "FROM _documents_ ORDER BY _documents_.age DESC, _documents_.is_old ASC\n",
      " LIMIT ? OFFSET ?\n"
     ]
    },
    {
     "data": {
      "text/plain": [
       "[Record(id=8, name='user_7', age=0.7809152967349511, is_old=True),\n",
       " Record(id=6, name='user_5', age=0.6081281581554809, is_old=True)]"
      ]
     },
     "execution_count": 24,
     "metadata": {},
     "output_type": "execute_result"
    }
   ],
   "source": [
    "# compound orderby\n",
    "table.select(orderby=(table['age'].desc(),table['is_old'].asc()), limit=2)"
   ]
  },
  {
   "cell_type": "code",
   "execution_count": 25,
   "metadata": {},
   "outputs": [
    {
     "name": "stdout",
     "output_type": "stream",
     "text": [
      "DocTable: SELECT _documents_.id, _documents_.name, _documents_.age, _documents_.is_old \n",
      "FROM _documents_ ORDER BY _documents_.age\n",
      " LIMIT ? OFFSET ?\n"
     ]
    },
    {
     "data": {
      "text/plain": [
       "[Record(id=1, name='user_0', age=0.04379398878146823, is_old=False),\n",
       " Record(id=3, name='user_2', age=0.10213129577978541, is_old=False)]"
      ]
     },
     "execution_count": 25,
     "metadata": {},
     "output_type": "execute_result"
    }
   ],
   "source": [
    "# can also use column name directly\n",
    "# can only use ascending and can use only one col\n",
    "table.select(orderby='age', limit=2)"
   ]
  },
  {
   "cell_type": "code",
   "execution_count": 26,
   "metadata": {},
   "outputs": [
    {
     "name": "stdout",
     "output_type": "stream",
     "text": [
      "DocTable: SELECT _documents_.id, _documents_.name, _documents_.age, _documents_.is_old \n",
      "FROM _documents_ GROUP BY _documents_.is_old\n"
     ]
    },
    {
     "data": {
      "text/plain": [
       "[Record(id=1, name='user_0', age=0.04379398878146823, is_old=False),\n",
       " Record(id=4, name='user_3', age=0.5649107128684847, is_old=True)]"
      ]
     },
     "execution_count": 26,
     "metadata": {},
     "output_type": "execute_result"
    }
   ],
   "source": [
    "# groupby clause\n",
    "# returns first row of each group without any aggregation functions\n",
    "table.select(groupby=table['is_old'])"
   ]
  },
  {
   "cell_type": "code",
   "execution_count": 27,
   "metadata": {},
   "outputs": [
    {
     "name": "stdout",
     "output_type": "stream",
     "text": [
      "DocTable: SELECT _documents_.id, _documents_.name, _documents_.age, _documents_.is_old \n",
      "FROM _documents_ GROUP BY _documents_.is_old, _documents_.name\n",
      " LIMIT ? OFFSET ?\n"
     ]
    },
    {
     "data": {
      "text/plain": [
       "[Record(id=1, name='user_0', age=0.04379398878146823, is_old=False),\n",
       " Record(id=2, name='user_1', age=0.32083938549074387, is_old=False),\n",
       " Record(id=3, name='user_2', age=0.10213129577978541, is_old=False)]"
      ]
     },
     "execution_count": 27,
     "metadata": {},
     "output_type": "execute_result"
    }
   ],
   "source": [
    "# compound groupby (weird example bc name is unique - have only one cat var in this demo)\n",
    "table.select(groupby=(table['is_old'],table['name']), limit=3)"
   ]
  },
  {
   "cell_type": "code",
   "execution_count": 28,
   "metadata": {},
   "outputs": [
    {
     "name": "stdout",
     "output_type": "stream",
     "text": [
      "DocTable: SELECT max(_documents_.age) AS max_1 \n",
      "FROM _documents_ GROUP BY _documents_.is_old\n"
     ]
    },
    {
     "data": {
      "text/plain": [
       "[0.44776169274293975, 0.7809152967349511]"
      ]
     },
     "execution_count": 28,
     "metadata": {},
     "output_type": "execute_result"
    }
   ],
   "source": [
    "# groupby clause using max aggregation function\n",
    "# gets match age for both old and young groups\n",
    "table.select(table['age'].max, groupby=table['is_old'])"
   ]
  },
  {
   "cell_type": "markdown",
   "metadata": {},
   "source": [
    "## SQL String Commands and Additional Clauses\n",
    "For cases where DocTable2 does not provide a convenient interface, you may submit raw SQL commands. These may be a bit more unwieldly, but they offer maximum flexibility. They may be used either as simply an addition to the WHERE or arbitrary end clauses, or accessed in totality."
   ]
  },
  {
   "cell_type": "code",
   "execution_count": 29,
   "metadata": {},
   "outputs": [
    {
     "name": "stdout",
     "output_type": "stream",
     "text": [
      "DocTable: SELECT age,name FROM _documents_ WHERE id==\"1\"\n"
     ]
    },
    {
     "data": {
      "text/plain": [
       "{'age': 0.04379398878146823, 'name': 'user_0'}"
      ]
     },
     "execution_count": 29,
     "metadata": {},
     "output_type": "execute_result"
    }
   ],
   "source": [
    "qstr = 'SELECT age,name FROM {} WHERE id==\"{}\"'.format(table.tabname, 1)\n",
    "results = table.execute(qstr)\n",
    "dict(list(results)[0])"
   ]
  },
  {
   "cell_type": "code",
   "execution_count": 30,
   "metadata": {},
   "outputs": [
    {
     "name": "stdout",
     "output_type": "stream",
     "text": [
      "DocTable: SELECT _documents_.id, _documents_.name, _documents_.age, _documents_.is_old \n",
      "FROM _documents_ \n",
      "WHERE (is_old==\"1\")\n",
      " LIMIT ? OFFSET ?\n"
     ]
    },
    {
     "data": {
      "text/plain": [
       "[Record(id=4, name='user_3', age=0.5649107128684847, is_old=True),\n",
       " Record(id=6, name='user_5', age=0.6081281581554809, is_old=True)]"
      ]
     },
     "execution_count": 30,
     "metadata": {},
     "output_type": "execute_result"
    }
   ],
   "source": [
    "wherestr = 'is_old==\"{}\"'.format('1')\n",
    "table.select(wherestr=wherestr, limit=2)"
   ]
  },
  {
   "cell_type": "code",
   "execution_count": 31,
   "metadata": {},
   "outputs": [
    {
     "name": "stdout",
     "output_type": "stream",
     "text": [
      "DocTable: SELECT _documents_.id, _documents_.name, _documents_.age, _documents_.is_old \n",
      "FROM _documents_ \n",
      "WHERE _documents_.id <= ? AND (is_old==\"1\")\n"
     ]
    },
    {
     "data": {
      "text/plain": [
       "[Record(id=4, name='user_3', age=0.5649107128684847, is_old=True)]"
      ]
     },
     "execution_count": 31,
     "metadata": {},
     "output_type": "execute_result"
    }
   ],
   "source": [
    "# combine whrstr with structured query where clause\n",
    "wherestr = 'is_old==\"{}\"'.format('1')\n",
    "table.select(where=table['id']<=5, wherestr=wherestr)"
   ]
  },
  {
   "cell_type": "code",
   "execution_count": 32,
   "metadata": {},
   "outputs": [
    {
     "name": "stdout",
     "output_type": "stream",
     "text": [
      "DocTable: SELECT _documents_.id, _documents_.name, _documents_.age, _documents_.is_old \n",
      "FROM _documents_ \n",
      "WHERE _documents_.id <= ? AND (is_old==\"1\")\n"
     ]
    },
    {
     "data": {
      "text/plain": [
       "[Record(id=4, name='user_3', age=0.5649107128684847, is_old=True)]"
      ]
     },
     "execution_count": 32,
     "metadata": {},
     "output_type": "execute_result"
    }
   ],
   "source": [
    "# combine whrstr with structured query where clause\n",
    "wherestr = 'is_old==\"{}\"'.format('1')\n",
    "table.select(where=table['id']<=5, wherestr=wherestr)"
   ]
  },
  {
   "cell_type": "markdown",
   "metadata": {},
   "source": [
    "## Count Method and Get Next ID\n",
    "```.count()``` is a convenience method. Mostly the same could be accomplished by ```db.select_first(db['id'].count)```, but this requires no reference to a specific column.\n",
    "\n",
    "```.next_id()``` is especially useful if one hopes to enter the id (or any primary key column) into new rows manually. Especially useful because SQL engines don't provide new ids except when a single insert is performed."
   ]
  },
  {
   "cell_type": "code",
   "execution_count": 33,
   "metadata": {},
   "outputs": [
    {
     "name": "stdout",
     "output_type": "stream",
     "text": [
      "DocTable: SELECT count() AS count_1 \n",
      "FROM _documents_\n",
      " LIMIT ? OFFSET ?\n"
     ]
    },
    {
     "data": {
      "text/plain": [
       "10"
      ]
     },
     "execution_count": 33,
     "metadata": {},
     "output_type": "execute_result"
    }
   ],
   "source": [
    "table.count()"
   ]
  },
  {
   "cell_type": "code",
   "execution_count": 34,
   "metadata": {},
   "outputs": [
    {
     "name": "stdout",
     "output_type": "stream",
     "text": [
      "DocTable: SELECT count() AS count_1 \n",
      "FROM _documents_ \n",
      "WHERE _documents_.age < ?\n",
      " LIMIT ? OFFSET ?\n"
     ]
    },
    {
     "data": {
      "text/plain": [
       "7"
      ]
     },
     "execution_count": 34,
     "metadata": {},
     "output_type": "execute_result"
    }
   ],
   "source": [
    "table.count(table['age'] < 0.5)"
   ]
  },
  {
   "cell_type": "markdown",
   "metadata": {},
   "source": [
    "## Select as Pandas Series and DataFrame\n",
    "These are especially useful when working with metadata because Pandas provides robust descriptive and plotting features than SQL alone. Good for generating sample information."
   ]
  },
  {
   "cell_type": "code",
   "execution_count": 35,
   "metadata": {},
   "outputs": [
    {
     "name": "stdout",
     "output_type": "stream",
     "text": [
      "DocTable: SELECT _documents_.age \n",
      "FROM _documents_\n"
     ]
    },
    {
     "data": {
      "text/plain": [
       "0    0.043794\n",
       "1    0.320839\n",
       "dtype: float64"
      ]
     },
     "execution_count": 35,
     "metadata": {},
     "output_type": "execute_result"
    }
   ],
   "source": [
    "# must provide only a single column\n",
    "table.select_series(table['age']).head(2)"
   ]
  },
  {
   "cell_type": "code",
   "execution_count": 36,
   "metadata": {},
   "outputs": [
    {
     "name": "stdout",
     "output_type": "stream",
     "text": [
      "DocTable: SELECT _documents_.age \n",
      "FROM _documents_\n"
     ]
    },
    {
     "data": {
      "text/plain": [
       "0.025    0.056920\n",
       "0.985    0.757589\n",
       "dtype: float64"
      ]
     },
     "execution_count": 36,
     "metadata": {},
     "output_type": "execute_result"
    }
   ],
   "source": [
    "table.select_series(table['age']).quantile([0.025, 0.985])"
   ]
  },
  {
   "cell_type": "code",
   "execution_count": 37,
   "metadata": {},
   "outputs": [
    {
     "name": "stdout",
     "output_type": "stream",
     "text": [
      "DocTable: SELECT _documents_.id, _documents_.age \n",
      "FROM _documents_\n"
     ]
    },
    {
     "data": {
      "text/html": [
       "<div>\n",
       "<style scoped>\n",
       "    .dataframe tbody tr th:only-of-type {\n",
       "        vertical-align: middle;\n",
       "    }\n",
       "\n",
       "    .dataframe tbody tr th {\n",
       "        vertical-align: top;\n",
       "    }\n",
       "\n",
       "    .dataframe thead th {\n",
       "        text-align: right;\n",
       "    }\n",
       "</style>\n",
       "<table border=\"1\" class=\"dataframe\">\n",
       "  <thead>\n",
       "    <tr style=\"text-align: right;\">\n",
       "      <th></th>\n",
       "      <th>id</th>\n",
       "      <th>age</th>\n",
       "    </tr>\n",
       "  </thead>\n",
       "  <tbody>\n",
       "    <tr>\n",
       "      <th>0</th>\n",
       "      <td>1</td>\n",
       "      <td>0.043794</td>\n",
       "    </tr>\n",
       "    <tr>\n",
       "      <th>1</th>\n",
       "      <td>2</td>\n",
       "      <td>0.320839</td>\n",
       "    </tr>\n",
       "  </tbody>\n",
       "</table>\n",
       "</div>"
      ],
      "text/plain": [
       "   id       age\n",
       "0   1  0.043794\n",
       "1   2  0.320839"
      ]
     },
     "execution_count": 37,
     "metadata": {},
     "output_type": "execute_result"
    }
   ],
   "source": [
    "table.select_df(['id','age']).head(2)"
   ]
  },
  {
   "cell_type": "code",
   "execution_count": 38,
   "metadata": {},
   "outputs": [
    {
     "name": "stdout",
     "output_type": "stream",
     "text": [
      "DocTable: SELECT _documents_.age \n",
      "FROM _documents_\n"
     ]
    },
    {
     "data": {
      "text/html": [
       "<div>\n",
       "<style scoped>\n",
       "    .dataframe tbody tr th:only-of-type {\n",
       "        vertical-align: middle;\n",
       "    }\n",
       "\n",
       "    .dataframe tbody tr th {\n",
       "        vertical-align: top;\n",
       "    }\n",
       "\n",
       "    .dataframe thead th {\n",
       "        text-align: right;\n",
       "    }\n",
       "</style>\n",
       "<table border=\"1\" class=\"dataframe\">\n",
       "  <thead>\n",
       "    <tr style=\"text-align: right;\">\n",
       "      <th></th>\n",
       "      <th>age</th>\n",
       "    </tr>\n",
       "  </thead>\n",
       "  <tbody>\n",
       "    <tr>\n",
       "      <th>0</th>\n",
       "      <td>0.043794</td>\n",
       "    </tr>\n",
       "    <tr>\n",
       "      <th>1</th>\n",
       "      <td>0.320839</td>\n",
       "    </tr>\n",
       "  </tbody>\n",
       "</table>\n",
       "</div>"
      ],
      "text/plain": [
       "        age\n",
       "0  0.043794\n",
       "1  0.320839"
      ]
     },
     "execution_count": 38,
     "metadata": {},
     "output_type": "execute_result"
    }
   ],
   "source": [
    "table.select_df('age').head(2)"
   ]
  },
  {
   "cell_type": "code",
   "execution_count": 39,
   "metadata": {},
   "outputs": [
    {
     "name": "stdout",
     "output_type": "stream",
     "text": [
      "DocTable: SELECT _documents_.id, _documents_.age \n",
      "FROM _documents_\n"
     ]
    },
    {
     "data": {
      "text/html": [
       "<div>\n",
       "<style scoped>\n",
       "    .dataframe tbody tr th:only-of-type {\n",
       "        vertical-align: middle;\n",
       "    }\n",
       "\n",
       "    .dataframe tbody tr th {\n",
       "        vertical-align: top;\n",
       "    }\n",
       "\n",
       "    .dataframe thead th {\n",
       "        text-align: right;\n",
       "    }\n",
       "</style>\n",
       "<table border=\"1\" class=\"dataframe\">\n",
       "  <thead>\n",
       "    <tr style=\"text-align: right;\">\n",
       "      <th></th>\n",
       "      <th>id</th>\n",
       "      <th>age</th>\n",
       "    </tr>\n",
       "  </thead>\n",
       "  <tbody>\n",
       "    <tr>\n",
       "      <th>id</th>\n",
       "      <td>1.00000</td>\n",
       "      <td>0.43105</td>\n",
       "    </tr>\n",
       "    <tr>\n",
       "      <th>age</th>\n",
       "      <td>0.43105</td>\n",
       "      <td>1.00000</td>\n",
       "    </tr>\n",
       "  </tbody>\n",
       "</table>\n",
       "</div>"
      ],
      "text/plain": [
       "          id      age\n",
       "id   1.00000  0.43105\n",
       "age  0.43105  1.00000"
      ]
     },
     "execution_count": 39,
     "metadata": {},
     "output_type": "execute_result"
    }
   ],
   "source": [
    "# must provide list of cols (even for one col)\n",
    "table.select_df([table['id'],table['age']]).corr()"
   ]
  },
  {
   "cell_type": "code",
   "execution_count": 40,
   "metadata": {},
   "outputs": [
    {
     "name": "stdout",
     "output_type": "stream",
     "text": [
      "DocTable: SELECT _documents_.id, _documents_.age \n",
      "FROM _documents_\n"
     ]
    },
    {
     "data": {
      "text/html": [
       "<div>\n",
       "<style scoped>\n",
       "    .dataframe tbody tr th:only-of-type {\n",
       "        vertical-align: middle;\n",
       "    }\n",
       "\n",
       "    .dataframe tbody tr th {\n",
       "        vertical-align: top;\n",
       "    }\n",
       "\n",
       "    .dataframe thead th {\n",
       "        text-align: right;\n",
       "    }\n",
       "</style>\n",
       "<table border=\"1\" class=\"dataframe\">\n",
       "  <thead>\n",
       "    <tr style=\"text-align: right;\">\n",
       "      <th></th>\n",
       "      <th>count</th>\n",
       "      <th>mean</th>\n",
       "      <th>std</th>\n",
       "      <th>min</th>\n",
       "      <th>25%</th>\n",
       "      <th>50%</th>\n",
       "      <th>75%</th>\n",
       "      <th>max</th>\n",
       "    </tr>\n",
       "  </thead>\n",
       "  <tbody>\n",
       "    <tr>\n",
       "      <th>id</th>\n",
       "      <td>10.0</td>\n",
       "      <td>5.500000</td>\n",
       "      <td>3.027650</td>\n",
       "      <td>1.000000</td>\n",
       "      <td>3.250000</td>\n",
       "      <td>5.500000</td>\n",
       "      <td>7.750000</td>\n",
       "      <td>10.000000</td>\n",
       "    </tr>\n",
       "    <tr>\n",
       "      <th>age</th>\n",
       "      <td>10.0</td>\n",
       "      <td>0.374837</td>\n",
       "      <td>0.237944</td>\n",
       "      <td>0.043794</td>\n",
       "      <td>0.183425</td>\n",
       "      <td>0.376265</td>\n",
       "      <td>0.535623</td>\n",
       "      <td>0.780915</td>\n",
       "    </tr>\n",
       "  </tbody>\n",
       "</table>\n",
       "</div>"
      ],
      "text/plain": [
       "     count      mean       std       min       25%       50%       75%  \\\n",
       "id    10.0  5.500000  3.027650  1.000000  3.250000  5.500000  7.750000   \n",
       "age   10.0  0.374837  0.237944  0.043794  0.183425  0.376265  0.535623   \n",
       "\n",
       "           max  \n",
       "id   10.000000  \n",
       "age   0.780915  "
      ]
     },
     "execution_count": 40,
     "metadata": {},
     "output_type": "execute_result"
    }
   ],
   "source": [
    "table.select_df([table['id'],table['age']]).describe().T"
   ]
  },
  {
   "cell_type": "code",
   "execution_count": 41,
   "metadata": {},
   "outputs": [
    {
     "name": "stdout",
     "output_type": "stream",
     "text": [
      "DocTable: SELECT _documents_.age \n",
      "FROM _documents_\n",
      "DocTable: SELECT _documents_.id, _documents_.age \n",
      "FROM _documents_\n"
     ]
    },
    {
     "data": {
      "text/html": [
       "<div>\n",
       "<style scoped>\n",
       "    .dataframe tbody tr th:only-of-type {\n",
       "        vertical-align: middle;\n",
       "    }\n",
       "\n",
       "    .dataframe tbody tr th {\n",
       "        vertical-align: top;\n",
       "    }\n",
       "\n",
       "    .dataframe thead tr th {\n",
       "        text-align: left;\n",
       "    }\n",
       "\n",
       "    .dataframe thead tr:last-of-type th {\n",
       "        text-align: right;\n",
       "    }\n",
       "</style>\n",
       "<table border=\"1\" class=\"dataframe\">\n",
       "  <thead>\n",
       "    <tr>\n",
       "      <th></th>\n",
       "      <th colspan=\"8\" halign=\"left\">id</th>\n",
       "      <th colspan=\"8\" halign=\"left\">age</th>\n",
       "    </tr>\n",
       "    <tr>\n",
       "      <th></th>\n",
       "      <th>count</th>\n",
       "      <th>mean</th>\n",
       "      <th>std</th>\n",
       "      <th>min</th>\n",
       "      <th>25%</th>\n",
       "      <th>50%</th>\n",
       "      <th>75%</th>\n",
       "      <th>max</th>\n",
       "      <th>count</th>\n",
       "      <th>mean</th>\n",
       "      <th>std</th>\n",
       "      <th>min</th>\n",
       "      <th>25%</th>\n",
       "      <th>50%</th>\n",
       "      <th>75%</th>\n",
       "      <th>max</th>\n",
       "    </tr>\n",
       "    <tr>\n",
       "      <th>old_grp</th>\n",
       "      <th></th>\n",
       "      <th></th>\n",
       "      <th></th>\n",
       "      <th></th>\n",
       "      <th></th>\n",
       "      <th></th>\n",
       "      <th></th>\n",
       "      <th></th>\n",
       "      <th></th>\n",
       "      <th></th>\n",
       "      <th></th>\n",
       "      <th></th>\n",
       "      <th></th>\n",
       "      <th></th>\n",
       "      <th></th>\n",
       "      <th></th>\n",
       "    </tr>\n",
       "  </thead>\n",
       "  <tbody>\n",
       "    <tr>\n",
       "      <th>False</th>\n",
       "      <td>5.0</td>\n",
       "      <td>4.0</td>\n",
       "      <td>3.162278</td>\n",
       "      <td>1.0</td>\n",
       "      <td>2.0</td>\n",
       "      <td>3.0</td>\n",
       "      <td>5.0</td>\n",
       "      <td>9.0</td>\n",
       "      <td>5.0</td>\n",
       "      <td>0.182993</td>\n",
       "      <td>0.124028</td>\n",
       "      <td>0.043794</td>\n",
       "      <td>0.102131</td>\n",
       "      <td>0.142750</td>\n",
       "      <td>0.305451</td>\n",
       "      <td>0.320839</td>\n",
       "    </tr>\n",
       "    <tr>\n",
       "      <th>True</th>\n",
       "      <td>5.0</td>\n",
       "      <td>7.0</td>\n",
       "      <td>2.236068</td>\n",
       "      <td>4.0</td>\n",
       "      <td>6.0</td>\n",
       "      <td>7.0</td>\n",
       "      <td>8.0</td>\n",
       "      <td>10.0</td>\n",
       "      <td>5.0</td>\n",
       "      <td>0.566681</td>\n",
       "      <td>0.141405</td>\n",
       "      <td>0.431691</td>\n",
       "      <td>0.447762</td>\n",
       "      <td>0.564911</td>\n",
       "      <td>0.608128</td>\n",
       "      <td>0.780915</td>\n",
       "    </tr>\n",
       "  </tbody>\n",
       "</table>\n",
       "</div>"
      ],
      "text/plain": [
       "           id                                            age            \\\n",
       "        count mean       std  min  25%  50%  75%   max count      mean   \n",
       "old_grp                                                                  \n",
       "False     5.0  4.0  3.162278  1.0  2.0  3.0  5.0   9.0   5.0  0.182993   \n",
       "True      5.0  7.0  2.236068  4.0  6.0  7.0  8.0  10.0   5.0  0.566681   \n",
       "\n",
       "                                                                     \n",
       "              std       min       25%       50%       75%       max  \n",
       "old_grp                                                              \n",
       "False    0.124028  0.043794  0.102131  0.142750  0.305451  0.320839  \n",
       "True     0.141405  0.431691  0.447762  0.564911  0.608128  0.780915  "
      ]
     },
     "execution_count": 41,
     "metadata": {},
     "output_type": "execute_result"
    }
   ],
   "source": [
    "mean_age = table.select_series(table['age']).mean()\n",
    "df = table.select_df([table['id'],table['age']])\n",
    "df['old_grp'] = df['age'] > mean_age\n",
    "df.groupby('old_grp').describe()"
   ]
  },
  {
   "cell_type": "code",
   "execution_count": 42,
   "metadata": {},
   "outputs": [
    {
     "name": "stdout",
     "output_type": "stream",
     "text": [
      "DocTable: SELECT _documents_.age \n",
      "FROM _documents_\n",
      "DocTable: SELECT _documents_.name, _documents_.age \n",
      "FROM _documents_\n"
     ]
    },
    {
     "data": {
      "text/html": [
       "<div>\n",
       "<style scoped>\n",
       "    .dataframe tbody tr th:only-of-type {\n",
       "        vertical-align: middle;\n",
       "    }\n",
       "\n",
       "    .dataframe tbody tr th {\n",
       "        vertical-align: top;\n",
       "    }\n",
       "\n",
       "    .dataframe thead th {\n",
       "        text-align: right;\n",
       "    }\n",
       "</style>\n",
       "<table border=\"1\" class=\"dataframe\">\n",
       "  <thead>\n",
       "    <tr style=\"text-align: right;\">\n",
       "      <th></th>\n",
       "      <th>first_name</th>\n",
       "      <th>var_age</th>\n",
       "    </tr>\n",
       "    <tr>\n",
       "      <th>old_grp</th>\n",
       "      <th></th>\n",
       "      <th></th>\n",
       "    </tr>\n",
       "  </thead>\n",
       "  <tbody>\n",
       "    <tr>\n",
       "      <th>False</th>\n",
       "      <td>user_0</td>\n",
       "      <td>0.015383</td>\n",
       "    </tr>\n",
       "    <tr>\n",
       "      <th>True</th>\n",
       "      <td>user_3</td>\n",
       "      <td>0.019995</td>\n",
       "    </tr>\n",
       "  </tbody>\n",
       "</table>\n",
       "</div>"
      ],
      "text/plain": [
       "        first_name   var_age\n",
       "old_grp                     \n",
       "False       user_0  0.015383\n",
       "True        user_3  0.019995"
      ]
     },
     "execution_count": 42,
     "metadata": {},
     "output_type": "execute_result"
    }
   ],
   "source": [
    "# more complicated groupby aggregation.\n",
    "# calculates the variance both for entries above and below average age\n",
    "mean_age = table.select_series(table['age']).mean()\n",
    "df = table.select_df([table['name'],table['age']])\n",
    "df['old_grp'] = df['age']>mean_age\n",
    "df.groupby('old_grp').agg(**{\n",
    "    'first_name':pd.NamedAgg(column='name', aggfunc='first'),\n",
    "    'var_age':pd.NamedAgg(column='age', aggfunc=np.var),\n",
    "})"
   ]
  },
  {
   "cell_type": "markdown",
   "metadata": {},
   "source": [
    "# Select with Buffer\n",
    "In cases where you have many rows or each row contains a lot of data, you may want to perform a select query which makes requests in chunks. This is performed using the SQL OFFSET command, and querying up to buffsize while yielding each returned row. This system is designed this way because the underlying sql engine buffers all rows retreived from a query, and thus there is no way to stream data into memory without this system.\n",
    "\n",
    "NOTE: The limit keyword is incompatible with this method - it will return all results. A workaround is to use the approx_max_rows param, which will return at minimum this number of rows, at max the specified number of rows plus buffsize."
   ]
  },
  {
   "cell_type": "code",
   "execution_count": 43,
   "metadata": {},
   "outputs": [
    {
     "name": "stdout",
     "output_type": "stream",
     "text": [
      "[Record(id=2, name='user_1', age=0.32083938549074387, is_old=False), Record(id=4, name='user_3', age=0.5649107128684847, is_old=True)]\n",
      "[Record(id=6, name='user_5', age=0.6081281581554809, is_old=True), Record(id=8, name='user_7', age=0.7809152967349511, is_old=True)]\n",
      "[Record(id=10, name='user_9', age=0.431690999080828, is_old=False)]\n",
      "[]\n"
     ]
    }
   ],
   "source": [
    "for row_chunk in table.select_chunks(chunksize=2, where=(table['id']%2)==0, verbose=False):\n",
    "    print(row_chunk)"
   ]
  }
 ],
 "metadata": {
  "interpreter": {
   "hash": "80712910726593b564a07c7ac6087ce3072c1b43af7fa58c28aea85a2c346dd3"
  },
  "kernelspec": {
   "display_name": "Python 3",
   "language": "python",
   "name": "python3"
  },
  "language_info": {
   "codemirror_mode": {
    "name": "ipython",
    "version": 3
   },
   "file_extension": ".py",
   "mimetype": "text/x-python",
   "name": "python",
   "nbconvert_exporter": "python",
   "pygments_lexer": "ipython3",
   "version": "3.8.5"
  }
 },
 "nbformat": 4,
 "nbformat_minor": 4
}
