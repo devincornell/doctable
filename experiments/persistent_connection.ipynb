{
 "cells": [
  {
   "cell_type": "code",
   "execution_count": 1,
   "metadata": {},
   "outputs": [],
   "source": [
    "import tempfile\n",
    "import sys\n",
    "sys.path.append('..')\n",
    "import doctable"
   ]
  },
  {
   "cell_type": "code",
   "execution_count": 9,
   "metadata": {},
   "outputs": [],
   "source": [
    "@doctable.schema\n",
    "class Record:\n",
    "    __slots__ = []\n",
    "    id: int = doctable.IDCol()\n",
    "    name: str = doctable.Col(nullable=False)\n",
    "\n",
    "tmpfolder = tempfile.TemporaryDirectory()\n",
    "rtab = doctable.DocTable(schema=Record, target=f'{tmpfolder.name}/mytable.db', new_db=True, persistent_conn=False)\n",
    "rtab._conn"
   ]
  },
  {
   "cell_type": "code",
   "execution_count": 8,
   "metadata": {},
   "outputs": [
    {
     "name": "stdout",
     "output_type": "stream",
     "text": [
      "3.79 s ± 182 ms per loop (mean ± std. dev. of 7 runs, 1 loop each)\n",
      "3.43 s ± 190 ms per loop (mean ± std. dev. of 7 runs, 1 loop each)\n"
     ]
    },
    {
     "data": {
      "text/plain": [
       "<sqlalchemy.engine.result.ResultProxy at 0x7f11d52e6a30>"
      ]
     },
     "execution_count": 8,
     "metadata": {},
     "output_type": "execute_result"
    }
   ],
   "source": [
    "ex_record = Record(name='devin cornell')\n",
    "\n",
    "def insert_connectionless(tab: doctable.DocTable, n, record=ex_record):\n",
    "    for i in range(n):\n",
    "        tab.insert(ex_record)\n",
    "        \n",
    "def insert_context(tab: doctable.DocTable, n, record=ex_record):\n",
    "    with tab:\n",
    "        for i in range(n):\n",
    "            tab.insert(ex_record)\n",
    "        \n",
    "rtab.delete()\n",
    "%timeit insert_connectionless(rtab, 1000)\n",
    "rtab.delete()\n",
    "insert_connectionless(rtab, 100)\n",
    "rtab.delete()\n",
    "%timeit insert_context(rtab, 1000)\n",
    "rtab.delete()\n",
    "insert_context(rtab, 100)\n",
    "rtab.delete()"
   ]
  }
 ],
 "metadata": {
  "kernelspec": {
   "display_name": "Python 3.8.5 ('base')",
   "language": "python",
   "name": "python3"
  },
  "language_info": {
   "codemirror_mode": {
    "name": "ipython",
    "version": 3
   },
   "file_extension": ".py",
   "mimetype": "text/x-python",
   "name": "python",
   "nbconvert_exporter": "python",
   "pygments_lexer": "ipython3",
   "version": "3.8.5"
  },
  "orig_nbformat": 4,
  "vscode": {
   "interpreter": {
    "hash": "6655beaf7f57a241ed2fe3a58b558d568db09842d57c904b8c0db510272f5c22"
   }
  }
 },
 "nbformat": 4,
 "nbformat_minor": 2
}
