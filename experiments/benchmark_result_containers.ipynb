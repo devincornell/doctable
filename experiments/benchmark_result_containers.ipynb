{
 "cells": [
  {
   "cell_type": "code",
   "execution_count": 1,
   "metadata": {},
   "outputs": [],
   "source": [
    "import sys\n",
    "sys.path.append('..')\n",
    "import doctable"
   ]
  },
  {
   "cell_type": "code",
   "execution_count": 35,
   "metadata": {},
   "outputs": [
    {
     "name": "stdout",
     "output_type": "stream",
     "text": [
      "insertion\n",
      "26.5 ms ± 2.85 ms per loop (mean ± std. dev. of 7 runs, 10 loops each)\n",
      "24.6 ms ± 1.19 ms per loop (mean ± std. dev. of 7 runs, 10 loops each)\n",
      "162000\n",
      "select\n",
      "631 ms ± 6.05 ms per loop (mean ± std. dev. of 7 runs, 1 loop each)\n",
      "628 ms ± 9.7 ms per loop (mean ± std. dev. of 7 runs, 1 loop each)\n",
      "804 ms ± 36.9 ms per loop (mean ± std. dev. of 7 runs, 1 loop each)\n"
     ]
    },
    {
     "data": {
      "text/plain": [
       "''"
      ]
     },
     "execution_count": 35,
     "metadata": {},
     "output_type": "execute_result"
    }
   ],
   "source": [
    "import dataclasses\n",
    "import datetime\n",
    "import typing\n",
    "@dataclasses.dataclass(repr=False)\n",
    "class Row(doctable.DocTableSchema):\n",
    "    payload: typing.Any\n",
    "    idx: int = doctable.IDCol()\n",
    "    updated: datetime.datetime = doctable.UpdatedCol()\n",
    "\n",
    "class RowList(list):\n",
    "    def show_rows(self):\n",
    "        for el in self:\n",
    "            print(f'{el}')\n",
    "            \n",
    "class RowGroup:\n",
    "    def __init__(self, rows):\n",
    "        self.dat = dict()\n",
    "        for row in rows:\n",
    "            k = row['payload'] % 10\n",
    "            self.dat.setdefault(k, list())\n",
    "            self.dat[k].append(row)\n",
    "    def count(self):\n",
    "        print({k:len(v) for k,v in self.dat.items()})\n",
    "        \n",
    "\n",
    "db = doctable.DocTable(schema=Row, target=':memory:')\n",
    "\n",
    "print('insertion')\n",
    "n = 1000\n",
    "%timeit db.insert(list(Row(i) for i in range(n)))\n",
    "%timeit db.insert(RowList(Row(i) for i in range(n)))\n",
    "print(db.count())\n",
    "\n",
    "print('select')\n",
    "%timeit db.select()\n",
    "%timeit db.select(result_container=RowList)\n",
    "%timeit db.select(result_container=RowGroup)\n",
    "''"
   ]
  },
  {
   "cell_type": "code",
   "execution_count": 25,
   "metadata": {},
   "outputs": [
    {
     "data": {
      "text/plain": [
       "False"
      ]
     },
     "execution_count": 25,
     "metadata": {},
     "output_type": "execute_result"
    }
   ],
   "source": [
    "isinstance(RowList, list)"
   ]
  },
  {
   "cell_type": "code",
   "execution_count": 38,
   "metadata": {},
   "outputs": [
    {
     "name": "stdout",
     "output_type": "stream",
     "text": [
      "base\n",
      "40.7 ms ± 3.24 ms per loop (mean ± std. dev. of 7 runs, 10 loops each)\n",
      "39.4 ms ± 1.25 ms per loop (mean ± std. dev. of 7 runs, 10 loops each)\n",
      "comprehension\n",
      "59.5 ms ± 1.33 ms per loop (mean ± std. dev. of 7 runs, 10 loops each)\n",
      "from iterator\n",
      "73.8 ms ± 423 µs per loop (mean ± std. dev. of 7 runs, 10 loops each)\n",
      "74.5 ms ± 1.27 ms per loop (mean ± std. dev. of 7 runs, 10 loops each)\n",
      "shallow copy\n",
      "70.5 ms ± 602 µs per loop (mean ± std. dev. of 7 runs, 10 loops each)\n",
      "71.9 ms ± 1.08 ms per loop (mean ± std. dev. of 7 runs, 10 loops each)\n",
      "50.1 ms ± 750 µs per loop (mean ± std. dev. of 7 runs, 10 loops each)\n"
     ]
    }
   ],
   "source": [
    "class MySequence(list):\n",
    "    def sum(self):\n",
    "        return sum(self)\n",
    "\n",
    "n = 1000000\n",
    "    \n",
    "print('base')\n",
    "%timeit seq = list(range(n)) # x\n",
    "%timeit seq = MySequence(range(n)) # x\n",
    "\n",
    "print('comprehension')\n",
    "%timeit seq = [i for i in range(n)] # x*1.3\n",
    "\n",
    "print('from iterator')\n",
    "%timeit seq = list(i for i in range(n)) # x*1.9\n",
    "%timeit seq = MySequence(i for i in range(n)) # x*1.9\n",
    "\n",
    "print('shallow copy')\n",
    "%timeit seq = list([i for i in range(n)]) # x*2.0\n",
    "%timeit seq = MySequence([i for i in range(n)]) # x*2.0\n",
    "%timeit seq = MySequence(list(range(n))) # x*1.3"
   ]
  },
  {
   "cell_type": "code",
   "execution_count": null,
   "metadata": {},
   "outputs": [],
   "source": []
  },
  {
   "cell_type": "code",
   "execution_count": null,
   "metadata": {},
   "outputs": [],
   "source": []
  },
  {
   "cell_type": "code",
   "execution_count": null,
   "metadata": {},
   "outputs": [],
   "source": []
  }
 ],
 "metadata": {
  "kernelspec": {
   "display_name": "Python 3",
   "language": "python",
   "name": "python3"
  },
  "language_info": {
   "codemirror_mode": {
    "name": "ipython",
    "version": 3
   },
   "file_extension": ".py",
   "mimetype": "text/x-python",
   "name": "python",
   "nbconvert_exporter": "python",
   "pygments_lexer": "ipython3",
   "version": "3.8.5"
  }
 },
 "nbformat": 4,
 "nbformat_minor": 4
}
