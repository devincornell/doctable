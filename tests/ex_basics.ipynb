{
 "cells": [
  {
   "cell_type": "code",
   "execution_count": 1,
   "metadata": {},
   "outputs": [],
   "source": [
    "import sys\n",
    "sys.path.append('../')\n",
    "import newtable\n",
    "import pprint"
   ]
  },
  {
   "cell_type": "code",
   "execution_count": 2,
   "metadata": {},
   "outputs": [
    {
     "data": {
      "text/plain": [
       "ConnectCore(target=':memory:', dialect='sqlite', engine=Engine(sqlite:///:memory:), metadata=MetaData())"
      ]
     },
     "execution_count": 2,
     "metadata": {},
     "output_type": "execute_result"
    }
   ],
   "source": [
    "core = newtable.ConnectCore.open(\n",
    "    target=':memory:', \n",
    "    dialect='sqlite'\n",
    ")\n",
    "core"
   ]
  },
  {
   "cell_type": "code",
   "execution_count": 3,
   "metadata": {},
   "outputs": [
    {
     "data": {
      "text/plain": [
       "Field(name=None,type=None,default=<dataclasses._MISSING_TYPE object at 0x7f9931e1d160>,default_factory=<dataclasses._MISSING_TYPE object at 0x7f9931e1d160>,init=True,repr=True,hash=None,compare=True,metadata=mappingproxy({}),_field_type=None)"
      ]
     },
     "execution_count": 3,
     "metadata": {},
     "output_type": "execute_result"
    }
   ],
   "source": [
    "import dataclasses\n",
    "f = dataclasses.field()\n",
    "f"
   ]
  },
  {
   "cell_type": "code",
   "execution_count": 4,
   "metadata": {},
   "outputs": [
    {
     "name": "stdout",
     "output_type": "stream",
     "text": [
      "[{'default': None,\n",
      "  'name': 'age',\n",
      "  'nullable': True,\n",
      "  'primary_key': 0,\n",
      "  'type': INTEGER()},\n",
      " {'default': None,\n",
      "  'name': 'id',\n",
      "  'nullable': True,\n",
      "  'primary_key': 0,\n",
      "  'type': INTEGER()},\n",
      " {'default': None,\n",
      "  'name': 'name',\n",
      "  'nullable': True,\n",
      "  'primary_key': 0,\n",
      "  'type': VARCHAR()}]\n"
     ]
    }
   ],
   "source": [
    "@newtable.table_schema\n",
    "class MyContainer0:\n",
    "    id: int\n",
    "    name: str\n",
    "    age: int\n",
    "\n",
    "with core.emit_ddl() as emitter:\n",
    "    tab0 = emitter.create_table(container_type=MyContainer0)\n",
    "pprint.pprint(core.inspect_columns('MyContainer0'))"
   ]
  },
  {
   "cell_type": "code",
   "execution_count": 5,
   "metadata": {},
   "outputs": [
    {
     "name": "stdout",
     "output_type": "stream",
     "text": [
      "[(50, None, 'Devin J. Cornell'), (49, None, 'Dorothy Andrews')]\n"
     ]
    }
   ],
   "source": [
    "with core.query() as q:\n",
    "    q.insert_multi(tab0, [\n",
    "        {'name': 'Devin J. Cornell', 'age': 50},\n",
    "        {'name': 'Dorothy Andrews', 'age': 49},\n",
    "    ])\n",
    "    print(q.select(tab0).all())"
   ]
  },
  {
   "cell_type": "code",
   "execution_count": 6,
   "metadata": {},
   "outputs": [
    {
     "name": "stdout",
     "output_type": "stream",
     "text": [
      "[MyContainer0(id=None, name='Devin J. Cornell', age=50), MyContainer0(id=None, name='Dorothy Andrews', age=49), MyContainer0(id=0, name='John Doe', age=30)]\n"
     ]
    }
   ],
   "source": [
    "with tab0.query() as q:\n",
    "    q.insert_single(MyContainer0(id=0, name='John Doe', age=30))\n",
    "    print(q.select())"
   ]
  },
  {
   "cell_type": "code",
   "execution_count": 7,
   "metadata": {},
   "outputs": [
    {
     "name": "stdout",
     "output_type": "stream",
     "text": [
      "['MyContainer0']\n"
     ]
    }
   ],
   "source": [
    "# alternately you can use the core.connect() context manager \n",
    "# with the doctable factory method constructor\n",
    "@newtable.table_schema\n",
    "class MyContainer01:\n",
    "    id: int\n",
    "    name: str\n",
    "    age: int\n",
    "\n",
    "with core.connect() as conn:\n",
    "    tab0 = newtable.DocTable.from_container(MyContainer01, core=core)\n",
    "    conn.commit()\n",
    "print(core.inspect_table_names())"
   ]
  },
  {
   "cell_type": "code",
   "execution_count": 8,
   "metadata": {},
   "outputs": [
    {
     "name": "stdout",
     "output_type": "stream",
     "text": [
      "[{'name': 'id', 'type': INTEGER(), 'nullable': True, 'default': None, 'primary_key': 1}, {'name': 'added', 'type': DATETIME(), 'nullable': True, 'default': None, 'primary_key': 0}, {'name': 'age', 'type': INTEGER(), 'nullable': True, 'default': None, 'primary_key': 0}, {'name': 'name', 'type': VARCHAR(), 'nullable': True, 'default': None, 'primary_key': 0}, {'name': 'updated', 'type': DATETIME(), 'nullable': True, 'default': None, 'primary_key': 0}]\n",
      "MyContainer1(name='John Doe', age=30, id=MISSING, updated=MISSING, added=MISSING)\n",
      "[MyContainer1(name='John Doe', age=30, id=1, updated=datetime.datetime(2023, 10, 24, 0, 12, 34, 855209), added=datetime.datetime(2023, 10, 24, 0, 12, 34, 855206))]\n"
     ]
    }
   ],
   "source": [
    "import datetime\n",
    "@newtable.table_schema(table_name='mytable1')\n",
    "class MyContainer1:\n",
    "    name: str\n",
    "    age: int\n",
    "    id: int = newtable.Column(\n",
    "        column_args=newtable.ColumnArgs(order=0, primary_key=True, autoincrement=True),\n",
    "    )\n",
    "    updated: datetime.datetime = newtable.Column(\n",
    "        column_args=newtable.ColumnArgs(default=datetime.datetime.utcnow),\n",
    "    )\n",
    "    added: datetime.datetime = newtable.Column(\n",
    "        column_args=newtable.ColumnArgs(\n",
    "            default=datetime.datetime.utcnow, \n",
    "            onupdate=datetime.datetime.utcnow\n",
    "        )\n",
    "    )\n",
    "\n",
    "with core.emit_ddl() as emitter:\n",
    "    tab1 = emitter.create_table_if_not_exists(container_type=MyContainer1)\n",
    "print(core.inspect_columns('mytable1'))\n",
    "o = MyContainer1(name='John Doe', age=30)\n",
    "print(o)\n",
    "with tab1.query() as q:\n",
    "    q.insert_single(o)\n",
    "    print(q.select())"
   ]
  }
 ],
 "metadata": {
  "kernelspec": {
   "display_name": "Python 3 (ipykernel)",
   "language": "python",
   "name": "python3"
  },
  "language_info": {
   "codemirror_mode": {
    "name": "ipython",
    "version": 3
   },
   "file_extension": ".py",
   "mimetype": "text/x-python",
   "name": "python",
   "nbconvert_exporter": "python",
   "pygments_lexer": "ipython3",
   "version": "3.9.13"
  }
 },
 "nbformat": 4,
 "nbformat_minor": 2
}
