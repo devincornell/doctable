{
 "cells": [
  {
   "cell_type": "code",
   "execution_count": 1,
   "metadata": {},
   "outputs": [
    {
     "name": "stdout",
     "output_type": "stream",
     "text": [
      "1.1 ms ± 36.7 µs per loop (mean ± std. dev. of 7 runs, 1000 loops each)\n",
      "2.88 ms ± 6.98 µs per loop (mean ± std. dev. of 7 runs, 100 loops each)\n",
      "552 µs ± 1.71 µs per loop (mean ± std. dev. of 7 runs, 1000 loops each)\n",
      "435 µs ± 9.17 µs per loop (mean ± std. dev. of 7 runs, 1000 loops each)\n",
      "7.61 ms ± 124 µs per loop (mean ± std. dev. of 7 runs, 100 loops each)\n",
      "6.82 ms ± 36.2 µs per loop (mean ± std. dev. of 7 runs, 100 loops each)\n"
     ]
    }
   ],
   "source": [
    "import copy\n",
    "import dataclasses\n",
    "@dataclasses.dataclass\n",
    "class MyObj:\n",
    "    name: str\n",
    "    age: int\n",
    "    height: float\n",
    "\n",
    "    def asdict(self):\n",
    "        return dataclasses.asdict(self)\n",
    "    def asdict_nonone(self):\n",
    "        return {k: v for k, v in dataclasses.asdict(self).items() if v is not None}\n",
    "\n",
    "empty = {'name': None, 'age': None, 'height': None}\n",
    "emptyobj = MyObj(**empty)\n",
    "\n",
    "\n",
    "vals = list(range(1000))\n",
    "vs1 = [{'age': i} for i in vals]\n",
    "vs2 = [{'height': i, 'age': i, 'name': f'{i}_'} for i in vals]\n",
    "def test_func0():\n",
    "    vals = list()\n",
    "    for act in vs1:\n",
    "        vals.append(MyObj(**{k:act.get(k, empty[k]) for k,v in empty.items()}))\n",
    "    return vals\n",
    "\n",
    "def test_func01():\n",
    "    vals = list()\n",
    "    for act in vs1:\n",
    "        new = copy.copy(emptyobj)\n",
    "        for k,v in act.items():\n",
    "            setattr(new, k, v)\n",
    "        vals.append(new)\n",
    "    return vals\n",
    "\n",
    "def test_func1():\n",
    "    return [MyObj(**{**empty, **v}) for v in vs1]\n",
    "def test_func2():\n",
    "    return [MyObj(**v) for v in vs2]\n",
    "testobjs = [MyObj(**v) for v in vs2]\n",
    "def test_func3():\n",
    "    return [o.asdict_nonone() for o in testobjs]\n",
    "def test_func4():\n",
    "    return [o.asdict() for o in testobjs]\n",
    "%timeit test_func0()\n",
    "%timeit test_func01()\n",
    "%timeit test_func1()\n",
    "%timeit test_func2()\n",
    "%timeit test_func3()\n",
    "%timeit test_func4()"
   ]
  }
 ],
 "metadata": {
  "kernelspec": {
   "display_name": "Python 3 (ipykernel)",
   "language": "python",
   "name": "python3"
  },
  "language_info": {
   "codemirror_mode": {
    "name": "ipython",
    "version": 3
   },
   "file_extension": ".py",
   "mimetype": "text/x-python",
   "name": "python",
   "nbconvert_exporter": "python",
   "pygments_lexer": "ipython3",
   "version": "3.9.13"
  }
 },
 "nbformat": 4,
 "nbformat_minor": 2
}
