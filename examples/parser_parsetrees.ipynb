{
 "cells": [
  {
   "cell_type": "code",
   "execution_count": 1,
   "metadata": {},
   "outputs": [],
   "source": [
    "import sys\n",
    "sys.path.append('..')\n",
    "import doctable as dt\n",
    "import spacy\n",
    "from pprint import pprint\n",
    "nlp = spacy.load('en')"
   ]
  },
  {
   "cell_type": "code",
   "execution_count": 2,
   "metadata": {},
   "outputs": [
    {
     "data": {
      "text/plain": [
       "Hat is red. Barak Obama is tall for a dude."
      ]
     },
     "execution_count": 2,
     "metadata": {},
     "output_type": "execute_result"
    }
   ],
   "source": [
    "exstr = 'Hat is red. Barak Obama is tall for a dude.'\n",
    "doc = nlp(exstr)\n",
    "doc"
   ]
  },
  {
   "cell_type": "markdown",
   "metadata": {},
   "source": [
    "## Making Parsetrees\n",
    "\n",
    "By default, `parse_tok_func=None` means it will use the vanilla `dt.DocParser.parse_tok()` method. Often times you may want to pass a lambda function specifying some of the parameters of that function, since it has a number of useful features.\n",
    "\n",
    "You can also add additional token properties to the parsetree nodes by setting dictionary values attrname->func in the `info_func_map` parameter."
   ]
  },
  {
   "cell_type": "code",
   "execution_count": 7,
   "metadata": {},
   "outputs": [
    {
     "data": {
      "text/plain": [
       "[<doctable.parsetree.ParseTree at 0x7f8424523748>,\n",
       " <doctable.parsetree.ParseTree at 0x7f83a596f7f0>]"
      ]
     },
     "execution_count": 7,
     "metadata": {},
     "output_type": "execute_result"
    }
   ],
   "source": [
    "parsetrees = dt.DocParser.get_parsetrees(doc, merge_ents=True)\n",
    "parsetrees"
   ]
  },
  {
   "cell_type": "code",
   "execution_count": 8,
   "metadata": {},
   "outputs": [
    {
     "name": "stdout",
     "output_type": "stream",
     "text": [
      "├─ (ROOT) is\n",
      "|  ├─ (nsubj) hat\n",
      "|  ├─ (acomp) red\n",
      "\n",
      "├─ (ROOT) is\n",
      "|  ├─ (nsubj) Barak Obama\n",
      "|  ├─ (acomp) tall\n",
      "|  ├─ (prep) for\n",
      "\n"
     ]
    }
   ],
   "source": [
    "for pt in parsetrees:\n",
    "    pt.print_ascii_tree()\n",
    "    print()"
   ]
  },
  {
   "cell_type": "code",
   "execution_count": 14,
   "metadata": {},
   "outputs": [
    {
     "name": "stdout",
     "output_type": "stream",
     "text": [
      "[ParseNode(hat), ParseNode(is), ParseNode(red), ParseNode(.)]\n",
      "[0, 1, 2, 3]\n",
      "['hat', 'is', 'red', '.']\n",
      "['nsubj', 'ROOT', 'acomp', 'punct']\n",
      "['NNP', 'VBZ', 'JJ', '.']\n",
      "['PROPN', 'AUX', 'ADJ', 'PUNCT']\n",
      "[{}, {}, {}, {}]\n"
     ]
    }
   ],
   "source": [
    "print([node for node in parsetrees[0]])\n",
    "print([node.i for node in parsetrees[0]]) # these five properties are inherent\n",
    "print([node.tok for node in parsetrees[0]])\n",
    "print([node.dep for node in parsetrees[0]])\n",
    "print([node.tag for node in parsetrees[0]])\n",
    "print([node.pos for node in parsetrees[0]])\n",
    "print([node.info for node in parsetrees[0]]) # info is empty here"
   ]
  },
  {
   "cell_type": "code",
   "execution_count": 22,
   "metadata": {},
   "outputs": [
    {
     "name": "stdout",
     "output_type": "stream",
     "text": [
      "[('Barak Obama', {'ent': 'PERSON'}), ('is', {'ent': ''}), ('tall', {'ent': ''}), ('for', {'ent': ''}), ('a', {'ent': ''}), ('dude', {'ent': ''}), ('.', {'ent': ''})]\n"
     ]
    }
   ],
   "source": [
    "# can also apply information to be added to the .info property of nodes\n",
    "fm = {'ent': lambda tok: tok.ent_type_}\n",
    "parsetrees = dt.DocParser.get_parsetrees(doc, merge_ents=True, info_func_map=fm)\n",
    "print([(node.tok,node.info) for node in parsetrees[1]])"
   ]
  },
  {
   "cell_type": "markdown",
   "metadata": {},
   "source": [
    "## Working With ParseTree Objects\n",
    "Parsetree objects are useful to manipulate to extract gramattical information."
   ]
  },
  {
   "cell_type": "code",
   "execution_count": null,
   "metadata": {},
   "outputs": [],
   "source": []
  },
  {
   "cell_type": "code",
   "execution_count": null,
   "metadata": {},
   "outputs": [],
   "source": []
  }
 ],
 "metadata": {
  "kernelspec": {
   "display_name": "Python 3",
   "language": "python",
   "name": "python3"
  },
  "language_info": {
   "codemirror_mode": {
    "name": "ipython",
    "version": 3
   },
   "file_extension": ".py",
   "mimetype": "text/x-python",
   "name": "python",
   "nbconvert_exporter": "python",
   "pygments_lexer": "ipython3",
   "version": "3.6.9"
  }
 },
 "nbformat": 4,
 "nbformat_minor": 4
}
