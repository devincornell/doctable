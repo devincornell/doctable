{
 "cells": [
  {
   "cell_type": "code",
   "execution_count": 1,
   "metadata": {},
   "outputs": [],
   "source": [
    "import sys\n",
    "sys.path.append('..')\n",
    "import doctable as dt\n",
    "from spacy import displacy\n",
    "import spacy\n",
    "from spacy.matcher import Matcher\n",
    "from pprint import pprint\n",
    "nlp = spacy.load('en')"
   ]
  },
  {
   "cell_type": "code",
   "execution_count": 2,
   "metadata": {},
   "outputs": [
    {
     "data": {
      "text/plain": [
       "Hat is red. Barak Obama is tall."
      ]
     },
     "execution_count": 2,
     "metadata": {},
     "output_type": "execute_result"
    }
   ],
   "source": [
    "exstr = 'Hat is red. Barak Obama is tall.'\n",
    "doc = nlp(exstr)\n",
    "doc"
   ]
  },
  {
   "cell_type": "markdown",
   "metadata": {},
   "source": [
    "## Making Parsetrees\n",
    "\n",
    "By default, `parse_tok_func=None` means it will use the internal `.parse_tok()` method passing additional arguments through the `parse_tok_args` parameter. You may add additional token info by setting dictionary values attrname->func in the `parsetree_tok_info` parameter.\n",
    "\n",
    "`def get_parsetree(cls, doc, tok_info_map=None, children_attrname='childs', merge_ents=False, spacy_ngram_matcher=None, merge_noun_chunks=False)`"
   ]
  },
  {
   "cell_type": "code",
   "execution_count": 3,
   "metadata": {},
   "outputs": [
    {
     "data": {
      "text/plain": [
       "[{'tok': 'is',\n",
       "  'dep': 'ROOT',\n",
       "  'children': [{'tok': 'hat', 'dep': 'nsubj', 'children': []},\n",
       "   {'tok': 'red', 'dep': 'acomp', 'children': []},\n",
       "   {'tok': '.', 'dep': 'punct', 'children': []}]},\n",
       " {'tok': 'is',\n",
       "  'dep': 'ROOT',\n",
       "  'children': [{'tok': 'Obama',\n",
       "    'dep': 'nsubj',\n",
       "    'children': [{'tok': 'Barak', 'dep': 'compound', 'children': []}]},\n",
       "   {'tok': 'tall', 'dep': 'acomp', 'children': []},\n",
       "   {'tok': '.', 'dep': 'punct', 'children': []}]}]"
      ]
     },
     "execution_count": 3,
     "metadata": {},
     "output_type": "execute_result"
    }
   ],
   "source": [
    "# can modify the attribute of the children\n",
    "dt.DocParser.get_parsetree(doc, children_attrname='children')"
   ]
  },
  {
   "cell_type": "code",
   "execution_count": 4,
   "metadata": {},
   "outputs": [
    {
     "data": {
      "text/plain": [
       "[{'tok': 'be',\n",
       "  'pos': 'AUX',\n",
       "  'childs': [{'tok': 'hat', 'pos': 'PROPN', 'childs': []},\n",
       "   {'tok': 'red', 'pos': 'ADJ', 'childs': []},\n",
       "   {'tok': '.', 'pos': 'PUNCT', 'childs': []}]},\n",
       " {'tok': 'be',\n",
       "  'pos': 'AUX',\n",
       "  'childs': [{'tok': 'Obama',\n",
       "    'pos': 'PROPN',\n",
       "    'childs': [{'tok': 'Barak', 'pos': 'PROPN', 'childs': []}]},\n",
       "   {'tok': 'tall', 'pos': 'ADJ', 'childs': []},\n",
       "   {'tok': '.', 'pos': 'PUNCT', 'childs': []}]}]"
      ]
     },
     "execution_count": 4,
     "metadata": {},
     "output_type": "execute_result"
    }
   ],
   "source": [
    "# can modify any applied attributes\n",
    "tok_info_map = {\n",
    "    'tok': lambda tok: dt.DocParser.parse_tok(tok, lemmatize=True),\n",
    "    'pos': lambda tok: tok.pos_,\n",
    "}\n",
    "dt.DocParser.get_parsetree(doc, tok_info_map=tok_info_map)"
   ]
  },
  {
   "cell_type": "markdown",
   "metadata": {},
   "source": [
    "### Genere Parsetrees While Applying Token Merges"
   ]
  },
  {
   "cell_type": "code",
   "execution_count": 5,
   "metadata": {},
   "outputs": [
    {
     "data": {
      "text/plain": [
       "[{'tok': 'is',\n",
       "  'dep': 'ROOT',\n",
       "  'childs': [{'tok': 'hat', 'dep': 'nsubj', 'childs': []},\n",
       "   {'tok': 'red', 'dep': 'acomp', 'childs': []},\n",
       "   {'tok': '.', 'dep': 'punct', 'childs': []}]},\n",
       " {'tok': 'is',\n",
       "  'dep': 'ROOT',\n",
       "  'childs': [{'tok': 'Barak Obama', 'dep': 'nsubj', 'childs': []},\n",
       "   {'tok': 'tall', 'dep': 'acomp', 'childs': []},\n",
       "   {'tok': '.', 'dep': 'punct', 'childs': []}]}]"
      ]
     },
     "execution_count": 5,
     "metadata": {},
     "output_type": "execute_result"
    }
   ],
   "source": [
    "# full version includes tag, pos, dep, and ent_type in addition to 'tok' and 'children'\n",
    "dt.DocParser.get_parsetree(doc, merge_ents=True)"
   ]
  },
  {
   "cell_type": "code",
   "execution_count": 6,
   "metadata": {},
   "outputs": [
    {
     "name": "stdout",
     "output_type": "stream",
     "text": [
      "[{'childs': [{'childs': [], 'dep': 'nsubj', 'tok': 'hat'},\n",
      "             {'childs': [], 'dep': 'acomp', 'tok': 'red'},\n",
      "             {'childs': [], 'dep': 'punct', 'tok': '.'}],\n",
      "  'dep': 'ROOT',\n",
      "  'tok': 'is'},\n",
      " {'childs': [{'childs': [], 'dep': 'nsubj', 'tok': 'Barak Obama'},\n",
      "             {'childs': [], 'dep': 'acomp', 'tok': 'tall.'}],\n",
      "  'dep': 'ROOT',\n",
      "  'tok': 'is'}]\n"
     ]
    }
   ],
   "source": [
    "# create spacy matcher object to pass to .get_parsetree()\n",
    "matcher = Matcher(nlp.vocab)\n",
    "matcher.add('currency', None, [{'LOWER':'tall'}, {'IS_PUNCT':True}])\n",
    "\n",
    "# you can see that \"tall.\" at the end of the sentence has been merged into a single token, \n",
    "# but still works with the parsetree\n",
    "pprint(dt.DocParser.get_parsetree(doc, spacy_ngram_matcher=matcher))\n",
    "doc = nlp(exstr) # reverts doc back to original because adding the match (called in .tokenize_doc()) modified it"
   ]
  },
  {
   "cell_type": "code",
   "execution_count": null,
   "metadata": {},
   "outputs": [],
   "source": []
  }
 ],
 "metadata": {
  "kernelspec": {
   "display_name": "Python 3",
   "language": "python",
   "name": "python3"
  },
  "language_info": {
   "codemirror_mode": {
    "name": "ipython",
    "version": 3
   },
   "file_extension": ".py",
   "mimetype": "text/x-python",
   "name": "python",
   "nbconvert_exporter": "python",
   "pygments_lexer": "ipython3",
   "version": "3.6.9"
  }
 },
 "nbformat": 4,
 "nbformat_minor": 4
}
