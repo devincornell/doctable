{
 "cells": [
  {
   "cell_type": "code",
   "execution_count": 1,
   "metadata": {},
   "outputs": [],
   "source": [
    "import sys\n",
    "sys.path.append('..')\n",
    "import doctable as dt\n",
    "from spacy import displacy\n",
    "import spacy\n",
    "nlp = spacy.load('en')"
   ]
  },
  {
   "cell_type": "code",
   "execution_count": 2,
   "metadata": {},
   "outputs": [
    {
     "data": {
      "text/plain": [
       "Hat is red. They are tall."
      ]
     },
     "execution_count": 2,
     "metadata": {},
     "output_type": "execute_result"
    }
   ],
   "source": [
    "exstr = 'Hat is red. They are tall.'\n",
    "doc = nlp(exstr)\n",
    "doc"
   ]
  },
  {
   "cell_type": "markdown",
   "metadata": {},
   "source": [
    "## Parsetrees\n",
    "\n",
    "By default, `parse_tok_func=None` means it will use the internal `.parse_tok()` method passing additional arguments through the `parse_tok_args` parameter. You may add additional token info by setting dictionary values attrname->func in the `parsetree_tok_info` parameter.\n",
    "\n",
    "Def: `get_parsetree(cls, doc, parse_tok_func=None, parse_tok_args=dict(), parsetree_tok_info=None, tok_attrname='tok', children_attrname='children')`"
   ]
  },
  {
   "cell_type": "code",
   "execution_count": 11,
   "metadata": {},
   "outputs": [
    {
     "data": {
      "text/plain": [
       "[{'tok': 'IS',\n",
       "  'children': [{'tok': 'HAT', 'children': []},\n",
       "   {'tok': 'RED', 'children': []},\n",
       "   {'tok': '.', 'children': []}]},\n",
       " {'tok': 'ARE',\n",
       "  'children': [{'tok': 'THEY', 'children': []},\n",
       "   {'tok': 'TALL', 'children': []},\n",
       "   {'tok': '.', 'children': []}]}]"
      ]
     },
     "execution_count": 11,
     "metadata": {},
     "output_type": "execute_result"
    }
   ],
   "source": [
    "# teh simplest version is to set parse_tok_func manually and then set parsetree_tok_info to an empty dict\n",
    "dt.DocParser.get_parsetree(doc, parse_tok_func=lambda tok: tok.text.upper(), parsetree_tok_info=dict())"
   ]
  },
  {
   "cell_type": "code",
   "execution_count": 3,
   "metadata": {},
   "outputs": [
    {
     "data": {
      "text/plain": [
       "[{'pos': 'AUX',\n",
       "  'tag': 'VBZ',\n",
       "  'dep': 'ROOT',\n",
       "  'ent_type': None,\n",
       "  'tok': 'is',\n",
       "  'children': [{'pos': 'PROPN',\n",
       "    'tag': 'NNP',\n",
       "    'dep': 'nsubj',\n",
       "    'ent_type': None,\n",
       "    'tok': 'hat',\n",
       "    'children': []},\n",
       "   {'pos': 'ADJ',\n",
       "    'tag': 'JJ',\n",
       "    'dep': 'acomp',\n",
       "    'ent_type': None,\n",
       "    'tok': 'red',\n",
       "    'children': []},\n",
       "   {'pos': 'PUNCT',\n",
       "    'tag': '.',\n",
       "    'dep': 'punct',\n",
       "    'ent_type': None,\n",
       "    'tok': '.',\n",
       "    'children': []}]},\n",
       " {'pos': 'AUX',\n",
       "  'tag': 'VBP',\n",
       "  'dep': 'ROOT',\n",
       "  'ent_type': None,\n",
       "  'tok': 'are',\n",
       "  'children': [{'pos': 'PRON',\n",
       "    'tag': 'PRP',\n",
       "    'dep': 'nsubj',\n",
       "    'ent_type': None,\n",
       "    'tok': 'they',\n",
       "    'children': []},\n",
       "   {'pos': 'ADJ',\n",
       "    'tag': 'JJ',\n",
       "    'dep': 'acomp',\n",
       "    'ent_type': None,\n",
       "    'tok': 'tall',\n",
       "    'children': []},\n",
       "   {'pos': 'PUNCT',\n",
       "    'tag': '.',\n",
       "    'dep': 'punct',\n",
       "    'ent_type': None,\n",
       "    'tok': '.',\n",
       "    'children': []}]}]"
      ]
     },
     "execution_count": 3,
     "metadata": {},
     "output_type": "execute_result"
    }
   ],
   "source": [
    "# full version includes tag, pos, dep, and ent_type in addition to 'tok' and 'children'\n",
    "dt.DocParser.get_parsetree(doc)"
   ]
  },
  {
   "cell_type": "code",
   "execution_count": 4,
   "metadata": {},
   "outputs": [
    {
     "data": {
      "text/plain": [
       "[{'tok': 'is',\n",
       "  'child': [{'tok': 'hat', 'child': []},\n",
       "   {'tok': 'red', 'child': []},\n",
       "   {'tok': '.', 'child': []}]},\n",
       " {'tok': 'are',\n",
       "  'child': [{'tok': 'they', 'child': []},\n",
       "   {'tok': 'tall', 'child': []},\n",
       "   {'tok': '.', 'child': []}]}]"
      ]
     },
     "execution_count": 4,
     "metadata": {},
     "output_type": "execute_result"
    }
   ],
   "source": [
    "# setting this to empty dict means it will only include the token string and the children\n",
    "# also converted children to child\n",
    "dt.DocParser.get_parsetree(doc, parsetree_tok_info={}, children_attrname='child')"
   ]
  }
 ],
 "metadata": {
  "kernelspec": {
   "display_name": "Python 3",
   "language": "python",
   "name": "python3"
  },
  "language_info": {
   "codemirror_mode": {
    "name": "ipython",
    "version": 3
   },
   "file_extension": ".py",
   "mimetype": "text/x-python",
   "name": "python",
   "nbconvert_exporter": "python",
   "pygments_lexer": "ipython3",
   "version": "3.6.9"
  }
 },
 "nbformat": 4,
 "nbformat_minor": 4
}
