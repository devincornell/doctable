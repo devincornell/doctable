{
 "cells": [
  {
   "cell_type": "code",
   "execution_count": 1,
   "metadata": {},
   "outputs": [],
   "source": [
    "import sys\n",
    "sys.path.append('..')\n",
    "import doctable as dt\n",
    "import spacy\n",
    "from pprint import pprint\n",
    "nlp = spacy.load('en')#, disable=['ner'])"
   ]
  },
  {
   "cell_type": "code",
   "execution_count": 2,
   "metadata": {},
   "outputs": [
    {
     "data": {
      "text/plain": [
       "Hat is red. He is tall for a dude."
      ]
     },
     "execution_count": 2,
     "metadata": {},
     "output_type": "execute_result"
    }
   ],
   "source": [
    "exstr = 'Hat is red. He is tall for a dude.'\n",
    "doc = nlp(exstr)\n",
    "doc"
   ]
  },
  {
   "cell_type": "markdown",
   "metadata": {},
   "source": [
    "## Making Parsetrees\n",
    "\n",
    "By default, `parse_tok_func=None` means it will use the vanilla `dt.DocParser.parse_tok()` method. Often times you may want to pass a lambda function specifying some of the parameters of that function, since it has a number of useful features.\n",
    "\n",
    "You can also add additional token properties to the parsetree nodes by setting dictionary values attrname->func in the `info_func_map` parameter."
   ]
  },
  {
   "cell_type": "code",
   "execution_count": 3,
   "metadata": {},
   "outputs": [
    {
     "data": {
      "text/plain": [
       "[ParseTree(4), ParseTree(7)]"
      ]
     },
     "execution_count": 3,
     "metadata": {},
     "output_type": "execute_result"
    }
   ],
   "source": [
    "parsetrees = dt.DocParser.get_parsetrees(doc, merge_ents=True)\n",
    "parsetrees"
   ]
  },
  {
   "cell_type": "code",
   "execution_count": 4,
   "metadata": {},
   "outputs": [
    {
     "name": "stdout",
     "output_type": "stream",
     "text": [
      "├─ (ROOT) is\n",
      "|  ├─ (nsubj) hat\n",
      "|  ├─ (acomp) red\n",
      "\n",
      "├─ (ROOT) is\n",
      "|  ├─ (nsubj) he\n",
      "|  ├─ (acomp) tall\n",
      "|  ├─ (prep) for\n",
      "\n"
     ]
    }
   ],
   "source": [
    "for pt in parsetrees:\n",
    "    pt.print_ascii_tree()\n",
    "    print()"
   ]
  },
  {
   "cell_type": "code",
   "execution_count": 5,
   "metadata": {},
   "outputs": [
    {
     "name": "stdout",
     "output_type": "stream",
     "text": [
      "[ParseNode(hat), ParseNode(is), ParseNode(red), ParseNode(.)]\n",
      "[0, 1, 2, 3]\n",
      "['hat', 'is', 'red', '.']\n",
      "['nsubj', 'ROOT', 'acomp', 'punct']\n",
      "['NNP', 'VBZ', 'JJ', '.']\n",
      "['PROPN', 'AUX', 'ADJ', 'PUNCT']\n",
      "[{}, {}, {}, {}]\n"
     ]
    }
   ],
   "source": [
    "print([node for node in parsetrees[0]])\n",
    "print([node.i for node in parsetrees[0]]) # these five properties are inherent\n",
    "print([node.tok for node in parsetrees[0]])\n",
    "print([node.dep for node in parsetrees[0]])\n",
    "print([node.tag for node in parsetrees[0]])\n",
    "print([node.pos for node in parsetrees[0]])\n",
    "print([node.info for node in parsetrees[0]]) # info is empty here"
   ]
  },
  {
   "cell_type": "code",
   "execution_count": 6,
   "metadata": {},
   "outputs": [
    {
     "name": "stdout",
     "output_type": "stream",
     "text": [
      "[('he', {'ent': ''}), ('is', {'ent': ''}), ('tall', {'ent': ''}), ('for', {'ent': ''}), ('a', {'ent': ''}), ('dude', {'ent': ''}), ('.', {'ent': ''})]\n"
     ]
    }
   ],
   "source": [
    "# can also apply information to be added to the .info property of nodes\n",
    "fm = {'ent': lambda tok: tok.ent_type_}\n",
    "parsetrees = dt.DocParser.get_parsetrees(doc, merge_ents=True, info_func_map=fm)\n",
    "print([(node.tok,node.info) for node in parsetrees[1]])"
   ]
  },
  {
   "cell_type": "markdown",
   "metadata": {},
   "source": [
    "### Storing ParseTrees\n",
    "For various reasons, you may want to work with parsetrees without the ParseTree object. To do that, you can use the `.asdict()` and `.from_dict()` methods."
   ]
  },
  {
   "cell_type": "code",
   "execution_count": 7,
   "metadata": {},
   "outputs": [
    {
     "name": "stdout",
     "output_type": "stream",
     "text": [
      "{'childs': [{'childs': [],\n",
      "             'dep': 'nsubj',\n",
      "             'ent': '',\n",
      "             'i': 0,\n",
      "             'info': {'ent': ''},\n",
      "             'pos': 'PROPN',\n",
      "             'tag': 'NNP',\n",
      "             'tok': 'hat'},\n",
      "            {'childs': [],\n",
      "             'dep': 'acomp',\n",
      "             'ent': '',\n",
      "             'i': 2,\n",
      "             'info': {'ent': ''},\n",
      "             'pos': 'ADJ',\n",
      "             'tag': 'JJ',\n",
      "             'tok': 'red'},\n",
      "            {'childs': [],\n",
      "             'dep': 'punct',\n",
      "             'ent': '',\n",
      "             'i': 3,\n",
      "             'info': {'ent': ''},\n",
      "             'pos': 'PUNCT',\n",
      "             'tag': '.',\n",
      "             'tok': '.'}],\n",
      " 'dep': 'ROOT',\n",
      " 'ent': '',\n",
      " 'i': 1,\n",
      " 'info': {'ent': ''},\n",
      " 'pos': 'AUX',\n",
      " 'tag': 'VBZ',\n",
      " 'tok': 'is'}\n"
     ]
    }
   ],
   "source": [
    "d = parsetrees[0].asdict()\n",
    "pprint(d)"
   ]
  },
  {
   "cell_type": "code",
   "execution_count": 8,
   "metadata": {},
   "outputs": [
    {
     "name": "stdout",
     "output_type": "stream",
     "text": [
      "{'childs': [{'childs': [],\n",
      "             'dep': 'nsubj',\n",
      "             'ent': '',\n",
      "             'i': 0,\n",
      "             'info': {'ent': ''},\n",
      "             'pos': 'PROPN',\n",
      "             'tag': 'NNP',\n",
      "             'tok': 'hat'},\n",
      "            {'childs': [],\n",
      "             'dep': 'acomp',\n",
      "             'ent': '',\n",
      "             'i': 2,\n",
      "             'info': {'ent': ''},\n",
      "             'pos': 'ADJ',\n",
      "             'tag': 'JJ',\n",
      "             'tok': 'red'},\n",
      "            {'childs': [],\n",
      "             'dep': 'punct',\n",
      "             'ent': '',\n",
      "             'i': 3,\n",
      "             'info': {'ent': ''},\n",
      "             'pos': 'PUNCT',\n",
      "             'tag': '.',\n",
      "             'tok': '.'}],\n",
      " 'dep': 'ROOT',\n",
      " 'ent': '',\n",
      " 'i': 1,\n",
      " 'info': {'ent': ''},\n",
      " 'pos': 'AUX',\n",
      " 'tag': 'VBZ',\n",
      " 'tok': 'is'}\n"
     ]
    }
   ],
   "source": [
    "d = dt.ParseTree(d).asdict()\n",
    "pprint(d)"
   ]
  },
  {
   "cell_type": "markdown",
   "metadata": {},
   "source": [
    "Because we want to make the pos tags and ner optional, we throw an error when they are accessed but weren't originally included in the parsing."
   ]
  },
  {
   "cell_type": "code",
   "execution_count": 9,
   "metadata": {},
   "outputs": [
    {
     "name": "stdout",
     "output_type": "stream",
     "text": [
      "couldn't access .ent\n",
      "couldn't access .pos\n"
     ]
    }
   ],
   "source": [
    "nlp2 = spacy.load('en', disable=['ner', 'tagger'])\n",
    "doc2 = nlp2(exstr)\n",
    "parsetrees = dt.DocParser.get_parsetrees(doc2, merge_ents=True, info_func_map=fm)\n",
    "try:\n",
    "    parsetrees[0][0].ent\n",
    "except AttributeError:\n",
    "    print('couldn\\'t access .ent')\n",
    "try:\n",
    "    parsetrees[0][0].pos\n",
    "except AttributeError:\n",
    "    print('couldn\\'t access .pos')"
   ]
  },
  {
   "cell_type": "markdown",
   "metadata": {},
   "source": [
    "## Working With ParseTree Objects: Iterative and Recursive\n",
    "There are two pimary ways to manipulate ParseTree objects: iteratively and recursively. They can be used iteratively using indexing, slicing, and iterating as one would do with a regular list. The ParseTree object iterates through a list of ParseNode objects which have access to a number of built-in node attributes like .tag, .dep, .tok, and .ent and .pos if NER or tagging were used to parse the spacy doc object.\n",
    "\n",
    "Alternatively, one can work with parsetrees recursively. This may be useful if your methods require you to follow chains of tokens. There are two useful built-in methods for working recursively with ParseTree objects: `.bubble_reduce()`, and `.bubble_accum()`.\n",
    "\n",
    "**`.bubble_accum()`**: allows you to provide a function that takes a ParseNode and returns a list of objects that will be accumulated after going through the entire parsetree.\n",
    "\n",
    "**`.bubble_reduce()`**: allows you to provide a function that takes a ParseNode and an input object and returns an output object. A simple token-counting example is provided below.\n",
    "\n",
    "While these methods are useful, you will probably work with ParseNodes directly when writing recursive functions. To do that, access the root-level ParseNode using the `.root` property of the ParseTree object."
   ]
  },
  {
   "cell_type": "code",
   "execution_count": 10,
   "metadata": {},
   "outputs": [
    {
     "data": {
      "text/plain": [
       "(ParseTree(6), ParseNode(Barak Obama))"
      ]
     },
     "execution_count": 10,
     "metadata": {},
     "output_type": "execute_result"
    }
   ],
   "source": [
    "sent = 'Barak Obama is the coolest cat out there.'\n",
    "doc = nlp(sent)\n",
    "parsetree = dt.DocParser.get_parsetrees(doc, merge_ents=True, merge_noun_chunks=True)[0]\n",
    "parsetree, parsetree[0]"
   ]
  },
  {
   "cell_type": "markdown",
   "metadata": {},
   "source": [
    "First let's try to get a list of named entities we applied earlier through the `info_func_map` argument of `get_parsetrees()`, both iteratively and recursively."
   ]
  },
  {
   "cell_type": "code",
   "execution_count": 11,
   "metadata": {},
   "outputs": [
    {
     "data": {
      "text/plain": [
       "[ParseNode(Barak Obama)]"
      ]
     },
     "execution_count": 11,
     "metadata": {},
     "output_type": "execute_result"
    }
   ],
   "source": [
    "# list of ents iteratively\n",
    "[node for node in parsetree if node.ent]"
   ]
  },
  {
   "cell_type": "code",
   "execution_count": 12,
   "metadata": {},
   "outputs": [
    {
     "data": {
      "text/plain": [
       "[ParseNode(Barak Obama)]"
      ]
     },
     "execution_count": 12,
     "metadata": {},
     "output_type": "execute_result"
    }
   ],
   "source": [
    "# get a list of entities recursively\n",
    "def get_ents(pnode):\n",
    "    if pnode.ent != '':\n",
    "        return [pnode]\n",
    "    else:\n",
    "        return []\n",
    "parsetree.bubble_accum(get_ents)"
   ]
  },
  {
   "cell_type": "markdown",
   "metadata": {},
   "source": [
    "In that case, the iterative appears to be easier.\n",
    "\n",
    "Now we'll try to identify subject-verb-object triplets both iteratively and recursively."
   ]
  },
  {
   "cell_type": "code",
   "execution_count": 13,
   "metadata": {},
   "outputs": [
    {
     "data": {
      "text/plain": [
       "[(ParseNode(Barak Obama), ParseNode(is), ParseNode(the coolest cat))]"
      ]
     },
     "execution_count": 13,
     "metadata": {},
     "output_type": "execute_result"
    }
   ],
   "source": [
    "# convenience function to help\n",
    "def child_dep(node, dep_type): # gets first child where node.dep==dep_type.\n",
    "    for c in node.childs:\n",
    "        if c.dep == dep_type:\n",
    "            return c\n",
    "    return None\n",
    "\n",
    "def get_triplets(parsetree):\n",
    "    triplets = list()\n",
    "    for node in parsetree:\n",
    "        if node.pos in ['AUX']:\n",
    "            rel = (child_dep(node,'nsubj'), node, child_dep(node,'attr'))\n",
    "            triplets.append(rel)\n",
    "        elif node.pos in ['VERB']:\n",
    "            rel = (child_dep(node,'nsubj'), node, child_dep(node,'dobj'))\n",
    "    return triplets\n",
    "get_triplets(parsetree)"
   ]
  },
  {
   "cell_type": "code",
   "execution_count": 14,
   "metadata": {},
   "outputs": [
    {
     "data": {
      "text/plain": [
       "[(ParseNode(Barak Obama), ParseNode(is), ParseNode(the coolest cat))]"
      ]
     },
     "execution_count": 14,
     "metadata": {},
     "output_type": "execute_result"
    }
   ],
   "source": [
    "# convenience function to help\n",
    "def child_dep(node, dep_type): # gets first child where node.dep==dep_type.\n",
    "    for c in node.childs:\n",
    "        if c.dep == dep_type:\n",
    "            return c\n",
    "    return None\n",
    "\n",
    "def get_triplets(pnode):\n",
    "    if pnode.pos in ['AUX']:\n",
    "        return [(child_dep(pnode,'nsubj'), pnode, child_dep(pnode,'attr'))]\n",
    "    elif pnode.pos in ['VERB']:\n",
    "        return [(child_dep(pnode,'nsubj'), pnode, child_dep(pnode,'dobj'))]\n",
    "    else:\n",
    "        return []\n",
    "parsetree.bubble_accum(get_triplets)"
   ]
  },
  {
   "cell_type": "markdown",
   "metadata": {},
   "source": [
    "These two approaches yielded the exact same result with similar code requirements. Here are a few examples of `.bubble_agg()`, a method used to aggregate parsetree info."
   ]
  },
  {
   "cell_type": "markdown",
   "metadata": {},
   "source": [
    "### Aggregate Method"
   ]
  },
  {
   "cell_type": "code",
   "execution_count": 15,
   "metadata": {},
   "outputs": [
    {
     "data": {
      "text/plain": [
       "6"
      ]
     },
     "execution_count": 15,
     "metadata": {},
     "output_type": "execute_result"
    }
   ],
   "source": [
    "# simply count number of nodes\n",
    "def f(pn,ct):\n",
    "    return ct + 1\n",
    "parsetree.bubble_reduce(f, 0)"
   ]
  },
  {
   "cell_type": "code",
   "execution_count": 16,
   "metadata": {},
   "outputs": [
    {
     "data": {
      "text/plain": [
       "['is', 'Barak Obama', 'the coolest cat', 'there', 'out', '.']"
      ]
     },
     "execution_count": 16,
     "metadata": {},
     "output_type": "execute_result"
    }
   ],
   "source": [
    "# simply accumulate a list of all tokens (same functionality as .accum)\n",
    "def f(pn,l):\n",
    "    return l + [pn.tok]\n",
    "parsetree.bubble_reduce(f, [])"
   ]
  },
  {
   "cell_type": "markdown",
   "metadata": {},
   "source": [
    "### Custom Recursion Function\n",
    "To work directly on the parsetree object, use the `.root` property."
   ]
  },
  {
   "cell_type": "code",
   "execution_count": 17,
   "metadata": {},
   "outputs": [
    {
     "name": "stdout",
     "output_type": "stream",
     "text": [
      "is ROOT AUX\n",
      "Barak Obama nsubj PROPN\n",
      "the coolest cat attr NOUN\n",
      "there advmod ADV\n",
      "out advmod ADV\n",
      ". punct PUNCT\n"
     ]
    }
   ],
   "source": [
    "def printnodes(pnode):\n",
    "    print(pnode.tok, pnode.dep, pnode.pos)\n",
    "    for child in pnode:\n",
    "        printnodes(child)\n",
    "\n",
    "printnodes(parsetree.root)"
   ]
  }
 ],
 "metadata": {
  "kernelspec": {
   "display_name": "Python 3",
   "language": "python",
   "name": "python3"
  },
  "language_info": {
   "codemirror_mode": {
    "name": "ipython",
    "version": 3
   },
   "file_extension": ".py",
   "mimetype": "text/x-python",
   "name": "python",
   "nbconvert_exporter": "python",
   "pygments_lexer": "ipython3",
   "version": "3.6.9"
  }
 },
 "nbformat": 4,
 "nbformat_minor": 4
}
