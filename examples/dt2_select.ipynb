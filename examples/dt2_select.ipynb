{
 "cells": [
  {
   "cell_type": "code",
   "execution_count": 1,
   "metadata": {},
   "outputs": [],
   "source": [
    "import random\n",
    "import pandas as pd\n",
    "import numpy as np\n",
    "import sys\n",
    "sys.path.append('..')\n",
    "import doctable as dt"
   ]
  },
  {
   "cell_type": "code",
   "execution_count": 2,
   "metadata": {},
   "outputs": [
    {
     "name": "stdout",
     "output_type": "stream",
     "text": [
      "DocTable2 Query: SELECT count() AS count_1 \n",
      "FROM mydocuments\n",
      " LIMIT :param_1\n",
      "<DocTable2::mydocuments ct: 0>\n"
     ]
    }
   ],
   "source": [
    "schema = (\n",
    "    ('id','integer',dict(primary_key=True, autoincrement=True)),\n",
    "    ('name','string', dict(nullable=False)),\n",
    "    ('age','integer'),\n",
    "    ('is_old', 'boolean'),\n",
    ")\n",
    "db = dt.DocTable2(schema, tabname='mydocuments', verbose=True)\n",
    "# defaults: #fname=':memory:', engine='sqlite', persistent_conn=True, new_db=True\n",
    "# fname=':memory:' is special - it loads database into memory\n",
    "print(db)"
   ]
  },
  {
   "cell_type": "code",
   "execution_count": 3,
   "metadata": {},
   "outputs": [
    {
     "name": "stdout",
     "output_type": "stream",
     "text": [
      "DocTable2 Query: SELECT count() AS count_1 \n",
      "FROM mydocuments\n",
      " LIMIT :param_1\n",
      "<DocTable2::mydocuments ct: 10>\n"
     ]
    }
   ],
   "source": [
    "N = 10\n",
    "for i in range(N):\n",
    "    age = random.random() # number in [0,1]\n",
    "    is_old = age > 0.5\n",
    "    db.insert({'name':'user_'+str(i), 'age':age, 'is_old':is_old}, verbose=False)\n",
    "print(db)"
   ]
  },
  {
   "cell_type": "markdown",
   "metadata": {},
   "source": [
    "## Regular Selects\n",
    "These functions all return lists of ResultProxy objects. As such, they can be accessed using numerical indices or keyword indices. For instance, if one select output row is ```row=(1, 'user_0')``` (after selecting \"id\" and \"user\"), it can be accessed such that ```row[0]==row['id']``` and ```row[1]==row['user']```."
   ]
  },
  {
   "cell_type": "code",
   "execution_count": 4,
   "metadata": {},
   "outputs": [
    {
     "name": "stdout",
     "output_type": "stream",
     "text": [
      "DocTable2 Query: SELECT mydocuments.id, mydocuments.name, mydocuments.age, mydocuments.is_old \n",
      "FROM mydocuments\n",
      " LIMIT :param_1\n"
     ]
    },
    {
     "data": {
      "text/plain": [
       "[(1, 'user_0', 0.18922442575863285, False),\n",
       " (2, 'user_1', 0.3324668265371873, False)]"
      ]
     },
     "execution_count": 4,
     "metadata": {},
     "output_type": "execute_result"
    }
   ],
   "source": [
    "# the limit argument means the result will only return some rows.\n",
    "# I'll use it for convenience in these examples.\n",
    "# this selects all rows\n",
    "db.select(limit=2)"
   ]
  },
  {
   "cell_type": "code",
   "execution_count": 5,
   "metadata": {},
   "outputs": [
    {
     "name": "stdout",
     "output_type": "stream",
     "text": [
      "DocTable2 Query: SELECT mydocuments.id, mydocuments.name \n",
      "FROM mydocuments\n",
      " LIMIT :param_1\n"
     ]
    },
    {
     "data": {
      "text/plain": [
       "[(1, 'user_0')]"
      ]
     },
     "execution_count": 5,
     "metadata": {},
     "output_type": "execute_result"
    }
   ],
   "source": [
    "db.select(['id','name'], limit=1)"
   ]
  },
  {
   "cell_type": "code",
   "execution_count": 6,
   "metadata": {},
   "outputs": [
    {
     "name": "stdout",
     "output_type": "stream",
     "text": [
      "DocTable2 Query: SELECT mydocuments.id, mydocuments.name \n",
      "FROM mydocuments\n",
      " LIMIT :param_1\n"
     ]
    },
    {
     "data": {
      "text/plain": [
       "[(1, 'user_0')]"
      ]
     },
     "execution_count": 6,
     "metadata": {},
     "output_type": "execute_result"
    }
   ],
   "source": [
    "# can also select by accessing the column object (db['id']) itself\n",
    "# this will be useful later with more complex queries\n",
    "db.select([db['id'],db['name']], limit=1)"
   ]
  },
  {
   "cell_type": "code",
   "execution_count": 7,
   "metadata": {},
   "outputs": [
    {
     "name": "stdout",
     "output_type": "stream",
     "text": [
      "DocTable2 Query: SELECT mydocuments.id, mydocuments.name, mydocuments.age, mydocuments.is_old \n",
      "FROM mydocuments\n",
      " LIMIT :param_1\n"
     ]
    },
    {
     "data": {
      "text/plain": [
       "(1, 'user_0', 0.18922442575863285, False)"
      ]
     },
     "execution_count": 7,
     "metadata": {},
     "output_type": "execute_result"
    }
   ],
   "source": [
    "db.select_first()"
   ]
  },
  {
   "cell_type": "code",
   "execution_count": 8,
   "metadata": {},
   "outputs": [
    {
     "name": "stdout",
     "output_type": "stream",
     "text": [
      "DocTable2 Query: SELECT mydocuments.name \n",
      "FROM mydocuments\n",
      " LIMIT :param_1\n"
     ]
    },
    {
     "data": {
      "text/plain": [
       "['user_0', 'user_1', 'user_2', 'user_3', 'user_4']"
      ]
     },
     "execution_count": 8,
     "metadata": {},
     "output_type": "execute_result"
    }
   ],
   "source": [
    "db.select('name',limit=5)"
   ]
  },
  {
   "cell_type": "code",
   "execution_count": 9,
   "metadata": {},
   "outputs": [
    {
     "name": "stdout",
     "output_type": "stream",
     "text": [
      "DocTable2 Query: SELECT mydocuments.age \n",
      "FROM mydocuments\n",
      " LIMIT :param_1\n"
     ]
    },
    {
     "data": {
      "text/plain": [
       "0.18922442575863285"
      ]
     },
     "execution_count": 9,
     "metadata": {},
     "output_type": "execute_result"
    }
   ],
   "source": [
    "db.select_first('age')"
   ]
  },
  {
   "cell_type": "markdown",
   "metadata": {},
   "source": [
    "## Conditional Selects"
   ]
  },
  {
   "cell_type": "code",
   "execution_count": 10,
   "metadata": {},
   "outputs": [
    {
     "name": "stdout",
     "output_type": "stream",
     "text": [
      "DocTable2 Query: SELECT mydocuments.id, mydocuments.name, mydocuments.age, mydocuments.is_old \n",
      "FROM mydocuments \n",
      "WHERE mydocuments.id = :id_1\n"
     ]
    },
    {
     "data": {
      "text/plain": [
       "[(2, 'user_1', 0.3324668265371873, False)]"
      ]
     },
     "execution_count": 10,
     "metadata": {},
     "output_type": "execute_result"
    }
   ],
   "source": [
    "db.select(where=db['id']==2)"
   ]
  },
  {
   "cell_type": "code",
   "execution_count": 11,
   "metadata": {},
   "outputs": [
    {
     "name": "stdout",
     "output_type": "stream",
     "text": [
      "DocTable2 Query: SELECT mydocuments.id, mydocuments.name, mydocuments.age, mydocuments.is_old \n",
      "FROM mydocuments \n",
      "WHERE mydocuments.id < :id_1\n"
     ]
    },
    {
     "data": {
      "text/plain": [
       "[(1, 'user_0', 0.18922442575863285, False),\n",
       " (2, 'user_1', 0.3324668265371873, False)]"
      ]
     },
     "execution_count": 11,
     "metadata": {},
     "output_type": "execute_result"
    }
   ],
   "source": [
    "db.select(where=db['id']<3)"
   ]
  },
  {
   "cell_type": "code",
   "execution_count": 12,
   "metadata": {},
   "outputs": [
    {
     "name": "stdout",
     "output_type": "stream",
     "text": [
      "DocTable2 Query: SELECT mydocuments.id, mydocuments.name, mydocuments.age, mydocuments.is_old \n",
      "FROM mydocuments \n",
      "WHERE mydocuments.id % :id_1 = :param_1\n",
      " LIMIT :param_2\n"
     ]
    },
    {
     "data": {
      "text/plain": [
       "[(2, 'user_1', 0.3324668265371873, False),\n",
       " (4, 'user_3', 0.4490873114594376, False)]"
      ]
     },
     "execution_count": 12,
     "metadata": {},
     "output_type": "execute_result"
    }
   ],
   "source": [
    "# mod operator works too\n",
    "db.select(where=(db['id']%2)==0, limit=2)"
   ]
  },
  {
   "cell_type": "code",
   "execution_count": 13,
   "metadata": {},
   "outputs": [
    {
     "name": "stdout",
     "output_type": "stream",
     "text": [
      "DocTable2 Query: SELECT mydocuments.id, mydocuments.name, mydocuments.age, mydocuments.is_old \n",
      "FROM mydocuments \n",
      "WHERE mydocuments.id >= :id_1 AND mydocuments.id <= :id_2 AND mydocuments.name != :name_1\n"
     ]
    },
    {
     "data": {
      "text/plain": [
       "[(2, 'user_1', 0.3324668265371873, False),\n",
       " (4, 'user_3', 0.4490873114594376, False)]"
      ]
     },
     "execution_count": 13,
     "metadata": {},
     "output_type": "execute_result"
    }
   ],
   "source": [
    "# note parantheses to handle order of ops with overloaded bitwise ops\n",
    "db.select(where= (db['id']>=2) & (db['id']<=4) & (db['name']!='user_2'))"
   ]
  },
  {
   "cell_type": "code",
   "execution_count": 14,
   "metadata": {},
   "outputs": [
    {
     "name": "stdout",
     "output_type": "stream",
     "text": [
      "DocTable2 Query: SELECT mydocuments.id, mydocuments.name, mydocuments.age, mydocuments.is_old \n",
      "FROM mydocuments \n",
      "WHERE mydocuments.name IN (:name_1, :name_2)\n"
     ]
    },
    {
     "data": {
      "text/plain": [
       "[(3, 'user_2', 0.4696898168564886, False),\n",
       " (4, 'user_3', 0.4490873114594376, False)]"
      ]
     },
     "execution_count": 14,
     "metadata": {},
     "output_type": "execute_result"
    }
   ],
   "source": [
    "db.select(where=db['name'].in_(('user_2','user_3')))"
   ]
  },
  {
   "cell_type": "code",
   "execution_count": 15,
   "metadata": {},
   "outputs": [
    {
     "name": "stdout",
     "output_type": "stream",
     "text": [
      "DocTable2 Query: SELECT mydocuments.id, mydocuments.name, mydocuments.age, mydocuments.is_old \n",
      "FROM mydocuments \n",
      "WHERE mydocuments.id BETWEEN :id_1 AND :id_2\n"
     ]
    },
    {
     "data": {
      "text/plain": [
       "[(2, 'user_1', 0.3324668265371873, False),\n",
       " (3, 'user_2', 0.4696898168564886, False),\n",
       " (4, 'user_3', 0.4490873114594376, False)]"
      ]
     },
     "execution_count": 15,
     "metadata": {},
     "output_type": "execute_result"
    }
   ],
   "source": [
    "db.select(where=db['id'].between(2,4))"
   ]
  },
  {
   "cell_type": "code",
   "execution_count": 16,
   "metadata": {},
   "outputs": [
    {
     "name": "stdout",
     "output_type": "stream",
     "text": [
      "DocTable2 Query: SELECT mydocuments.id, mydocuments.name, mydocuments.age, mydocuments.is_old \n",
      "FROM mydocuments \n",
      "WHERE mydocuments.name NOT IN (:name_1, :name_2) AND mydocuments.id < :id_1\n"
     ]
    },
    {
     "data": {
      "text/plain": [
       "[(1, 'user_0', 0.18922442575863285, False),\n",
       " (2, 'user_1', 0.3324668265371873, False)]"
      ]
     },
     "execution_count": 16,
     "metadata": {},
     "output_type": "execute_result"
    }
   ],
   "source": [
    "# use of logical not operator \"~\"\n",
    "db.select(where= ~(db['name'].in_(('user_2','user_3'))) & (db['id'] < 4))"
   ]
  },
  {
   "cell_type": "code",
   "execution_count": 17,
   "metadata": {},
   "outputs": [
    {
     "name": "stdout",
     "output_type": "stream",
     "text": [
      "DocTable2 Query: SELECT mydocuments.id, mydocuments.name, mydocuments.age, mydocuments.is_old \n",
      "FROM mydocuments \n",
      "WHERE mydocuments.id != :id_1 AND mydocuments.id <= :id_2\n"
     ]
    },
    {
     "data": {
      "text/plain": [
       "[(1, 'user_0', 0.18922442575863285, False),\n",
       " (2, 'user_1', 0.3324668265371873, False)]"
      ]
     },
     "execution_count": 17,
     "metadata": {},
     "output_type": "execute_result"
    }
   ],
   "source": [
    "# more verbose operators .and_, .or_, and .not_ are bound to the doctable package\n",
    "db.select(where= dt.or_(dt.not_(db['id']==4)) & (db['id'] <= 2))"
   ]
  },
  {
   "cell_type": "code",
   "execution_count": 18,
   "metadata": {},
   "outputs": [
    {
     "name": "stdout",
     "output_type": "stream",
     "text": [
      "DocTable2 Query: SELECT mydocuments.age \n",
      "FROM mydocuments\n",
      "DocTable2 Query: SELECT mydocuments.name \n",
      "FROM mydocuments \n",
      "WHERE mydocuments.age > :age_1\n",
      " LIMIT :param_1\n"
     ]
    },
    {
     "data": {
      "text/plain": [
       "['user_2', 'user_3']"
      ]
     },
     "execution_count": 18,
     "metadata": {},
     "output_type": "execute_result"
    }
   ],
   "source": [
    "# now with simple computation\n",
    "ages = db.select(db['age'])\n",
    "mean_age = sum(ages)/len(ages)\n",
    "db.select(db['name'], where=db['age']>mean_age, limit=2)"
   ]
  },
  {
   "cell_type": "code",
   "execution_count": 19,
   "metadata": {},
   "outputs": [
    {
     "name": "stdout",
     "output_type": "stream",
     "text": [
      "DocTable2 Query: SELECT mydocuments.age AS myage, mydocuments.name AS myname \n",
      "FROM mydocuments\n",
      " LIMIT :param_1\n"
     ]
    },
    {
     "data": {
      "text/plain": [
       "{'myage': 0.18922442575863285, 'myname': 'user_0'}"
      ]
     },
     "execution_count": 19,
     "metadata": {},
     "output_type": "execute_result"
    }
   ],
   "source": [
    "# apply .label() method to columns\n",
    "dict(db.select_first([db['age'].label('myage'), db['name'].label('myname')]))"
   ]
  },
  {
   "cell_type": "markdown",
   "metadata": {},
   "source": [
    "## Column Operators\n",
    "I bind the .min, .max, .count, .sum, and .mode methods to the column objects. Additionally, I move the .count method to a separate DocTable2 method."
   ]
  },
  {
   "cell_type": "code",
   "execution_count": 20,
   "metadata": {},
   "outputs": [
    {
     "name": "stdout",
     "output_type": "stream",
     "text": [
      "DocTable2 Query: SELECT sum(mydocuments.age) AS sum_1, count(mydocuments.age) AS count_1, mydocuments.age \n",
      "FROM mydocuments\n",
      " LIMIT :param_1\n"
     ]
    },
    {
     "data": {
      "text/plain": [
       "(4.249997605348098, 10, 0.18922442575863285)"
      ]
     },
     "execution_count": 20,
     "metadata": {},
     "output_type": "execute_result"
    }
   ],
   "source": [
    "db.select_first([db['age'].sum, db['age'].count, db['age']])"
   ]
  },
  {
   "cell_type": "code",
   "execution_count": 21,
   "metadata": {},
   "outputs": [
    {
     "name": "stdout",
     "output_type": "stream",
     "text": [
      "DocTable2 Query: SELECT sum(mydocuments.age) AS sum, count(mydocuments.age) AS ct \n",
      "FROM mydocuments\n",
      " LIMIT :param_1\n"
     ]
    },
    {
     "data": {
      "text/plain": [
       "{'sum': 4.249997605348098, 'ct': 10}"
      ]
     },
     "execution_count": 21,
     "metadata": {},
     "output_type": "execute_result"
    }
   ],
   "source": [
    "# with labels now\n",
    "dict(db.select_first([db['age'].sum.label('sum'), db['age'].count.label('ct')]))"
   ]
  },
  {
   "cell_type": "markdown",
   "metadata": {},
   "source": [
    "## ORDER BY, GROUP BY, LIMIT\n",
    "These additional arguments have also been provided."
   ]
  },
  {
   "cell_type": "code",
   "execution_count": 22,
   "metadata": {},
   "outputs": [
    {
     "name": "stdout",
     "output_type": "stream",
     "text": [
      "DocTable2 Query: SELECT mydocuments.id, mydocuments.name, mydocuments.age, mydocuments.is_old \n",
      "FROM mydocuments\n",
      " LIMIT :param_1\n"
     ]
    },
    {
     "data": {
      "text/plain": [
       "[(1, 'user_0', 0.18922442575863285, False),\n",
       " (2, 'user_1', 0.3324668265371873, False)]"
      ]
     },
     "execution_count": 22,
     "metadata": {},
     "output_type": "execute_result"
    }
   ],
   "source": [
    "# the limit is obvious - it has been used throughout these examples\n",
    "db.select(limit=2)"
   ]
  },
  {
   "cell_type": "code",
   "execution_count": 23,
   "metadata": {},
   "outputs": [
    {
     "name": "stdout",
     "output_type": "stream",
     "text": [
      "DocTable2 Query: SELECT mydocuments.id, mydocuments.name, mydocuments.age, mydocuments.is_old \n",
      "FROM mydocuments ORDER BY mydocuments.age DESC\n",
      " LIMIT :param_1\n"
     ]
    },
    {
     "data": {
      "text/plain": [
       "[(5, 'user_4', 0.6438265378134914, True),\n",
       " (10, 'user_9', 0.5537243633947196, True)]"
      ]
     },
     "execution_count": 23,
     "metadata": {},
     "output_type": "execute_result"
    }
   ],
   "source": [
    "# orderby clause\n",
    "db.select(orderby=db['age'].desc(), limit=2)"
   ]
  },
  {
   "cell_type": "code",
   "execution_count": 24,
   "metadata": {},
   "outputs": [
    {
     "name": "stdout",
     "output_type": "stream",
     "text": [
      "DocTable2 Query: SELECT mydocuments.id, mydocuments.name, mydocuments.age, mydocuments.is_old \n",
      "FROM mydocuments ORDER BY mydocuments.age DESC, mydocuments.is_old ASC\n",
      " LIMIT :param_1\n"
     ]
    },
    {
     "data": {
      "text/plain": [
       "[(5, 'user_4', 0.6438265378134914, True),\n",
       " (10, 'user_9', 0.5537243633947196, True)]"
      ]
     },
     "execution_count": 24,
     "metadata": {},
     "output_type": "execute_result"
    }
   ],
   "source": [
    "# compound orderby\n",
    "db.select(orderby=(db['age'].desc(),db['is_old'].asc()), limit=2)"
   ]
  },
  {
   "cell_type": "code",
   "execution_count": 25,
   "metadata": {},
   "outputs": [
    {
     "name": "stdout",
     "output_type": "stream",
     "text": [
      "DocTable2 Query: SELECT mydocuments.id, mydocuments.name, mydocuments.age, mydocuments.is_old \n",
      "FROM mydocuments ORDER BY mydocuments.age\n",
      " LIMIT :param_1\n"
     ]
    },
    {
     "data": {
      "text/plain": [
       "[(1, 'user_0', 0.18922442575863285, False),\n",
       " (7, 'user_6', 0.24657412713821392, False)]"
      ]
     },
     "execution_count": 25,
     "metadata": {},
     "output_type": "execute_result"
    }
   ],
   "source": [
    "# can also use column name directly\n",
    "# can only use ascending and can use only one col\n",
    "db.select(orderby='age', limit=2)"
   ]
  },
  {
   "cell_type": "code",
   "execution_count": 26,
   "metadata": {},
   "outputs": [
    {
     "name": "stdout",
     "output_type": "stream",
     "text": [
      "DocTable2 Query: SELECT mydocuments.id, mydocuments.name, mydocuments.age, mydocuments.is_old \n",
      "FROM mydocuments GROUP BY mydocuments.is_old\n"
     ]
    },
    {
     "data": {
      "text/plain": [
       "[(1, 'user_0', 0.18922442575863285, False),\n",
       " (5, 'user_4', 0.6438265378134914, True)]"
      ]
     },
     "execution_count": 26,
     "metadata": {},
     "output_type": "execute_result"
    }
   ],
   "source": [
    "# groupby clause\n",
    "# returns first row of each group without any aggregation functions\n",
    "db.select(groupby=db['is_old'])"
   ]
  },
  {
   "cell_type": "code",
   "execution_count": 27,
   "metadata": {},
   "outputs": [
    {
     "name": "stdout",
     "output_type": "stream",
     "text": [
      "DocTable2 Query: SELECT mydocuments.id, mydocuments.name, mydocuments.age, mydocuments.is_old \n",
      "FROM mydocuments GROUP BY mydocuments.is_old, mydocuments.name\n",
      " LIMIT :param_1\n"
     ]
    },
    {
     "data": {
      "text/plain": [
       "[(1, 'user_0', 0.18922442575863285, False),\n",
       " (2, 'user_1', 0.3324668265371873, False),\n",
       " (3, 'user_2', 0.4696898168564886, False)]"
      ]
     },
     "execution_count": 27,
     "metadata": {},
     "output_type": "execute_result"
    }
   ],
   "source": [
    "# compound groupby (weird example bc name is unique - have only one cat var in this demo)\n",
    "db.select(groupby=(db['is_old'],db['name']), limit=3)"
   ]
  },
  {
   "cell_type": "code",
   "execution_count": 28,
   "metadata": {},
   "outputs": [
    {
     "name": "stdout",
     "output_type": "stream",
     "text": [
      "DocTable2 Query: SELECT max(mydocuments.age) AS max_1 \n",
      "FROM mydocuments GROUP BY mydocuments.is_old\n"
     ]
    },
    {
     "data": {
      "text/plain": [
       "[0.48961335909724746, 0.6438265378134914]"
      ]
     },
     "execution_count": 28,
     "metadata": {},
     "output_type": "execute_result"
    }
   ],
   "source": [
    "# groupby clause using max aggregation function\n",
    "# gets match age for both old and young groups\n",
    "db.select(db['age'].max, groupby=db['is_old'])"
   ]
  },
  {
   "cell_type": "markdown",
   "metadata": {},
   "source": [
    "## SQL String Commands and Additional Clauses\n",
    "For cases where DocTable2 does not provide a convenient interface, you may submit raw SQL commands. These may be a bit more unwieldly, but they offer maximum flexibility. They may be used either as simply an addition to the WHERE or arbitrary end clauses, or accessed in totality."
   ]
  },
  {
   "cell_type": "code",
   "execution_count": 29,
   "metadata": {},
   "outputs": [
    {
     "name": "stdout",
     "output_type": "stream",
     "text": [
      "DocTable2 Query: SELECT age,name FROM mydocuments WHERE id==\"1\"\n"
     ]
    },
    {
     "data": {
      "text/plain": [
       "{'age': 0.18922442575863285, 'name': 'user_0'}"
      ]
     },
     "execution_count": 29,
     "metadata": {},
     "output_type": "execute_result"
    }
   ],
   "source": [
    "qstr = 'SELECT age,name FROM {} WHERE id==\"{}\"'.format(db.tabname, 1)\n",
    "results = db.execute(qstr)\n",
    "dict(list(results)[0])"
   ]
  },
  {
   "cell_type": "code",
   "execution_count": 30,
   "metadata": {},
   "outputs": [
    {
     "name": "stdout",
     "output_type": "stream",
     "text": [
      "DocTable2 Query: SELECT mydocuments.id, mydocuments.name, mydocuments.age, mydocuments.is_old \n",
      "FROM mydocuments \n",
      "WHERE is_old==\"1\"\n",
      " LIMIT :param_1\n"
     ]
    },
    {
     "data": {
      "text/plain": [
       "[(5, 'user_4', 0.6438265378134914, True),\n",
       " (8, 'user_7', 0.5511997035089792, True)]"
      ]
     },
     "execution_count": 30,
     "metadata": {},
     "output_type": "execute_result"
    }
   ],
   "source": [
    "whrstr = 'is_old==\"{}\"'.format('1')\n",
    "db.select(whrstr=whrstr, limit=2)"
   ]
  },
  {
   "cell_type": "code",
   "execution_count": 31,
   "metadata": {},
   "outputs": [
    {
     "name": "stdout",
     "output_type": "stream",
     "text": [
      "DocTable2 Query: SELECT mydocuments.id, mydocuments.name, mydocuments.age, mydocuments.is_old \n",
      "FROM mydocuments \n",
      "WHERE mydocuments.id <= :id_1 AND is_old==\"1\"\n"
     ]
    },
    {
     "data": {
      "text/plain": [
       "[(5, 'user_4', 0.6438265378134914, True)]"
      ]
     },
     "execution_count": 31,
     "metadata": {},
     "output_type": "execute_result"
    }
   ],
   "source": [
    "# combine whrstr with structured query where clause\n",
    "whrstr = 'is_old==\"{}\"'.format('1')\n",
    "db.select(where=db['id']<=5, whrstr=whrstr)"
   ]
  },
  {
   "cell_type": "code",
   "execution_count": 32,
   "metadata": {},
   "outputs": [
    {
     "name": "stdout",
     "output_type": "stream",
     "text": [
      "DocTable2 Query: SELECT mydocuments.id, mydocuments.name, mydocuments.age, mydocuments.is_old \n",
      "FROM mydocuments \n",
      "WHERE mydocuments.id <= :id_1 AND is_old==\"1\"\n"
     ]
    },
    {
     "data": {
      "text/plain": [
       "[(5, 'user_4', 0.6438265378134914, True)]"
      ]
     },
     "execution_count": 32,
     "metadata": {},
     "output_type": "execute_result"
    }
   ],
   "source": [
    "# combine whrstr with structured query where clause\n",
    "whrstr = 'is_old==\"{}\"'.format('1')\n",
    "db.select(where=db['id']<=5, whrstr=whrstr)"
   ]
  },
  {
   "cell_type": "markdown",
   "metadata": {},
   "source": [
    "## Count Method and Get Next ID\n",
    "```.count()``` is a convenience method. Mostly the same could be accomplished by ```db.select_first(db['id'].count)```, but this requires no reference to a specific column.\n",
    "\n",
    "```.next_id()``` is especially useful if one hopes to enter the id (or any primary key column) into new rows manually. Especially useful because SQL engines don't provide new ids except when a single insert is performed."
   ]
  },
  {
   "cell_type": "code",
   "execution_count": 33,
   "metadata": {},
   "outputs": [
    {
     "name": "stdout",
     "output_type": "stream",
     "text": [
      "DocTable2 Query: SELECT count() AS count_1 \n",
      "FROM mydocuments\n",
      " LIMIT :param_1\n"
     ]
    },
    {
     "data": {
      "text/plain": [
       "10"
      ]
     },
     "execution_count": 33,
     "metadata": {},
     "output_type": "execute_result"
    }
   ],
   "source": [
    "db.count()"
   ]
  },
  {
   "cell_type": "code",
   "execution_count": 34,
   "metadata": {},
   "outputs": [
    {
     "name": "stdout",
     "output_type": "stream",
     "text": [
      "DocTable2 Query: SELECT count() AS count_1 \n",
      "FROM mydocuments \n",
      "WHERE mydocuments.age < :age_1\n",
      " LIMIT :param_1\n"
     ]
    },
    {
     "data": {
      "text/plain": [
       "7"
      ]
     },
     "execution_count": 34,
     "metadata": {},
     "output_type": "execute_result"
    }
   ],
   "source": [
    "db.count(db['age'] < 0.5)"
   ]
  },
  {
   "cell_type": "code",
   "execution_count": 35,
   "metadata": {},
   "outputs": [
    {
     "name": "stdout",
     "output_type": "stream",
     "text": [
      "DocTable2 Query: SELECT max(mydocuments.id) AS max_1 \n",
      "FROM mydocuments\n",
      " LIMIT :param_1\n"
     ]
    },
    {
     "data": {
      "text/plain": [
       "11"
      ]
     },
     "execution_count": 35,
     "metadata": {},
     "output_type": "execute_result"
    }
   ],
   "source": [
    "db.next_id()"
   ]
  },
  {
   "cell_type": "code",
   "execution_count": 36,
   "metadata": {},
   "outputs": [
    {
     "name": "stdout",
     "output_type": "stream",
     "text": [
      "DocTable2 Query: SELECT max(mydocuments.age) AS max_1 \n",
      "FROM mydocuments\n",
      " LIMIT :param_1\n"
     ]
    },
    {
     "data": {
      "text/plain": [
       "1.6438265378134913"
      ]
     },
     "execution_count": 36,
     "metadata": {},
     "output_type": "execute_result"
    }
   ],
   "source": [
    "# weird (but possible) with 'age' because it's not an actual primary key\n",
    "db.next_id(idcol='age')"
   ]
  },
  {
   "cell_type": "markdown",
   "metadata": {},
   "source": [
    "## Select as Pandas Series and DataFrame\n",
    "These are especially useful when working with metadata because Pandas provides robust descriptive and plotting features than SQL alone. Good for generating sample information."
   ]
  },
  {
   "cell_type": "code",
   "execution_count": 37,
   "metadata": {},
   "outputs": [
    {
     "name": "stdout",
     "output_type": "stream",
     "text": [
      "DocTable2 Query: SELECT mydocuments.age \n",
      "FROM mydocuments\n"
     ]
    },
    {
     "data": {
      "text/plain": [
       "0    0.189224\n",
       "1    0.332467\n",
       "dtype: float64"
      ]
     },
     "execution_count": 37,
     "metadata": {},
     "output_type": "execute_result"
    }
   ],
   "source": [
    "# must provide only a single column\n",
    "db.select_series(db['age']).head(2)"
   ]
  },
  {
   "cell_type": "code",
   "execution_count": 38,
   "metadata": {},
   "outputs": [
    {
     "name": "stdout",
     "output_type": "stream",
     "text": [
      "DocTable2 Query: SELECT mydocuments.age \n",
      "FROM mydocuments\n"
     ]
    },
    {
     "data": {
      "text/plain": [
       "0.025    0.202128\n",
       "0.985    0.631663\n",
       "dtype: float64"
      ]
     },
     "execution_count": 38,
     "metadata": {},
     "output_type": "execute_result"
    }
   ],
   "source": [
    "db.select_series(db['age']).quantile([0.025, 0.985])"
   ]
  },
  {
   "cell_type": "code",
   "execution_count": 39,
   "metadata": {},
   "outputs": [
    {
     "name": "stdout",
     "output_type": "stream",
     "text": [
      "DocTable2 Query: SELECT mydocuments.id, mydocuments.age \n",
      "FROM mydocuments\n"
     ]
    },
    {
     "data": {
      "text/html": [
       "<div>\n",
       "<style scoped>\n",
       "    .dataframe tbody tr th:only-of-type {\n",
       "        vertical-align: middle;\n",
       "    }\n",
       "\n",
       "    .dataframe tbody tr th {\n",
       "        vertical-align: top;\n",
       "    }\n",
       "\n",
       "    .dataframe thead th {\n",
       "        text-align: right;\n",
       "    }\n",
       "</style>\n",
       "<table border=\"1\" class=\"dataframe\">\n",
       "  <thead>\n",
       "    <tr style=\"text-align: right;\">\n",
       "      <th></th>\n",
       "      <th>id</th>\n",
       "      <th>age</th>\n",
       "    </tr>\n",
       "  </thead>\n",
       "  <tbody>\n",
       "    <tr>\n",
       "      <td>0</td>\n",
       "      <td>1</td>\n",
       "      <td>0.189224</td>\n",
       "    </tr>\n",
       "    <tr>\n",
       "      <td>1</td>\n",
       "      <td>2</td>\n",
       "      <td>0.332467</td>\n",
       "    </tr>\n",
       "  </tbody>\n",
       "</table>\n",
       "</div>"
      ],
      "text/plain": [
       "   id       age\n",
       "0   1  0.189224\n",
       "1   2  0.332467"
      ]
     },
     "execution_count": 39,
     "metadata": {},
     "output_type": "execute_result"
    }
   ],
   "source": [
    "db.select_df(['id','age']).head(2)"
   ]
  },
  {
   "cell_type": "code",
   "execution_count": 40,
   "metadata": {},
   "outputs": [
    {
     "name": "stdout",
     "output_type": "stream",
     "text": [
      "DocTable2 Query: SELECT mydocuments.id, mydocuments.age \n",
      "FROM mydocuments\n"
     ]
    },
    {
     "data": {
      "text/html": [
       "<div>\n",
       "<style scoped>\n",
       "    .dataframe tbody tr th:only-of-type {\n",
       "        vertical-align: middle;\n",
       "    }\n",
       "\n",
       "    .dataframe tbody tr th {\n",
       "        vertical-align: top;\n",
       "    }\n",
       "\n",
       "    .dataframe thead th {\n",
       "        text-align: right;\n",
       "    }\n",
       "</style>\n",
       "<table border=\"1\" class=\"dataframe\">\n",
       "  <thead>\n",
       "    <tr style=\"text-align: right;\">\n",
       "      <th></th>\n",
       "      <th>id</th>\n",
       "      <th>age</th>\n",
       "    </tr>\n",
       "  </thead>\n",
       "  <tbody>\n",
       "    <tr>\n",
       "      <td>id</td>\n",
       "      <td>1.00000</td>\n",
       "      <td>0.48358</td>\n",
       "    </tr>\n",
       "    <tr>\n",
       "      <td>age</td>\n",
       "      <td>0.48358</td>\n",
       "      <td>1.00000</td>\n",
       "    </tr>\n",
       "  </tbody>\n",
       "</table>\n",
       "</div>"
      ],
      "text/plain": [
       "          id      age\n",
       "id   1.00000  0.48358\n",
       "age  0.48358  1.00000"
      ]
     },
     "execution_count": 40,
     "metadata": {},
     "output_type": "execute_result"
    }
   ],
   "source": [
    "# must provide list of cols (even for one col)\n",
    "db.select_df([db['id'],db['age']]).corr()"
   ]
  },
  {
   "cell_type": "code",
   "execution_count": 41,
   "metadata": {},
   "outputs": [
    {
     "name": "stdout",
     "output_type": "stream",
     "text": [
      "DocTable2 Query: SELECT mydocuments.id, mydocuments.age \n",
      "FROM mydocuments\n"
     ]
    },
    {
     "data": {
      "text/html": [
       "<div>\n",
       "<style scoped>\n",
       "    .dataframe tbody tr th:only-of-type {\n",
       "        vertical-align: middle;\n",
       "    }\n",
       "\n",
       "    .dataframe tbody tr th {\n",
       "        vertical-align: top;\n",
       "    }\n",
       "\n",
       "    .dataframe thead th {\n",
       "        text-align: right;\n",
       "    }\n",
       "</style>\n",
       "<table border=\"1\" class=\"dataframe\">\n",
       "  <thead>\n",
       "    <tr style=\"text-align: right;\">\n",
       "      <th></th>\n",
       "      <th>count</th>\n",
       "      <th>mean</th>\n",
       "      <th>std</th>\n",
       "      <th>min</th>\n",
       "      <th>25%</th>\n",
       "      <th>50%</th>\n",
       "      <th>75%</th>\n",
       "      <th>max</th>\n",
       "    </tr>\n",
       "  </thead>\n",
       "  <tbody>\n",
       "    <tr>\n",
       "      <td>id</td>\n",
       "      <td>10.0</td>\n",
       "      <td>5.500</td>\n",
       "      <td>3.027650</td>\n",
       "      <td>1.000000</td>\n",
       "      <td>3.25000</td>\n",
       "      <td>5.500000</td>\n",
       "      <td>7.750000</td>\n",
       "      <td>10.000000</td>\n",
       "    </tr>\n",
       "    <tr>\n",
       "      <td>age</td>\n",
       "      <td>10.0</td>\n",
       "      <td>0.425</td>\n",
       "      <td>0.146517</td>\n",
       "      <td>0.189224</td>\n",
       "      <td>0.32656</td>\n",
       "      <td>0.459389</td>\n",
       "      <td>0.535803</td>\n",
       "      <td>0.643827</td>\n",
       "    </tr>\n",
       "  </tbody>\n",
       "</table>\n",
       "</div>"
      ],
      "text/plain": [
       "     count   mean       std       min      25%       50%       75%        max\n",
       "id    10.0  5.500  3.027650  1.000000  3.25000  5.500000  7.750000  10.000000\n",
       "age   10.0  0.425  0.146517  0.189224  0.32656  0.459389  0.535803   0.643827"
      ]
     },
     "execution_count": 41,
     "metadata": {},
     "output_type": "execute_result"
    }
   ],
   "source": [
    "db.select_df([db['id'],db['age']]).describe().T"
   ]
  },
  {
   "cell_type": "code",
   "execution_count": 42,
   "metadata": {},
   "outputs": [
    {
     "name": "stdout",
     "output_type": "stream",
     "text": [
      "DocTable2 Query: SELECT mydocuments.age \n",
      "FROM mydocuments\n",
      "DocTable2 Query: SELECT mydocuments.id, mydocuments.age \n",
      "FROM mydocuments\n"
     ]
    },
    {
     "data": {
      "text/html": [
       "<div>\n",
       "<style scoped>\n",
       "    .dataframe tbody tr th:only-of-type {\n",
       "        vertical-align: middle;\n",
       "    }\n",
       "\n",
       "    .dataframe tbody tr th {\n",
       "        vertical-align: top;\n",
       "    }\n",
       "\n",
       "    .dataframe thead tr th {\n",
       "        text-align: left;\n",
       "    }\n",
       "\n",
       "    .dataframe thead tr:last-of-type th {\n",
       "        text-align: right;\n",
       "    }\n",
       "</style>\n",
       "<table border=\"1\" class=\"dataframe\">\n",
       "  <thead>\n",
       "    <tr>\n",
       "      <th></th>\n",
       "      <th colspan=\"8\" halign=\"left\">id</th>\n",
       "      <th colspan=\"8\" halign=\"left\">age</th>\n",
       "    </tr>\n",
       "    <tr>\n",
       "      <th></th>\n",
       "      <th>count</th>\n",
       "      <th>mean</th>\n",
       "      <th>std</th>\n",
       "      <th>min</th>\n",
       "      <th>25%</th>\n",
       "      <th>50%</th>\n",
       "      <th>75%</th>\n",
       "      <th>max</th>\n",
       "      <th>count</th>\n",
       "      <th>mean</th>\n",
       "      <th>std</th>\n",
       "      <th>min</th>\n",
       "      <th>25%</th>\n",
       "      <th>50%</th>\n",
       "      <th>75%</th>\n",
       "      <th>max</th>\n",
       "    </tr>\n",
       "    <tr>\n",
       "      <th>old_grp</th>\n",
       "      <th></th>\n",
       "      <th></th>\n",
       "      <th></th>\n",
       "      <th></th>\n",
       "      <th></th>\n",
       "      <th></th>\n",
       "      <th></th>\n",
       "      <th></th>\n",
       "      <th></th>\n",
       "      <th></th>\n",
       "      <th></th>\n",
       "      <th></th>\n",
       "      <th></th>\n",
       "      <th></th>\n",
       "      <th></th>\n",
       "      <th></th>\n",
       "    </tr>\n",
       "  </thead>\n",
       "  <tbody>\n",
       "    <tr>\n",
       "      <td>False</td>\n",
       "      <td>4.0</td>\n",
       "      <td>4.0</td>\n",
       "      <td>2.943920</td>\n",
       "      <td>1.0</td>\n",
       "      <td>1.75</td>\n",
       "      <td>4.0</td>\n",
       "      <td>6.25</td>\n",
       "      <td>7.0</td>\n",
       "      <td>4.0</td>\n",
       "      <td>0.273214</td>\n",
       "      <td>0.068104</td>\n",
       "      <td>0.189224</td>\n",
       "      <td>0.232237</td>\n",
       "      <td>0.285583</td>\n",
       "      <td>0.326560</td>\n",
       "      <td>0.332467</td>\n",
       "    </tr>\n",
       "    <tr>\n",
       "      <td>True</td>\n",
       "      <td>6.0</td>\n",
       "      <td>6.5</td>\n",
       "      <td>2.880972</td>\n",
       "      <td>3.0</td>\n",
       "      <td>4.25</td>\n",
       "      <td>6.5</td>\n",
       "      <td>8.75</td>\n",
       "      <td>10.0</td>\n",
       "      <td>6.0</td>\n",
       "      <td>0.526190</td>\n",
       "      <td>0.071690</td>\n",
       "      <td>0.449087</td>\n",
       "      <td>0.474671</td>\n",
       "      <td>0.520407</td>\n",
       "      <td>0.553093</td>\n",
       "      <td>0.643827</td>\n",
       "    </tr>\n",
       "  </tbody>\n",
       "</table>\n",
       "</div>"
      ],
      "text/plain": [
       "           id                                              age            \\\n",
       "        count mean       std  min   25%  50%   75%   max count      mean   \n",
       "old_grp                                                                    \n",
       "False     4.0  4.0  2.943920  1.0  1.75  4.0  6.25   7.0   4.0  0.273214   \n",
       "True      6.0  6.5  2.880972  3.0  4.25  6.5  8.75  10.0   6.0  0.526190   \n",
       "\n",
       "                                                                     \n",
       "              std       min       25%       50%       75%       max  \n",
       "old_grp                                                              \n",
       "False    0.068104  0.189224  0.232237  0.285583  0.326560  0.332467  \n",
       "True     0.071690  0.449087  0.474671  0.520407  0.553093  0.643827  "
      ]
     },
     "execution_count": 42,
     "metadata": {},
     "output_type": "execute_result"
    }
   ],
   "source": [
    "mean_age = db.select_series(db['age']).mean()\n",
    "df = db.select_df([db['id'],db['age']])\n",
    "df['old_grp'] = df['age'] > mean_age\n",
    "df.groupby('old_grp').describe()"
   ]
  },
  {
   "cell_type": "code",
   "execution_count": 43,
   "metadata": {},
   "outputs": [
    {
     "name": "stdout",
     "output_type": "stream",
     "text": [
      "DocTable2 Query: SELECT mydocuments.age \n",
      "FROM mydocuments\n",
      "DocTable2 Query: SELECT mydocuments.name, mydocuments.age \n",
      "FROM mydocuments\n"
     ]
    },
    {
     "data": {
      "text/html": [
       "<div>\n",
       "<style scoped>\n",
       "    .dataframe tbody tr th:only-of-type {\n",
       "        vertical-align: middle;\n",
       "    }\n",
       "\n",
       "    .dataframe tbody tr th {\n",
       "        vertical-align: top;\n",
       "    }\n",
       "\n",
       "    .dataframe thead th {\n",
       "        text-align: right;\n",
       "    }\n",
       "</style>\n",
       "<table border=\"1\" class=\"dataframe\">\n",
       "  <thead>\n",
       "    <tr style=\"text-align: right;\">\n",
       "      <th></th>\n",
       "      <th>first_name</th>\n",
       "      <th>var_age</th>\n",
       "    </tr>\n",
       "    <tr>\n",
       "      <th>old_grp</th>\n",
       "      <th></th>\n",
       "      <th></th>\n",
       "    </tr>\n",
       "  </thead>\n",
       "  <tbody>\n",
       "    <tr>\n",
       "      <td>False</td>\n",
       "      <td>user_0</td>\n",
       "      <td>0.004638</td>\n",
       "    </tr>\n",
       "    <tr>\n",
       "      <td>True</td>\n",
       "      <td>user_2</td>\n",
       "      <td>0.005139</td>\n",
       "    </tr>\n",
       "  </tbody>\n",
       "</table>\n",
       "</div>"
      ],
      "text/plain": [
       "        first_name   var_age\n",
       "old_grp                     \n",
       "False       user_0  0.004638\n",
       "True        user_2  0.005139"
      ]
     },
     "execution_count": 43,
     "metadata": {},
     "output_type": "execute_result"
    }
   ],
   "source": [
    "# more complicated groupby aggregation.\n",
    "# calculates the variance both for entries above and below average age\n",
    "mean_age = db.select_series(db['age']).mean()\n",
    "df = db.select_df([db['name'],db['age']])\n",
    "df['old_grp'] = df['age']>mean_age\n",
    "df.groupby('old_grp').agg(**{\n",
    "    'first_name':pd.NamedAgg(column='name', aggfunc='first'),\n",
    "    'var_age':pd.NamedAgg(column='age', aggfunc=np.var),\n",
    "})"
   ]
  },
  {
   "cell_type": "markdown",
   "metadata": {},
   "source": [
    "# Select with Buffer\n",
    "In cases where you have many rows or each row contains a lot of data, you may want to perform a select query which makes requests in chunks. This is performed using the SQL OFFSET command, and querying up to buffsize while yielding each returned row. This system is designed this way because the underlying sql engine buffers all rows retreived from a query, and thus there is no way to stream data into memory without this system.\n",
    "\n",
    "NOTE: The limit keyword is incompatible with this method - it will return all results. A workaround is to use the approx_max_rows param, which will return at minimum this number of rows, at max the specified number of rows plus buffsize."
   ]
  },
  {
   "cell_type": "code",
   "execution_count": 44,
   "metadata": {},
   "outputs": [
    {
     "name": "stdout",
     "output_type": "stream",
     "text": [
      "DocTable2 Query: SELECT mydocuments.id, mydocuments.name, mydocuments.age, mydocuments.is_old \n",
      "FROM mydocuments \n",
      "WHERE mydocuments.id % :id_1 = :param_1\n",
      " LIMIT :param_2 OFFSET :param_3\n",
      "(2, 'user_1', 0.3324668265371873, False)\n",
      "(4, 'user_3', 0.4490873114594376, False)\n",
      "DocTable2 Query: SELECT mydocuments.id, mydocuments.name, mydocuments.age, mydocuments.is_old \n",
      "FROM mydocuments \n",
      "WHERE mydocuments.id % :id_1 = :param_1\n",
      " LIMIT :param_2 OFFSET :param_3\n",
      "(6, 'user_5', 0.32459113378370086, False)\n"
     ]
    }
   ],
   "source": [
    "for row in db.select_chunk(chunksize=2, max_rows=3, where=(db['id']%2)==0):\n",
    "    print(row)"
   ]
  },
  {
   "cell_type": "markdown",
   "metadata": {},
   "source": [
    "# Bootstrap Select\n",
    "Often it is desirable to bootstrap select (sample with replacement) from a document sample. DocTable2 includes this feature."
   ]
  },
  {
   "cell_type": "code",
   "execution_count": 45,
   "metadata": {},
   "outputs": [
    {
     "name": "stdout",
     "output_type": "stream",
     "text": [
      "DocTable2 Query: SELECT mydocuments.id \n",
      "FROM mydocuments\n"
     ]
    },
    {
     "data": {
      "text/plain": [
       "[(1, 'user_0', 0.18922442575863285, False),\n",
       " (3, 'user_2', 0.4696898168564886, False),\n",
       " (4, 'user_3', 0.4490873114594376, False),\n",
       " (5, 'user_4', 0.6438265378134914, True),\n",
       " (6, 'user_5', 0.32459113378370086, False),\n",
       " (7, 'user_6', 0.24657412713821392, False),\n",
       " (10, 'user_9', 0.5537243633947196, True),\n",
       " (1, 'user_0', 0.18922442575863285, False),\n",
       " (7, 'user_6', 0.24657412713821392, False),\n",
       " (10, 'user_9', 0.5537243633947196, True)]"
      ]
     },
     "execution_count": 45,
     "metadata": {},
     "output_type": "execute_result"
    }
   ],
   "source": [
    "db.select_bootstrap(nsamp=10, verbose=False)"
   ]
  }
 ],
 "metadata": {
  "kernelspec": {
   "display_name": "Python 3",
   "language": "python",
   "name": "python3"
  },
  "language_info": {
   "codemirror_mode": {
    "name": "ipython",
    "version": 3
   },
   "file_extension": ".py",
   "mimetype": "text/x-python",
   "name": "python",
   "nbconvert_exporter": "python",
   "pygments_lexer": "ipython3",
   "version": "3.7.3"
  }
 },
 "nbformat": 4,
 "nbformat_minor": 4
}
