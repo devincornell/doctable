{
 "cells": [
  {
   "cell_type": "code",
   "execution_count": 1,
   "metadata": {},
   "outputs": [],
   "source": [
    "import random\n",
    "import pandas as pd\n",
    "import numpy as np\n",
    "import sys\n",
    "sys.path.append('..')\n",
    "import doctable as dt"
   ]
  },
  {
   "cell_type": "code",
   "execution_count": 2,
   "metadata": {},
   "outputs": [
    {
     "name": "stdout",
     "output_type": "stream",
     "text": [
      "DocTable2 Query: SELECT count() AS count_1 \n",
      "FROM mydocuments\n",
      " LIMIT :param_1\n",
      "<DocTable2::mydocuments ct: 0>\n"
     ]
    }
   ],
   "source": [
    "schema = (\n",
    "    ('id','integer',dict(primary_key=True, autoincrement=True)),\n",
    "    ('name','string', dict(nullable=False)),\n",
    "    ('age','integer'),\n",
    ")\n",
    "db = dt.DocTable2(schema, tabname='mydocuments', verbose=True)\n",
    "# defaults: #fname=':memory:', engine='sqlite', persistent_conn=True, new_db=True\n",
    "# fname=':memory:' is special - it loads database into memory\n",
    "print(db)"
   ]
  },
  {
   "cell_type": "code",
   "execution_count": 3,
   "metadata": {},
   "outputs": [
    {
     "name": "stdout",
     "output_type": "stream",
     "text": [
      "DocTable2 Query: SELECT count() AS count_1 \n",
      "FROM mydocuments\n",
      " LIMIT :param_1\n",
      "<DocTable2::mydocuments ct: 10>\n"
     ]
    }
   ],
   "source": [
    "N = 10\n",
    "for i in range(N):\n",
    "    db.insert({'name':'user_'+str(i), 'age':random.random()}, verbose=False)\n",
    "print(db)"
   ]
  },
  {
   "cell_type": "code",
   "execution_count": null,
   "metadata": {},
   "outputs": [],
   "source": [
    "## Notes on DB Interface\n",
    "Just a few notes before looking at selects."
   ]
  },
  {
   "cell_type": "code",
   "execution_count": 92,
   "metadata": {},
   "outputs": [
    {
     "data": {
      "text/plain": [
       "Column('id', Integer(), table=<mydocuments>, primary_key=True, nullable=False)"
      ]
     },
     "execution_count": 92,
     "metadata": {},
     "output_type": "execute_result"
    }
   ],
   "source": [
    "# subscript is used to access underlying sqlite column\n",
    "db['id']"
   ]
  },
  {
   "cell_type": "code",
   "execution_count": 93,
   "metadata": {},
   "outputs": [
    {
     "data": {
      "text/plain": [
       "<sqlalchemy.sql.elements.BinaryExpression object at 0x7f3dc74a8f60>"
      ]
     },
     "execution_count": 93,
     "metadata": {},
     "output_type": "execute_result"
    }
   ],
   "source": [
    "# conditionals are applied directly to the column objects (as we'll see with \"where\" clause)\n",
    "db['id'] < 3"
   ]
  },
  {
   "cell_type": "code",
   "execution_count": 95,
   "metadata": {},
   "outputs": [
    {
     "data": {
      "text/plain": [
       "Column('id', Integer(), table=<mydocuments>, primary_key=True, nullable=False)"
      ]
     },
     "execution_count": 95,
     "metadata": {},
     "output_type": "execute_result"
    }
   ],
   "source": [
    "# can also access using .col() method\n",
    "db.col('id')"
   ]
  },
  {
   "cell_type": "code",
   "execution_count": 96,
   "metadata": {},
   "outputs": [
    {
     "data": {
      "text/plain": [
       "<sqlalchemy.sql.base.ImmutableColumnCollection at 0x7f3dc772f828>"
      ]
     },
     "execution_count": 96,
     "metadata": {},
     "output_type": "execute_result"
    }
   ],
   "source": [
    "# to access all column objects (only useful for working directly with sql info)\n",
    "db.columns"
   ]
  },
  {
   "cell_type": "code",
   "execution_count": 48,
   "metadata": {},
   "outputs": [
    {
     "data": {
      "text/plain": [
       "{'id': {'name': 'id',\n",
       "  'type': Integer(),\n",
       "  'comment': None,\n",
       "  'constraints': set(),\n",
       "  'expression': Column('id', Integer(), table=<mydocuments>, primary_key=True, nullable=False),\n",
       "  'foreign_keys': set(),\n",
       "  'index': None,\n",
       "  'nullable': False,\n",
       "  'primary_key': True,\n",
       "  'onupdate': None,\n",
       "  'default': None},\n",
       " 'name': {'name': 'name',\n",
       "  'type': String(),\n",
       "  'comment': None,\n",
       "  'constraints': set(),\n",
       "  'expression': Column('name', String(), table=<mydocuments>, nullable=False),\n",
       "  'foreign_keys': set(),\n",
       "  'index': None,\n",
       "  'nullable': False,\n",
       "  'primary_key': False,\n",
       "  'onupdate': None,\n",
       "  'default': None},\n",
       " 'age': {'name': 'age',\n",
       "  'type': Integer(),\n",
       "  'comment': None,\n",
       "  'constraints': set(),\n",
       "  'expression': Column('age', Integer(), table=<mydocuments>),\n",
       "  'foreign_keys': set(),\n",
       "  'index': None,\n",
       "  'nullable': True,\n",
       "  'primary_key': False,\n",
       "  'onupdate': None,\n",
       "  'default': None}}"
      ]
     },
     "execution_count": 48,
     "metadata": {},
     "output_type": "execute_result"
    }
   ],
   "source": [
    "# to access more detailed schema information\n",
    "db.schemainfo"
   ]
  },
  {
   "cell_type": "markdown",
   "metadata": {},
   "source": [
    "## Regular Selects\n",
    "These functions all return lists of ResultProxy objects. As such, they can be accessed using numerical indices or keyword indices. For instance, if one select output row is ```row=(1, 'user_0')``` (after selecting \"id\" and \"user\"), it can be accessed such that ```row[0]==row['id']``` and ```row[1]==row['user']```."
   ]
  },
  {
   "cell_type": "code",
   "execution_count": 4,
   "metadata": {},
   "outputs": [
    {
     "name": "stdout",
     "output_type": "stream",
     "text": [
      "DocTable2 Query: SELECT mydocuments.id, mydocuments.name, mydocuments.age \n",
      "FROM mydocuments\n",
      " LIMIT :param_1\n"
     ]
    },
    {
     "data": {
      "text/plain": [
       "[(1, 'user_0', 0.28558273804205103), (2, 'user_1', 0.34999448378909426)]"
      ]
     },
     "execution_count": 4,
     "metadata": {},
     "output_type": "execute_result"
    }
   ],
   "source": [
    "db.select(limit=2)"
   ]
  },
  {
   "cell_type": "code",
   "execution_count": 5,
   "metadata": {},
   "outputs": [
    {
     "name": "stdout",
     "output_type": "stream",
     "text": [
      "DocTable2 Query: SELECT mydocuments.id, mydocuments.name \n",
      "FROM mydocuments\n",
      " LIMIT :param_1\n"
     ]
    },
    {
     "data": {
      "text/plain": [
       "[(1, 'user_0')]"
      ]
     },
     "execution_count": 5,
     "metadata": {},
     "output_type": "execute_result"
    }
   ],
   "source": [
    "db.select([db['id'],db['name']], limit=1)"
   ]
  },
  {
   "cell_type": "code",
   "execution_count": 6,
   "metadata": {},
   "outputs": [
    {
     "name": "stdout",
     "output_type": "stream",
     "text": [
      "DocTable2 Query: SELECT mydocuments.id, mydocuments.name, mydocuments.age \n",
      "FROM mydocuments\n",
      " LIMIT :param_1\n"
     ]
    },
    {
     "data": {
      "text/plain": [
       "(1, 'user_0', 0.28558273804205103)"
      ]
     },
     "execution_count": 6,
     "metadata": {},
     "output_type": "execute_result"
    }
   ],
   "source": [
    "db.select_first()"
   ]
  },
  {
   "cell_type": "code",
   "execution_count": 7,
   "metadata": {},
   "outputs": [
    {
     "name": "stdout",
     "output_type": "stream",
     "text": [
      "DocTable2 Query: SELECT mydocuments.name \n",
      "FROM mydocuments\n",
      " LIMIT :param_1\n"
     ]
    },
    {
     "data": {
      "text/plain": [
       "['user_0', 'user_1', 'user_2', 'user_3', 'user_4']"
      ]
     },
     "execution_count": 7,
     "metadata": {},
     "output_type": "execute_result"
    }
   ],
   "source": [
    "db.select(db['name'],limit=5)"
   ]
  },
  {
   "cell_type": "code",
   "execution_count": 8,
   "metadata": {},
   "outputs": [
    {
     "name": "stdout",
     "output_type": "stream",
     "text": [
      "DocTable2 Query: SELECT mydocuments.age \n",
      "FROM mydocuments\n",
      " LIMIT :param_1\n"
     ]
    },
    {
     "data": {
      "text/plain": [
       "0.28558273804205103"
      ]
     },
     "execution_count": 8,
     "metadata": {},
     "output_type": "execute_result"
    }
   ],
   "source": [
    "db.select_first(db['age'])"
   ]
  },
  {
   "cell_type": "markdown",
   "metadata": {},
   "source": [
    "## Conditional Selects"
   ]
  },
  {
   "cell_type": "code",
   "execution_count": 9,
   "metadata": {},
   "outputs": [
    {
     "name": "stdout",
     "output_type": "stream",
     "text": [
      "DocTable2 Query: SELECT mydocuments.id, mydocuments.name, mydocuments.age \n",
      "FROM mydocuments \n",
      "WHERE mydocuments.id = :id_1\n"
     ]
    },
    {
     "data": {
      "text/plain": [
       "[(2, 'user_1', 0.34999448378909426)]"
      ]
     },
     "execution_count": 9,
     "metadata": {},
     "output_type": "execute_result"
    }
   ],
   "source": [
    "db.select(where=db['id']==2)"
   ]
  },
  {
   "cell_type": "code",
   "execution_count": 10,
   "metadata": {},
   "outputs": [
    {
     "name": "stdout",
     "output_type": "stream",
     "text": [
      "DocTable2 Query: SELECT mydocuments.id, mydocuments.name, mydocuments.age \n",
      "FROM mydocuments \n",
      "WHERE mydocuments.id < :id_1\n"
     ]
    },
    {
     "data": {
      "text/plain": [
       "[(1, 'user_0', 0.28558273804205103), (2, 'user_1', 0.34999448378909426)]"
      ]
     },
     "execution_count": 10,
     "metadata": {},
     "output_type": "execute_result"
    }
   ],
   "source": [
    "db.select(where=db['id']<3)"
   ]
  },
  {
   "cell_type": "code",
   "execution_count": 11,
   "metadata": {},
   "outputs": [
    {
     "name": "stdout",
     "output_type": "stream",
     "text": [
      "DocTable2 Query: SELECT mydocuments.id, mydocuments.name, mydocuments.age \n",
      "FROM mydocuments \n",
      "WHERE mydocuments.id >= :id_1 AND mydocuments.id <= :id_2 AND mydocuments.name != :name_1\n"
     ]
    },
    {
     "data": {
      "text/plain": [
       "[(2, 'user_1', 0.34999448378909426), (4, 'user_3', 0.8064246411425373)]"
      ]
     },
     "execution_count": 11,
     "metadata": {},
     "output_type": "execute_result"
    }
   ],
   "source": [
    "# note parantheses to handle order of ops with overloaded bitwise ops\n",
    "db.select(where= (db['id']>=2) & (db['id']<=4) & (db['name']!='user_2'))"
   ]
  },
  {
   "cell_type": "code",
   "execution_count": 12,
   "metadata": {},
   "outputs": [
    {
     "name": "stdout",
     "output_type": "stream",
     "text": [
      "DocTable2 Query: SELECT mydocuments.id, mydocuments.name, mydocuments.age \n",
      "FROM mydocuments \n",
      "WHERE mydocuments.name IN (:name_1, :name_2)\n"
     ]
    },
    {
     "data": {
      "text/plain": [
       "[(3, 'user_2', 0.8164593883769352), (4, 'user_3', 0.8064246411425373)]"
      ]
     },
     "execution_count": 12,
     "metadata": {},
     "output_type": "execute_result"
    }
   ],
   "source": [
    "db.select(where=db['name'].in_(('user_2','user_3')))"
   ]
  },
  {
   "cell_type": "code",
   "execution_count": 18,
   "metadata": {},
   "outputs": [
    {
     "name": "stdout",
     "output_type": "stream",
     "text": [
      "DocTable2 Query: SELECT mydocuments.id, mydocuments.name, mydocuments.age \n",
      "FROM mydocuments \n",
      "WHERE mydocuments.id BETWEEN :id_1 AND :id_2\n"
     ]
    },
    {
     "data": {
      "text/plain": [
       "[(2, 'user_1', 0.34999448378909426),\n",
       " (3, 'user_2', 0.8164593883769352),\n",
       " (4, 'user_3', 0.8064246411425373)]"
      ]
     },
     "execution_count": 18,
     "metadata": {},
     "output_type": "execute_result"
    }
   ],
   "source": [
    "db.select(where=db['id'].between(2,4))"
   ]
  },
  {
   "cell_type": "code",
   "execution_count": 19,
   "metadata": {},
   "outputs": [
    {
     "name": "stdout",
     "output_type": "stream",
     "text": [
      "DocTable2 Query: SELECT mydocuments.id, mydocuments.name, mydocuments.age \n",
      "FROM mydocuments \n",
      "WHERE mydocuments.name NOT IN (:name_1, :name_2) AND mydocuments.id < :id_1\n"
     ]
    },
    {
     "data": {
      "text/plain": [
       "[(1, 'user_0', 0.28558273804205103), (2, 'user_1', 0.34999448378909426)]"
      ]
     },
     "execution_count": 19,
     "metadata": {},
     "output_type": "execute_result"
    }
   ],
   "source": [
    "# use of logical not operator \"~\"\n",
    "db.select(where= ~(db['name'].in_(('user_2','user_3'))) & (db['id'] < 4))"
   ]
  },
  {
   "cell_type": "code",
   "execution_count": 20,
   "metadata": {},
   "outputs": [
    {
     "name": "stdout",
     "output_type": "stream",
     "text": [
      "DocTable2 Query: SELECT mydocuments.id, mydocuments.name, mydocuments.age \n",
      "FROM mydocuments \n",
      "WHERE mydocuments.id != :id_1 AND mydocuments.id <= :id_2\n"
     ]
    },
    {
     "data": {
      "text/plain": [
       "[(1, 'user_0', 0.28558273804205103), (2, 'user_1', 0.34999448378909426)]"
      ]
     },
     "execution_count": 20,
     "metadata": {},
     "output_type": "execute_result"
    }
   ],
   "source": [
    "# more verbose operators .and_, .or_, and .not_ are bound to the doctable package\n",
    "db.select(where= dt.or_(dt.not_(db['id']==4)) & (db['id'] <= 2))"
   ]
  },
  {
   "cell_type": "code",
   "execution_count": 21,
   "metadata": {},
   "outputs": [
    {
     "name": "stdout",
     "output_type": "stream",
     "text": [
      "DocTable2 Query: SELECT mydocuments.age \n",
      "FROM mydocuments\n",
      "DocTable2 Query: SELECT mydocuments.name \n",
      "FROM mydocuments \n",
      "WHERE mydocuments.age > :age_1\n",
      " LIMIT :param_1\n"
     ]
    },
    {
     "data": {
      "text/plain": [
       "['user_2', 'user_3']"
      ]
     },
     "execution_count": 21,
     "metadata": {},
     "output_type": "execute_result"
    }
   ],
   "source": [
    "# now with simple computation\n",
    "ages = db.select(db['age'])\n",
    "mean_age = sum(ages)/len(ages)\n",
    "db.select(db['name'], where=db['age']>mean_age, limit=2)"
   ]
  },
  {
   "cell_type": "code",
   "execution_count": 29,
   "metadata": {},
   "outputs": [
    {
     "name": "stdout",
     "output_type": "stream",
     "text": [
      "DocTable2 Query: SELECT mydocuments.age AS myage, mydocuments.name AS myname \n",
      "FROM mydocuments\n",
      " LIMIT :param_1\n"
     ]
    },
    {
     "data": {
      "text/plain": [
       "{'myage': 0.28558273804205103, 'myname': 'user_0'}"
      ]
     },
     "execution_count": 29,
     "metadata": {},
     "output_type": "execute_result"
    }
   ],
   "source": [
    "# apply .label() method to columns\n",
    "dict(db.select_first([db['age'].label('myage'), db['name'].label('myname')]))"
   ]
  },
  {
   "cell_type": "markdown",
   "metadata": {},
   "source": [
    "## Column Operators\n",
    "I bind the .min, .max, .count, .sum, and .mode methods to the column objects. Additionally, I move the .count method to a separate DocTable2 method."
   ]
  },
  {
   "cell_type": "code",
   "execution_count": 44,
   "metadata": {},
   "outputs": [
    {
     "name": "stdout",
     "output_type": "stream",
     "text": [
      "DocTable2 Query: SELECT sum(mydocuments.age) AS sum_1, count(mydocuments.age) AS count_1, mydocuments.age \n",
      "FROM mydocuments\n",
      " LIMIT :param_1\n"
     ]
    },
    {
     "data": {
      "text/plain": [
       "(4.904853004729304, 10, 0.28558273804205103)"
      ]
     },
     "execution_count": 44,
     "metadata": {},
     "output_type": "execute_result"
    }
   ],
   "source": [
    "db.select_first([db['age'].sum, db['age'].count, db['age']])"
   ]
  },
  {
   "cell_type": "code",
   "execution_count": 45,
   "metadata": {},
   "outputs": [
    {
     "name": "stdout",
     "output_type": "stream",
     "text": [
      "DocTable2 Query: SELECT sum(mydocuments.age) AS sum, count(mydocuments.age) AS ct \n",
      "FROM mydocuments\n",
      " LIMIT :param_1\n"
     ]
    },
    {
     "data": {
      "text/plain": [
       "{'sum': 4.904853004729304, 'ct': 10}"
      ]
     },
     "execution_count": 45,
     "metadata": {},
     "output_type": "execute_result"
    }
   ],
   "source": [
    "# with labels now\n",
    "dict(db.select_first([db['age'].sum.label('sum'), db['age'].count.label('ct')]))"
   ]
  },
  {
   "cell_type": "markdown",
   "metadata": {},
   "source": [
    "## Select as Pandas Series and DataFrame\n",
    "These are especially useful when working with metadata because Pandas provides robust descriptive and plotting features than SQL alone. Good for generating sample information."
   ]
  },
  {
   "cell_type": "code",
   "execution_count": 54,
   "metadata": {},
   "outputs": [
    {
     "name": "stdout",
     "output_type": "stream",
     "text": [
      "DocTable2 Query: SELECT mydocuments.age \n",
      "FROM mydocuments\n"
     ]
    },
    {
     "data": {
      "text/plain": [
       "0    0.285583\n",
       "1    0.349994\n",
       "dtype: float64"
      ]
     },
     "execution_count": 54,
     "metadata": {},
     "output_type": "execute_result"
    }
   ],
   "source": [
    "# must provide only a single column\n",
    "db.select_series(db['age']).head(2)"
   ]
  },
  {
   "cell_type": "code",
   "execution_count": 59,
   "metadata": {},
   "outputs": [
    {
     "name": "stdout",
     "output_type": "stream",
     "text": [
      "DocTable2 Query: SELECT mydocuments.age \n",
      "FROM mydocuments\n"
     ]
    },
    {
     "data": {
      "text/plain": [
       "0.025    0.167779\n",
       "0.985    0.921761\n",
       "dtype: float64"
      ]
     },
     "execution_count": 59,
     "metadata": {},
     "output_type": "execute_result"
    }
   ],
   "source": [
    "db.select_series(db['age']).quantile([0.025, 0.985])"
   ]
  },
  {
   "cell_type": "code",
   "execution_count": 60,
   "metadata": {},
   "outputs": [
    {
     "name": "stdout",
     "output_type": "stream",
     "text": [
      "DocTable2 Query: SELECT mydocuments.id, mydocuments.age \n",
      "FROM mydocuments\n"
     ]
    },
    {
     "data": {
      "text/html": [
       "<div>\n",
       "<style scoped>\n",
       "    .dataframe tbody tr th:only-of-type {\n",
       "        vertical-align: middle;\n",
       "    }\n",
       "\n",
       "    .dataframe tbody tr th {\n",
       "        vertical-align: top;\n",
       "    }\n",
       "\n",
       "    .dataframe thead th {\n",
       "        text-align: right;\n",
       "    }\n",
       "</style>\n",
       "<table border=\"1\" class=\"dataframe\">\n",
       "  <thead>\n",
       "    <tr style=\"text-align: right;\">\n",
       "      <th></th>\n",
       "      <th>id</th>\n",
       "      <th>age</th>\n",
       "    </tr>\n",
       "  </thead>\n",
       "  <tbody>\n",
       "    <tr>\n",
       "      <td>0</td>\n",
       "      <td>1</td>\n",
       "      <td>0.285583</td>\n",
       "    </tr>\n",
       "    <tr>\n",
       "      <td>1</td>\n",
       "      <td>2</td>\n",
       "      <td>0.349994</td>\n",
       "    </tr>\n",
       "  </tbody>\n",
       "</table>\n",
       "</div>"
      ],
      "text/plain": [
       "   id       age\n",
       "0   1  0.285583\n",
       "1   2  0.349994"
      ]
     },
     "execution_count": 60,
     "metadata": {},
     "output_type": "execute_result"
    }
   ],
   "source": [
    "db.select_df([db['id'],db['age']]).head(2)"
   ]
  },
  {
   "cell_type": "code",
   "execution_count": 64,
   "metadata": {},
   "outputs": [
    {
     "name": "stdout",
     "output_type": "stream",
     "text": [
      "DocTable2 Query: SELECT mydocuments.id, mydocuments.age \n",
      "FROM mydocuments\n"
     ]
    },
    {
     "data": {
      "text/html": [
       "<div>\n",
       "<style scoped>\n",
       "    .dataframe tbody tr th:only-of-type {\n",
       "        vertical-align: middle;\n",
       "    }\n",
       "\n",
       "    .dataframe tbody tr th {\n",
       "        vertical-align: top;\n",
       "    }\n",
       "\n",
       "    .dataframe thead th {\n",
       "        text-align: right;\n",
       "    }\n",
       "</style>\n",
       "<table border=\"1\" class=\"dataframe\">\n",
       "  <thead>\n",
       "    <tr style=\"text-align: right;\">\n",
       "      <th></th>\n",
       "      <th>id</th>\n",
       "      <th>age</th>\n",
       "    </tr>\n",
       "  </thead>\n",
       "  <tbody>\n",
       "    <tr>\n",
       "      <td>id</td>\n",
       "      <td>1.000000</td>\n",
       "      <td>0.074848</td>\n",
       "    </tr>\n",
       "    <tr>\n",
       "      <td>age</td>\n",
       "      <td>0.074848</td>\n",
       "      <td>1.000000</td>\n",
       "    </tr>\n",
       "  </tbody>\n",
       "</table>\n",
       "</div>"
      ],
      "text/plain": [
       "           id       age\n",
       "id   1.000000  0.074848\n",
       "age  0.074848  1.000000"
      ]
     },
     "execution_count": 64,
     "metadata": {},
     "output_type": "execute_result"
    }
   ],
   "source": [
    "# must provide list of cols (even for one col)\n",
    "db.select_df([db['id'],db['age']]).corr()"
   ]
  },
  {
   "cell_type": "code",
   "execution_count": 63,
   "metadata": {},
   "outputs": [
    {
     "name": "stdout",
     "output_type": "stream",
     "text": [
      "DocTable2 Query: SELECT mydocuments.id, mydocuments.age \n",
      "FROM mydocuments\n"
     ]
    },
    {
     "data": {
      "text/html": [
       "<div>\n",
       "<style scoped>\n",
       "    .dataframe tbody tr th:only-of-type {\n",
       "        vertical-align: middle;\n",
       "    }\n",
       "\n",
       "    .dataframe tbody tr th {\n",
       "        vertical-align: top;\n",
       "    }\n",
       "\n",
       "    .dataframe thead th {\n",
       "        text-align: right;\n",
       "    }\n",
       "</style>\n",
       "<table border=\"1\" class=\"dataframe\">\n",
       "  <thead>\n",
       "    <tr style=\"text-align: right;\">\n",
       "      <th></th>\n",
       "      <th>count</th>\n",
       "      <th>mean</th>\n",
       "      <th>std</th>\n",
       "      <th>min</th>\n",
       "      <th>25%</th>\n",
       "      <th>50%</th>\n",
       "      <th>75%</th>\n",
       "      <th>max</th>\n",
       "    </tr>\n",
       "  </thead>\n",
       "  <tbody>\n",
       "    <tr>\n",
       "      <td>id</td>\n",
       "      <td>10.0</td>\n",
       "      <td>5.500000</td>\n",
       "      <td>3.027650</td>\n",
       "      <td>1.000000</td>\n",
       "      <td>3.250000</td>\n",
       "      <td>5.500000</td>\n",
       "      <td>7.750000</td>\n",
       "      <td>10.000000</td>\n",
       "    </tr>\n",
       "    <tr>\n",
       "      <td>age</td>\n",
       "      <td>10.0</td>\n",
       "      <td>0.490485</td>\n",
       "      <td>0.267332</td>\n",
       "      <td>0.133578</td>\n",
       "      <td>0.327476</td>\n",
       "      <td>0.402144</td>\n",
       "      <td>0.717409</td>\n",
       "      <td>0.938195</td>\n",
       "    </tr>\n",
       "  </tbody>\n",
       "</table>\n",
       "</div>"
      ],
      "text/plain": [
       "     count      mean       std       min       25%       50%       75%  \\\n",
       "id    10.0  5.500000  3.027650  1.000000  3.250000  5.500000  7.750000   \n",
       "age   10.0  0.490485  0.267332  0.133578  0.327476  0.402144  0.717409   \n",
       "\n",
       "           max  \n",
       "id   10.000000  \n",
       "age   0.938195  "
      ]
     },
     "execution_count": 63,
     "metadata": {},
     "output_type": "execute_result"
    }
   ],
   "source": [
    "db.select_df([db['id'],db['age']]).describe().T"
   ]
  },
  {
   "cell_type": "code",
   "execution_count": 90,
   "metadata": {},
   "outputs": [
    {
     "name": "stdout",
     "output_type": "stream",
     "text": [
      "DocTable2 Query: SELECT mydocuments.age \n",
      "FROM mydocuments\n",
      "DocTable2 Query: SELECT mydocuments.id, mydocuments.age \n",
      "FROM mydocuments\n"
     ]
    },
    {
     "data": {
      "text/html": [
       "<div>\n",
       "<style scoped>\n",
       "    .dataframe tbody tr th:only-of-type {\n",
       "        vertical-align: middle;\n",
       "    }\n",
       "\n",
       "    .dataframe tbody tr th {\n",
       "        vertical-align: top;\n",
       "    }\n",
       "\n",
       "    .dataframe thead tr th {\n",
       "        text-align: left;\n",
       "    }\n",
       "\n",
       "    .dataframe thead tr:last-of-type th {\n",
       "        text-align: right;\n",
       "    }\n",
       "</style>\n",
       "<table border=\"1\" class=\"dataframe\">\n",
       "  <thead>\n",
       "    <tr>\n",
       "      <th></th>\n",
       "      <th colspan=\"8\" halign=\"left\">id</th>\n",
       "      <th colspan=\"8\" halign=\"left\">age</th>\n",
       "    </tr>\n",
       "    <tr>\n",
       "      <th></th>\n",
       "      <th>count</th>\n",
       "      <th>mean</th>\n",
       "      <th>std</th>\n",
       "      <th>min</th>\n",
       "      <th>25%</th>\n",
       "      <th>50%</th>\n",
       "      <th>75%</th>\n",
       "      <th>max</th>\n",
       "      <th>count</th>\n",
       "      <th>mean</th>\n",
       "      <th>std</th>\n",
       "      <th>min</th>\n",
       "      <th>25%</th>\n",
       "      <th>50%</th>\n",
       "      <th>75%</th>\n",
       "      <th>max</th>\n",
       "    </tr>\n",
       "    <tr>\n",
       "      <th>old_grp</th>\n",
       "      <th></th>\n",
       "      <th></th>\n",
       "      <th></th>\n",
       "      <th></th>\n",
       "      <th></th>\n",
       "      <th></th>\n",
       "      <th></th>\n",
       "      <th></th>\n",
       "      <th></th>\n",
       "      <th></th>\n",
       "      <th></th>\n",
       "      <th></th>\n",
       "      <th></th>\n",
       "      <th></th>\n",
       "      <th></th>\n",
       "      <th></th>\n",
       "    </tr>\n",
       "  </thead>\n",
       "  <tbody>\n",
       "    <tr>\n",
       "      <td>False</td>\n",
       "      <td>7.0</td>\n",
       "      <td>5.714286</td>\n",
       "      <td>3.352327</td>\n",
       "      <td>1.0</td>\n",
       "      <td>3.5</td>\n",
       "      <td>6.0</td>\n",
       "      <td>8.0</td>\n",
       "      <td>10.0</td>\n",
       "      <td>7.0</td>\n",
       "      <td>0.334825</td>\n",
       "      <td>0.105723</td>\n",
       "      <td>0.133578</td>\n",
       "      <td>0.302777</td>\n",
       "      <td>0.349994</td>\n",
       "      <td>0.402144</td>\n",
       "      <td>0.450361</td>\n",
       "    </tr>\n",
       "    <tr>\n",
       "      <td>True</td>\n",
       "      <td>3.0</td>\n",
       "      <td>5.000000</td>\n",
       "      <td>2.645751</td>\n",
       "      <td>3.0</td>\n",
       "      <td>3.5</td>\n",
       "      <td>4.0</td>\n",
       "      <td>6.0</td>\n",
       "      <td>8.0</td>\n",
       "      <td>3.0</td>\n",
       "      <td>0.853693</td>\n",
       "      <td>0.073353</td>\n",
       "      <td>0.806425</td>\n",
       "      <td>0.811442</td>\n",
       "      <td>0.816459</td>\n",
       "      <td>0.877327</td>\n",
       "      <td>0.938195</td>\n",
       "    </tr>\n",
       "  </tbody>\n",
       "</table>\n",
       "</div>"
      ],
      "text/plain": [
       "           id                                                 age            \\\n",
       "        count      mean       std  min  25%  50%  75%   max count      mean   \n",
       "old_grp                                                                       \n",
       "False     7.0  5.714286  3.352327  1.0  3.5  6.0  8.0  10.0   7.0  0.334825   \n",
       "True      3.0  5.000000  2.645751  3.0  3.5  4.0  6.0   8.0   3.0  0.853693   \n",
       "\n",
       "                                                                     \n",
       "              std       min       25%       50%       75%       max  \n",
       "old_grp                                                              \n",
       "False    0.105723  0.133578  0.302777  0.349994  0.402144  0.450361  \n",
       "True     0.073353  0.806425  0.811442  0.816459  0.877327  0.938195  "
      ]
     },
     "execution_count": 90,
     "metadata": {},
     "output_type": "execute_result"
    }
   ],
   "source": [
    "mean_age = db.select_series(db['age']).mean()\n",
    "df = db.select_df([db['id'],db['age']])\n",
    "df['old_grp'] = df['age'] > mean_age\n",
    "df.groupby('old_grp').describe()"
   ]
  },
  {
   "cell_type": "code",
   "execution_count": 89,
   "metadata": {},
   "outputs": [
    {
     "name": "stdout",
     "output_type": "stream",
     "text": [
      "DocTable2 Query: SELECT mydocuments.age \n",
      "FROM mydocuments\n",
      "DocTable2 Query: SELECT mydocuments.name, mydocuments.age \n",
      "FROM mydocuments\n"
     ]
    },
    {
     "data": {
      "text/html": [
       "<div>\n",
       "<style scoped>\n",
       "    .dataframe tbody tr th:only-of-type {\n",
       "        vertical-align: middle;\n",
       "    }\n",
       "\n",
       "    .dataframe tbody tr th {\n",
       "        vertical-align: top;\n",
       "    }\n",
       "\n",
       "    .dataframe thead th {\n",
       "        text-align: right;\n",
       "    }\n",
       "</style>\n",
       "<table border=\"1\" class=\"dataframe\">\n",
       "  <thead>\n",
       "    <tr style=\"text-align: right;\">\n",
       "      <th></th>\n",
       "      <th>first_name</th>\n",
       "      <th>var_age</th>\n",
       "    </tr>\n",
       "    <tr>\n",
       "      <th>old_grp</th>\n",
       "      <th></th>\n",
       "      <th></th>\n",
       "    </tr>\n",
       "  </thead>\n",
       "  <tbody>\n",
       "    <tr>\n",
       "      <td>False</td>\n",
       "      <td>user_0</td>\n",
       "      <td>0.011177</td>\n",
       "    </tr>\n",
       "    <tr>\n",
       "      <td>True</td>\n",
       "      <td>user_2</td>\n",
       "      <td>0.005381</td>\n",
       "    </tr>\n",
       "  </tbody>\n",
       "</table>\n",
       "</div>"
      ],
      "text/plain": [
       "        first_name   var_age\n",
       "old_grp                     \n",
       "False       user_0  0.011177\n",
       "True        user_2  0.005381"
      ]
     },
     "execution_count": 89,
     "metadata": {},
     "output_type": "execute_result"
    }
   ],
   "source": [
    "# more complicated groupby aggregation.\n",
    "# calculates the variance both for entries above and below average age\n",
    "mean_age = db.select_series(db['age']).mean()\n",
    "df = db.select_df([db['name'],db['age']])\n",
    "df['old_grp'] = df['age']>mean_age\n",
    "df.groupby('old_grp').agg(**{\n",
    "    'first_name':pd.NamedAgg(column='name', aggfunc='first'),\n",
    "    'var_age':pd.NamedAgg(column='age', aggfunc=np.var),\n",
    "})"
   ]
  },
  {
   "cell_type": "markdown",
   "metadata": {},
   "source": [
    "## Count Method and Get Next ID\n",
    "```.count()``` is a convenience method. Mostly the same could be accomplished by ```db.select_first(db['id'].count)```, but this requires no reference to a specific column.\n",
    "\n",
    "```.next_id()``` is especially useful if one hopes to enter the id (or any primary key column) into new rows manually. Especially useful because SQL engines don't provide new ids except when a single insert is performed."
   ]
  },
  {
   "cell_type": "code",
   "execution_count": 46,
   "metadata": {},
   "outputs": [
    {
     "name": "stdout",
     "output_type": "stream",
     "text": [
      "DocTable2 Query: SELECT count() AS count_1 \n",
      "FROM mydocuments\n",
      " LIMIT :param_1\n"
     ]
    },
    {
     "data": {
      "text/plain": [
       "10"
      ]
     },
     "execution_count": 46,
     "metadata": {},
     "output_type": "execute_result"
    }
   ],
   "source": [
    "db.count()"
   ]
  },
  {
   "cell_type": "code",
   "execution_count": 47,
   "metadata": {},
   "outputs": [
    {
     "name": "stdout",
     "output_type": "stream",
     "text": [
      "DocTable2 Query: SELECT count() AS count_1 \n",
      "FROM mydocuments \n",
      "WHERE mydocuments.age < :age_1\n",
      " LIMIT :param_1\n"
     ]
    },
    {
     "data": {
      "text/plain": [
       "7"
      ]
     },
     "execution_count": 47,
     "metadata": {},
     "output_type": "execute_result"
    }
   ],
   "source": [
    "db.count(db['age'] < 0.5)"
   ]
  },
  {
   "cell_type": "code",
   "execution_count": 49,
   "metadata": {},
   "outputs": [
    {
     "name": "stdout",
     "output_type": "stream",
     "text": [
      "DocTable2 Query: SELECT max(mydocuments.id) AS max_1 \n",
      "FROM mydocuments\n",
      " LIMIT :param_1\n"
     ]
    },
    {
     "data": {
      "text/plain": [
       "11"
      ]
     },
     "execution_count": 49,
     "metadata": {},
     "output_type": "execute_result"
    }
   ],
   "source": [
    "db.next_id()"
   ]
  },
  {
   "cell_type": "code",
   "execution_count": 51,
   "metadata": {},
   "outputs": [
    {
     "name": "stdout",
     "output_type": "stream",
     "text": [
      "DocTable2 Query: SELECT max(mydocuments.age) AS max_1 \n",
      "FROM mydocuments\n",
      " LIMIT :param_1\n"
     ]
    },
    {
     "data": {
      "text/plain": [
       "1.9381948101512547"
      ]
     },
     "execution_count": 51,
     "metadata": {},
     "output_type": "execute_result"
    }
   ],
   "source": [
    "# weird (but possible) with 'age' because it's not an actual primary key\n",
    "db.next_id(idcol='age')"
   ]
  }
 ],
 "metadata": {
  "kernelspec": {
   "display_name": "Python 3",
   "language": "python",
   "name": "python3"
  },
  "language_info": {
   "codemirror_mode": {
    "name": "ipython",
    "version": 3
   },
   "file_extension": ".py",
   "mimetype": "text/x-python",
   "name": "python",
   "nbconvert_exporter": "python",
   "pygments_lexer": "ipython3",
   "version": "3.7.3"
  }
 },
 "nbformat": 4,
 "nbformat_minor": 4
}
