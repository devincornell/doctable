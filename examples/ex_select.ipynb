{
 "cells": [
  {
   "cell_type": "code",
   "execution_count": 1,
   "metadata": {},
   "outputs": [],
   "source": [
    "\n",
    "import pandas as pd\n",
    "import numpy as np\n",
    "import typing\n",
    "\n",
    "import sys\n",
    "sys.path.append('..')\n",
    "import doctable"
   ]
  },
  {
   "cell_type": "code",
   "execution_count": 2,
   "metadata": {},
   "outputs": [
    {
     "name": "stdout",
     "output_type": "stream",
     "text": [
      "2023-11-12 11:37:09,042 INFO sqlalchemy.engine.Engine BEGIN (implicit)\n",
      "2023-11-12 11:37:09,042 INFO sqlalchemy.engine.Engine PRAGMA main.table_info(\"Record\")\n",
      "2023-11-12 11:37:09,043 INFO sqlalchemy.engine.Engine [raw sql] ()\n",
      "2023-11-12 11:37:09,043 INFO sqlalchemy.engine.Engine PRAGMA temp.table_info(\"Record\")\n",
      "2023-11-12 11:37:09,044 INFO sqlalchemy.engine.Engine [raw sql] ()\n",
      "2023-11-12 11:37:09,045 INFO sqlalchemy.engine.Engine \n",
      "CREATE TABLE \"Record\" (\n",
      "\tid INTEGER, \n",
      "\tage INTEGER, \n",
      "\tis_old INTEGER, \n",
      "\tname VARCHAR NOT NULL, \n",
      "\tPRIMARY KEY (id), \n",
      "\tUNIQUE (name)\n",
      ")\n",
      "\n",
      "\n",
      "2023-11-12 11:37:09,046 INFO sqlalchemy.engine.Engine [no key 0.00039s] ()\n",
      "2023-11-12 11:37:09,046 INFO sqlalchemy.engine.Engine COMMIT\n"
     ]
    }
   ],
   "source": [
    "@doctable.table_schema\n",
    "class Record:\n",
    "    name: str = doctable.Column(column_args=doctable.ColumnArgs(nullable=False, unique=True))\n",
    "    age: int = doctable.Column()\n",
    "    is_old: bool = doctable.Column()\n",
    "    \n",
    "    id: int = doctable.Column(\n",
    "        column_args=doctable.ColumnArgs(\n",
    "            order = 0, \n",
    "            primary_key=True, \n",
    "            autoincrement=True\n",
    "        ),\n",
    "    )\n",
    "\n",
    "core = doctable.ConnectCore.open(target=':memory:', dialect='sqlite', echo=True)\n",
    "\n",
    "with core.begin_ddl() as ddl:\n",
    "    rtab = ddl.create_table_if_not_exists(container_type=Record)"
   ]
  },
  {
   "cell_type": "code",
   "execution_count": 3,
   "metadata": {},
   "outputs": [
    {
     "name": "stdout",
     "output_type": "stream",
     "text": [
      "2023-11-12 11:37:09,086 INFO sqlalchemy.engine.Engine BEGIN (implicit)\n",
      "2023-11-12 11:37:09,087 INFO sqlalchemy.engine.Engine INSERT OR FAIL INTO \"Record\" (age, is_old, name) VALUES (?, ?, ?)\n",
      "2023-11-12 11:37:09,088 INFO sqlalchemy.engine.Engine [generated in 0.00190s] [(84, True, 'user_0'), (75, True, 'user_1'), (42, False, 'user_2'), (25, False, 'user_3'), (51, True, 'user_4'), (40, False, 'user_5'), (78, True, 'user_6'), (30, False, 'user_7'), (47, False, 'user_8'), (58, True, 'user_9')]\n",
      "<sqlalchemy.engine.cursor.CursorResult object at 0x7f3d3a1b33f0>\n",
      "2023-11-12 11:37:09,089 INFO sqlalchemy.engine.Engine COMMIT\n",
      "2023-11-12 11:37:09,092 INFO sqlalchemy.engine.Engine BEGIN (implicit)\n",
      "2023-11-12 11:37:09,093 INFO sqlalchemy.engine.Engine SELECT \"Record\".id, \"Record\".age, \"Record\".is_old, \"Record\".name \n",
      "FROM \"Record\"\n",
      "2023-11-12 11:37:09,093 INFO sqlalchemy.engine.Engine [generated in 0.00117s] ()\n",
      "2023-11-12 11:37:09,095 INFO sqlalchemy.engine.Engine COMMIT\n"
     ]
    },
    {
     "data": {
      "text/html": [
       "<div>\n",
       "<style scoped>\n",
       "    .dataframe tbody tr th:only-of-type {\n",
       "        vertical-align: middle;\n",
       "    }\n",
       "\n",
       "    .dataframe tbody tr th {\n",
       "        vertical-align: top;\n",
       "    }\n",
       "\n",
       "    .dataframe thead th {\n",
       "        text-align: right;\n",
       "    }\n",
       "</style>\n",
       "<table border=\"1\" class=\"dataframe\">\n",
       "  <thead>\n",
       "    <tr style=\"text-align: right;\">\n",
       "      <th></th>\n",
       "      <th>id</th>\n",
       "      <th>age</th>\n",
       "      <th>is_old</th>\n",
       "      <th>name</th>\n",
       "    </tr>\n",
       "  </thead>\n",
       "  <tbody>\n",
       "    <tr>\n",
       "      <th>0</th>\n",
       "      <td>1</td>\n",
       "      <td>84</td>\n",
       "      <td>1</td>\n",
       "      <td>user_0</td>\n",
       "    </tr>\n",
       "    <tr>\n",
       "      <th>1</th>\n",
       "      <td>2</td>\n",
       "      <td>75</td>\n",
       "      <td>1</td>\n",
       "      <td>user_1</td>\n",
       "    </tr>\n",
       "    <tr>\n",
       "      <th>2</th>\n",
       "      <td>3</td>\n",
       "      <td>42</td>\n",
       "      <td>0</td>\n",
       "      <td>user_2</td>\n",
       "    </tr>\n",
       "    <tr>\n",
       "      <th>3</th>\n",
       "      <td>4</td>\n",
       "      <td>25</td>\n",
       "      <td>0</td>\n",
       "      <td>user_3</td>\n",
       "    </tr>\n",
       "    <tr>\n",
       "      <th>4</th>\n",
       "      <td>5</td>\n",
       "      <td>51</td>\n",
       "      <td>1</td>\n",
       "      <td>user_4</td>\n",
       "    </tr>\n",
       "    <tr>\n",
       "      <th>5</th>\n",
       "      <td>6</td>\n",
       "      <td>40</td>\n",
       "      <td>0</td>\n",
       "      <td>user_5</td>\n",
       "    </tr>\n",
       "    <tr>\n",
       "      <th>6</th>\n",
       "      <td>7</td>\n",
       "      <td>78</td>\n",
       "      <td>1</td>\n",
       "      <td>user_6</td>\n",
       "    </tr>\n",
       "    <tr>\n",
       "      <th>7</th>\n",
       "      <td>8</td>\n",
       "      <td>30</td>\n",
       "      <td>0</td>\n",
       "      <td>user_7</td>\n",
       "    </tr>\n",
       "    <tr>\n",
       "      <th>8</th>\n",
       "      <td>9</td>\n",
       "      <td>47</td>\n",
       "      <td>0</td>\n",
       "      <td>user_8</td>\n",
       "    </tr>\n",
       "    <tr>\n",
       "      <th>9</th>\n",
       "      <td>10</td>\n",
       "      <td>58</td>\n",
       "      <td>1</td>\n",
       "      <td>user_9</td>\n",
       "    </tr>\n",
       "  </tbody>\n",
       "</table>\n",
       "</div>"
      ],
      "text/plain": [
       "   id  age  is_old    name\n",
       "0   1   84       1  user_0\n",
       "1   2   75       1  user_1\n",
       "2   3   42       0  user_2\n",
       "3   4   25       0  user_3\n",
       "4   5   51       1  user_4\n",
       "5   6   40       0  user_5\n",
       "6   7   78       1  user_6\n",
       "7   8   30       0  user_7\n",
       "8   9   47       0  user_8\n",
       "9  10   58       1  user_9"
      ]
     },
     "execution_count": 3,
     "metadata": {},
     "output_type": "execute_result"
    }
   ],
   "source": [
    "import random\n",
    "random.seed(0)\n",
    "\n",
    "new_records: typing.List[Record] = list()\n",
    "for i in range(10):\n",
    "    age = int(random.random()*100) # number in [0,1]\n",
    "    is_old = age > 50\n",
    "    new_records.append(Record(name='user_'+str(i), age=age, is_old=is_old))\n",
    "\n",
    "# insert new records\n",
    "with rtab.query() as q:\n",
    "    print(q.insert_multi(new_records))\n",
    "\n",
    "# dataframe select (for example purposes - .df() will be covered later)\n",
    "with core.query() as q:\n",
    "    r = q.select(rtab.all_cols()).df()\n",
    "r"
   ]
  },
  {
   "cell_type": "markdown",
   "metadata": {},
   "source": [
    "## Two Interfaces: `ConnectQuery` and `TableQuery`\n",
    "\n",
    "There are two interfaces for performing queries: `ConnectQuery` and `TableQuery`. \n",
    "\n",
    "+ **`ConnectQuery`** table-agnostic interface for querying any table in any result format.\n",
    "\n",
    "+ **`TableQuery`** table-specific interface for querying a specific table. Insert and select from container objects used to define the schema.\n"
   ]
  },
  {
   "cell_type": "code",
   "execution_count": 4,
   "metadata": {},
   "outputs": [
    {
     "name": "stdout",
     "output_type": "stream",
     "text": [
      "<class 'doctable.query.connectquery.ConnectQuery'>\n",
      "<class 'doctable.query.tablequery.TableQuery'>\n"
     ]
    }
   ],
   "source": [
    "# ConnectQuery - table agnostic\n",
    "with core.query() as q:\n",
    "    print(type(q))\n",
    "\n",
    "# TableQuery - queries are relative to specific \n",
    "# table, results appear as container objects\n",
    "with rtab.query() as q:\n",
    "    print(type(q))"
   ]
  },
  {
   "cell_type": "markdown",
   "metadata": {},
   "source": [
    "### `ConnectQuery` Basics\n",
    "\n",
    "Every query begins with the `.query()` method, which returns a `ConnectQuery` object. This object maintains a database connection, and, when used as a context manager, will commit all changes upon exit. It is fine to use the `ConnectQuery` object without a context manager for queries that do not require commits.\n",
    "\n",
    "This example is the most basic select query we can execute. Note that `ConnectQuery` methods are table-agnostic, so we must specify columns to be selected - in this case, we provide `rtab.all_cols()` to specify that we want to query all columns from the `Record` table. It returns a `sqlalchemy.CursorResult` object that we will discuss later."
   ]
  },
  {
   "cell_type": "code",
   "execution_count": 5,
   "metadata": {},
   "outputs": [
    {
     "name": "stdout",
     "output_type": "stream",
     "text": [
      "2023-11-12 11:37:09,196 INFO sqlalchemy.engine.Engine BEGIN (implicit)\n",
      "2023-11-12 11:37:09,199 INFO sqlalchemy.engine.Engine SELECT \"Record\".id, \"Record\".age, \"Record\".is_old, \"Record\".name \n",
      "FROM \"Record\"\n",
      "2023-11-12 11:37:09,200 INFO sqlalchemy.engine.Engine [cached since 0.1082s ago] ()\n"
     ]
    },
    {
     "data": {
      "text/plain": [
       "<sqlalchemy.engine.cursor.CursorResult at 0x7f3d3a238130>"
      ]
     },
     "execution_count": 5,
     "metadata": {},
     "output_type": "execute_result"
    }
   ],
   "source": [
    "core.query().select(rtab.all_cols())"
   ]
  },
  {
   "cell_type": "markdown",
   "metadata": {},
   "source": [
    "### Selecting Specific Columns\n",
    "\n",
    "In many cases, you would not want to select all columns from a given table - for this reason, there are several methods you can use to specify the desired columns. In addition to `.all_cols()` in the above snippet, you may use any of these methods.\n",
    "\n",
    "| Method | Description |\n",
    "| --- | --- |\n",
    "| `.all_cols()` | specify that we want all columns |\n",
    "| `.cols('col1', 'col2')` | specify set of columns |\n",
    "| `table['col1']` | specify single column |\n",
    "| `table[['col1', 'col2']]` | specify multiple columns |\n",
    "| `table['col1':'col3']` | specify sequential range of columns |"
   ]
  },
  {
   "cell_type": "code",
   "execution_count": 6,
   "metadata": {},
   "outputs": [
    {
     "data": {
      "text/plain": [
       "[Column('id', Integer(), table=<Record>, primary_key=True),\n",
       " Column('age', Integer(), table=<Record>),\n",
       " Column('is_old', Integer(), table=<Record>),\n",
       " Column('name', String(), table=<Record>, nullable=False)]"
      ]
     },
     "execution_count": 6,
     "metadata": {},
     "output_type": "execute_result"
    }
   ],
   "source": [
    "# select all columns\n",
    "rtab.all_cols()"
   ]
  },
  {
   "cell_type": "code",
   "execution_count": 7,
   "metadata": {},
   "outputs": [
    {
     "data": {
      "text/plain": [
       "[Column('id', Integer(), table=<Record>, primary_key=True),\n",
       " Column('name', String(), table=<Record>, nullable=False)]"
      ]
     },
     "execution_count": 7,
     "metadata": {},
     "output_type": "execute_result"
    }
   ],
   "source": [
    "# .cols method\n",
    "rtab.cols('id', 'name')"
   ]
  },
  {
   "cell_type": "code",
   "execution_count": 8,
   "metadata": {},
   "outputs": [
    {
     "data": {
      "text/plain": [
       "Column('age', Integer(), table=<Record>)"
      ]
     },
     "execution_count": 8,
     "metadata": {},
     "output_type": "execute_result"
    }
   ],
   "source": [
    "# single-column subscript\n",
    "rtab['age']"
   ]
  },
  {
   "cell_type": "code",
   "execution_count": 9,
   "metadata": {},
   "outputs": [
    {
     "data": {
      "text/plain": [
       "[Column('id', Integer(), table=<Record>, primary_key=True),\n",
       " Column('is_old', Integer(), table=<Record>)]"
      ]
     },
     "execution_count": 9,
     "metadata": {},
     "output_type": "execute_result"
    }
   ],
   "source": [
    "# list of columns\n",
    "rtab[['id','is_old']]"
   ]
  },
  {
   "cell_type": "code",
   "execution_count": 10,
   "metadata": {},
   "outputs": [
    {
     "data": {
      "text/plain": [
       "[Column('id', Integer(), table=<Record>, primary_key=True),\n",
       " Column('age', Integer(), table=<Record>),\n",
       " Column('is_old', Integer(), table=<Record>)]"
      ]
     },
     "execution_count": 10,
     "metadata": {},
     "output_type": "execute_result"
    }
   ],
   "source": [
    "# slice select\n",
    "rtab['id':'is_old']"
   ]
  },
  {
   "cell_type": "markdown",
   "metadata": {},
   "source": [
    "Note that the `.select()` method requires a list of columns, so we can combine these methods by combining the lists they return. Obviously, the order matters for the returned values."
   ]
  },
  {
   "cell_type": "code",
   "execution_count": 11,
   "metadata": {},
   "outputs": [
    {
     "data": {
      "text/plain": [
       "[Column('id', Integer(), table=<Record>, primary_key=True),\n",
       " Column('is_old', Integer(), table=<Record>),\n",
       " Column('name', String(), table=<Record>, nullable=False)]"
      ]
     },
     "execution_count": 11,
     "metadata": {},
     "output_type": "execute_result"
    }
   ],
   "source": [
    "rtab.cols('id','is_old') + [rtab['name']]"
   ]
  },
  {
   "cell_type": "markdown",
   "metadata": {},
   "source": [
    "The `.select()` method always accepts a list of columns, so be sure to wrap single-column selections in a list."
   ]
  },
  {
   "cell_type": "code",
   "execution_count": 12,
   "metadata": {},
   "outputs": [
    {
     "name": "stdout",
     "output_type": "stream",
     "text": [
      "2023-11-12 11:37:09,590 INFO sqlalchemy.engine.Engine BEGIN (implicit)\n",
      "2023-11-12 11:37:09,592 INFO sqlalchemy.engine.Engine SELECT \"Record\".name \n",
      "FROM \"Record\"\n",
      "2023-11-12 11:37:09,594 INFO sqlalchemy.engine.Engine [generated in 0.00375s] ()\n"
     ]
    },
    {
     "data": {
      "text/plain": [
       "<sqlalchemy.engine.cursor.CursorResult at 0x7f3d3a1b3000>"
      ]
     },
     "execution_count": 12,
     "metadata": {},
     "output_type": "execute_result"
    }
   ],
   "source": [
    "core.query().select([rtab['name']])"
   ]
  },
  {
   "cell_type": "code",
   "execution_count": 13,
   "metadata": {},
   "outputs": [
    {
     "name": "stdout",
     "output_type": "stream",
     "text": [
      "2023-11-12 11:37:09,646 INFO sqlalchemy.engine.Engine BEGIN (implicit)\n",
      "2023-11-12 11:37:09,649 INFO sqlalchemy.engine.Engine SELECT \"Record\".id, \"Record\".is_old, \"Record\".name \n",
      "FROM \"Record\"\n",
      "2023-11-12 11:37:09,651 INFO sqlalchemy.engine.Engine [generated in 0.00483s] ()\n"
     ]
    },
    {
     "data": {
      "text/plain": [
       "<sqlalchemy.engine.cursor.CursorResult at 0x7f3d3a239010>"
      ]
     },
     "execution_count": 13,
     "metadata": {},
     "output_type": "execute_result"
    }
   ],
   "source": [
    "core.query().select(rtab.cols('id','is_old') + [rtab['name']])"
   ]
  },
  {
   "cell_type": "markdown",
   "metadata": {},
   "source": [
    "### Working with Query Results\n",
    "\n",
    "Now we turn to working with the results objects. So far I have demonstrated values for returning `sqlalchemy.CursorResult` objects, but additional methods are required to return the results in a usable format. The following methods are available for various purposes:\n",
    "\n",
    "| Method | Description |\n",
    "| --- | --- |\n",
    "| `result.all()` | return all results in query\n",
    "| `result.df()` | return multiple results as a dataframe\n",
    "| `result.first()` | return first result in query\n",
    "| `result.one()` | return exactly one result in query. NOTE: raises exception if not exactly one result.\n",
    "| `result.scalar_one()` | return single result, end query. NOTE: raises exception if not exactly one result.\n",
    "| `result.scalars().all()` | return single column of results"
   ]
  },
  {
   "cell_type": "code",
   "execution_count": 14,
   "metadata": {},
   "outputs": [
    {
     "name": "stdout",
     "output_type": "stream",
     "text": [
      "2023-11-12 11:37:09,703 INFO sqlalchemy.engine.Engine BEGIN (implicit)\n",
      "2023-11-12 11:37:09,706 INFO sqlalchemy.engine.Engine SELECT \"Record\".id, \"Record\".age, \"Record\".is_old, \"Record\".name \n",
      "FROM \"Record\"\n",
      " LIMIT ? OFFSET ?\n",
      "2023-11-12 11:37:09,708 INFO sqlalchemy.engine.Engine [generated in 0.00471s] (3, 0)\n",
      "2023-11-12 11:37:09,711 INFO sqlalchemy.engine.Engine COMMIT\n"
     ]
    },
    {
     "data": {
      "text/plain": [
       "[(1, 84, 1, 'user_0'), (2, 75, 1, 'user_1'), (3, 42, 0, 'user_2')]"
      ]
     },
     "execution_count": 14,
     "metadata": {},
     "output_type": "execute_result"
    }
   ],
   "source": [
    "with core.query() as q:\n",
    "    r = q.select(rtab.all_cols(), limit=3)\n",
    "r.all()"
   ]
  },
  {
   "cell_type": "code",
   "execution_count": 15,
   "metadata": {},
   "outputs": [
    {
     "name": "stdout",
     "output_type": "stream",
     "text": [
      "2023-11-12 11:37:09,760 INFO sqlalchemy.engine.Engine BEGIN (implicit)\n",
      "2023-11-12 11:37:09,763 INFO sqlalchemy.engine.Engine SELECT \"Record\".id, \"Record\".age, \"Record\".is_old, \"Record\".name \n",
      "FROM \"Record\"\n",
      " LIMIT ? OFFSET ?\n",
      "2023-11-12 11:37:09,765 INFO sqlalchemy.engine.Engine [cached since 0.06133s ago] (3, 0)\n"
     ]
    },
    {
     "data": {
      "text/html": [
       "<div>\n",
       "<style scoped>\n",
       "    .dataframe tbody tr th:only-of-type {\n",
       "        vertical-align: middle;\n",
       "    }\n",
       "\n",
       "    .dataframe tbody tr th {\n",
       "        vertical-align: top;\n",
       "    }\n",
       "\n",
       "    .dataframe thead th {\n",
       "        text-align: right;\n",
       "    }\n",
       "</style>\n",
       "<table border=\"1\" class=\"dataframe\">\n",
       "  <thead>\n",
       "    <tr style=\"text-align: right;\">\n",
       "      <th></th>\n",
       "      <th>id</th>\n",
       "      <th>age</th>\n",
       "      <th>is_old</th>\n",
       "      <th>name</th>\n",
       "    </tr>\n",
       "  </thead>\n",
       "  <tbody>\n",
       "    <tr>\n",
       "      <th>0</th>\n",
       "      <td>1</td>\n",
       "      <td>84</td>\n",
       "      <td>1</td>\n",
       "      <td>user_0</td>\n",
       "    </tr>\n",
       "    <tr>\n",
       "      <th>1</th>\n",
       "      <td>2</td>\n",
       "      <td>75</td>\n",
       "      <td>1</td>\n",
       "      <td>user_1</td>\n",
       "    </tr>\n",
       "    <tr>\n",
       "      <th>2</th>\n",
       "      <td>3</td>\n",
       "      <td>42</td>\n",
       "      <td>0</td>\n",
       "      <td>user_2</td>\n",
       "    </tr>\n",
       "  </tbody>\n",
       "</table>\n",
       "</div>"
      ],
      "text/plain": [
       "   id  age  is_old    name\n",
       "0   1   84       1  user_0\n",
       "1   2   75       1  user_1\n",
       "2   3   42       0  user_2"
      ]
     },
     "execution_count": 15,
     "metadata": {},
     "output_type": "execute_result"
    }
   ],
   "source": [
    "core.query().select(rtab.all_cols(), limit=3).df()"
   ]
  },
  {
   "cell_type": "code",
   "execution_count": 16,
   "metadata": {},
   "outputs": [
    {
     "name": "stdout",
     "output_type": "stream",
     "text": [
      "2023-11-12 11:37:09,817 INFO sqlalchemy.engine.Engine BEGIN (implicit)\n",
      "2023-11-12 11:37:09,819 INFO sqlalchemy.engine.Engine SELECT \"Record\".id, \"Record\".age, \"Record\".is_old, \"Record\".name \n",
      "FROM \"Record\"\n",
      "2023-11-12 11:37:09,821 INFO sqlalchemy.engine.Engine [cached since 0.729s ago] ()\n"
     ]
    },
    {
     "data": {
      "text/plain": [
       "(1, 84, 1, 'user_0')"
      ]
     },
     "execution_count": 16,
     "metadata": {},
     "output_type": "execute_result"
    }
   ],
   "source": [
    "# raises exception without limit=1\n",
    "core.query().select(rtab.all_cols()).first()"
   ]
  },
  {
   "cell_type": "code",
   "execution_count": 17,
   "metadata": {},
   "outputs": [
    {
     "name": "stdout",
     "output_type": "stream",
     "text": [
      "2023-11-12 11:37:09,876 INFO sqlalchemy.engine.Engine BEGIN (implicit)\n",
      "2023-11-12 11:37:09,879 INFO sqlalchemy.engine.Engine SELECT \"Record\".id, \"Record\".age, \"Record\".is_old, \"Record\".name \n",
      "FROM \"Record\"\n",
      " LIMIT ? OFFSET ?\n",
      "2023-11-12 11:37:09,881 INFO sqlalchemy.engine.Engine [cached since 0.1774s ago] (1, 0)\n"
     ]
    },
    {
     "data": {
      "text/plain": [
       "(1, 84, 1, 'user_0')"
      ]
     },
     "execution_count": 17,
     "metadata": {},
     "output_type": "execute_result"
    }
   ],
   "source": [
    "# raises exception if more than one result is returned \n",
    "# (here I forced this with limit=1)\n",
    "core.query().select(rtab.all_cols(), limit=1).one()"
   ]
  },
  {
   "cell_type": "code",
   "execution_count": 18,
   "metadata": {},
   "outputs": [
    {
     "name": "stdout",
     "output_type": "stream",
     "text": [
      "2023-11-12 11:37:09,934 INFO sqlalchemy.engine.Engine BEGIN (implicit)\n",
      "2023-11-12 11:37:09,936 INFO sqlalchemy.engine.Engine SELECT \"Record\".id, \"Record\".age, \"Record\".is_old, \"Record\".name \n",
      "FROM \"Record\"\n",
      " LIMIT ? OFFSET ?\n",
      "2023-11-12 11:37:09,938 INFO sqlalchemy.engine.Engine [cached since 0.2351s ago] (1, 0)\n"
     ]
    },
    {
     "data": {
      "text/plain": [
       "1"
      ]
     },
     "execution_count": 18,
     "metadata": {},
     "output_type": "execute_result"
    }
   ],
   "source": [
    "# this returns the first column from the first row, then closes the cursor\n",
    "core.query().select(rtab.all_cols(), limit=1).scalar_one()"
   ]
  },
  {
   "cell_type": "code",
   "execution_count": 19,
   "metadata": {},
   "outputs": [
    {
     "name": "stdout",
     "output_type": "stream",
     "text": [
      "2023-11-12 11:37:10,051 INFO sqlalchemy.engine.Engine BEGIN (implicit)\n",
      "2023-11-12 11:37:10,053 INFO sqlalchemy.engine.Engine SELECT \"Record\".is_old \n",
      "FROM \"Record\"\n",
      " LIMIT ? OFFSET ?\n",
      "2023-11-12 11:37:10,054 INFO sqlalchemy.engine.Engine [generated in 0.00259s] (1, 0)\n"
     ]
    },
    {
     "data": {
      "text/plain": [
       "1"
      ]
     },
     "execution_count": 19,
     "metadata": {},
     "output_type": "execute_result"
    }
   ],
   "source": [
    "# it makes more sense to query a single column\n",
    "core.query().select(rtab.cols('is_old'), limit=1).scalar_one()"
   ]
  },
  {
   "cell_type": "code",
   "execution_count": 20,
   "metadata": {},
   "outputs": [
    {
     "name": "stdout",
     "output_type": "stream",
     "text": [
      "2023-11-12 11:37:10,104 INFO sqlalchemy.engine.Engine BEGIN (implicit)\n",
      "2023-11-12 11:37:10,106 INFO sqlalchemy.engine.Engine SELECT \"Record\".is_old \n",
      "FROM \"Record\"\n",
      "2023-11-12 11:37:10,107 INFO sqlalchemy.engine.Engine [generated in 0.00294s] ()\n"
     ]
    },
    {
     "data": {
      "text/plain": [
       "[1, 1, 0, 0, 1, 0, 1, 0, 0, 1]"
      ]
     },
     "execution_count": 20,
     "metadata": {},
     "output_type": "execute_result"
    }
   ],
   "source": [
    "# and when when you need a single column, use .scalars() instead of .all()\n",
    "core.query().select(rtab.cols('is_old')).scalars().all()"
   ]
  },
  {
   "cell_type": "markdown",
   "metadata": {},
   "source": [
    "### Conditional Select Statements\n",
    "\n",
    "| operator | description |\n",
    "| --- | --- |\n",
    "| `&`, `doctable.f.and_()` | and |\n",
    "| `\\|`, `doctable.f.or_()` | or |\n",
    "| `==` | equals |\n",
    "| `!=`, `doctable.f.not_()` | not equals |\n",
    "| `>` | greater than |\n",
    "| `>=` | greater than or equal to |\n",
    "| `<` | less than |\n",
    "| `<=` | less than or equal to |\n",
    "| `in_()` | in list |\n",
    "| `contains()` | check if item is substring |\n",
    "| `like()` | like string |\n",
    "| `ilike()` | case-insensitive like string |\n",
    "| `between()`, `doctable.f.between()` | between two values |\n",
    "| `is_()` | is value |\n",
    "| `isnot()` | is not value |\n",
    "| `startswith()` | starts with string |"
   ]
  },
  {
   "cell_type": "code",
   "execution_count": 21,
   "metadata": {},
   "outputs": [
    {
     "name": "stdout",
     "output_type": "stream",
     "text": [
      "2023-11-12 11:37:10,158 INFO sqlalchemy.engine.Engine BEGIN (implicit)\n",
      "2023-11-12 11:37:10,161 INFO sqlalchemy.engine.Engine SELECT \"Record\".id, \"Record\".age, \"Record\".is_old, \"Record\".name \n",
      "FROM \"Record\" \n",
      "WHERE \"Record\".id = ?\n",
      "2023-11-12 11:37:10,163 INFO sqlalchemy.engine.Engine [generated in 0.00458s] (2,)\n"
     ]
    },
    {
     "data": {
      "text/html": [
       "<div>\n",
       "<style scoped>\n",
       "    .dataframe tbody tr th:only-of-type {\n",
       "        vertical-align: middle;\n",
       "    }\n",
       "\n",
       "    .dataframe tbody tr th {\n",
       "        vertical-align: top;\n",
       "    }\n",
       "\n",
       "    .dataframe thead th {\n",
       "        text-align: right;\n",
       "    }\n",
       "</style>\n",
       "<table border=\"1\" class=\"dataframe\">\n",
       "  <thead>\n",
       "    <tr style=\"text-align: right;\">\n",
       "      <th></th>\n",
       "      <th>id</th>\n",
       "      <th>age</th>\n",
       "      <th>is_old</th>\n",
       "      <th>name</th>\n",
       "    </tr>\n",
       "  </thead>\n",
       "  <tbody>\n",
       "    <tr>\n",
       "      <th>0</th>\n",
       "      <td>2</td>\n",
       "      <td>75</td>\n",
       "      <td>1</td>\n",
       "      <td>user_1</td>\n",
       "    </tr>\n",
       "  </tbody>\n",
       "</table>\n",
       "</div>"
      ],
      "text/plain": [
       "   id  age  is_old    name\n",
       "0   2   75       1  user_1"
      ]
     },
     "execution_count": 21,
     "metadata": {},
     "output_type": "execute_result"
    }
   ],
   "source": [
    "core.query().select(rtab.all_cols(), where=rtab['id']==2).df()"
   ]
  },
  {
   "cell_type": "code",
   "execution_count": 41,
   "metadata": {},
   "outputs": [
    {
     "name": "stdout",
     "output_type": "stream",
     "text": [
      "2023-11-12 11:43:23,097 INFO sqlalchemy.engine.Engine BEGIN (implicit)\n",
      "2023-11-12 11:43:23,098 INFO sqlalchemy.engine.Engine SELECT \"Record\".id, \"Record\".age, \"Record\".is_old, \"Record\".name \n",
      "FROM \"Record\" \n",
      "WHERE \"Record\".id < \"Record\".id\n",
      "2023-11-12 11:43:23,099 INFO sqlalchemy.engine.Engine [generated in 0.00164s] ()\n"
     ]
    },
    {
     "data": {
      "text/html": [
       "<div>\n",
       "<style scoped>\n",
       "    .dataframe tbody tr th:only-of-type {\n",
       "        vertical-align: middle;\n",
       "    }\n",
       "\n",
       "    .dataframe tbody tr th {\n",
       "        vertical-align: top;\n",
       "    }\n",
       "\n",
       "    .dataframe thead th {\n",
       "        text-align: right;\n",
       "    }\n",
       "</style>\n",
       "<table border=\"1\" class=\"dataframe\">\n",
       "  <thead>\n",
       "    <tr style=\"text-align: right;\">\n",
       "      <th></th>\n",
       "    </tr>\n",
       "  </thead>\n",
       "  <tbody>\n",
       "  </tbody>\n",
       "</table>\n",
       "</div>"
      ],
      "text/plain": [
       "Empty DataFrame\n",
       "Columns: []\n",
       "Index: []"
      ]
     },
     "execution_count": 41,
     "metadata": {},
     "output_type": "execute_result"
    }
   ],
   "source": [
    "core.query().select(rtab.all_cols(), where=rtab['id']<rtab['id']).df()"
   ]
  },
  {
   "cell_type": "code",
   "execution_count": 23,
   "metadata": {},
   "outputs": [
    {
     "name": "stdout",
     "output_type": "stream",
     "text": [
      "2023-11-12 11:37:10,289 INFO sqlalchemy.engine.Engine BEGIN (implicit)\n",
      "2023-11-12 11:37:10,290 INFO sqlalchemy.engine.Engine SELECT \"Record\".id, \"Record\".age, \"Record\".is_old, \"Record\".name \n",
      "FROM \"Record\" \n",
      "WHERE \"Record\".id % ? = ?\n",
      "2023-11-12 11:37:10,290 INFO sqlalchemy.engine.Engine [generated in 0.00172s] (2, 0)\n"
     ]
    },
    {
     "data": {
      "text/html": [
       "<div>\n",
       "<style scoped>\n",
       "    .dataframe tbody tr th:only-of-type {\n",
       "        vertical-align: middle;\n",
       "    }\n",
       "\n",
       "    .dataframe tbody tr th {\n",
       "        vertical-align: top;\n",
       "    }\n",
       "\n",
       "    .dataframe thead th {\n",
       "        text-align: right;\n",
       "    }\n",
       "</style>\n",
       "<table border=\"1\" class=\"dataframe\">\n",
       "  <thead>\n",
       "    <tr style=\"text-align: right;\">\n",
       "      <th></th>\n",
       "      <th>id</th>\n",
       "      <th>age</th>\n",
       "      <th>is_old</th>\n",
       "      <th>name</th>\n",
       "    </tr>\n",
       "  </thead>\n",
       "  <tbody>\n",
       "    <tr>\n",
       "      <th>0</th>\n",
       "      <td>2</td>\n",
       "      <td>75</td>\n",
       "      <td>1</td>\n",
       "      <td>user_1</td>\n",
       "    </tr>\n",
       "    <tr>\n",
       "      <th>1</th>\n",
       "      <td>4</td>\n",
       "      <td>25</td>\n",
       "      <td>0</td>\n",
       "      <td>user_3</td>\n",
       "    </tr>\n",
       "    <tr>\n",
       "      <th>2</th>\n",
       "      <td>6</td>\n",
       "      <td>40</td>\n",
       "      <td>0</td>\n",
       "      <td>user_5</td>\n",
       "    </tr>\n",
       "    <tr>\n",
       "      <th>3</th>\n",
       "      <td>8</td>\n",
       "      <td>30</td>\n",
       "      <td>0</td>\n",
       "      <td>user_7</td>\n",
       "    </tr>\n",
       "    <tr>\n",
       "      <th>4</th>\n",
       "      <td>10</td>\n",
       "      <td>58</td>\n",
       "      <td>1</td>\n",
       "      <td>user_9</td>\n",
       "    </tr>\n",
       "  </tbody>\n",
       "</table>\n",
       "</div>"
      ],
      "text/plain": [
       "   id  age  is_old    name\n",
       "0   2   75       1  user_1\n",
       "1   4   25       0  user_3\n",
       "2   6   40       0  user_5\n",
       "3   8   30       0  user_7\n",
       "4  10   58       1  user_9"
      ]
     },
     "execution_count": 23,
     "metadata": {},
     "output_type": "execute_result"
    }
   ],
   "source": [
    "core.query().select(rtab.all_cols(), where=(rtab['id']%2)==0).df()"
   ]
  },
  {
   "cell_type": "code",
   "execution_count": 24,
   "metadata": {},
   "outputs": [
    {
     "name": "stdout",
     "output_type": "stream",
     "text": [
      "2023-11-12 11:37:10,340 INFO sqlalchemy.engine.Engine BEGIN (implicit)\n",
      "2023-11-12 11:37:10,341 INFO sqlalchemy.engine.Engine SELECT \"Record\".id, \"Record\".age, \"Record\".is_old, \"Record\".name \n",
      "FROM \"Record\" \n",
      "WHERE \"Record\".id >= ? AND \"Record\".id <= ? AND \"Record\".name != ?\n",
      "2023-11-12 11:37:10,341 INFO sqlalchemy.engine.Engine [generated in 0.00175s] (2, 4, 'user_2')\n"
     ]
    },
    {
     "data": {
      "text/html": [
       "<div>\n",
       "<style scoped>\n",
       "    .dataframe tbody tr th:only-of-type {\n",
       "        vertical-align: middle;\n",
       "    }\n",
       "\n",
       "    .dataframe tbody tr th {\n",
       "        vertical-align: top;\n",
       "    }\n",
       "\n",
       "    .dataframe thead th {\n",
       "        text-align: right;\n",
       "    }\n",
       "</style>\n",
       "<table border=\"1\" class=\"dataframe\">\n",
       "  <thead>\n",
       "    <tr style=\"text-align: right;\">\n",
       "      <th></th>\n",
       "      <th>id</th>\n",
       "      <th>age</th>\n",
       "      <th>is_old</th>\n",
       "      <th>name</th>\n",
       "    </tr>\n",
       "  </thead>\n",
       "  <tbody>\n",
       "    <tr>\n",
       "      <th>0</th>\n",
       "      <td>2</td>\n",
       "      <td>75</td>\n",
       "      <td>1</td>\n",
       "      <td>user_1</td>\n",
       "    </tr>\n",
       "    <tr>\n",
       "      <th>1</th>\n",
       "      <td>4</td>\n",
       "      <td>25</td>\n",
       "      <td>0</td>\n",
       "      <td>user_3</td>\n",
       "    </tr>\n",
       "  </tbody>\n",
       "</table>\n",
       "</div>"
      ],
      "text/plain": [
       "   id  age  is_old    name\n",
       "0   2   75       1  user_1\n",
       "1   4   25       0  user_3"
      ]
     },
     "execution_count": 24,
     "metadata": {},
     "output_type": "execute_result"
    }
   ],
   "source": [
    "condition = (rtab['id']>=2) & (rtab['id']<=4) & (rtab['name']!='user_2')\n",
    "core.query().select(rtab.all_cols(), where=condition).df()"
   ]
  },
  {
   "cell_type": "code",
   "execution_count": 25,
   "metadata": {},
   "outputs": [
    {
     "name": "stdout",
     "output_type": "stream",
     "text": [
      "2023-11-12 11:37:10,395 INFO sqlalchemy.engine.Engine BEGIN (implicit)\n",
      "2023-11-12 11:37:10,396 INFO sqlalchemy.engine.Engine SELECT \"Record\".id, \"Record\".age, \"Record\".is_old, \"Record\".name \n",
      "FROM \"Record\" \n",
      "WHERE \"Record\".name IN (?, ?)\n",
      "2023-11-12 11:37:10,396 INFO sqlalchemy.engine.Engine [generated in 0.00167s] ('user_2', 'user_3')\n"
     ]
    },
    {
     "data": {
      "text/html": [
       "<div>\n",
       "<style scoped>\n",
       "    .dataframe tbody tr th:only-of-type {\n",
       "        vertical-align: middle;\n",
       "    }\n",
       "\n",
       "    .dataframe tbody tr th {\n",
       "        vertical-align: top;\n",
       "    }\n",
       "\n",
       "    .dataframe thead th {\n",
       "        text-align: right;\n",
       "    }\n",
       "</style>\n",
       "<table border=\"1\" class=\"dataframe\">\n",
       "  <thead>\n",
       "    <tr style=\"text-align: right;\">\n",
       "      <th></th>\n",
       "      <th>id</th>\n",
       "      <th>age</th>\n",
       "      <th>is_old</th>\n",
       "      <th>name</th>\n",
       "    </tr>\n",
       "  </thead>\n",
       "  <tbody>\n",
       "    <tr>\n",
       "      <th>0</th>\n",
       "      <td>3</td>\n",
       "      <td>42</td>\n",
       "      <td>0</td>\n",
       "      <td>user_2</td>\n",
       "    </tr>\n",
       "    <tr>\n",
       "      <th>1</th>\n",
       "      <td>4</td>\n",
       "      <td>25</td>\n",
       "      <td>0</td>\n",
       "      <td>user_3</td>\n",
       "    </tr>\n",
       "  </tbody>\n",
       "</table>\n",
       "</div>"
      ],
      "text/plain": [
       "   id  age  is_old    name\n",
       "0   3   42       0  user_2\n",
       "1   4   25       0  user_3"
      ]
     },
     "execution_count": 25,
     "metadata": {},
     "output_type": "execute_result"
    }
   ],
   "source": [
    "condition = rtab['name'].in_(('user_2','user_3'))\n",
    "core.query().select(rtab.all_cols(), where=condition).df()"
   ]
  },
  {
   "cell_type": "code",
   "execution_count": 26,
   "metadata": {},
   "outputs": [
    {
     "name": "stdout",
     "output_type": "stream",
     "text": [
      "2023-11-12 11:37:10,449 INFO sqlalchemy.engine.Engine BEGIN (implicit)\n",
      "2023-11-12 11:37:10,450 INFO sqlalchemy.engine.Engine SELECT \"Record\".id, \"Record\".age, \"Record\".is_old, \"Record\".name \n",
      "FROM \"Record\" \n",
      "WHERE \"Record\".id BETWEEN ? AND ?\n",
      "2023-11-12 11:37:10,451 INFO sqlalchemy.engine.Engine [generated in 0.00209s] (2, 4)\n"
     ]
    },
    {
     "data": {
      "text/html": [
       "<div>\n",
       "<style scoped>\n",
       "    .dataframe tbody tr th:only-of-type {\n",
       "        vertical-align: middle;\n",
       "    }\n",
       "\n",
       "    .dataframe tbody tr th {\n",
       "        vertical-align: top;\n",
       "    }\n",
       "\n",
       "    .dataframe thead th {\n",
       "        text-align: right;\n",
       "    }\n",
       "</style>\n",
       "<table border=\"1\" class=\"dataframe\">\n",
       "  <thead>\n",
       "    <tr style=\"text-align: right;\">\n",
       "      <th></th>\n",
       "      <th>id</th>\n",
       "      <th>age</th>\n",
       "      <th>is_old</th>\n",
       "      <th>name</th>\n",
       "    </tr>\n",
       "  </thead>\n",
       "  <tbody>\n",
       "    <tr>\n",
       "      <th>0</th>\n",
       "      <td>2</td>\n",
       "      <td>75</td>\n",
       "      <td>1</td>\n",
       "      <td>user_1</td>\n",
       "    </tr>\n",
       "    <tr>\n",
       "      <th>1</th>\n",
       "      <td>3</td>\n",
       "      <td>42</td>\n",
       "      <td>0</td>\n",
       "      <td>user_2</td>\n",
       "    </tr>\n",
       "    <tr>\n",
       "      <th>2</th>\n",
       "      <td>4</td>\n",
       "      <td>25</td>\n",
       "      <td>0</td>\n",
       "      <td>user_3</td>\n",
       "    </tr>\n",
       "  </tbody>\n",
       "</table>\n",
       "</div>"
      ],
      "text/plain": [
       "   id  age  is_old    name\n",
       "0   2   75       1  user_1\n",
       "1   3   42       0  user_2\n",
       "2   4   25       0  user_3"
      ]
     },
     "execution_count": 26,
     "metadata": {},
     "output_type": "execute_result"
    }
   ],
   "source": [
    "core.query().select(rtab.all_cols(), where=rtab['id'].between(2,4)).df()"
   ]
  },
  {
   "cell_type": "code",
   "execution_count": 27,
   "metadata": {},
   "outputs": [
    {
     "name": "stdout",
     "output_type": "stream",
     "text": [
      "2023-11-12 11:37:10,505 INFO sqlalchemy.engine.Engine BEGIN (implicit)\n",
      "2023-11-12 11:37:10,506 INFO sqlalchemy.engine.Engine SELECT \"Record\".id, \"Record\".age, \"Record\".is_old, \"Record\".name \n",
      "FROM \"Record\" \n",
      "WHERE (\"Record\".name NOT IN (?, ?)) AND \"Record\".id < ?\n",
      "2023-11-12 11:37:10,507 INFO sqlalchemy.engine.Engine [generated in 0.00174s] ('user_2', 'user_3', 4)\n"
     ]
    },
    {
     "data": {
      "text/html": [
       "<div>\n",
       "<style scoped>\n",
       "    .dataframe tbody tr th:only-of-type {\n",
       "        vertical-align: middle;\n",
       "    }\n",
       "\n",
       "    .dataframe tbody tr th {\n",
       "        vertical-align: top;\n",
       "    }\n",
       "\n",
       "    .dataframe thead th {\n",
       "        text-align: right;\n",
       "    }\n",
       "</style>\n",
       "<table border=\"1\" class=\"dataframe\">\n",
       "  <thead>\n",
       "    <tr style=\"text-align: right;\">\n",
       "      <th></th>\n",
       "      <th>id</th>\n",
       "      <th>age</th>\n",
       "      <th>is_old</th>\n",
       "      <th>name</th>\n",
       "    </tr>\n",
       "  </thead>\n",
       "  <tbody>\n",
       "    <tr>\n",
       "      <th>0</th>\n",
       "      <td>1</td>\n",
       "      <td>84</td>\n",
       "      <td>1</td>\n",
       "      <td>user_0</td>\n",
       "    </tr>\n",
       "    <tr>\n",
       "      <th>1</th>\n",
       "      <td>2</td>\n",
       "      <td>75</td>\n",
       "      <td>1</td>\n",
       "      <td>user_1</td>\n",
       "    </tr>\n",
       "  </tbody>\n",
       "</table>\n",
       "</div>"
      ],
      "text/plain": [
       "   id  age  is_old    name\n",
       "0   1   84       1  user_0\n",
       "1   2   75       1  user_1"
      ]
     },
     "execution_count": 27,
     "metadata": {},
     "output_type": "execute_result"
    }
   ],
   "source": [
    "condition = ~(rtab['name'].in_(('user_2','user_3'))) & (rtab['id'] < 4)\n",
    "core.query().select(rtab.all_cols(), where=condition).df()"
   ]
  },
  {
   "cell_type": "code",
   "execution_count": 47,
   "metadata": {},
   "outputs": [
    {
     "name": "stdout",
     "output_type": "stream",
     "text": [
      "2023-11-12 11:47:01,803 INFO sqlalchemy.engine.Engine BEGIN (implicit)\n",
      "2023-11-12 11:47:01,806 INFO sqlalchemy.engine.Engine SELECT \"Record\".id, \"Record\".age, \"Record\".is_old, \"Record\".name \n",
      "FROM \"Record\" \n",
      "WHERE \"Record\".id != ? AND \"Record\".id <= ?\n",
      "2023-11-12 11:47:01,808 INFO sqlalchemy.engine.Engine [cached since 591.2s ago] (4, 2)\n"
     ]
    },
    {
     "data": {
      "text/html": [
       "<div>\n",
       "<style scoped>\n",
       "    .dataframe tbody tr th:only-of-type {\n",
       "        vertical-align: middle;\n",
       "    }\n",
       "\n",
       "    .dataframe tbody tr th {\n",
       "        vertical-align: top;\n",
       "    }\n",
       "\n",
       "    .dataframe thead th {\n",
       "        text-align: right;\n",
       "    }\n",
       "</style>\n",
       "<table border=\"1\" class=\"dataframe\">\n",
       "  <thead>\n",
       "    <tr style=\"text-align: right;\">\n",
       "      <th></th>\n",
       "      <th>id</th>\n",
       "      <th>age</th>\n",
       "      <th>is_old</th>\n",
       "      <th>name</th>\n",
       "    </tr>\n",
       "  </thead>\n",
       "  <tbody>\n",
       "    <tr>\n",
       "      <th>0</th>\n",
       "      <td>1</td>\n",
       "      <td>84</td>\n",
       "      <td>1</td>\n",
       "      <td>user_0</td>\n",
       "    </tr>\n",
       "    <tr>\n",
       "      <th>1</th>\n",
       "      <td>2</td>\n",
       "      <td>75</td>\n",
       "      <td>1</td>\n",
       "      <td>user_1</td>\n",
       "    </tr>\n",
       "  </tbody>\n",
       "</table>\n",
       "</div>"
      ],
      "text/plain": [
       "   id  age  is_old    name\n",
       "0   1   84       1  user_0\n",
       "1   2   75       1  user_1"
      ]
     },
     "execution_count": 47,
     "metadata": {},
     "output_type": "execute_result"
    }
   ],
   "source": [
    "condition = doctable.f.or_(doctable.f.not_(rtab['id']==4)) & (rtab['id'] <= 2)\n",
    "core.query().select(rtab.all_cols(), where=condition).df()"
   ]
  },
  {
   "cell_type": "code",
   "execution_count": 29,
   "metadata": {},
   "outputs": [
    {
     "name": "stdout",
     "output_type": "stream",
     "text": [
      "2023-11-12 11:37:10,615 INFO sqlalchemy.engine.Engine BEGIN (implicit)\n",
      "2023-11-12 11:37:10,617 INFO sqlalchemy.engine.Engine SELECT \"Record\".age \n",
      "FROM \"Record\"\n",
      "2023-11-12 11:37:10,618 INFO sqlalchemy.engine.Engine [generated in 0.00266s] ()\n",
      "2023-11-12 11:37:10,619 INFO sqlalchemy.engine.Engine SELECT \"Record\".id, \"Record\".age, \"Record\".is_old, \"Record\".name \n",
      "FROM \"Record\" \n",
      "WHERE \"Record\".age > ?\n",
      "2023-11-12 11:37:10,620 INFO sqlalchemy.engine.Engine [generated in 0.00062s] (53.0,)\n",
      "2023-11-12 11:37:10,621 INFO sqlalchemy.engine.Engine COMMIT\n"
     ]
    },
    {
     "data": {
      "text/html": [
       "<div>\n",
       "<style scoped>\n",
       "    .dataframe tbody tr th:only-of-type {\n",
       "        vertical-align: middle;\n",
       "    }\n",
       "\n",
       "    .dataframe tbody tr th {\n",
       "        vertical-align: top;\n",
       "    }\n",
       "\n",
       "    .dataframe thead th {\n",
       "        text-align: right;\n",
       "    }\n",
       "</style>\n",
       "<table border=\"1\" class=\"dataframe\">\n",
       "  <thead>\n",
       "    <tr style=\"text-align: right;\">\n",
       "      <th></th>\n",
       "      <th>id</th>\n",
       "      <th>age</th>\n",
       "      <th>is_old</th>\n",
       "      <th>name</th>\n",
       "    </tr>\n",
       "  </thead>\n",
       "  <tbody>\n",
       "    <tr>\n",
       "      <th>0</th>\n",
       "      <td>1</td>\n",
       "      <td>84</td>\n",
       "      <td>1</td>\n",
       "      <td>user_0</td>\n",
       "    </tr>\n",
       "    <tr>\n",
       "      <th>1</th>\n",
       "      <td>2</td>\n",
       "      <td>75</td>\n",
       "      <td>1</td>\n",
       "      <td>user_1</td>\n",
       "    </tr>\n",
       "    <tr>\n",
       "      <th>2</th>\n",
       "      <td>7</td>\n",
       "      <td>78</td>\n",
       "      <td>1</td>\n",
       "      <td>user_6</td>\n",
       "    </tr>\n",
       "    <tr>\n",
       "      <th>3</th>\n",
       "      <td>10</td>\n",
       "      <td>58</td>\n",
       "      <td>1</td>\n",
       "      <td>user_9</td>\n",
       "    </tr>\n",
       "  </tbody>\n",
       "</table>\n",
       "</div>"
      ],
      "text/plain": [
       "   id  age  is_old    name\n",
       "0   1   84       1  user_0\n",
       "1   2   75       1  user_1\n",
       "2   7   78       1  user_6\n",
       "3  10   58       1  user_9"
      ]
     },
     "execution_count": 29,
     "metadata": {},
     "output_type": "execute_result"
    }
   ],
   "source": [
    "with core.query() as q:\n",
    "    ages = q.select([rtab['age']]).scalars().all()\n",
    "    mean_age = sum(ages)/len(ages)\n",
    "    result = q.select(rtab.all_cols(), where=rtab['age']>mean_age)\n",
    "result.df()"
   ]
  },
  {
   "cell_type": "markdown",
   "metadata": {},
   "source": [
    "### Column Operators\n",
    "\n",
    "In addition to any of the methods used for conditional selects, there are several additional methods that can be used to transform columns in the select statement.\n",
    "\n",
    "| Method | Description |\n",
    "| --- | --- |\n",
    "| `.label()` | rename column in result (particularly useful after transformations) |\n",
    "| `.min()`, `doctable.f.min()` | max of column values |\n",
    "| `.max()`, `doctable.f.max()` | max of column values |\n",
    "| `.sum()`, `doctable.f.sum()` | sum of column |\n",
    "| `.count()`, `doctable.f.count()` | count number of results. *NOTE*: must use `f.count()` when counting transformed columns. |\n",
    "| `.distinct()`, `doctable.f.distinct()` | get distinct values |\n",
    "| `/` | divide |\n",
    "| `*` | multiply |\n",
    "| `+` | add |\n",
    "| `-` | subtract |\n",
    "| `%` | modulo |\n",
    "| `.concat()` | concatenate strings |"
   ]
  },
  {
   "cell_type": "code",
   "execution_count": 33,
   "metadata": {},
   "outputs": [
    {
     "name": "stdout",
     "output_type": "stream",
     "text": [
      "2023-11-12 11:40:35,446 INFO sqlalchemy.engine.Engine BEGIN (implicit)\n",
      "2023-11-12 11:40:35,447 INFO sqlalchemy.engine.Engine SELECT \"Record\".id % ? AS mod_id, \"Record\".name AS myname \n",
      "FROM \"Record\" \n",
      "WHERE \"Record\".is_old\n",
      "2023-11-12 11:40:35,447 INFO sqlalchemy.engine.Engine [generated in 0.00161s] (2,)\n"
     ]
    },
    {
     "data": {
      "text/html": [
       "<div>\n",
       "<style scoped>\n",
       "    .dataframe tbody tr th:only-of-type {\n",
       "        vertical-align: middle;\n",
       "    }\n",
       "\n",
       "    .dataframe tbody tr th {\n",
       "        vertical-align: top;\n",
       "    }\n",
       "\n",
       "    .dataframe thead th {\n",
       "        text-align: right;\n",
       "    }\n",
       "</style>\n",
       "<table border=\"1\" class=\"dataframe\">\n",
       "  <thead>\n",
       "    <tr style=\"text-align: right;\">\n",
       "      <th></th>\n",
       "      <th>mod_id</th>\n",
       "      <th>myname</th>\n",
       "    </tr>\n",
       "  </thead>\n",
       "  <tbody>\n",
       "    <tr>\n",
       "      <th>0</th>\n",
       "      <td>1</td>\n",
       "      <td>user_0</td>\n",
       "    </tr>\n",
       "    <tr>\n",
       "      <th>1</th>\n",
       "      <td>0</td>\n",
       "      <td>user_1</td>\n",
       "    </tr>\n",
       "    <tr>\n",
       "      <th>2</th>\n",
       "      <td>1</td>\n",
       "      <td>user_4</td>\n",
       "    </tr>\n",
       "    <tr>\n",
       "      <th>3</th>\n",
       "      <td>1</td>\n",
       "      <td>user_6</td>\n",
       "    </tr>\n",
       "    <tr>\n",
       "      <th>4</th>\n",
       "      <td>0</td>\n",
       "      <td>user_9</td>\n",
       "    </tr>\n",
       "  </tbody>\n",
       "</table>\n",
       "</div>"
      ],
      "text/plain": [
       "   mod_id  myname\n",
       "0       1  user_0\n",
       "1       0  user_1\n",
       "2       1  user_4\n",
       "3       1  user_6\n",
       "4       0  user_9"
      ]
     },
     "execution_count": 33,
     "metadata": {},
     "output_type": "execute_result"
    }
   ],
   "source": [
    "columns = [\n",
    "    (rtab['id'] % 2).label('mod_id'), \n",
    "    rtab['name'].label('myname')\n",
    "]\n",
    "core.query().select(columns, where=rtab['is_old']).df()"
   ]
  },
  {
   "cell_type": "code",
   "execution_count": 48,
   "metadata": {},
   "outputs": [
    {
     "name": "stdout",
     "output_type": "stream",
     "text": [
      "2023-11-12 11:48:38,089 INFO sqlalchemy.engine.Engine BEGIN (implicit)\n",
      "2023-11-12 11:48:38,091 INFO sqlalchemy.engine.Engine SELECT sum(\"Record\".age) / (count(\"Record\".age) + 0.0) AS anon_1 \n",
      "FROM \"Record\"\n",
      "2023-11-12 11:48:38,093 INFO sqlalchemy.engine.Engine [cached since 390.2s ago] ()\n"
     ]
    },
    {
     "data": {
      "text/plain": [
       "Decimal('53.0000000000')"
      ]
     },
     "execution_count": 48,
     "metadata": {},
     "output_type": "execute_result"
    }
   ],
   "source": [
    "formula = rtab['age'].sum() / rtab['age'].count()\n",
    "core.query().select([formula]).scalar_one()"
   ]
  },
  {
   "cell_type": "code",
   "execution_count": 49,
   "metadata": {},
   "outputs": [
    {
     "name": "stdout",
     "output_type": "stream",
     "text": [
      "2023-11-12 11:50:05,558 INFO sqlalchemy.engine.Engine BEGIN (implicit)\n",
      "2023-11-12 11:50:05,560 INFO sqlalchemy.engine.Engine SELECT max(\"Record\".age) - min(\"Record\".age) AS anon_1 \n",
      "FROM \"Record\"\n",
      "2023-11-12 11:50:05,562 INFO sqlalchemy.engine.Engine [generated in 0.00443s] ()\n"
     ]
    },
    {
     "data": {
      "text/plain": [
       "59"
      ]
     },
     "execution_count": 49,
     "metadata": {},
     "output_type": "execute_result"
    }
   ],
   "source": [
    "formula = rtab['age'].max() - rtab['age'].min()\n",
    "core.query().select([formula]).scalar_one()"
   ]
  },
  {
   "cell_type": "code",
   "execution_count": 51,
   "metadata": {},
   "outputs": [
    {
     "name": "stdout",
     "output_type": "stream",
     "text": [
      "2023-11-12 11:51:37,862 INFO sqlalchemy.engine.Engine BEGIN (implicit)\n",
      "2023-11-12 11:51:37,864 INFO sqlalchemy.engine.Engine SELECT sum(\"Record\".age) / (count(\"Record\".age) + 0.0) AS anon_1 \n",
      "FROM \"Record\" \n",
      "WHERE \"Record\".age > ?\n",
      "2023-11-12 11:51:37,865 INFO sqlalchemy.engine.Engine [cached since 18.62s ago] (30,)\n"
     ]
    },
    {
     "data": {
      "text/plain": [
       "Decimal('59.3750000000')"
      ]
     },
     "execution_count": 51,
     "metadata": {},
     "output_type": "execute_result"
    }
   ],
   "source": [
    "# average age of individuals over 30\n",
    "formula = rtab['age'].sum() / rtab['age'].count()\n",
    "condition = rtab['age'] > 30\n",
    "core.query().select([formula], where=condition).scalar_one()"
   ]
  },
  {
   "cell_type": "code",
   "execution_count": 75,
   "metadata": {},
   "outputs": [
    {
     "name": "stdout",
     "output_type": "stream",
     "text": [
      "2023-11-12 12:12:22,524 INFO sqlalchemy.engine.Engine BEGIN (implicit)\n",
      "2023-11-12 12:12:22,525 INFO sqlalchemy.engine.Engine SELECT sum(\"Record\".age) / (count(\"Record\".age) + 0.0) AS mean, max(\"Record\".age) AS max, min(\"Record\".age) AS min \n",
      "FROM \"Record\" \n",
      "WHERE \"Record\".age > ?\n",
      "2023-11-12 12:12:22,525 INFO sqlalchemy.engine.Engine [cached since 77.72s ago] (30,)\n"
     ]
    },
    {
     "data": {
      "text/html": [
       "<div>\n",
       "<style scoped>\n",
       "    .dataframe tbody tr th:only-of-type {\n",
       "        vertical-align: middle;\n",
       "    }\n",
       "\n",
       "    .dataframe tbody tr th {\n",
       "        vertical-align: top;\n",
       "    }\n",
       "\n",
       "    .dataframe thead th {\n",
       "        text-align: right;\n",
       "    }\n",
       "</style>\n",
       "<table border=\"1\" class=\"dataframe\">\n",
       "  <thead>\n",
       "    <tr style=\"text-align: right;\">\n",
       "      <th></th>\n",
       "      <th>mean</th>\n",
       "      <th>max</th>\n",
       "      <th>min</th>\n",
       "    </tr>\n",
       "  </thead>\n",
       "  <tbody>\n",
       "    <tr>\n",
       "      <th>0</th>\n",
       "      <td>59.3750000000</td>\n",
       "      <td>84</td>\n",
       "      <td>40</td>\n",
       "    </tr>\n",
       "  </tbody>\n",
       "</table>\n",
       "</div>"
      ],
      "text/plain": [
       "            mean  max  min\n",
       "0  59.3750000000   84   40"
      ]
     },
     "execution_count": 75,
     "metadata": {},
     "output_type": "execute_result"
    }
   ],
   "source": [
    "# descriptive stats on age of individuals over 30\n",
    "columns = [\n",
    "    (rtab['age'].sum() / rtab['age'].count()).label('mean'),\n",
    "    rtab['age'].max().label('max'),\n",
    "    rtab['age'].min().label('min'),\n",
    "]\n",
    "condition = rtab['age'] > 30\n",
    "core.query().select(columns, where=condition).df()"
   ]
  },
  {
   "cell_type": "code",
   "execution_count": 76,
   "metadata": {},
   "outputs": [
    {
     "name": "stdout",
     "output_type": "stream",
     "text": [
      "2023-11-12 12:12:35,604 INFO sqlalchemy.engine.Engine BEGIN (implicit)\n",
      "2023-11-12 12:12:35,607 INFO sqlalchemy.engine.Engine SELECT distinct(\"Record\".is_old) AS distinct_1 \n",
      "FROM \"Record\"\n",
      "2023-11-12 12:12:35,608 INFO sqlalchemy.engine.Engine [cached since 52.36s ago] ()\n"
     ]
    },
    {
     "data": {
      "text/html": [
       "<div>\n",
       "<style scoped>\n",
       "    .dataframe tbody tr th:only-of-type {\n",
       "        vertical-align: middle;\n",
       "    }\n",
       "\n",
       "    .dataframe tbody tr th {\n",
       "        vertical-align: top;\n",
       "    }\n",
       "\n",
       "    .dataframe thead th {\n",
       "        text-align: right;\n",
       "    }\n",
       "</style>\n",
       "<table border=\"1\" class=\"dataframe\">\n",
       "  <thead>\n",
       "    <tr style=\"text-align: right;\">\n",
       "      <th></th>\n",
       "      <th>distinct_1</th>\n",
       "    </tr>\n",
       "  </thead>\n",
       "  <tbody>\n",
       "    <tr>\n",
       "      <th>0</th>\n",
       "      <td>1</td>\n",
       "    </tr>\n",
       "    <tr>\n",
       "      <th>1</th>\n",
       "      <td>0</td>\n",
       "    </tr>\n",
       "  </tbody>\n",
       "</table>\n",
       "</div>"
      ],
      "text/plain": [
       "   distinct_1\n",
       "0           1\n",
       "1           0"
      ]
     },
     "execution_count": 76,
     "metadata": {},
     "output_type": "execute_result"
    }
   ],
   "source": [
    "# all distinct values\n",
    "formula = rtab['is_old'].distinct()\n",
    "core.query().select([formula]).df()"
   ]
  },
  {
   "cell_type": "code",
   "execution_count": 74,
   "metadata": {},
   "outputs": [
    {
     "name": "stdout",
     "output_type": "stream",
     "text": [
      "2023-11-12 12:12:07,615 INFO sqlalchemy.engine.Engine BEGIN (implicit)\n",
      "2023-11-12 12:12:07,618 INFO sqlalchemy.engine.Engine SELECT count(*) AS count_1 \n",
      "FROM \"Record\" \n",
      "WHERE \"Record\".age > ?\n",
      "2023-11-12 12:12:07,619 INFO sqlalchemy.engine.Engine [cached since 227.3s ago] (30,)\n"
     ]
    },
    {
     "data": {
      "text/plain": [
       "8"
      ]
     },
     "execution_count": 74,
     "metadata": {},
     "output_type": "execute_result"
    }
   ],
   "source": [
    "# count individuals over 30\n",
    "core.query().select([doctable.f.count()], where=rtab['age']>30).scalar_one()"
   ]
  },
  {
   "cell_type": "code",
   "execution_count": 77,
   "metadata": {},
   "outputs": [
    {
     "name": "stdout",
     "output_type": "stream",
     "text": [
      "2023-11-12 12:13:23,418 INFO sqlalchemy.engine.Engine BEGIN (implicit)\n",
      "2023-11-12 12:13:23,420 INFO sqlalchemy.engine.Engine SELECT count(\"Record\".id) AS count_1 \n",
      "FROM \"Record\" \n",
      "WHERE \"Record\".age > ?\n",
      "2023-11-12 12:13:23,421 INFO sqlalchemy.engine.Engine [generated in 0.00284s] (30,)\n"
     ]
    },
    {
     "data": {
      "text/plain": [
       "8"
      ]
     },
     "execution_count": 77,
     "metadata": {},
     "output_type": "execute_result"
    }
   ],
   "source": [
    "# similar to previous\n",
    "core.query().select([rtab['id'].count()], where=rtab['age']>30).scalar_one()"
   ]
  }
 ],
 "metadata": {
  "kernelspec": {
   "display_name": "Python 3 (ipykernel)",
   "language": "python",
   "name": "python3"
  },
  "language_info": {
   "codemirror_mode": {
    "name": "ipython",
    "version": 3
   },
   "file_extension": ".py",
   "mimetype": "text/x-python",
   "name": "python",
   "nbconvert_exporter": "python",
   "pygments_lexer": "ipython3",
   "version": "3.11.5"
  }
 },
 "nbformat": 4,
 "nbformat_minor": 2
}
