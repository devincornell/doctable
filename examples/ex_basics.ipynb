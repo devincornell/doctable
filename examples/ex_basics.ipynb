{
 "cells": [
  {
   "cell_type": "code",
   "execution_count": 1,
   "metadata": {},
   "outputs": [],
   "source": [
    "import sys\n",
    "sys.path.append('..')\n",
    "import doctable as dt\n",
    "import spacy\n",
    "from pprint import pprint\n",
    "nlp = spacy.load('en')"
   ]
  },
  {
   "cell_type": "markdown",
   "metadata": {},
   "source": [
    "## Store a Parsetree\n",
    "To convert a sentence to its parsetree use the `DocParser.get_parsetrees()` and to store in a database use the parsetree column type."
   ]
  },
  {
   "cell_type": "code",
   "execution_count": 3,
   "metadata": {},
   "outputs": [
    {
     "data": {
      "text/plain": [
       "[ParseTree(8), ParseTree(9)]"
      ]
     },
     "execution_count": 3,
     "metadata": {},
     "output_type": "execute_result"
    }
   ],
   "source": [
    "# make a doctable db\n",
    "schema = (\n",
    "    ('id','integer',dict(primary_key=True, autoincrement=True)),\n",
    "    ('tree','parsetree'),\n",
    ")\n",
    "db = dt.DocTable2(schema=schema)\n",
    "\n",
    "# make a parsetree\n",
    "sent = 'Barak Obama is the coolest cat out there. But wait - was he a good president?'\n",
    "doc = nlp(sent)\n",
    "parsetree = dt.DocParser.get_parsetrees(doc, merge_ents=True)\n",
    "\n",
    "# insert and retreive the parsetree\n",
    "db.insert({'tree': parsetree})\n",
    "trees = db.select_first('tree')\n",
    "trees"
   ]
  },
  {
   "cell_type": "code",
   "execution_count": null,
   "metadata": {},
   "outputs": [],
   "source": []
  }
 ],
 "metadata": {
  "kernelspec": {
   "display_name": "Python 3",
   "language": "python",
   "name": "python3"
  },
  "language_info": {
   "codemirror_mode": {
    "name": "ipython",
    "version": 3
   },
   "file_extension": ".py",
   "mimetype": "text/x-python",
   "name": "python",
   "nbconvert_exporter": "python",
   "pygments_lexer": "ipython3",
   "version": "3.6.9"
  }
 },
 "nbformat": 4,
 "nbformat_minor": 4
}
