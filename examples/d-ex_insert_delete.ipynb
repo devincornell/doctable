{
 "cells": [
  {
   "cell_type": "markdown",
   "metadata": {},
   "source": [
    "# Insert and Delete Queries\n",
    "\n",
    "In this document I will describe the interface for performing insert and delete queries with doctable."
   ]
  },
  {
   "cell_type": "code",
   "execution_count": 94,
   "metadata": {},
   "outputs": [],
   "source": [
    "\n",
    "import pandas as pd\n",
    "import numpy as np\n",
    "import typing\n",
    "\n",
    "import sys\n",
    "sys.path.append('..')\n",
    "import doctable"
   ]
  },
  {
   "cell_type": "markdown",
   "metadata": {},
   "source": [
    "#### Define a demonstration schema\n",
    "\n",
    "The very first step is to define a table schema that will be appropriate for our examples. This table includes the typical `id` column (the first column, specified by `order=0`), as well as string, integer, and boolean attributes. The object used to specify the schema is called a _container_, and I will use that terminology as we go."
   ]
  },
  {
   "cell_type": "code",
   "execution_count": 95,
   "metadata": {},
   "outputs": [
    {
     "name": "stdout",
     "output_type": "stream",
     "text": [
      "2023-11-13 14:46:03,418 INFO sqlalchemy.engine.Engine BEGIN (implicit)\n",
      "2023-11-13 14:46:03,418 INFO sqlalchemy.engine.Engine PRAGMA main.table_info(\"Record\")\n",
      "2023-11-13 14:46:03,419 INFO sqlalchemy.engine.Engine [raw sql] ()\n",
      "2023-11-13 14:46:03,420 INFO sqlalchemy.engine.Engine PRAGMA temp.table_info(\"Record\")\n",
      "2023-11-13 14:46:03,421 INFO sqlalchemy.engine.Engine [raw sql] ()\n",
      "2023-11-13 14:46:03,422 INFO sqlalchemy.engine.Engine \n",
      "CREATE TABLE \"Record\" (\n",
      "\tid INTEGER, \n",
      "\tage INTEGER, \n",
      "\tis_old INTEGER, \n",
      "\tname VARCHAR NOT NULL, \n",
      "\tPRIMARY KEY (id), \n",
      "\tUNIQUE (name)\n",
      ")\n",
      "\n",
      "\n",
      "2023-11-13 14:46:03,423 INFO sqlalchemy.engine.Engine [no key 0.00050s] ()\n",
      "2023-11-13 14:46:03,424 INFO sqlalchemy.engine.Engine COMMIT\n"
     ]
    }
   ],
   "source": [
    "@doctable.table_schema\n",
    "class Record:\n",
    "    name: str = doctable.Column(column_args=doctable.ColumnArgs(nullable=False, unique=True))\n",
    "    age: int = doctable.Column()\n",
    "    is_old: bool = doctable.Column()\n",
    "    \n",
    "    id: int = doctable.Column(\n",
    "        column_args=doctable.ColumnArgs(\n",
    "            order = 0, \n",
    "            primary_key=True, \n",
    "            autoincrement=True\n",
    "        ),\n",
    "    )\n",
    "\n",
    "core = doctable.ConnectCore.open(target=':memory:', dialect='sqlite', echo=True)\n",
    "\n",
    "with core.begin_ddl() as ddl:\n",
    "    rtab = ddl.create_table_if_not_exists(container_type=Record)"
   ]
  },
  {
   "cell_type": "markdown",
   "metadata": {},
   "source": [
    "## Two Interfaces: `ConnectQuery` and `TableQuery`\n",
    "\n",
    "First, a little about the `doctable` query interface. There are two interfaces for performing queries: `ConnectQuery` and `TableQuery`. \n",
    "\n",
    "+ **`ConnectQuery`** table-agnostic interface for querying any table in any result format. Create this object using the `ConnectCore.query()` method.\n",
    "\n",
    "+ **`TableQuery`** table-specific interface for querying a specific table. Insert and select from container objects used to define the schema. Create this object using the `DBTable.query()` method.\n",
    "\n",
    "### Inserts via `ConnectQuery`\n",
    "\n",
    "First I will discuss the `ConnectQuery` interface, which is created via the `ConnectCore.query()` method. This object maintains a database connection, and, when used as a context manager, will commit all changes upon exit. It is fine to use the `ConnectQuery` object without a context manager for queries that do not require commits.\n",
    "\n",
    "There are two primary methods for insertions via the `ConnectQuery` interface, which you can see in this table. Both accept a single `DBTable` object, followed by one or multiple dictionaries of data to insert, depending on the method.\n",
    "\n",
    "| Method | Description |\n",
    "| --- | --- |\n",
    "| `insert_single()` | Insert a single row into a table. |\n",
    "| `insert_multi()` | Insert multiple rows into a table. |"
   ]
  },
  {
   "cell_type": "code",
   "execution_count": 96,
   "metadata": {},
   "outputs": [
    {
     "name": "stdout",
     "output_type": "stream",
     "text": [
      "2023-11-13 14:46:03,478 INFO sqlalchemy.engine.Engine BEGIN (implicit)\n",
      "2023-11-13 14:46:03,480 INFO sqlalchemy.engine.Engine INSERT OR FAIL INTO \"Record\" (age, is_old, name) VALUES (?, ?, ?)\n",
      "2023-11-13 14:46:03,482 INFO sqlalchemy.engine.Engine [generated in 0.00420s] (10, False, 'test_A')\n",
      "2023-11-13 14:46:03,487 INFO sqlalchemy.engine.Engine INSERT OR FAIL INTO \"Record\" (age, is_old, name) VALUES (?, ?, ?)\n",
      "2023-11-13 14:46:03,489 INFO sqlalchemy.engine.Engine [generated in 0.00216s] [(10, False, 'test_B'), (10, False, 'test_C')]\n",
      "2023-11-13 14:46:03,491 INFO sqlalchemy.engine.Engine COMMIT\n",
      "2023-11-13 14:46:03,494 INFO sqlalchemy.engine.Engine BEGIN (implicit)\n",
      "2023-11-13 14:46:03,495 INFO sqlalchemy.engine.Engine SELECT \"Record\".id, \"Record\".age, \"Record\".is_old, \"Record\".name \n",
      "FROM \"Record\"\n",
      "2023-11-13 14:46:03,497 INFO sqlalchemy.engine.Engine [generated in 0.00319s] ()\n"
     ]
    },
    {
     "data": {
      "text/html": [
       "<div>\n",
       "<style scoped>\n",
       "    .dataframe tbody tr th:only-of-type {\n",
       "        vertical-align: middle;\n",
       "    }\n",
       "\n",
       "    .dataframe tbody tr th {\n",
       "        vertical-align: top;\n",
       "    }\n",
       "\n",
       "    .dataframe thead th {\n",
       "        text-align: right;\n",
       "    }\n",
       "</style>\n",
       "<table border=\"1\" class=\"dataframe\">\n",
       "  <thead>\n",
       "    <tr style=\"text-align: right;\">\n",
       "      <th></th>\n",
       "      <th>id</th>\n",
       "      <th>age</th>\n",
       "      <th>is_old</th>\n",
       "      <th>name</th>\n",
       "    </tr>\n",
       "  </thead>\n",
       "  <tbody>\n",
       "    <tr>\n",
       "      <th>0</th>\n",
       "      <td>1</td>\n",
       "      <td>10</td>\n",
       "      <td>0</td>\n",
       "      <td>test_A</td>\n",
       "    </tr>\n",
       "    <tr>\n",
       "      <th>1</th>\n",
       "      <td>2</td>\n",
       "      <td>10</td>\n",
       "      <td>0</td>\n",
       "      <td>test_B</td>\n",
       "    </tr>\n",
       "    <tr>\n",
       "      <th>2</th>\n",
       "      <td>3</td>\n",
       "      <td>10</td>\n",
       "      <td>0</td>\n",
       "      <td>test_C</td>\n",
       "    </tr>\n",
       "  </tbody>\n",
       "</table>\n",
       "</div>"
      ],
      "text/plain": [
       "   id  age  is_old    name\n",
       "0   1   10       0  test_A\n",
       "1   2   10       0  test_B\n",
       "2   3   10       0  test_C"
      ]
     },
     "execution_count": 96,
     "metadata": {},
     "output_type": "execute_result"
    }
   ],
   "source": [
    "with core.query() as q:\n",
    "    q.insert_single(rtab, {\n",
    "        'name': 'test_A',\n",
    "        'age': 10,\n",
    "        'is_old': False,\n",
    "    })\n",
    "    \n",
    "    q.insert_multi(rtab, data = [\n",
    "        {\n",
    "            'name': 'test_B',\n",
    "            'age': 10,\n",
    "            'is_old': False,\n",
    "        },\n",
    "        {\n",
    "            'name': 'test_C',\n",
    "            'age': 10,\n",
    "            'is_old': False,\n",
    "        }\n",
    "    ])\n",
    "    \n",
    "q.select(rtab.all_cols()).df()"
   ]
  },
  {
   "cell_type": "markdown",
   "metadata": {},
   "source": [
    "#### Omit Attributes\n",
    "\n",
    "If some values are not provided, the database will decide which values they take. In this case, the database populates the ID column according to the schema (it acts as the primary key in this case)."
   ]
  },
  {
   "cell_type": "code",
   "execution_count": 97,
   "metadata": {},
   "outputs": [
    {
     "name": "stdout",
     "output_type": "stream",
     "text": [
      "2023-11-13 14:46:03,544 INFO sqlalchemy.engine.Engine BEGIN (implicit)\n",
      "2023-11-13 14:46:03,546 INFO sqlalchemy.engine.Engine INSERT OR FAIL INTO \"Record\" (name) VALUES (?)\n",
      "2023-11-13 14:46:03,548 INFO sqlalchemy.engine.Engine [generated in 0.00389s] ('test_D',)\n",
      "2023-11-13 14:46:03,551 INFO sqlalchemy.engine.Engine BEGIN (implicit)\n",
      "2023-11-13 14:46:03,552 INFO sqlalchemy.engine.Engine SELECT \"Record\".id, \"Record\".age, \"Record\".is_old, \"Record\".name \n",
      "FROM \"Record\"\n",
      "2023-11-13 14:46:03,554 INFO sqlalchemy.engine.Engine [cached since 0.06015s ago] ()\n"
     ]
    },
    {
     "data": {
      "text/html": [
       "<div>\n",
       "<style scoped>\n",
       "    .dataframe tbody tr th:only-of-type {\n",
       "        vertical-align: middle;\n",
       "    }\n",
       "\n",
       "    .dataframe tbody tr th {\n",
       "        vertical-align: top;\n",
       "    }\n",
       "\n",
       "    .dataframe thead th {\n",
       "        text-align: right;\n",
       "    }\n",
       "</style>\n",
       "<table border=\"1\" class=\"dataframe\">\n",
       "  <thead>\n",
       "    <tr style=\"text-align: right;\">\n",
       "      <th></th>\n",
       "      <th>id</th>\n",
       "      <th>age</th>\n",
       "      <th>is_old</th>\n",
       "      <th>name</th>\n",
       "    </tr>\n",
       "  </thead>\n",
       "  <tbody>\n",
       "    <tr>\n",
       "      <th>0</th>\n",
       "      <td>1</td>\n",
       "      <td>10.0</td>\n",
       "      <td>0.0</td>\n",
       "      <td>test_A</td>\n",
       "    </tr>\n",
       "    <tr>\n",
       "      <th>1</th>\n",
       "      <td>2</td>\n",
       "      <td>10.0</td>\n",
       "      <td>0.0</td>\n",
       "      <td>test_B</td>\n",
       "    </tr>\n",
       "    <tr>\n",
       "      <th>2</th>\n",
       "      <td>3</td>\n",
       "      <td>10.0</td>\n",
       "      <td>0.0</td>\n",
       "      <td>test_C</td>\n",
       "    </tr>\n",
       "    <tr>\n",
       "      <th>3</th>\n",
       "      <td>4</td>\n",
       "      <td>NaN</td>\n",
       "      <td>NaN</td>\n",
       "      <td>test_D</td>\n",
       "    </tr>\n",
       "  </tbody>\n",
       "</table>\n",
       "</div>"
      ],
      "text/plain": [
       "   id   age  is_old    name\n",
       "0   1  10.0     0.0  test_A\n",
       "1   2  10.0     0.0  test_B\n",
       "2   3  10.0     0.0  test_C\n",
       "3   4   NaN     NaN  test_D"
      ]
     },
     "execution_count": 97,
     "metadata": {},
     "output_type": "execute_result"
    }
   ],
   "source": [
    "core.query().insert_single(rtab, {\n",
    "    'name': 'test_D',\n",
    "})\n",
    "core.query().select(rtab.all_cols()).df()"
   ]
  },
  {
   "cell_type": "markdown",
   "metadata": {},
   "source": [
    "Note that in our schema we set `nullable=False` for the name column, so this must be provided in an insert otherwise there will be an error. This typically results in an `sqlalchemy.exc.IntegrityError`, which you may catch if needed."
   ]
  },
  {
   "cell_type": "code",
   "execution_count": 98,
   "metadata": {},
   "outputs": [
    {
     "name": "stdout",
     "output_type": "stream",
     "text": [
      "2023-11-13 14:46:03,605 INFO sqlalchemy.engine.Engine BEGIN (implicit)\n",
      "2023-11-13 14:46:03,607 INFO sqlalchemy.engine.Engine INSERT OR FAIL INTO \"Record\" (is_old) VALUES (?)\n",
      "2023-11-13 14:46:03,609 INFO sqlalchemy.engine.Engine [generated in 0.00380s] (True,)\n",
      "<class 'sqlalchemy.exc.IntegrityError'> (sqlite3.IntegrityError) NOT NULL constraint failed: Record.name\n",
      "[SQL: INSERT OR FAIL INTO \"Record\" (is_old) VALUES (?)]\n",
      "[parameters: (True,)]\n",
      "(Background on this error at: https://sqlalche.me/e/20/gkpj)\n"
     ]
    }
   ],
   "source": [
    "import sqlalchemy.exc\n",
    "\n",
    "try:\n",
    "    core.query().insert_single(rtab, {\n",
    "        'is_old': True,\n",
    "    })\n",
    "except sqlalchemy.exc.IntegrityError as e:\n",
    "    print(type(e), e)"
   ]
  },
  {
   "cell_type": "markdown",
   "metadata": {},
   "source": [
    "#### `ifnotunique` Parameter\n",
    "\n",
    "The `ifnotunique` paramter controls the behavior when a unique constraint is violated. \n",
    "\n",
    "The default value is `FAIL`, which will raise an error when a unique constraint is violated - it will raise an `sqlalchemy.exc.IntegrityError` exception in this case. The other options are `IGNORE`, meaning inserted rows that violate the constraints should be ignored, and `REPLACE`, which will replace the existing row with the new row.\n",
    "\n",
    "In the `Record` table we have created, there is a unique constraint on `name`. We will receive an integrity error if we try to insert a duplicate there when using the default `ifnotunique='ERROR'`."
   ]
  },
  {
   "cell_type": "code",
   "execution_count": 99,
   "metadata": {},
   "outputs": [
    {
     "name": "stdout",
     "output_type": "stream",
     "text": [
      "2023-11-13 14:46:03,665 INFO sqlalchemy.engine.Engine BEGIN (implicit)\n",
      "2023-11-13 14:46:03,668 INFO sqlalchemy.engine.Engine INSERT OR FAIL INTO \"Record\" (name) VALUES (?)\n",
      "2023-11-13 14:46:03,669 INFO sqlalchemy.engine.Engine [cached since 0.1247s ago] ('test_A',)\n",
      "<class 'sqlalchemy.exc.IntegrityError'> (sqlite3.IntegrityError) UNIQUE constraint failed: Record.name\n",
      "[SQL: INSERT OR FAIL INTO \"Record\" (name) VALUES (?)]\n",
      "[parameters: ('test_A',)]\n",
      "(Background on this error at: https://sqlalche.me/e/20/gkpj)\n"
     ]
    }
   ],
   "source": [
    "try:\n",
    "    core.query().insert_single(rtab, {\n",
    "        'name': 'test_A',\n",
    "    })\n",
    "except sqlalchemy.exc.IntegrityError as e:\n",
    "    print(type(e), e)"
   ]
  },
  {
   "cell_type": "markdown",
   "metadata": {},
   "source": [
    "When using `ifnotunique='REPLACE'`, the insert will replace the existing row with the new row. This is useful when you want to update a row if it already exists, but insert it if it does not."
   ]
  },
  {
   "cell_type": "code",
   "execution_count": 100,
   "metadata": {},
   "outputs": [
    {
     "name": "stdout",
     "output_type": "stream",
     "text": [
      "2023-11-13 14:46:03,728 INFO sqlalchemy.engine.Engine BEGIN (implicit)\n",
      "2023-11-13 14:46:03,731 INFO sqlalchemy.engine.Engine INSERT OR REPLACE INTO \"Record\" (name) VALUES (?)\n",
      "2023-11-13 14:46:03,733 INFO sqlalchemy.engine.Engine [generated in 0.00453s] ('test_A',)\n",
      "2023-11-13 14:46:03,738 INFO sqlalchemy.engine.Engine BEGIN (implicit)\n",
      "2023-11-13 14:46:03,739 INFO sqlalchemy.engine.Engine SELECT \"Record\".id, \"Record\".age, \"Record\".is_old, \"Record\".name \n",
      "FROM \"Record\"\n",
      "2023-11-13 14:46:03,741 INFO sqlalchemy.engine.Engine [cached since 0.2469s ago] ()\n"
     ]
    },
    {
     "data": {
      "text/html": [
       "<div>\n",
       "<style scoped>\n",
       "    .dataframe tbody tr th:only-of-type {\n",
       "        vertical-align: middle;\n",
       "    }\n",
       "\n",
       "    .dataframe tbody tr th {\n",
       "        vertical-align: top;\n",
       "    }\n",
       "\n",
       "    .dataframe thead th {\n",
       "        text-align: right;\n",
       "    }\n",
       "</style>\n",
       "<table border=\"1\" class=\"dataframe\">\n",
       "  <thead>\n",
       "    <tr style=\"text-align: right;\">\n",
       "      <th></th>\n",
       "      <th>id</th>\n",
       "      <th>age</th>\n",
       "      <th>is_old</th>\n",
       "      <th>name</th>\n",
       "    </tr>\n",
       "  </thead>\n",
       "  <tbody>\n",
       "    <tr>\n",
       "      <th>0</th>\n",
       "      <td>2</td>\n",
       "      <td>10.0</td>\n",
       "      <td>0.0</td>\n",
       "      <td>test_B</td>\n",
       "    </tr>\n",
       "    <tr>\n",
       "      <th>1</th>\n",
       "      <td>3</td>\n",
       "      <td>10.0</td>\n",
       "      <td>0.0</td>\n",
       "      <td>test_C</td>\n",
       "    </tr>\n",
       "    <tr>\n",
       "      <th>2</th>\n",
       "      <td>4</td>\n",
       "      <td>NaN</td>\n",
       "      <td>NaN</td>\n",
       "      <td>test_D</td>\n",
       "    </tr>\n",
       "    <tr>\n",
       "      <th>3</th>\n",
       "      <td>5</td>\n",
       "      <td>NaN</td>\n",
       "      <td>NaN</td>\n",
       "      <td>test_A</td>\n",
       "    </tr>\n",
       "  </tbody>\n",
       "</table>\n",
       "</div>"
      ],
      "text/plain": [
       "   id   age  is_old    name\n",
       "0   2  10.0     0.0  test_B\n",
       "1   3  10.0     0.0  test_C\n",
       "2   4   NaN     NaN  test_D\n",
       "3   5   NaN     NaN  test_A"
      ]
     },
     "execution_count": 100,
     "metadata": {},
     "output_type": "execute_result"
    }
   ],
   "source": [
    "core.query().insert_single(rtab, {\n",
    "    'name': 'test_A',\n",
    "}, ifnotunique='REPLACE')\n",
    "core.query().select(rtab.all_cols()).df()"
   ]
  },
  {
   "cell_type": "markdown",
   "metadata": {},
   "source": [
    "## Inserts via `TableQuery`\n",
    "\n",
    "The `TableQuery` interface is created via the `DBTable.query()` method. This object is table-specific, and is used to insert and select from a single table. As such, inserts ONLY accept the `Record` container objects used to define the schema. Following the `ConnectQuery` interface, there are two methods for inserting data into a table: `.insert_single()` and `.insert_multi()`."
   ]
  },
  {
   "cell_type": "code",
   "execution_count": 101,
   "metadata": {},
   "outputs": [
    {
     "name": "stdout",
     "output_type": "stream",
     "text": [
      "2023-11-13 14:46:03,806 INFO sqlalchemy.engine.Engine BEGIN (implicit)\n",
      "2023-11-13 14:46:03,809 INFO sqlalchemy.engine.Engine INSERT OR FAIL INTO \"Record\" (age, is_old, name) VALUES (?, ?, ?)\n",
      "2023-11-13 14:46:03,811 INFO sqlalchemy.engine.Engine [cached since 0.3334s ago] (10, False, 'test_E')\n",
      "2023-11-13 14:46:03,814 INFO sqlalchemy.engine.Engine BEGIN (implicit)\n",
      "2023-11-13 14:46:03,815 INFO sqlalchemy.engine.Engine SELECT \"Record\".id, \"Record\".age, \"Record\".is_old, \"Record\".name \n",
      "FROM \"Record\"\n",
      "2023-11-13 14:46:03,816 INFO sqlalchemy.engine.Engine [cached since 0.3218s ago] ()\n"
     ]
    },
    {
     "data": {
      "text/plain": [
       "[Record(name='test_B', age=10, is_old=0, id=2),\n",
       " Record(name='test_C', age=10, is_old=0, id=3),\n",
       " Record(name='test_D', age=None, is_old=None, id=4),\n",
       " Record(name='test_A', age=None, is_old=None, id=5),\n",
       " Record(name='test_E', age=10, is_old=0, id=6)]"
      ]
     },
     "execution_count": 101,
     "metadata": {},
     "output_type": "execute_result"
    }
   ],
   "source": [
    "rtab.query().insert_single(Record(name='test_E', is_old=False, age=10))\n",
    "rtab.query().select(rtab.all_cols())"
   ]
  },
  {
   "cell_type": "code",
   "execution_count": 102,
   "metadata": {},
   "outputs": [
    {
     "name": "stdout",
     "output_type": "stream",
     "text": [
      "2023-11-13 14:46:03,866 INFO sqlalchemy.engine.Engine BEGIN (implicit)\n",
      "2023-11-13 14:46:03,869 INFO sqlalchemy.engine.Engine INSERT OR FAIL INTO \"Record\" (age, is_old, name) VALUES (?, ?, ?)\n",
      "2023-11-13 14:46:03,870 INFO sqlalchemy.engine.Engine [cached since 0.3834s ago] [(10, False, 'test_F'), (80, True, 'test_G')]\n",
      "2023-11-13 14:46:03,874 INFO sqlalchemy.engine.Engine BEGIN (implicit)\n",
      "2023-11-13 14:46:03,875 INFO sqlalchemy.engine.Engine SELECT \"Record\".id, \"Record\".age, \"Record\".is_old, \"Record\".name \n",
      "FROM \"Record\"\n",
      "2023-11-13 14:46:03,876 INFO sqlalchemy.engine.Engine [cached since 0.3818s ago] ()\n"
     ]
    },
    {
     "data": {
      "text/plain": [
       "[Record(name='test_B', age=10, is_old=0, id=2),\n",
       " Record(name='test_C', age=10, is_old=0, id=3),\n",
       " Record(name='test_D', age=None, is_old=None, id=4),\n",
       " Record(name='test_A', age=None, is_old=None, id=5),\n",
       " Record(name='test_E', age=10, is_old=0, id=6),\n",
       " Record(name='test_F', age=10, is_old=0, id=7),\n",
       " Record(name='test_G', age=80, is_old=1, id=8)]"
      ]
     },
     "execution_count": 102,
     "metadata": {},
     "output_type": "execute_result"
    }
   ],
   "source": [
    "rtab.query().insert_multi([\n",
    "    Record(name='test_F', is_old=False, age=10),\n",
    "    Record(name='test_G', is_old=True, age=80),\n",
    "])\n",
    "rtab.query().select(rtab.all_cols())"
   ]
  },
  {
   "cell_type": "markdown",
   "metadata": {},
   "source": [
    "#### The `doctable.MISSING` Sentinel\n",
    "\n",
    "Lets now take a closer look at the container object behavior. Notice that in the schema definition we gave default values of `doctable.Column`, which we used to specify additional attributes. This automatically sets the default value for the dataclass to be `doctable.MISSING`, which is special because it will be ignored when inserting - instead, it will let the database decide how to handle it. This is especially useful for columns like `id`, which are intended to be automatically generated by the database. We can see this when we omit attributes from the object."
   ]
  },
  {
   "cell_type": "code",
   "execution_count": 103,
   "metadata": {},
   "outputs": [
    {
     "data": {
      "text/plain": [
       "Record(name='test_H', age=MISSING, is_old=MISSING, id=MISSING)"
      ]
     },
     "execution_count": 103,
     "metadata": {},
     "output_type": "execute_result"
    }
   ],
   "source": [
    "test_record = Record(name='test_H')\n",
    "test_record"
   ]
  },
  {
   "cell_type": "markdown",
   "metadata": {},
   "source": [
    "Those values will be omitted in the insert, filled in by the db, and be returned upon selection."
   ]
  },
  {
   "cell_type": "code",
   "execution_count": 104,
   "metadata": {},
   "outputs": [
    {
     "name": "stdout",
     "output_type": "stream",
     "text": [
      "2023-11-13 14:46:03,982 INFO sqlalchemy.engine.Engine BEGIN (implicit)\n",
      "2023-11-13 14:46:03,985 INFO sqlalchemy.engine.Engine INSERT OR FAIL INTO \"Record\" (name) VALUES (?)\n",
      "2023-11-13 14:46:03,987 INFO sqlalchemy.engine.Engine [cached since 0.4426s ago] ('test_H',)\n",
      "2023-11-13 14:46:03,990 INFO sqlalchemy.engine.Engine BEGIN (implicit)\n",
      "2023-11-13 14:46:03,991 INFO sqlalchemy.engine.Engine SELECT \"Record\".id, \"Record\".age, \"Record\".is_old, \"Record\".name \n",
      "FROM \"Record\"\n",
      "2023-11-13 14:46:03,992 INFO sqlalchemy.engine.Engine [cached since 0.4979s ago] ()\n"
     ]
    },
    {
     "data": {
      "text/plain": [
       "[Record(name='test_B', age=10, is_old=0, id=2),\n",
       " Record(name='test_C', age=10, is_old=0, id=3),\n",
       " Record(name='test_D', age=None, is_old=None, id=4),\n",
       " Record(name='test_A', age=None, is_old=None, id=5),\n",
       " Record(name='test_E', age=10, is_old=0, id=6),\n",
       " Record(name='test_F', age=10, is_old=0, id=7),\n",
       " Record(name='test_G', age=80, is_old=1, id=8),\n",
       " Record(name='test_H', age=None, is_old=None, id=9)]"
      ]
     },
     "execution_count": 104,
     "metadata": {},
     "output_type": "execute_result"
    }
   ],
   "source": [
    "rtab.query().insert_single(test_record)\n",
    "rtab.query().select(rtab.all_cols())"
   ]
  },
  {
   "cell_type": "markdown",
   "metadata": {},
   "source": [
    "If we select a subset of columns, the missing values will refer to `doctable.MISSING`, even though the attributes will continue to exist."
   ]
  },
  {
   "cell_type": "code",
   "execution_count": 105,
   "metadata": {},
   "outputs": [
    {
     "name": "stdout",
     "output_type": "stream",
     "text": [
      "2023-11-13 14:46:04,041 INFO sqlalchemy.engine.Engine BEGIN (implicit)\n",
      "2023-11-13 14:46:04,044 INFO sqlalchemy.engine.Engine SELECT \"Record\".id, \"Record\".name \n",
      "FROM \"Record\"\n",
      "2023-11-13 14:46:04,045 INFO sqlalchemy.engine.Engine [generated in 0.00350s] ()\n"
     ]
    },
    {
     "data": {
      "text/plain": [
       "[Record(name='test_A', age=MISSING, is_old=MISSING, id=5),\n",
       " Record(name='test_B', age=MISSING, is_old=MISSING, id=2),\n",
       " Record(name='test_C', age=MISSING, is_old=MISSING, id=3),\n",
       " Record(name='test_D', age=MISSING, is_old=MISSING, id=4),\n",
       " Record(name='test_E', age=MISSING, is_old=MISSING, id=6),\n",
       " Record(name='test_F', age=MISSING, is_old=MISSING, id=7),\n",
       " Record(name='test_G', age=MISSING, is_old=MISSING, id=8),\n",
       " Record(name='test_H', age=MISSING, is_old=MISSING, id=9)]"
      ]
     },
     "execution_count": 105,
     "metadata": {},
     "output_type": "execute_result"
    }
   ],
   "source": [
    "rtab.query().select(rtab.cols('id', 'name'))"
   ]
  },
  {
   "cell_type": "markdown",
   "metadata": {},
   "source": [
    "Note that the `doctable.MISSING` will never be inserted into the databse because it will be ignored.\n",
    "\n",
    "## Deletion Interface\n",
    "\n",
    "Deleting rows is pretty straightforward when using either the `ConnectQuery` or `TableQuery` interfaces. In fact, it is the exact same for both. The only parameters are `where` and `wherestr` (where you can add additional conditionals as strings)."
   ]
  },
  {
   "cell_type": "code",
   "execution_count": 108,
   "metadata": {},
   "outputs": [
    {
     "name": "stdout",
     "output_type": "stream",
     "text": [
      "2023-11-13 14:46:31,486 INFO sqlalchemy.engine.Engine BEGIN (implicit)\n",
      "2023-11-13 14:46:31,489 INFO sqlalchemy.engine.Engine SELECT count(\"Record\".id) AS count_1 \n",
      "FROM \"Record\"\n",
      "2023-11-13 14:46:31,490 INFO sqlalchemy.engine.Engine [cached since 27.39s ago] ()\n",
      "7\n",
      "2023-11-13 14:46:31,493 INFO sqlalchemy.engine.Engine BEGIN (implicit)\n",
      "2023-11-13 14:46:31,495 INFO sqlalchemy.engine.Engine DELETE FROM \"Record\" WHERE \"Record\".name = ?\n",
      "2023-11-13 14:46:31,497 INFO sqlalchemy.engine.Engine [cached since 27.39s ago] ('test_A',)\n",
      "2023-11-13 14:46:31,498 INFO sqlalchemy.engine.Engine COMMIT\n",
      "2023-11-13 14:46:31,500 INFO sqlalchemy.engine.Engine BEGIN (implicit)\n",
      "2023-11-13 14:46:31,500 INFO sqlalchemy.engine.Engine SELECT count(\"Record\".id) AS count_1 \n",
      "FROM \"Record\"\n",
      "2023-11-13 14:46:31,501 INFO sqlalchemy.engine.Engine [cached since 27.4s ago] ()\n"
     ]
    },
    {
     "data": {
      "text/plain": [
       "7"
      ]
     },
     "execution_count": 108,
     "metadata": {},
     "output_type": "execute_result"
    }
   ],
   "source": [
    "print(core.query().select([rtab['id'].count()]).scalar_one())\n",
    "with rtab.query() as q:\n",
    "    q.delete(where=rtab['name']=='test_A')\n",
    "core.query().select([rtab['id'].count()]).scalar_one()"
   ]
  },
  {
   "cell_type": "markdown",
   "metadata": {},
   "source": [
    "To delete all columns, pass the `all=True` flag. This prevents the user from accidentally deleting all rows."
   ]
  },
  {
   "cell_type": "code",
   "execution_count": 110,
   "metadata": {},
   "outputs": [
    {
     "name": "stdout",
     "output_type": "stream",
     "text": [
      "2023-11-13 14:48:08,718 INFO sqlalchemy.engine.Engine BEGIN (implicit)\n",
      "2023-11-13 14:48:08,720 INFO sqlalchemy.engine.Engine DELETE FROM \"Record\"\n",
      "2023-11-13 14:48:08,722 INFO sqlalchemy.engine.Engine [cached since 13.97s ago] ()\n",
      "2023-11-13 14:48:08,724 INFO sqlalchemy.engine.Engine COMMIT\n",
      "2023-11-13 14:48:08,726 INFO sqlalchemy.engine.Engine BEGIN (implicit)\n",
      "2023-11-13 14:48:08,727 INFO sqlalchemy.engine.Engine SELECT count(\"Record\".id) AS count_1 \n",
      "FROM \"Record\"\n",
      "2023-11-13 14:48:08,729 INFO sqlalchemy.engine.Engine [cached since 124.6s ago] ()\n"
     ]
    },
    {
     "data": {
      "text/plain": [
       "0"
      ]
     },
     "execution_count": 110,
     "metadata": {},
     "output_type": "execute_result"
    }
   ],
   "source": [
    "with rtab.query() as q:\n",
    "    q.delete(all=True)\n",
    "core.query().select([rtab['id'].count()]).scalar_one()"
   ]
  },
  {
   "cell_type": "markdown",
   "metadata": {},
   "source": []
  }
 ],
 "metadata": {
  "kernelspec": {
   "display_name": "Python 3 (ipykernel)",
   "language": "python",
   "name": "python3"
  }
 },
 "nbformat": 4,
 "nbformat_minor": 2
}
