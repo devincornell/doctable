{
 "cells": [
  {
   "cell_type": "markdown",
   "metadata": {},
   "source": [
    "# `DocTable` Overview\n",
    "\n",
    "A `DocTable` acts as an object-oriented interface to a single database table. It combines the utility of [`dataclasses`](https://realpython.com/python-data-classes/) to create schemas from simple object definitions and [sqlalchemy](https://docs.sqlalchemy.org/en/14/core/) to create connections and execute queries to a database. It should be easy to convert existing data-oriented objects to database schemas, and use those objects when inserting/retrieving data. \n",
    "\n",
    "In this document I'll cover these topics:\n",
    "\n",
    "1. Creating Schemas\n",
    "2. Managing Connections\n",
    "3. Inserting, Deleting, and Selecting\n",
    "4. Select Queries\n",
    "\n",
    "You may also want to see the [vignettes](examples/example_nss_1_intro.html) for more examples, the [`DocTable` docs](ref/doctable.DocTable.html) for more information about the class, or the [schema guide](examples/doctable_schema.html) for more information about creating schemas. I also recommend looking examples for [insert, delete](examples/doctable_insert_delete.html), [select](examples/doctable_select.html), and [update](examples/doctable_update.html) methods."
   ]
  },
  {
   "cell_type": "code",
   "execution_count": 1,
   "metadata": {},
   "outputs": [],
   "source": [
    "import random\n",
    "random.seed(0)\n",
    "import pandas as pd\n",
    "import numpy as np\n",
    "from dataclasses import dataclass\n",
    "\n",
    "import sys\n",
    "sys.path.append('..')\n",
    "import doctable"
   ]
  },
  {
   "cell_type": "markdown",
   "metadata": {},
   "source": [
    "# 1. Creating a Database Schema\n",
    "\n",
    "`DocTable` schemas are created using the `doctable.schema` decorator on a class that uses `doctable.Col` for defaulted parameters. Check out the [schema guide](examples/doctable_schema.html) for more detail about schema classes. Our demonstration class will include three columns: `id`, `name`, and `age`, with an additional `.is_old` property derived from `age` for example.\n",
    "\n",
    "Note that the `id` column uses the default value `IDCol()` which sets the variable to be the primary key and to auto-increment. Arguments passed to the generic `Col()` function are passed directly to the [sqlalchemy metadata](https://docs.sqlalchemy.org/en/14/core/metadata.html) to direct column creation. See more in the [schema guide](examples/doctable_schema.html)."
   ]
  },
  {
   "cell_type": "code",
   "execution_count": 2,
   "metadata": {},
   "outputs": [],
   "source": [
    "@doctable.schema\n",
    "class Record:\n",
    "    __slots__ = []\n",
    "    id: int = doctable.IDCol()\n",
    "    name: str = doctable.Col(nullable=False)\n",
    "    age: int = doctable.Col()\n",
    "\n",
    "    @property\n",
    "    def is_old(self):\n",
    "        return self.age >= 30 # lol"
   ]
  },
  {
   "cell_type": "markdown",
   "metadata": {},
   "source": [
    "We can instantiate a `DocTable` by passing a `target` and `schema` (`Record` in our example) parameters, and I show the resulting schema using `.schema_table()`. Note that the type hints were used to describe column types, and `id` was used as the auto-incremented primary key."
   ]
  },
  {
   "cell_type": "code",
   "execution_count": 3,
   "metadata": {},
   "outputs": [
    {
     "data": {
      "text/html": [
       "<div>\n",
       "<style scoped>\n",
       "    .dataframe tbody tr th:only-of-type {\n",
       "        vertical-align: middle;\n",
       "    }\n",
       "\n",
       "    .dataframe tbody tr th {\n",
       "        vertical-align: top;\n",
       "    }\n",
       "\n",
       "    .dataframe thead th {\n",
       "        text-align: right;\n",
       "    }\n",
       "</style>\n",
       "<table border=\"1\" class=\"dataframe\">\n",
       "  <thead>\n",
       "    <tr style=\"text-align: right;\">\n",
       "      <th></th>\n",
       "      <th>name</th>\n",
       "      <th>type</th>\n",
       "      <th>nullable</th>\n",
       "      <th>default</th>\n",
       "      <th>autoincrement</th>\n",
       "      <th>primary_key</th>\n",
       "    </tr>\n",
       "  </thead>\n",
       "  <tbody>\n",
       "    <tr>\n",
       "      <th>0</th>\n",
       "      <td>id</td>\n",
       "      <td>INTEGER</td>\n",
       "      <td>False</td>\n",
       "      <td>None</td>\n",
       "      <td>auto</td>\n",
       "      <td>1</td>\n",
       "    </tr>\n",
       "    <tr>\n",
       "      <th>1</th>\n",
       "      <td>name</td>\n",
       "      <td>VARCHAR</td>\n",
       "      <td>False</td>\n",
       "      <td>None</td>\n",
       "      <td>auto</td>\n",
       "      <td>0</td>\n",
       "    </tr>\n",
       "    <tr>\n",
       "      <th>2</th>\n",
       "      <td>age</td>\n",
       "      <td>INTEGER</td>\n",
       "      <td>True</td>\n",
       "      <td>None</td>\n",
       "      <td>auto</td>\n",
       "      <td>0</td>\n",
       "    </tr>\n",
       "  </tbody>\n",
       "</table>\n",
       "</div>"
      ],
      "text/plain": [
       "   name     type  nullable default autoincrement  primary_key\n",
       "0    id  INTEGER     False    None          auto            1\n",
       "1  name  VARCHAR     False    None          auto            0\n",
       "2   age  INTEGER      True    None          auto            0"
      ]
     },
     "execution_count": 3,
     "metadata": {},
     "output_type": "execute_result"
    }
   ],
   "source": [
    "table = doctable.DocTable(target=':memory:', schema=Record)\n",
    "table.schema_table()"
   ]
  },
  {
   "cell_type": "markdown",
   "metadata": {},
   "source": [
    "Probably a more common use case will be to subclass `DocTable` to provide some basic definitions."
   ]
  },
  {
   "cell_type": "code",
   "execution_count": 4,
   "metadata": {},
   "outputs": [
    {
     "data": {
      "text/plain": [
       "<__main__.RecordTable at 0x7f5b40325940>"
      ]
     },
     "execution_count": 4,
     "metadata": {},
     "output_type": "execute_result"
    }
   ],
   "source": [
    "class RecordTable(doctable.DocTable):\n",
    "    _tabname_ = 'records'\n",
    "    _schema_ = Record\n",
    "    _indices_ = (\n",
    "        doctable.Index('ind_age', 'age'),\n",
    "    )\n",
    "    _constraints_ = (\n",
    "        doctable.Constraint('check', 'age > 0'),\n",
    "    )\n",
    "\n",
    "table = RecordTable(target=':memory:')\n",
    "table"
   ]
  },
  {
   "cell_type": "markdown",
   "metadata": {},
   "source": [
    "# 2. Maintaining Database Connections\n",
    "\n",
    "Obviously a big part of working with databases involves managing connections with the database. By default, `DocTable` instances DO NOT maintain persistent connections to the database - instead, they open a connection as-needed when executing a query. Benchmark comparisons show that the cost of creating a connection is so low relative to an actual insertion that this probably the approach for most applications.\n",
    "\n",
    "Alternatively, there are several ways of working with connections: as a context manager, using the `persistent_conn` constructor parameter, manually calling `open_conn()` and `close_conn()` (not recommended), and manually requesting a connection to execute using your own sqlalchemy or raw sql library queries.\n",
    "\n",
    "1. As a context manager. Note that the `__enter__` method returns the doctable instance itself, so you can access it using with or without the \"as\" keyword."
   ]
  },
  {
   "cell_type": "code",
   "execution_count": 5,
   "metadata": {},
   "outputs": [
    {
     "name": "stdout",
     "output_type": "stream",
     "text": [
      "None\n",
      "['__annotations__', '__class__', '__dataclass_fields__', '__dataclass_params__', '__delattr__', '__dir__', '__doc__', '__eq__', '__format__', '__ge__', '__getattribute__', '__getitem__', '__gt__', '__hash__', '__init__', '__init_subclass__', '__le__', '__lt__', '__module__', '__ne__', '__new__', '__reduce__', '__reduce_ex__', '__repr__', '__setattr__', '__sizeof__', '__slots__', '__str__', '__subclasshook__', '__wrapped__', '_doctable__age', '_doctable__id', '_doctable__name', '_doctable_as_dict', '_doctable_from_db', '_doctable_get_val', 'age', 'as_dict', 'get_val', 'id', 'is_old', 'name']\n",
      "<sqlalchemy.engine.base.Connection object at 0x7f5b40304550>\n",
      "<sqlalchemy.engine.base.Connection object at 0x7f5b403141c0>\n"
     ]
    },
    {
     "name": "stderr",
     "output_type": "stream",
     "text": [
      "/DataDrive/code/doctable/examples/../doctable/doctable.py:391: UserWarning: .insert_single() is depricated: please use .q.insert_single() or .q.insert_single_raw()\n",
      "  warnings.warn(f'.insert_single() is depricated: please use .q.insert_single() or '\n",
      "/DataDrive/code/doctable/examples/../doctable/doctable.py:408: UserWarning: Method .head() is depricated. Please use .q.select_head() instead.\n",
      "  warnings.warn('Method .head() is depricated. Please use .q.select_head() instead.')\n"
     ]
    },
    {
     "data": {
      "text/html": [
       "<div>\n",
       "<style scoped>\n",
       "    .dataframe tbody tr th:only-of-type {\n",
       "        vertical-align: middle;\n",
       "    }\n",
       "\n",
       "    .dataframe tbody tr th {\n",
       "        vertical-align: top;\n",
       "    }\n",
       "\n",
       "    .dataframe thead th {\n",
       "        text-align: right;\n",
       "    }\n",
       "</style>\n",
       "<table border=\"1\" class=\"dataframe\">\n",
       "  <thead>\n",
       "    <tr style=\"text-align: right;\">\n",
       "      <th></th>\n",
       "      <th>id</th>\n",
       "      <th>name</th>\n",
       "      <th>age</th>\n",
       "    </tr>\n",
       "  </thead>\n",
       "  <tbody>\n",
       "    <tr>\n",
       "      <th>0</th>\n",
       "      <td>1</td>\n",
       "      <td>Devin Cornell</td>\n",
       "      <td>32</td>\n",
       "    </tr>\n",
       "    <tr>\n",
       "      <th>1</th>\n",
       "      <td>2</td>\n",
       "      <td>Devin Cornell</td>\n",
       "      <td>32</td>\n",
       "    </tr>\n",
       "  </tbody>\n",
       "</table>\n",
       "</div>"
      ],
      "text/plain": [
       "   id           name  age\n",
       "0   1  Devin Cornell   32\n",
       "1   2  Devin Cornell   32"
      ]
     },
     "execution_count": 5,
     "metadata": {},
     "output_type": "execute_result"
    }
   ],
   "source": [
    "tab = doctable.DocTable(target=':memory:', schema=Record)\n",
    "print(tab._conn)\n",
    "with tab as t:\n",
    "    r = Record(name = 'Devin Cornell', age = 32)\n",
    "    print(dir(r))\n",
    "    t.insert_single(Record(name = 'Devin Cornell', age = 32))\n",
    "    print(t._conn)\n",
    "    \n",
    "# alternatively, no need to use \"as\"\n",
    "with tab:\n",
    "    tab.insert_single(Record(name = 'Devin Cornell', age = 32))\n",
    "    print(tab._conn)\n",
    "tab.head()\n",
    "    "
   ]
  },
  {
   "cell_type": "markdown",
   "metadata": {},
   "source": [
    "2. Using the constructor argument `persistent_conn`"
   ]
  },
  {
   "cell_type": "code",
   "execution_count": 6,
   "metadata": {},
   "outputs": [
    {
     "name": "stdout",
     "output_type": "stream",
     "text": [
      "None\n"
     ]
    },
    {
     "data": {
      "text/plain": [
       "<sqlalchemy.engine.base.Connection at 0x7f5b402cd280>"
      ]
     },
     "execution_count": 6,
     "metadata": {},
     "output_type": "execute_result"
    }
   ],
   "source": [
    "tab = doctable.DocTable(target=':memory:', schema=Record, persistent_conn=False)\n",
    "print(tab._conn)\n",
    "tab = doctable.DocTable(target=':memory:', schema=Record, persistent_conn=True)\n",
    "tab._conn"
   ]
  },
  {
   "cell_type": "markdown",
   "metadata": {},
   "source": [
    "3. Manually calling `.open_conn()` and `.close_conn()`. I recommend using a context manager if you go this route."
   ]
  },
  {
   "cell_type": "code",
   "execution_count": 7,
   "metadata": {},
   "outputs": [
    {
     "name": "stdout",
     "output_type": "stream",
     "text": [
      "None\n",
      "<sqlalchemy.engine.base.Connection object at 0x7f5b403097c0>\n",
      "None\n"
     ]
    }
   ],
   "source": [
    "tab = doctable.DocTable(target=':memory:', schema=Record)\n",
    "print(tab._conn)\n",
    "tab.open_conn()\n",
    "print(tab._conn)\n",
    "tab.close_conn()\n",
    "print(tab._conn)"
   ]
  },
  {
   "cell_type": "markdown",
   "metadata": {},
   "source": [
    "4. grabbing a connection object to execute your own sqlalchemy queries"
   ]
  },
  {
   "cell_type": "code",
   "execution_count": 8,
   "metadata": {},
   "outputs": [
    {
     "data": {
      "text/plain": [
       "<sqlalchemy.engine.base.Connection at 0x7f5b40309550>"
      ]
     },
     "execution_count": 8,
     "metadata": {},
     "output_type": "execute_result"
    }
   ],
   "source": [
    "conn = tab.connect()\n",
    "conn"
   ]
  },
  {
   "cell_type": "markdown",
   "metadata": {},
   "source": [
    "# 3. Insert, Delete, and Select\n",
    "\n",
    "The nature of doctable schema definitions means the easiest way to work with database data is often to use the schema class as a normal dataclass. I recommend the [schema guide](examples/doctable_schema.html) for more detail about the relationship between dataclasses, schema classes, and behavior of the actual database. While the intent behind using dataclasses for database schemas is intuitive and valuable, it can be tricky.\n",
    "\n",
    "> NOTE!!!: Unlike ORM-based applications, `DocTable` instances do not have any connection to instances of the schema class - they are simply used to encapsulate data to be stored and retrieved in the table. This is why the same object can be inserted multiple times in this example.\n",
    "\n",
    "Lets start off by creating some record objects and inserting them into the database with `.insert_single()` and `.insert_many()`. In the `Record` constructor here we do not specify the id value - this is because our database schema dictated that it will be automatically incremented by the database - if we omit the value in the constructor, by default it will simply not pass any value to the database at all (this can be changed later though). See that the results of our call to `.head()` shows that the rows were given id values upon insertion."
   ]
  },
  {
   "cell_type": "code",
   "execution_count": 9,
   "metadata": {},
   "outputs": [
    {
     "name": "stdout",
     "output_type": "stream",
     "text": [
      "DocTable: INSERT OR FAIL INTO _documents_ (id, name, age) VALUES (?, ?, ?)\n",
      "DocTable: INSERT OR FAIL INTO _documents_ (id, name, age) VALUES (?, ?, ?)\n"
     ]
    },
    {
     "name": "stderr",
     "output_type": "stream",
     "text": [
      "/DataDrive/code/doctable/examples/../doctable/doctable.py:391: UserWarning: .insert_single() is depricated: please use .q.insert_single() or .q.insert_single_raw()\n",
      "  warnings.warn(f'.insert_single() is depricated: please use .q.insert_single() or '\n",
      "/DataDrive/code/doctable/examples/../doctable/doctable.py:379: UserWarning: .insert_many() is depricated: please use .q.insert_multi() or .q.insert_multi_raw()\n",
      "  warnings.warn(f'.insert_many() is depricated: please use .q.insert_multi() or '\n",
      "/DataDrive/code/doctable/examples/../doctable/doctable.py:408: UserWarning: Method .head() is depricated. Please use .q.select_head() instead.\n",
      "  warnings.warn('Method .head() is depricated. Please use .q.select_head() instead.')\n"
     ]
    },
    {
     "data": {
      "text/html": [
       "<div>\n",
       "<style scoped>\n",
       "    .dataframe tbody tr th:only-of-type {\n",
       "        vertical-align: middle;\n",
       "    }\n",
       "\n",
       "    .dataframe tbody tr th {\n",
       "        vertical-align: top;\n",
       "    }\n",
       "\n",
       "    .dataframe thead th {\n",
       "        text-align: right;\n",
       "    }\n",
       "</style>\n",
       "<table border=\"1\" class=\"dataframe\">\n",
       "  <thead>\n",
       "    <tr style=\"text-align: right;\">\n",
       "      <th></th>\n",
       "      <th>id</th>\n",
       "      <th>name</th>\n",
       "      <th>age</th>\n",
       "    </tr>\n",
       "  </thead>\n",
       "  <tbody>\n",
       "    <tr>\n",
       "      <th>0</th>\n",
       "      <td>1</td>\n",
       "      <td>Devin Cornell</td>\n",
       "      <td>35</td>\n",
       "    </tr>\n",
       "    <tr>\n",
       "      <th>1</th>\n",
       "      <td>2</td>\n",
       "      <td>Devin Cornell</td>\n",
       "      <td>35</td>\n",
       "    </tr>\n",
       "    <tr>\n",
       "      <th>2</th>\n",
       "      <td>3</td>\n",
       "      <td>Devin Cornell</td>\n",
       "      <td>35</td>\n",
       "    </tr>\n",
       "    <tr>\n",
       "      <th>3</th>\n",
       "      <td>4</td>\n",
       "      <td>Devin Cornell</td>\n",
       "      <td>35</td>\n",
       "    </tr>\n",
       "  </tbody>\n",
       "</table>\n",
       "</div>"
      ],
      "text/plain": [
       "   id           name  age\n",
       "0   1  Devin Cornell   35\n",
       "1   2  Devin Cornell   35\n",
       "2   3  Devin Cornell   35\n",
       "3   4  Devin Cornell   35"
      ]
     },
     "execution_count": 9,
     "metadata": {},
     "output_type": "execute_result"
    }
   ],
   "source": [
    "table = doctable.DocTable(target=':memory:', schema=Record)\n",
    "\n",
    "o = Record(name='Devin Cornell', age=35)\n",
    "table.insert_single(o, verbose=True)\n",
    "table.insert_single(o)\n",
    "table.insert_many([o, o], verbose=True)\n",
    "table.head()"
   ]
  },
  {
   "cell_type": "markdown",
   "metadata": {},
   "source": [
    "Now we use `.select()` to retrieve data from the database. Here we call it with no parameters to simply get all the objects we previously inserted, this time with the id values that the database provided."
   ]
  },
  {
   "cell_type": "code",
   "execution_count": 10,
   "metadata": {},
   "outputs": [
    {
     "name": "stdout",
     "output_type": "stream",
     "text": [
      "DocTable: SELECT _documents_.id, _documents_.name, _documents_.age \n",
      "FROM _documents_\n"
     ]
    },
    {
     "name": "stderr",
     "output_type": "stream",
     "text": [
      "/DataDrive/code/doctable/examples/../doctable/doctable.py:452: UserWarning: Method .select() is depricated. Please use .q.select() instead.\n",
      "  warnings.warn('Method .select() is depricated. Please use .q.select() instead.')\n"
     ]
    },
    {
     "data": {
      "text/plain": [
       "[Record(id=1, name='Devin Cornell', age=35),\n",
       " Record(id=2, name='Devin Cornell', age=35),\n",
       " Record(id=3, name='Devin Cornell', age=35),\n",
       " Record(id=4, name='Devin Cornell', age=35)]"
      ]
     },
     "execution_count": 10,
     "metadata": {},
     "output_type": "execute_result"
    }
   ],
   "source": [
    "results = table.select(verbose=True)\n",
    "results"
   ]
  },
  {
   "cell_type": "markdown",
   "metadata": {},
   "source": [
    "# 4. More Complicated Queries\n",
    "And, of course, the most important part of any database library is to execute queries. To do this, `DocTable` objects keep track of [sqlalchemy core `MetaData` and `Table` objects](https://docs.sqlalchemy.org/en/14/core/metadata.html) and build queries using the `select()`, `delete()`, `insert()`, and `update()` methods from sqlalchemy core.\n",
    "\n",
    "First, note that subscripting the table object allows you to access the underlying sqlalchemy `Column` objects, which, as I will show a bit later, can be used to create where conditionals for select and update queries. You can also access specific column data using the `.c` property of the doctable."
   ]
  },
  {
   "cell_type": "code",
   "execution_count": 11,
   "metadata": {},
   "outputs": [
    {
     "data": {
      "text/plain": [
       "(Column('id', Integer(), table=<_documents_>, primary_key=True, nullable=False),\n",
       " Column('id', Integer(), table=<_documents_>, primary_key=True, nullable=False))"
      ]
     },
     "execution_count": 11,
     "metadata": {},
     "output_type": "execute_result"
    }
   ],
   "source": [
    "table = doctable.DocTable(target=':memory:', schema=Record)\n",
    "\n",
    "table['id'], table.c.id"
   ]
  },
  {
   "cell_type": "markdown",
   "metadata": {},
   "source": [
    "As we'll show later, these column objects also have some operators defined such that they can be used to construct complex queries and functions. You can read more about this in the [sqlalchemy operators documentation](https://docs.sqlalchemy.org/en/14/core/operators.html)."
   ]
  },
  {
   "cell_type": "code",
   "execution_count": 12,
   "metadata": {},
   "outputs": [
    {
     "data": {
      "text/plain": [
       "(<sqlalchemy.sql.elements.BinaryExpression object at 0x7f5b4025cd00>,\n",
       " <sqlalchemy.sql.elements.BinaryExpression object at 0x7f5b4025cc70>,\n",
       " <sqlalchemy.sql.elements.BinaryExpression object at 0x7f5b4025c8e0>)"
      ]
     },
     "execution_count": 12,
     "metadata": {},
     "output_type": "execute_result"
    }
   ],
   "source": [
    "table.c.id > 3, table.c.id.in_([1,2]), table.c.age == 4"
   ]
  },
  {
   "cell_type": "markdown",
   "metadata": {},
   "source": [
    "You can use these expressions as part of `select()`, `update()`, and `delete()` operations by passing them to the `where` argument."
   ]
  },
  {
   "cell_type": "code",
   "execution_count": 13,
   "metadata": {},
   "outputs": [
    {
     "name": "stdout",
     "output_type": "stream",
     "text": [
      "DocTable: SELECT _documents_.id, _documents_.name, _documents_.age \n",
      "FROM _documents_ \n",
      "WHERE _documents_.id >= ?\n"
     ]
    },
    {
     "name": "stderr",
     "output_type": "stream",
     "text": [
      "/DataDrive/code/doctable/examples/../doctable/doctable.py:391: UserWarning: .insert_single() is depricated: please use .q.insert_single() or .q.insert_single_raw()\n",
      "  warnings.warn(f'.insert_single() is depricated: please use .q.insert_single() or '\n"
     ]
    },
    {
     "data": {
      "text/plain": [
       "[Record(id=3, name='Rando', age=500)]"
      ]
     },
     "execution_count": 13,
     "metadata": {},
     "output_type": "execute_result"
    }
   ],
   "source": [
    "table.insert_single(Record(name='Devin Cornell', age=35))\n",
    "table.insert_single(Record(name='Sam Adams', age=250))\n",
    "table.insert_single(Record(name='Rando', age=500))\n",
    "\n",
    "table.select(where=table.c.id >= 3, verbose=True)"
   ]
  },
  {
   "cell_type": "code",
   "execution_count": 14,
   "metadata": {},
   "outputs": [
    {
     "name": "stdout",
     "output_type": "stream",
     "text": [
      "DocTable: SELECT _documents_.id, _documents_.name, _documents_.age \n",
      "FROM _documents_ \n",
      "WHERE _documents_.name = ?\n",
      " LIMIT ? OFFSET ?\n"
     ]
    },
    {
     "name": "stderr",
     "output_type": "stream",
     "text": [
      "/DataDrive/code/doctable/examples/../doctable/doctable.py:427: UserWarning: Method .select_first() is depricated. Please use .q.select_first() instead.\n",
      "  warnings.warn('Method .select_first() is depricated. Please use .q.select_first() instead.')\n"
     ]
    },
    {
     "data": {
      "text/plain": [
       "Record(id=1, name='Devin Cornell', age=35)"
      ]
     },
     "execution_count": 14,
     "metadata": {},
     "output_type": "execute_result"
    }
   ],
   "source": [
    "table.select_first(where=table.c.name=='Devin Cornell', verbose=True)"
   ]
  },
  {
   "cell_type": "markdown",
   "metadata": {},
   "source": [
    "### Select Statements\n",
    "Now we show how to select data from the table. Use the `.count()` method to check the number of rows. It also accepts some column conditionals to count entries that satisfy a given criteria"
   ]
  },
  {
   "cell_type": "code",
   "execution_count": 15,
   "metadata": {},
   "outputs": [
    {
     "name": "stdout",
     "output_type": "stream",
     "text": [
      "DocTable: SELECT count(_documents_.id) AS count_1 \n",
      "FROM _documents_\n",
      " LIMIT ? OFFSET ?\n",
      "DocTable: SELECT count(_documents_.id) AS count_1 \n",
      "FROM _documents_ \n",
      "WHERE _documents_.age >= ?\n",
      " LIMIT ? OFFSET ?\n"
     ]
    },
    {
     "name": "stderr",
     "output_type": "stream",
     "text": [
      "/DataDrive/code/doctable/examples/../doctable/doctable.py:403: UserWarning: Method .count() is depricated. Please use .q.count() instead.\n",
      "  warnings.warn('Method .count() is depricated. Please use .q.count() instead.')\n"
     ]
    },
    {
     "data": {
      "text/plain": [
       "(3, 3)"
      ]
     },
     "execution_count": 15,
     "metadata": {},
     "output_type": "execute_result"
    }
   ],
   "source": [
    "table.count(verbose=True), table.count(table['age']>=30, verbose=True)"
   ]
  },
  {
   "cell_type": "markdown",
   "metadata": {},
   "source": [
    "Use the `.select()` method with no arguments to retrieve all rows of the table. You can also choose to select one or more columns to select."
   ]
  },
  {
   "cell_type": "code",
   "execution_count": 16,
   "metadata": {},
   "outputs": [
    {
     "name": "stdout",
     "output_type": "stream",
     "text": [
      "DocTable: SELECT _documents_.id, _documents_.name, _documents_.age \n",
      "FROM _documents_\n"
     ]
    },
    {
     "data": {
      "text/plain": [
       "[Record(id=1, name='Devin Cornell', age=35),\n",
       " Record(id=2, name='Sam Adams', age=250),\n",
       " Record(id=3, name='Rando', age=500)]"
      ]
     },
     "execution_count": 16,
     "metadata": {},
     "output_type": "execute_result"
    }
   ],
   "source": [
    "table.select(verbose=True)"
   ]
  },
  {
   "cell_type": "markdown",
   "metadata": {},
   "source": [
    "By specifying a column name, you can retrieve a list of column values, or by offering a list of data, you can request only those datas."
   ]
  },
  {
   "cell_type": "code",
   "execution_count": 17,
   "metadata": {},
   "outputs": [
    {
     "name": "stdout",
     "output_type": "stream",
     "text": [
      "DocTable: SELECT _documents_.name \n",
      "FROM _documents_\n"
     ]
    },
    {
     "data": {
      "text/plain": [
       "['Devin Cornell', 'Sam Adams', 'Rando']"
      ]
     },
     "execution_count": 17,
     "metadata": {},
     "output_type": "execute_result"
    }
   ],
   "source": [
    "table.select('name', verbose=True)"
   ]
  },
  {
   "cell_type": "code",
   "execution_count": 18,
   "metadata": {},
   "outputs": [
    {
     "name": "stdout",
     "output_type": "stream",
     "text": [
      "DocTable: SELECT _documents_.name \n",
      "FROM _documents_\n"
     ]
    },
    {
     "data": {
      "text/plain": [
       "[Record(name='Devin Cornell'), Record(name='Sam Adams'), Record(name='Rando')]"
      ]
     },
     "execution_count": 18,
     "metadata": {},
     "output_type": "execute_result"
    }
   ],
   "source": [
    "# note we have no access to the ID column - just name, but still part of Record type.\n",
    "table.select(['name'], verbose=True)"
   ]
  },
  {
   "cell_type": "markdown",
   "metadata": {},
   "source": [
    "Accessing a property which was not retrieved from the database will raise an exception."
   ]
  },
  {
   "cell_type": "code",
   "execution_count": 19,
   "metadata": {},
   "outputs": [
    {
     "name": "stdout",
     "output_type": "stream",
     "text": [
      "This exception was raised: The \"id\" property is not available. This might happen if you did not retrieve the information from a database or if you did not provide a value in the class constructor.\n"
     ]
    }
   ],
   "source": [
    "rec = table.select_first(['name'])\n",
    "try:\n",
    "    rec.id\n",
    "except doctable.RowDataNotAvailableError as e:\n",
    "    print('This exception was raised:', e)"
   ]
  },
  {
   "cell_type": "markdown",
   "metadata": {},
   "source": [
    "You may also use aggregation functions like `.sum`."
   ]
  },
  {
   "cell_type": "code",
   "execution_count": 20,
   "metadata": {},
   "outputs": [
    {
     "name": "stdout",
     "output_type": "stream",
     "text": [
      "DocTable: SELECT sum(_documents_.age) AS sum_1 \n",
      "FROM _documents_\n",
      " LIMIT ? OFFSET ?\n"
     ]
    },
    {
     "data": {
      "text/plain": [
       "785"
      ]
     },
     "execution_count": 20,
     "metadata": {},
     "output_type": "execute_result"
    }
   ],
   "source": [
    "table.select_first(table['age'].sum(), verbose=True)"
   ]
  },
  {
   "cell_type": "markdown",
   "metadata": {},
   "source": [
    "The SUM() and COUNT() SQL functions have been mapped to `.sum` and `.count` attributes of columns. Use `as_dataclass=False` if you do retrieve data which does not fit into a `Record` object."
   ]
  },
  {
   "cell_type": "code",
   "execution_count": 21,
   "metadata": {},
   "outputs": [
    {
     "name": "stdout",
     "output_type": "stream",
     "text": [
      "DocTable: SELECT sum(_documents_.age) AS sum_1, count(_documents_.age) AS count_1 \n",
      "FROM _documents_\n",
      " LIMIT ? OFFSET ?\n",
      "DocTable: SELECT sum(_documents_.age) AS sum_1, count(_documents_.age) AS count_1 \n",
      "FROM _documents_\n",
      " LIMIT ? OFFSET ?\n"
     ]
    },
    {
     "name": "stderr",
     "output_type": "stream",
     "text": [
      "/DataDrive/code/doctable/examples/../doctable/doctable.py:443: UserWarning: Conversion from row to object failed according to the following error. Please use .q.select_first(..,raw_result=True) next time in the future to avoid this issue. e=RowDataConversionFailed(\"Conversion from <class 'sqlalchemy.engine.row.LegacyRow'> to <class '__main__.Record'> failed.\")\n",
      "  warnings.warn(f'Conversion from row to object failed according to the following '\n"
     ]
    },
    {
     "data": {
      "text/plain": [
       "(785, 3)"
      ]
     },
     "execution_count": 21,
     "metadata": {},
     "output_type": "execute_result"
    }
   ],
   "source": [
    "table.select_first([table['age'].sum(),table['age'].count()], verbose=True)"
   ]
  },
  {
   "cell_type": "markdown",
   "metadata": {},
   "source": [
    "Alternatively, to see the results as a pandas dataframe, we can use ```.select_df()```."
   ]
  },
  {
   "cell_type": "code",
   "execution_count": 22,
   "metadata": {},
   "outputs": [
    {
     "name": "stdout",
     "output_type": "stream",
     "text": [
      "DocTable: SELECT _documents_.id, _documents_.name, _documents_.age \n",
      "FROM _documents_\n"
     ]
    },
    {
     "name": "stderr",
     "output_type": "stream",
     "text": [
      "/DataDrive/code/doctable/examples/../doctable/doctable.py:420: UserWarning: Method .select_df() is depricated. Please use .q.select_df() instead.\n",
      "  warnings.warn('Method .select_df() is depricated. Please use .q.select_df() instead.')\n"
     ]
    },
    {
     "data": {
      "text/html": [
       "<div>\n",
       "<style scoped>\n",
       "    .dataframe tbody tr th:only-of-type {\n",
       "        vertical-align: middle;\n",
       "    }\n",
       "\n",
       "    .dataframe tbody tr th {\n",
       "        vertical-align: top;\n",
       "    }\n",
       "\n",
       "    .dataframe thead th {\n",
       "        text-align: right;\n",
       "    }\n",
       "</style>\n",
       "<table border=\"1\" class=\"dataframe\">\n",
       "  <thead>\n",
       "    <tr style=\"text-align: right;\">\n",
       "      <th></th>\n",
       "      <th>id</th>\n",
       "      <th>name</th>\n",
       "      <th>age</th>\n",
       "    </tr>\n",
       "  </thead>\n",
       "  <tbody>\n",
       "    <tr>\n",
       "      <th>0</th>\n",
       "      <td>1</td>\n",
       "      <td>Devin Cornell</td>\n",
       "      <td>35</td>\n",
       "    </tr>\n",
       "    <tr>\n",
       "      <th>1</th>\n",
       "      <td>2</td>\n",
       "      <td>Sam Adams</td>\n",
       "      <td>250</td>\n",
       "    </tr>\n",
       "    <tr>\n",
       "      <th>2</th>\n",
       "      <td>3</td>\n",
       "      <td>Rando</td>\n",
       "      <td>500</td>\n",
       "    </tr>\n",
       "  </tbody>\n",
       "</table>\n",
       "</div>"
      ],
      "text/plain": [
       "   id           name  age\n",
       "0   1  Devin Cornell   35\n",
       "1   2      Sam Adams  250\n",
       "2   3          Rando  500"
      ]
     },
     "execution_count": 22,
     "metadata": {},
     "output_type": "execute_result"
    }
   ],
   "source": [
    "table.select_df(verbose=True)"
   ]
  },
  {
   "cell_type": "markdown",
   "metadata": {},
   "source": [
    "Now we can select specific elements of the db using the ```where``` argument of the ```.select()``` method."
   ]
  },
  {
   "cell_type": "code",
   "execution_count": 23,
   "metadata": {},
   "outputs": [
    {
     "name": "stdout",
     "output_type": "stream",
     "text": [
      "DocTable: SELECT _documents_.id, _documents_.name, _documents_.age \n",
      "FROM _documents_ \n",
      "WHERE _documents_.age >= ?\n"
     ]
    },
    {
     "name": "stderr",
     "output_type": "stream",
     "text": [
      "/DataDrive/code/doctable/examples/../doctable/doctable.py:452: UserWarning: Method .select() is depricated. Please use .q.select() instead.\n",
      "  warnings.warn('Method .select() is depricated. Please use .q.select() instead.')\n"
     ]
    },
    {
     "data": {
      "text/plain": [
       "[Record(id=1, name='Devin Cornell', age=35),\n",
       " Record(id=2, name='Sam Adams', age=250),\n",
       " Record(id=3, name='Rando', age=500)]"
      ]
     },
     "execution_count": 23,
     "metadata": {},
     "output_type": "execute_result"
    }
   ],
   "source": [
    "table.select(where=table['age'] >= 1, verbose=True)"
   ]
  },
  {
   "cell_type": "code",
   "execution_count": 24,
   "metadata": {},
   "outputs": [
    {
     "name": "stdout",
     "output_type": "stream",
     "text": [
      "DocTable: SELECT _documents_.id, _documents_.name, _documents_.age \n",
      "FROM _documents_ \n",
      "WHERE _documents_.id = ?\n"
     ]
    },
    {
     "data": {
      "text/plain": [
       "[Record(id=3, name='Rando', age=500)]"
      ]
     },
     "execution_count": 24,
     "metadata": {},
     "output_type": "execute_result"
    }
   ],
   "source": [
    "table.select(where=table['id']==3, verbose=True)"
   ]
  },
  {
   "cell_type": "markdown",
   "metadata": {},
   "source": [
    "We can update the results in a similar way, using the ```where``` argument."
   ]
  },
  {
   "cell_type": "code",
   "execution_count": 25,
   "metadata": {},
   "outputs": [
    {
     "name": "stdout",
     "output_type": "stream",
     "text": [
      "DocTable: UPDATE _documents_ SET name=? WHERE _documents_.id = ?\n"
     ]
    },
    {
     "name": "stderr",
     "output_type": "stream",
     "text": [
      "/DataDrive/code/doctable/examples/../doctable/doctable.py:504: UserWarning: Method .update() is depricated. Please use .q.update() instead.\n",
      "  warnings.warn('Method .update() is depricated. Please use .q.update() instead.')\n"
     ]
    },
    {
     "data": {
      "text/plain": [
       "[Record(id=1, name='Devin Cornell', age=35),\n",
       " Record(id=2, name='Sam Adams', age=250),\n",
       " Record(id=3, name='smartypants', age=500)]"
      ]
     },
     "execution_count": 25,
     "metadata": {},
     "output_type": "execute_result"
    }
   ],
   "source": [
    "table.update({'name':'smartypants'}, where=table['id']==3, verbose=True)\n",
    "table.select()"
   ]
  },
  {
   "cell_type": "code",
   "execution_count": 26,
   "metadata": {},
   "outputs": [
    {
     "name": "stdout",
     "output_type": "stream",
     "text": [
      "_documents_.age * :age_1\n",
      "DocTable: UPDATE _documents_ SET age=(_documents_.age * ?)\n"
     ]
    },
    {
     "data": {
      "text/plain": [
       "[Record(id=1, name='Devin Cornell', age=3500),\n",
       " Record(id=2, name='Sam Adams', age=25000),\n",
       " Record(id=3, name='smartypants', age=50000)]"
      ]
     },
     "execution_count": 26,
     "metadata": {},
     "output_type": "execute_result"
    }
   ],
   "source": [
    "print(table['age']*100)\n",
    "table.update({'age':table['age']*100}, verbose=True)\n",
    "table.select()"
   ]
  },
  {
   "cell_type": "markdown",
   "metadata": {},
   "source": [
    "And we can delete elements using the ```.delete()``` method."
   ]
  },
  {
   "cell_type": "code",
   "execution_count": 27,
   "metadata": {},
   "outputs": [
    {
     "name": "stdout",
     "output_type": "stream",
     "text": [
      "DocTable: DELETE FROM _documents_ WHERE _documents_.id = ?\n"
     ]
    },
    {
     "name": "stderr",
     "output_type": "stream",
     "text": [
      "/DataDrive/code/doctable/examples/../doctable/doctable.py:509: UserWarning: Method .delete() is depricated. Please use .q.delete() instead.\n",
      "  warnings.warn('Method .delete() is depricated. Please use .q.delete() instead.')\n"
     ]
    },
    {
     "data": {
      "text/plain": [
       "[Record(id=1, name='Devin Cornell', age=3500),\n",
       " Record(id=2, name='Sam Adams', age=25000)]"
      ]
     },
     "execution_count": 27,
     "metadata": {},
     "output_type": "execute_result"
    }
   ],
   "source": [
    "table.delete(where=table['id']==3, verbose=True)\n",
    "table.select()"
   ]
  },
  {
   "cell_type": "markdown",
   "metadata": {},
   "source": [
    "# Notes on DB Interface\n",
    "DocTable2 allows you to access columns through direct subscripting, then relies on the power of sqlalchemy column objects to do most of the work of constructing queries. Here are a few notes on their use. For more demonstration, see the example in examples/dt2_select.ipynb"
   ]
  },
  {
   "cell_type": "code",
   "execution_count": 28,
   "metadata": {},
   "outputs": [
    {
     "data": {
      "text/plain": [
       "Column('id', Integer(), table=<_documents_>, primary_key=True, nullable=False)"
      ]
     },
     "execution_count": 28,
     "metadata": {},
     "output_type": "execute_result"
    }
   ],
   "source": [
    "# subscript is used to access underlying sqlalchemy column reference (without querying data)\n",
    "table['id']"
   ]
  },
  {
   "cell_type": "code",
   "execution_count": 29,
   "metadata": {},
   "outputs": [
    {
     "data": {
      "text/plain": [
       "<sqlalchemy.sql.elements.BinaryExpression object at 0x7f5b4022fc10>"
      ]
     },
     "execution_count": 29,
     "metadata": {},
     "output_type": "execute_result"
    }
   ],
   "source": [
    "# conditionals are applied directly to the column objects (as we'll see with \"where\" clause)\n",
    "table['id'] < 3"
   ]
  },
  {
   "cell_type": "code",
   "execution_count": 30,
   "metadata": {},
   "outputs": [
    {
     "data": {
      "text/plain": [
       "Column('id', Integer(), table=<_documents_>, primary_key=True, nullable=False)"
      ]
     },
     "execution_count": 30,
     "metadata": {},
     "output_type": "execute_result"
    }
   ],
   "source": [
    "# can also access using .col() method\n",
    "table.col('id')"
   ]
  },
  {
   "cell_type": "code",
   "execution_count": 31,
   "metadata": {},
   "outputs": [
    {
     "data": {
      "text/plain": [
       "<sqlalchemy.sql.base.ImmutableColumnCollection at 0x7f5b40388db0>"
      ]
     },
     "execution_count": 31,
     "metadata": {},
     "output_type": "execute_result"
    }
   ],
   "source": [
    "# to access all column objects (only useful for working directly with sql info)\n",
    "table.columns"
   ]
  },
  {
   "cell_type": "code",
   "execution_count": 32,
   "metadata": {},
   "outputs": [
    {
     "data": {
      "text/html": [
       "<div>\n",
       "<style scoped>\n",
       "    .dataframe tbody tr th:only-of-type {\n",
       "        vertical-align: middle;\n",
       "    }\n",
       "\n",
       "    .dataframe tbody tr th {\n",
       "        vertical-align: top;\n",
       "    }\n",
       "\n",
       "    .dataframe thead th {\n",
       "        text-align: right;\n",
       "    }\n",
       "</style>\n",
       "<table border=\"1\" class=\"dataframe\">\n",
       "  <thead>\n",
       "    <tr style=\"text-align: right;\">\n",
       "      <th></th>\n",
       "      <th>name</th>\n",
       "      <th>type</th>\n",
       "      <th>nullable</th>\n",
       "      <th>default</th>\n",
       "      <th>autoincrement</th>\n",
       "      <th>primary_key</th>\n",
       "    </tr>\n",
       "  </thead>\n",
       "  <tbody>\n",
       "    <tr>\n",
       "      <th>0</th>\n",
       "      <td>id</td>\n",
       "      <td>INTEGER</td>\n",
       "      <td>False</td>\n",
       "      <td>None</td>\n",
       "      <td>auto</td>\n",
       "      <td>1</td>\n",
       "    </tr>\n",
       "    <tr>\n",
       "      <th>1</th>\n",
       "      <td>name</td>\n",
       "      <td>VARCHAR</td>\n",
       "      <td>False</td>\n",
       "      <td>None</td>\n",
       "      <td>auto</td>\n",
       "      <td>0</td>\n",
       "    </tr>\n",
       "    <tr>\n",
       "      <th>2</th>\n",
       "      <td>age</td>\n",
       "      <td>INTEGER</td>\n",
       "      <td>True</td>\n",
       "      <td>None</td>\n",
       "      <td>auto</td>\n",
       "      <td>0</td>\n",
       "    </tr>\n",
       "  </tbody>\n",
       "</table>\n",
       "</div>"
      ],
      "text/plain": [
       "   name     type  nullable default autoincrement  primary_key\n",
       "0    id  INTEGER     False    None          auto            1\n",
       "1  name  VARCHAR     False    None          auto            0\n",
       "2   age  INTEGER      True    None          auto            0"
      ]
     },
     "execution_count": 32,
     "metadata": {},
     "output_type": "execute_result"
    }
   ],
   "source": [
    "# to access more detailed schema information\n",
    "table.schema_table()"
   ]
  },
  {
   "cell_type": "code",
   "execution_count": 33,
   "metadata": {},
   "outputs": [
    {
     "data": {
      "text/plain": [
       "Table('_documents_', MetaData(bind=Engine(sqlite:///:memory:)), Column('id', Integer(), table=<_documents_>, primary_key=True, nullable=False), Column('name', String(), table=<_documents_>, nullable=False), Column('age', Integer(), table=<_documents_>), schema=None)"
      ]
     },
     "execution_count": 33,
     "metadata": {},
     "output_type": "execute_result"
    }
   ],
   "source": [
    "# If needed, you can also access the sqlalchemy table object using the .table property.\n",
    "table.table"
   ]
  },
  {
   "cell_type": "code",
   "execution_count": 34,
   "metadata": {},
   "outputs": [
    {
     "name": "stderr",
     "output_type": "stream",
     "text": [
      "/DataDrive/code/doctable/examples/../doctable/doctable.py:403: UserWarning: Method .count() is depricated. Please use .q.count() instead.\n",
      "  warnings.warn('Method .count() is depricated. Please use .q.count() instead.')\n"
     ]
    },
    {
     "data": {
      "text/plain": [
       "2"
      ]
     },
     "execution_count": 34,
     "metadata": {},
     "output_type": "execute_result"
    }
   ],
   "source": [
    "# the count method is also an easy way to count rows in the database\n",
    "table.count()"
   ]
  },
  {
   "cell_type": "code",
   "execution_count": 35,
   "metadata": {},
   "outputs": [
    {
     "name": "stdout",
     "output_type": "stream",
     "text": [
      "<DocTable (3 cols)::sqlite:///:memory::_documents_>\n"
     ]
    }
   ],
   "source": [
    "# the print method makes it easy to see the table name and total row count\n",
    "print(table)"
   ]
  }
 ],
 "metadata": {
  "kernelspec": {
   "display_name": "Python 3 (ipykernel)",
   "language": "python",
   "name": "python3"
  },
  "language_info": {
   "codemirror_mode": {
    "name": "ipython",
    "version": 3
   },
   "file_extension": ".py",
   "mimetype": "text/x-python",
   "name": "python",
   "nbconvert_exporter": "python",
   "pygments_lexer": "ipython3",
   "version": "3.9.13"
  },
  "vscode": {
   "interpreter": {
    "hash": "6655beaf7f57a241ed2fe3a58b558d568db09842d57c904b8c0db510272f5c22"
   }
  }
 },
 "nbformat": 4,
 "nbformat_minor": 4
}
