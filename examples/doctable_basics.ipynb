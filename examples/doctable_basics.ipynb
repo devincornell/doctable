{
 "cells": [
  {
   "cell_type": "markdown",
   "source": [
    "# `DocTable` Overview\n",
    "\n",
    "A `DocTable` acts as an object-oriented interface to a single database table. It will maintain a connection to the database and [sqlalchemy](https://docs.sqlalchemy.org/en/14/core/) metadata about the table schema. Schemas are provided as classes that act much like [`dataclasses`](https://realpython.com/python-data-classes/) (see [the doctable schema guide](examples/doctable_schema.html) for more explanation), and indices and constraints are often specified in a definition of a subclass of `DocTable`.\n",
    "\n",
    "You may also want to see the [vignettes](examples/example_nss_1_intro.html) for more examples, the [`DocTable` docs](ref/doctable.DocTable.html) for more information about the class, or the [schema guide](examples/doctable_schema.html) for more information about creating schemas. I also recommend looking examples for [insert, delete](examples/doctable_insert_delete.html), [select](examples/doctable_select.html), and [update](examples/doctable_update.html) methods.\n",
    "\n",
    "Here I'll just provide some examples to give a sense of how doctable works."
   ],
   "metadata": {}
  },
  {
   "cell_type": "code",
   "execution_count": 1,
   "source": [
    "import random\n",
    "random.seed(0)\n",
    "import pandas as pd\n",
    "import numpy as np\n",
    "from dataclasses import dataclass\n",
    "\n",
    "import sys\n",
    "sys.path.append('..')\n",
    "import doctable"
   ],
   "outputs": [],
   "metadata": {}
  },
  {
   "cell_type": "markdown",
   "source": [
    "# Defining a Database Schema\n",
    "\n",
    "`DocTable` schemas are created using the `doctable.schema` decorator on a class using `doctable.Col` for defaulted parameters. Check out the [schema guide](examples/doctable_schema.html) for more detail about schema classes. Our demonstration will include three columns: `id`, `name`, and `age`, with an additional `.is_old` property derived from `age` for example."
   ],
   "metadata": {}
  },
  {
   "cell_type": "code",
   "execution_count": 2,
   "source": [
    "@doctable.schema\n",
    "class Record:\n",
    "    __slots__ = []\n",
    "    id: int = doctable.IDCol()\n",
    "    name: str = doctable.Col(nullable=False)\n",
    "    age: int = doctable.Col()\n",
    "\n",
    "    @property\n",
    "    def is_old(self):\n",
    "        return self.age >= 30 # lol"
   ],
   "outputs": [],
   "metadata": {}
  },
  {
   "cell_type": "markdown",
   "source": [
    "We can instantiate a `DocTable` by passing a `target` and `schema` (`Record` in our example) parameters, and I show the resulting schema using `.schema_table()`. Note that the type hints were used to describe column types, and `id` was used as the auto-incremented primary key."
   ],
   "metadata": {}
  },
  {
   "cell_type": "code",
   "execution_count": 3,
   "source": [
    "table = doctable.DocTable(target=':memory:', schema=Record)\n",
    "table.schema_table()"
   ],
   "outputs": [
    {
     "output_type": "execute_result",
     "data": {
      "text/plain": [
       "   name     type  nullable default autoincrement  primary_key\n",
       "0    id  INTEGER     False    None          auto            1\n",
       "1  name  VARCHAR     False    None          auto            0\n",
       "2   age  INTEGER      True    None          auto            0"
      ],
      "text/html": [
       "<div>\n",
       "<style scoped>\n",
       "    .dataframe tbody tr th:only-of-type {\n",
       "        vertical-align: middle;\n",
       "    }\n",
       "\n",
       "    .dataframe tbody tr th {\n",
       "        vertical-align: top;\n",
       "    }\n",
       "\n",
       "    .dataframe thead th {\n",
       "        text-align: right;\n",
       "    }\n",
       "</style>\n",
       "<table border=\"1\" class=\"dataframe\">\n",
       "  <thead>\n",
       "    <tr style=\"text-align: right;\">\n",
       "      <th></th>\n",
       "      <th>name</th>\n",
       "      <th>type</th>\n",
       "      <th>nullable</th>\n",
       "      <th>default</th>\n",
       "      <th>autoincrement</th>\n",
       "      <th>primary_key</th>\n",
       "    </tr>\n",
       "  </thead>\n",
       "  <tbody>\n",
       "    <tr>\n",
       "      <th>0</th>\n",
       "      <td>id</td>\n",
       "      <td>INTEGER</td>\n",
       "      <td>False</td>\n",
       "      <td>None</td>\n",
       "      <td>auto</td>\n",
       "      <td>1</td>\n",
       "    </tr>\n",
       "    <tr>\n",
       "      <th>1</th>\n",
       "      <td>name</td>\n",
       "      <td>VARCHAR</td>\n",
       "      <td>False</td>\n",
       "      <td>None</td>\n",
       "      <td>auto</td>\n",
       "      <td>0</td>\n",
       "    </tr>\n",
       "    <tr>\n",
       "      <th>2</th>\n",
       "      <td>age</td>\n",
       "      <td>INTEGER</td>\n",
       "      <td>True</td>\n",
       "      <td>None</td>\n",
       "      <td>auto</td>\n",
       "      <td>0</td>\n",
       "    </tr>\n",
       "  </tbody>\n",
       "</table>\n",
       "</div>"
      ]
     },
     "metadata": {},
     "execution_count": 3
    }
   ],
   "metadata": {}
  },
  {
   "cell_type": "markdown",
   "source": [
    "Access table columns as objects by subscripting the doctable directly."
   ],
   "metadata": {}
  },
  {
   "cell_type": "code",
   "execution_count": 3,
   "source": [
    "db['id']"
   ],
   "outputs": [
    {
     "output_type": "execute_result",
     "data": {
      "text/plain": [
       "Column('id', Integer(), table=<_documents_>, primary_key=True, nullable=False)"
      ]
     },
     "metadata": {},
     "execution_count": 3
    }
   ],
   "metadata": {}
  },
  {
   "cell_type": "markdown",
   "source": [
    "As we'll show later, these column objects also have some operators defined such that they can be used to construct complex queries and functions."
   ],
   "metadata": {}
  },
  {
   "cell_type": "code",
   "execution_count": 4,
   "source": [
    "db['id'] > 3"
   ],
   "outputs": [
    {
     "output_type": "execute_result",
     "data": {
      "text/plain": [
       "<sqlalchemy.sql.elements.BinaryExpression object at 0x7f24c3cab5b0>"
      ]
     },
     "metadata": {},
     "execution_count": 4
    }
   ],
   "metadata": {}
  },
  {
   "cell_type": "markdown",
   "source": [
    "## Inserting Rows\n",
    "We use the `.insert()` method to insert a row passed as a dictionary of column name -> value entries."
   ],
   "metadata": {}
  },
  {
   "cell_type": "code",
   "execution_count": 5,
   "source": [
    "for i in range(5):\n",
    "    age = random.random() # number in [0,1]\n",
    "    is_old = age > 0.5\n",
    "    #row = {'name':'user_'+str(i), 'age':age, 'is_old':is_old}\n",
    "    record = Record(name='user_'+str(i), age=age, is_old=is_old)\n",
    "    db.insert(record)\n",
    "print(db)"
   ],
   "outputs": [
    {
     "output_type": "stream",
     "name": "stdout",
     "text": [
      "<DocTable (4 cols)::sqlite:///:memory::_documents_>\n"
     ]
    }
   ],
   "metadata": {}
  },
  {
   "cell_type": "markdown",
   "source": [
    "## Select Statements\n",
    "Now we show how to select data from the table. Use the `.count()` method to check the number of rows. It also accepts some column conditionals to count entries that satisfy a given criteria"
   ],
   "metadata": {}
  },
  {
   "cell_type": "code",
   "execution_count": 6,
   "source": [
    "db.count(), db.count(db['is_old']==True)"
   ],
   "outputs": [
    {
     "output_type": "execute_result",
     "data": {
      "text/plain": [
       "(5, 3)"
      ]
     },
     "metadata": {},
     "execution_count": 6
    }
   ],
   "metadata": {}
  },
  {
   "cell_type": "markdown",
   "source": [
    "Use the `.select()` method with no arguments to retrieve all rows of the table. You can also choose to select one or more columns to select."
   ],
   "metadata": {}
  },
  {
   "cell_type": "code",
   "execution_count": 7,
   "source": [
    "db.select()"
   ],
   "outputs": [
    {
     "output_type": "execute_result",
     "data": {
      "text/plain": [
       "[Record(id=1, name='user_0', age=0.8444218515250481, is_old=True),\n",
       " Record(id=2, name='user_1', age=0.7579544029403025, is_old=True),\n",
       " Record(id=3, name='user_2', age=0.420571580830845, is_old=False),\n",
       " Record(id=4, name='user_3', age=0.25891675029296335, is_old=False),\n",
       " Record(id=5, name='user_4', age=0.5112747213686085, is_old=True)]"
      ]
     },
     "metadata": {},
     "execution_count": 7
    }
   ],
   "metadata": {}
  },
  {
   "cell_type": "code",
   "execution_count": 8,
   "source": [
    "db.select('name')"
   ],
   "outputs": [
    {
     "output_type": "execute_result",
     "data": {
      "text/plain": [
       "['user_0', 'user_1', 'user_2', 'user_3', 'user_4']"
      ]
     },
     "metadata": {},
     "execution_count": 8
    }
   ],
   "metadata": {}
  },
  {
   "cell_type": "code",
   "execution_count": 9,
   "source": [
    "db.select(['id','name'])"
   ],
   "outputs": [
    {
     "output_type": "execute_result",
     "data": {
      "text/plain": [
       "[Record(id=1, name='user_0', age=None, is_old=None),\n",
       " Record(id=2, name='user_1', age=None, is_old=None),\n",
       " Record(id=3, name='user_2', age=None, is_old=None),\n",
       " Record(id=4, name='user_3', age=None, is_old=None),\n",
       " Record(id=5, name='user_4', age=None, is_old=None)]"
      ]
     },
     "metadata": {},
     "execution_count": 9
    }
   ],
   "metadata": {}
  },
  {
   "cell_type": "code",
   "execution_count": 10,
   "source": [
    "db.select(db['age'].sum)"
   ],
   "outputs": [
    {
     "output_type": "execute_result",
     "data": {
      "text/plain": [
       "[2.7931393069577677]"
      ]
     },
     "metadata": {},
     "execution_count": 10
    }
   ],
   "metadata": {}
  },
  {
   "cell_type": "markdown",
   "source": [
    "The SUM() and COUNT() SQL functions have been mapped to `.sum` and `.count` attributes of columns."
   ],
   "metadata": {}
  },
  {
   "cell_type": "code",
   "execution_count": 11,
   "source": [
    "db.select([db['age'].sum,db['age'].count], as_dataclass=False)"
   ],
   "outputs": [
    {
     "output_type": "execute_result",
     "data": {
      "text/plain": [
       "[(2.7931393069577677, 5)]"
      ]
     },
     "metadata": {},
     "execution_count": 11
    }
   ],
   "metadata": {}
  },
  {
   "cell_type": "markdown",
   "source": [
    "Alternatively, to see the results as a pandas dataframe, we can use ```.select_df()```."
   ],
   "metadata": {}
  },
  {
   "cell_type": "code",
   "execution_count": 12,
   "source": [
    "db.select_df()"
   ],
   "outputs": [
    {
     "output_type": "execute_result",
     "data": {
      "text/plain": [
       "   id    name       age  is_old\n",
       "0   1  user_0  0.844422    True\n",
       "1   2  user_1  0.757954    True\n",
       "2   3  user_2  0.420572   False\n",
       "3   4  user_3  0.258917   False\n",
       "4   5  user_4  0.511275    True"
      ],
      "text/html": [
       "<div>\n",
       "<style scoped>\n",
       "    .dataframe tbody tr th:only-of-type {\n",
       "        vertical-align: middle;\n",
       "    }\n",
       "\n",
       "    .dataframe tbody tr th {\n",
       "        vertical-align: top;\n",
       "    }\n",
       "\n",
       "    .dataframe thead th {\n",
       "        text-align: right;\n",
       "    }\n",
       "</style>\n",
       "<table border=\"1\" class=\"dataframe\">\n",
       "  <thead>\n",
       "    <tr style=\"text-align: right;\">\n",
       "      <th></th>\n",
       "      <th>id</th>\n",
       "      <th>name</th>\n",
       "      <th>age</th>\n",
       "      <th>is_old</th>\n",
       "    </tr>\n",
       "  </thead>\n",
       "  <tbody>\n",
       "    <tr>\n",
       "      <th>0</th>\n",
       "      <td>1</td>\n",
       "      <td>user_0</td>\n",
       "      <td>0.844422</td>\n",
       "      <td>True</td>\n",
       "    </tr>\n",
       "    <tr>\n",
       "      <th>1</th>\n",
       "      <td>2</td>\n",
       "      <td>user_1</td>\n",
       "      <td>0.757954</td>\n",
       "      <td>True</td>\n",
       "    </tr>\n",
       "    <tr>\n",
       "      <th>2</th>\n",
       "      <td>3</td>\n",
       "      <td>user_2</td>\n",
       "      <td>0.420572</td>\n",
       "      <td>False</td>\n",
       "    </tr>\n",
       "    <tr>\n",
       "      <th>3</th>\n",
       "      <td>4</td>\n",
       "      <td>user_3</td>\n",
       "      <td>0.258917</td>\n",
       "      <td>False</td>\n",
       "    </tr>\n",
       "    <tr>\n",
       "      <th>4</th>\n",
       "      <td>5</td>\n",
       "      <td>user_4</td>\n",
       "      <td>0.511275</td>\n",
       "      <td>True</td>\n",
       "    </tr>\n",
       "  </tbody>\n",
       "</table>\n",
       "</div>"
      ]
     },
     "metadata": {},
     "execution_count": 12
    }
   ],
   "metadata": {}
  },
  {
   "cell_type": "markdown",
   "source": [
    "Now we can select specific elements of the db using the ```where``` argument of the ```.select()``` method."
   ],
   "metadata": {}
  },
  {
   "cell_type": "code",
   "execution_count": 13,
   "source": [
    "db.select(where=db['is_old']==True)"
   ],
   "outputs": [
    {
     "output_type": "execute_result",
     "data": {
      "text/plain": [
       "[Record(id=1, name='user_0', age=0.8444218515250481, is_old=True),\n",
       " Record(id=2, name='user_1', age=0.7579544029403025, is_old=True),\n",
       " Record(id=5, name='user_4', age=0.5112747213686085, is_old=True)]"
      ]
     },
     "metadata": {},
     "execution_count": 13
    }
   ],
   "metadata": {}
  },
  {
   "cell_type": "code",
   "execution_count": 14,
   "source": [
    "db.select(where=db['id']==3)"
   ],
   "outputs": [
    {
     "output_type": "execute_result",
     "data": {
      "text/plain": [
       "[Record(id=3, name='user_2', age=0.420571580830845, is_old=False)]"
      ]
     },
     "metadata": {},
     "execution_count": 14
    }
   ],
   "metadata": {}
  },
  {
   "cell_type": "markdown",
   "source": [
    "We can update the results in a similar way, using the ```where``` argument."
   ],
   "metadata": {}
  },
  {
   "cell_type": "code",
   "execution_count": 15,
   "source": [
    "db.update({'name':'smartypants'}, where=db['id']==3)\n",
    "db.select()"
   ],
   "outputs": [
    {
     "output_type": "execute_result",
     "data": {
      "text/plain": [
       "[Record(id=1, name='user_0', age=0.8444218515250481, is_old=True),\n",
       " Record(id=2, name='user_1', age=0.7579544029403025, is_old=True),\n",
       " Record(id=3, name='smartypants', age=0.420571580830845, is_old=False),\n",
       " Record(id=4, name='user_3', age=0.25891675029296335, is_old=False),\n",
       " Record(id=5, name='user_4', age=0.5112747213686085, is_old=True)]"
      ]
     },
     "metadata": {},
     "execution_count": 15
    }
   ],
   "metadata": {}
  },
  {
   "cell_type": "code",
   "execution_count": 16,
   "source": [
    "db.update({'age':db['age']*100})\n",
    "db.select()"
   ],
   "outputs": [
    {
     "output_type": "execute_result",
     "data": {
      "text/plain": [
       "[Record(id=1, name='user_0', age=84.4421851525048, is_old=True),\n",
       " Record(id=2, name='user_1', age=75.79544029403024, is_old=True),\n",
       " Record(id=3, name='smartypants', age=42.0571580830845, is_old=False),\n",
       " Record(id=4, name='user_3', age=25.891675029296334, is_old=False),\n",
       " Record(id=5, name='user_4', age=51.12747213686085, is_old=True)]"
      ]
     },
     "metadata": {},
     "execution_count": 16
    }
   ],
   "metadata": {}
  },
  {
   "cell_type": "markdown",
   "source": [
    "And we can delete elements using the ```.delete()``` method."
   ],
   "metadata": {}
  },
  {
   "cell_type": "code",
   "execution_count": 17,
   "source": [
    "db.delete(where=db['id']==3)\n",
    "db.select()"
   ],
   "outputs": [
    {
     "output_type": "execute_result",
     "data": {
      "text/plain": [
       "[Record(id=1, name='user_0', age=84.4421851525048, is_old=True),\n",
       " Record(id=2, name='user_1', age=75.79544029403024, is_old=True),\n",
       " Record(id=4, name='user_3', age=25.891675029296334, is_old=False),\n",
       " Record(id=5, name='user_4', age=51.12747213686085, is_old=True)]"
      ]
     },
     "metadata": {},
     "execution_count": 17
    }
   ],
   "metadata": {}
  },
  {
   "cell_type": "markdown",
   "source": [
    "# Notes on DB Interface\n",
    "DocTable2 allows you to access columns through direct subscripting, then relies on the power of sqlalchemy column objects to do most of the work of constructing queries. Here are a few notes on their use. For more demonstration, see the example in examples/dt2_select.ipynb"
   ],
   "metadata": {}
  },
  {
   "cell_type": "code",
   "execution_count": 18,
   "source": [
    "# subscript is used to access underlying sqlalchemy column reference (without querying data)\n",
    "db['id']"
   ],
   "outputs": [
    {
     "output_type": "execute_result",
     "data": {
      "text/plain": [
       "Column('id', Integer(), table=<_documents_>, primary_key=True, nullable=False)"
      ]
     },
     "metadata": {},
     "execution_count": 18
    }
   ],
   "metadata": {}
  },
  {
   "cell_type": "code",
   "execution_count": 19,
   "source": [
    "# conditionals are applied directly to the column objects (as we'll see with \"where\" clause)\n",
    "db['id'] < 3"
   ],
   "outputs": [
    {
     "output_type": "execute_result",
     "data": {
      "text/plain": [
       "<sqlalchemy.sql.elements.BinaryExpression object at 0x7f24c3c16820>"
      ]
     },
     "metadata": {},
     "execution_count": 19
    }
   ],
   "metadata": {}
  },
  {
   "cell_type": "code",
   "execution_count": 20,
   "source": [
    "# can also access using .col() method\n",
    "db.col('id')"
   ],
   "outputs": [
    {
     "output_type": "execute_result",
     "data": {
      "text/plain": [
       "Column('id', Integer(), table=<_documents_>, primary_key=True, nullable=False)"
      ]
     },
     "metadata": {},
     "execution_count": 20
    }
   ],
   "metadata": {}
  },
  {
   "cell_type": "code",
   "execution_count": 21,
   "source": [
    "# to access all column objects (only useful for working directly with sql info)\n",
    "db.columns"
   ],
   "outputs": [
    {
     "output_type": "execute_result",
     "data": {
      "text/plain": [
       "<sqlalchemy.sql.base.ImmutableColumnCollection at 0x7f24c3c71c40>"
      ]
     },
     "metadata": {},
     "execution_count": 21
    }
   ],
   "metadata": {}
  },
  {
   "cell_type": "code",
   "execution_count": 22,
   "source": [
    "# to access more detailed schema information\n",
    "db.schema_table()"
   ],
   "outputs": [
    {
     "output_type": "execute_result",
     "data": {
      "text/plain": [
       "     name     type  nullable default autoincrement  primary_key\n",
       "0      id  INTEGER     False    None          auto            1\n",
       "1    name  VARCHAR     False    None          auto            0\n",
       "2     age  INTEGER      True    None          auto            0\n",
       "3  is_old  BOOLEAN      True    None          auto            0"
      ],
      "text/html": [
       "<div>\n",
       "<style scoped>\n",
       "    .dataframe tbody tr th:only-of-type {\n",
       "        vertical-align: middle;\n",
       "    }\n",
       "\n",
       "    .dataframe tbody tr th {\n",
       "        vertical-align: top;\n",
       "    }\n",
       "\n",
       "    .dataframe thead th {\n",
       "        text-align: right;\n",
       "    }\n",
       "</style>\n",
       "<table border=\"1\" class=\"dataframe\">\n",
       "  <thead>\n",
       "    <tr style=\"text-align: right;\">\n",
       "      <th></th>\n",
       "      <th>name</th>\n",
       "      <th>type</th>\n",
       "      <th>nullable</th>\n",
       "      <th>default</th>\n",
       "      <th>autoincrement</th>\n",
       "      <th>primary_key</th>\n",
       "    </tr>\n",
       "  </thead>\n",
       "  <tbody>\n",
       "    <tr>\n",
       "      <th>0</th>\n",
       "      <td>id</td>\n",
       "      <td>INTEGER</td>\n",
       "      <td>False</td>\n",
       "      <td>None</td>\n",
       "      <td>auto</td>\n",
       "      <td>1</td>\n",
       "    </tr>\n",
       "    <tr>\n",
       "      <th>1</th>\n",
       "      <td>name</td>\n",
       "      <td>VARCHAR</td>\n",
       "      <td>False</td>\n",
       "      <td>None</td>\n",
       "      <td>auto</td>\n",
       "      <td>0</td>\n",
       "    </tr>\n",
       "    <tr>\n",
       "      <th>2</th>\n",
       "      <td>age</td>\n",
       "      <td>INTEGER</td>\n",
       "      <td>True</td>\n",
       "      <td>None</td>\n",
       "      <td>auto</td>\n",
       "      <td>0</td>\n",
       "    </tr>\n",
       "    <tr>\n",
       "      <th>3</th>\n",
       "      <td>is_old</td>\n",
       "      <td>BOOLEAN</td>\n",
       "      <td>True</td>\n",
       "      <td>None</td>\n",
       "      <td>auto</td>\n",
       "      <td>0</td>\n",
       "    </tr>\n",
       "  </tbody>\n",
       "</table>\n",
       "</div>"
      ]
     },
     "metadata": {},
     "execution_count": 22
    }
   ],
   "metadata": {}
  },
  {
   "cell_type": "code",
   "execution_count": 23,
   "source": [
    "# If needed, you can also access the sqlalchemy table object using the .table property.\n",
    "db.table"
   ],
   "outputs": [
    {
     "output_type": "execute_result",
     "data": {
      "text/plain": [
       "Table('_documents_', MetaData(bind=Engine(sqlite:///:memory:)), Column('id', Integer(), table=<_documents_>, primary_key=True, nullable=False), Column('name', String(), table=<_documents_>, nullable=False), Column('age', Integer(), table=<_documents_>), Column('is_old', Boolean(), table=<_documents_>), schema=None)"
      ]
     },
     "metadata": {},
     "execution_count": 23
    }
   ],
   "metadata": {}
  },
  {
   "cell_type": "code",
   "execution_count": 24,
   "source": [
    "# the count method is also an easy way to count rows in the database\n",
    "db.count()"
   ],
   "outputs": [
    {
     "output_type": "execute_result",
     "data": {
      "text/plain": [
       "4"
      ]
     },
     "metadata": {},
     "execution_count": 24
    }
   ],
   "metadata": {}
  },
  {
   "cell_type": "code",
   "execution_count": 25,
   "source": [
    "# the print method makes it easy to see the table name and total row count\n",
    "print(db)"
   ],
   "outputs": [
    {
     "output_type": "stream",
     "name": "stdout",
     "text": [
      "<DocTable (4 cols)::sqlite:///:memory::_documents_>\n"
     ]
    }
   ],
   "metadata": {}
  }
 ],
 "metadata": {
  "kernelspec": {
   "name": "python3",
   "display_name": "Python 3.8.5 64-bit ('base': conda)"
  },
  "language_info": {
   "codemirror_mode": {
    "name": "ipython",
    "version": 3
   },
   "file_extension": ".py",
   "mimetype": "text/x-python",
   "name": "python",
   "nbconvert_exporter": "python",
   "pygments_lexer": "ipython3",
   "version": "3.8.5"
  },
  "interpreter": {
   "hash": "80712910726593b564a07c7ac6087ce3072c1b43af7fa58c28aea85a2c346dd3"
  }
 },
 "nbformat": 4,
 "nbformat_minor": 4
}