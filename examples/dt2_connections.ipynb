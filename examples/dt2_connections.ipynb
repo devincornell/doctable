{
 "cells": [
  {
   "cell_type": "markdown",
   "metadata": {},
   "source": [
    "# Conenction Interface\n",
    "DocTable2 provides several options for managing database connections. You can either (1) create a persistent database connection upon instantiation using `persisten_conn=True` (default), (2) create a new database connection each time a query is executed (`persistent_conn=False`), or (3) provide an external connection for each individual query by using the keyword argument `conn=<sqlalchemy connection object>` to any DocTable2 that performs a query (most commonly `.select()`, `.update()`, and `.delete()`)."
   ]
  },
  {
   "cell_type": "code",
   "execution_count": 26,
   "metadata": {},
   "outputs": [],
   "source": [
    "import time\n",
    "from multiprocessing import Process\n",
    "import os\n",
    "import sys\n",
    "sys.path.append('..')\n",
    "import doctable as dt"
   ]
  },
  {
   "cell_type": "markdown",
   "metadata": {},
   "source": [
    "## Persistent Connection\n",
    "This mode is most useful when you would like to lock a database from being written to at the same time by multiple threads. A write operation from one thread will lock the database for a period of time such that **other connections will throw exceptions if they try to read or write in that time period.** This is the default behavior because there is some time cost to opening a database connection on every query, so this mode allows you to avoid this overhead.\n",
    "\n",
    "See [this stackoverflow questions about concurrent sqlite connections](https://stackoverflow.com/questions/10325683/can-i-read-and-write-to-a-sqlite-database-concurrently-from-multiple-connections) for more detail.\n",
    "\n",
    "This case is difficult to write an example case for, so for now I'll just leave it with this note."
   ]
  },
  {
   "cell_type": "code",
   "execution_count": null,
   "metadata": {},
   "outputs": [],
   "source": [
    "def thread_writer(schema,fname):\n",
    "    db = DocTable2(schema, persistent_conn=True, fname=fname)\n",
    "    for i in range(100000):\n",
    "        db.insert({'id':i,'value':i/2})\n",
    "        #time.sleep(0.001) # in seconds\n",
    "\n",
    "def thread_writer2(schema,fname):\n",
    "    db = dt.DocTable2(schema, persistent_conn=True, fname=fname)\n",
    "    for i in range(1000000):\n",
    "        db.insert({'id':i,'value':i/2})\n",
    "        #time.sleep(0.001) # in seconds\n",
    "\n",
    "fname = 'tmp_connections.db'\n",
    "schema = (('id', 'integer'), ('value','float'))\n",
    "p_writer = Process(target=thread_writer, args=(schema,fname))\n",
    "p_writer2 = Process(target=thread_writer2, args=(schema,fname))\n",
    "\n",
    "p_writer.start()\n",
    "p_writer2.start()\n",
    "\n",
    "p_writer.join()\n",
    "p_writer2.join()\n",
    "db = DocTable2(schema, fname)\n",
    "print(db)"
   ]
  },
  {
   "cell_type": "code",
   "execution_count": null,
   "metadata": {},
   "outputs": [],
   "source": [
    "## Non-Persistent Connection\n",
    "This mode is most useful when attempting to insert items from the same database "
   ]
  },
  {
   "cell_type": "code",
   "execution_count": 24,
   "metadata": {},
   "outputs": [
    {
     "data": {
      "text/plain": [
       "[(0, 0.0),\n",
       " (1, 0.5),\n",
       " (2, 1.0),\n",
       " (3, 1.5),\n",
       " (4, 2.0),\n",
       " (0, 0.0),\n",
       " (1, 0.5),\n",
       " (2, 1.0),\n",
       " (3, 1.5),\n",
       " (4, 2.0),\n",
       " (0, 0.0),\n",
       " (1, 0.5),\n",
       " (2, 1.0),\n",
       " (3, 1.5),\n",
       " (4, 2.0)]"
      ]
     },
     "execution_count": 24,
     "metadata": {},
     "output_type": "execute_result"
    }
   ],
   "source": [
    "\n",
    "\n",
    "[db.insert({'id':i,'value':i/2}) for i in range(5)]\n",
    "db.select()"
   ]
  },
  {
   "cell_type": "code",
   "execution_count": 22,
   "metadata": {},
   "outputs": [],
   "source": [
    "db2 = dt.DocTable2(fname=fname)"
   ]
  },
  {
   "cell_type": "code",
   "execution_count": 23,
   "metadata": {},
   "outputs": [
    {
     "data": {
      "text/plain": [
       "<doctable.doctable2.DocTable2 at 0x7efc712a15f8>"
      ]
     },
     "execution_count": 23,
     "metadata": {},
     "output_type": "execute_result"
    }
   ],
   "source": [
    "db2"
   ]
  },
  {
   "cell_type": "code",
   "execution_count": 16,
   "metadata": {},
   "outputs": [
    {
     "data": {
      "text/plain": [
       "[(0, 0.0), (1, 1.5), (2, 3.0), (3, 4.5), (4, 6.0)]"
      ]
     },
     "execution_count": 16,
     "metadata": {},
     "output_type": "execute_result"
    }
   ],
   "source": [
    "db.select()"
   ]
  },
  {
   "cell_type": "code",
   "execution_count": null,
   "metadata": {},
   "outputs": [],
   "source": [
    "# custom class that will delete it's database file upon deletion\n",
    "class TempDocTable2(dt.DocTable2):\n",
    "    def __delete__():\n",
    "        super().__delete__()\n",
    "        if os.path.exists(self._tabname):\n",
    "            os.remove(self._tabname)"
   ]
  }
 ],
 "metadata": {
  "kernelspec": {
   "display_name": "Python 3",
   "language": "python",
   "name": "python3"
  },
  "language_info": {
   "codemirror_mode": {
    "name": "ipython",
    "version": 3
   },
   "file_extension": ".py",
   "mimetype": "text/x-python",
   "name": "python",
   "nbconvert_exporter": "python",
   "pygments_lexer": "ipython3",
   "version": "3.6.9"
  }
 },
 "nbformat": 4,
 "nbformat_minor": 4
}
