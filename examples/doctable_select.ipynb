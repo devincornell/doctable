{
 "cells": [
  {
   "cell_type": "markdown",
   "metadata": {},
   "source": [
    "# DocTable Examples: Select\n",
    "Here I show how to select data from a DocTable. We cover object-oriented conditional selects emulating the `WHERE` SQL clause, as well as some reduce functions."
   ]
  },
  {
   "cell_type": "code",
   "execution_count": 1,
   "metadata": {},
   "outputs": [],
   "source": [
    "import random\n",
    "import pandas as pd\n",
    "import numpy as np\n",
    "import sys\n",
    "sys.path.append('..')\n",
    "import doctable"
   ]
  },
  {
   "cell_type": "code",
   "execution_count": 2,
   "metadata": {},
   "outputs": [
    {
     "name": "stdout",
     "output_type": "stream",
     "text": [
      "<DocTable (4 cols)::sqlite:///:memory::_documents_>\n"
     ]
    }
   ],
   "source": [
    "import dataclasses\n",
    "@dataclasses.dataclass\n",
    "class Record(doctable.DocTableSchema):\n",
    "    id: int = doctable.IDCol()\n",
    "    name: str = doctable.Col(nullable=False)\n",
    "    age: int = None\n",
    "    is_old: bool = None\n",
    "\n",
    "db = doctable.DocTable(target=':memory:', schema=Record, verbose=True)\n",
    "print(db)"
   ]
  },
  {
   "cell_type": "code",
   "execution_count": 3,
   "metadata": {},
   "outputs": [
    {
     "name": "stdout",
     "output_type": "stream",
     "text": [
      "<DocTable (4 cols)::sqlite:///:memory::_documents_>\n"
     ]
    }
   ],
   "source": [
    "N = 10\n",
    "for i in range(N):\n",
    "    age = random.random() # number in [0,1]\n",
    "    is_old = age > 0.5\n",
    "    db.insert({'name':'user_'+str(i), 'age':age, 'is_old':is_old}, verbose=False)\n",
    "print(db)"
   ]
  },
  {
   "cell_type": "markdown",
   "metadata": {},
   "source": [
    "## Regular Selects\n",
    "These functions all return lists of ResultProxy objects. As such, they can be accessed using numerical indices or keyword indices. For instance, if one select output row is ```row=(1, 'user_0')``` (after selecting \"id\" and \"user\"), it can be accessed such that ```row[0]==row['id']``` and ```row[1]==row['user']```."
   ]
  },
  {
   "cell_type": "code",
   "execution_count": 4,
   "metadata": {},
   "outputs": [
    {
     "name": "stdout",
     "output_type": "stream",
     "text": [
      "DocTable: SELECT _documents_.id, _documents_.name, _documents_.age, _documents_.is_old \n",
      "FROM _documents_\n",
      " LIMIT ? OFFSET ?\n"
     ]
    },
    {
     "data": {
      "text/plain": [
       "[Record(id=1, name='user_0', age=0.6643892612068403, is_old=True),\n",
       " Record(id=2, name='user_1', age=0.9053775349985783, is_old=True)]"
      ]
     },
     "execution_count": 4,
     "metadata": {},
     "output_type": "execute_result"
    }
   ],
   "source": [
    "# the limit argument means the result will only return some rows.\n",
    "# I'll use it for convenience in these examples.\n",
    "# this selects all rows\n",
    "db.select(limit=2)"
   ]
  },
  {
   "cell_type": "code",
   "execution_count": 5,
   "metadata": {},
   "outputs": [
    {
     "name": "stdout",
     "output_type": "stream",
     "text": [
      "DocTable: SELECT _documents_.id, _documents_.name \n",
      "FROM _documents_\n",
      " LIMIT ? OFFSET ?\n"
     ]
    },
    {
     "data": {
      "text/plain": [
       "[Record(id=1, name='user_0', age=None, is_old=None)]"
      ]
     },
     "execution_count": 5,
     "metadata": {},
     "output_type": "execute_result"
    }
   ],
   "source": [
    "db.select(['id','name'], limit=1)"
   ]
  },
  {
   "cell_type": "code",
   "execution_count": 6,
   "metadata": {},
   "outputs": [
    {
     "name": "stdout",
     "output_type": "stream",
     "text": [
      "DocTable: SELECT _documents_.id, _documents_.name \n",
      "FROM _documents_\n",
      " LIMIT ? OFFSET ?\n"
     ]
    },
    {
     "data": {
      "text/plain": [
       "[Record(id=1, name='user_0', age=None, is_old=None)]"
      ]
     },
     "execution_count": 6,
     "metadata": {},
     "output_type": "execute_result"
    }
   ],
   "source": [
    "# can also select by accessing the column object (db['id']) itself\n",
    "# this will be useful later with more complex queries\n",
    "db.select([db['id'],db['name']], limit=1)"
   ]
  },
  {
   "cell_type": "code",
   "execution_count": 7,
   "metadata": {},
   "outputs": [
    {
     "name": "stdout",
     "output_type": "stream",
     "text": [
      "DocTable: SELECT _documents_.id, _documents_.name, _documents_.age, _documents_.is_old \n",
      "FROM _documents_\n",
      " LIMIT ? OFFSET ?\n"
     ]
    },
    {
     "data": {
      "text/plain": [
       "Record(id=1, name='user_0', age=0.6643892612068403, is_old=True)"
      ]
     },
     "execution_count": 7,
     "metadata": {},
     "output_type": "execute_result"
    }
   ],
   "source": [
    "db.select_first()"
   ]
  },
  {
   "cell_type": "code",
   "execution_count": 8,
   "metadata": {},
   "outputs": [
    {
     "name": "stdout",
     "output_type": "stream",
     "text": [
      "DocTable: SELECT _documents_.name \n",
      "FROM _documents_\n",
      " LIMIT ? OFFSET ?\n"
     ]
    },
    {
     "data": {
      "text/plain": [
       "['user_0', 'user_1', 'user_2', 'user_3', 'user_4']"
      ]
     },
     "execution_count": 8,
     "metadata": {},
     "output_type": "execute_result"
    }
   ],
   "source": [
    "db.select('name',limit=5)"
   ]
  },
  {
   "cell_type": "code",
   "execution_count": 9,
   "metadata": {},
   "outputs": [
    {
     "name": "stdout",
     "output_type": "stream",
     "text": [
      "DocTable: SELECT _documents_.age \n",
      "FROM _documents_\n",
      " LIMIT ? OFFSET ?\n"
     ]
    },
    {
     "data": {
      "text/plain": [
       "0.6643892612068403"
      ]
     },
     "execution_count": 9,
     "metadata": {},
     "output_type": "execute_result"
    }
   ],
   "source": [
    "db.select_first('age')"
   ]
  },
  {
   "cell_type": "markdown",
   "metadata": {},
   "source": [
    "## Conditional Selects"
   ]
  },
  {
   "cell_type": "code",
   "execution_count": 10,
   "metadata": {},
   "outputs": [
    {
     "name": "stdout",
     "output_type": "stream",
     "text": [
      "DocTable: SELECT _documents_.id, _documents_.name, _documents_.age, _documents_.is_old \n",
      "FROM _documents_ \n",
      "WHERE _documents_.id = ?\n"
     ]
    },
    {
     "data": {
      "text/plain": [
       "[Record(id=2, name='user_1', age=0.9053775349985783, is_old=True)]"
      ]
     },
     "execution_count": 10,
     "metadata": {},
     "output_type": "execute_result"
    }
   ],
   "source": [
    "db.select(where=db['id']==2)"
   ]
  },
  {
   "cell_type": "code",
   "execution_count": 11,
   "metadata": {},
   "outputs": [
    {
     "name": "stdout",
     "output_type": "stream",
     "text": [
      "DocTable: SELECT _documents_.id, _documents_.name, _documents_.age, _documents_.is_old \n",
      "FROM _documents_ \n",
      "WHERE _documents_.id < ?\n"
     ]
    },
    {
     "data": {
      "text/plain": [
       "[Record(id=1, name='user_0', age=0.6643892612068403, is_old=True),\n",
       " Record(id=2, name='user_1', age=0.9053775349985783, is_old=True)]"
      ]
     },
     "execution_count": 11,
     "metadata": {},
     "output_type": "execute_result"
    }
   ],
   "source": [
    "db.select(where=db['id']<3)"
   ]
  },
  {
   "cell_type": "code",
   "execution_count": 12,
   "metadata": {},
   "outputs": [
    {
     "name": "stdout",
     "output_type": "stream",
     "text": [
      "DocTable: SELECT _documents_.id, _documents_.name, _documents_.age, _documents_.is_old \n",
      "FROM _documents_ \n",
      "WHERE _documents_.id % ? = ?\n",
      " LIMIT ? OFFSET ?\n"
     ]
    },
    {
     "data": {
      "text/plain": [
       "[Record(id=2, name='user_1', age=0.9053775349985783, is_old=True),\n",
       " Record(id=4, name='user_3', age=0.577166608655992, is_old=True)]"
      ]
     },
     "execution_count": 12,
     "metadata": {},
     "output_type": "execute_result"
    }
   ],
   "source": [
    "# mod operator works too\n",
    "db.select(where=(db['id']%2)==0, limit=2)"
   ]
  },
  {
   "cell_type": "code",
   "execution_count": 13,
   "metadata": {},
   "outputs": [
    {
     "name": "stdout",
     "output_type": "stream",
     "text": [
      "DocTable: SELECT _documents_.id, _documents_.name, _documents_.age, _documents_.is_old \n",
      "FROM _documents_ \n",
      "WHERE _documents_.id >= ? AND _documents_.id <= ? AND _documents_.name != ?\n"
     ]
    },
    {
     "data": {
      "text/plain": [
       "[Record(id=2, name='user_1', age=0.9053775349985783, is_old=True),\n",
       " Record(id=4, name='user_3', age=0.577166608655992, is_old=True)]"
      ]
     },
     "execution_count": 13,
     "metadata": {},
     "output_type": "execute_result"
    }
   ],
   "source": [
    "# note parantheses to handle order of ops with overloaded bitwise ops\n",
    "db.select(where= (db['id']>=2) & (db['id']<=4) & (db['name']!='user_2'))"
   ]
  },
  {
   "cell_type": "code",
   "execution_count": 14,
   "metadata": {},
   "outputs": [
    {
     "name": "stdout",
     "output_type": "stream",
     "text": [
      "DocTable: SELECT _documents_.id, _documents_.name, _documents_.age, _documents_.is_old \n",
      "FROM _documents_ \n",
      "WHERE _documents_.name IN (?, ?)\n"
     ]
    },
    {
     "data": {
      "text/plain": [
       "[Record(id=3, name='user_2', age=0.762910032919838, is_old=True),\n",
       " Record(id=4, name='user_3', age=0.577166608655992, is_old=True)]"
      ]
     },
     "execution_count": 14,
     "metadata": {},
     "output_type": "execute_result"
    }
   ],
   "source": [
    "db.select(where=db['name'].in_(('user_2','user_3')))"
   ]
  },
  {
   "cell_type": "code",
   "execution_count": 15,
   "metadata": {},
   "outputs": [
    {
     "name": "stdout",
     "output_type": "stream",
     "text": [
      "DocTable: SELECT _documents_.id, _documents_.name, _documents_.age, _documents_.is_old \n",
      "FROM _documents_ \n",
      "WHERE _documents_.id BETWEEN ? AND ?\n"
     ]
    },
    {
     "data": {
      "text/plain": [
       "[Record(id=2, name='user_1', age=0.9053775349985783, is_old=True),\n",
       " Record(id=3, name='user_2', age=0.762910032919838, is_old=True),\n",
       " Record(id=4, name='user_3', age=0.577166608655992, is_old=True)]"
      ]
     },
     "execution_count": 15,
     "metadata": {},
     "output_type": "execute_result"
    }
   ],
   "source": [
    "db.select(where=db['id'].between(2,4))"
   ]
  },
  {
   "cell_type": "code",
   "execution_count": 16,
   "metadata": {},
   "outputs": [
    {
     "name": "stdout",
     "output_type": "stream",
     "text": [
      "DocTable: SELECT _documents_.id, _documents_.name, _documents_.age, _documents_.is_old \n",
      "FROM _documents_ \n",
      "WHERE _documents_.name NOT IN (?, ?) AND _documents_.id < ?\n"
     ]
    },
    {
     "data": {
      "text/plain": [
       "[Record(id=1, name='user_0', age=0.6643892612068403, is_old=True),\n",
       " Record(id=2, name='user_1', age=0.9053775349985783, is_old=True)]"
      ]
     },
     "execution_count": 16,
     "metadata": {},
     "output_type": "execute_result"
    }
   ],
   "source": [
    "# use of logical not operator \"~\"\n",
    "db.select(where= ~(db['name'].in_(('user_2','user_3'))) & (db['id'] < 4))"
   ]
  },
  {
   "cell_type": "code",
   "execution_count": 17,
   "metadata": {},
   "outputs": [
    {
     "name": "stdout",
     "output_type": "stream",
     "text": [
      "DocTable: SELECT _documents_.id, _documents_.name, _documents_.age, _documents_.is_old \n",
      "FROM _documents_ \n",
      "WHERE _documents_.id != ? AND _documents_.id <= ?\n"
     ]
    },
    {
     "data": {
      "text/plain": [
       "[Record(id=1, name='user_0', age=0.6643892612068403, is_old=True),\n",
       " Record(id=2, name='user_1', age=0.9053775349985783, is_old=True)]"
      ]
     },
     "execution_count": 17,
     "metadata": {},
     "output_type": "execute_result"
    }
   ],
   "source": [
    "# more verbose operators .and_, .or_, and .not_ are bound to the doctable package\n",
    "db.select(where= doctable.or_(doctable.not_(db['id']==4)) & (db['id'] <= 2))"
   ]
  },
  {
   "cell_type": "code",
   "execution_count": 18,
   "metadata": {},
   "outputs": [
    {
     "name": "stdout",
     "output_type": "stream",
     "text": [
      "DocTable: SELECT _documents_.age \n",
      "FROM _documents_\n",
      "DocTable: SELECT _documents_.name \n",
      "FROM _documents_ \n",
      "WHERE _documents_.age > ?\n",
      " LIMIT ? OFFSET ?\n"
     ]
    },
    {
     "data": {
      "text/plain": [
       "['user_0', 'user_1']"
      ]
     },
     "execution_count": 18,
     "metadata": {},
     "output_type": "execute_result"
    }
   ],
   "source": [
    "# now with simple computation\n",
    "ages = db.select(db['age'])\n",
    "mean_age = sum(ages)/len(ages)\n",
    "db.select(db['name'], where=db['age']>mean_age, limit=2)"
   ]
  },
  {
   "cell_type": "code",
   "execution_count": 19,
   "metadata": {},
   "outputs": [
    {
     "name": "stdout",
     "output_type": "stream",
     "text": [
      "DocTable: SELECT _documents_.age AS myage, _documents_.name AS myname \n",
      "FROM _documents_\n",
      " LIMIT ? OFFSET ?\n"
     ]
    },
    {
     "data": {
      "text/plain": [
       "{'myage': 0.6643892612068403, 'myname': 'user_0'}"
      ]
     },
     "execution_count": 19,
     "metadata": {},
     "output_type": "execute_result"
    }
   ],
   "source": [
    "# apply .label() method to columns\n",
    "dict(db.select_first([db['age'].label('myage'), db['name'].label('myname')], as_dataclass=False))"
   ]
  },
  {
   "cell_type": "markdown",
   "metadata": {},
   "source": [
    "## Column Operators\n",
    "I bind the .min, .max, .count, .sum, and .mode methods to the column objects. Additionally, I move the .count method to a separate DocTable2 method."
   ]
  },
  {
   "cell_type": "code",
   "execution_count": 20,
   "metadata": {},
   "outputs": [
    {
     "name": "stdout",
     "output_type": "stream",
     "text": [
      "DocTable: SELECT sum(_documents_.age) AS sum_1, count(_documents_.age) AS count_1, _documents_.age \n",
      "FROM _documents_\n",
      " LIMIT ? OFFSET ?\n"
     ]
    },
    {
     "data": {
      "text/plain": [
       "(6.553875813756212, 10, 0.6643892612068403)"
      ]
     },
     "execution_count": 20,
     "metadata": {},
     "output_type": "execute_result"
    }
   ],
   "source": [
    "db.select_first([db['age'].sum, db['age'].count, db['age']], as_dataclass=False)"
   ]
  },
  {
   "cell_type": "code",
   "execution_count": 21,
   "metadata": {},
   "outputs": [
    {
     "name": "stdout",
     "output_type": "stream",
     "text": [
      "DocTable: SELECT sum(_documents_.age) AS sum, count(_documents_.age) AS ct \n",
      "FROM _documents_\n",
      " LIMIT ? OFFSET ?\n"
     ]
    },
    {
     "data": {
      "text/plain": [
       "{'sum': 6.553875813756212, 'ct': 10}"
      ]
     },
     "execution_count": 21,
     "metadata": {},
     "output_type": "execute_result"
    }
   ],
   "source": [
    "# with labels now\n",
    "dict(db.select_first([db['age'].sum.label('sum'), db['age'].count.label('ct')], as_dataclass=False))"
   ]
  },
  {
   "cell_type": "markdown",
   "metadata": {},
   "source": [
    "## ORDER BY, GROUP BY, LIMIT\n",
    "These additional arguments have also been provided."
   ]
  },
  {
   "cell_type": "code",
   "execution_count": 22,
   "metadata": {},
   "outputs": [
    {
     "name": "stdout",
     "output_type": "stream",
     "text": [
      "DocTable: SELECT _documents_.id, _documents_.name, _documents_.age, _documents_.is_old \n",
      "FROM _documents_\n",
      " LIMIT ? OFFSET ?\n"
     ]
    },
    {
     "data": {
      "text/plain": [
       "[Record(id=1, name='user_0', age=0.6643892612068403, is_old=True),\n",
       " Record(id=2, name='user_1', age=0.9053775349985783, is_old=True)]"
      ]
     },
     "execution_count": 22,
     "metadata": {},
     "output_type": "execute_result"
    }
   ],
   "source": [
    "# the limit is obvious - it has been used throughout these examples\n",
    "db.select(limit=2)"
   ]
  },
  {
   "cell_type": "code",
   "execution_count": 23,
   "metadata": {},
   "outputs": [
    {
     "name": "stdout",
     "output_type": "stream",
     "text": [
      "DocTable: SELECT _documents_.id, _documents_.name, _documents_.age, _documents_.is_old \n",
      "FROM _documents_ ORDER BY _documents_.age DESC\n",
      " LIMIT ? OFFSET ?\n"
     ]
    },
    {
     "data": {
      "text/plain": [
       "[Record(id=10, name='user_9', age=0.9390342979922199, is_old=True),\n",
       " Record(id=2, name='user_1', age=0.9053775349985783, is_old=True)]"
      ]
     },
     "execution_count": 23,
     "metadata": {},
     "output_type": "execute_result"
    }
   ],
   "source": [
    "# orderby clause\n",
    "db.select(orderby=db['age'].desc(), limit=2)"
   ]
  },
  {
   "cell_type": "code",
   "execution_count": 24,
   "metadata": {},
   "outputs": [
    {
     "name": "stdout",
     "output_type": "stream",
     "text": [
      "DocTable: SELECT _documents_.id, _documents_.name, _documents_.age, _documents_.is_old \n",
      "FROM _documents_ ORDER BY _documents_.age DESC, _documents_.is_old ASC\n",
      " LIMIT ? OFFSET ?\n"
     ]
    },
    {
     "data": {
      "text/plain": [
       "[Record(id=10, name='user_9', age=0.9390342979922199, is_old=True),\n",
       " Record(id=2, name='user_1', age=0.9053775349985783, is_old=True)]"
      ]
     },
     "execution_count": 24,
     "metadata": {},
     "output_type": "execute_result"
    }
   ],
   "source": [
    "# compound orderby\n",
    "db.select(orderby=(db['age'].desc(),db['is_old'].asc()), limit=2)"
   ]
  },
  {
   "cell_type": "code",
   "execution_count": 25,
   "metadata": {},
   "outputs": [
    {
     "name": "stdout",
     "output_type": "stream",
     "text": [
      "DocTable: SELECT _documents_.id, _documents_.name, _documents_.age, _documents_.is_old \n",
      "FROM _documents_ ORDER BY _documents_.age\n",
      " LIMIT ? OFFSET ?\n"
     ]
    },
    {
     "data": {
      "text/plain": [
       "[Record(id=5, name='user_4', age=0.30235086526336663, is_old=False),\n",
       " Record(id=6, name='user_5', age=0.32540985118674415, is_old=False)]"
      ]
     },
     "execution_count": 25,
     "metadata": {},
     "output_type": "execute_result"
    }
   ],
   "source": [
    "# can also use column name directly\n",
    "# can only use ascending and can use only one col\n",
    "db.select(orderby='age', limit=2)"
   ]
  },
  {
   "cell_type": "code",
   "execution_count": 26,
   "metadata": {},
   "outputs": [
    {
     "name": "stdout",
     "output_type": "stream",
     "text": [
      "DocTable: SELECT _documents_.id, _documents_.name, _documents_.age, _documents_.is_old \n",
      "FROM _documents_ GROUP BY _documents_.is_old\n"
     ]
    },
    {
     "data": {
      "text/plain": [
       "[Record(id=5, name='user_4', age=0.30235086526336663, is_old=False),\n",
       " Record(id=1, name='user_0', age=0.6643892612068403, is_old=True)]"
      ]
     },
     "execution_count": 26,
     "metadata": {},
     "output_type": "execute_result"
    }
   ],
   "source": [
    "# groupby clause\n",
    "# returns first row of each group without any aggregation functions\n",
    "db.select(groupby=db['is_old'])"
   ]
  },
  {
   "cell_type": "code",
   "execution_count": 27,
   "metadata": {},
   "outputs": [
    {
     "name": "stdout",
     "output_type": "stream",
     "text": [
      "DocTable: SELECT _documents_.id, _documents_.name, _documents_.age, _documents_.is_old \n",
      "FROM _documents_ GROUP BY _documents_.is_old, _documents_.name\n",
      " LIMIT ? OFFSET ?\n"
     ]
    },
    {
     "data": {
      "text/plain": [
       "[Record(id=5, name='user_4', age=0.30235086526336663, is_old=False),\n",
       " Record(id=6, name='user_5', age=0.32540985118674415, is_old=False),\n",
       " Record(id=1, name='user_0', age=0.6643892612068403, is_old=True)]"
      ]
     },
     "execution_count": 27,
     "metadata": {},
     "output_type": "execute_result"
    }
   ],
   "source": [
    "# compound groupby (weird example bc name is unique - have only one cat var in this demo)\n",
    "db.select(groupby=(db['is_old'],db['name']), limit=3)"
   ]
  },
  {
   "cell_type": "code",
   "execution_count": 28,
   "metadata": {},
   "outputs": [
    {
     "name": "stdout",
     "output_type": "stream",
     "text": [
      "DocTable: SELECT max(_documents_.age) AS max_1 \n",
      "FROM _documents_ GROUP BY _documents_.is_old\n"
     ]
    },
    {
     "data": {
      "text/plain": [
       "[0.32540985118674415, 0.9390342979922199]"
      ]
     },
     "execution_count": 28,
     "metadata": {},
     "output_type": "execute_result"
    }
   ],
   "source": [
    "# groupby clause using max aggregation function\n",
    "# gets match age for both old and young groups\n",
    "db.select(db['age'].max, groupby=db['is_old'])"
   ]
  },
  {
   "cell_type": "markdown",
   "metadata": {},
   "source": [
    "## SQL String Commands and Additional Clauses\n",
    "For cases where DocTable2 does not provide a convenient interface, you may submit raw SQL commands. These may be a bit more unwieldly, but they offer maximum flexibility. They may be used either as simply an addition to the WHERE or arbitrary end clauses, or accessed in totality."
   ]
  },
  {
   "cell_type": "code",
   "execution_count": 29,
   "metadata": {},
   "outputs": [
    {
     "name": "stdout",
     "output_type": "stream",
     "text": [
      "DocTable: SELECT age,name FROM _documents_ WHERE id==\"1\"\n"
     ]
    },
    {
     "data": {
      "text/plain": [
       "{'age': 0.6643892612068403, 'name': 'user_0'}"
      ]
     },
     "execution_count": 29,
     "metadata": {},
     "output_type": "execute_result"
    }
   ],
   "source": [
    "qstr = 'SELECT age,name FROM {} WHERE id==\"{}\"'.format(db.tabname, 1)\n",
    "results = db.execute(qstr)\n",
    "dict(list(results)[0])"
   ]
  },
  {
   "cell_type": "code",
   "execution_count": 30,
   "metadata": {},
   "outputs": [
    {
     "name": "stdout",
     "output_type": "stream",
     "text": [
      "DocTable: SELECT _documents_.id, _documents_.name, _documents_.age, _documents_.is_old \n",
      "FROM _documents_ \n",
      "WHERE (is_old==\"1\")\n",
      " LIMIT ? OFFSET ?\n"
     ]
    },
    {
     "data": {
      "text/plain": [
       "[Record(id=1, name='user_0', age=0.6643892612068403, is_old=True),\n",
       " Record(id=2, name='user_1', age=0.9053775349985783, is_old=True)]"
      ]
     },
     "execution_count": 30,
     "metadata": {},
     "output_type": "execute_result"
    }
   ],
   "source": [
    "wherestr = 'is_old==\"{}\"'.format('1')\n",
    "db.select(wherestr=wherestr, limit=2)"
   ]
  },
  {
   "cell_type": "code",
   "execution_count": 31,
   "metadata": {},
   "outputs": [
    {
     "name": "stdout",
     "output_type": "stream",
     "text": [
      "DocTable: SELECT _documents_.id, _documents_.name, _documents_.age, _documents_.is_old \n",
      "FROM _documents_ \n",
      "WHERE _documents_.id <= ? AND (is_old==\"1\")\n"
     ]
    },
    {
     "data": {
      "text/plain": [
       "[Record(id=1, name='user_0', age=0.6643892612068403, is_old=True),\n",
       " Record(id=2, name='user_1', age=0.9053775349985783, is_old=True),\n",
       " Record(id=3, name='user_2', age=0.762910032919838, is_old=True),\n",
       " Record(id=4, name='user_3', age=0.577166608655992, is_old=True)]"
      ]
     },
     "execution_count": 31,
     "metadata": {},
     "output_type": "execute_result"
    }
   ],
   "source": [
    "# combine whrstr with structured query where clause\n",
    "wherestr = 'is_old==\"{}\"'.format('1')\n",
    "db.select(where=db['id']<=5, wherestr=wherestr)"
   ]
  },
  {
   "cell_type": "code",
   "execution_count": 32,
   "metadata": {},
   "outputs": [
    {
     "name": "stdout",
     "output_type": "stream",
     "text": [
      "DocTable: SELECT _documents_.id, _documents_.name, _documents_.age, _documents_.is_old \n",
      "FROM _documents_ \n",
      "WHERE _documents_.id <= ? AND (is_old==\"1\")\n"
     ]
    },
    {
     "data": {
      "text/plain": [
       "[Record(id=1, name='user_0', age=0.6643892612068403, is_old=True),\n",
       " Record(id=2, name='user_1', age=0.9053775349985783, is_old=True),\n",
       " Record(id=3, name='user_2', age=0.762910032919838, is_old=True),\n",
       " Record(id=4, name='user_3', age=0.577166608655992, is_old=True)]"
      ]
     },
     "execution_count": 32,
     "metadata": {},
     "output_type": "execute_result"
    }
   ],
   "source": [
    "# combine whrstr with structured query where clause\n",
    "wherestr = 'is_old==\"{}\"'.format('1')\n",
    "db.select(where=db['id']<=5, wherestr=wherestr)"
   ]
  },
  {
   "cell_type": "markdown",
   "metadata": {},
   "source": [
    "## Count Method and Get Next ID\n",
    "```.count()``` is a convenience method. Mostly the same could be accomplished by ```db.select_first(db['id'].count)```, but this requires no reference to a specific column.\n",
    "\n",
    "```.next_id()``` is especially useful if one hopes to enter the id (or any primary key column) into new rows manually. Especially useful because SQL engines don't provide new ids except when a single insert is performed."
   ]
  },
  {
   "cell_type": "code",
   "execution_count": 33,
   "metadata": {},
   "outputs": [
    {
     "name": "stdout",
     "output_type": "stream",
     "text": [
      "DocTable: SELECT count() AS count_1 \n",
      "FROM _documents_\n",
      " LIMIT ? OFFSET ?\n"
     ]
    },
    {
     "data": {
      "text/plain": [
       "10"
      ]
     },
     "execution_count": 33,
     "metadata": {},
     "output_type": "execute_result"
    }
   ],
   "source": [
    "db.count()"
   ]
  },
  {
   "cell_type": "code",
   "execution_count": 34,
   "metadata": {},
   "outputs": [
    {
     "name": "stdout",
     "output_type": "stream",
     "text": [
      "DocTable: SELECT count() AS count_1 \n",
      "FROM _documents_ \n",
      "WHERE _documents_.age < ?\n",
      " LIMIT ? OFFSET ?\n"
     ]
    },
    {
     "data": {
      "text/plain": [
       "2"
      ]
     },
     "execution_count": 34,
     "metadata": {},
     "output_type": "execute_result"
    }
   ],
   "source": [
    "db.count(db['age'] < 0.5)"
   ]
  },
  {
   "cell_type": "markdown",
   "metadata": {},
   "source": [
    "## Select as Pandas Series and DataFrame\n",
    "These are especially useful when working with metadata because Pandas provides robust descriptive and plotting features than SQL alone. Good for generating sample information."
   ]
  },
  {
   "cell_type": "code",
   "execution_count": 35,
   "metadata": {},
   "outputs": [
    {
     "name": "stdout",
     "output_type": "stream",
     "text": [
      "DocTable: SELECT _documents_.age \n",
      "FROM _documents_\n"
     ]
    },
    {
     "data": {
      "text/plain": [
       "0    0.664389\n",
       "1    0.905378\n",
       "dtype: float64"
      ]
     },
     "execution_count": 35,
     "metadata": {},
     "output_type": "execute_result"
    }
   ],
   "source": [
    "# must provide only a single column\n",
    "db.select_series(db['age']).head(2)"
   ]
  },
  {
   "cell_type": "code",
   "execution_count": 36,
   "metadata": {},
   "outputs": [
    {
     "name": "stdout",
     "output_type": "stream",
     "text": [
      "DocTable: SELECT _documents_.age \n",
      "FROM _documents_\n"
     ]
    },
    {
     "data": {
      "text/plain": [
       "0.025    0.307539\n",
       "0.985    0.934491\n",
       "dtype: float64"
      ]
     },
     "execution_count": 36,
     "metadata": {},
     "output_type": "execute_result"
    }
   ],
   "source": [
    "db.select_series(db['age']).quantile([0.025, 0.985])"
   ]
  },
  {
   "cell_type": "code",
   "execution_count": 37,
   "metadata": {},
   "outputs": [
    {
     "name": "stdout",
     "output_type": "stream",
     "text": [
      "DocTable: SELECT _documents_.id, _documents_.age \n",
      "FROM _documents_\n"
     ]
    },
    {
     "data": {
      "text/html": [
       "<div>\n",
       "<style scoped>\n",
       "    .dataframe tbody tr th:only-of-type {\n",
       "        vertical-align: middle;\n",
       "    }\n",
       "\n",
       "    .dataframe tbody tr th {\n",
       "        vertical-align: top;\n",
       "    }\n",
       "\n",
       "    .dataframe thead th {\n",
       "        text-align: right;\n",
       "    }\n",
       "</style>\n",
       "<table border=\"1\" class=\"dataframe\">\n",
       "  <thead>\n",
       "    <tr style=\"text-align: right;\">\n",
       "      <th></th>\n",
       "      <th>id</th>\n",
       "      <th>age</th>\n",
       "    </tr>\n",
       "  </thead>\n",
       "  <tbody>\n",
       "    <tr>\n",
       "      <th>0</th>\n",
       "      <td>1</td>\n",
       "      <td>0.664389</td>\n",
       "    </tr>\n",
       "    <tr>\n",
       "      <th>1</th>\n",
       "      <td>2</td>\n",
       "      <td>0.905378</td>\n",
       "    </tr>\n",
       "  </tbody>\n",
       "</table>\n",
       "</div>"
      ],
      "text/plain": [
       "   id       age\n",
       "0   1  0.664389\n",
       "1   2  0.905378"
      ]
     },
     "execution_count": 37,
     "metadata": {},
     "output_type": "execute_result"
    }
   ],
   "source": [
    "db.select_df(['id','age']).head(2)"
   ]
  },
  {
   "cell_type": "code",
   "execution_count": 38,
   "metadata": {},
   "outputs": [
    {
     "name": "stdout",
     "output_type": "stream",
     "text": [
      "DocTable: SELECT _documents_.age \n",
      "FROM _documents_\n"
     ]
    },
    {
     "data": {
      "text/html": [
       "<div>\n",
       "<style scoped>\n",
       "    .dataframe tbody tr th:only-of-type {\n",
       "        vertical-align: middle;\n",
       "    }\n",
       "\n",
       "    .dataframe tbody tr th {\n",
       "        vertical-align: top;\n",
       "    }\n",
       "\n",
       "    .dataframe thead th {\n",
       "        text-align: right;\n",
       "    }\n",
       "</style>\n",
       "<table border=\"1\" class=\"dataframe\">\n",
       "  <thead>\n",
       "    <tr style=\"text-align: right;\">\n",
       "      <th></th>\n",
       "      <th>age</th>\n",
       "    </tr>\n",
       "  </thead>\n",
       "  <tbody>\n",
       "    <tr>\n",
       "      <th>0</th>\n",
       "      <td>0.664389</td>\n",
       "    </tr>\n",
       "    <tr>\n",
       "      <th>1</th>\n",
       "      <td>0.905378</td>\n",
       "    </tr>\n",
       "  </tbody>\n",
       "</table>\n",
       "</div>"
      ],
      "text/plain": [
       "        age\n",
       "0  0.664389\n",
       "1  0.905378"
      ]
     },
     "execution_count": 38,
     "metadata": {},
     "output_type": "execute_result"
    }
   ],
   "source": [
    "db.select_df('age').head(2)"
   ]
  },
  {
   "cell_type": "code",
   "execution_count": 39,
   "metadata": {},
   "outputs": [
    {
     "name": "stdout",
     "output_type": "stream",
     "text": [
      "DocTable: SELECT _documents_.id, _documents_.age \n",
      "FROM _documents_\n"
     ]
    },
    {
     "data": {
      "text/html": [
       "<div>\n",
       "<style scoped>\n",
       "    .dataframe tbody tr th:only-of-type {\n",
       "        vertical-align: middle;\n",
       "    }\n",
       "\n",
       "    .dataframe tbody tr th {\n",
       "        vertical-align: top;\n",
       "    }\n",
       "\n",
       "    .dataframe thead th {\n",
       "        text-align: right;\n",
       "    }\n",
       "</style>\n",
       "<table border=\"1\" class=\"dataframe\">\n",
       "  <thead>\n",
       "    <tr style=\"text-align: right;\">\n",
       "      <th></th>\n",
       "      <th>id</th>\n",
       "      <th>age</th>\n",
       "    </tr>\n",
       "  </thead>\n",
       "  <tbody>\n",
       "    <tr>\n",
       "      <th>id</th>\n",
       "      <td>1.000000</td>\n",
       "      <td>0.092846</td>\n",
       "    </tr>\n",
       "    <tr>\n",
       "      <th>age</th>\n",
       "      <td>0.092846</td>\n",
       "      <td>1.000000</td>\n",
       "    </tr>\n",
       "  </tbody>\n",
       "</table>\n",
       "</div>"
      ],
      "text/plain": [
       "           id       age\n",
       "id   1.000000  0.092846\n",
       "age  0.092846  1.000000"
      ]
     },
     "execution_count": 39,
     "metadata": {},
     "output_type": "execute_result"
    }
   ],
   "source": [
    "# must provide list of cols (even for one col)\n",
    "db.select_df([db['id'],db['age']]).corr()"
   ]
  },
  {
   "cell_type": "code",
   "execution_count": 40,
   "metadata": {},
   "outputs": [
    {
     "name": "stdout",
     "output_type": "stream",
     "text": [
      "DocTable: SELECT _documents_.id, _documents_.age \n",
      "FROM _documents_\n"
     ]
    },
    {
     "data": {
      "text/html": [
       "<div>\n",
       "<style scoped>\n",
       "    .dataframe tbody tr th:only-of-type {\n",
       "        vertical-align: middle;\n",
       "    }\n",
       "\n",
       "    .dataframe tbody tr th {\n",
       "        vertical-align: top;\n",
       "    }\n",
       "\n",
       "    .dataframe thead th {\n",
       "        text-align: right;\n",
       "    }\n",
       "</style>\n",
       "<table border=\"1\" class=\"dataframe\">\n",
       "  <thead>\n",
       "    <tr style=\"text-align: right;\">\n",
       "      <th></th>\n",
       "      <th>count</th>\n",
       "      <th>mean</th>\n",
       "      <th>std</th>\n",
       "      <th>min</th>\n",
       "      <th>25%</th>\n",
       "      <th>50%</th>\n",
       "      <th>75%</th>\n",
       "      <th>max</th>\n",
       "    </tr>\n",
       "  </thead>\n",
       "  <tbody>\n",
       "    <tr>\n",
       "      <th>id</th>\n",
       "      <td>10.0</td>\n",
       "      <td>5.500000</td>\n",
       "      <td>3.02765</td>\n",
       "      <td>1.000000</td>\n",
       "      <td>3.250000</td>\n",
       "      <td>5.500000</td>\n",
       "      <td>7.750000</td>\n",
       "      <td>10.000000</td>\n",
       "    </tr>\n",
       "    <tr>\n",
       "      <th>age</th>\n",
       "      <td>10.0</td>\n",
       "      <td>0.655388</td>\n",
       "      <td>0.21455</td>\n",
       "      <td>0.302351</td>\n",
       "      <td>0.587977</td>\n",
       "      <td>0.664459</td>\n",
       "      <td>0.784954</td>\n",
       "      <td>0.939034</td>\n",
       "    </tr>\n",
       "  </tbody>\n",
       "</table>\n",
       "</div>"
      ],
      "text/plain": [
       "     count      mean      std       min       25%       50%       75%  \\\n",
       "id    10.0  5.500000  3.02765  1.000000  3.250000  5.500000  7.750000   \n",
       "age   10.0  0.655388  0.21455  0.302351  0.587977  0.664459  0.784954   \n",
       "\n",
       "           max  \n",
       "id   10.000000  \n",
       "age   0.939034  "
      ]
     },
     "execution_count": 40,
     "metadata": {},
     "output_type": "execute_result"
    }
   ],
   "source": [
    "db.select_df([db['id'],db['age']]).describe().T"
   ]
  },
  {
   "cell_type": "code",
   "execution_count": 41,
   "metadata": {},
   "outputs": [
    {
     "name": "stdout",
     "output_type": "stream",
     "text": [
      "DocTable: SELECT _documents_.age \n",
      "FROM _documents_\n",
      "DocTable: SELECT _documents_.id, _documents_.age \n",
      "FROM _documents_\n"
     ]
    },
    {
     "data": {
      "text/html": [
       "<div>\n",
       "<style scoped>\n",
       "    .dataframe tbody tr th:only-of-type {\n",
       "        vertical-align: middle;\n",
       "    }\n",
       "\n",
       "    .dataframe tbody tr th {\n",
       "        vertical-align: top;\n",
       "    }\n",
       "\n",
       "    .dataframe thead tr th {\n",
       "        text-align: left;\n",
       "    }\n",
       "\n",
       "    .dataframe thead tr:last-of-type th {\n",
       "        text-align: right;\n",
       "    }\n",
       "</style>\n",
       "<table border=\"1\" class=\"dataframe\">\n",
       "  <thead>\n",
       "    <tr>\n",
       "      <th></th>\n",
       "      <th colspan=\"8\" halign=\"left\">id</th>\n",
       "      <th colspan=\"8\" halign=\"left\">age</th>\n",
       "    </tr>\n",
       "    <tr>\n",
       "      <th></th>\n",
       "      <th>count</th>\n",
       "      <th>mean</th>\n",
       "      <th>std</th>\n",
       "      <th>min</th>\n",
       "      <th>25%</th>\n",
       "      <th>50%</th>\n",
       "      <th>75%</th>\n",
       "      <th>max</th>\n",
       "      <th>count</th>\n",
       "      <th>mean</th>\n",
       "      <th>std</th>\n",
       "      <th>min</th>\n",
       "      <th>25%</th>\n",
       "      <th>50%</th>\n",
       "      <th>75%</th>\n",
       "      <th>max</th>\n",
       "    </tr>\n",
       "    <tr>\n",
       "      <th>old_grp</th>\n",
       "      <th></th>\n",
       "      <th></th>\n",
       "      <th></th>\n",
       "      <th></th>\n",
       "      <th></th>\n",
       "      <th></th>\n",
       "      <th></th>\n",
       "      <th></th>\n",
       "      <th></th>\n",
       "      <th></th>\n",
       "      <th></th>\n",
       "      <th></th>\n",
       "      <th></th>\n",
       "      <th></th>\n",
       "      <th></th>\n",
       "      <th></th>\n",
       "    </tr>\n",
       "  </thead>\n",
       "  <tbody>\n",
       "    <tr>\n",
       "      <th>False</th>\n",
       "      <td>4.0</td>\n",
       "      <td>5.5</td>\n",
       "      <td>1.290994</td>\n",
       "      <td>4.0</td>\n",
       "      <td>4.75</td>\n",
       "      <td>5.5</td>\n",
       "      <td>6.25</td>\n",
       "      <td>7.0</td>\n",
       "      <td>4.0</td>\n",
       "      <td>0.456334</td>\n",
       "      <td>0.165703</td>\n",
       "      <td>0.302351</td>\n",
       "      <td>0.319645</td>\n",
       "      <td>0.451288</td>\n",
       "      <td>0.587977</td>\n",
       "      <td>0.620407</td>\n",
       "    </tr>\n",
       "    <tr>\n",
       "      <th>True</th>\n",
       "      <td>6.0</td>\n",
       "      <td>5.5</td>\n",
       "      <td>3.937004</td>\n",
       "      <td>1.0</td>\n",
       "      <td>2.25</td>\n",
       "      <td>5.5</td>\n",
       "      <td>8.75</td>\n",
       "      <td>10.0</td>\n",
       "      <td>6.0</td>\n",
       "      <td>0.788090</td>\n",
       "      <td>0.116414</td>\n",
       "      <td>0.664389</td>\n",
       "      <td>0.689124</td>\n",
       "      <td>0.777606</td>\n",
       "      <td>0.877109</td>\n",
       "      <td>0.939034</td>\n",
       "    </tr>\n",
       "  </tbody>\n",
       "</table>\n",
       "</div>"
      ],
      "text/plain": [
       "           id                                              age            \\\n",
       "        count mean       std  min   25%  50%   75%   max count      mean   \n",
       "old_grp                                                                    \n",
       "False     4.0  5.5  1.290994  4.0  4.75  5.5  6.25   7.0   4.0  0.456334   \n",
       "True      6.0  5.5  3.937004  1.0  2.25  5.5  8.75  10.0   6.0  0.788090   \n",
       "\n",
       "                                                                     \n",
       "              std       min       25%       50%       75%       max  \n",
       "old_grp                                                              \n",
       "False    0.165703  0.302351  0.319645  0.451288  0.587977  0.620407  \n",
       "True     0.116414  0.664389  0.689124  0.777606  0.877109  0.939034  "
      ]
     },
     "execution_count": 41,
     "metadata": {},
     "output_type": "execute_result"
    }
   ],
   "source": [
    "mean_age = db.select_series(db['age']).mean()\n",
    "df = db.select_df([db['id'],db['age']])\n",
    "df['old_grp'] = df['age'] > mean_age\n",
    "df.groupby('old_grp').describe()"
   ]
  },
  {
   "cell_type": "code",
   "execution_count": 42,
   "metadata": {},
   "outputs": [
    {
     "name": "stdout",
     "output_type": "stream",
     "text": [
      "DocTable: SELECT _documents_.age \n",
      "FROM _documents_\n",
      "DocTable: SELECT _documents_.name, _documents_.age \n",
      "FROM _documents_\n"
     ]
    },
    {
     "data": {
      "text/html": [
       "<div>\n",
       "<style scoped>\n",
       "    .dataframe tbody tr th:only-of-type {\n",
       "        vertical-align: middle;\n",
       "    }\n",
       "\n",
       "    .dataframe tbody tr th {\n",
       "        vertical-align: top;\n",
       "    }\n",
       "\n",
       "    .dataframe thead th {\n",
       "        text-align: right;\n",
       "    }\n",
       "</style>\n",
       "<table border=\"1\" class=\"dataframe\">\n",
       "  <thead>\n",
       "    <tr style=\"text-align: right;\">\n",
       "      <th></th>\n",
       "      <th>first_name</th>\n",
       "      <th>var_age</th>\n",
       "    </tr>\n",
       "    <tr>\n",
       "      <th>old_grp</th>\n",
       "      <th></th>\n",
       "      <th></th>\n",
       "    </tr>\n",
       "  </thead>\n",
       "  <tbody>\n",
       "    <tr>\n",
       "      <th>False</th>\n",
       "      <td>user_3</td>\n",
       "      <td>0.027457</td>\n",
       "    </tr>\n",
       "    <tr>\n",
       "      <th>True</th>\n",
       "      <td>user_0</td>\n",
       "      <td>0.013552</td>\n",
       "    </tr>\n",
       "  </tbody>\n",
       "</table>\n",
       "</div>"
      ],
      "text/plain": [
       "        first_name   var_age\n",
       "old_grp                     \n",
       "False       user_3  0.027457\n",
       "True        user_0  0.013552"
      ]
     },
     "execution_count": 42,
     "metadata": {},
     "output_type": "execute_result"
    }
   ],
   "source": [
    "# more complicated groupby aggregation.\n",
    "# calculates the variance both for entries above and below average age\n",
    "mean_age = db.select_series(db['age']).mean()\n",
    "df = db.select_df([db['name'],db['age']])\n",
    "df['old_grp'] = df['age']>mean_age\n",
    "df.groupby('old_grp').agg(**{\n",
    "    'first_name':pd.NamedAgg(column='name', aggfunc='first'),\n",
    "    'var_age':pd.NamedAgg(column='age', aggfunc=np.var),\n",
    "})"
   ]
  },
  {
   "cell_type": "markdown",
   "metadata": {},
   "source": [
    "# Select with Buffer\n",
    "In cases where you have many rows or each row contains a lot of data, you may want to perform a select query which makes requests in chunks. This is performed using the SQL OFFSET command, and querying up to buffsize while yielding each returned row. This system is designed this way because the underlying sql engine buffers all rows retreived from a query, and thus there is no way to stream data into memory without this system.\n",
    "\n",
    "NOTE: The limit keyword is incompatible with this method - it will return all results. A workaround is to use the approx_max_rows param, which will return at minimum this number of rows, at max the specified number of rows plus buffsize."
   ]
  },
  {
   "cell_type": "code",
   "execution_count": 43,
   "metadata": {},
   "outputs": [
    {
     "name": "stdout",
     "output_type": "stream",
     "text": [
      "[Record(id=2, name='user_1', age=0.9053775349985783, is_old=True), Record(id=4, name='user_3', age=0.577166608655992, is_old=True)]\n",
      "[Record(id=6, name='user_5', age=0.32540985118674415, is_old=False), Record(id=8, name='user_7', age=0.7923015153822922, is_old=True)]\n",
      "[Record(id=10, name='user_9', age=0.9390342979922199, is_old=True)]\n",
      "[]\n"
     ]
    }
   ],
   "source": [
    "for row_chunk in db.select_chunks(chunksize=2, where=(db['id']%2)==0, verbose=False):\n",
    "    print(row_chunk)"
   ]
  }
 ],
 "metadata": {
  "kernelspec": {
   "display_name": "Python 3",
   "language": "python",
   "name": "python3"
  },
  "language_info": {
   "codemirror_mode": {
    "name": "ipython",
    "version": 3
   },
   "file_extension": ".py",
   "mimetype": "text/x-python",
   "name": "python",
   "nbconvert_exporter": "python",
   "pygments_lexer": "ipython3",
   "version": "3.8.5"
  }
 },
 "nbformat": 4,
 "nbformat_minor": 4
}
