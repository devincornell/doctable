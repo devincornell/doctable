{
 "cells": [
  {
   "cell_type": "markdown",
   "metadata": {},
   "source": [
    "# Example 1: US National Security Strategy Document Corpus\n",
    "In this example, I'll show how to create a database for document + metadata storage using the `DocTable` class, and a parser class using a `ParsePipeline`. We will store the metadata you see below with the raw text and parsed tokens in the same DocTable."
   ]
  },
  {
   "cell_type": "code",
   "execution_count": 1,
   "metadata": {},
   "outputs": [],
   "source": [
    "import sys\n",
    "sys.path.append('..')\n",
    "import doctable\n",
    "import spacy\n",
    "from tqdm import tqdm\n",
    "import pandas as pd\n",
    "import os\n",
    "from pprint import pprint\n",
    "import urllib.request # used for downloading nss docs"
   ]
  },
  {
   "cell_type": "markdown",
   "metadata": {},
   "source": [
    "## Introduction to NSS Corpus\n",
    "This dataset is the plain text version of the US National Security Strategy documents. During the parsing process, all plain text files will be downloaded from my [github project hosting the nss docs](https://github.com/devincornell/nssdocs). I compiled the metadata you see below from [a page hosted by the historical dept of the secretary's office](https://history.defense.gov/Historical-Sources/National-Security-Strategy/). In short, each US President must release at least one NSS per term, with some (namely Clinton) producing more.\n",
    "\n",
    "Here I've created the function `download_nss` to download the text data from my nssdocs github repository, and the python dictionary `nss_metadata` to store information about each document to be stored in the database."
   ]
  },
  {
   "cell_type": "code",
   "execution_count": 2,
   "metadata": {},
   "outputs": [],
   "source": [
    "def download_nss(year):\n",
    "    ''' Simple helper function for downloading texts from my nssdocs repo.'''\n",
    "    baseurl = 'https://raw.githubusercontent.com/devincornell/nssdocs/master/docs/{}.txt'\n",
    "    url = baseurl.format(year)\n",
    "    text = urllib.request.urlopen(url).read().decode('utf-8')\n",
    "    return text"
   ]
  },
  {
   "cell_type": "code",
   "execution_count": 3,
   "metadata": {},
   "outputs": [],
   "source": [
    "nss_metadata = {\n",
    "    1987: {'party': 'R', 'president': 'Reagan'}, \n",
    "    1993: {'party': 'R', 'president': 'H.W. Bush'}, \n",
    "    2002: {'party': 'R', 'president': 'W. Bush'}, \n",
    "    2015: {'party': 'D', 'president': 'Obama'}, \n",
    "    1994: {'party': 'D', 'president': 'Clinton'}, \n",
    "    1990: {'party': 'R', 'president': 'H.W. Bush'}, \n",
    "    1991: {'party': 'R', 'president': 'H.W. Bush'}, \n",
    "    2006: {'party': 'R', 'president': 'W. Bush'}, \n",
    "    1997: {'party': 'D', 'president': 'Clinton'}, \n",
    "    1995: {'party': 'D', 'president': 'Clinton'}, \n",
    "    1988: {'party': 'R', 'president': 'Reagan'}, \n",
    "    2017: {'party': 'R', 'president': 'Trump'}, \n",
    "    1996: {'party': 'D', 'president': 'Clinton'}, \n",
    "    2010: {'party': 'D', 'president': 'Obama'}, \n",
    "    1999: {'party': 'D', 'president': 'Clinton'}, \n",
    "    1998: {'party': 'D', 'president': 'Clinton'}, \n",
    "    2000: {'party': 'D', 'president': 'Clinton'}\n",
    "}"
   ]
  },
  {
   "cell_type": "code",
   "execution_count": 4,
   "metadata": {},
   "outputs": [
    {
     "data": {
      "text/plain": [
       "'Preface \\n\\nAmerican Leadership for Peaceful Change \\n\\nOur great Nation stands at a crossroads in histo'"
      ]
     },
     "execution_count": 4,
     "metadata": {},
     "output_type": "execute_result"
    }
   ],
   "source": [
    "# downloader example: first 100 characters of 1993 NSS document\n",
    "text = download_nss(1993)\n",
    "text[:100]"
   ]
  },
  {
   "cell_type": "markdown",
   "metadata": {},
   "source": [
    "## 1. Create a DocTable Schema\n",
    "The `DocTable` class is often used by subclassing. Our `NSSDocs` class inherits from `DocTable` and will store connection and schema information. Because the default constructor checks for statically define member variables `tabname` and `schema` (as well as others), we can simply add them to the class definition. \n",
    "\n",
    "In this example, we create the 'id' column as a unique index, the 'year', 'president', and 'party' columns for storing the metadata we defined above in `nss_metadata`, and columns for raw and parse text. See the [schema guide](examples/doctable_schema.html) for examples of the full range of column types."
   ]
  },
  {
   "cell_type": "code",
   "execution_count": 7,
   "metadata": {},
   "outputs": [],
   "source": [
    "from dataclasses import dataclass\n",
    "from typing import Any\n",
    "\n",
    "@dataclass\n",
    "class NSSDoc(doctable.DocTableSchema):\n",
    "    id: int = doctable.IDCol()\n",
    "    year: int = doctable.Col(nullable=False)\n",
    "    president: str = doctable.Col()\n",
    "    party: str = doctable.Col()\n",
    "    text: str = doctable.Col()\n",
    "    parsed: Any = doctable.Col()\n",
    "        \n",
    "    __constraints__ = [('check', 'party in (\"R\", \"D\")')]\n",
    "    __indices__ = {'ind_yr': ('year', dict(unique=True))}"
   ]
  },
  {
   "cell_type": "markdown",
   "metadata": {},
   "source": [
    "We can then create a connection to a database by instantiating the `NSSDocs` class. Since the `fname` parameter was not provided, this doctable exists only in memory using sqlite (uses special sqlite name \":memory:\"). We will use this for these examples.\n",
    "\n",
    "We can check the sqlite table schema using `.schema_table()`. You can see that the 'pickle' datatype we chose above is represented as a BLOB column. This is because DocTable, using SQLAlchemy core, creates an interface on top of sqlite to handle the data conversion. You can view the number of documents using `.count()` or by viewing the db instance as a string (in this case with print function)."
   ]
  },
  {
   "cell_type": "code",
   "execution_count": 29,
   "metadata": {},
   "outputs": [
    {
     "name": "stdout",
     "output_type": "stream",
     "text": [
      "DocTable: SELECT count() AS count_1 \n",
      "FROM _documents_\n",
      " LIMIT ? OFFSET ?\n",
      "0\n",
      "<DocTable (6 cols)::sqlite:///:memory::_documents_>\n"
     ]
    },
    {
     "data": {
      "text/html": [
       "<div>\n",
       "<style scoped>\n",
       "    .dataframe tbody tr th:only-of-type {\n",
       "        vertical-align: middle;\n",
       "    }\n",
       "\n",
       "    .dataframe tbody tr th {\n",
       "        vertical-align: top;\n",
       "    }\n",
       "\n",
       "    .dataframe thead th {\n",
       "        text-align: right;\n",
       "    }\n",
       "</style>\n",
       "<table border=\"1\" class=\"dataframe\">\n",
       "  <thead>\n",
       "    <tr style=\"text-align: right;\">\n",
       "      <th></th>\n",
       "      <th>name</th>\n",
       "      <th>type</th>\n",
       "      <th>nullable</th>\n",
       "      <th>default</th>\n",
       "      <th>autoincrement</th>\n",
       "      <th>primary_key</th>\n",
       "    </tr>\n",
       "  </thead>\n",
       "  <tbody>\n",
       "    <tr>\n",
       "      <th>0</th>\n",
       "      <td>id</td>\n",
       "      <td>INTEGER</td>\n",
       "      <td>False</td>\n",
       "      <td>None</td>\n",
       "      <td>auto</td>\n",
       "      <td>1</td>\n",
       "    </tr>\n",
       "    <tr>\n",
       "      <th>1</th>\n",
       "      <td>year</td>\n",
       "      <td>INTEGER</td>\n",
       "      <td>False</td>\n",
       "      <td>None</td>\n",
       "      <td>auto</td>\n",
       "      <td>0</td>\n",
       "    </tr>\n",
       "    <tr>\n",
       "      <th>2</th>\n",
       "      <td>president</td>\n",
       "      <td>VARCHAR</td>\n",
       "      <td>True</td>\n",
       "      <td>None</td>\n",
       "      <td>auto</td>\n",
       "      <td>0</td>\n",
       "    </tr>\n",
       "    <tr>\n",
       "      <th>3</th>\n",
       "      <td>party</td>\n",
       "      <td>VARCHAR</td>\n",
       "      <td>True</td>\n",
       "      <td>None</td>\n",
       "      <td>auto</td>\n",
       "      <td>0</td>\n",
       "    </tr>\n",
       "    <tr>\n",
       "      <th>4</th>\n",
       "      <td>text</td>\n",
       "      <td>VARCHAR</td>\n",
       "      <td>True</td>\n",
       "      <td>None</td>\n",
       "      <td>auto</td>\n",
       "      <td>0</td>\n",
       "    </tr>\n",
       "    <tr>\n",
       "      <th>5</th>\n",
       "      <td>parsed</td>\n",
       "      <td>BLOB</td>\n",
       "      <td>True</td>\n",
       "      <td>None</td>\n",
       "      <td>auto</td>\n",
       "      <td>0</td>\n",
       "    </tr>\n",
       "  </tbody>\n",
       "</table>\n",
       "</div>"
      ],
      "text/plain": [
       "        name     type  nullable default autoincrement  primary_key\n",
       "0         id  INTEGER     False    None          auto            1\n",
       "1       year  INTEGER     False    None          auto            0\n",
       "2  president  VARCHAR      True    None          auto            0\n",
       "3      party  VARCHAR      True    None          auto            0\n",
       "4       text  VARCHAR      True    None          auto            0\n",
       "5     parsed     BLOB      True    None          auto            0"
      ]
     },
     "execution_count": 29,
     "metadata": {},
     "output_type": "execute_result"
    }
   ],
   "source": [
    "# printing the DocTable object itself shows how many entries there are\n",
    "db = doctable.DocTable(schema=NSSDoc, target=':memory:', verbose=True)\n",
    "print(db.count())\n",
    "print(db)\n",
    "db.schema_table()"
   ]
  },
  {
   "cell_type": "markdown",
   "metadata": {},
   "source": [
    "## 2. Insert Data Into the Table"
   ]
  },
  {
   "cell_type": "markdown",
   "metadata": {},
   "source": [
    "Now let's download and store the text into the database. Each loop downloads a text document and inserts it into the doctable, and we use the `.insert()` method to insert a single row at a time. The row to be inserted is represented as a dictionary, and any missing column information is left as NULL. The `ifnotunique` argument is set to false because if we were to re-run this code, it needs to replace the existing document of the same year. Recall that in the schema we placed a unique constraint on the year column."
   ]
  },
  {
   "cell_type": "code",
   "execution_count": 30,
   "metadata": {},
   "outputs": [
    {
     "name": "stderr",
     "output_type": "stream",
     "text": [
      " 12%|█▏        | 2/17 [00:00<00:02,  5.82it/s]"
     ]
    },
    {
     "name": "stdout",
     "output_type": "stream",
     "text": [
      "DocTable: INSERT OR REPLACE INTO _documents_ (year, president, party, text) VALUES (?, ?, ?, ?)\n",
      "DocTable: INSERT OR REPLACE INTO _documents_ (year, president, party, text) VALUES (?, ?, ?, ?)\n"
     ]
    },
    {
     "name": "stderr",
     "output_type": "stream",
     "text": [
      " 24%|██▎       | 4/17 [00:00<00:02,  6.29it/s]"
     ]
    },
    {
     "name": "stdout",
     "output_type": "stream",
     "text": [
      "DocTable: INSERT OR REPLACE INTO _documents_ (year, president, party, text) VALUES (?, ?, ?, ?)\n",
      "DocTable: INSERT OR REPLACE INTO _documents_ (year, president, party, text) VALUES (?, ?, ?, ?)\n"
     ]
    },
    {
     "name": "stderr",
     "output_type": "stream",
     "text": [
      " 35%|███▌      | 6/17 [00:00<00:01,  6.24it/s]"
     ]
    },
    {
     "name": "stdout",
     "output_type": "stream",
     "text": [
      "DocTable: INSERT OR REPLACE INTO _documents_ (year, president, party, text) VALUES (?, ?, ?, ?)\n",
      "DocTable: INSERT OR REPLACE INTO _documents_ (year, president, party, text) VALUES (?, ?, ?, ?)\n"
     ]
    },
    {
     "name": "stderr",
     "output_type": "stream",
     "text": [
      " 47%|████▋     | 8/17 [00:01<00:01,  5.93it/s]"
     ]
    },
    {
     "name": "stdout",
     "output_type": "stream",
     "text": [
      "DocTable: INSERT OR REPLACE INTO _documents_ (year, president, party, text) VALUES (?, ?, ?, ?)\n",
      "DocTable: INSERT OR REPLACE INTO _documents_ (year, president, party, text) VALUES (?, ?, ?, ?)\n"
     ]
    },
    {
     "name": "stderr",
     "output_type": "stream",
     "text": [
      " 59%|█████▉    | 10/17 [00:01<00:01,  5.87it/s]"
     ]
    },
    {
     "name": "stdout",
     "output_type": "stream",
     "text": [
      "DocTable: INSERT OR REPLACE INTO _documents_ (year, president, party, text) VALUES (?, ?, ?, ?)\n",
      "DocTable: INSERT OR REPLACE INTO _documents_ (year, president, party, text) VALUES (?, ?, ?, ?)\n"
     ]
    },
    {
     "name": "stderr",
     "output_type": "stream",
     "text": [
      " 71%|███████   | 12/17 [00:01<00:00,  6.02it/s]"
     ]
    },
    {
     "name": "stdout",
     "output_type": "stream",
     "text": [
      "DocTable: INSERT OR REPLACE INTO _documents_ (year, president, party, text) VALUES (?, ?, ?, ?)\n",
      "DocTable: INSERT OR REPLACE INTO _documents_ (year, president, party, text) VALUES (?, ?, ?, ?)\n"
     ]
    },
    {
     "name": "stderr",
     "output_type": "stream",
     "text": [
      " 76%|███████▋  | 13/17 [00:02<00:00,  6.10it/s]"
     ]
    },
    {
     "name": "stdout",
     "output_type": "stream",
     "text": [
      "DocTable: INSERT OR REPLACE INTO _documents_ (year, president, party, text) VALUES (?, ?, ?, ?)\n"
     ]
    },
    {
     "name": "stderr",
     "output_type": "stream",
     "text": [
      " 88%|████████▊ | 15/17 [00:02<00:00,  5.39it/s]"
     ]
    },
    {
     "name": "stdout",
     "output_type": "stream",
     "text": [
      "DocTable: INSERT OR REPLACE INTO _documents_ (year, president, party, text) VALUES (?, ?, ?, ?)\n",
      "DocTable: INSERT OR REPLACE INTO _documents_ (year, president, party, text) VALUES (?, ?, ?, ?)\n"
     ]
    },
    {
     "name": "stderr",
     "output_type": "stream",
     "text": [
      "100%|██████████| 17/17 [00:02<00:00,  5.84it/s]"
     ]
    },
    {
     "name": "stdout",
     "output_type": "stream",
     "text": [
      "DocTable: INSERT OR REPLACE INTO _documents_ (year, president, party, text) VALUES (?, ?, ?, ?)\n",
      "DocTable: INSERT OR REPLACE INTO _documents_ (year, president, party, text) VALUES (?, ?, ?, ?)\n",
      "DocTable: SELECT _documents_.id, _documents_.year, _documents_.president, _documents_.party, _documents_.text, _documents_.parsed \n",
      "FROM _documents_\n",
      " LIMIT ? OFFSET ?\n"
     ]
    },
    {
     "name": "stderr",
     "output_type": "stream",
     "text": [
      "\n"
     ]
    },
    {
     "data": {
      "text/html": [
       "<div>\n",
       "<style scoped>\n",
       "    .dataframe tbody tr th:only-of-type {\n",
       "        vertical-align: middle;\n",
       "    }\n",
       "\n",
       "    .dataframe tbody tr th {\n",
       "        vertical-align: top;\n",
       "    }\n",
       "\n",
       "    .dataframe thead th {\n",
       "        text-align: right;\n",
       "    }\n",
       "</style>\n",
       "<table border=\"1\" class=\"dataframe\">\n",
       "  <thead>\n",
       "    <tr style=\"text-align: right;\">\n",
       "      <th></th>\n",
       "      <th>id</th>\n",
       "      <th>year</th>\n",
       "      <th>president</th>\n",
       "      <th>party</th>\n",
       "      <th>text</th>\n",
       "      <th>parsed</th>\n",
       "    </tr>\n",
       "  </thead>\n",
       "  <tbody>\n",
       "    <tr>\n",
       "      <th>0</th>\n",
       "      <td>1</td>\n",
       "      <td>1987</td>\n",
       "      <td>Reagan</td>\n",
       "      <td>R</td>\n",
       "      <td>I. An American Perspective \\n\\nIn the early da...</td>\n",
       "      <td>None</td>\n",
       "    </tr>\n",
       "    <tr>\n",
       "      <th>1</th>\n",
       "      <td>2</td>\n",
       "      <td>1993</td>\n",
       "      <td>H.W. Bush</td>\n",
       "      <td>R</td>\n",
       "      <td>Preface \\n\\nAmerican Leadership for Peaceful C...</td>\n",
       "      <td>None</td>\n",
       "    </tr>\n",
       "    <tr>\n",
       "      <th>2</th>\n",
       "      <td>3</td>\n",
       "      <td>2002</td>\n",
       "      <td>W. Bush</td>\n",
       "      <td>R</td>\n",
       "      <td>The great struggles of the twentieth century b...</td>\n",
       "      <td>None</td>\n",
       "    </tr>\n",
       "    <tr>\n",
       "      <th>3</th>\n",
       "      <td>4</td>\n",
       "      <td>2015</td>\n",
       "      <td>Obama</td>\n",
       "      <td>D</td>\n",
       "      <td>Today, the United States is stronger and bette...</td>\n",
       "      <td>None</td>\n",
       "    </tr>\n",
       "    <tr>\n",
       "      <th>4</th>\n",
       "      <td>5</td>\n",
       "      <td>1994</td>\n",
       "      <td>Clinton</td>\n",
       "      <td>D</td>\n",
       "      <td>Preface \\n\\nProtecting our nation's security -...</td>\n",
       "      <td>None</td>\n",
       "    </tr>\n",
       "  </tbody>\n",
       "</table>\n",
       "</div>"
      ],
      "text/plain": [
       "   id  year  president party  \\\n",
       "0   1  1987     Reagan     R   \n",
       "1   2  1993  H.W. Bush     R   \n",
       "2   3  2002    W. Bush     R   \n",
       "3   4  2015      Obama     D   \n",
       "4   5  1994    Clinton     D   \n",
       "\n",
       "                                                text parsed  \n",
       "0  I. An American Perspective \\n\\nIn the early da...   None  \n",
       "1  Preface \\n\\nAmerican Leadership for Peaceful C...   None  \n",
       "2  The great struggles of the twentieth century b...   None  \n",
       "3  Today, the United States is stronger and bette...   None  \n",
       "4  Preface \\n\\nProtecting our nation's security -...   None  "
      ]
     },
     "execution_count": 30,
     "metadata": {},
     "output_type": "execute_result"
    }
   ],
   "source": [
    "for year, docmeta in tqdm(nss_metadata.items()):\n",
    "    text = download_nss(year)\n",
    "    db.insert(NSSDoc(\n",
    "        year=year, \n",
    "        party=docmeta['party'], \n",
    "        president=docmeta['president'], \n",
    "        text=text\n",
    "    ), ifnotunique='replace')\n",
    "db.head()"
   ]
  },
  {
   "cell_type": "markdown",
   "metadata": {},
   "source": [
    "## 3. Query Table Data\n",
    "Now that we have inserted the NSS documents into the table, there are a few ways we can query the data. To select the first entry of the table use `.select_first()`. This method returns a simple `sqlalchemy.RowProxy` object which can be accessed like a dictionary or like a tuple."
   ]
  },
  {
   "cell_type": "code",
   "execution_count": 31,
   "metadata": {},
   "outputs": [
    {
     "name": "stdout",
     "output_type": "stream",
     "text": [
      "DocTable: SELECT _documents_.id, _documents_.year, _documents_.president, _documents_.party, _documents_.text, _documents_.parsed \n",
      "FROM _documents_\n",
      " LIMIT ? OFFSET ?\n",
      "Reagan\n"
     ]
    }
   ],
   "source": [
    "row = db.select_first()\n",
    "#print(row)\n",
    "print(row['president'])"
   ]
  },
  {
   "cell_type": "markdown",
   "metadata": {},
   "source": [
    "To select more than one row, use the `.select()` method. If you'd only like to return the first few rows, you can use the `limit` argument."
   ]
  },
  {
   "cell_type": "code",
   "execution_count": 32,
   "metadata": {},
   "outputs": [
    {
     "name": "stdout",
     "output_type": "stream",
     "text": [
      "DocTable: SELECT _documents_.id, _documents_.year, _documents_.president, _documents_.party, _documents_.text, _documents_.parsed \n",
      "FROM _documents_\n",
      " LIMIT ? OFFSET ?\n",
      "1987\n",
      "1993\n"
     ]
    }
   ],
   "source": [
    "rows = db.select(limit=2)\n",
    "print(rows[0]['year'])\n",
    "print(rows[1]['year'])"
   ]
  },
  {
   "cell_type": "markdown",
   "metadata": {},
   "source": [
    "We can also select only a few columns."
   ]
  },
  {
   "cell_type": "code",
   "execution_count": 33,
   "metadata": {},
   "outputs": [
    {
     "name": "stdout",
     "output_type": "stream",
     "text": [
      "DocTable: SELECT _documents_.year, _documents_.president \n",
      "FROM _documents_\n",
      " LIMIT ? OFFSET ?\n"
     ]
    },
    {
     "data": {
      "text/plain": [
       "[NSSDoc(id=EmptyValue, year=1987, president='Reagan', party=EmptyValue, text=EmptyValue, parsed=EmptyValue),\n",
       " NSSDoc(id=EmptyValue, year=1993, president='H.W. Bush', party=EmptyValue, text=EmptyValue, parsed=EmptyValue),\n",
       " NSSDoc(id=EmptyValue, year=2002, president='W. Bush', party=EmptyValue, text=EmptyValue, parsed=EmptyValue)]"
      ]
     },
     "execution_count": 33,
     "metadata": {},
     "output_type": "execute_result"
    }
   ],
   "source": [
    "db.select(['year', 'president'], limit=3)"
   ]
  },
  {
   "cell_type": "markdown",
   "metadata": {},
   "source": [
    "For convenience, we can also use the `.select_df()` method to return directly as a pandas dataframe."
   ]
  },
  {
   "cell_type": "code",
   "execution_count": 34,
   "metadata": {},
   "outputs": [
    {
     "name": "stdout",
     "output_type": "stream",
     "text": [
      "DocTable: SELECT _documents_.id, _documents_.year, _documents_.president, _documents_.party, _documents_.text, _documents_.parsed \n",
      "FROM _documents_\n",
      " LIMIT ? OFFSET ?\n"
     ]
    },
    {
     "data": {
      "text/html": [
       "<div>\n",
       "<style scoped>\n",
       "    .dataframe tbody tr th:only-of-type {\n",
       "        vertical-align: middle;\n",
       "    }\n",
       "\n",
       "    .dataframe tbody tr th {\n",
       "        vertical-align: top;\n",
       "    }\n",
       "\n",
       "    .dataframe thead th {\n",
       "        text-align: right;\n",
       "    }\n",
       "</style>\n",
       "<table border=\"1\" class=\"dataframe\">\n",
       "  <thead>\n",
       "    <tr style=\"text-align: right;\">\n",
       "      <th></th>\n",
       "      <th>id</th>\n",
       "      <th>year</th>\n",
       "      <th>president</th>\n",
       "      <th>party</th>\n",
       "      <th>text</th>\n",
       "      <th>parsed</th>\n",
       "    </tr>\n",
       "  </thead>\n",
       "  <tbody>\n",
       "    <tr>\n",
       "      <th>0</th>\n",
       "      <td>1</td>\n",
       "      <td>1987</td>\n",
       "      <td>Reagan</td>\n",
       "      <td>R</td>\n",
       "      <td>I. An American Perspective \\n\\nIn the early da...</td>\n",
       "      <td>None</td>\n",
       "    </tr>\n",
       "    <tr>\n",
       "      <th>1</th>\n",
       "      <td>2</td>\n",
       "      <td>1993</td>\n",
       "      <td>H.W. Bush</td>\n",
       "      <td>R</td>\n",
       "      <td>Preface \\n\\nAmerican Leadership for Peaceful C...</td>\n",
       "      <td>None</td>\n",
       "    </tr>\n",
       "  </tbody>\n",
       "</table>\n",
       "</div>"
      ],
      "text/plain": [
       "   id  year  president party  \\\n",
       "0   1  1987     Reagan     R   \n",
       "1   2  1993  H.W. Bush     R   \n",
       "\n",
       "                                                text parsed  \n",
       "0  I. An American Perspective \\n\\nIn the early da...   None  \n",
       "1  Preface \\n\\nAmerican Leadership for Peaceful C...   None  "
      ]
     },
     "execution_count": 34,
     "metadata": {},
     "output_type": "execute_result"
    }
   ],
   "source": [
    "# use select_df to show a couple rows of our database\n",
    "db.select_df(limit=2)"
   ]
  },
  {
   "cell_type": "markdown",
   "metadata": {},
   "source": [
    "## 4. Create a Parser for Tokenization\n",
    "Now that the text is in the doctable, we can extract it using `.select()`, parse it, and store the parsed text back into the table using `.update()`.\n",
    "\n",
    "Now we create a parser using `ParsePipeline` and a list of functions to apply to the text sequentially. The `Comp` function returns a [doctable parse function](ref/doctable.parse.html) with additional keyword arguments. For instance, the following two expressions would be the same.\n",
    "```\n",
    "doctable.component('keep_tok', keep_punct=True) # is equivalent to\n",
    "lambda x: doctable.parse.parse_tok_func(x, keep_punct=True)\n",
    "```\n",
    "Note in this example that the 'tokenize' function takes two function arguments `keep_tok_func` and `parse_tok_func` which are also specified using the `.Comp()` function. The available pipeline components are listed in the [parse function documentation](ref/doctable.parse.html)."
   ]
  },
  {
   "cell_type": "code",
   "execution_count": 35,
   "metadata": {},
   "outputs": [
    {
     "data": {
      "text/plain": [
       "[<spacy.lang.en.English at 0x7fc33aa36a30>,\n",
       " functools.partial(<function tokenize at 0x7fc3524b8c10>, split_sents=False, keep_tok_func=functools.partial(<function keep_tok at 0x7fc3524b8d30>), parse_tok_func=functools.partial(<function parse_tok at 0x7fc3524b8ca0>))]"
      ]
     },
     "execution_count": 35,
     "metadata": {},
     "output_type": "execute_result"
    }
   ],
   "source": [
    "# first load a spacy model\n",
    "nlp = spacy.load('en_core_web_sm')\n",
    "\n",
    "# add pipeline components\n",
    "parser = doctable.ParsePipeline([\n",
    "    nlp, # first run spacy parser\n",
    "    doctable.Comp('tokenize', **{\n",
    "        'split_sents': False,\n",
    "        'keep_tok_func': doctable.Comp('keep_tok'),\n",
    "        'parse_tok_func': doctable.Comp('parse_tok'),\n",
    "    })\n",
    "])\n",
    "\n",
    "parser.components"
   ]
  },
  {
   "cell_type": "markdown",
   "metadata": {},
   "source": [
    "Now we loop through rows in the doctable and for each iteration parse the text and insert it back into the table using `.update()`. We use the `ParsePipeline` method `.parsemany()` to parse paragraphs from each document in parallel. This is much faster."
   ]
  },
  {
   "cell_type": "code",
   "execution_count": 36,
   "metadata": {},
   "outputs": [
    {
     "name": "stderr",
     "output_type": "stream",
     "text": [
      "  0%|          | 0/17 [00:00<?, ?it/s]"
     ]
    },
    {
     "name": "stdout",
     "output_type": "stream",
     "text": [
      "DocTable: SELECT _documents_.id, _documents_.year, _documents_.president, _documents_.party, _documents_.text, _documents_.parsed \n",
      "FROM _documents_\n"
     ]
    },
    {
     "name": "stderr",
     "output_type": "stream",
     "text": [
      "  6%|▌         | 1/17 [00:01<00:26,  1.63s/it]"
     ]
    },
    {
     "name": "stdout",
     "output_type": "stream",
     "text": [
      "1\n",
      "DocTable: UPDATE _documents_ SET id=?, year=?, president=?, party=?, text=?, parsed=? WHERE _documents_.id = ?\n"
     ]
    },
    {
     "name": "stderr",
     "output_type": "stream",
     "text": [
      " 12%|█▏        | 2/17 [00:03<00:24,  1.60s/it]"
     ]
    },
    {
     "name": "stdout",
     "output_type": "stream",
     "text": [
      "2\n",
      "DocTable: UPDATE _documents_ SET id=?, year=?, president=?, party=?, text=?, parsed=? WHERE _documents_.id = ?\n"
     ]
    },
    {
     "name": "stderr",
     "output_type": "stream",
     "text": [
      " 18%|█▊        | 3/17 [00:04<00:22,  1.60s/it]"
     ]
    },
    {
     "name": "stdout",
     "output_type": "stream",
     "text": [
      "3\n",
      "DocTable: UPDATE _documents_ SET id=?, year=?, president=?, party=?, text=?, parsed=? WHERE _documents_.id = ?\n"
     ]
    },
    {
     "name": "stderr",
     "output_type": "stream",
     "text": [
      " 24%|██▎       | 4/17 [00:06<00:21,  1.64s/it]"
     ]
    },
    {
     "name": "stdout",
     "output_type": "stream",
     "text": [
      "4\n",
      "DocTable: UPDATE _documents_ SET id=?, year=?, president=?, party=?, text=?, parsed=? WHERE _documents_.id = ?\n"
     ]
    },
    {
     "name": "stderr",
     "output_type": "stream",
     "text": [
      " 29%|██▉       | 5/17 [00:08<00:19,  1.60s/it]"
     ]
    },
    {
     "name": "stdout",
     "output_type": "stream",
     "text": [
      "5\n",
      "DocTable: UPDATE _documents_ SET id=?, year=?, president=?, party=?, text=?, parsed=? WHERE _documents_.id = ?\n"
     ]
    },
    {
     "name": "stderr",
     "output_type": "stream",
     "text": [
      " 35%|███▌      | 6/17 [00:09<00:17,  1.57s/it]"
     ]
    },
    {
     "name": "stdout",
     "output_type": "stream",
     "text": [
      "6\n",
      "DocTable: UPDATE _documents_ SET id=?, year=?, president=?, party=?, text=?, parsed=? WHERE _documents_.id = ?\n"
     ]
    },
    {
     "name": "stderr",
     "output_type": "stream",
     "text": [
      " 41%|████      | 7/17 [00:11<00:16,  1.65s/it]"
     ]
    },
    {
     "name": "stdout",
     "output_type": "stream",
     "text": [
      "7\n",
      "DocTable: UPDATE _documents_ SET id=?, year=?, president=?, party=?, text=?, parsed=? WHERE _documents_.id = ?\n"
     ]
    },
    {
     "name": "stderr",
     "output_type": "stream",
     "text": [
      " 47%|████▋     | 8/17 [00:13<00:15,  1.70s/it]"
     ]
    },
    {
     "name": "stdout",
     "output_type": "stream",
     "text": [
      "8\n",
      "DocTable: UPDATE _documents_ SET id=?, year=?, president=?, party=?, text=?, parsed=? WHERE _documents_.id = ?\n"
     ]
    },
    {
     "name": "stderr",
     "output_type": "stream",
     "text": [
      " 53%|█████▎    | 9/17 [00:15<00:13,  1.75s/it]"
     ]
    },
    {
     "name": "stdout",
     "output_type": "stream",
     "text": [
      "9\n",
      "DocTable: UPDATE _documents_ SET id=?, year=?, president=?, party=?, text=?, parsed=? WHERE _documents_.id = ?\n"
     ]
    },
    {
     "name": "stderr",
     "output_type": "stream",
     "text": [
      " 59%|█████▉    | 10/17 [00:16<00:12,  1.79s/it]"
     ]
    },
    {
     "name": "stdout",
     "output_type": "stream",
     "text": [
      "10\n",
      "DocTable: UPDATE _documents_ SET id=?, year=?, president=?, party=?, text=?, parsed=? WHERE _documents_.id = ?\n"
     ]
    },
    {
     "name": "stderr",
     "output_type": "stream",
     "text": [
      " 65%|██████▍   | 11/17 [00:18<00:10,  1.81s/it]"
     ]
    },
    {
     "name": "stdout",
     "output_type": "stream",
     "text": [
      "11\n",
      "DocTable: UPDATE _documents_ SET id=?, year=?, president=?, party=?, text=?, parsed=? WHERE _documents_.id = ?\n"
     ]
    },
    {
     "name": "stderr",
     "output_type": "stream",
     "text": [
      " 71%|███████   | 12/17 [00:20<00:09,  1.82s/it]"
     ]
    },
    {
     "name": "stdout",
     "output_type": "stream",
     "text": [
      "12\n",
      "DocTable: UPDATE _documents_ SET id=?, year=?, president=?, party=?, text=?, parsed=? WHERE _documents_.id = ?\n"
     ]
    },
    {
     "name": "stderr",
     "output_type": "stream",
     "text": [
      " 76%|███████▋  | 13/17 [00:22<00:07,  1.84s/it]"
     ]
    },
    {
     "name": "stdout",
     "output_type": "stream",
     "text": [
      "13\n",
      "DocTable: UPDATE _documents_ SET id=?, year=?, president=?, party=?, text=?, parsed=? WHERE _documents_.id = ?\n"
     ]
    },
    {
     "name": "stderr",
     "output_type": "stream",
     "text": [
      " 82%|████████▏ | 14/17 [00:24<00:05,  1.92s/it]"
     ]
    },
    {
     "name": "stdout",
     "output_type": "stream",
     "text": [
      "14\n",
      "DocTable: UPDATE _documents_ SET id=?, year=?, president=?, party=?, text=?, parsed=? WHERE _documents_.id = ?\n"
     ]
    },
    {
     "name": "stderr",
     "output_type": "stream",
     "text": [
      " 88%|████████▊ | 15/17 [00:26<00:03,  1.96s/it]"
     ]
    },
    {
     "name": "stdout",
     "output_type": "stream",
     "text": [
      "15\n",
      "DocTable: UPDATE _documents_ SET id=?, year=?, president=?, party=?, text=?, parsed=? WHERE _documents_.id = ?\n"
     ]
    },
    {
     "name": "stderr",
     "output_type": "stream",
     "text": [
      " 94%|█████████▍| 16/17 [00:28<00:01,  1.97s/it]"
     ]
    },
    {
     "name": "stdout",
     "output_type": "stream",
     "text": [
      "16\n",
      "DocTable: UPDATE _documents_ SET id=?, year=?, president=?, party=?, text=?, parsed=? WHERE _documents_.id = ?\n"
     ]
    },
    {
     "name": "stderr",
     "output_type": "stream",
     "text": [
      "100%|██████████| 17/17 [00:30<00:00,  1.80s/it]"
     ]
    },
    {
     "name": "stdout",
     "output_type": "stream",
     "text": [
      "17\n",
      "DocTable: UPDATE _documents_ SET id=?, year=?, president=?, party=?, text=?, parsed=? WHERE _documents_.id = ?\n"
     ]
    },
    {
     "name": "stderr",
     "output_type": "stream",
     "text": [
      "\n"
     ]
    }
   ],
   "source": [
    "docs = db.select()\n",
    "for doc in tqdm(docs):\n",
    "    parsed = parser.parsemany(text.split('\\n\\n'), workers=30) # parse paragraphs in parallel\n",
    "    doc.parsed = parsed\n",
    "    print(doc.id)\n",
    "    db.update_dataclass(doc, verbose=True)"
   ]
  },
  {
   "cell_type": "markdown",
   "metadata": {},
   "source": [
    "See the 'parsed' column in the dataframe below to view the paragraphs."
   ]
  },
  {
   "cell_type": "code",
   "execution_count": 37,
   "metadata": {},
   "outputs": [
    {
     "name": "stdout",
     "output_type": "stream",
     "text": [
      "DocTable: SELECT _documents_.id, _documents_.year, _documents_.president, _documents_.party, _documents_.text, _documents_.parsed \n",
      "FROM _documents_\n",
      " LIMIT ? OFFSET ?\n"
     ]
    },
    {
     "data": {
      "text/html": [
       "<div>\n",
       "<style scoped>\n",
       "    .dataframe tbody tr th:only-of-type {\n",
       "        vertical-align: middle;\n",
       "    }\n",
       "\n",
       "    .dataframe tbody tr th {\n",
       "        vertical-align: top;\n",
       "    }\n",
       "\n",
       "    .dataframe thead th {\n",
       "        text-align: right;\n",
       "    }\n",
       "</style>\n",
       "<table border=\"1\" class=\"dataframe\">\n",
       "  <thead>\n",
       "    <tr style=\"text-align: right;\">\n",
       "      <th></th>\n",
       "      <th>id</th>\n",
       "      <th>year</th>\n",
       "      <th>president</th>\n",
       "      <th>party</th>\n",
       "      <th>text</th>\n",
       "      <th>parsed</th>\n",
       "    </tr>\n",
       "  </thead>\n",
       "  <tbody>\n",
       "    <tr>\n",
       "      <th>0</th>\n",
       "      <td>1</td>\n",
       "      <td>1987</td>\n",
       "      <td>Reagan</td>\n",
       "      <td>R</td>\n",
       "      <td>I. An American Perspective \\n\\nIn the early da...</td>\n",
       "      <td>[[as, we, enter, the, new, millennium, ,, we, ...</td>\n",
       "    </tr>\n",
       "    <tr>\n",
       "      <th>1</th>\n",
       "      <td>2</td>\n",
       "      <td>1993</td>\n",
       "      <td>H.W. Bush</td>\n",
       "      <td>R</td>\n",
       "      <td>Preface \\n\\nAmerican Leadership for Peaceful C...</td>\n",
       "      <td>[[as, we, enter, the, new, millennium, ,, we, ...</td>\n",
       "    </tr>\n",
       "    <tr>\n",
       "      <th>2</th>\n",
       "      <td>3</td>\n",
       "      <td>2002</td>\n",
       "      <td>W. Bush</td>\n",
       "      <td>R</td>\n",
       "      <td>The great struggles of the twentieth century b...</td>\n",
       "      <td>[[as, we, enter, the, new, millennium, ,, we, ...</td>\n",
       "    </tr>\n",
       "  </tbody>\n",
       "</table>\n",
       "</div>"
      ],
      "text/plain": [
       "   id  year  president party  \\\n",
       "0   1  1987     Reagan     R   \n",
       "1   2  1993  H.W. Bush     R   \n",
       "2   3  2002    W. Bush     R   \n",
       "\n",
       "                                                text  \\\n",
       "0  I. An American Perspective \\n\\nIn the early da...   \n",
       "1  Preface \\n\\nAmerican Leadership for Peaceful C...   \n",
       "2  The great struggles of the twentieth century b...   \n",
       "\n",
       "                                              parsed  \n",
       "0  [[as, we, enter, the, new, millennium, ,, we, ...  \n",
       "1  [[as, we, enter, the, new, millennium, ,, we, ...  \n",
       "2  [[as, we, enter, the, new, millennium, ,, we, ...  "
      ]
     },
     "execution_count": 37,
     "metadata": {},
     "output_type": "execute_result"
    }
   ],
   "source": [
    "db.select_df(limit=3)"
   ]
  },
  {
   "cell_type": "markdown",
   "metadata": {},
   "source": [
    "And here we show a few tokenized paragraphs."
   ]
  },
  {
   "cell_type": "code",
   "execution_count": 38,
   "metadata": {},
   "outputs": [
    {
     "name": "stdout",
     "output_type": "stream",
     "text": [
      "DocTable: SELECT _documents_.parsed \n",
      "FROM _documents_\n",
      " LIMIT ? OFFSET ?\n",
      "['as', 'we', 'enter', 'the', 'new', 'millennium', ',', 'we', 'are', 'blessed', 'to', 'be', 'citizens', 'of', 'a', 'country', 'enjoying', 'record', 'prosperity', ',', 'with', 'no', 'deep', 'divisions', 'at', 'home', ',', 'no', 'overriding', 'external', 'threats', 'abroad', ',', 'and', 'history', \"'s\", 'most', 'powerful', 'military', 'ready', 'to', 'defend', 'our', 'interests', 'around', 'the', 'world', '.', 'Americans', 'of', 'earlier', 'eras', 'may', 'have', 'hoped', 'one', 'day', 'to', 'live', 'in', 'a', 'nation', 'that', 'could', 'claim', 'just', 'one', 'of', 'these', 'blessings', '.', 'probably', 'few', 'expected', 'to', 'experience', 'them', 'all', ';', 'fewer', 'still', 'all', 'at', 'once', '.'] \n",
      "\n",
      "['our', 'success', 'is', 'cause', 'for', 'pride', 'in', 'what', 'we', \"'ve\", 'done', ',', 'and', 'gratitude', 'for', 'what', 'we', 'have', 'inherited', '.', 'but', 'the', 'most', 'important', 'matter', 'is', 'what', 'we', 'now', 'make', 'of', 'this', 'moment', '.', 'some', 'may', 'be', 'tempted', 'to', 'believe', 'that', 'open', 'markets', 'and', 'societies', 'will', 'inevitably', 'spread', 'in', 'an', 'era', 'of', 'expanding', 'global', 'trade', 'and', 'communications', ',', 'or', 'assume', 'that', 'our', 'wealth', 'and', 'power', 'alone', 'will', 'protect', 'us', 'from', 'the', 'troubles', 'of', 'the', 'outside', 'world', '.', 'but', 'that', 'approach', 'falls', 'for', 'the', 'old', 'myth', 'of', 'an', '\"', 'outside', '\"', 'world', ',', 'and', 'ignores', 'the', 'defining', 'features', 'of', 'our', 'age', ':', 'the', 'rise', 'of', 'interdependence', '.', 'more', 'than', 'ever', ',', 'prosperity', 'and', 'security', 'in', 'America', 'depend', 'on', 'prosperity', 'and', 'security', 'around', 'the', 'globe', '.', 'in', 'this', 'age', ',', 'America', 'can', 'advance', 'its', 'interests', 'and', 'ideals', 'only', 'by', 'leading', 'efforts', 'to', 'meet', 'common', 'challenges', '.', 'we', 'must', 'deploy', 'America', \"'s\", 'financial', ',', 'diplomatic', 'and', 'military', 'resources', 'to', 'stand', 'up', 'for', 'peace', 'and', 'security', ',', 'promote', 'global', 'prosperity', ',', 'and', 'advance', 'democracy', 'and', 'human', 'rights', 'around', 'the', 'world', '.'] \n",
      "\n",
      "['this', 'demands', 'strengthening', 'our', 'alliances', 'with', 'Europe', 'and', 'Asia', ',', 'and', 'adapting', 'them', 'to', 'meet', 'emerging', 'challenges', '.', 'our', 'alliances', 'in', 'Europe', 'and', 'Asia', 'are', 'stronger', 'because', 'they', 'are', 'organized', 'to', 'advance', 'a', 'permanent', 'set', 'of', 'shared', 'interests', ',', 'rather', 'than', 'to', 'defeat', 'a', 'single', 'threat', '.', 'we', 'must', 'continue', 'working', 'with', 'our', 'allies', 'towards', 'a', 'peaceful', ',', 'democratic', ',', 'undivided', 'Europe', ',', 'with', 'NATO', 'as', 'a', 'deterrent', 'to', 'new', 'conflict', 'and', 'a', 'magnet', 'for', 'new', 'democracies', '.', 'in', 'Asia', ',', 'we', 'must', 'build', 'on', 'strategic', 'alliance', 'with', 'Japan', 'to', 'define', 'new', 'approaches', 'to', 'post', '-', 'Cold', 'War', 'threats', '.', 'and', ',', 'we', 'must', 'enhance', 'cooperation', 'with', 'South', 'Korea', 'as', 'we', 'encourage', 'North', 'Korea', \"'s\", 'emergence', 'from', 'isolation', 'and', 'continue', 'to', 'diminish', 'the', 'missile', 'threat', '.'] \n",
      "\n"
     ]
    }
   ],
   "source": [
    "paragraphs = db.select_first('parsed')\n",
    "for par in paragraphs[:3]:\n",
    "    print(par, '\\n')"
   ]
  }
 ],
 "metadata": {
  "kernelspec": {
   "display_name": "Python 3",
   "language": "python",
   "name": "python3"
  },
  "language_info": {
   "codemirror_mode": {
    "name": "ipython",
    "version": 3
   },
   "file_extension": ".py",
   "mimetype": "text/x-python",
   "name": "python",
   "nbconvert_exporter": "python",
   "pygments_lexer": "ipython3",
   "version": "3.8.5"
  }
 },
 "nbformat": 4,
 "nbformat_minor": 4
}
