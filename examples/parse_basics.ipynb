{
 "cells": [
  {
   "cell_type": "markdown",
   "metadata": {},
   "source": [
    "# `ParsePipeline` Basics\n",
    "Here I demonstrate the basics of parsing text using [Spacy](https://spacy.io/) + doctable to tokenize text. Spacy does most of the heavy-lifting here to actually parse the document, and doctable methods handle the conversion from the Spacy Document object to a sequence of string tokens (words)."
   ]
  },
  {
   "cell_type": "code",
   "execution_count": 1,
   "metadata": {},
   "outputs": [],
   "source": [
    "# import doctable\n",
    "import sys\n",
    "sys.path.append('..')\n",
    "import doctable"
   ]
  },
  {
   "cell_type": "code",
   "execution_count": 2,
   "metadata": {},
   "outputs": [],
   "source": [
    "ex_texts = [\n",
    "    'I am pretty bored today. I have been stuck in quarantine for more than two months!',\n",
    "    'We are all waiting on Dr. Fauci to let us know when to return from quarantine.',\n",
    "    'On the bright side, I have more time to talk to my distant friends over video chat.',\n",
    "    'But still, I wish I could travel, go to bars, and go out to eat mrore often!',\n",
    "    'Here we show an example URL: https://devincornell.github.io/doctable/',\n",
    "    'And also one with <b><i>xml tags</i></b>.',\n",
    "]"
   ]
  },
  {
   "cell_type": "markdown",
   "metadata": {},
   "source": [
    "## 1. Build a `ParsePipeline` for Tokenization\n",
    "\n",
    "`ParsePipeline` makes it easy to define a processing pipeline as a list of functions (called components) to apply sequentially to each document in your corpus. You can use the `.parsemany()` method to run the pipeline on documents in paralel, or simply use the `.parse()` method to parse a single document.\n",
    "\n",
    "Our most basic pipeline uses a lambda function to split each text document by whitespace."
   ]
  },
  {
   "cell_type": "code",
   "execution_count": 3,
   "metadata": {},
   "outputs": [],
   "source": [
    "parser_split = doctable.ParsePipeline([\n",
    "    lambda text: text.split(),\n",
    "])"
   ]
  },
  {
   "cell_type": "markdown",
   "metadata": {},
   "source": [
    "We then use the `.parse()` method to apply the pipeline to a single document."
   ]
  },
  {
   "cell_type": "code",
   "execution_count": 4,
   "metadata": {},
   "outputs": [
    {
     "name": "stdout",
     "output_type": "stream",
     "text": [
      "['I', 'am', 'pretty', 'bored', 'today.', 'I', 'have']\n"
     ]
    }
   ],
   "source": [
    "parsed_text = parser_split.parse(ex_texts[0])\n",
    "print(parsed_text[:7])"
   ]
  },
  {
   "cell_type": "markdown",
   "metadata": {},
   "source": [
    "We can also use the `.parsemany()` method to parse all of our texts at once. Use the `workers` parameter to specify the number of processes to use if you want to use parallelization."
   ]
  },
  {
   "cell_type": "code",
   "execution_count": 5,
   "metadata": {},
   "outputs": [
    {
     "name": "stdout",
     "output_type": "stream",
     "text": [
      "['I', 'am', 'pretty', 'bored', 'today.', 'I', 'have']\n",
      "['We', 'are', 'all', 'waiting', 'on', 'Dr.', 'Fauci']\n",
      "['On', 'the', 'bright', 'side,', 'I', 'have', 'more']\n",
      "['But', 'still,', 'I', 'wish', 'I', 'could', 'travel,']\n",
      "['Here', 'we', 'show', 'an', 'example', 'URL:', 'https://devincornell.github.io/doctable/']\n",
      "['And', 'also', 'one', 'with', '<b><i>xml', 'tags</i></b>.']\n"
     ]
    }
   ],
   "source": [
    "parsed_texts = parser_split.parsemany(ex_texts, workers=2) # processes in parallel\n",
    "for text in parsed_texts:\n",
    "    print(text[:7])"
   ]
  },
  {
   "cell_type": "markdown",
   "metadata": {},
   "source": [
    "## 2. Use doctable Parsing Components\n",
    "doctable has some built-in methods for pre- and post-processing Spacy documents. This list includes all functions in the [doctable.parse](ref/doctable.parse.html) namespace, and you can access them using the `doctable.Comp` function."
   ]
  },
  {
   "cell_type": "code",
   "execution_count": 6,
   "metadata": {},
   "outputs": [
    {
     "name": "stdout",
     "output_type": "stream",
     "text": [
      "{'preprocess': <function preprocess at 0x7fcadfcfac10>, 'tokenize': <function tokenize at 0x7fcadfc7f820>, 'parse_tok': <function parse_tok at 0x7fcadfc7f8b0>, 'keep_tok': <function keep_tok at 0x7fcadfc7f940>, 'merge_tok_spans': <function merge_tok_spans at 0x7fcadfc7f9d0>, 'merge_tok_ngrams': <function merge_tok_ngrams at 0x7fcadfc7fa60>, 'get_parsetrees': <function get_parsetrees at 0x7fcadfc7fb80>}\n"
     ]
    }
   ],
   "source": [
    "print(doctable.components)"
   ]
  },
  {
   "cell_type": "code",
   "execution_count": 7,
   "metadata": {},
   "outputs": [
    {
     "name": "stdout",
     "output_type": "stream",
     "text": [
      "Here we show an example URL: https://devincornell.github.io/doctable/\n"
     ]
    },
    {
     "data": {
      "text/plain": [
       "'Here we show an example URL: _URL_'"
      ]
     },
     "execution_count": 7,
     "metadata": {},
     "output_type": "execute_result"
    }
   ],
   "source": [
    "preproc = doctable.Comp('preprocess', replace_url='_URL_', replace_xml='')\n",
    "print(ex_texts[4])\n",
    "preproc(ex_texts[4])"
   ]
  },
  {
   "cell_type": "markdown",
   "metadata": {},
   "source": [
    "Now we show a pipeline that uses the doctable `preprocess` method to remove xml tags and urls, the [Spacy nlp model](https://spacy.io/usage/spacy-101) to parse the document, and the built-in `tokenize` method to convert the spacy doc object to a list of tokens. "
   ]
  },
  {
   "cell_type": "code",
   "execution_count": 8,
   "metadata": {},
   "outputs": [
    {
     "name": "stdout",
     "output_type": "stream",
     "text": [
      "[I, am, pretty, bored, today, ., I, have, been, stuck]\n",
      "[We, are, all, waiting, on, Dr., Fauci, to, let, us]\n",
      "[On, the, bright, side, ,, I, have, more, time, to]\n",
      "[But, still, ,, I, wish, I, could, travel, ,, go]\n",
      "[Here, we, show, an, example, URL, :, XXURLXX]\n",
      "[And, also, one, with, xml, tags, .]\n"
     ]
    }
   ],
   "source": [
    "from doctable import Comp\n",
    "import spacy\n",
    "nlp = spacy.load('en_core_web_sm')\n",
    "\n",
    "parser_tok = doctable.ParsePipeline([\n",
    "    Comp('preprocess', replace_xml='', replace_url='XXURLXX'),\n",
    "    nlp,\n",
    "    Comp('tokenize', split_sents=False),\n",
    "])\n",
    "\n",
    "docs = parser_tok.parsemany(ex_texts)\n",
    "for doc in docs:\n",
    "    print(doc[:10])"
   ]
  },
  {
   "cell_type": "markdown",
   "metadata": {},
   "source": [
    "## 3. More Complicated Pipelines\n",
    "\n",
    "Now we show a more complicated mode. The function `tokenize` also takes two additional methods: `keep_tok_func` determines whether a Spacy token should be included in the final document, and the `parse_tok_func` determines how the spacy token objects should be converted to strings. We access the doctable `keep_tok` and `parse_tok` methods using the same `Comp` function to create nested parameter lists."
   ]
  },
  {
   "cell_type": "code",
   "execution_count": 9,
   "metadata": {},
   "outputs": [
    {
     "data": {
      "text/plain": [
       "4"
      ]
     },
     "execution_count": 9,
     "metadata": {},
     "output_type": "execute_result"
    }
   ],
   "source": [
    "parser_full = doctable.ParsePipeline([\n",
    "    \n",
    "    # preprocess to remove xml tags and replace URLs (doctable.parse.preprocess)\n",
    "    Comp('preprocess', replace_xml='', replace_url='XXURLXX'),\n",
    "    nlp, # spacy nlp parser object\n",
    "    \n",
    "    # merge spacy multi-word named entities (doctable.parse.merge_tok_spans)\n",
    "    Comp('merge_tok_spans', merge_ents=True, merge_noun_chunks=False),\n",
    "    \n",
    "    # tokenize document\n",
    "    Comp('tokenize', **{\n",
    "        'split_sents': False,\n",
    "        \n",
    "        # choose tokens to keep (doctable.parse.keep_tok)\n",
    "        'keep_tok_func': Comp('keep_tok', **{\n",
    "            'keep_whitespace': False, # don't keep whitespace\n",
    "            'keep_punct': True, # keep punctuation and stopwords\n",
    "            'keep_stop': True,\n",
    "        }),\n",
    "        \n",
    "        # choose how to convert Spacy token t text (doctable.parse.parse_tok)\n",
    "        'parse_tok_func': Comp('parse_tok', **{\n",
    "            'format_ents': True,\n",
    "            'lemmatize': False,\n",
    "            'num_replacement': 'NUM',\n",
    "            'ent_convert': lambda e: e.text.upper(), # function to capitalize named entities\n",
    "        })\n",
    "    })\n",
    "])\n",
    "len(parser_full.components)"
   ]
  },
  {
   "cell_type": "code",
   "execution_count": 10,
   "metadata": {},
   "outputs": [
    {
     "name": "stdout",
     "output_type": "stream",
     "text": [
      "CPU times: user 41.5 ms, sys: 124 µs, total: 41.7 ms\n",
      "Wall time: 41.3 ms\n",
      "['i', 'am', 'pretty', 'bored', 'TODAY', '.', 'i', 'have', 'been', 'stuck']\n",
      "['we', 'are', 'all', 'waiting', 'on', 'dr.', 'FAUCI', 'to', 'let', 'us']\n",
      "['on', 'the', 'bright', 'side', ',', 'i', 'have', 'more', 'time', 'to']\n",
      "['but', 'still', ',', 'i', 'wish', 'i', 'could', 'travel', ',', 'go']\n",
      "['here', 'we', 'show', 'an', 'example', 'url', ':', 'xxurlxx']\n",
      "['and', 'also', 'NUM', 'with', 'xml', 'tags', '.']\n"
     ]
    }
   ],
   "source": [
    "%time parsed_docs = parser_full.parsemany(ex_texts)\n",
    "for tokens in parsed_docs:\n",
    "    print(tokens[:10])"
   ]
  },
  {
   "cell_type": "markdown",
   "metadata": {},
   "source": [
    "These are the fundamentals of building `ParsePipeline`s in doctable. While these tools are totally optional, I believe they make it easier to structure your code for text analysis applications."
   ]
  }
 ],
 "metadata": {
  "kernelspec": {
   "display_name": "Python 3",
   "language": "python",
   "name": "python3"
  },
  "language_info": {
   "codemirror_mode": {
    "name": "ipython",
    "version": 3
   },
   "file_extension": ".py",
   "mimetype": "text/x-python",
   "name": "python",
   "nbconvert_exporter": "python",
   "pygments_lexer": "ipython3",
   "version": "3.8.5"
  }
 },
 "nbformat": 4,
 "nbformat_minor": 4
}
