{
 "cells": [
  {
   "cell_type": "markdown",
   "metadata": {},
   "source": [
    "# Table Schemas\n",
    "\n",
    "In this document, I give some examples for defining single and multi-table database schemas in Python. "
   ]
  },
  {
   "cell_type": "code",
   "execution_count": 17,
   "metadata": {},
   "outputs": [],
   "source": [
    "import sys\n",
    "sys.path.append('../')\n",
    "import doctable\n",
    "import pprint"
   ]
  },
  {
   "cell_type": "markdown",
   "metadata": {},
   "source": [
    "### Containers and the `table_schema` decorator\n",
    "\n",
    "The first step in using doctable is to define a _container_ object. Container objects are defined using the `table_schema` decorator, and are used both to define the schema of a database table and to wrap the data for insertion and selection. Container objects act very similar to normal dataclasses - in fact, they actually are dataclasses with additional information needed to create the database table attached. This informaiton is collected at the time when the decorator is used, and thus the decorator serves only to parse the database schema from the class definition, attach that information to the container class, and return the container type as a dataclass."
   ]
  },
  {
   "cell_type": "code",
   "execution_count": 18,
   "metadata": {},
   "outputs": [
    {
     "name": "stdout",
     "output_type": "stream",
     "text": [
      "Container1\n"
     ]
    },
    {
     "data": {
      "text/html": [
       "<div>\n",
       "<style scoped>\n",
       "    .dataframe tbody tr th:only-of-type {\n",
       "        vertical-align: middle;\n",
       "    }\n",
       "\n",
       "    .dataframe tbody tr th {\n",
       "        vertical-align: top;\n",
       "    }\n",
       "\n",
       "    .dataframe thead th {\n",
       "        text-align: right;\n",
       "    }\n",
       "</style>\n",
       "<table border=\"1\" class=\"dataframe\">\n",
       "  <thead>\n",
       "    <tr style=\"text-align: right;\">\n",
       "      <th></th>\n",
       "      <th>Col Name</th>\n",
       "      <th>Col Type</th>\n",
       "      <th>Attr Name</th>\n",
       "      <th>Hint</th>\n",
       "      <th>Order</th>\n",
       "      <th>Primary Key</th>\n",
       "      <th>Foreign Key</th>\n",
       "      <th>Index</th>\n",
       "      <th>Default</th>\n",
       "    </tr>\n",
       "  </thead>\n",
       "  <tbody>\n",
       "    <tr>\n",
       "      <th>0</th>\n",
       "      <td>name</td>\n",
       "      <td>String</td>\n",
       "      <td>name</td>\n",
       "      <td>str</td>\n",
       "      <td>(inf, 0)</td>\n",
       "      <td>False</td>\n",
       "      <td>False</td>\n",
       "      <td>None</td>\n",
       "      <td>None</td>\n",
       "    </tr>\n",
       "  </tbody>\n",
       "</table>\n",
       "</div>"
      ],
      "text/plain": [
       "  Col Name Col Type Attr Name Hint     Order  Primary Key  Foreign Key Index  \\\n",
       "0     name   String      name  str  (inf, 0)        False        False  None   \n",
       "\n",
       "  Default  \n",
       "0    None  "
      ]
     },
     "execution_count": 18,
     "metadata": {},
     "output_type": "execute_result"
    }
   ],
   "source": [
    "@doctable.table_schema # equivalent to @doctable.table_schema()\n",
    "class Container1:\n",
    "    name: str\n",
    "\n",
    "ins = doctable.inspect_schema(Container1)\n",
    "print(ins.table_name())\n",
    "ins.column_info_df()"
   ]
  },
  {
   "cell_type": "code",
   "execution_count": 19,
   "metadata": {},
   "outputs": [
    {
     "name": "stdout",
     "output_type": "stream",
     "text": [
      "container2\n"
     ]
    },
    {
     "data": {
      "text/html": [
       "<div>\n",
       "<style scoped>\n",
       "    .dataframe tbody tr th:only-of-type {\n",
       "        vertical-align: middle;\n",
       "    }\n",
       "\n",
       "    .dataframe tbody tr th {\n",
       "        vertical-align: top;\n",
       "    }\n",
       "\n",
       "    .dataframe thead th {\n",
       "        text-align: right;\n",
       "    }\n",
       "</style>\n",
       "<table border=\"1\" class=\"dataframe\">\n",
       "  <thead>\n",
       "    <tr style=\"text-align: right;\">\n",
       "      <th></th>\n",
       "      <th>Col Name</th>\n",
       "      <th>Col Type</th>\n",
       "      <th>Attr Name</th>\n",
       "      <th>Hint</th>\n",
       "      <th>Order</th>\n",
       "      <th>Primary Key</th>\n",
       "      <th>Foreign Key</th>\n",
       "      <th>Index</th>\n",
       "      <th>Default</th>\n",
       "    </tr>\n",
       "  </thead>\n",
       "  <tbody>\n",
       "    <tr>\n",
       "      <th>0</th>\n",
       "      <td>name</td>\n",
       "      <td>String</td>\n",
       "      <td>name</td>\n",
       "      <td>str</td>\n",
       "      <td>(inf, 0)</td>\n",
       "      <td>False</td>\n",
       "      <td>False</td>\n",
       "      <td>None</td>\n",
       "      <td>None</td>\n",
       "    </tr>\n",
       "    <tr>\n",
       "      <th>1</th>\n",
       "      <td>age</td>\n",
       "      <td>Integer</td>\n",
       "      <td>age</td>\n",
       "      <td>int</td>\n",
       "      <td>(inf, 1)</td>\n",
       "      <td>False</td>\n",
       "      <td>False</td>\n",
       "      <td>None</td>\n",
       "      <td>None</td>\n",
       "    </tr>\n",
       "  </tbody>\n",
       "</table>\n",
       "</div>"
      ],
      "text/plain": [
       "  Col Name Col Type Attr Name Hint     Order  Primary Key  Foreign Key Index  \\\n",
       "0     name   String      name  str  (inf, 0)        False        False  None   \n",
       "1      age  Integer       age  int  (inf, 1)        False        False  None   \n",
       "\n",
       "  Default  \n",
       "0    None  \n",
       "1    None  "
      ]
     },
     "execution_count": 19,
     "metadata": {},
     "output_type": "execute_result"
    }
   ],
   "source": [
    "@doctable.table_schema(table_name='container2')\n",
    "class Container2:\n",
    "    name: str\n",
    "    age: int\n",
    "ins = doctable.inspect_schema(Container2)\n",
    "print(ins.table_name())\n",
    "ins.column_info_df()"
   ]
  },
  {
   "cell_type": "markdown",
   "metadata": {},
   "source": [
    "### Specifying Column Properties\n",
    "\n",
    "There are two sets of parameters you may adjust to change the behavior of a column: \n",
    "\n",
    "+ `ColumnArgs`: adjust the behavior of the generated column. This does not affect the container object, but does affect the database column.\n",
    "\n",
    "+ `FieldArgs`: adjust the behavior of container attribute by passing arguments to `dataclasses.field()`. This does not affect the database column, but does affect the way the container object can be used.\n",
    "\n",
    "Both are passed directly to the `Column` function, which, as you can see, simply returns a `dataclasses.field` object with column arguments passed to the `metadata` attribute. Note that by default, the `default` argument is set to `doctable.MISSING`, so the parameter is optional and will be populated with that value. Missing values will be ignored when inserting the object into the database."
   ]
  },
  {
   "cell_type": "code",
   "execution_count": 20,
   "metadata": {},
   "outputs": [
    {
     "data": {
      "text/plain": [
       "Field(name=None,type=None,default=MISSING,default_factory=<dataclasses._MISSING_TYPE object at 0x7fc0f9afe590>,init=True,repr=True,hash=None,compare=True,metadata=mappingproxy({'_column_args': ColumnArgs(order=inf, column_name=None, type_kwargs={}, use_type=None, sqlalchemy_type=None, autoincrement=False, nullable=True, unique=None, primary_key=False, index=None, foreign_key=None, default=None, onupdate=None, server_default=None, server_onupdate=None, comment=None, other_kwargs={})}),kw_only=<dataclasses._MISSING_TYPE object at 0x7fc0f9afe590>,_field_type=None)"
      ]
     },
     "execution_count": 20,
     "metadata": {},
     "output_type": "execute_result"
    }
   ],
   "source": [
    "doctable.Column(\n",
    "    column_args=doctable.ColumnArgs(),\n",
    "    field_args=doctable.FieldArgs(),\n",
    ")"
   ]
  },
  {
   "cell_type": "code",
   "execution_count": 21,
   "metadata": {},
   "outputs": [
    {
     "data": {
      "text/html": [
       "<div>\n",
       "<style scoped>\n",
       "    .dataframe tbody tr th:only-of-type {\n",
       "        vertical-align: middle;\n",
       "    }\n",
       "\n",
       "    .dataframe tbody tr th {\n",
       "        vertical-align: top;\n",
       "    }\n",
       "\n",
       "    .dataframe thead th {\n",
       "        text-align: right;\n",
       "    }\n",
       "</style>\n",
       "<table border=\"1\" class=\"dataframe\">\n",
       "  <thead>\n",
       "    <tr style=\"text-align: right;\">\n",
       "      <th></th>\n",
       "      <th>Col Name</th>\n",
       "      <th>Col Type</th>\n",
       "      <th>Attr Name</th>\n",
       "      <th>Hint</th>\n",
       "      <th>Order</th>\n",
       "      <th>Primary Key</th>\n",
       "      <th>Foreign Key</th>\n",
       "      <th>Index</th>\n",
       "      <th>Default</th>\n",
       "    </tr>\n",
       "  </thead>\n",
       "  <tbody>\n",
       "    <tr>\n",
       "      <th>0</th>\n",
       "      <td>id</td>\n",
       "      <td>Integer</td>\n",
       "      <td>_id</td>\n",
       "      <td>int</td>\n",
       "      <td>(0, 4)</td>\n",
       "      <td>True</td>\n",
       "      <td>False</td>\n",
       "      <td>None</td>\n",
       "      <td>None</td>\n",
       "    </tr>\n",
       "    <tr>\n",
       "      <th>1</th>\n",
       "      <td>name</td>\n",
       "      <td>String</td>\n",
       "      <td>name</td>\n",
       "      <td>str</td>\n",
       "      <td>(inf, 0)</td>\n",
       "      <td>False</td>\n",
       "      <td>False</td>\n",
       "      <td>None</td>\n",
       "      <td>None</td>\n",
       "    </tr>\n",
       "    <tr>\n",
       "      <th>2</th>\n",
       "      <td>age</td>\n",
       "      <td>Integer</td>\n",
       "      <td>age</td>\n",
       "      <td>int</td>\n",
       "      <td>(inf, 1)</td>\n",
       "      <td>False</td>\n",
       "      <td>False</td>\n",
       "      <td>None</td>\n",
       "      <td>None</td>\n",
       "    </tr>\n",
       "    <tr>\n",
       "      <th>3</th>\n",
       "      <td>address</td>\n",
       "      <td>String</td>\n",
       "      <td>address</td>\n",
       "      <td>Address</td>\n",
       "      <td>(inf, 2)</td>\n",
       "      <td>False</td>\n",
       "      <td>False</td>\n",
       "      <td>None</td>\n",
       "      <td>None</td>\n",
       "    </tr>\n",
       "    <tr>\n",
       "      <th>4</th>\n",
       "      <td>phone</td>\n",
       "      <td>String</td>\n",
       "      <td>phone</td>\n",
       "      <td>PhoneNumber</td>\n",
       "      <td>(inf, 3)</td>\n",
       "      <td>False</td>\n",
       "      <td>False</td>\n",
       "      <td>None</td>\n",
       "      <td>None</td>\n",
       "    </tr>\n",
       "    <tr>\n",
       "      <th>5</th>\n",
       "      <td>added</td>\n",
       "      <td>DateTime</td>\n",
       "      <td>added</td>\n",
       "      <td>datetime</td>\n",
       "      <td>(inf, 5)</td>\n",
       "      <td>False</td>\n",
       "      <td>False</td>\n",
       "      <td>None</td>\n",
       "      <td>now</td>\n",
       "    </tr>\n",
       "  </tbody>\n",
       "</table>\n",
       "</div>"
      ],
      "text/plain": [
       "  Col Name  Col Type Attr Name         Hint     Order  Primary Key  \\\n",
       "0       id   Integer       _id          int    (0, 4)         True   \n",
       "1     name    String      name          str  (inf, 0)        False   \n",
       "2      age   Integer       age          int  (inf, 1)        False   \n",
       "3  address    String   address      Address  (inf, 2)        False   \n",
       "4    phone    String     phone  PhoneNumber  (inf, 3)        False   \n",
       "5    added  DateTime     added     datetime  (inf, 5)        False   \n",
       "\n",
       "   Foreign Key Index Default  \n",
       "0        False  None    None  \n",
       "1        False  None    None  \n",
       "2        False  None    None  \n",
       "3        False  None    None  \n",
       "4        False  None    None  \n",
       "5        False  None     now  "
      ]
     },
     "execution_count": 21,
     "metadata": {},
     "output_type": "execute_result"
    }
   ],
   "source": [
    "import datetime\n",
    "\n",
    "class PhoneNumber(str):\n",
    "    pass\n",
    "\n",
    "class Address(str):\n",
    "    pass\n",
    "\n",
    "@doctable.table_schema(table_name='container3')\n",
    "class Container3:\n",
    "    name: str\n",
    "    age: int = doctable.Column(field_args=doctable.FieldArgs(init_required=True))\n",
    "    address: Address = doctable.Column()\n",
    "    phone: PhoneNumber = doctable.Column()\n",
    "    \n",
    "    # this column will appear first in the database, even though this attribute is later\n",
    "    _id: int = doctable.Column(\n",
    "        column_args=doctable.ColumnArgs(\n",
    "            column_name='id', # name of the column in the db (might not want to have an attr called 'id')\n",
    "            order = 0, # affects the ordering of the columns in the db\n",
    "            primary_key=True,\n",
    "            autoincrement=True,\n",
    "        ),\n",
    "    )\n",
    "    \n",
    "    # doctable will define default and onupdate when inserting into database\n",
    "    added: datetime.datetime = doctable.Column(\n",
    "        column_args=doctable.ColumnArgs(\n",
    "            default=datetime.datetime.now, \n",
    "            onupdate=datetime.datetime.now\n",
    "        ),\n",
    "        field_args = doctable.FieldArgs(\n",
    "            repr=False, # don't show this field when printing\n",
    "        )\n",
    "    )    \n",
    "\n",
    "doctable.inspect_schema(Container3).column_info_df()"
   ]
  },
  {
   "cell_type": "markdown",
   "metadata": {},
   "source": [
    "Notice that the string representation does not show the `added` attribute, as specified via `FieldAargs(repr=False)`."
   ]
  },
  {
   "cell_type": "code",
   "execution_count": 22,
   "metadata": {},
   "outputs": [
    {
     "data": {
      "text/plain": [
       "Container3(name='Devin J. Cornell', age=30, address=MISSING, phone=MISSING, _id=MISSING)"
      ]
     },
     "execution_count": 22,
     "metadata": {},
     "output_type": "execute_result"
    }
   ],
   "source": [
    "Container3('Devin J. Cornell', 30)"
   ]
  },
  {
   "cell_type": "markdown",
   "metadata": {},
   "source": [
    "### Indices\n",
    "\n",
    "Indices may be added to a table by passing a dictionary of name, `Index` pairs to the `indices` parameter of the `table_schema` decorator. The arguments are the columns, and any additional keyword arguments may be passed after."
   ]
  },
  {
   "cell_type": "code",
   "execution_count": 23,
   "metadata": {},
   "outputs": [
    {
     "data": {
      "text/html": [
       "<div>\n",
       "<style scoped>\n",
       "    .dataframe tbody tr th:only-of-type {\n",
       "        vertical-align: middle;\n",
       "    }\n",
       "\n",
       "    .dataframe tbody tr th {\n",
       "        vertical-align: top;\n",
       "    }\n",
       "\n",
       "    .dataframe thead th {\n",
       "        text-align: right;\n",
       "    }\n",
       "</style>\n",
       "<table border=\"1\" class=\"dataframe\">\n",
       "  <thead>\n",
       "    <tr style=\"text-align: right;\">\n",
       "      <th></th>\n",
       "      <th>name</th>\n",
       "      <th>columns</th>\n",
       "      <th>kwargs</th>\n",
       "    </tr>\n",
       "  </thead>\n",
       "  <tbody>\n",
       "    <tr>\n",
       "      <th>0</th>\n",
       "      <td>ind_name</td>\n",
       "      <td>name</td>\n",
       "      <td></td>\n",
       "    </tr>\n",
       "    <tr>\n",
       "      <th>1</th>\n",
       "      <td>ind_name_age</td>\n",
       "      <td>name, age</td>\n",
       "      <td>unique: True</td>\n",
       "    </tr>\n",
       "  </tbody>\n",
       "</table>\n",
       "</div>"
      ],
      "text/plain": [
       "           name    columns        kwargs\n",
       "0      ind_name       name              \n",
       "1  ind_name_age  name, age  unique: True"
      ]
     },
     "execution_count": 23,
     "metadata": {},
     "output_type": "execute_result"
    }
   ],
   "source": [
    "@doctable.table_schema(\n",
    "    table_name='container4',\n",
    "    indices = {\n",
    "        'ind_name': doctable.Index('name'),\n",
    "        'ind_name_age': doctable.Index('name', 'age', unique=True),\n",
    "    }\n",
    ")\n",
    "class Container4:\n",
    "    name: str\n",
    "    age: int\n",
    "\n",
    "ins = doctable.inspect_schema(Container4)\n",
    "ins.index_info_df()"
   ]
  },
  {
   "cell_type": "markdown",
   "metadata": {},
   "source": [
    "### Constraints\n",
    "\n",
    "You may pass constraints through the `constraint` parameter of the `table_schema` decorator.\n",
    "\n",
    "There are several types of constraints you may want to use in your schema. The following methods are thin wrappers over the [SQLAlchemy objects of the same name](https://docs.sqlalchemy.org/en/20/core/constraints.html).\n",
    "\n",
    "| docs | Constraint | Description |\n",
    "| --- | --- | --- |\n",
    "| [link](https://docs.sqlalchemy.org/en/20/core/constraints.html#sqlalchemy.schema.ForeignKeyConstraint) | `ForeignKey(local_columns, foreign_columns, optional[onupdate], optional[ondelete])` | A foreign key constraint. |\n",
    "| [link](https://docs.sqlalchemy.org/en/20/core/constraints.html#sqlalchemy.schema.CheckConstraint) | `CheckConstraint(text, optional[Name])` | A unique constraint. |\n",
    "| [link](https://docs.sqlalchemy.org/en/20/core/constraints.html#sqlalchemy.schema.UniqueConstraint) | `UniqueConstraint(*column_names, optional[name])` | A unique constraint. |\n",
    "| [link](https://docs.sqlalchemy.org/en/20/core/constraints.html#sqlalchemy.schema.PrimaryKeyConstraint) | `PrimaryKeyConstraint(*column_names, optional[name])` | A unique constraint. |"
   ]
  },
  {
   "cell_type": "code",
   "execution_count": 24,
   "metadata": {},
   "outputs": [],
   "source": [
    "@doctable.table_schema(\n",
    "    table_name='container5',\n",
    "    constraints = [\n",
    "        #doctable.ForeignKey(..), # see multi-table schemas below\n",
    "        doctable.CheckConstraint('age >= 0', name='check_age'),\n",
    "        doctable.UniqueConstraint('age', 'name', name='unique_age_name'),\n",
    "        doctable.PrimaryKeyConstraint('id'),\n",
    "    ]\n",
    ")\n",
    "class Container5:\n",
    "    id: int # this is the primary key now\n",
    "    name: str\n",
    "    age: int"
   ]
  },
  {
   "cell_type": "markdown",
   "metadata": {},
   "source": [
    "### Column Types\n",
    "\n",
    "The column type resolution works according to the following steps:\n",
    "\n",
    "1. Check `ColumnArgs.sqlalchemy_type` and use this if it is not `None`.\n",
    "2. Check if column is foreign key - if it is, ask sqlalchemy to resolve the type\n",
    "3. Check `ColumnArgs.use_type` and use this if it is provided.\n",
    "4. Use the provided type hint to resolve the type.\n",
    "\n",
    "The valid type hints and their sqlalchemy equivalents are listed below.\n",
    "\n",
    "| Type Hint | SQLAlchemy Type |\n",
    "| --- | --- |\n",
    "| `int` | `sqlalchemy.Integer` |\n",
    "| `float` | `sqlalchemy.Float` |\n",
    "| `bool` | `sqlalchemy.Boolean` |\n",
    "| `str` | `sqlalchemy.String` |\n",
    "| `bytes` | `sqlalchemy.LargeBinary` |\n",
    "| `datetime.datetime` | `sqlalchemy.DateTime` |\n",
    "| `datetime.time` | `sqlalchemy.Time` |\n",
    "| `datetime.date` | `sqlalchemy.Date` |\n",
    "| `typing.Any` | `sqlalchemy.PickleType` |\n",
    "| `'datetime.datetime'` | `sqlalchemy.DateTime` |\n",
    "| `'datetime.time'` | `sqlalchemy.Time` |\n",
    "| `'datetime.date'` | `sqlalchemy.Date` |\n",
    "| `'Any'` | `sqlalchemy.PickleType` |\n",
    "\n",
    "You can get the mappings programatically if needed as well:"
   ]
  },
  {
   "cell_type": "code",
   "execution_count": 25,
   "metadata": {},
   "outputs": [
    {
     "data": {
      "text/plain": [
       "{int: sqlalchemy.sql.sqltypes.Integer,\n",
       " float: sqlalchemy.sql.sqltypes.Float,\n",
       " bool: sqlalchemy.sql.sqltypes.Boolean,\n",
       " str: sqlalchemy.sql.sqltypes.String,\n",
       " bytes: sqlalchemy.sql.sqltypes.LargeBinary,\n",
       " datetime.datetime: sqlalchemy.sql.sqltypes.DateTime,\n",
       " datetime.time: sqlalchemy.sql.sqltypes.Time,\n",
       " datetime.date: sqlalchemy.sql.sqltypes.Date,\n",
       " doctable.schema.column.column_types.PickleType: sqlalchemy.sql.sqltypes.PickleType,\n",
       " 'datetime.datetime': sqlalchemy.sql.sqltypes.DateTime,\n",
       " 'datetime.time': sqlalchemy.sql.sqltypes.Time,\n",
       " 'datetime.date': sqlalchemy.sql.sqltypes.Date,\n",
       " doctable.schema.column.column_types.JSON: sqlalchemy.sql.sqltypes.JSON}"
      ]
     },
     "execution_count": 25,
     "metadata": {},
     "output_type": "execute_result"
    }
   ],
   "source": [
    "doctable.type_mappings()"
   ]
  },
  {
   "cell_type": "markdown",
   "metadata": {},
   "source": [
    "#### Special Column Types\n",
    "\n",
    "There are several special column types that can be used in your schemas.\n",
    "\n",
    "| Type Hint | SQLAlchemy Type | Description |\n",
    "| --- | --- | --- |\n",
    "| `doctable.JSON` | `sqlalchemy.JSON` | Calls `json.dumps` on write, `json.loads` on read. |\n",
    "| `doctable.PickleType` | `sqlalchemy.PickleType` | Calls `pickle.dumps` on write, `pickle.loads` on read. |\n"
   ]
  },
  {
   "cell_type": "code",
   "execution_count": 26,
   "metadata": {},
   "outputs": [
    {
     "data": {
      "text/html": [
       "<div>\n",
       "<style scoped>\n",
       "    .dataframe tbody tr th:only-of-type {\n",
       "        vertical-align: middle;\n",
       "    }\n",
       "\n",
       "    .dataframe tbody tr th {\n",
       "        vertical-align: top;\n",
       "    }\n",
       "\n",
       "    .dataframe thead th {\n",
       "        text-align: right;\n",
       "    }\n",
       "</style>\n",
       "<table border=\"1\" class=\"dataframe\">\n",
       "  <thead>\n",
       "    <tr style=\"text-align: right;\">\n",
       "      <th></th>\n",
       "      <th>Col Name</th>\n",
       "      <th>Col Type</th>\n",
       "      <th>Attr Name</th>\n",
       "      <th>Hint</th>\n",
       "      <th>Order</th>\n",
       "      <th>Primary Key</th>\n",
       "      <th>Foreign Key</th>\n",
       "      <th>Index</th>\n",
       "      <th>Default</th>\n",
       "    </tr>\n",
       "  </thead>\n",
       "  <tbody>\n",
       "    <tr>\n",
       "      <th>0</th>\n",
       "      <td>name</td>\n",
       "      <td>String</td>\n",
       "      <td>name</td>\n",
       "      <td>str</td>\n",
       "      <td>(inf, 0)</td>\n",
       "      <td>False</td>\n",
       "      <td>False</td>\n",
       "      <td>None</td>\n",
       "      <td>None</td>\n",
       "    </tr>\n",
       "    <tr>\n",
       "      <th>1</th>\n",
       "      <td>other_info</td>\n",
       "      <td>JSON</td>\n",
       "      <td>other_info</td>\n",
       "      <td>Dict</td>\n",
       "      <td>(inf, 1)</td>\n",
       "      <td>False</td>\n",
       "      <td>False</td>\n",
       "      <td>None</td>\n",
       "      <td>None</td>\n",
       "    </tr>\n",
       "    <tr>\n",
       "      <th>2</th>\n",
       "      <td>address</td>\n",
       "      <td>PickleType</td>\n",
       "      <td>address</td>\n",
       "      <td>Address</td>\n",
       "      <td>(inf, 2)</td>\n",
       "      <td>False</td>\n",
       "      <td>False</td>\n",
       "      <td>None</td>\n",
       "      <td>None</td>\n",
       "    </tr>\n",
       "  </tbody>\n",
       "</table>\n",
       "</div>"
      ],
      "text/plain": [
       "     Col Name    Col Type   Attr Name     Hint     Order  Primary Key  \\\n",
       "0        name      String        name      str  (inf, 0)        False   \n",
       "1  other_info        JSON  other_info     Dict  (inf, 1)        False   \n",
       "2     address  PickleType     address  Address  (inf, 2)        False   \n",
       "\n",
       "   Foreign Key Index Default  \n",
       "0        False  None    None  \n",
       "1        False  None    None  \n",
       "2        False  None    None  "
      ]
     },
     "execution_count": 26,
     "metadata": {},
     "output_type": "execute_result"
    }
   ],
   "source": [
    "import dataclasses\n",
    "import typing\n",
    "\n",
    "@dataclasses.dataclass\n",
    "class Address:\n",
    "    street: str\n",
    "    city: str\n",
    "    state: str\n",
    "    zip: str\n",
    "\n",
    "@doctable.table_schema\n",
    "class Container6:\n",
    "    name: str\n",
    "    \n",
    "    # NOTE: will be serialized as a JSON string in the database\n",
    "    # notice how we can use a more accurate type hint and still specify\n",
    "    # the column type using use_type\n",
    "    other_info: typing.Dict[str, typing.Union[str,int,float]] = doctable.Column(\n",
    "        column_args=doctable.ColumnArgs(\n",
    "            use_type=doctable.JSON,\n",
    "        ),\n",
    "        field_args=doctable.FieldArgs(default_factory=dict),\n",
    "    )\n",
    "    \n",
    "    # NOTE: will be pickled in the database\n",
    "    address: Address = doctable.Column(\n",
    "        column_args=doctable.ColumnArgs(\n",
    "            use_type=doctable.PickleType,\n",
    "        )\n",
    "    )\n",
    "    \n",
    "doctable.inspect_schema(Container6).column_info_df()"
   ]
  },
  {
   "cell_type": "markdown",
   "metadata": {},
   "source": [
    "Now create a new container object that contains an address for insertion."
   ]
  },
  {
   "cell_type": "code",
   "execution_count": 27,
   "metadata": {},
   "outputs": [
    {
     "data": {
      "text/plain": [
       "Container6(name='Devin J. Cornell', other_info={'favorite_color': 'blue'}, address=Address(street='123 Main St.', city='San Francisco', state='CA', zip='94122'))"
      ]
     },
     "execution_count": 27,
     "metadata": {},
     "output_type": "execute_result"
    }
   ],
   "source": [
    "new_obj = Container6(\n",
    "    name = 'Devin J. Cornell', \n",
    "    other_info = {'favorite_color': 'blue'},\n",
    "    address = Address('123 Main St.', 'San Francisco', 'CA', '94122'), \n",
    ")\n",
    "new_obj"
   ]
  },
  {
   "cell_type": "markdown",
   "metadata": {},
   "source": [
    "Now we open a new database, insert the row, and query it back - you can see that the dict data was converted to json and back again, and the address was converted to pickle data and back again."
   ]
  },
  {
   "cell_type": "code",
   "execution_count": 28,
   "metadata": {},
   "outputs": [
    {
     "data": {
      "text/plain": [
       "('Devin J. Cornell', {'favorite_color': 'blue'}, Address(street='123 Main St.', city='San Francisco', state='CA', zip='94122'))"
      ]
     },
     "execution_count": 28,
     "metadata": {},
     "output_type": "execute_result"
    }
   ],
   "source": [
    "core = doctable.ConnectCore.open(':memory:', 'sqlite')\n",
    "with core.begin_ddl() as ddl:\n",
    "    tab = ddl.create_table(Container6)\n",
    "\n",
    "with tab.query() as q:\n",
    "    q.insert_single(new_obj)\n",
    "\n",
    "with core.query() as q:\n",
    "    result = q.select(tab.all_cols())\n",
    "result.first()"
   ]
  },
  {
   "cell_type": "markdown",
   "metadata": {},
   "source": [
    "## Multi-table Schemas\n",
    "\n",
    "The example below shows two linked tables: one for colors, and the other for people. Each person has a favorite color that is constrained by a foriegn key to the colors table. The colors table also has a unique constraint on the color name. I demonstrate use of the `Column` function to describe behavior of columns - specifically the use of `ColumnArgs` to specify additional column features that are not conveyed through type annotations or attribute names. I also show use of the `Index` object for creating indexes, the `UniqueConstraint` object for creating unique constraints, and the `ForeignKey` object for creating foreign key constraints. \n",
    "\n",
    "Note that the container object representing the database schema is also a usable `dataclass` that can used like any other container object. In fact, tables created according to this schema can insert these objects directly and will wrap return values issued via select queries."
   ]
  },
  {
   "cell_type": "code",
   "execution_count": 29,
   "metadata": {},
   "outputs": [
    {
     "name": "stdout",
     "output_type": "stream",
     "text": [
      "id: INTEGER\n",
      "name: VARCHAR\n",
      "address: VARCHAR\n",
      "birthday: DATETIME\n",
      "fav_color: VARCHAR\n",
      "added: DATETIME\n"
     ]
    }
   ],
   "source": [
    "import datetime\n",
    "\n",
    "@doctable.table_schema(\n",
    "    table_name='color',\n",
    "    constraints = [\n",
    "        doctable.UniqueConstraint('name'),\n",
    "    ]\n",
    ")\n",
    "class Color:\n",
    "    name: str\n",
    "    id: int = doctable.Column(\n",
    "        column_args=doctable.ColumnArgs(\n",
    "            primary_key=True,\n",
    "            autoincrement=True,\n",
    "        )\n",
    "    )\n",
    "\n",
    "# lets say we use this instead of an int\n",
    "class PersonID(int):\n",
    "    pass\n",
    "\n",
    "# add table-level parameters to this decorator\n",
    "@doctable.table_schema(\n",
    "    table_name='person',\n",
    "    indices = {\n",
    "        'ind_name_birthday': doctable.Index('name', 'birthday', unique=True),\n",
    "    },\n",
    "    constraints = [ # these constraints are set on the database\n",
    "        doctable.CheckConstraint('length(address) > 0'), # cannot have a blank address\n",
    "        doctable.UniqueConstraint('birthday', 'fav_color'),\n",
    "        doctable.ForeignKey(['fav_color'], ['color.name'], onupdate='CASCADE', ondelete='CASCADE'),\n",
    "    ],\n",
    "    frozen = True, # parameter passed to dataclasses.dataclass\n",
    ")\n",
    "class Person:\n",
    "    name: str\n",
    "    \n",
    "    # default value will be \"not provided\" - good standardization\n",
    "    address: str = doctable.Column(\n",
    "        column_args=doctable.ColumnArgs(\n",
    "            server_default='not provided',\n",
    "        )\n",
    "    )\n",
    "    \n",
    "    # provided as datetime, set to be indexed\n",
    "    birthday: datetime.datetime = doctable.Column(\n",
    "        column_args=doctable.ColumnArgs(\n",
    "            index = True,\n",
    "        )\n",
    "    )\n",
    "    \n",
    "    # note that this has a foreign key constraint above\n",
    "    fav_color: str = doctable.Column(\n",
    "        column_args=doctable.ColumnArgs(\n",
    "            nullable=False,\n",
    "        )\n",
    "    )\n",
    "    \n",
    "    id: PersonID = doctable.Column( # standard id column\n",
    "        column_args=doctable.ColumnArgs(\n",
    "            order=0, # will be the first column\n",
    "            primary_key=True,\n",
    "            autoincrement=True\n",
    "        ),\n",
    "    )\n",
    "    \n",
    "    # doctable will define default and onupdate when inserting into database\n",
    "    added: datetime.datetime = doctable.Column(\n",
    "        column_args=doctable.ColumnArgs(\n",
    "            index=True,\n",
    "            default=datetime.datetime.utcnow, \n",
    "            onupdate=datetime.datetime.utcnow\n",
    "        )\n",
    "    )\n",
    "    \n",
    "    # this property will not be stored in the database \n",
    "    #   - it acts like any other property\n",
    "    @property\n",
    "    def age(self):\n",
    "        return datetime.datetime.now() - self.birthday\n",
    "    \n",
    "    \n",
    "core = doctable.ConnectCore.open(\n",
    "    target=':memory:', \n",
    "    dialect='sqlite'\n",
    ")\n",
    "# NOTE: weird error when trying to run this twice after defining containers\n",
    "with core.begin_ddl() as emitter:\n",
    "    core.enable_foreign_keys() # NOTE: NEEDED TO ENABLE FOREIGN KEYS\n",
    "    color_tab = emitter.create_table_if_not_exists(container_type=Color)\n",
    "    person_tab = emitter.create_table_if_not_exists(container_type=Person)\n",
    "for col_info in person_tab.inspect_columns():\n",
    "    print(f'{col_info[\"name\"]}: {col_info[\"type\"]}')"
   ]
  },
  {
   "cell_type": "markdown",
   "metadata": {},
   "source": [
    "Insertion into the color table is fairly straightforward."
   ]
  },
  {
   "cell_type": "code",
   "execution_count": 30,
   "metadata": {},
   "outputs": [
    {
     "name": "stdout",
     "output_type": "stream",
     "text": [
      "Color(name='red', id=1)\n",
      "Color(name='green', id=2)\n",
      "Color(name='blue', id=3)\n"
     ]
    }
   ],
   "source": [
    "color_names = ['red', 'green', 'blue']\n",
    "colors = [Color(name=name) for name in color_names]\n",
    "with color_tab.query() as q:\n",
    "    q.insert_multi(colors)\n",
    "    for c in q.select():\n",
    "        print(c)\n",
    "    #print(q.select())"
   ]
  },
  {
   "cell_type": "markdown",
   "metadata": {},
   "source": [
    "Insertion into the person table is similar, and note that we see an exception if we try to insert a person with a favorite color that is not in the color table."
   ]
  },
  {
   "cell_type": "code",
   "execution_count": 31,
   "metadata": {},
   "outputs": [
    {
     "name": "stdout",
     "output_type": "stream",
     "text": [
      "successfully threw exception: (sqlite3.IntegrityError) FOREIGN KEY constraint failed\n",
      "[SQL: INSERT OR REPLACE INTO person (name, address, birthday, fav_color, added) VALUES (?, ?, ?, ?, ?)]\n",
      "[parameters: ('Bob', '123 Main St', '1990-01-01 00:00:00.000000', 'other', '2023-11-14 22:17:40.402308')]\n",
      "(Background on this error at: https://sqlalche.me/e/20/gkpj)\n",
      "John (red): 33 y/o\n",
      "Sue (green): 32 y/o\n",
      "Ren (blue): 28 y/o\n"
     ]
    }
   ],
   "source": [
    "persons = [\n",
    "    Person(name='John', birthday=datetime.datetime(1990, 1, 1), fav_color='red'),\n",
    "    Person(name='Sue', birthday=datetime.datetime(1991, 1, 1), fav_color='green'),\n",
    "    Person(name='Ren', birthday=datetime.datetime(1995, 1, 1), fav_color='blue'),\n",
    "]\n",
    "other_person = Person(\n",
    "    name='Bob', \n",
    "    address='123 Main St', \n",
    "    birthday=datetime.datetime(1990, 1, 1), \n",
    "    fav_color='other', # NOTE: THIS WILL CAUSE AN ERROR (NOT IN COLOR TABLE)\n",
    ")\n",
    "\n",
    "import sqlalchemy.exc\n",
    "\n",
    "sec_in_one_year = 24*60*60*365\n",
    "with person_tab.query() as q:\n",
    "    q.insert_multi(persons, ifnotunique='replace')\n",
    "    \n",
    "    try:\n",
    "        q.insert_single(other_person, ifnotunique='replace')\n",
    "        print(f'THIS SHOULD NOT APPEAR')\n",
    "    except sqlalchemy.exc.IntegrityError as e:\n",
    "        print(f'successfully threw exception: {e}')\n",
    "    \n",
    "    for p in q.select():\n",
    "        print(f'{p.name} ({p.fav_color}): {p.age.total_seconds()//sec_in_one_year:0.0f} y/o')"
   ]
  },
  {
   "cell_type": "markdown",
   "metadata": {},
   "source": [
    "The foreign key works as expected because we set `onupdate`: changing that value in the parent table will update the value in the child table."
   ]
  },
  {
   "cell_type": "code",
   "execution_count": 32,
   "metadata": {},
   "outputs": [
    {
     "name": "stdout",
     "output_type": "stream",
     "text": [
      "Color(name='reddish', id=1)\n",
      "Color(name='green', id=2)\n",
      "Color(name='blue', id=3)\n",
      "John (reddish): 33 y/o\n",
      "Sue (green): 32 y/o\n",
      "Ren (blue): 28 y/o\n"
     ]
    }
   ],
   "source": [
    "with color_tab.query() as q:\n",
    "    q.update_single(dict(name='reddish'), where=color_tab['name']=='red')\n",
    "    for c in q.select():\n",
    "        print(c)\n",
    "        \n",
    "with person_tab.query() as q:\n",
    "    for p in q.select():\n",
    "        print(f'{p.name} ({p.fav_color}): {p.age.total_seconds()//sec_in_one_year:0.0f} y/o')"
   ]
  }
 ],
 "metadata": {
  "kernelspec": {
   "display_name": "Python 3 (ipykernel)",
   "language": "python",
   "name": "python3"
  },
  "language_info": {
   "codemirror_mode": {
    "name": "ipython",
    "version": 3
   },
   "file_extension": ".py",
   "mimetype": "text/x-python",
   "name": "python",
   "nbconvert_exporter": "python",
   "pygments_lexer": "ipython3",
   "version": "3.11.5"
  }
 },
 "nbformat": 4,
 "nbformat_minor": 2
}
