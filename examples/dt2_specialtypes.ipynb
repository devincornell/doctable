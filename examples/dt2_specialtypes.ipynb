{
 "cells": [
  {
   "cell_type": "code",
   "execution_count": 1,
   "metadata": {},
   "outputs": [],
   "source": [
    "import random\n",
    "import pandas as pd\n",
    "import numpy as np\n",
    "from pprint import pprint\n",
    "import sys\n",
    "sys.path.append('..')\n",
    "import doctable as dt"
   ]
  },
  {
   "cell_type": "markdown",
   "metadata": {},
   "source": [
    "## ```tokens``` and ```subdocs``` Custom Types\n",
    "\n",
    "```tokens``` is used to store a sequence of tokens and ```subdocs``` is used to store a sequence of a sequence of tokens (think list of tokenized sentences). Simply specify these columns as their appropriate type and it will automatically convert these tokenized objects to formatted strings for database storage."
   ]
  },
  {
   "cell_type": "code",
   "execution_count": 2,
   "metadata": {},
   "outputs": [
    {
     "name": "stdout",
     "output_type": "stream",
     "text": [
      "<DocTable2::_documents_ ct: 0>\n"
     ]
    }
   ],
   "source": [
    "schema = (\n",
    "    ('id','integer',dict(primary_key=True, autoincrement=True)),\n",
    "    ('title','string', dict(nullable=False, unique=True)),\n",
    "    ('bag_of_words','tokens'),\n",
    "    ('tokenized_sentences', 'subdocs'),\n",
    ")\n",
    "db = dt.DocTable2(schema)\n",
    "print(db)"
   ]
  },
  {
   "cell_type": "code",
   "execution_count": 3,
   "metadata": {},
   "outputs": [
    {
     "data": {
      "text/plain": [
       "[('Happy sentence', ['this', 'is', 'the', 'happiest', 'day', 'of', 'my', 'life', '.'])]"
      ]
     },
     "execution_count": 3,
     "metadata": {},
     "output_type": "execute_result"
    }
   ],
   "source": [
    "tokens = ['this', 'is', 'the', 'happiest', 'day', 'of', 'my', 'life', '.']\n",
    "db.insert({'title':'Happy sentence', 'bag_of_words':tokens})\n",
    "db.select(['title','bag_of_words'])"
   ]
  },
  {
   "cell_type": "markdown",
   "metadata": {},
   "source": [
    "Under the hood, DocTable2 stores a ```tokens``` column as a set of strings separated by newlines. This is more efficient than storing a pickled list or other sequence because large files can compress text data efficiently."
   ]
  },
  {
   "cell_type": "code",
   "execution_count": 4,
   "metadata": {},
   "outputs": [
    {
     "name": "stdout",
     "output_type": "stream",
     "text": [
      "Happy sentence\n",
      "None\n",
      "\n",
      "Happy sentences\n",
      "[['i', 'am', 'happy', '.'],\n",
      " ['the', 'sky', 'is', 'blue', '.'],\n",
      " ['sun', 'is', 'shining', '.'],\n",
      " ['what', 'more', 'can', 'i', 'ask', 'for', '?']]\n",
      "\n"
     ]
    }
   ],
   "source": [
    "sentences = (\n",
    "    ('i', 'am', 'happy','.'),\n",
    "    ('the','sky','is','blue','.'),\n",
    "    ('sun', 'is', 'shining','.'),\n",
    "    ('what', 'more', 'can', 'i', 'ask', 'for', '?'),\n",
    ")\n",
    "\n",
    "db.insert({'title':'Happy sentences', 'tokenized_sentences':sentences})\n",
    "for title,sents in db.select(['title','tokenized_sentences']):\n",
    "    print(title)\n",
    "    pprint(sents)\n",
    "    print()"
   ]
  },
  {
   "cell_type": "code",
   "execution_count": 5,
   "metadata": {},
   "outputs": [
    {
     "data": {
      "text/html": [
       "<div>\n",
       "<style scoped>\n",
       "    .dataframe tbody tr th:only-of-type {\n",
       "        vertical-align: middle;\n",
       "    }\n",
       "\n",
       "    .dataframe tbody tr th {\n",
       "        vertical-align: top;\n",
       "    }\n",
       "\n",
       "    .dataframe thead th {\n",
       "        text-align: right;\n",
       "    }\n",
       "</style>\n",
       "<table border=\"1\" class=\"dataframe\">\n",
       "  <thead>\n",
       "    <tr style=\"text-align: right;\">\n",
       "      <th></th>\n",
       "      <th>id</th>\n",
       "      <th>title</th>\n",
       "      <th>bag_of_words</th>\n",
       "      <th>tokenized_sentences</th>\n",
       "    </tr>\n",
       "  </thead>\n",
       "  <tbody>\n",
       "    <tr>\n",
       "      <td>0</td>\n",
       "      <td>1</td>\n",
       "      <td>Happy sentence</td>\n",
       "      <td>[this, is, the, happiest, day, of, my, life, .]</td>\n",
       "      <td>None</td>\n",
       "    </tr>\n",
       "    <tr>\n",
       "      <td>1</td>\n",
       "      <td>2</td>\n",
       "      <td>Happy sentences</td>\n",
       "      <td>None</td>\n",
       "      <td>[[i, am, happy, .], [the, sky, is, blue, .], [...</td>\n",
       "    </tr>\n",
       "  </tbody>\n",
       "</table>\n",
       "</div>"
      ],
      "text/plain": [
       "   id            title                                     bag_of_words  \\\n",
       "0   1   Happy sentence  [this, is, the, happiest, day, of, my, life, .]   \n",
       "1   2  Happy sentences                                             None   \n",
       "\n",
       "                                 tokenized_sentences  \n",
       "0                                               None  \n",
       "1  [[i, am, happy, .], [the, sky, is, blue, .], [...  "
      ]
     },
     "execution_count": 5,
     "metadata": {},
     "output_type": "execute_result"
    }
   ],
   "source": [
    "db.select_df()"
   ]
  }
 ],
 "metadata": {
  "kernelspec": {
   "display_name": "Python 3",
   "language": "python",
   "name": "python3"
  },
  "language_info": {
   "codemirror_mode": {
    "name": "ipython",
    "version": 3
   },
   "file_extension": ".py",
   "mimetype": "text/x-python",
   "name": "python",
   "nbconvert_exporter": "python",
   "pygments_lexer": "ipython3",
   "version": "3.6.9"
  }
 },
 "nbformat": 4,
 "nbformat_minor": 4
}
