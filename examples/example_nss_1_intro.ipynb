{
 "cells": [
  {
   "cell_type": "markdown",
   "source": [
    "# Vignette 1: Storing Document Metadata\n",
    "In this example, I'll show how to create and manipulate two linked tables for storing document metadata using [US National Security Strategy document](https://github.com/devincornell/nssdocs) metadata as an example. \n",
    "\n",
    "These are the vignettes I have created:\n",
    "\n",
    "+ [1: Storing Document Metadata](example_nss_1_intro.html)\n",
    "\n",
    "+ [2: Storing Document Text](example_nss_2_parsing.html)\n",
    "\n",
    "+ [3: Storing Parsed Documents](example_nss_3_parsetrees.html)"
   ],
   "metadata": {}
  },
  {
   "cell_type": "code",
   "execution_count": 1,
   "source": [
    "import sys\n",
    "sys.path.append('..')\n",
    "import doctable\n",
    "import spacy\n",
    "from tqdm import tqdm\n",
    "import pandas as pd\n",
    "import os\n",
    "from pprint import pprint\n",
    "import urllib.request # used for downloading nss docs\n",
    "\n",
    "# automatically clean up temp folder after python ends\n",
    "tmpfolder = doctable.TempFolder('tmp')"
   ],
   "outputs": [],
   "metadata": {}
  },
  {
   "cell_type": "markdown",
   "source": [
    "## Introduction to NSS Corpus\n",
    "This dataset is the plain text version of the US National Security Strategy documents. I compiled the metadata you see below from [a page hosted by the historical dept of the secretary's office](https://history.defense.gov/Historical-Sources/National-Security-Strategy/). In short, each US President must release at least one NSS per term, up to one per-year. This is the metadata we will be inserting into the table:"
   ],
   "metadata": {}
  },
  {
   "cell_type": "code",
   "execution_count": 2,
   "source": [
    "# information about each NSS document\n",
    "document_metadata = [\n",
    "    {'year': 2000, 'party': 'D', 'president': 'Clinton'},\n",
    "    {'year': 2002, 'party': 'R', 'president': 'W. Bush'}, \n",
    "    {'year': 2006, 'party': 'R', 'president': 'W. Bush'}, \n",
    "    {'year': 2010, 'party': 'D', 'president': 'Obama'}, \n",
    "    {'year': 2015, 'party': 'D', 'president': 'Obama'}, \n",
    "    {'year': 2017, 'party': 'R', 'president': 'Trump'}, \n",
    "]"
   ],
   "outputs": [],
   "metadata": {}
  },
  {
   "cell_type": "markdown",
   "source": [
    "## Create database schemas\n",
    "\n",
    "The first step will be to define a database schema that is appropriate for the data in `document_metadata`. We define an `NSSDoc` class to represent a single document. The `doctable.schema` decorator will convert the row objects into [`dataclasses`](https://realpython.com/python-data-classes/) with [slots](https://docs.python.org/3/reference/datamodel.html#slots) enabled, and inherit from doctable.DocTableRow to add some additional functionality. The type hints associated with each variable will be used in the schema definition for the new tables, and arguments to `doctable.Col` will mostly be passed to `dataclasses.field` (see [docs](https://doctable.org/ref/doctable/schemas/field_columns.html#Col) for more detail), so all dataclass functionality is maintained.\n",
    "\n",
    "Also note that a method called `.is_old()` was defined. This method will not be included in a database schema, but I'll show later how it can be useful."
   ],
   "metadata": {}
  },
  {
   "cell_type": "code",
   "execution_count": 3,
   "source": [
    "# to be used as a database row representing a single NSS document\n",
    "@doctable.schema\n",
    "class NSSDoc:\n",
    "    __slots__ = [] # include so that doctable.schema can create a slot class\n",
    "    \n",
    "    id: int = doctable.Col(primary_key=True, autoincrement=True) # can also use doctable.IDCol() as a shortcut\n",
    "    year: int =  None\n",
    "    party: str = None\n",
    "    president: str = None\n",
    "        \n",
    "    def is_old(self):\n",
    "        '''Return whether the document is old or not.'''\n",
    "        return self.year < 2010"
   ],
   "outputs": [],
   "metadata": {}
  },
  {
   "cell_type": "markdown",
   "source": [
    "We can see that these are regular dataclass methods because their constructors are defined. Note that the dataclass defaults the values to None, so take note of this when inserting or retrieving from a database."
   ],
   "metadata": {}
  },
  {
   "cell_type": "code",
   "execution_count": 4,
   "source": [
    "NSSDoc(year=1999)"
   ],
   "outputs": [
    {
     "output_type": "execute_result",
     "data": {
      "text/plain": [
       "NSSDoc(year=1999, party=None, president=None)"
      ]
     },
     "metadata": {},
     "execution_count": 4
    }
   ],
   "metadata": {}
  },
  {
   "cell_type": "markdown",
   "source": [
    "And we will also likely want to create a class that inherits from `DocTable` to statically define the table name, schema object, and any indices or constraints that should be associated with our table. We set the table name and the schema definition class using the reserved member variables `_tabname_` and `_schema_`, respectively. Note that the `NSSDoc` class is provided as the schema.\n",
    "\n",
    "We also can use this definition to create indices and constraints using the `_indices_` and `_constraints_` member variables. The indices are provided as name->columns pairs, and the constraints are tuples of the form `(constraint_type, constraint_details)`. In this case, we limit the values for `check` to R or D."
   ],
   "metadata": {}
  },
  {
   "cell_type": "code",
   "execution_count": 5,
   "source": [
    "class NSSDocTable(doctable.DocTable):\n",
    "    _tabname_ = 'nss_documents'\n",
    "    _schema_ = NSSDoc\n",
    "    _indices_ = (\n",
    "        doctable.Index('party_index', 'party'),\n",
    "    )\n",
    "    _constraints_ = (\n",
    "        doctable.Constraint('check', 'party in (\"R\", \"D\")'), # party can only take on values R or D.\n",
    "    )"
   ],
   "outputs": [],
   "metadata": {}
  },
  {
   "cell_type": "markdown",
   "source": [
    "And then we create an instance of the `NSSDocTable` table using `DocTable`\\'s default constructor. We set `target='tmp/nss_1.db'` to indicate we want to access an sqlite database at that path. We also use the `new_db=True` to indicate that the database does not exist, so we should create a new one."
   ],
   "metadata": {}
  },
  {
   "cell_type": "code",
   "execution_count": 6,
   "source": [
    "fname = 'tmp/nss_1.db'\n",
    "\n",
    "# clean up any old databases\n",
    "try:\n",
    "    os.remove(fname)\n",
    "except:\n",
    "    pass\n",
    "\n",
    "docs_table = NSSDocTable(target=fname, new_db=True)\n",
    "docs_table"
   ],
   "outputs": [
    {
     "output_type": "execute_result",
     "data": {
      "text/plain": [
       "<__main__.NSSDocTable at 0x7f35a8272fa0>"
      ]
     },
     "metadata": {},
     "execution_count": 6
    }
   ],
   "metadata": {}
  },
  {
   "cell_type": "markdown",
   "source": [
    "We can use `.schema_table()` to see information about the database schema. Note that doctable inferred column types based on the type hints."
   ],
   "metadata": {}
  },
  {
   "cell_type": "code",
   "execution_count": 7,
   "source": [
    "docs_table.schema_table()"
   ],
   "outputs": [
    {
     "output_type": "execute_result",
     "data": {
      "text/plain": [
       "        name     type  nullable default autoincrement  primary_key\n",
       "0         id  INTEGER     False    None          auto            1\n",
       "1       year  INTEGER      True    None          auto            0\n",
       "2      party  VARCHAR      True    None          auto            0\n",
       "3  president  VARCHAR      True    None          auto            0"
      ],
      "text/html": [
       "<div>\n",
       "<style scoped>\n",
       "    .dataframe tbody tr th:only-of-type {\n",
       "        vertical-align: middle;\n",
       "    }\n",
       "\n",
       "    .dataframe tbody tr th {\n",
       "        vertical-align: top;\n",
       "    }\n",
       "\n",
       "    .dataframe thead th {\n",
       "        text-align: right;\n",
       "    }\n",
       "</style>\n",
       "<table border=\"1\" class=\"dataframe\">\n",
       "  <thead>\n",
       "    <tr style=\"text-align: right;\">\n",
       "      <th></th>\n",
       "      <th>name</th>\n",
       "      <th>type</th>\n",
       "      <th>nullable</th>\n",
       "      <th>default</th>\n",
       "      <th>autoincrement</th>\n",
       "      <th>primary_key</th>\n",
       "    </tr>\n",
       "  </thead>\n",
       "  <tbody>\n",
       "    <tr>\n",
       "      <th>0</th>\n",
       "      <td>id</td>\n",
       "      <td>INTEGER</td>\n",
       "      <td>False</td>\n",
       "      <td>None</td>\n",
       "      <td>auto</td>\n",
       "      <td>1</td>\n",
       "    </tr>\n",
       "    <tr>\n",
       "      <th>1</th>\n",
       "      <td>year</td>\n",
       "      <td>INTEGER</td>\n",
       "      <td>True</td>\n",
       "      <td>None</td>\n",
       "      <td>auto</td>\n",
       "      <td>0</td>\n",
       "    </tr>\n",
       "    <tr>\n",
       "      <th>2</th>\n",
       "      <td>party</td>\n",
       "      <td>VARCHAR</td>\n",
       "      <td>True</td>\n",
       "      <td>None</td>\n",
       "      <td>auto</td>\n",
       "      <td>0</td>\n",
       "    </tr>\n",
       "    <tr>\n",
       "      <th>3</th>\n",
       "      <td>president</td>\n",
       "      <td>VARCHAR</td>\n",
       "      <td>True</td>\n",
       "      <td>None</td>\n",
       "      <td>auto</td>\n",
       "      <td>0</td>\n",
       "    </tr>\n",
       "  </tbody>\n",
       "</table>\n",
       "</div>"
      ]
     },
     "metadata": {},
     "execution_count": 7
    }
   ],
   "metadata": {}
  },
  {
   "cell_type": "markdown",
   "source": [
    "We are now ready to insert data into the new table. We simply add each document as a dictionary, and show the first `n` rows using `.head()`."
   ],
   "metadata": {}
  },
  {
   "cell_type": "code",
   "execution_count": 8,
   "source": [
    "docs_table.delete() # remove old entries if needed\n",
    "for doc in document_metadata:\n",
    "    print(doc)\n",
    "    docs_table.insert(doc)\n",
    "docs_table.head()"
   ],
   "outputs": [
    {
     "output_type": "stream",
     "name": "stdout",
     "text": [
      "{'year': 2000, 'party': 'D', 'president': 'Clinton'}\n",
      "{'year': 2002, 'party': 'R', 'president': 'W. Bush'}\n",
      "{'year': 2006, 'party': 'R', 'president': 'W. Bush'}\n",
      "{'year': 2010, 'party': 'D', 'president': 'Obama'}\n",
      "{'year': 2015, 'party': 'D', 'president': 'Obama'}\n",
      "{'year': 2017, 'party': 'R', 'president': 'Trump'}\n"
     ]
    },
    {
     "output_type": "execute_result",
     "data": {
      "text/plain": [
       "   id  year party president\n",
       "0   1  2000     D   Clinton\n",
       "1   2  2002     R   W. Bush\n",
       "2   3  2006     R   W. Bush\n",
       "3   4  2010     D     Obama\n",
       "4   5  2015     D     Obama"
      ],
      "text/html": [
       "<div>\n",
       "<style scoped>\n",
       "    .dataframe tbody tr th:only-of-type {\n",
       "        vertical-align: middle;\n",
       "    }\n",
       "\n",
       "    .dataframe tbody tr th {\n",
       "        vertical-align: top;\n",
       "    }\n",
       "\n",
       "    .dataframe thead th {\n",
       "        text-align: right;\n",
       "    }\n",
       "</style>\n",
       "<table border=\"1\" class=\"dataframe\">\n",
       "  <thead>\n",
       "    <tr style=\"text-align: right;\">\n",
       "      <th></th>\n",
       "      <th>id</th>\n",
       "      <th>year</th>\n",
       "      <th>party</th>\n",
       "      <th>president</th>\n",
       "    </tr>\n",
       "  </thead>\n",
       "  <tbody>\n",
       "    <tr>\n",
       "      <th>0</th>\n",
       "      <td>1</td>\n",
       "      <td>2000</td>\n",
       "      <td>D</td>\n",
       "      <td>Clinton</td>\n",
       "    </tr>\n",
       "    <tr>\n",
       "      <th>1</th>\n",
       "      <td>2</td>\n",
       "      <td>2002</td>\n",
       "      <td>R</td>\n",
       "      <td>W. Bush</td>\n",
       "    </tr>\n",
       "    <tr>\n",
       "      <th>2</th>\n",
       "      <td>3</td>\n",
       "      <td>2006</td>\n",
       "      <td>R</td>\n",
       "      <td>W. Bush</td>\n",
       "    </tr>\n",
       "    <tr>\n",
       "      <th>3</th>\n",
       "      <td>4</td>\n",
       "      <td>2010</td>\n",
       "      <td>D</td>\n",
       "      <td>Obama</td>\n",
       "    </tr>\n",
       "    <tr>\n",
       "      <th>4</th>\n",
       "      <td>5</td>\n",
       "      <td>2015</td>\n",
       "      <td>D</td>\n",
       "      <td>Obama</td>\n",
       "    </tr>\n",
       "  </tbody>\n",
       "</table>\n",
       "</div>"
      ]
     },
     "metadata": {},
     "execution_count": 8
    }
   ],
   "metadata": {}
  },
  {
   "cell_type": "markdown",
   "source": [
    "We can verify that the constraint was defined by attempting to insert a row with an unknown party code."
   ],
   "metadata": {}
  },
  {
   "cell_type": "code",
   "execution_count": 9,
   "source": [
    "import sqlalchemy\n",
    "try:\n",
    "    docs_table.insert({'party':'whateva'})\n",
    "except sqlalchemy.exc.IntegrityError as e:\n",
    "    print(e)"
   ],
   "outputs": [
    {
     "output_type": "stream",
     "name": "stdout",
     "text": [
      "(sqlite3.IntegrityError) CHECK constraint failed: nss_documents\n",
      "[SQL: INSERT OR FAIL INTO nss_documents (party) VALUES (?)]\n",
      "[parameters: ('whateva',)]\n",
      "(Background on this error at: http://sqlalche.me/e/13/gkpj)\n"
     ]
    }
   ],
   "metadata": {}
  },
  {
   "cell_type": "markdown",
   "source": [
    "And we can use all the expected select (see [docs](examples/doctable_select.html)) methods."
   ],
   "metadata": {}
  },
  {
   "cell_type": "code",
   "execution_count": 10,
   "source": [
    "democrats = docs_table.select(where=docs_table['party']=='D')\n",
    "democrats"
   ],
   "outputs": [
    {
     "output_type": "execute_result",
     "data": {
      "text/plain": [
       "[NSSDoc(id=1, year=2000, party='D', president='Clinton'),\n",
       " NSSDoc(id=4, year=2010, party='D', president='Obama'),\n",
       " NSSDoc(id=5, year=2015, party='D', president='Obama')]"
      ]
     },
     "metadata": {},
     "execution_count": 10
    }
   ],
   "metadata": {}
  },
  {
   "cell_type": "code",
   "execution_count": 11,
   "source": [
    "clinton_doc = docs_table.select_first(where=docs_table['president']=='Clinton')\n",
    "clinton_doc"
   ],
   "outputs": [
    {
     "output_type": "execute_result",
     "data": {
      "text/plain": [
       "NSSDoc(id=1, year=2000, party='D', president='Clinton')"
      ]
     },
     "metadata": {},
     "execution_count": 11
    }
   ],
   "metadata": {}
  },
  {
   "cell_type": "markdown",
   "source": [
    "Along with the methods we defined on the schema objects."
   ],
   "metadata": {}
  },
  {
   "cell_type": "code",
   "execution_count": 12,
   "source": [
    "clinton_doc.is_old()"
   ],
   "outputs": [
    {
     "output_type": "execute_result",
     "data": {
      "text/plain": [
       "True"
      ]
     },
     "metadata": {},
     "execution_count": 12
    }
   ],
   "metadata": {}
  },
  {
   "cell_type": "markdown",
   "source": [
    "## Adding political party data\n",
    "\n",
    "Of course, relational database schemas often involve the use of more than one linked table. Now we'll attempt to integrate the data in `party_metadata` into our schema."
   ],
   "metadata": {}
  },
  {
   "cell_type": "code",
   "execution_count": 13,
   "source": [
    "# full name of party (we will use later)\n",
    "party_metadata = [\n",
    "    {'code': 'R', 'name': 'Republican'},\n",
    "    {'code': 'D', 'name': 'Democrat'},\n",
    "]"
   ],
   "outputs": [],
   "metadata": {}
  },
  {
   "cell_type": "markdown",
   "source": [
    "First, we create the `Party` dataclass just as before."
   ],
   "metadata": {}
  },
  {
   "cell_type": "code",
   "execution_count": 14,
   "source": [
    "# to be used as a database row representing a single political party\n",
    "@doctable.schema\n",
    "class Party:\n",
    "    __slots__ = []\n",
    "    \n",
    "    id: int = doctable.Col(primary_key=True, autoincrement=True) # can also use doctable.IDCol() as a shortcut    \n",
    "    code: str = None\n",
    "    name: str = None"
   ],
   "outputs": [],
   "metadata": {}
  },
  {
   "cell_type": "markdown",
   "source": [
    "And then define a `DocTable` with a 'foreignkey' constraint that indicates it\\'s relationship to the document table. We can use the reference to the \"party\" column using `nss_documents.party`."
   ],
   "metadata": {}
  },
  {
   "cell_type": "code",
   "execution_count": 15,
   "source": [
    "class PartyTable(doctable.DocTable):\n",
    "    _tabname_ = 'political_parties'\n",
    "    _schema_ = Party\n",
    "    _indices_ = {\n",
    "        doctable.Index('code_index', 'code')\n",
    "    }\n",
    "    _constraints_ = (\n",
    "        doctable.Constraint('foreignkey', ('code',), ('nss_documents.party',)),\n",
    "    )\n",
    "\n",
    "party_table = PartyTable(target=fname)\n",
    "party_table"
   ],
   "outputs": [
    {
     "output_type": "execute_result",
     "data": {
      "text/plain": [
       "<__main__.PartyTable at 0x7f34d1bc2be0>"
      ]
     },
     "metadata": {},
     "execution_count": 15
    }
   ],
   "metadata": {}
  },
  {
   "cell_type": "code",
   "execution_count": 16,
   "source": [
    "party_table.delete() # remove old entries if needed\n",
    "for party in party_metadata:\n",
    "    print(party)\n",
    "    party_table.insert(party)\n",
    "party_table.head()"
   ],
   "outputs": [
    {
     "output_type": "stream",
     "name": "stdout",
     "text": [
      "{'code': 'R', 'name': 'Republican'}\n",
      "{'code': 'D', 'name': 'Democrat'}\n"
     ]
    },
    {
     "output_type": "execute_result",
     "data": {
      "text/plain": [
       "   id code        name\n",
       "0   1    R  Republican\n",
       "1   2    D    Democrat"
      ],
      "text/html": [
       "<div>\n",
       "<style scoped>\n",
       "    .dataframe tbody tr th:only-of-type {\n",
       "        vertical-align: middle;\n",
       "    }\n",
       "\n",
       "    .dataframe tbody tr th {\n",
       "        vertical-align: top;\n",
       "    }\n",
       "\n",
       "    .dataframe thead th {\n",
       "        text-align: right;\n",
       "    }\n",
       "</style>\n",
       "<table border=\"1\" class=\"dataframe\">\n",
       "  <thead>\n",
       "    <tr style=\"text-align: right;\">\n",
       "      <th></th>\n",
       "      <th>id</th>\n",
       "      <th>code</th>\n",
       "      <th>name</th>\n",
       "    </tr>\n",
       "  </thead>\n",
       "  <tbody>\n",
       "    <tr>\n",
       "      <th>0</th>\n",
       "      <td>1</td>\n",
       "      <td>R</td>\n",
       "      <td>Republican</td>\n",
       "    </tr>\n",
       "    <tr>\n",
       "      <th>1</th>\n",
       "      <td>2</td>\n",
       "      <td>D</td>\n",
       "      <td>Democrat</td>\n",
       "    </tr>\n",
       "  </tbody>\n",
       "</table>\n",
       "</div>"
      ]
     },
     "metadata": {},
     "execution_count": 16
    }
   ],
   "metadata": {}
  },
  {
   "cell_type": "markdown",
   "source": [
    "## Performing \"join\" select queries\n",
    "\n",
    "In contrast to sql, the type of join is inferred from the way the select query is used. Using a `select` method with columns for both tables will issue an outer join in lieu of other parameters. Also note that we must use `as_dataclass` to indicate the data should not use a dataclass for the results, since joined results includes fields from both "
   ],
   "metadata": {}
  },
  {
   "cell_type": "code",
   "execution_count": 17,
   "source": [
    "party_table.select(['name', docs_table['president']], as_dataclass=False)"
   ],
   "outputs": [
    {
     "output_type": "execute_result",
     "data": {
      "text/plain": [
       "[('Republican', 'Clinton'),\n",
       " ('Republican', 'W. Bush'),\n",
       " ('Republican', 'W. Bush'),\n",
       " ('Republican', 'Obama'),\n",
       " ('Republican', 'Obama'),\n",
       " ('Republican', 'Trump'),\n",
       " ('Democrat', 'Clinton'),\n",
       " ('Democrat', 'W. Bush'),\n",
       " ('Democrat', 'W. Bush'),\n",
       " ('Democrat', 'Obama'),\n",
       " ('Democrat', 'Obama'),\n",
       " ('Democrat', 'Trump')]"
      ]
     },
     "metadata": {},
     "execution_count": 17
    }
   ],
   "metadata": {}
  },
  {
   "cell_type": "markdown",
   "source": [
    "To perform an inner join, use a where conditional indicating the columns to be matched."
   ],
   "metadata": {}
  },
  {
   "cell_type": "code",
   "execution_count": 18,
   "source": [
    "docs_table.select(['year', 'president', party_table['name']], as_dataclass=False, where=docs_table['party']==party_table['code'])"
   ],
   "outputs": [
    {
     "output_type": "execute_result",
     "data": {
      "text/plain": [
       "[(2000, 'Clinton', 'Democrat'),\n",
       " (2002, 'W. Bush', 'Republican'),\n",
       " (2006, 'W. Bush', 'Republican'),\n",
       " (2010, 'Obama', 'Democrat'),\n",
       " (2015, 'Obama', 'Democrat'),\n",
       " (2017, 'Trump', 'Republican')]"
      ]
     },
     "metadata": {},
     "execution_count": 18
    }
   ],
   "metadata": {}
  },
  {
   "cell_type": "markdown",
   "source": [
    "And this works approximately the same when we switch the tables being selected."
   ],
   "metadata": {}
  },
  {
   "cell_type": "code",
   "execution_count": 19,
   "source": [
    "party_table.select(['code', 'name', docs_table['president']], as_dataclass=False, where=docs_table['party']==party_table['code'])"
   ],
   "outputs": [
    {
     "output_type": "execute_result",
     "data": {
      "text/plain": [
       "[('R', 'Republican', 'W. Bush'),\n",
       " ('R', 'Republican', 'W. Bush'),\n",
       " ('R', 'Republican', 'Trump'),\n",
       " ('D', 'Democrat', 'Clinton'),\n",
       " ('D', 'Democrat', 'Obama'),\n",
       " ('D', 'Democrat', 'Obama')]"
      ]
     },
     "metadata": {},
     "execution_count": 19
    }
   ],
   "metadata": {}
  },
  {
   "cell_type": "markdown",
   "source": [
    "And that is all for this vignette! See the list of vignettes at the top of this page for more examples."
   ],
   "metadata": {}
  }
 ],
 "metadata": {
  "kernelspec": {
   "name": "python3",
   "display_name": "Python 3.8.5 64-bit ('base': conda)"
  },
  "language_info": {
   "codemirror_mode": {
    "name": "ipython",
    "version": 3
   },
   "file_extension": ".py",
   "mimetype": "text/x-python",
   "name": "python",
   "nbconvert_exporter": "python",
   "pygments_lexer": "ipython3",
   "version": "3.8.5"
  },
  "interpreter": {
   "hash": "80712910726593b564a07c7ac6087ce3072c1b43af7fa58c28aea85a2c346dd3"
  }
 },
 "nbformat": 4,
 "nbformat_minor": 4
}