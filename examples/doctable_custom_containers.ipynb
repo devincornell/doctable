{
 "cells": [
  {
   "cell_type": "markdown",
   "metadata": {},
   "source": [
    "# Custom Containers from Select Queries\n",
    "Here I show how to use custom containers to wrap results from select queries. This may be useful if you intend to build an aggregate data structure from resulting rows."
   ]
  },
  {
   "cell_type": "code",
   "execution_count": 3,
   "metadata": {},
   "outputs": [],
   "source": [
    "import sys\n",
    "sys.path.append('..')\n",
    "import doctable"
   ]
  },
  {
   "cell_type": "markdown",
   "metadata": {},
   "source": [
    "We start by creating a schema for our database and using it to create a new doctable object. This schema includes three columns, and we insert some elements into the table for testing."
   ]
  },
  {
   "cell_type": "code",
   "execution_count": 13,
   "metadata": {},
   "outputs": [
    {
     "data": {
      "text/plain": [
       "10000"
      ]
     },
     "execution_count": 13,
     "metadata": {},
     "output_type": "execute_result"
    }
   ],
   "source": [
    "import dataclasses\n",
    "import datetime\n",
    "@dataclasses.dataclass(repr=False)\n",
    "class Row(doctable.DocTableSchema):\n",
    "    number: int\n",
    "    idx: int = doctable.IDCol()\n",
    "    updated: datetime.datetime = doctable.UpdatedCol()\n",
    "\n",
    "db = doctable.DocTable(schema=Row, target=':memory:')\n",
    "db.insert([Row(i) for i in range(10000)])\n",
    "db.count()"
   ]
  },
  {
   "cell_type": "markdown",
   "metadata": {},
   "source": [
    "You can see that by default, the return type is a list."
   ]
  },
  {
   "cell_type": "code",
   "execution_count": 8,
   "metadata": {},
   "outputs": [
    {
     "data": {
      "text/plain": [
       "list"
      ]
     },
     "execution_count": 8,
     "metadata": {},
     "output_type": "execute_result"
    }
   ],
   "source": [
    "type(db.select())"
   ]
  },
  {
   "cell_type": "markdown",
   "metadata": {},
   "source": [
    "Using the `result_container` parameter of `.select()`, we are able to use a custom class to wrap our data. First I show an example using `RowList`, a class which extends the basic python `list`, adding only a simple method to return the sum of numbers associated with each row."
   ]
  },
  {
   "cell_type": "code",
   "execution_count": 14,
   "metadata": {},
   "outputs": [
    {
     "name": "stdout",
     "output_type": "stream",
     "text": [
      "type=<class '__main__.RowList'>, len=10000, sum=49995000\n"
     ]
    }
   ],
   "source": [
    "class RowList(list):\n",
    "    def payload_sum(self):\n",
    "        return sum(r.number for r in self)\n",
    "    \n",
    "res = db.select(result_container=RowList)\n",
    "print(f'type={type(res)}, len={len(res)}, sum={res.payload_sum()}')"
   ]
  },
  {
   "cell_type": "markdown",
   "metadata": {},
   "source": [
    "We can use any class that takes a set of results as the single argument in the constructor. I now define a class `RowGroup` that separates out rows with big and little numbers. When I providee `RowGroup` to the `result_container` argument of the select query, we can see that the RowGroup has separated out the rows into the two groups."
   ]
  },
  {
   "cell_type": "code",
   "execution_count": 15,
   "metadata": {},
   "outputs": [
    {
     "name": "stdout",
     "output_type": "stream",
     "text": [
      "type=<class '__main__.RowGroup'>, big len=9899, little len=101\n"
     ]
    }
   ],
   "source": [
    "class RowGroup:\n",
    "    def __init__(self, rows):\n",
    "        self.big = list()\n",
    "        self.little = list()\n",
    "        for row in rows:\n",
    "            if row.number > 100:\n",
    "                self.big.append(row)\n",
    "            else:\n",
    "                self.little.append(row)\n",
    "\n",
    "res = db.select(result_container=RowGroup)\n",
    "print(f'type={type(res)}, big len={len(res.big)}, little len={len(res.little)}')"
   ]
  },
  {
   "cell_type": "markdown",
   "metadata": {},
   "source": [
    "Here I showed how we can create custom containers for our row objects. Of course, we can create new methods that use select with the `result_container` argument to return the RowList."
   ]
  },
  {
   "cell_type": "code",
   "execution_count": 19,
   "metadata": {},
   "outputs": [
    {
     "name": "stdout",
     "output_type": "stream",
     "text": [
      "type=<class '__main__.RowList'>, len=10000, sum=49995000\n"
     ]
    }
   ],
   "source": [
    "class MyTable(doctable.DocTable):\n",
    "    def select_rowlist(self, *args, **kwargs):\n",
    "        return super().select(*args, result_container=RowList, **kwargs)\n",
    "\n",
    "db2 = MyTable(schema=Row, target=':memory:')\n",
    "db2.insert([Row(i) for i in range(10000)])\n",
    "res = db2.select_rowlist()\n",
    "print(f'type={type(res)}, len={len(res)}, sum={res.payload_sum()}')"
   ]
  }
 ],
 "metadata": {
  "kernelspec": {
   "display_name": "Python 3",
   "language": "python",
   "name": "python3"
  },
  "language_info": {
   "codemirror_mode": {
    "name": "ipython",
    "version": 3
   },
   "file_extension": ".py",
   "mimetype": "text/x-python",
   "name": "python",
   "nbconvert_exporter": "python",
   "pygments_lexer": "ipython3",
   "version": "3.8.5"
  }
 },
 "nbformat": 4,
 "nbformat_minor": 4
}
