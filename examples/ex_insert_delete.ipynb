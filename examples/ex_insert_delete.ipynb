{
 "cells": [
  {
   "cell_type": "markdown",
   "metadata": {},
   "source": [
    "# Insert and Delete Queries with `doctable`\n",
    "\n",
    "In this document I will describe the interface for performing insert and delete queries with doctable."
   ]
  },
  {
   "cell_type": "code",
   "execution_count": 17,
   "metadata": {},
   "outputs": [],
   "source": [
    "\n",
    "import pandas as pd\n",
    "import numpy as np\n",
    "import typing\n",
    "\n",
    "import sys\n",
    "sys.path.append('..')\n",
    "import doctable"
   ]
  },
  {
   "cell_type": "markdown",
   "metadata": {},
   "source": [
    "#### Define a demonstration schema\n",
    "\n",
    "The very first step is to define a table schema that will be appropriate for our examples. This table includes the typical `id` column (the first column, specified by `order=0`), as well as string, integer, and boolean attributes. The object used to specify the schema is called a _container_, and I will use that terminology as we go."
   ]
  },
  {
   "cell_type": "code",
   "execution_count": 18,
   "metadata": {},
   "outputs": [
    {
     "name": "stdout",
     "output_type": "stream",
     "text": [
      "2023-11-13 09:12:38,148 INFO sqlalchemy.engine.Engine BEGIN (implicit)\n",
      "2023-11-13 09:12:38,149 INFO sqlalchemy.engine.Engine PRAGMA main.table_info(\"Record\")\n",
      "2023-11-13 09:12:38,150 INFO sqlalchemy.engine.Engine [raw sql] ()\n",
      "2023-11-13 09:12:38,153 INFO sqlalchemy.engine.Engine PRAGMA temp.table_info(\"Record\")\n",
      "2023-11-13 09:12:38,154 INFO sqlalchemy.engine.Engine [raw sql] ()\n",
      "2023-11-13 09:12:38,159 INFO sqlalchemy.engine.Engine \n",
      "CREATE TABLE \"Record\" (\n",
      "\tid INTEGER, \n",
      "\tage INTEGER, \n",
      "\tis_old INTEGER, \n",
      "\tname VARCHAR NOT NULL, \n",
      "\tPRIMARY KEY (id), \n",
      "\tUNIQUE (name)\n",
      ")\n",
      "\n",
      "\n",
      "2023-11-13 09:12:38,160 INFO sqlalchemy.engine.Engine [no key 0.00124s] ()\n",
      "2023-11-13 09:12:38,162 INFO sqlalchemy.engine.Engine COMMIT\n"
     ]
    }
   ],
   "source": [
    "@doctable.table_schema\n",
    "class Record:\n",
    "    name: str = doctable.Column(column_args=doctable.ColumnArgs(nullable=False, unique=True))\n",
    "    age: int = doctable.Column()\n",
    "    is_old: bool = doctable.Column()\n",
    "    \n",
    "    id: int = doctable.Column(\n",
    "        column_args=doctable.ColumnArgs(\n",
    "            order = 0, \n",
    "            primary_key=True, \n",
    "            autoincrement=True\n",
    "        ),\n",
    "    )\n",
    "\n",
    "core = doctable.ConnectCore.open(target=':memory:', dialect='sqlite', echo=True)\n",
    "\n",
    "with core.begin_ddl() as ddl:\n",
    "    rtab = ddl.create_table_if_not_exists(container_type=Record)"
   ]
  },
  {
   "cell_type": "markdown",
   "metadata": {},
   "source": [
    "## Two Interfaces: `ConnectQuery` and `TableQuery`\n",
    "\n",
    "First, a little about the `doctable` query interface. There are two interfaces for performing queries: `ConnectQuery` and `TableQuery`. \n",
    "\n",
    "+ **`ConnectQuery`** table-agnostic interface for querying any table in any result format. Create this object using the `ConnectCore.query()` method.\n",
    "\n",
    "+ **`TableQuery`** table-specific interface for querying a specific table. Insert and select from container objects used to define the schema. Create this object using the `DBTable.query()` method.\n",
    "\n",
    "### Inserts via `ConnectQuery`\n",
    "\n",
    "First I will discuss the `ConnectQuery` interface, which is created via the `ConnectCore.query()` method. This object maintains a database connection, and, when used as a context manager, will commit all changes upon exit. It is fine to use the `ConnectQuery` object without a context manager for queries that do not require commits.\n",
    "\n",
    "There are two primary methods for insertions via the `ConnectQuery` interface, which you can see in this table. Both accept a single `DBTable` object, followed by one or multiple dictionaries of data to insert, depending on the method.\n",
    "\n",
    "| Method | Description |\n",
    "| --- | --- |\n",
    "| `insert_single()` | Insert a single row into a table. |\n",
    "| `insert_multi()` | Insert multiple rows into a table. |"
   ]
  },
  {
   "cell_type": "code",
   "execution_count": 19,
   "metadata": {},
   "outputs": [
    {
     "name": "stdout",
     "output_type": "stream",
     "text": [
      "2023-11-13 09:12:38,210 INFO sqlalchemy.engine.Engine BEGIN (implicit)\n",
      "2023-11-13 09:12:38,212 INFO sqlalchemy.engine.Engine INSERT OR FAIL INTO \"Record\" (age, is_old, name) VALUES (?, ?, ?)\n",
      "2023-11-13 09:12:38,213 INFO sqlalchemy.engine.Engine [generated in 0.00349s] (10, False, 'test_A')\n",
      "2023-11-13 09:12:38,217 INFO sqlalchemy.engine.Engine INSERT OR FAIL INTO \"Record\" (age, is_old, name) VALUES (?, ?, ?)\n",
      "2023-11-13 09:12:38,219 INFO sqlalchemy.engine.Engine [generated in 0.00164s] [(10, False, 'test_B'), (10, False, 'test_C')]\n",
      "2023-11-13 09:12:38,221 INFO sqlalchemy.engine.Engine COMMIT\n",
      "2023-11-13 09:12:38,224 INFO sqlalchemy.engine.Engine BEGIN (implicit)\n",
      "2023-11-13 09:12:38,226 INFO sqlalchemy.engine.Engine SELECT \"Record\".id, \"Record\".age, \"Record\".is_old, \"Record\".name \n",
      "FROM \"Record\"\n",
      "2023-11-13 09:12:38,227 INFO sqlalchemy.engine.Engine [generated in 0.00289s] ()\n"
     ]
    },
    {
     "data": {
      "text/html": [
       "<div>\n",
       "<style scoped>\n",
       "    .dataframe tbody tr th:only-of-type {\n",
       "        vertical-align: middle;\n",
       "    }\n",
       "\n",
       "    .dataframe tbody tr th {\n",
       "        vertical-align: top;\n",
       "    }\n",
       "\n",
       "    .dataframe thead th {\n",
       "        text-align: right;\n",
       "    }\n",
       "</style>\n",
       "<table border=\"1\" class=\"dataframe\">\n",
       "  <thead>\n",
       "    <tr style=\"text-align: right;\">\n",
       "      <th></th>\n",
       "      <th>id</th>\n",
       "      <th>age</th>\n",
       "      <th>is_old</th>\n",
       "      <th>name</th>\n",
       "    </tr>\n",
       "  </thead>\n",
       "  <tbody>\n",
       "    <tr>\n",
       "      <th>0</th>\n",
       "      <td>1</td>\n",
       "      <td>10</td>\n",
       "      <td>0</td>\n",
       "      <td>test_A</td>\n",
       "    </tr>\n",
       "    <tr>\n",
       "      <th>1</th>\n",
       "      <td>2</td>\n",
       "      <td>10</td>\n",
       "      <td>0</td>\n",
       "      <td>test_B</td>\n",
       "    </tr>\n",
       "    <tr>\n",
       "      <th>2</th>\n",
       "      <td>3</td>\n",
       "      <td>10</td>\n",
       "      <td>0</td>\n",
       "      <td>test_C</td>\n",
       "    </tr>\n",
       "  </tbody>\n",
       "</table>\n",
       "</div>"
      ],
      "text/plain": [
       "   id  age  is_old    name\n",
       "0   1   10       0  test_A\n",
       "1   2   10       0  test_B\n",
       "2   3   10       0  test_C"
      ]
     },
     "execution_count": 19,
     "metadata": {},
     "output_type": "execute_result"
    }
   ],
   "source": [
    "with core.query() as q:\n",
    "    q.insert_single(rtab, {\n",
    "        'name': 'test_A',\n",
    "        'age': 10,\n",
    "        'is_old': False,\n",
    "    })\n",
    "    \n",
    "    q.insert_multi(rtab, data = [\n",
    "        {\n",
    "            'name': 'test_B',\n",
    "            'age': 10,\n",
    "            'is_old': False,\n",
    "        },\n",
    "        {\n",
    "            'name': 'test_C',\n",
    "            'age': 10,\n",
    "            'is_old': False,\n",
    "        }\n",
    "    ])\n",
    "    \n",
    "q.select(rtab.all_cols()).df()"
   ]
  },
  {
   "cell_type": "markdown",
   "metadata": {},
   "source": [
    "#### Omit Attributes\n",
    "\n",
    "If some values are not provided, the database will decide which values they take. In this case, the database populates the ID column according to the schema (it acts as the primary key in this case)."
   ]
  },
  {
   "cell_type": "code",
   "execution_count": 20,
   "metadata": {},
   "outputs": [
    {
     "name": "stdout",
     "output_type": "stream",
     "text": [
      "2023-11-13 09:12:38,273 INFO sqlalchemy.engine.Engine BEGIN (implicit)\n",
      "2023-11-13 09:12:38,275 INFO sqlalchemy.engine.Engine INSERT OR FAIL INTO \"Record\" (name) VALUES (?)\n",
      "2023-11-13 09:12:38,277 INFO sqlalchemy.engine.Engine [generated in 0.00390s] ('test_D',)\n",
      "2023-11-13 09:12:38,281 INFO sqlalchemy.engine.Engine BEGIN (implicit)\n",
      "2023-11-13 09:12:38,282 INFO sqlalchemy.engine.Engine SELECT \"Record\".id, \"Record\".age, \"Record\".is_old, \"Record\".name \n",
      "FROM \"Record\"\n",
      "2023-11-13 09:12:38,283 INFO sqlalchemy.engine.Engine [cached since 0.05923s ago] ()\n"
     ]
    },
    {
     "data": {
      "text/html": [
       "<div>\n",
       "<style scoped>\n",
       "    .dataframe tbody tr th:only-of-type {\n",
       "        vertical-align: middle;\n",
       "    }\n",
       "\n",
       "    .dataframe tbody tr th {\n",
       "        vertical-align: top;\n",
       "    }\n",
       "\n",
       "    .dataframe thead th {\n",
       "        text-align: right;\n",
       "    }\n",
       "</style>\n",
       "<table border=\"1\" class=\"dataframe\">\n",
       "  <thead>\n",
       "    <tr style=\"text-align: right;\">\n",
       "      <th></th>\n",
       "      <th>id</th>\n",
       "      <th>age</th>\n",
       "      <th>is_old</th>\n",
       "      <th>name</th>\n",
       "    </tr>\n",
       "  </thead>\n",
       "  <tbody>\n",
       "    <tr>\n",
       "      <th>0</th>\n",
       "      <td>1</td>\n",
       "      <td>10.0</td>\n",
       "      <td>0.0</td>\n",
       "      <td>test_A</td>\n",
       "    </tr>\n",
       "    <tr>\n",
       "      <th>1</th>\n",
       "      <td>2</td>\n",
       "      <td>10.0</td>\n",
       "      <td>0.0</td>\n",
       "      <td>test_B</td>\n",
       "    </tr>\n",
       "    <tr>\n",
       "      <th>2</th>\n",
       "      <td>3</td>\n",
       "      <td>10.0</td>\n",
       "      <td>0.0</td>\n",
       "      <td>test_C</td>\n",
       "    </tr>\n",
       "    <tr>\n",
       "      <th>3</th>\n",
       "      <td>4</td>\n",
       "      <td>NaN</td>\n",
       "      <td>NaN</td>\n",
       "      <td>test_D</td>\n",
       "    </tr>\n",
       "  </tbody>\n",
       "</table>\n",
       "</div>"
      ],
      "text/plain": [
       "   id   age  is_old    name\n",
       "0   1  10.0     0.0  test_A\n",
       "1   2  10.0     0.0  test_B\n",
       "2   3  10.0     0.0  test_C\n",
       "3   4   NaN     NaN  test_D"
      ]
     },
     "execution_count": 20,
     "metadata": {},
     "output_type": "execute_result"
    }
   ],
   "source": [
    "core.query().insert_single(rtab, {\n",
    "    'name': 'test_D',\n",
    "})\n",
    "core.query().select(rtab.all_cols()).df()"
   ]
  },
  {
   "cell_type": "markdown",
   "metadata": {},
   "source": [
    "Note that in our schema we set `nullable=False` for the name column, so this must be provided in an insert otherwise there will be an error. This typically results in an `sqlalchemy.exc.IntegrityError`, which you may catch if needed."
   ]
  },
  {
   "cell_type": "code",
   "execution_count": 30,
   "metadata": {},
   "outputs": [
    {
     "name": "stdout",
     "output_type": "stream",
     "text": [
      "2023-11-13 09:19:59,660 INFO sqlalchemy.engine.Engine BEGIN (implicit)\n",
      "2023-11-13 09:19:59,661 INFO sqlalchemy.engine.Engine INSERT OR FAIL INTO \"Record\" (is_old) VALUES (?)\n",
      "2023-11-13 09:19:59,662 INFO sqlalchemy.engine.Engine [cached since 223.6s ago] (True,)\n",
      "<class 'sqlalchemy.exc.IntegrityError'> (sqlite3.IntegrityError) NOT NULL constraint failed: Record.name\n",
      "[SQL: INSERT OR FAIL INTO \"Record\" (is_old) VALUES (?)]\n",
      "[parameters: (True,)]\n",
      "(Background on this error at: https://sqlalche.me/e/20/gkpj)\n"
     ]
    }
   ],
   "source": [
    "import sqlalchemy.exc\n",
    "\n",
    "try:\n",
    "    core.query().insert_single(rtab, {\n",
    "        'is_old': True,\n",
    "    })\n",
    "except sqlalchemy.exc.IntegrityError as e:\n",
    "    print(type(e), e)"
   ]
  },
  {
   "cell_type": "markdown",
   "metadata": {},
   "source": [
    "#### `ifnotunique` Parameter\n",
    "\n",
    "The `ifnotunique` paramter controls the behavior when a unique constraint is violated. \n",
    "\n",
    "The default value is `FAIL`, which will raise an error when a unique constraint is violated - it will raise an `sqlalchemy.exc.IntegrityError` exception in this case. The other options are `IGNORE`, meaning inserted rows that violate the constraints should be ignored, and `REPLACE`, which will replace the existing row with the new row.\n",
    "\n",
    "In the `Record` table we have created, there is a unique constraint on `name`. We will receive an integrity error if we try to insert a duplicate there when using the default `ifnotunique='ERROR'`."
   ]
  },
  {
   "cell_type": "code",
   "execution_count": 31,
   "metadata": {},
   "outputs": [
    {
     "name": "stdout",
     "output_type": "stream",
     "text": [
      "2023-11-13 09:20:49,672 INFO sqlalchemy.engine.Engine BEGIN (implicit)\n",
      "2023-11-13 09:20:49,675 INFO sqlalchemy.engine.Engine INSERT OR FAIL INTO \"Record\" (name) VALUES (?)\n",
      "2023-11-13 09:20:49,677 INFO sqlalchemy.engine.Engine [cached since 491.4s ago] ('test_A',)\n",
      "<class 'sqlalchemy.exc.IntegrityError'> (sqlite3.IntegrityError) UNIQUE constraint failed: Record.name\n",
      "[SQL: INSERT OR FAIL INTO \"Record\" (name) VALUES (?)]\n",
      "[parameters: ('test_A',)]\n",
      "(Background on this error at: https://sqlalche.me/e/20/gkpj)\n"
     ]
    }
   ],
   "source": [
    "try:\n",
    "    core.query().insert_single(rtab, {\n",
    "        'name': 'test_A',\n",
    "    })\n",
    "except sqlalchemy.exc.IntegrityError as e:\n",
    "    print(type(e), e)"
   ]
  },
  {
   "cell_type": "markdown",
   "metadata": {},
   "source": [
    "When using `ifnotunique='REPLACE'`, the insert will replace the existing row with the new row. This is useful when you want to update a row if it already exists, but insert it if it does not."
   ]
  },
  {
   "cell_type": "code",
   "execution_count": 34,
   "metadata": {},
   "outputs": [
    {
     "name": "stdout",
     "output_type": "stream",
     "text": [
      "2023-11-13 09:24:22,472 INFO sqlalchemy.engine.Engine BEGIN (implicit)\n",
      "2023-11-13 09:24:22,474 INFO sqlalchemy.engine.Engine INSERT OR REPLACE INTO \"Record\" (name) VALUES (?)\n",
      "2023-11-13 09:24:22,475 INFO sqlalchemy.engine.Engine [cached since 74.85s ago] ('test_A',)\n",
      "2023-11-13 09:24:22,477 INFO sqlalchemy.engine.Engine BEGIN (implicit)\n",
      "2023-11-13 09:24:22,478 INFO sqlalchemy.engine.Engine SELECT \"Record\".id, \"Record\".age, \"Record\".is_old, \"Record\".name \n",
      "FROM \"Record\"\n",
      "2023-11-13 09:24:22,479 INFO sqlalchemy.engine.Engine [cached since 704.3s ago] ()\n"
     ]
    },
    {
     "data": {
      "text/html": [
       "<div>\n",
       "<style scoped>\n",
       "    .dataframe tbody tr th:only-of-type {\n",
       "        vertical-align: middle;\n",
       "    }\n",
       "\n",
       "    .dataframe tbody tr th {\n",
       "        vertical-align: top;\n",
       "    }\n",
       "\n",
       "    .dataframe thead th {\n",
       "        text-align: right;\n",
       "    }\n",
       "</style>\n",
       "<table border=\"1\" class=\"dataframe\">\n",
       "  <thead>\n",
       "    <tr style=\"text-align: right;\">\n",
       "      <th></th>\n",
       "      <th>id</th>\n",
       "      <th>age</th>\n",
       "      <th>is_old</th>\n",
       "      <th>name</th>\n",
       "    </tr>\n",
       "  </thead>\n",
       "  <tbody>\n",
       "    <tr>\n",
       "      <th>0</th>\n",
       "      <td>2</td>\n",
       "      <td>10.0</td>\n",
       "      <td>0.0</td>\n",
       "      <td>test_B</td>\n",
       "    </tr>\n",
       "    <tr>\n",
       "      <th>1</th>\n",
       "      <td>3</td>\n",
       "      <td>10.0</td>\n",
       "      <td>0.0</td>\n",
       "      <td>test_C</td>\n",
       "    </tr>\n",
       "    <tr>\n",
       "      <th>2</th>\n",
       "      <td>4</td>\n",
       "      <td>NaN</td>\n",
       "      <td>NaN</td>\n",
       "      <td>test_D</td>\n",
       "    </tr>\n",
       "    <tr>\n",
       "      <th>3</th>\n",
       "      <td>7</td>\n",
       "      <td>NaN</td>\n",
       "      <td>NaN</td>\n",
       "      <td>test_A</td>\n",
       "    </tr>\n",
       "  </tbody>\n",
       "</table>\n",
       "</div>"
      ],
      "text/plain": [
       "   id   age  is_old    name\n",
       "0   2  10.0     0.0  test_B\n",
       "1   3  10.0     0.0  test_C\n",
       "2   4   NaN     NaN  test_D\n",
       "3   7   NaN     NaN  test_A"
      ]
     },
     "execution_count": 34,
     "metadata": {},
     "output_type": "execute_result"
    }
   ],
   "source": [
    "core.query().insert_single(rtab, {\n",
    "    'name': 'test_A',\n",
    "}, ifnotunique='REPLACE')\n",
    "core.query().select(rtab.all_cols()).df()"
   ]
  },
  {
   "cell_type": "code",
   "execution_count": null,
   "metadata": {},
   "outputs": [],
   "source": []
  },
  {
   "cell_type": "code",
   "execution_count": null,
   "metadata": {},
   "outputs": [],
   "source": []
  },
  {
   "cell_type": "code",
   "execution_count": 21,
   "metadata": {},
   "outputs": [
    {
     "data": {
      "text/plain": [
       "Record(name='test', age=10, is_old=False, id=MISSING)"
      ]
     },
     "execution_count": 21,
     "metadata": {},
     "output_type": "execute_result"
    }
   ],
   "source": [
    "test_record = Record(name='test', age=10, is_old=False)\n",
    "test_record"
   ]
  },
  {
   "cell_type": "markdown",
   "metadata": {},
   "source": []
  }
 ],
 "metadata": {
  "kernelspec": {
   "display_name": "Python 3 (ipykernel)",
   "language": "python",
   "name": "python3"
  },
  "language_info": {
   "codemirror_mode": {
    "name": "ipython",
    "version": 3
   },
   "file_extension": ".py",
   "mimetype": "text/x-python",
   "name": "python",
   "nbconvert_exporter": "python",
   "pygments_lexer": "ipython3",
   "version": "3.11.5"
  }
 },
 "nbformat": 4,
 "nbformat_minor": 2
}
