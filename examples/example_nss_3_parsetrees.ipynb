{
 "cells": [
  {
   "cell_type": "markdown",
   "metadata": {},
   "source": [
    "# Vignette 3: Storing Parsed Documents\n",
    "\n",
    "Here I'll show how to make a DocTable for storing NSS documents at the paragraph level, and parse the documents in parallel.\n",
    "\n",
    "For context, check out [Example 1](https://devincornell.github.io/doctable/examples/ex_nss.html) - here we'll just use some shortcuts for code used there. These come from the util.py code in the repo examples folder.\n",
    "\n",
    "These are the vignettes I have created:\n",
    "\n",
    "+ [1: Storing Document Metadata](examples/example_nss_1_intro.html)\n",
    "\n",
    "+ [2: Storing Document Text](examples/example_nss_2_parsing.html)\n",
    "\n",
    "+ [3: Storing Parsed Documents](examples/example_nss_3_parsetrees.html)"
   ]
  },
  {
   "cell_type": "code",
   "execution_count": 1,
   "metadata": {},
   "outputs": [],
   "source": [
    "import sys\n",
    "sys.path.append('..')\n",
    "#import util\n",
    "import doctable\n",
    "import spacy\n",
    "from tqdm import tqdm\n",
    "\n",
    "# automatically clean up temp folder after python ends\n",
    "tmpfolder = doctable.TempFolder('tmp')"
   ]
  },
  {
   "cell_type": "markdown",
   "metadata": {},
   "source": [
    "First we define the metadata and download the text data."
   ]
  },
  {
   "cell_type": "code",
   "execution_count": 2,
   "metadata": {},
   "outputs": [
    {
     "name": "stdout",
     "output_type": "stream",
     "text": [
      "len(document_metadata[0]['text'])=6695\n"
     ]
    }
   ],
   "source": [
    "import urllib\n",
    "def download_nss(year):\n",
    "    ''' Simple helper function for downloading texts from my nssdocs repo.'''\n",
    "    baseurl = 'https://raw.githubusercontent.com/devincornell/nssdocs/master/docs/{}.txt'\n",
    "    url = baseurl.format(year)\n",
    "    text = urllib.request.urlopen(url).read().decode('utf-8')\n",
    "    return text\n",
    "\n",
    "document_metadata = [\n",
    "    {'year': 2000, 'party': 'D', 'president': 'Clinton'},\n",
    "    {'year': 2006, 'party': 'R', 'president': 'W. Bush'}, \n",
    "    {'year': 2015, 'party': 'D', 'president': 'Obama'}, \n",
    "    {'year': 2017, 'party': 'R', 'president': 'Trump'}, \n",
    "]\n",
    "\n",
    "sep = '\\n\\n'\n",
    "first_n = 10\n",
    "for md in document_metadata:\n",
    "    text = download_nss(md['year'])\n",
    "    md['text'] = sep.join(text.split(sep)[:first_n])\n",
    "print(f\"{len(document_metadata[0]['text'])=}\")"
   ]
  },
  {
   "cell_type": "markdown",
   "metadata": {},
   "source": [
    "## 1. Define the DocTable Schema\n",
    "Now we define a doctable schema using the `doctable.schema` class decorator and the [pickle file column type](examples/doctable_file_column_types.html) to prepare to store parsetrees as binary data."
   ]
  },
  {
   "cell_type": "code",
   "execution_count": 3,
   "metadata": {},
   "outputs": [],
   "source": [
    "# to be used as a database row representing a single NSS document\n",
    "@doctable.schema\n",
    "class NSSDoc:\n",
    "    __slots__ = [] # include so that doctable.schema can create a slot class\n",
    "    \n",
    "    id: int = doctable.IDCol() # this is an alias for doctable.Col(primary_key=True, autoincrement=True)\n",
    "    year: int =  doctable.Col()\n",
    "    party: str = doctable.Col()\n",
    "    president: str = doctable.Col()\n",
    "    text: str = doctable.Col()\n",
    "    doc: doctable.ParseTreeDoc = doctable.ParseTreeFileCol('tmp/parsetree_pickle_files')"
   ]
  },
  {
   "cell_type": "markdown",
   "metadata": {},
   "source": [
    "And a class to represent an NSS DocTable."
   ]
  },
  {
   "cell_type": "code",
   "execution_count": 4,
   "metadata": {},
   "outputs": [
    {
     "data": {
      "text/plain": [
       "0"
      ]
     },
     "execution_count": 4,
     "metadata": {},
     "output_type": "execute_result"
    }
   ],
   "source": [
    "class NSSDocTable(doctable.DocTable):\n",
    "    _tabname_ = 'nss_documents'\n",
    "    _schema_ = NSSDoc\n",
    "    \n",
    "nss_table = NSSDocTable(target='tmp/nss_3.db', new_db=True)\n",
    "nss_table.count()"
   ]
  },
  {
   "cell_type": "code",
   "execution_count": 5,
   "metadata": {},
   "outputs": [
    {
     "data": {
      "text/html": [
       "<div>\n",
       "<style scoped>\n",
       "    .dataframe tbody tr th:only-of-type {\n",
       "        vertical-align: middle;\n",
       "    }\n",
       "\n",
       "    .dataframe tbody tr th {\n",
       "        vertical-align: top;\n",
       "    }\n",
       "\n",
       "    .dataframe thead th {\n",
       "        text-align: right;\n",
       "    }\n",
       "</style>\n",
       "<table border=\"1\" class=\"dataframe\">\n",
       "  <thead>\n",
       "    <tr style=\"text-align: right;\">\n",
       "      <th></th>\n",
       "      <th>id</th>\n",
       "      <th>year</th>\n",
       "      <th>party</th>\n",
       "      <th>president</th>\n",
       "      <th>text</th>\n",
       "      <th>doc</th>\n",
       "    </tr>\n",
       "  </thead>\n",
       "  <tbody>\n",
       "    <tr>\n",
       "      <th>0</th>\n",
       "      <td>1</td>\n",
       "      <td>2000</td>\n",
       "      <td>D</td>\n",
       "      <td>Clinton</td>\n",
       "      <td>As we enter the new millennium, we are blessed...</td>\n",
       "      <td>None</td>\n",
       "    </tr>\n",
       "    <tr>\n",
       "      <th>1</th>\n",
       "      <td>2</td>\n",
       "      <td>2006</td>\n",
       "      <td>R</td>\n",
       "      <td>W. Bush</td>\n",
       "      <td>My fellow Americans, \\n\\nAmerica is at war. Th...</td>\n",
       "      <td>None</td>\n",
       "    </tr>\n",
       "    <tr>\n",
       "      <th>2</th>\n",
       "      <td>3</td>\n",
       "      <td>2015</td>\n",
       "      <td>D</td>\n",
       "      <td>Obama</td>\n",
       "      <td>Today, the United States is stronger and bette...</td>\n",
       "      <td>None</td>\n",
       "    </tr>\n",
       "    <tr>\n",
       "      <th>3</th>\n",
       "      <td>4</td>\n",
       "      <td>2017</td>\n",
       "      <td>R</td>\n",
       "      <td>Trump</td>\n",
       "      <td>An America that is safe, prosperous, and free ...</td>\n",
       "      <td>None</td>\n",
       "    </tr>\n",
       "  </tbody>\n",
       "</table>\n",
       "</div>"
      ],
      "text/plain": [
       "   id  year party president  \\\n",
       "0   1  2000     D   Clinton   \n",
       "1   2  2006     R   W. Bush   \n",
       "2   3  2015     D     Obama   \n",
       "3   4  2017     R     Trump   \n",
       "\n",
       "                                                text   doc  \n",
       "0  As we enter the new millennium, we are blessed...  None  \n",
       "1  My fellow Americans, \\n\\nAmerica is at war. Th...  None  \n",
       "2  Today, the United States is stronger and bette...  None  \n",
       "3  An America that is safe, prosperous, and free ...  None  "
      ]
     },
     "execution_count": 5,
     "metadata": {},
     "output_type": "execute_result"
    }
   ],
   "source": [
    "for md in document_metadata:\n",
    "    nss_table.insert(md)\n",
    "nss_table.head()"
   ]
  },
  {
   "cell_type": "markdown",
   "metadata": {},
   "source": [
    "## 2. Create a Parser Class Using a Pipeline\n",
    "Now we create a small `NSSParser` class that keeps a `doctable.ParsePipeline` object for doing the actual text processing. As you can see from our init method, instantiating the package will load a spacy module into memory and construct the pipeline from the selected components. We also create a wrapper over the pipeline `.parse` and `.parsemany` methods. Here we define, instantiate, and view the components of `NSSParser`."
   ]
  },
  {
   "cell_type": "code",
   "execution_count": 6,
   "metadata": {},
   "outputs": [
    {
     "data": {
      "text/plain": [
       "[<spacy.lang.en.English at 0x7fab2045feb0>,\n",
       " functools.partial(<function merge_tok_spans at 0x7faaf5e52670>, merge_ents=True),\n",
       " functools.partial(<function get_parsetrees at 0x7faaf5e52820>, text_parse_func=functools.partial(<function parse_tok at 0x7faaf5e52550>, format_ents=True, num_replacement='NUM'))]"
      ]
     },
     "execution_count": 6,
     "metadata": {},
     "output_type": "execute_result"
    }
   ],
   "source": [
    "class NSSParser:\n",
    "    ''' Handles text parsing for NSS documents.'''\n",
    "    def __init__(self):\n",
    "        nlp = spacy.load('en_core_web_sm')\n",
    "        \n",
    "        # this determines all settings for tokenizing\n",
    "        self.pipeline = doctable.ParsePipeline([\n",
    "            nlp, # first run spacy parser\n",
    "            doctable.Comp('merge_tok_spans', merge_ents=True),\n",
    "            doctable.Comp('get_parsetrees', **{\n",
    "                'text_parse_func': doctable.Comp('parse_tok', **{\n",
    "                    'format_ents': True,\n",
    "                    'num_replacement': 'NUM',\n",
    "                })\n",
    "            })\n",
    "        ])\n",
    "    \n",
    "    def parse(self, text):\n",
    "        return self.pipeline.parse(text)\n",
    "\n",
    "parser = NSSParser() # creates a parser instance\n",
    "parser.pipeline.components"
   ]
  },
  {
   "cell_type": "markdown",
   "metadata": {},
   "source": [
    "Now we parse the paragraphs of each document in parallel."
   ]
  },
  {
   "cell_type": "code",
   "execution_count": 7,
   "metadata": {},
   "outputs": [
    {
     "name": "stderr",
     "output_type": "stream",
     "text": [
      "100%|██████████| 4/4 [00:01<00:00,  3.68it/s]\n"
     ]
    },
    {
     "data": {
      "text/html": [
       "<div>\n",
       "<style scoped>\n",
       "    .dataframe tbody tr th:only-of-type {\n",
       "        vertical-align: middle;\n",
       "    }\n",
       "\n",
       "    .dataframe tbody tr th {\n",
       "        vertical-align: top;\n",
       "    }\n",
       "\n",
       "    .dataframe thead th {\n",
       "        text-align: right;\n",
       "    }\n",
       "</style>\n",
       "<table border=\"1\" class=\"dataframe\">\n",
       "  <thead>\n",
       "    <tr style=\"text-align: right;\">\n",
       "      <th></th>\n",
       "      <th>id</th>\n",
       "      <th>year</th>\n",
       "      <th>party</th>\n",
       "      <th>president</th>\n",
       "      <th>text</th>\n",
       "      <th>doc</th>\n",
       "    </tr>\n",
       "  </thead>\n",
       "  <tbody>\n",
       "    <tr>\n",
       "      <th>0</th>\n",
       "      <td>1</td>\n",
       "      <td>2000</td>\n",
       "      <td>D</td>\n",
       "      <td>Clinton</td>\n",
       "      <td>As we enter the new millennium, we are blessed...</td>\n",
       "      <td>[(as, we, enter, The New Millennium, ,, we, ar...</td>\n",
       "    </tr>\n",
       "    <tr>\n",
       "      <th>1</th>\n",
       "      <td>2</td>\n",
       "      <td>2006</td>\n",
       "      <td>R</td>\n",
       "      <td>W. Bush</td>\n",
       "      <td>My fellow Americans, \\n\\nAmerica is at war. Th...</td>\n",
       "      <td>[(my, fellow, Americans, ,, , America, is, at,...</td>\n",
       "    </tr>\n",
       "  </tbody>\n",
       "</table>\n",
       "</div>"
      ],
      "text/plain": [
       "   id  year party president  \\\n",
       "0   1  2000     D   Clinton   \n",
       "1   2  2006     R   W. Bush   \n",
       "\n",
       "                                                text  \\\n",
       "0  As we enter the new millennium, we are blessed...   \n",
       "1  My fellow Americans, \\n\\nAmerica is at war. Th...   \n",
       "\n",
       "                                                 doc  \n",
       "0  [(as, we, enter, The New Millennium, ,, we, ar...  \n",
       "1  [(my, fellow, Americans, ,, , America, is, at,...  "
      ]
     },
     "execution_count": 7,
     "metadata": {},
     "output_type": "execute_result"
    }
   ],
   "source": [
    "for doc in tqdm(nss_table.select(['id','year','text'])):\n",
    "    parsed = parser.parse(doc.text)\n",
    "    nss_table.update({'doc': parsed}, where=nss_table['id']==doc.id)\n",
    "nss_table.select_df(limit=2)"
   ]
  },
  {
   "cell_type": "markdown",
   "metadata": {},
   "source": [
    "## 3. Work With Parsetrees\n",
    "\n",
    "Now that we have stored our parsed text as files in the database, we can manipulate the parsetrees. This example shows the 5 most common nouns from each national security strategy document. This is possible because the `doctable.ParseTree` data structures contain `pos` information originally provided by the spacy parser. Using `ParseTreeFileType` allows us to more efficiently store pickled binary data so that we can perform these kinds of analyses at scale."
   ]
  },
  {
   "cell_type": "code",
   "execution_count": 8,
   "metadata": {},
   "outputs": [
    {
     "name": "stdout",
     "output_type": "stream",
     "text": [
      "Clinton (2000): [('world', 9), ('security', 9), ('prosperity', 7), ('threats', 5), ('efforts', 5)]\n",
      "W. Bush (2006): [('people', 4), ('world', 3), ('war', 2), ('security', 2), ('strategy', 2)]\n",
      "Obama (2015): [('security', 15), ('world', 9), ('opportunities', 7), ('strength', 7), ('challenges', 7)]\n",
      "Trump (2017): [('government', 5), ('principles', 4), ('peace', 3), ('people', 3), ('world', 3)]\n"
     ]
    }
   ],
   "source": [
    "from collections import Counter # used to count tokens\n",
    "\n",
    "for nss in nss_table.select():\n",
    "    noun_counts = Counter([tok.text for pt in nss.doc for tok in pt if tok.pos == 'NOUN'])\n",
    "    print(f\"{nss.president} ({nss.year}): {noun_counts.most_common(5)}\")"
   ]
  },
  {
   "cell_type": "markdown",
   "metadata": {},
   "source": [
    "Definitely check out this [example on parsetreedocs](examples/doctable_parsetreedoc_column.html) if you're interested in more applications.\n",
    "\n",
    "And that is all for this vignette! See the list of vignettes at the top of this page for more examples."
   ]
  }
 ],
 "metadata": {
  "kernelspec": {
   "display_name": "Python 3",
   "language": "python",
   "name": "python3"
  },
  "language_info": {
   "codemirror_mode": {
    "name": "ipython",
    "version": 3
   },
   "file_extension": ".py",
   "mimetype": "text/x-python",
   "name": "python",
   "nbconvert_exporter": "python",
   "pygments_lexer": "ipython3",
   "version": "3.8.5"
  }
 },
 "nbformat": 4,
 "nbformat_minor": 4
}
