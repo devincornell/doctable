{
 "cells": [
  {
   "cell_type": "code",
   "execution_count": 1,
   "metadata": {},
   "outputs": [],
   "source": [
    "import random\n",
    "import pandas as pd\n",
    "import numpy as np\n",
    "import sys\n",
    "sys.path.append('..')\n",
    "import doctable as dt"
   ]
  },
  {
   "cell_type": "code",
   "execution_count": 2,
   "metadata": {},
   "outputs": [
    {
     "name": "stdout",
     "output_type": "stream",
     "text": [
      "<DocTable2::_documents_ ct: 0>\n"
     ]
    }
   ],
   "source": [
    "schema = (\n",
    "    ('integer','id',dict(primary_key=True, autoincrement=True)),\n",
    "    ('string','name', dict(nullable=False)),\n",
    "    ('integer','age'),\n",
    "    ('boolean', 'is_old'),\n",
    ")\n",
    "db = dt.DocTable(schema)\n",
    "print(db)"
   ]
  },
  {
   "cell_type": "code",
   "execution_count": 3,
   "metadata": {},
   "outputs": [
    {
     "name": "stdout",
     "output_type": "stream",
     "text": [
      "<DocTable2::_documents_ ct: 5>\n"
     ]
    }
   ],
   "source": [
    "for i in range(5):\n",
    "    age = random.random() # number in [0,1]\n",
    "    is_old = age > 0.5\n",
    "    row = {'name':'user_'+str(i), 'age':age, 'is_old':is_old}\n",
    "    db.insert(row)\n",
    "print(db)"
   ]
  },
  {
   "cell_type": "code",
   "execution_count": 4,
   "metadata": {},
   "outputs": [
    {
     "name": "stdout",
     "output_type": "stream",
     "text": [
      "(1, 'user_0', 0.0903606780594799, False)\n",
      "(2, 'user_1', 0.1936026672500093, False)\n",
      "(3, 'user_2', 0.7179026106618069, True)\n",
      "(4, 'user_3', 0.07015109876076597, False)\n",
      "(5, 'user_4', 0.9055454699822891, True)\n"
     ]
    }
   ],
   "source": [
    "for doc in db.select():\n",
    "    print(doc)"
   ]
  },
  {
   "cell_type": "markdown",
   "metadata": {},
   "source": [
    "The `.bootstrap()` method will return a DocBootstrap object."
   ]
  },
  {
   "cell_type": "code",
   "execution_count": 5,
   "metadata": {},
   "outputs": [
    {
     "data": {
      "text/plain": [
       "doctable.bootstrap.DocBootstrap"
      ]
     },
     "execution_count": 5,
     "metadata": {},
     "output_type": "execute_result"
    }
   ],
   "source": [
    "bs = db.bootstrap()\n",
    "type(bs)"
   ]
  },
  {
   "cell_type": "markdown",
   "metadata": {},
   "source": [
    "There are three ways to use this object: (1) as an iterator directly, (2) using a stateful sample, or (3) using the .sample() to draw new samples."
   ]
  },
  {
   "cell_type": "code",
   "execution_count": 6,
   "metadata": {},
   "outputs": [
    {
     "name": "stdout",
     "output_type": "stream",
     "text": [
      "(4, 'user_3', 0.07015109876076597, False)\n",
      "(1, 'user_0', 0.0903606780594799, False)\n",
      "(5, 'user_4', 0.9055454699822891, True)\n"
     ]
    }
   ],
   "source": [
    "for doc in db.bootstrap(n=3): # use directly\n",
    "    print(doc)"
   ]
  },
  {
   "cell_type": "code",
   "execution_count": 7,
   "metadata": {},
   "outputs": [
    {
     "name": "stdout",
     "output_type": "stream",
     "text": [
      "[2 1 2]\n",
      "(3, 'user_2', 0.7179026106618069, True)\n",
      "(2, 'user_1', 0.1936026672500093, False)\n",
      "(3, 'user_2', 0.7179026106618069, True)\n"
     ]
    }
   ],
   "source": [
    "bs = db.bootstrap() # use the stateful approach\n",
    "bs.set_sample(3)\n",
    "print(bs.ids)\n",
    "for doc in bs.sample(): # here equivalent to for doc in bs\n",
    "    print(doc)"
   ]
  },
  {
   "cell_type": "code",
   "execution_count": 8,
   "metadata": {},
   "outputs": [
    {
     "name": "stdout",
     "output_type": "stream",
     "text": [
      "(2, 'user_1', 0.1936026672500093, False)\n",
      "(5, 'user_4', 0.9055454699822891, True)\n",
      "(5, 'user_4', 0.9055454699822891, True)\n"
     ]
    }
   ],
   "source": [
    "bs = db.bootstrap()\n",
    "for doc in bs.sample(3): # non-stateful sample\n",
    "    print(doc)"
   ]
  },
  {
   "cell_type": "code",
   "execution_count": 9,
   "metadata": {},
   "outputs": [
    {
     "name": "stdout",
     "output_type": "stream",
     "text": [
      "(2, 'user_1', 0.1936026672500093, False)\n",
      "(4, 'user_3', 0.07015109876076597, False)\n",
      "(3, 'user_2', 0.7179026106618069, True)\n",
      "(3, 'user_2', 0.7179026106618069, True)\n"
     ]
    }
   ],
   "source": [
    "bs = db.bootstrap(n=3)\n",
    "for doc in bs.sample(2): # ignores n=3 to make new one-off bootstrap\n",
    "    print(doc)\n",
    "for doc in bs.sample(2):\n",
    "    print(doc)"
   ]
  },
  {
   "cell_type": "markdown",
   "metadata": {},
   "source": [
    "Because args and kwargs passed to .bootstrap are passed directly to .select() (with the exception of n), you can specify any other details. Note that using limit will reduce the number of rows initially queried then draw a bootstrap sample of the requested size from that subset."
   ]
  },
  {
   "cell_type": "code",
   "execution_count": 10,
   "metadata": {},
   "outputs": [
    {
     "name": "stdout",
     "output_type": "stream",
     "text": [
      "('user_0', False)\n",
      "('user_1', False)\n",
      "('user_1', False)\n",
      "('user_1', False)\n",
      "('user_1', False)\n"
     ]
    }
   ],
   "source": [
    "for doc in db.bootstrap(['name','is_old'], n=5, limit=2): # use directly\n",
    "    print(doc)"
   ]
  }
 ],
 "metadata": {
  "kernelspec": {
   "display_name": "Python 3",
   "language": "python",
   "name": "python3"
  },
  "language_info": {
   "codemirror_mode": {
    "name": "ipython",
    "version": 3
   },
   "file_extension": ".py",
   "mimetype": "text/x-python",
   "name": "python",
   "nbconvert_exporter": "python",
   "pygments_lexer": "ipython3",
   "version": "3.6.9"
  }
 },
 "nbformat": 4,
 "nbformat_minor": 4
}
