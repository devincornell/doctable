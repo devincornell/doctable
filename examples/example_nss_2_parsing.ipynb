{
 "cells": [
  {
   "cell_type": "markdown",
   "source": [
    "# Vignette 2: Storing Document Text\n",
    "In this example, I'll show how to create a database for document text + metadata storage using the `DocTable` class, and a parser class using a `ParsePipeline`. We will store the metadata you see below with the raw text and parsed tokens in the same DocTable.\n",
    "\n",
    "These are the vignettes I have created:\n",
    "\n",
    "+ [1: Storing Document Metadata](example_nss_1_intro.html)\n",
    "\n",
    "+ [2: Storing Document Text](example_nss_2_parsing.html)\n",
    "\n",
    "+ [3: Storing Parsed Documents](example_nss_3_parsetrees.html)"
   ],
   "metadata": {}
  },
  {
   "cell_type": "code",
   "execution_count": 1,
   "source": [
    "import sys\n",
    "sys.path.append('..')\n",
    "import doctable\n",
    "import spacy\n",
    "from tqdm import tqdm\n",
    "import pandas as pd\n",
    "import os\n",
    "from pprint import pprint\n",
    "import urllib.request # used for downloading nss docs\n",
    "\n",
    "# automatically clean up temp folder after python ends\n",
    "tmpfolder = doctable.TempFolder('tmp')"
   ],
   "outputs": [],
   "metadata": {}
  },
  {
   "cell_type": "markdown",
   "source": [
    "## Introduction to NSS Corpus\n",
    "This dataset is the plain text version of the US National Security Strategy documents. During the parsing process, all plain text files will be downloaded from my [github project hosting the nss docs](https://github.com/devincornell/nssdocs). I compiled the metadata you see below from [a page hosted by the historical dept of the secretary's office](https://history.defense.gov/Historical-Sources/National-Security-Strategy/). In short, each US President must release at least one NSS per term, with some (namely Clinton) producing more.\n",
    "\n",
    "I've defined the document metadata as `nss_metadata`, which contains the year (which I used to make the url), the president name, and the political party they belong to. We will later use `download_nss()` to actually download the text and store it into the database."
   ],
   "metadata": {}
  },
  {
   "cell_type": "code",
   "execution_count": 2,
   "source": [
    "def download_nss(year):\n",
    "    ''' Simple helper function for downloading texts from my nssdocs repo.'''\n",
    "    baseurl = 'https://raw.githubusercontent.com/devincornell/nssdocs/master/docs/{}.txt'\n",
    "    url = baseurl.format(year)\n",
    "    text = urllib.request.urlopen(url).read().decode('utf-8')\n",
    "    return text"
   ],
   "outputs": [],
   "metadata": {}
  },
  {
   "cell_type": "code",
   "execution_count": 3,
   "source": [
    "document_metadata = [\n",
    "    {'year': 2000, 'party': 'D', 'president': 'Clinton'},\n",
    "    {'year': 2002, 'party': 'R', 'president': 'W. Bush'}, \n",
    "    {'year': 2006, 'party': 'R', 'president': 'W. Bush'}, \n",
    "    {'year': 2010, 'party': 'D', 'president': 'Obama'}, \n",
    "    {'year': 2015, 'party': 'D', 'president': 'Obama'}, \n",
    "    {'year': 2017, 'party': 'R', 'president': 'Trump'}, \n",
    "]"
   ],
   "outputs": [],
   "metadata": {}
  },
  {
   "cell_type": "code",
   "execution_count": 4,
   "source": [
    "# downloader example: first 100 characters of 1993 NSS document\n",
    "text = download_nss(1993)\n",
    "text[:100]"
   ],
   "outputs": [
    {
     "output_type": "execute_result",
     "data": {
      "text/plain": [
       "'Preface \\n\\nAmerican Leadership for Peaceful Change \\n\\nOur great Nation stands at a crossroads in histo'"
      ]
     },
     "metadata": {},
     "execution_count": 4
    }
   ],
   "metadata": {}
  },
  {
   "cell_type": "markdown",
   "source": [
    "## 1. Create a Table Schema\n",
    "\n",
    "The first step will be to define a database schema that is appropriate for the data in `document_metadata`. We define an `NSSDoc` class to represent a single document. The `doctable.schema` decorator will convert the row objects into [`dataclasses`](https://realpython.com/python-data-classes/) with [slots](https://docs.python.org/3/reference/datamodel.html#slots) enabled, and inherit from doctable.DocTableRow to add some additional functionality. The type hints associated with each variable will be used in the schema definition for the new tables, and arguments to `doctable.Col` will mostly be passed to `dataclasses.field` (see [docs](https://doctable.org/ref/doctable/schemas/field_columns.html#Col) for more detail), so all dataclass functionality is maintained.\n",
    "\n",
    "See the [schema guide](examples/doctable_schema.html) for examples of the full range of column types."
   ],
   "metadata": {}
  },
  {
   "cell_type": "code",
   "execution_count": 5,
   "source": [
    "from typing import Any # import generic type hint\n",
    "\n",
    "# to be used as a database row representing a single NSS document\n",
    "@doctable.schema\n",
    "class NSSDoc:\n",
    "    __slots__ = [] # include so that doctable.schema can create a slot class\n",
    "    \n",
    "    id: int = doctable.IDCol() # this is an alias for doctable.Col(primary_key=True, autoincrement=True)\n",
    "    year: int =  doctable.Col()\n",
    "    party: str = doctable.Col()\n",
    "    president: str = doctable.Col()\n",
    "    text: str = doctable.Col()\n",
    "    tokens: Any = doctable.Col() # this will be used as a binary type that stores pickled data\n",
    "        \n",
    "    @property\n",
    "    def num_tokens(self):\n",
    "        return len(self.tokens)\n",
    "        \n",
    "    def paragraphs(self):\n",
    "        return self.text.split('\\n\\n')"
   ],
   "outputs": [],
   "metadata": {}
  },
  {
   "cell_type": "markdown",
   "source": [
    "## 2. Define a Custom DocTable\n",
    "\n",
    "Now we define a class called `NSSDocTable` to represent the database table. This table must inherit from `DocTable` and will store connection and schema information.\n",
    "The `DocTable` class is often used by subclassing. Our `NSSDocs` class inherits from `DocTable` and will store connection and schema information. Because the default constructor checks for statically define member variables `tabname` and `schema` (as well as others), we can simply add them to the class definition. \n",
    "\n",
    "We also can use this definition to create indices and constraints using the `_indices_` and `_constraints_` member variables. The indices are provided as name->columns pairs, and the constraints are tuples of the form `(constraint_type, constraint_details)`. In this case, we limit the values for `check` to R or D."
   ],
   "metadata": {}
  },
  {
   "cell_type": "code",
   "execution_count": 6,
   "source": [
    "class NSSDocTable(doctable.DocTable):\n",
    "    _tabname_ = 'nss_documents'\n",
    "    _schema_ = NSSDoc\n",
    "    _indices_ = (\n",
    "        doctable.Index('party_index', 'party'),\n",
    "    )\n",
    "    _constraints_ = (\n",
    "        doctable.Constraint('check', 'party in (\"R\", \"D\")'),\n",
    "    )"
   ],
   "outputs": [],
   "metadata": {}
  },
  {
   "cell_type": "markdown",
   "source": [
    "We can then create a connection to a database by instantiating the `NSSDocTable` class. We used `target=':memory:'` to indicate that the sqlite table should be created in-memory."
   ],
   "metadata": {}
  },
  {
   "cell_type": "code",
   "execution_count": 7,
   "source": [
    "# printing the DocTable object itself shows how many entries there are\n",
    "nss_table = NSSDocTable(target=':memory:')\n",
    "print(nss_table.count())\n",
    "print(nss_table)\n",
    "nss_table.schema_table()"
   ],
   "outputs": [
    {
     "output_type": "stream",
     "name": "stdout",
     "text": [
      "0\n",
      "<DocTable (6 cols)::sqlite:///:memory::nss_documents>\n"
     ]
    },
    {
     "output_type": "execute_result",
     "data": {
      "text/plain": [
       "        name     type  nullable default autoincrement  primary_key\n",
       "0         id  INTEGER     False    None          auto            1\n",
       "1       year  INTEGER      True    None          auto            0\n",
       "2      party  VARCHAR      True    None          auto            0\n",
       "3  president  VARCHAR      True    None          auto            0\n",
       "4       text  VARCHAR      True    None          auto            0\n",
       "5     tokens     BLOB      True    None          auto            0"
      ],
      "text/html": [
       "<div>\n",
       "<style scoped>\n",
       "    .dataframe tbody tr th:only-of-type {\n",
       "        vertical-align: middle;\n",
       "    }\n",
       "\n",
       "    .dataframe tbody tr th {\n",
       "        vertical-align: top;\n",
       "    }\n",
       "\n",
       "    .dataframe thead th {\n",
       "        text-align: right;\n",
       "    }\n",
       "</style>\n",
       "<table border=\"1\" class=\"dataframe\">\n",
       "  <thead>\n",
       "    <tr style=\"text-align: right;\">\n",
       "      <th></th>\n",
       "      <th>name</th>\n",
       "      <th>type</th>\n",
       "      <th>nullable</th>\n",
       "      <th>default</th>\n",
       "      <th>autoincrement</th>\n",
       "      <th>primary_key</th>\n",
       "    </tr>\n",
       "  </thead>\n",
       "  <tbody>\n",
       "    <tr>\n",
       "      <th>0</th>\n",
       "      <td>id</td>\n",
       "      <td>INTEGER</td>\n",
       "      <td>False</td>\n",
       "      <td>None</td>\n",
       "      <td>auto</td>\n",
       "      <td>1</td>\n",
       "    </tr>\n",
       "    <tr>\n",
       "      <th>1</th>\n",
       "      <td>year</td>\n",
       "      <td>INTEGER</td>\n",
       "      <td>True</td>\n",
       "      <td>None</td>\n",
       "      <td>auto</td>\n",
       "      <td>0</td>\n",
       "    </tr>\n",
       "    <tr>\n",
       "      <th>2</th>\n",
       "      <td>party</td>\n",
       "      <td>VARCHAR</td>\n",
       "      <td>True</td>\n",
       "      <td>None</td>\n",
       "      <td>auto</td>\n",
       "      <td>0</td>\n",
       "    </tr>\n",
       "    <tr>\n",
       "      <th>3</th>\n",
       "      <td>president</td>\n",
       "      <td>VARCHAR</td>\n",
       "      <td>True</td>\n",
       "      <td>None</td>\n",
       "      <td>auto</td>\n",
       "      <td>0</td>\n",
       "    </tr>\n",
       "    <tr>\n",
       "      <th>4</th>\n",
       "      <td>text</td>\n",
       "      <td>VARCHAR</td>\n",
       "      <td>True</td>\n",
       "      <td>None</td>\n",
       "      <td>auto</td>\n",
       "      <td>0</td>\n",
       "    </tr>\n",
       "    <tr>\n",
       "      <th>5</th>\n",
       "      <td>tokens</td>\n",
       "      <td>BLOB</td>\n",
       "      <td>True</td>\n",
       "      <td>None</td>\n",
       "      <td>auto</td>\n",
       "      <td>0</td>\n",
       "    </tr>\n",
       "  </tbody>\n",
       "</table>\n",
       "</div>"
      ]
     },
     "metadata": {},
     "execution_count": 7
    }
   ],
   "metadata": {}
  },
  {
   "cell_type": "markdown",
   "source": [
    "## 2. Insert Data Into the Table"
   ],
   "metadata": {}
  },
  {
   "cell_type": "markdown",
   "source": [
    "Now let's download and store the text into the database. Each loop downloads a text document and inserts it into the doctable, and we use the `.insert()` method to insert a single row at a time. The row to be inserted is represented as a dictionary, and any missing column information is left as NULL. The `ifnotunique` argument is set to false because if we were to re-run this code, it needs to replace the existing document of the same year. Recall that in the schema we placed a unique constraint on the year column."
   ],
   "metadata": {}
  },
  {
   "cell_type": "code",
   "execution_count": 8,
   "source": [
    "for docmeta in tqdm(document_metadata):\n",
    "    text = download_nss(docmeta['year'])\n",
    "    nss_table.insert({**docmeta, **{'text': text}}, ifnotunique='replace')\n",
    "nss_table.head()"
   ],
   "outputs": [
    {
     "output_type": "stream",
     "name": "stderr",
     "text": [
      "100%|██████████| 6/6 [00:01<00:00,  3.09it/s]\n"
     ]
    },
    {
     "output_type": "execute_result",
     "data": {
      "text/plain": [
       "   id  year party president  \\\n",
       "0   1  2000     D   Clinton   \n",
       "1   2  2002     R   W. Bush   \n",
       "2   3  2006     R   W. Bush   \n",
       "3   4  2010     D     Obama   \n",
       "4   5  2015     D     Obama   \n",
       "\n",
       "                                                text tokens  \n",
       "0  As we enter the new millennium, we are blessed...   None  \n",
       "1  The great struggles of the twentieth century b...   None  \n",
       "2  My fellow Americans, \\n\\nAmerica is at war. Th...   None  \n",
       "3  Time and again in our Nation's history, Americ...   None  \n",
       "4  Today, the United States is stronger and bette...   None  "
      ],
      "text/html": [
       "<div>\n",
       "<style scoped>\n",
       "    .dataframe tbody tr th:only-of-type {\n",
       "        vertical-align: middle;\n",
       "    }\n",
       "\n",
       "    .dataframe tbody tr th {\n",
       "        vertical-align: top;\n",
       "    }\n",
       "\n",
       "    .dataframe thead th {\n",
       "        text-align: right;\n",
       "    }\n",
       "</style>\n",
       "<table border=\"1\" class=\"dataframe\">\n",
       "  <thead>\n",
       "    <tr style=\"text-align: right;\">\n",
       "      <th></th>\n",
       "      <th>id</th>\n",
       "      <th>year</th>\n",
       "      <th>party</th>\n",
       "      <th>president</th>\n",
       "      <th>text</th>\n",
       "      <th>tokens</th>\n",
       "    </tr>\n",
       "  </thead>\n",
       "  <tbody>\n",
       "    <tr>\n",
       "      <th>0</th>\n",
       "      <td>1</td>\n",
       "      <td>2000</td>\n",
       "      <td>D</td>\n",
       "      <td>Clinton</td>\n",
       "      <td>As we enter the new millennium, we are blessed...</td>\n",
       "      <td>None</td>\n",
       "    </tr>\n",
       "    <tr>\n",
       "      <th>1</th>\n",
       "      <td>2</td>\n",
       "      <td>2002</td>\n",
       "      <td>R</td>\n",
       "      <td>W. Bush</td>\n",
       "      <td>The great struggles of the twentieth century b...</td>\n",
       "      <td>None</td>\n",
       "    </tr>\n",
       "    <tr>\n",
       "      <th>2</th>\n",
       "      <td>3</td>\n",
       "      <td>2006</td>\n",
       "      <td>R</td>\n",
       "      <td>W. Bush</td>\n",
       "      <td>My fellow Americans, \\n\\nAmerica is at war. Th...</td>\n",
       "      <td>None</td>\n",
       "    </tr>\n",
       "    <tr>\n",
       "      <th>3</th>\n",
       "      <td>4</td>\n",
       "      <td>2010</td>\n",
       "      <td>D</td>\n",
       "      <td>Obama</td>\n",
       "      <td>Time and again in our Nation's history, Americ...</td>\n",
       "      <td>None</td>\n",
       "    </tr>\n",
       "    <tr>\n",
       "      <th>4</th>\n",
       "      <td>5</td>\n",
       "      <td>2015</td>\n",
       "      <td>D</td>\n",
       "      <td>Obama</td>\n",
       "      <td>Today, the United States is stronger and bette...</td>\n",
       "      <td>None</td>\n",
       "    </tr>\n",
       "  </tbody>\n",
       "</table>\n",
       "</div>"
      ]
     },
     "metadata": {},
     "execution_count": 8
    }
   ],
   "metadata": {}
  },
  {
   "cell_type": "markdown",
   "source": [
    "## 3. Query Table Data\n",
    "Now that we have inserted the NSS documents into the table, there are a few ways we can query the data. To select the first entry of the table use `.select_first()`. This method returns a simple `sqlalchemy.RowProxy` object which can be accessed like a dictionary or like a tuple."
   ],
   "metadata": {}
  },
  {
   "cell_type": "code",
   "execution_count": 9,
   "source": [
    "row = nss_table.select_first(['id', 'year', 'party', 'president'])\n",
    "print(row)\n",
    "print(row['president'])"
   ],
   "outputs": [
    {
     "output_type": "stream",
     "name": "stdout",
     "text": [
      "NSSDoc(id=1, year=2000, party='D', president='Clinton')\n",
      "Clinton\n"
     ]
    }
   ],
   "metadata": {}
  },
  {
   "cell_type": "markdown",
   "source": [
    "To select more than one row, use the `.select()` method. If you'd only like to return the first few rows, you can use the `limit` argument."
   ],
   "metadata": {}
  },
  {
   "cell_type": "code",
   "execution_count": 10,
   "source": [
    "rows = nss_table.select(limit=2)\n",
    "print(rows[0]['year'])\n",
    "print(rows[1]['year'])"
   ],
   "outputs": [
    {
     "output_type": "stream",
     "name": "stdout",
     "text": [
      "2000\n",
      "2002\n"
     ]
    }
   ],
   "metadata": {}
  },
  {
   "cell_type": "markdown",
   "source": [
    "We can also select only a few columns."
   ],
   "metadata": {}
  },
  {
   "cell_type": "code",
   "execution_count": 11,
   "source": [
    "nss_table.select(['year', 'president'], limit=3)"
   ],
   "outputs": [
    {
     "output_type": "execute_result",
     "data": {
      "text/plain": [
       "[NSSDoc(year=2000, president='Clinton'),\n",
       " NSSDoc(year=2002, president='W. Bush'),\n",
       " NSSDoc(year=2006, president='W. Bush')]"
      ]
     },
     "metadata": {},
     "execution_count": 11
    }
   ],
   "metadata": {}
  },
  {
   "cell_type": "markdown",
   "source": [
    "For convenience, we can also use the `.select_df()` method to return directly as a pandas dataframe."
   ],
   "metadata": {}
  },
  {
   "cell_type": "code",
   "execution_count": 12,
   "source": [
    "# use select_df to show a couple rows of our database\n",
    "nss_table.select_df(limit=2)"
   ],
   "outputs": [
    {
     "output_type": "execute_result",
     "data": {
      "text/plain": [
       "   id  year party president  \\\n",
       "0   1  2000     D   Clinton   \n",
       "1   2  2002     R   W. Bush   \n",
       "\n",
       "                                                text tokens  \n",
       "0  As we enter the new millennium, we are blessed...   None  \n",
       "1  The great struggles of the twentieth century b...   None  "
      ],
      "text/html": [
       "<div>\n",
       "<style scoped>\n",
       "    .dataframe tbody tr th:only-of-type {\n",
       "        vertical-align: middle;\n",
       "    }\n",
       "\n",
       "    .dataframe tbody tr th {\n",
       "        vertical-align: top;\n",
       "    }\n",
       "\n",
       "    .dataframe thead th {\n",
       "        text-align: right;\n",
       "    }\n",
       "</style>\n",
       "<table border=\"1\" class=\"dataframe\">\n",
       "  <thead>\n",
       "    <tr style=\"text-align: right;\">\n",
       "      <th></th>\n",
       "      <th>id</th>\n",
       "      <th>year</th>\n",
       "      <th>party</th>\n",
       "      <th>president</th>\n",
       "      <th>text</th>\n",
       "      <th>tokens</th>\n",
       "    </tr>\n",
       "  </thead>\n",
       "  <tbody>\n",
       "    <tr>\n",
       "      <th>0</th>\n",
       "      <td>1</td>\n",
       "      <td>2000</td>\n",
       "      <td>D</td>\n",
       "      <td>Clinton</td>\n",
       "      <td>As we enter the new millennium, we are blessed...</td>\n",
       "      <td>None</td>\n",
       "    </tr>\n",
       "    <tr>\n",
       "      <th>1</th>\n",
       "      <td>2</td>\n",
       "      <td>2002</td>\n",
       "      <td>R</td>\n",
       "      <td>W. Bush</td>\n",
       "      <td>The great struggles of the twentieth century b...</td>\n",
       "      <td>None</td>\n",
       "    </tr>\n",
       "  </tbody>\n",
       "</table>\n",
       "</div>"
      ]
     },
     "metadata": {},
     "execution_count": 12
    }
   ],
   "metadata": {}
  },
  {
   "cell_type": "markdown",
   "source": [
    "And access the `.paragraphs()` method we defined in `NSSDoc`."
   ],
   "metadata": {}
  },
  {
   "cell_type": "code",
   "execution_count": 13,
   "source": [
    "for row in nss_table.select(limit=3):\n",
    "    print(f\"{row['president']} ({row['year']}): num_paragraphs={len(row.paragraphs())}\")"
   ],
   "outputs": [
    {
     "output_type": "stream",
     "name": "stdout",
     "text": [
      "Clinton (2000): num_paragraphs=569\n",
      "W. Bush (2002): num_paragraphs=199\n",
      "W. Bush (2006): num_paragraphs=474\n"
     ]
    }
   ],
   "metadata": {}
  },
  {
   "cell_type": "markdown",
   "source": [
    "## 4. Create a Parser for Tokenization\n",
    "Now that the text is in the doctable, we can extract it using `.select()`, parse it, and store the parsed text back into the table using `.update()`.\n",
    "\n",
    "Now we create a parser using `ParsePipeline` and a list of functions to apply to the text sequentially. The `Comp` function returns a [doctable parse function](ref/doctable.parse.html) with additional keyword arguments. For instance, the following two expressions would be the same.\n",
    "```\n",
    "doctable.Comp('keep_tok', keep_punct=True) # is equivalent to\n",
    "lambda x: doctable.parse.parse_tok_func(x, keep_punct=True)\n",
    "```\n",
    "Note in this example that the 'tokenize' function takes two function arguments: `keep_tok_func` and `parse_tok_func`, which are also specified using the `.Comp()` function. The available pipeline components are listed in the [parse function documentation](ref/doctable.parse.html)."
   ],
   "metadata": {}
  },
  {
   "cell_type": "code",
   "execution_count": 14,
   "source": [
    "# add pipeline components\n",
    "parser = doctable.ParsePipeline([\n",
    "    spacy.load('en_core_web_sm'), # load a spacy parser as first step in pipeline\n",
    "    doctable.Comp('tokenize', **{\n",
    "        'split_sents': False,\n",
    "        'keep_tok_func': doctable.Comp('keep_tok'),\n",
    "        'parse_tok_func': doctable.Comp('parse_tok'),\n",
    "    })\n",
    "])\n",
    "\n",
    "parser.components"
   ],
   "outputs": [
    {
     "output_type": "execute_result",
     "data": {
      "text/plain": [
       "[<spacy.lang.en.English at 0x7fe03e1467f0>,\n",
       " functools.partial(<function tokenize at 0x7fe0eaf77160>, split_sents=False, keep_tok_func=functools.partial(<function keep_tok at 0x7fe0eaf77280>), parse_tok_func=functools.partial(<function parse_tok at 0x7fe0eaf771f0>))]"
      ]
     },
     "metadata": {},
     "execution_count": 14
    }
   ],
   "metadata": {}
  },
  {
   "cell_type": "markdown",
   "source": [
    "Now we loop through rows in the doctable and for each iteration parse the text and insert it back into the table using `.update()`. We use the `ParsePipeline` method `.parsemany()` to parse paragraphs from each document in parallel."
   ],
   "metadata": {}
  },
  {
   "cell_type": "code",
   "execution_count": 15,
   "source": [
    "for doc in tqdm(nss_table.select(['id','year','text'])):\n",
    "    paragraphs = parser.parsemany(doc.text.split('\\n\\n'), workers=30) # parse paragraphs in parallel\n",
    "    nss_table.update({'tokens': [t for p in paragraphs for t in p]}, where=nss_table['id']==doc['id'])"
   ],
   "outputs": [
    {
     "output_type": "stream",
     "name": "stderr",
     "text": [
      "100%|██████████| 6/6 [00:07<00:00,  1.19s/it]\n"
     ]
    }
   ],
   "metadata": {}
  },
  {
   "cell_type": "code",
   "execution_count": 16,
   "source": [
    "nss_table.select_df(limit=3)"
   ],
   "outputs": [
    {
     "output_type": "execute_result",
     "data": {
      "text/plain": [
       "   id  year party president  \\\n",
       "0   1  2000     D   Clinton   \n",
       "1   2  2002     R   W. Bush   \n",
       "2   3  2006     R   W. Bush   \n",
       "\n",
       "                                                text  \\\n",
       "0  As we enter the new millennium, we are blessed...   \n",
       "1  The great struggles of the twentieth century b...   \n",
       "2  My fellow Americans, \\n\\nAmerica is at war. Th...   \n",
       "\n",
       "                                              tokens  \n",
       "0  [as, we, enter, the, new, millennium, ,, we, a...  \n",
       "1  [the, great, struggles, of, the, twentieth, ce...  \n",
       "2  [my, fellow, Americans, ,, America, is, at, wa...  "
      ],
      "text/html": [
       "<div>\n",
       "<style scoped>\n",
       "    .dataframe tbody tr th:only-of-type {\n",
       "        vertical-align: middle;\n",
       "    }\n",
       "\n",
       "    .dataframe tbody tr th {\n",
       "        vertical-align: top;\n",
       "    }\n",
       "\n",
       "    .dataframe thead th {\n",
       "        text-align: right;\n",
       "    }\n",
       "</style>\n",
       "<table border=\"1\" class=\"dataframe\">\n",
       "  <thead>\n",
       "    <tr style=\"text-align: right;\">\n",
       "      <th></th>\n",
       "      <th>id</th>\n",
       "      <th>year</th>\n",
       "      <th>party</th>\n",
       "      <th>president</th>\n",
       "      <th>text</th>\n",
       "      <th>tokens</th>\n",
       "    </tr>\n",
       "  </thead>\n",
       "  <tbody>\n",
       "    <tr>\n",
       "      <th>0</th>\n",
       "      <td>1</td>\n",
       "      <td>2000</td>\n",
       "      <td>D</td>\n",
       "      <td>Clinton</td>\n",
       "      <td>As we enter the new millennium, we are blessed...</td>\n",
       "      <td>[as, we, enter, the, new, millennium, ,, we, a...</td>\n",
       "    </tr>\n",
       "    <tr>\n",
       "      <th>1</th>\n",
       "      <td>2</td>\n",
       "      <td>2002</td>\n",
       "      <td>R</td>\n",
       "      <td>W. Bush</td>\n",
       "      <td>The great struggles of the twentieth century b...</td>\n",
       "      <td>[the, great, struggles, of, the, twentieth, ce...</td>\n",
       "    </tr>\n",
       "    <tr>\n",
       "      <th>2</th>\n",
       "      <td>3</td>\n",
       "      <td>2006</td>\n",
       "      <td>R</td>\n",
       "      <td>W. Bush</td>\n",
       "      <td>My fellow Americans, \\n\\nAmerica is at war. Th...</td>\n",
       "      <td>[my, fellow, Americans, ,, America, is, at, wa...</td>\n",
       "    </tr>\n",
       "  </tbody>\n",
       "</table>\n",
       "</div>"
      ]
     },
     "metadata": {},
     "execution_count": 16
    }
   ],
   "metadata": {}
  },
  {
   "cell_type": "code",
   "execution_count": 17,
   "source": [
    "for doc in nss_table.select():\n",
    "    print(f\"{doc.president} ({doc.year}): {len(doc.tokens)} tokens.\")"
   ],
   "outputs": [
    {
     "output_type": "stream",
     "name": "stdout",
     "text": [
      "Clinton (2000): 50156 tokens.\n",
      "W. Bush (2002): 14493 tokens.\n",
      "W. Bush (2006): 21590 tokens.\n",
      "Obama (2010): 31997 tokens.\n",
      "Obama (2015): 16611 tokens.\n",
      "Trump (2017): 24420 tokens.\n"
     ]
    }
   ],
   "metadata": {}
  },
  {
   "cell_type": "markdown",
   "source": [
    "And that is all for this vignette! See the list of vignettes at the top of this page for more examples."
   ],
   "metadata": {}
  }
 ],
 "metadata": {
  "kernelspec": {
   "name": "python3",
   "display_name": "Python 3.8.5 64-bit ('base': conda)"
  },
  "language_info": {
   "codemirror_mode": {
    "name": "ipython",
    "version": 3
   },
   "file_extension": ".py",
   "mimetype": "text/x-python",
   "name": "python",
   "nbconvert_exporter": "python",
   "pygments_lexer": "ipython3",
   "version": "3.8.5"
  },
  "interpreter": {
   "hash": "80712910726593b564a07c7ac6087ce3072c1b43af7fa58c28aea85a2c346dd3"
  }
 },
 "nbformat": 4,
 "nbformat_minor": 4
}