{
 "cells": [
  {
   "cell_type": "code",
   "execution_count": 1,
   "metadata": {},
   "outputs": [],
   "source": [
    "import random\n",
    "import pandas as pd\n",
    "import numpy as np\n",
    "import sys\n",
    "sys.path.append('..')\n",
    "import doctable as dt"
   ]
  },
  {
   "cell_type": "code",
   "execution_count": 2,
   "metadata": {},
   "outputs": [
    {
     "name": "stdout",
     "output_type": "stream",
     "text": [
      "<DocTable2::_documents_ ct: 0>\n"
     ]
    }
   ],
   "source": [
    "schema = (\n",
    "    ('id','integer',dict(primary_key=True, autoincrement=True)),\n",
    "    ('name','string', dict(nullable=False)),\n",
    "    ('age','integer'),\n",
    "    ('is_old', 'boolean'),\n",
    ")\n",
    "db = dt.DocTable2(schema)\n",
    "print(db)"
   ]
  },
  {
   "cell_type": "code",
   "execution_count": 3,
   "metadata": {},
   "outputs": [
    {
     "name": "stdout",
     "output_type": "stream",
     "text": [
      "<DocTable2::_documents_ ct: 5>\n"
     ]
    }
   ],
   "source": [
    "N = 5\n",
    "for i in range(N):\n",
    "    age = random.random() # number in [0,1]\n",
    "    is_old = age > 0.5\n",
    "    row = {'name':'user_'+str(i), 'age':age, 'is_old':is_old}\n",
    "    db.insert(row)\n",
    "print(db)"
   ]
  },
  {
   "cell_type": "code",
   "execution_count": 4,
   "metadata": {},
   "outputs": [
    {
     "name": "stdout",
     "output_type": "stream",
     "text": [
      "(1, 'user_0', 0.5936955992324471, True)\n",
      "(2, 'user_1', 0.31053348011189275, False)\n",
      "(3, 'user_2', 0.040883152659224375, False)\n",
      "(4, 'user_3', 0.6652588950640632, True)\n",
      "(5, 'user_4', 0.07145453086837894, False)\n"
     ]
    }
   ],
   "source": [
    "for doc in db.select():\n",
    "    print(doc)"
   ]
  },
  {
   "cell_type": "markdown",
   "metadata": {},
   "source": [
    "The `.get_doc_sample()` method will get a single doc sample."
   ]
  },
  {
   "cell_type": "code",
   "execution_count": 5,
   "metadata": {},
   "outputs": [
    {
     "name": "stdout",
     "output_type": "stream",
     "text": [
      "(3, 'user_2', 0.040883152659224375, False)\n",
      "(3, 'user_2', 0.040883152659224375, False)\n",
      "(3, 'user_2', 0.040883152659224375, False)\n",
      "(3, 'user_2', 0.040883152659224375, False)\n",
      "(3, 'user_2', 0.040883152659224375, False)\n",
      "(5, 'user_4', 0.07145453086837894, False)\n",
      "(1, 'user_0', 0.5936955992324471, True)\n"
     ]
    }
   ],
   "source": [
    "bs = db.get_bootstrap()\n",
    "for idx,doc in bs.get_doc_sample(7):\n",
    "    print(doc)"
   ]
  },
  {
   "cell_type": "markdown",
   "metadata": {},
   "source": [
    "Use a combination of `.draw_sample()` and `.get_docs()` to set stateful sample and then retrieve and then draw sample respectively. Can be used when you want to draw docs multiple times from a single sample (i.e. training a stochastically initialized algorithm like Word2Vec or LDA)."
   ]
  },
  {
   "cell_type": "code",
   "execution_count": 7,
   "metadata": {},
   "outputs": [
    {
     "name": "stdout",
     "output_type": "stream",
     "text": [
      "pulling docs\n",
      "('user_0', 0.5936955992324471, True)\n",
      "('user_3', 0.6652588950640632, True)\n",
      "('user_0', 0.5936955992324471, True)\n",
      "pulling docs\n",
      "('user_0', 0.5936955992324471, True)\n",
      "('user_3', 0.6652588950640632, True)\n",
      "('user_0', 0.5936955992324471, True)\n"
     ]
    }
   ],
   "source": [
    "bs = db.get_bootstrap(['name','age','is_old'], where=db['is_old'])\n",
    "bs.draw_sample(3)\n",
    "for _ in range(2):\n",
    "    print('pulling docs')\n",
    "    for idx, doc in bs.get_docs():\n",
    "        print(doc)"
   ]
  }
 ],
 "metadata": {
  "kernelspec": {
   "display_name": "Python 3",
   "language": "python",
   "name": "python3"
  },
  "language_info": {
   "codemirror_mode": {
    "name": "ipython",
    "version": 3
   },
   "file_extension": ".py",
   "mimetype": "text/x-python",
   "name": "python",
   "nbconvert_exporter": "python",
   "pygments_lexer": "ipython3",
   "version": "3.6.9"
  }
 },
 "nbformat": 4,
 "nbformat_minor": 4
}
