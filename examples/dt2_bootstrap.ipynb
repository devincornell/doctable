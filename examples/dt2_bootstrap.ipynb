{
 "cells": [
  {
   "cell_type": "code",
   "execution_count": 2,
   "metadata": {},
   "outputs": [],
   "source": [
    "import random\n",
    "import pandas as pd\n",
    "import numpy as np\n",
    "import sys\n",
    "sys.path.append('..')\n",
    "import doctable as dt"
   ]
  },
  {
   "cell_type": "code",
   "execution_count": 3,
   "metadata": {},
   "outputs": [
    {
     "name": "stdout",
     "output_type": "stream",
     "text": [
      "<DocTable2::_documents_ ct: 0>\n"
     ]
    }
   ],
   "source": [
    "schema = (\n",
    "    ('id','integer',dict(primary_key=True, autoincrement=True)),\n",
    "    ('name','string', dict(nullable=False)),\n",
    "    ('age','integer'),\n",
    "    ('is_old', 'boolean'),\n",
    ")\n",
    "db = dt.DocTable2(schema)\n",
    "print(db)"
   ]
  },
  {
   "cell_type": "code",
   "execution_count": 4,
   "metadata": {},
   "outputs": [
    {
     "name": "stdout",
     "output_type": "stream",
     "text": [
      "<DocTable2::_documents_ ct: 5>\n"
     ]
    }
   ],
   "source": [
    "N = 5\n",
    "for i in range(N):\n",
    "    age = random.random() # number in [0,1]\n",
    "    is_old = age > 0.5\n",
    "    row = {'name':'user_'+str(i), 'age':age, 'is_old':is_old}\n",
    "    db.insert(row)\n",
    "print(db)"
   ]
  },
  {
   "cell_type": "code",
   "execution_count": 31,
   "metadata": {},
   "outputs": [
    {
     "name": "stdout",
     "output_type": "stream",
     "text": [
      "(1, 'user_0', 0.30176060635557334, False)\n",
      "(2, 'user_1', 0.9400780017406856, True)\n",
      "(3, 'user_2', 0.9104748464222276, True)\n",
      "(4, 'user_3', 0.07953104965042512, False)\n",
      "(5, 'user_4', 0.918441267456599, True)\n"
     ]
    }
   ],
   "source": [
    "for doc in db.select():\n",
    "    print(doc)"
   ]
  },
  {
   "cell_type": "code",
   "execution_count": 34,
   "metadata": {},
   "outputs": [
    {
     "name": "stdout",
     "output_type": "stream",
     "text": [
      "(1, 'user_0', 0.30176060635557334, False)\n",
      "(2, 'user_1', 0.9400780017406856, True)\n",
      "(4, 'user_3', 0.07953104965042512, False)\n",
      "(2, 'user_1', 0.9400780017406856, True)\n",
      "(2, 'user_1', 0.9400780017406856, True)\n",
      "(3, 'user_2', 0.9104748464222276, True)\n",
      "(5, 'user_4', 0.918441267456599, True)\n"
     ]
    }
   ],
   "source": [
    "bs = db.get_bootstrap()\n",
    "for doc in bs.sample(7):\n",
    "    print(doc)"
   ]
  },
  {
   "cell_type": "code",
   "execution_count": 37,
   "metadata": {},
   "outputs": [
    {
     "data": {
      "text/plain": [
       "[('user_4', 0.918441267456599, True),\n",
       " ('user_1', 0.9400780017406856, True),\n",
       " ('user_2', 0.9104748464222276, True),\n",
       " ('user_1', 0.9400780017406856, True),\n",
       " ('user_2', 0.9104748464222276, True),\n",
       " ('user_2', 0.9104748464222276, True),\n",
       " ('user_1', 0.9400780017406856, True),\n",
       " ('user_2', 0.9104748464222276, True),\n",
       " ('user_2', 0.9104748464222276, True),\n",
       " ('user_2', 0.9104748464222276, True)]"
      ]
     },
     "execution_count": 37,
     "metadata": {},
     "output_type": "execute_result"
    }
   ],
   "source": [
    "bs = db.get_bootstrap(['name','age','is_old'], where=db['is_old'])\n",
    "list(bs.sample(10))"
   ]
  }
 ],
 "metadata": {
  "kernelspec": {
   "display_name": "Python 3",
   "language": "python",
   "name": "python3"
  },
  "language_info": {
   "codemirror_mode": {
    "name": "ipython",
    "version": 3
   },
   "file_extension": ".py",
   "mimetype": "text/x-python",
   "name": "python",
   "nbconvert_exporter": "python",
   "pygments_lexer": "ipython3",
   "version": "3.6.9"
  }
 },
 "nbformat": 4,
 "nbformat_minor": 4
}
