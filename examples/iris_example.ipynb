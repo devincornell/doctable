{
 "cells": [
  {
   "cell_type": "code",
   "execution_count": 1,
   "metadata": {},
   "outputs": [],
   "source": [
    "from __future__ import annotations\n",
    "import pprint\n",
    "import pandas as pd\n",
    "\n",
    "import sys\n",
    "sys.path.append('../')\n",
    "import doctable"
   ]
  },
  {
   "cell_type": "markdown",
   "metadata": {},
   "source": [
    "The iris dataset is simply a list of flowers with information about the sepal, petal, and species."
   ]
  },
  {
   "cell_type": "code",
   "execution_count": 2,
   "metadata": {},
   "outputs": [
    {
     "data": {
      "text/html": [
       "<div>\n",
       "<style scoped>\n",
       "    .dataframe tbody tr th:only-of-type {\n",
       "        vertical-align: middle;\n",
       "    }\n",
       "\n",
       "    .dataframe tbody tr th {\n",
       "        vertical-align: top;\n",
       "    }\n",
       "\n",
       "    .dataframe thead th {\n",
       "        text-align: right;\n",
       "    }\n",
       "</style>\n",
       "<table border=\"1\" class=\"dataframe\">\n",
       "  <thead>\n",
       "    <tr style=\"text-align: right;\">\n",
       "      <th></th>\n",
       "      <th>sepal_length</th>\n",
       "      <th>sepal_width</th>\n",
       "      <th>petal_length</th>\n",
       "      <th>petal_width</th>\n",
       "      <th>species</th>\n",
       "    </tr>\n",
       "  </thead>\n",
       "  <tbody>\n",
       "    <tr>\n",
       "      <th>0</th>\n",
       "      <td>5.1</td>\n",
       "      <td>3.5</td>\n",
       "      <td>1.4</td>\n",
       "      <td>0.2</td>\n",
       "      <td>setosa</td>\n",
       "    </tr>\n",
       "    <tr>\n",
       "      <th>1</th>\n",
       "      <td>4.9</td>\n",
       "      <td>3.0</td>\n",
       "      <td>1.4</td>\n",
       "      <td>0.2</td>\n",
       "      <td>setosa</td>\n",
       "    </tr>\n",
       "    <tr>\n",
       "      <th>2</th>\n",
       "      <td>4.7</td>\n",
       "      <td>3.2</td>\n",
       "      <td>1.3</td>\n",
       "      <td>0.2</td>\n",
       "      <td>setosa</td>\n",
       "    </tr>\n",
       "    <tr>\n",
       "      <th>3</th>\n",
       "      <td>4.6</td>\n",
       "      <td>3.1</td>\n",
       "      <td>1.5</td>\n",
       "      <td>0.2</td>\n",
       "      <td>setosa</td>\n",
       "    </tr>\n",
       "    <tr>\n",
       "      <th>4</th>\n",
       "      <td>5.0</td>\n",
       "      <td>3.6</td>\n",
       "      <td>1.4</td>\n",
       "      <td>0.2</td>\n",
       "      <td>setosa</td>\n",
       "    </tr>\n",
       "  </tbody>\n",
       "</table>\n",
       "</div>"
      ],
      "text/plain": [
       "   sepal_length  sepal_width  petal_length  petal_width species\n",
       "0           5.1          3.5           1.4          0.2  setosa\n",
       "1           4.9          3.0           1.4          0.2  setosa\n",
       "2           4.7          3.2           1.3          0.2  setosa\n",
       "3           4.6          3.1           1.5          0.2  setosa\n",
       "4           5.0          3.6           1.4          0.2  setosa"
      ]
     },
     "execution_count": 2,
     "metadata": {},
     "output_type": "execute_result"
    }
   ],
   "source": [
    "iris_df = pd.read_csv('https://raw.githubusercontent.com/mwaskom/seaborn-data/master/iris.csv')\n",
    "iris_df.head()"
   ]
  },
  {
   "cell_type": "code",
   "execution_count": 3,
   "metadata": {},
   "outputs": [
    {
     "data": {
      "text/plain": [
       "ConnectCore(target=':memory:', dialect='sqlite', engine=Engine(sqlite:///:memory:), metadata=MetaData())"
      ]
     },
     "execution_count": 3,
     "metadata": {},
     "output_type": "execute_result"
    }
   ],
   "source": [
    "core = doctable.ConnectCore.open(\n",
    "    target=':memory:', # use a filename for a sqlite to write to disk\n",
    "    dialect='sqlite',\n",
    "    echo=True,\n",
    ")\n",
    "core"
   ]
  },
  {
   "cell_type": "code",
   "execution_count": 4,
   "metadata": {},
   "outputs": [
    {
     "data": {
      "text/plain": [
       "Iris(sepal_length=1, sepal_width=2, petal_length=3, petal_width=4, species='setosa', id=MISSING, updated=MISSING, added=MISSING)"
      ]
     },
     "execution_count": 4,
     "metadata": {},
     "output_type": "execute_result"
    }
   ],
   "source": [
    "import datetime\n",
    "\n",
    "@doctable.table_schema(table_name='iris', slots=True)\n",
    "class Iris:\n",
    "    sepal_length: float\n",
    "    sepal_width: float\n",
    "    petal_length: float\n",
    "    petal_width: float\n",
    "    species: str\n",
    "    \n",
    "    id: int = doctable.Column(\n",
    "        column_args=doctable.ColumnArgs(order=0, primary_key=True, autoincrement=True),\n",
    "    )\n",
    "    updated: datetime.datetime = doctable.Column(\n",
    "        column_args=doctable.ColumnArgs(default=datetime.datetime.utcnow),\n",
    "    )\n",
    "    added: datetime.datetime = doctable.Column(\n",
    "        column_args=doctable.ColumnArgs(\n",
    "            default=datetime.datetime.utcnow, \n",
    "            onupdate=datetime.datetime.utcnow\n",
    "        )\n",
    "    )\n",
    "    \n",
    "    @classmethod\n",
    "    def from_row(cls, row: pd.Series):\n",
    "        return cls(**row)\n",
    "\n",
    "Iris(sepal_length=1, sepal_width=2, petal_length=3, petal_width=4, species='setosa')"
   ]
  },
  {
   "cell_type": "code",
   "execution_count": 5,
   "metadata": {},
   "outputs": [
    {
     "name": "stdout",
     "output_type": "stream",
     "text": [
      "Iris(sepal_length=5.1, sepal_width=3.5, petal_length=1.4, petal_width=0.2, species='setosa', id=MISSING, updated=MISSING, added=MISSING)\n"
     ]
    }
   ],
   "source": [
    "irises = [Iris.from_row(row) for _, row in iris_df.iterrows()]\n",
    "print(irises[0])"
   ]
  },
  {
   "cell_type": "code",
   "execution_count": 6,
   "metadata": {},
   "outputs": [
    {
     "name": "stdout",
     "output_type": "stream",
     "text": [
      "2023-11-05 10:57:30,496 INFO sqlalchemy.engine.Engine BEGIN (implicit)\n",
      "2023-11-05 10:57:30,497 INFO sqlalchemy.engine.Engine PRAGMA main.table_info(\"iris\")\n",
      "2023-11-05 10:57:30,498 INFO sqlalchemy.engine.Engine [raw sql] ()\n",
      "2023-11-05 10:57:30,499 INFO sqlalchemy.engine.Engine PRAGMA temp.table_info(\"iris\")\n",
      "2023-11-05 10:57:30,500 INFO sqlalchemy.engine.Engine [raw sql] ()\n",
      "2023-11-05 10:57:30,502 INFO sqlalchemy.engine.Engine \n",
      "CREATE TABLE iris (\n",
      "\tid INTEGER, \n",
      "\tadded DATETIME, \n",
      "\tpetal_length FLOAT, \n",
      "\tpetal_width FLOAT, \n",
      "\tsepal_length FLOAT, \n",
      "\tsepal_width FLOAT, \n",
      "\tspecies VARCHAR, \n",
      "\tupdated DATETIME, \n",
      "\tPRIMARY KEY (id)\n",
      ")\n",
      "\n",
      "\n",
      "2023-11-05 10:57:30,503 INFO sqlalchemy.engine.Engine [no key 0.00084s] ()\n",
      "2023-11-05 10:57:30,504 INFO sqlalchemy.engine.Engine COMMIT\n",
      "2023-11-05 10:57:30,505 INFO sqlalchemy.engine.Engine BEGIN (implicit)\n",
      "2023-11-05 10:57:30,505 INFO sqlalchemy.engine.Engine PRAGMA main.table_xinfo(\"iris\")\n",
      "2023-11-05 10:57:30,506 INFO sqlalchemy.engine.Engine [raw sql] ()\n",
      "2023-11-05 10:57:30,507 INFO sqlalchemy.engine.Engine ROLLBACK\n"
     ]
    },
    {
     "data": {
      "text/plain": [
       "[{'name': 'id',\n",
       "  'type': INTEGER(),\n",
       "  'nullable': True,\n",
       "  'default': None,\n",
       "  'primary_key': 1},\n",
       " {'name': 'added',\n",
       "  'type': DATETIME(),\n",
       "  'nullable': True,\n",
       "  'default': None,\n",
       "  'primary_key': 0},\n",
       " {'name': 'petal_length',\n",
       "  'type': FLOAT(),\n",
       "  'nullable': True,\n",
       "  'default': None,\n",
       "  'primary_key': 0},\n",
       " {'name': 'petal_width',\n",
       "  'type': FLOAT(),\n",
       "  'nullable': True,\n",
       "  'default': None,\n",
       "  'primary_key': 0},\n",
       " {'name': 'sepal_length',\n",
       "  'type': FLOAT(),\n",
       "  'nullable': True,\n",
       "  'default': None,\n",
       "  'primary_key': 0},\n",
       " {'name': 'sepal_width',\n",
       "  'type': FLOAT(),\n",
       "  'nullable': True,\n",
       "  'default': None,\n",
       "  'primary_key': 0},\n",
       " {'name': 'species',\n",
       "  'type': VARCHAR(),\n",
       "  'nullable': True,\n",
       "  'default': None,\n",
       "  'primary_key': 0},\n",
       " {'name': 'updated',\n",
       "  'type': DATETIME(),\n",
       "  'nullable': True,\n",
       "  'default': None,\n",
       "  'primary_key': 0}]"
      ]
     },
     "execution_count": 6,
     "metadata": {},
     "output_type": "execute_result"
    }
   ],
   "source": [
    "with core.begin_ddl() as emitter:\n",
    "    itab = emitter.create_table_if_not_exists(Iris)\n",
    "itab.name\n",
    "#itab.inspect().get_columns()\n",
    "import sqlalchemy\n",
    "itab.inspect_columns()"
   ]
  },
  {
   "cell_type": "markdown",
   "metadata": {},
   "source": [
    "## Running Queries\n",
    "\n",
    "### General Queries"
   ]
  },
  {
   "cell_type": "code",
   "execution_count": 7,
   "metadata": {},
   "outputs": [
    {
     "name": "stdout",
     "output_type": "stream",
     "text": [
      "2023-11-05 10:57:30,553 INFO sqlalchemy.engine.Engine BEGIN (implicit)\n",
      "2023-11-05 10:57:30,555 INFO sqlalchemy.engine.Engine DELETE FROM iris\n",
      "2023-11-05 10:57:30,556 INFO sqlalchemy.engine.Engine [generated in 0.00275s] ()\n",
      "2023-11-05 10:57:30,559 INFO sqlalchemy.engine.Engine INSERT OR FAIL INTO iris (added, petal_length, petal_width, sepal_length, sepal_width, species, updated) VALUES (?, ?, ?, ?, ?, ?, ?)\n",
      "2023-11-05 10:57:30,560 INFO sqlalchemy.engine.Engine [generated in 0.00120s] ('2023-11-05 15:57:30.559574', 3.0, 4.0, 1.0, 2.0, 'setosa', '2023-11-05 15:57:30.559576')\n",
      "Insert multiple rows into the database using executemany-style \n",
      "            parameter binding.\n",
      "        \n",
      "2023-11-05 10:57:30,562 INFO sqlalchemy.engine.Engine INSERT OR FAIL INTO iris (added, petal_length, petal_width, sepal_length, sepal_width, species, updated) VALUES (?, ?, ?, ?, ?, ?, ?)\n",
      "2023-11-05 10:57:30,563 INFO sqlalchemy.engine.Engine [generated in 0.00095s] [('2023-11-05 15:57:30.562511', 3.0, 4.0, 1.0, 2.0, 'setosa', '2023-11-05 15:57:30.562513'), ('2023-11-05 15:57:30.562517', 3.0, 4.0, 1.0, 2.0, 'setosa', '2023-11-05 15:57:30.562518')]\n",
      "2023-11-05 10:57:30,566 INFO sqlalchemy.engine.Engine SELECT iris.id, iris.added, iris.petal_length, iris.petal_width, iris.sepal_length, iris.sepal_width, iris.species, iris.updated \n",
      "FROM iris\n",
      "2023-11-05 10:57:30,567 INFO sqlalchemy.engine.Engine [generated in 0.00113s] ()\n",
      "[(1, datetime.datetime(2023, 11, 5, 15, 57, 30, 559574), 3.0, 4.0, 1.0, 2.0, 'setosa', datetime.datetime(2023, 11, 5, 15, 57, 30, 559576)), (2, datetime.datetime(2023, 11, 5, 15, 57, 30, 562511), 3.0, 4.0, 1.0, 2.0, 'setosa', datetime.datetime(2023, 11, 5, 15, 57, 30, 562513)), (3, datetime.datetime(2023, 11, 5, 15, 57, 30, 562517), 3.0, 4.0, 1.0, 2.0, 'setosa', datetime.datetime(2023, 11, 5, 15, 57, 30, 562518))]\n",
      "2023-11-05 10:57:30,568 INFO sqlalchemy.engine.Engine COMMIT\n"
     ]
    }
   ],
   "source": [
    "with core.query() as q:\n",
    "    q.delete(itab, all=True)\n",
    "    q.insert_single(itab, {\n",
    "        'sepal_length': 1,'sepal_width': 2,'petal_length': 3,'petal_width': 4,'species': 'setosa'\n",
    "    })\n",
    "    print(q.insert_multi.__doc__)\n",
    "    q.insert_multi(itab, [\n",
    "        {'sepal_length': 1, 'sepal_width': 2, 'petal_length': 3, 'petal_width': 4, 'species': 'setosa'},\n",
    "        {'sepal_length': 1, 'sepal_width': 2, 'petal_length': 3, 'petal_width': 4, 'species': 'setosa'},\n",
    "    ])\n",
    "    print(q.select(itab).fetchall())"
   ]
  },
  {
   "cell_type": "code",
   "execution_count": 8,
   "metadata": {},
   "outputs": [
    {
     "name": "stdout",
     "output_type": "stream",
     "text": [
      "2023-11-05 10:57:30,610 INFO sqlalchemy.engine.Engine BEGIN (implicit)\n",
      "2023-11-05 10:57:30,612 INFO sqlalchemy.engine.Engine SELECT iris.sepal_length, iris.sepal_width \n",
      "FROM iris\n",
      "2023-11-05 10:57:30,613 INFO sqlalchemy.engine.Engine [generated in 0.00239s] ()\n",
      "[(1.0, 2.0), (1.0, 2.0), (1.0, 2.0)]\n",
      "2023-11-05 10:57:30,614 INFO sqlalchemy.engine.Engine SELECT iris.sepal_length, iris.sepal_width \n",
      "FROM iris\n",
      "2023-11-05 10:57:30,615 INFO sqlalchemy.engine.Engine [cached since 0.004547s ago] ()\n",
      "[(1.0, 2.0), (1.0, 2.0), (1.0, 2.0)]\n",
      "2023-11-05 10:57:30,617 INFO sqlalchemy.engine.Engine SELECT distinct(iris.species) AS distinct_1 \n",
      "FROM iris\n",
      "2023-11-05 10:57:30,618 INFO sqlalchemy.engine.Engine [generated in 0.00076s] ()\n",
      "'result=<sqlalchemy.engine.result.ScalarResult object at 0x7f87a44468a0>'\n",
      "2023-11-05 10:57:30,625 INFO sqlalchemy.engine.Engine SELECT sum(iris.sepal_length) AS sum_1 \n",
      "FROM iris GROUP BY iris.species\n",
      "2023-11-05 10:57:30,626 INFO sqlalchemy.engine.Engine [generated in 0.00099s] ()\n",
      "'result=3.0'\n",
      "2023-11-05 10:57:30,627 INFO sqlalchemy.engine.Engine COMMIT\n"
     ]
    }
   ],
   "source": [
    "with core.query() as q:\n",
    "    # use table.cols to specify which columns to select\n",
    "    columns = itab.cols('sepal_length', 'sepal_width')\n",
    "    pprint.pprint(q.select(columns).fetchall())\n",
    "    \n",
    "    # use subscript to specify table for each column. use for table joins\n",
    "    columns = [itab['sepal_length'], itab['sepal_width']]\n",
    "    results = q.select(columns).fetchall()\n",
    "    pprint.pprint(results)\n",
    "    \n",
    "    # use .sum(), .min(), .max(), .count(), .sum(), and .unique() to specify aggregate functions\n",
    "    columns = [itab['species'].distinct()]\n",
    "    result = q.select(columns).scalars()\n",
    "    pprint.pprint(f'{result=}')\n",
    "    \n",
    "    # use in conjunction with group_by to specify groupings\n",
    "    columns = [itab['sepal_length'].sum()]\n",
    "    result = q.select(columns, group_by=[itab['species']]).scalar_one()\n",
    "    pprint.pprint(f'{result=}')"
   ]
  },
  {
   "cell_type": "markdown",
   "metadata": {},
   "source": [
    "#### Table-specific Queries"
   ]
  },
  {
   "cell_type": "code",
   "execution_count": 9,
   "metadata": {},
   "outputs": [
    {
     "name": "stdout",
     "output_type": "stream",
     "text": [
      "2023-11-05 10:57:30,660 INFO sqlalchemy.engine.Engine BEGIN (implicit)\n",
      "2023-11-05 10:57:30,661 INFO sqlalchemy.engine.Engine SELECT iris.id, iris.added, iris.petal_length, iris.petal_width, iris.sepal_length, iris.sepal_width, iris.species, iris.updated \n",
      "FROM iris\n",
      "2023-11-05 10:57:30,662 INFO sqlalchemy.engine.Engine [cached since 0.09616s ago] ()\n",
      "[Iris(sepal_length=1.0,\n",
      "      sepal_width=2.0,\n",
      "      petal_length=3.0,\n",
      "      petal_width=4.0,\n",
      "      species='setosa',\n",
      "      id=1,\n",
      "      updated=datetime.datetime(2023, 11, 5, 15, 57, 30, 559576),\n",
      "      added=datetime.datetime(2023, 11, 5, 15, 57, 30, 559574)),\n",
      " Iris(sepal_length=1.0,\n",
      "      sepal_width=2.0,\n",
      "      petal_length=3.0,\n",
      "      petal_width=4.0,\n",
      "      species='setosa',\n",
      "      id=2,\n",
      "      updated=datetime.datetime(2023, 11, 5, 15, 57, 30, 562513),\n",
      "      added=datetime.datetime(2023, 11, 5, 15, 57, 30, 562511)),\n",
      " Iris(sepal_length=1.0,\n",
      "      sepal_width=2.0,\n",
      "      petal_length=3.0,\n",
      "      petal_width=4.0,\n",
      "      species='setosa',\n",
      "      id=3,\n",
      "      updated=datetime.datetime(2023, 11, 5, 15, 57, 30, 562518),\n",
      "      added=datetime.datetime(2023, 11, 5, 15, 57, 30, 562517))]\n",
      "2023-11-05 10:57:30,664 INFO sqlalchemy.engine.Engine COMMIT\n"
     ]
    }
   ],
   "source": [
    "with itab.query() as q:\n",
    "    pprint.pprint(q.select())"
   ]
  },
  {
   "cell_type": "code",
   "execution_count": 10,
   "metadata": {},
   "outputs": [
    {
     "name": "stdout",
     "output_type": "stream",
     "text": [
      "2023-11-05 10:57:30,713 INFO sqlalchemy.engine.Engine BEGIN (implicit)\n",
      "2023-11-05 10:57:30,714 INFO sqlalchemy.engine.Engine DELETE FROM iris\n",
      "2023-11-05 10:57:30,715 INFO sqlalchemy.engine.Engine [cached since 0.1618s ago] ()\n",
      "2023-11-05 10:57:30,727 INFO sqlalchemy.engine.Engine INSERT OR FAIL INTO iris (added, petal_length, petal_width, sepal_length, sepal_width, species, updated) VALUES (?, ?, ?, ?, ?, ?, ?)\n",
      "2023-11-05 10:57:30,728 INFO sqlalchemy.engine.Engine [cached since 0.1662s ago] [('2023-11-05 15:57:30.723621', 1.4, 0.2, 5.1, 3.5, 'setosa', '2023-11-05 15:57:30.723625'), ('2023-11-05 15:57:30.723626', 1.4, 0.2, 4.9, 3.0, 'setosa', '2023-11-05 15:57:30.723627'), ('2023-11-05 15:57:30.723628', 1.3, 0.2, 4.7, 3.2, 'setosa', '2023-11-05 15:57:30.723629'), ('2023-11-05 15:57:30.723630', 1.5, 0.2, 4.6, 3.1, 'setosa', '2023-11-05 15:57:30.723631'), ('2023-11-05 15:57:30.723632', 1.4, 0.2, 5.0, 3.6, 'setosa', '2023-11-05 15:57:30.723632'), ('2023-11-05 15:57:30.723633', 1.7, 0.4, 5.4, 3.9, 'setosa', '2023-11-05 15:57:30.723634'), ('2023-11-05 15:57:30.723634', 1.4, 0.3, 4.6, 3.4, 'setosa', '2023-11-05 15:57:30.723635'), ('2023-11-05 15:57:30.723636', 1.5, 0.2, 5.0, 3.4, 'setosa', '2023-11-05 15:57:30.723637')  ... displaying 10 of 150 total bound parameter sets ...  ('2023-11-05 15:57:30.723835', 5.4, 2.3, 6.2, 3.4, 'virginica', '2023-11-05 15:57:30.723836'), ('2023-11-05 15:57:30.723837', 5.1, 1.8, 5.9, 3.0, 'virginica', '2023-11-05 15:57:30.723837')]\n",
      "2023-11-05 10:57:30,730 INFO sqlalchemy.engine.Engine SELECT iris.id, iris.added, iris.petal_length, iris.petal_width, iris.sepal_length, iris.sepal_width, iris.species, iris.updated \n",
      "FROM iris\n",
      "2023-11-05 10:57:30,731 INFO sqlalchemy.engine.Engine [cached since 0.1652s ago] ()\n",
      "150\n",
      "[Iris(sepal_length=5.1,\n",
      "      sepal_width=3.5,\n",
      "      petal_length=1.4,\n",
      "      petal_width=0.2,\n",
      "      species='setosa',\n",
      "      id=1,\n",
      "      updated=datetime.datetime(2023, 11, 5, 15, 57, 30, 723625),\n",
      "      added=datetime.datetime(2023, 11, 5, 15, 57, 30, 723621)),\n",
      " Iris(sepal_length=4.9,\n",
      "      sepal_width=3.0,\n",
      "      petal_length=1.4,\n",
      "      petal_width=0.2,\n",
      "      species='setosa',\n",
      "      id=2,\n",
      "      updated=datetime.datetime(2023, 11, 5, 15, 57, 30, 723627),\n",
      "      added=datetime.datetime(2023, 11, 5, 15, 57, 30, 723626))]\n",
      "2023-11-05 10:57:30,736 INFO sqlalchemy.engine.Engine COMMIT\n"
     ]
    }
   ],
   "source": [
    "with itab.query() as q:\n",
    "    q.delete(all=True)\n",
    "    \n",
    "    q.insert_multi(irises)\n",
    "    \n",
    "    db_irises = q.select()\n",
    "    print(len(db_irises))\n",
    "    pprint.pprint(db_irises[:2])"
   ]
  },
  {
   "cell_type": "code",
   "execution_count": 11,
   "metadata": {},
   "outputs": [
    {
     "name": "stdout",
     "output_type": "stream",
     "text": [
      "2023-11-05 10:57:30,766 INFO sqlalchemy.engine.Engine BEGIN (implicit)\n",
      "2023-11-05 10:57:30,767 INFO sqlalchemy.engine.Engine SELECT iris.id, iris.sepal_width, iris.sepal_length \n",
      "FROM iris\n",
      "2023-11-05 10:57:30,768 INFO sqlalchemy.engine.Engine [generated in 0.00224s] ()\n",
      "[Iris(sepal_length=5.1,\n",
      "      sepal_width=3.5,\n",
      "      petal_length=MISSING,\n",
      "      petal_width=MISSING,\n",
      "      species=MISSING,\n",
      "      id=1,\n",
      "      updated=MISSING,\n",
      "      added=MISSING),\n",
      " Iris(sepal_length=4.9,\n",
      "      sepal_width=3.0,\n",
      "      petal_length=MISSING,\n",
      "      petal_width=MISSING,\n",
      "      species=MISSING,\n",
      "      id=2,\n",
      "      updated=MISSING,\n",
      "      added=MISSING)]\n",
      "2023-11-05 10:57:30,771 INFO sqlalchemy.engine.Engine COMMIT\n"
     ]
    }
   ],
   "source": [
    "with itab.query() as q:\n",
    "    db_irises = q.select(['id', 'sepal_width', 'sepal_length'])\n",
    "    pprint.pprint(db_irises[:2])"
   ]
  },
  {
   "cell_type": "markdown",
   "metadata": {},
   "source": [
    "## Working with Multple Tables"
   ]
  },
  {
   "cell_type": "markdown",
   "metadata": {},
   "source": []
  },
  {
   "cell_type": "code",
   "execution_count": 12,
   "metadata": {},
   "outputs": [
    {
     "name": "stdout",
     "output_type": "stream",
     "text": [
      "['setosa' 'versicolor' 'virginica']\n"
     ]
    }
   ],
   "source": [
    "print(iris_df['species'].unique())\n",
    "\n",
    "species_data = {\n",
    "    'setosa':'bristle-pointed iris',\n",
    "    'versicolor':'Southern blue flag',\n",
    "    'virginica':'Northern blue flag',\n",
    "}"
   ]
  },
  {
   "cell_type": "code",
   "execution_count": 15,
   "metadata": {},
   "outputs": [
    {
     "name": "stdout",
     "output_type": "stream",
     "text": [
      "2023-11-05 10:59:54,101 INFO sqlalchemy.engine.Engine BEGIN (implicit)\n",
      "2023-11-05 10:59:54,102 INFO sqlalchemy.engine.Engine PRAGMA main.table_info(\"species\")\n",
      "2023-11-05 10:59:54,103 INFO sqlalchemy.engine.Engine [raw sql] ()\n",
      "2023-11-05 10:59:54,104 INFO sqlalchemy.engine.Engine PRAGMA temp.table_info(\"species\")\n",
      "2023-11-05 10:59:54,105 INFO sqlalchemy.engine.Engine [raw sql] ()\n",
      "2023-11-05 10:59:54,106 INFO sqlalchemy.engine.Engine PRAGMA main.table_info(\"iris\")\n",
      "2023-11-05 10:59:54,107 INFO sqlalchemy.engine.Engine [raw sql] ()\n",
      "2023-11-05 10:59:54,108 INFO sqlalchemy.engine.Engine PRAGMA temp.table_info(\"iris\")\n",
      "2023-11-05 10:59:54,109 INFO sqlalchemy.engine.Engine [raw sql] ()\n",
      "2023-11-05 10:59:54,110 INFO sqlalchemy.engine.Engine \n",
      "CREATE TABLE species (\n",
      "\tid INTEGER, \n",
      "\tcommon_name VARCHAR, \n",
      "\tname VARCHAR, \n",
      "\tPRIMARY KEY (id)\n",
      ")\n",
      "\n",
      "\n",
      "2023-11-05 10:59:54,111 INFO sqlalchemy.engine.Engine [no key 0.00086s] ()\n",
      "2023-11-05 10:59:54,112 INFO sqlalchemy.engine.Engine \n",
      "CREATE TABLE iris (\n",
      "\tid INTEGER, \n",
      "\tpetal_length FLOAT, \n",
      "\tpetal_width FLOAT, \n",
      "\tsepal_length FLOAT, \n",
      "\tsepal_width FLOAT, \n",
      "\tspecies VARCHAR NOT NULL, \n",
      "\tPRIMARY KEY (id), \n",
      "\tFOREIGN KEY(species) REFERENCES species (name)\n",
      ")\n",
      "\n",
      "\n",
      "2023-11-05 10:59:54,113 INFO sqlalchemy.engine.Engine [no key 0.00098s] ()\n",
      "2023-11-05 10:59:54,114 INFO sqlalchemy.engine.Engine COMMIT\n",
      "2023-11-05 10:59:54,115 INFO sqlalchemy.engine.Engine BEGIN (implicit)\n",
      "2023-11-05 10:59:54,116 INFO sqlalchemy.engine.Engine PRAGMA main.table_xinfo(\"species\")\n",
      "2023-11-05 10:59:54,117 INFO sqlalchemy.engine.Engine [raw sql] ()\n",
      "2023-11-05 10:59:54,118 INFO sqlalchemy.engine.Engine ROLLBACK\n",
      "[{'name': 'id', 'type': INTEGER(), 'nullable': True, 'default': None, 'primary_key': 1}, {'name': 'common_name', 'type': VARCHAR(), 'nullable': True, 'default': None, 'primary_key': 0}, {'name': 'name', 'type': VARCHAR(), 'nullable': True, 'default': None, 'primary_key': 0}]\n"
     ]
    }
   ],
   "source": [
    "import typing\n",
    "\n",
    "@doctable.table_schema(table_name='species')\n",
    "class Species:\n",
    "    name: str\n",
    "    common_name: str = doctable.Column(\n",
    "        column_args=doctable.ColumnArgs(nullable=True),\n",
    "    )\n",
    "    \n",
    "    id: int = doctable.Column(# will appear as the first column in the table\n",
    "        column_args=doctable.ColumnArgs(order=0, primary_key=True, autoincrement=True),\n",
    "    )\n",
    "    \n",
    "    @classmethod\n",
    "    def from_dict(cls, data: typing.Dict[str, str]) -> typing.List[Species]:\n",
    "        return [cls(name=n, common_name=cn) for n,cn in data.items()]\n",
    "\n",
    "@doctable.table_schema(table_name='iris')\n",
    "class IrisEntry:\n",
    "    sepal_length: float\n",
    "    sepal_width: float\n",
    "    petal_length: float\n",
    "    petal_width: float\n",
    "    species: str = doctable.Column(\n",
    "        column_args=doctable.ColumnArgs(foreign_key='species.name', nullable=False),\n",
    "    )\n",
    "    \n",
    "    id: int = doctable.Column(# will appear as the first column in the table\n",
    "        column_args=doctable.ColumnArgs(order=0, primary_key=True, autoincrement=True),\n",
    "    )\n",
    "    \n",
    "    @classmethod\n",
    "    def from_dataframe(cls, df: pd.DataFrame) -> typing.List[IrisEntry]:\n",
    "        return [cls(**row) for _,row in df.iterrows()]\n",
    "\n",
    "\n",
    "core = doctable.ConnectCore.open(\n",
    "    target=':memory:', # use a filename for a sqlite to write to disk\n",
    "    dialect='sqlite',\n",
    "    echo=True,\n",
    ")\n",
    "\n",
    "with core.begin_ddl() as emitter:\n",
    "    spec_tab = emitter.create_table_if_not_exists(Species)\n",
    "    iris_tab = emitter.create_table_if_not_exists(IrisEntry)\n",
    "print(spec_tab.inspect_columns())"
   ]
  }
 ],
 "metadata": {
  "kernelspec": {
   "display_name": "Python 3 (ipykernel)",
   "language": "python",
   "name": "python3"
  },
  "language_info": {
   "codemirror_mode": {
    "name": "ipython",
    "version": 3
   },
   "file_extension": ".py",
   "mimetype": "text/x-python",
   "name": "python",
   "nbconvert_exporter": "python",
   "pygments_lexer": "ipython3",
   "version": "3.11.5"
  }
 },
 "nbformat": 4,
 "nbformat_minor": 2
}
