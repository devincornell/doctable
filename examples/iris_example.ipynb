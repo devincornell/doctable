{
 "cells": [
  {
   "cell_type": "code",
   "execution_count": 1,
   "metadata": {},
   "outputs": [],
   "source": [
    "import pprint\n",
    "import pandas as pd\n",
    "\n",
    "import sys\n",
    "sys.path.append('../')\n",
    "import doctable"
   ]
  },
  {
   "cell_type": "markdown",
   "metadata": {},
   "source": [
    "The iris dataset is simply a list of flowers with information about the sepal, petal, and species."
   ]
  },
  {
   "cell_type": "code",
   "execution_count": 2,
   "metadata": {},
   "outputs": [
    {
     "data": {
      "text/html": [
       "<div>\n",
       "<style scoped>\n",
       "    .dataframe tbody tr th:only-of-type {\n",
       "        vertical-align: middle;\n",
       "    }\n",
       "\n",
       "    .dataframe tbody tr th {\n",
       "        vertical-align: top;\n",
       "    }\n",
       "\n",
       "    .dataframe thead th {\n",
       "        text-align: right;\n",
       "    }\n",
       "</style>\n",
       "<table border=\"1\" class=\"dataframe\">\n",
       "  <thead>\n",
       "    <tr style=\"text-align: right;\">\n",
       "      <th></th>\n",
       "      <th>sepal_length</th>\n",
       "      <th>sepal_width</th>\n",
       "      <th>petal_length</th>\n",
       "      <th>petal_width</th>\n",
       "      <th>species</th>\n",
       "    </tr>\n",
       "  </thead>\n",
       "  <tbody>\n",
       "    <tr>\n",
       "      <th>0</th>\n",
       "      <td>5.1</td>\n",
       "      <td>3.5</td>\n",
       "      <td>1.4</td>\n",
       "      <td>0.2</td>\n",
       "      <td>setosa</td>\n",
       "    </tr>\n",
       "    <tr>\n",
       "      <th>1</th>\n",
       "      <td>4.9</td>\n",
       "      <td>3.0</td>\n",
       "      <td>1.4</td>\n",
       "      <td>0.2</td>\n",
       "      <td>setosa</td>\n",
       "    </tr>\n",
       "    <tr>\n",
       "      <th>2</th>\n",
       "      <td>4.7</td>\n",
       "      <td>3.2</td>\n",
       "      <td>1.3</td>\n",
       "      <td>0.2</td>\n",
       "      <td>setosa</td>\n",
       "    </tr>\n",
       "    <tr>\n",
       "      <th>3</th>\n",
       "      <td>4.6</td>\n",
       "      <td>3.1</td>\n",
       "      <td>1.5</td>\n",
       "      <td>0.2</td>\n",
       "      <td>setosa</td>\n",
       "    </tr>\n",
       "    <tr>\n",
       "      <th>4</th>\n",
       "      <td>5.0</td>\n",
       "      <td>3.6</td>\n",
       "      <td>1.4</td>\n",
       "      <td>0.2</td>\n",
       "      <td>setosa</td>\n",
       "    </tr>\n",
       "  </tbody>\n",
       "</table>\n",
       "</div>"
      ],
      "text/plain": [
       "   sepal_length  sepal_width  petal_length  petal_width species\n",
       "0           5.1          3.5           1.4          0.2  setosa\n",
       "1           4.9          3.0           1.4          0.2  setosa\n",
       "2           4.7          3.2           1.3          0.2  setosa\n",
       "3           4.6          3.1           1.5          0.2  setosa\n",
       "4           5.0          3.6           1.4          0.2  setosa"
      ]
     },
     "execution_count": 2,
     "metadata": {},
     "output_type": "execute_result"
    }
   ],
   "source": [
    "iris_df = pd.read_csv('https://raw.githubusercontent.com/mwaskom/seaborn-data/master/iris.csv')\n",
    "iris_df.head()"
   ]
  },
  {
   "cell_type": "code",
   "execution_count": 3,
   "metadata": {},
   "outputs": [
    {
     "data": {
      "text/plain": [
       "ConnectCore(target=':memory:', dialect='sqlite', engine=Engine(sqlite:///:memory:), metadata=MetaData())"
      ]
     },
     "execution_count": 3,
     "metadata": {},
     "output_type": "execute_result"
    }
   ],
   "source": [
    "core = doctable.ConnectCore.open(\n",
    "    target=':memory:', # use a filename for a sqlite to write to disk\n",
    "    dialect='sqlite',\n",
    "    echo=True,\n",
    ")\n",
    "core"
   ]
  },
  {
   "cell_type": "code",
   "execution_count": 4,
   "metadata": {},
   "outputs": [
    {
     "data": {
      "text/plain": [
       "Iris(sepal_length=1, sepal_width=2, petal_length=3, petal_width=4, species='setosa', id=MISSING, updated=MISSING, added=MISSING)"
      ]
     },
     "execution_count": 4,
     "metadata": {},
     "output_type": "execute_result"
    }
   ],
   "source": [
    "import datetime\n",
    "\n",
    "@doctable.table_schema(table_name='iris', slots=True)\n",
    "class Iris:\n",
    "    sepal_length: float\n",
    "    sepal_width: float\n",
    "    petal_length: float\n",
    "    petal_width: float\n",
    "    species: str\n",
    "    \n",
    "    id: int = doctable.Column(\n",
    "        column_args=doctable.ColumnArgs(order=0, primary_key=True, autoincrement=True),\n",
    "    )\n",
    "    updated: datetime.datetime = doctable.Column(\n",
    "        column_args=doctable.ColumnArgs(default=datetime.datetime.utcnow),\n",
    "    )\n",
    "    added: datetime.datetime = doctable.Column(\n",
    "        column_args=doctable.ColumnArgs(\n",
    "            default=datetime.datetime.utcnow, \n",
    "            onupdate=datetime.datetime.utcnow\n",
    "        )\n",
    "    )\n",
    "    \n",
    "    @classmethod\n",
    "    def from_row(cls, row: pd.Series):\n",
    "        return cls(**row)\n",
    "\n",
    "Iris(sepal_length=1, sepal_width=2, petal_length=3, petal_width=4, species='setosa')"
   ]
  },
  {
   "cell_type": "code",
   "execution_count": 5,
   "metadata": {},
   "outputs": [
    {
     "name": "stdout",
     "output_type": "stream",
     "text": [
      "Iris(sepal_length=5.1, sepal_width=3.5, petal_length=1.4, petal_width=0.2, species='setosa', id=MISSING, updated=MISSING, added=MISSING)\n"
     ]
    }
   ],
   "source": [
    "irises = [Iris.from_row(row) for _, row in iris_df.iterrows()]\n",
    "print(irises[0])"
   ]
  },
  {
   "cell_type": "code",
   "execution_count": 12,
   "metadata": {},
   "outputs": [
    {
     "name": "stdout",
     "output_type": "stream",
     "text": [
      "2023-11-03 11:40:29,761 INFO sqlalchemy.engine.Engine BEGIN (implicit)\n",
      "2023-11-03 11:40:29,763 INFO sqlalchemy.engine.Engine PRAGMA main.table_info(\"iris\")\n",
      "2023-11-03 11:40:29,764 INFO sqlalchemy.engine.Engine [raw sql] ()\n",
      "2023-11-03 11:40:29,767 INFO sqlalchemy.engine.Engine COMMIT\n"
     ]
    },
    {
     "data": {
      "text/plain": [
       "Table('iris', MetaData(), Column('id', Integer(), table=<iris>, primary_key=True), Column('added', DateTime(), table=<iris>, onupdate=CallableColumnDefault(<function datetime.utcnow at 0x7f516f11d8a0>), default=CallableColumnDefault(<function datetime.utcnow at 0x7f516f11d940>)), Column('petal_length', Float(), table=<iris>), Column('petal_width', Float(), table=<iris>), Column('sepal_length', Float(), table=<iris>), Column('sepal_width', Float(), table=<iris>), Column('species', String(), table=<iris>), Column('updated', DateTime(), table=<iris>, default=CallableColumnDefault(<function datetime.utcnow at 0x7f516f11d800>)), schema=None)"
      ]
     },
     "execution_count": 12,
     "metadata": {},
     "output_type": "execute_result"
    }
   ],
   "source": [
    "with core.begin_ddl() as emitter:\n",
    "    itab = emitter.create_table_if_not_exists(Iris)\n",
    "itab.name\n",
    "#itab.inspect().get_columns()\n",
    "import sqlalchemy\n",
    "sqlalchemy.inspect(itab.table)"
   ]
  },
  {
   "cell_type": "markdown",
   "metadata": {},
   "source": [
    "## Running Queries\n",
    "\n",
    "### General Queries"
   ]
  },
  {
   "cell_type": "code",
   "execution_count": null,
   "metadata": {},
   "outputs": [
    {
     "name": "stdout",
     "output_type": "stream",
     "text": [
      "2023-11-03 11:28:48,807 INFO sqlalchemy.engine.Engine BEGIN (implicit)\n",
      "2023-11-03 11:28:48,808 INFO sqlalchemy.engine.Engine DELETE FROM iris\n",
      "2023-11-03 11:28:48,809 INFO sqlalchemy.engine.Engine [generated in 0.00141s] ()\n",
      "2023-11-03 11:28:48,811 INFO sqlalchemy.engine.Engine INSERT OR FAIL INTO iris (added, petal_length, petal_width, sepal_length, sepal_width, species, updated) VALUES (?, ?, ?, ?, ?, ?, ?)\n",
      "2023-11-03 11:28:48,812 INFO sqlalchemy.engine.Engine [generated in 0.00060s] ('2023-11-03 15:28:48.811654', 3.0, 4.0, 1.0, 2.0, 'setosa', '2023-11-03 15:28:48.811656')\n",
      "Insert multiple rows into the database using executemany-style \n",
      "            parameter binding.\n",
      "        \n",
      "2023-11-03 11:28:48,813 INFO sqlalchemy.engine.Engine INSERT OR FAIL INTO iris (added, petal_length, petal_width, sepal_length, sepal_width, species, updated) VALUES (?, ?, ?, ?, ?, ?, ?)\n",
      "2023-11-03 11:28:48,813 INFO sqlalchemy.engine.Engine [generated in 0.00045s] [('2023-11-03 15:28:48.813420', 3.0, 4.0, 1.0, 2.0, 'setosa', '2023-11-03 15:28:48.813422'), ('2023-11-03 15:28:48.813424', 3.0, 4.0, 1.0, 2.0, 'setosa', '2023-11-03 15:28:48.813425')]\n",
      "2023-11-03 11:28:48,815 INFO sqlalchemy.engine.Engine SELECT iris.id, iris.added, iris.petal_length, iris.petal_width, iris.sepal_length, iris.sepal_width, iris.species, iris.updated \n",
      "FROM iris\n",
      "2023-11-03 11:28:48,816 INFO sqlalchemy.engine.Engine [generated in 0.00041s] ()\n",
      "[(1, datetime.datetime(2023, 11, 3, 15, 28, 48, 811654), 3.0, 4.0, 1.0, 2.0, 'setosa', datetime.datetime(2023, 11, 3, 15, 28, 48, 811656)), (2, datetime.datetime(2023, 11, 3, 15, 28, 48, 813420), 3.0, 4.0, 1.0, 2.0, 'setosa', datetime.datetime(2023, 11, 3, 15, 28, 48, 813422)), (3, datetime.datetime(2023, 11, 3, 15, 28, 48, 813424), 3.0, 4.0, 1.0, 2.0, 'setosa', datetime.datetime(2023, 11, 3, 15, 28, 48, 813425))]\n",
      "2023-11-03 11:28:48,816 INFO sqlalchemy.engine.Engine COMMIT\n"
     ]
    }
   ],
   "source": [
    "with core.query() as q:\n",
    "    q.delete(itab, all=True)\n",
    "    q.insert_single(itab, {\n",
    "        'sepal_length': 1,'sepal_width': 2,'petal_length': 3,'petal_width': 4,'species': 'setosa'\n",
    "    })\n",
    "    print(q.insert_multi.__doc__)\n",
    "    q.insert_multi(itab, [\n",
    "        {'sepal_length': 1, 'sepal_width': 2, 'petal_length': 3, 'petal_width': 4, 'species': 'setosa'},\n",
    "        {'sepal_length': 1, 'sepal_width': 2, 'petal_length': 3, 'petal_width': 4, 'species': 'setosa'},\n",
    "    ])\n",
    "    print(q.select(itab).fetchall())"
   ]
  },
  {
   "cell_type": "code",
   "execution_count": null,
   "metadata": {},
   "outputs": [
    {
     "name": "stdout",
     "output_type": "stream",
     "text": [
      "2023-11-03 11:28:48,860 INFO sqlalchemy.engine.Engine BEGIN (implicit)\n",
      "2023-11-03 11:28:48,861 INFO sqlalchemy.engine.Engine SELECT iris.sepal_length, iris.sepal_width \n",
      "FROM iris\n",
      "2023-11-03 11:28:48,862 INFO sqlalchemy.engine.Engine [generated in 0.00175s] ()\n",
      "[(1.0, 2.0), (1.0, 2.0), (1.0, 2.0)]\n",
      "2023-11-03 11:28:48,863 INFO sqlalchemy.engine.Engine SELECT iris.sepal_length, iris.sepal_width \n",
      "FROM iris\n",
      "2023-11-03 11:28:48,864 INFO sqlalchemy.engine.Engine [cached since 0.004163s ago] ()\n",
      "[(1.0, 2.0), (1.0, 2.0), (1.0, 2.0)]\n",
      "2023-11-03 11:28:48,866 INFO sqlalchemy.engine.Engine SELECT distinct(iris.species) AS distinct_1 \n",
      "FROM iris\n",
      "2023-11-03 11:28:48,867 INFO sqlalchemy.engine.Engine [generated in 0.00071s] ()\n",
      "'result=<sqlalchemy.engine.result.ScalarResult object at 0x7fed4c6d8b90>'\n",
      "2023-11-03 11:28:48,869 INFO sqlalchemy.engine.Engine SELECT sum(iris.sepal_length) AS sum_1 \n",
      "FROM iris GROUP BY iris.species\n",
      "2023-11-03 11:28:48,870 INFO sqlalchemy.engine.Engine [generated in 0.00064s] ()\n",
      "'result=3.0'\n",
      "2023-11-03 11:28:48,871 INFO sqlalchemy.engine.Engine COMMIT\n"
     ]
    }
   ],
   "source": [
    "with core.query() as q:\n",
    "    # use table.cols to specify which columns to select\n",
    "    columns = itab.cols('sepal_length', 'sepal_width')\n",
    "    pprint.pprint(q.select(columns).fetchall())\n",
    "    \n",
    "    # use subscript to specify table for each column. use for table joins\n",
    "    columns = [itab['sepal_length'], itab['sepal_width']]\n",
    "    results = q.select(columns).fetchall()\n",
    "    pprint.pprint(results)\n",
    "    \n",
    "    # use .sum(), .min(), .max(), .count(), .sum(), and .unique() to specify aggregate functions\n",
    "    columns = [itab['species'].distinct()]\n",
    "    result = q.select(columns).scalars()\n",
    "    pprint.pprint(f'{result=}')\n",
    "    \n",
    "    # use in conjunction with group_by to specify groupings\n",
    "    columns = [itab['sepal_length'].sum()]\n",
    "    result = q.select(columns, group_by=[itab['species']]).scalar_one()\n",
    "    pprint.pprint(f'{result=}')"
   ]
  },
  {
   "cell_type": "markdown",
   "metadata": {},
   "source": [
    "#### Table-specific Queries"
   ]
  },
  {
   "cell_type": "code",
   "execution_count": null,
   "metadata": {},
   "outputs": [
    {
     "name": "stdout",
     "output_type": "stream",
     "text": [
      "2023-11-03 11:28:48,914 INFO sqlalchemy.engine.Engine BEGIN (implicit)\n",
      "2023-11-03 11:28:48,914 INFO sqlalchemy.engine.Engine SELECT iris.id, iris.added, iris.petal_length, iris.petal_width, iris.sepal_length, iris.sepal_width, iris.species, iris.updated \n",
      "FROM iris\n",
      "2023-11-03 11:28:48,915 INFO sqlalchemy.engine.Engine [cached since 0.09978s ago] ()\n",
      "[Iris(sepal_length=1.0,\n",
      "      sepal_width=2.0,\n",
      "      petal_length=3.0,\n",
      "      petal_width=4.0,\n",
      "      species='setosa',\n",
      "      id=1,\n",
      "      updated=datetime.datetime(2023, 11, 3, 15, 28, 48, 811656),\n",
      "      added=datetime.datetime(2023, 11, 3, 15, 28, 48, 811654)),\n",
      " Iris(sepal_length=1.0,\n",
      "      sepal_width=2.0,\n",
      "      petal_length=3.0,\n",
      "      petal_width=4.0,\n",
      "      species='setosa',\n",
      "      id=2,\n",
      "      updated=datetime.datetime(2023, 11, 3, 15, 28, 48, 813422),\n",
      "      added=datetime.datetime(2023, 11, 3, 15, 28, 48, 813420)),\n",
      " Iris(sepal_length=1.0,\n",
      "      sepal_width=2.0,\n",
      "      petal_length=3.0,\n",
      "      petal_width=4.0,\n",
      "      species='setosa',\n",
      "      id=3,\n",
      "      updated=datetime.datetime(2023, 11, 3, 15, 28, 48, 813425),\n",
      "      added=datetime.datetime(2023, 11, 3, 15, 28, 48, 813424))]\n",
      "2023-11-03 11:28:48,917 INFO sqlalchemy.engine.Engine COMMIT\n"
     ]
    }
   ],
   "source": [
    "with itab.query() as q:\n",
    "    pprint.pprint(q.select())"
   ]
  },
  {
   "cell_type": "code",
   "execution_count": null,
   "metadata": {},
   "outputs": [
    {
     "name": "stdout",
     "output_type": "stream",
     "text": [
      "2023-11-03 11:28:48,965 INFO sqlalchemy.engine.Engine BEGIN (implicit)\n",
      "2023-11-03 11:28:48,966 INFO sqlalchemy.engine.Engine DELETE FROM iris\n",
      "2023-11-03 11:28:48,966 INFO sqlalchemy.engine.Engine [cached since 0.1589s ago] ()\n",
      "2023-11-03 11:28:48,973 INFO sqlalchemy.engine.Engine INSERT OR FAIL INTO iris (added, petal_length, petal_width, sepal_length, sepal_width, species, updated) VALUES (?, ?, ?, ?, ?, ?, ?)\n",
      "2023-11-03 11:28:48,973 INFO sqlalchemy.engine.Engine [cached since 0.1602s ago] [('2023-11-03 15:28:48.971869', 1.4, 0.2, 5.1, 3.5, 'setosa', '2023-11-03 15:28:48.971872'), ('2023-11-03 15:28:48.971872', 1.4, 0.2, 4.9, 3.0, 'setosa', '2023-11-03 15:28:48.971873'), ('2023-11-03 15:28:48.971873', 1.3, 0.2, 4.7, 3.2, 'setosa', '2023-11-03 15:28:48.971874'), ('2023-11-03 15:28:48.971874', 1.5, 0.2, 4.6, 3.1, 'setosa', '2023-11-03 15:28:48.971874'), ('2023-11-03 15:28:48.971875', 1.4, 0.2, 5.0, 3.6, 'setosa', '2023-11-03 15:28:48.971875'), ('2023-11-03 15:28:48.971876', 1.7, 0.4, 5.4, 3.9, 'setosa', '2023-11-03 15:28:48.971876'), ('2023-11-03 15:28:48.971876', 1.4, 0.3, 4.6, 3.4, 'setosa', '2023-11-03 15:28:48.971877'), ('2023-11-03 15:28:48.971877', 1.5, 0.2, 5.0, 3.4, 'setosa', '2023-11-03 15:28:48.971877')  ... displaying 10 of 150 total bound parameter sets ...  ('2023-11-03 15:28:48.971980', 5.4, 2.3, 6.2, 3.4, 'virginica', '2023-11-03 15:28:48.971981'), ('2023-11-03 15:28:48.971981', 5.1, 1.8, 5.9, 3.0, 'virginica', '2023-11-03 15:28:48.971981')]\n",
      "2023-11-03 11:28:48,974 INFO sqlalchemy.engine.Engine SELECT iris.id, iris.added, iris.petal_length, iris.petal_width, iris.sepal_length, iris.sepal_width, iris.species, iris.updated \n",
      "FROM iris\n",
      "2023-11-03 11:28:48,975 INFO sqlalchemy.engine.Engine [cached since 0.1594s ago] ()\n",
      "150\n",
      "[Iris(sepal_length=5.1,\n",
      "      sepal_width=3.5,\n",
      "      petal_length=1.4,\n",
      "      petal_width=0.2,\n",
      "      species='setosa',\n",
      "      id=1,\n",
      "      updated=datetime.datetime(2023, 11, 3, 15, 28, 48, 971872),\n",
      "      added=datetime.datetime(2023, 11, 3, 15, 28, 48, 971869)),\n",
      " Iris(sepal_length=4.9,\n",
      "      sepal_width=3.0,\n",
      "      petal_length=1.4,\n",
      "      petal_width=0.2,\n",
      "      species='setosa',\n",
      "      id=2,\n",
      "      updated=datetime.datetime(2023, 11, 3, 15, 28, 48, 971873),\n",
      "      added=datetime.datetime(2023, 11, 3, 15, 28, 48, 971872))]\n",
      "2023-11-03 11:28:48,978 INFO sqlalchemy.engine.Engine COMMIT\n"
     ]
    }
   ],
   "source": [
    "with itab.query() as q:\n",
    "    q.delete(all=True)\n",
    "    \n",
    "    q.insert_multi(irises)\n",
    "    \n",
    "    db_irises = q.select()\n",
    "    print(len(db_irises))\n",
    "    pprint.pprint(db_irises[:2])"
   ]
  },
  {
   "cell_type": "code",
   "execution_count": null,
   "metadata": {},
   "outputs": [
    {
     "name": "stdout",
     "output_type": "stream",
     "text": [
      "2023-11-03 11:29:34,898 INFO sqlalchemy.engine.Engine BEGIN (implicit)\n",
      "2023-11-03 11:29:34,901 INFO sqlalchemy.engine.Engine SELECT iris.id, iris.sepal_width, iris.sepal_length \n",
      "FROM iris\n",
      "2023-11-03 11:29:34,903 INFO sqlalchemy.engine.Engine [cached since 19.96s ago] ()\n",
      "[Iris(sepal_length=5.1,\n",
      "      sepal_width=3.5,\n",
      "      petal_length=MISSING,\n",
      "      petal_width=MISSING,\n",
      "      species=MISSING,\n",
      "      id=1,\n",
      "      updated=MISSING,\n",
      "      added=MISSING),\n",
      " Iris(sepal_length=4.9,\n",
      "      sepal_width=3.0,\n",
      "      petal_length=MISSING,\n",
      "      petal_width=MISSING,\n",
      "      species=MISSING,\n",
      "      id=2,\n",
      "      updated=MISSING,\n",
      "      added=MISSING)]\n",
      "2023-11-03 11:29:34,909 INFO sqlalchemy.engine.Engine COMMIT\n"
     ]
    }
   ],
   "source": [
    "with itab.query() as q:\n",
    "    db_irises = q.select(['id', 'sepal_width', 'sepal_length'])\n",
    "    pprint.pprint(db_irises[:2])"
   ]
  },
  {
   "cell_type": "markdown",
   "metadata": {},
   "source": [
    "## Working with Multple Tables"
   ]
  },
  {
   "cell_type": "markdown",
   "metadata": {},
   "source": []
  }
 ],
 "metadata": {
  "kernelspec": {
   "display_name": "Python 3 (ipykernel)",
   "language": "python",
   "name": "python3"
  },
  "language_info": {
   "codemirror_mode": {
    "name": "ipython",
    "version": 3
   },
   "file_extension": ".py",
   "mimetype": "text/x-python",
   "name": "python",
   "nbconvert_exporter": "python",
   "pygments_lexer": "ipython3",
   "version": "3.11.5"
  }
 },
 "nbformat": 4,
 "nbformat_minor": 2
}
