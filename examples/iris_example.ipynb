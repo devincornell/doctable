{
 "cells": [
  {
   "cell_type": "code",
   "execution_count": 1,
   "metadata": {},
   "outputs": [],
   "source": [
    "from __future__ import annotations\n",
    "import pprint\n",
    "import pandas as pd\n",
    "\n",
    "import sys\n",
    "sys.path.append('../')\n",
    "import doctable"
   ]
  },
  {
   "cell_type": "markdown",
   "metadata": {},
   "source": [
    "The iris dataset is simply a list of flowers with information about the sepal, petal, and species."
   ]
  },
  {
   "cell_type": "code",
   "execution_count": 2,
   "metadata": {},
   "outputs": [
    {
     "data": {
      "text/html": [
       "<div>\n",
       "<style scoped>\n",
       "    .dataframe tbody tr th:only-of-type {\n",
       "        vertical-align: middle;\n",
       "    }\n",
       "\n",
       "    .dataframe tbody tr th {\n",
       "        vertical-align: top;\n",
       "    }\n",
       "\n",
       "    .dataframe thead th {\n",
       "        text-align: right;\n",
       "    }\n",
       "</style>\n",
       "<table border=\"1\" class=\"dataframe\">\n",
       "  <thead>\n",
       "    <tr style=\"text-align: right;\">\n",
       "      <th></th>\n",
       "      <th>sepal_length</th>\n",
       "      <th>sepal_width</th>\n",
       "      <th>petal_length</th>\n",
       "      <th>petal_width</th>\n",
       "      <th>species</th>\n",
       "    </tr>\n",
       "  </thead>\n",
       "  <tbody>\n",
       "    <tr>\n",
       "      <th>0</th>\n",
       "      <td>5.1</td>\n",
       "      <td>3.5</td>\n",
       "      <td>1.4</td>\n",
       "      <td>0.2</td>\n",
       "      <td>setosa</td>\n",
       "    </tr>\n",
       "    <tr>\n",
       "      <th>1</th>\n",
       "      <td>4.9</td>\n",
       "      <td>3.0</td>\n",
       "      <td>1.4</td>\n",
       "      <td>0.2</td>\n",
       "      <td>setosa</td>\n",
       "    </tr>\n",
       "    <tr>\n",
       "      <th>2</th>\n",
       "      <td>4.7</td>\n",
       "      <td>3.2</td>\n",
       "      <td>1.3</td>\n",
       "      <td>0.2</td>\n",
       "      <td>setosa</td>\n",
       "    </tr>\n",
       "    <tr>\n",
       "      <th>3</th>\n",
       "      <td>4.6</td>\n",
       "      <td>3.1</td>\n",
       "      <td>1.5</td>\n",
       "      <td>0.2</td>\n",
       "      <td>setosa</td>\n",
       "    </tr>\n",
       "    <tr>\n",
       "      <th>4</th>\n",
       "      <td>5.0</td>\n",
       "      <td>3.6</td>\n",
       "      <td>1.4</td>\n",
       "      <td>0.2</td>\n",
       "      <td>setosa</td>\n",
       "    </tr>\n",
       "  </tbody>\n",
       "</table>\n",
       "</div>"
      ],
      "text/plain": [
       "   sepal_length  sepal_width  petal_length  petal_width species\n",
       "0           5.1          3.5           1.4          0.2  setosa\n",
       "1           4.9          3.0           1.4          0.2  setosa\n",
       "2           4.7          3.2           1.3          0.2  setosa\n",
       "3           4.6          3.1           1.5          0.2  setosa\n",
       "4           5.0          3.6           1.4          0.2  setosa"
      ]
     },
     "execution_count": 2,
     "metadata": {},
     "output_type": "execute_result"
    }
   ],
   "source": [
    "iris_df = pd.read_csv('https://raw.githubusercontent.com/mwaskom/seaborn-data/master/iris.csv')\n",
    "iris_df.head()"
   ]
  },
  {
   "cell_type": "code",
   "execution_count": 3,
   "metadata": {},
   "outputs": [
    {
     "data": {
      "text/plain": [
       "ConnectCore(target=':memory:', dialect='sqlite', engine=Engine(sqlite:///:memory:), metadata=MetaData())"
      ]
     },
     "execution_count": 3,
     "metadata": {},
     "output_type": "execute_result"
    }
   ],
   "source": [
    "core = doctable.ConnectCore.open(\n",
    "    target=':memory:', # use a filename for a sqlite to write to disk\n",
    "    dialect='sqlite',\n",
    "    echo=True,\n",
    ")\n",
    "core"
   ]
  },
  {
   "cell_type": "code",
   "execution_count": 4,
   "metadata": {},
   "outputs": [
    {
     "data": {
      "text/plain": [
       "Iris(sepal_length=1, sepal_width=2, petal_length=3, petal_width=4, species='setosa', id=MISSING, updated=MISSING, added=MISSING)"
      ]
     },
     "execution_count": 4,
     "metadata": {},
     "output_type": "execute_result"
    }
   ],
   "source": [
    "import datetime\n",
    "\n",
    "@doctable.table_schema(table_name='iris', slots=True)\n",
    "class Iris:\n",
    "    sepal_length: float\n",
    "    sepal_width: float\n",
    "    petal_length: float\n",
    "    petal_width: float\n",
    "    species: str\n",
    "    \n",
    "    id: int = doctable.Column(\n",
    "        column_args=doctable.ColumnArgs(order=0, primary_key=True, autoincrement=True),\n",
    "    )\n",
    "    updated: datetime.datetime = doctable.Column(\n",
    "        column_args=doctable.ColumnArgs(default=datetime.datetime.utcnow),\n",
    "    )\n",
    "    added: datetime.datetime = doctable.Column(\n",
    "        column_args=doctable.ColumnArgs(\n",
    "            default=datetime.datetime.utcnow, \n",
    "            onupdate=datetime.datetime.utcnow\n",
    "        )\n",
    "    )\n",
    "    \n",
    "    @classmethod\n",
    "    def from_row(cls, row: pd.Series):\n",
    "        return cls(**row)\n",
    "\n",
    "Iris(sepal_length=1, sepal_width=2, petal_length=3, petal_width=4, species='setosa')"
   ]
  },
  {
   "cell_type": "code",
   "execution_count": 5,
   "metadata": {},
   "outputs": [
    {
     "name": "stdout",
     "output_type": "stream",
     "text": [
      "Iris(sepal_length=5.1, sepal_width=3.5, petal_length=1.4, petal_width=0.2, species='setosa', id=MISSING, updated=MISSING, added=MISSING)\n"
     ]
    }
   ],
   "source": [
    "irises = [Iris.from_row(row) for _, row in iris_df.iterrows()]\n",
    "print(irises[0])"
   ]
  },
  {
   "cell_type": "code",
   "execution_count": 6,
   "metadata": {},
   "outputs": [
    {
     "name": "stdout",
     "output_type": "stream",
     "text": [
      "type_hint='int', mth=<class 'int'>, mth.__name__='int', mct=<class 'sqlalchemy.sql.sqltypes.Integer'>\n",
      "type_hint='int', mth=<class 'float'>, mth.__name__='float', mct=<class 'sqlalchemy.sql.sqltypes.Float'>\n",
      "type_hint='int', mth=<class 'bool'>, mth.__name__='bool', mct=<class 'sqlalchemy.sql.sqltypes.Boolean'>\n",
      "type_hint='int', mth=<class 'str'>, mth.__name__='str', mct=<class 'sqlalchemy.sql.sqltypes.String'>\n",
      "type_hint='int', mth=<class 'bytes'>, mth.__name__='bytes', mct=<class 'sqlalchemy.sql.sqltypes.LargeBinary'>\n",
      "type_hint='int', mth=<class 'datetime.datetime'>, mth.__name__='datetime', mct=<class 'sqlalchemy.sql.sqltypes.DateTime'>\n",
      "type_hint='int', mth=<class 'datetime.time'>, mth.__name__='time', mct=<class 'sqlalchemy.sql.sqltypes.Time'>\n",
      "type_hint='int', mth=<class 'datetime.date'>, mth.__name__='date', mct=<class 'sqlalchemy.sql.sqltypes.Date'>\n",
      "type_hint='int', mth=typing.Any, mth.__name__='Any', mct=<class 'sqlalchemy.sql.sqltypes.PickleType'>\n",
      "2023-11-05 09:38:53,250 INFO sqlalchemy.engine.Engine BEGIN (implicit)\n",
      "2023-11-05 09:38:53,251 INFO sqlalchemy.engine.Engine COMMIT\n"
     ]
    },
    {
     "ename": "AttributeError",
     "evalue": "'str' object has no attribute '__name__'",
     "output_type": "error",
     "traceback": [
      "\u001b[0;31m---------------------------------------------------------------------------\u001b[0m",
      "\u001b[0;31mAttributeError\u001b[0m                            Traceback (most recent call last)",
      "\u001b[1;32m/home/devin/code/doctable/examples/iris_example.ipynb Cell 7\u001b[0m line \u001b[0;36m2\n\u001b[1;32m      <a href='vscode-notebook-cell://ssh-remote%2B7b22686f73744e616d65223a2248617573732052656d6f7465227d/home/devin/code/doctable/examples/iris_example.ipynb#W6sdnNjb2RlLXJlbW90ZQ%3D%3D?line=0'>1</a>\u001b[0m \u001b[39mwith\u001b[39;00m core\u001b[39m.\u001b[39mbegin_ddl() \u001b[39mas\u001b[39;00m emitter:\n\u001b[0;32m----> <a href='vscode-notebook-cell://ssh-remote%2B7b22686f73744e616d65223a2248617573732052656d6f7465227d/home/devin/code/doctable/examples/iris_example.ipynb#W6sdnNjb2RlLXJlbW90ZQ%3D%3D?line=1'>2</a>\u001b[0m     itab \u001b[39m=\u001b[39m emitter\u001b[39m.\u001b[39mcreate_table_if_not_exists(Iris)\n\u001b[1;32m      <a href='vscode-notebook-cell://ssh-remote%2B7b22686f73744e616d65223a2248617573732052656d6f7465227d/home/devin/code/doctable/examples/iris_example.ipynb#W6sdnNjb2RlLXJlbW90ZQ%3D%3D?line=2'>3</a>\u001b[0m itab\u001b[39m.\u001b[39mname\n\u001b[1;32m      <a href='vscode-notebook-cell://ssh-remote%2B7b22686f73744e616d65223a2248617573732052656d6f7465227d/home/devin/code/doctable/examples/iris_example.ipynb#W6sdnNjb2RlLXJlbW90ZQ%3D%3D?line=3'>4</a>\u001b[0m \u001b[39m#itab.inspect().get_columns()\u001b[39;00m\n",
      "File \u001b[0;32m/DataDrive/projects/doctable/examples/../doctable/dbtable/ddlemitter.py:37\u001b[0m, in \u001b[0;36mDDLEmitter.create_table_if_not_exists\u001b[0;34m(self, container_type, **kwargs)\u001b[0m\n\u001b[1;32m     33\u001b[0m \u001b[39mdef\u001b[39;00m \u001b[39mcreate_table_if_not_exists\u001b[39m(\u001b[39mself\u001b[39m, container_type: typing\u001b[39m.\u001b[39mType[Container], \u001b[39m*\u001b[39m\u001b[39m*\u001b[39mkwargs) \u001b[39m-\u001b[39m\u001b[39m>\u001b[39m DBTable:\n\u001b[1;32m     34\u001b[0m \u001b[39m    \u001b[39m\u001b[39m'''Create a new table from a Schema class.\u001b[39;00m\n\u001b[1;32m     35\u001b[0m \u001b[39m        Use extend_existing=True to connect to an existing table.\u001b[39;00m\n\u001b[1;32m     36\u001b[0m \u001b[39m    '''\u001b[39;00m\n\u001b[0;32m---> 37\u001b[0m     \u001b[39mreturn\u001b[39;00m DBTable\u001b[39m.\u001b[39mextend(\n\u001b[1;32m     38\u001b[0m         container_type\u001b[39m=\u001b[39mcontainer_type,\n\u001b[1;32m     39\u001b[0m         core\u001b[39m=\u001b[39m\u001b[39mself\u001b[39m\u001b[39m.\u001b[39mcore,\n\u001b[1;32m     40\u001b[0m         \u001b[39m*\u001b[39m\u001b[39m*\u001b[39mkwargs,\n\u001b[1;32m     41\u001b[0m     )\n",
      "File \u001b[0;32m/DataDrive/projects/doctable/examples/../doctable/dbtable/dbtable.py:31\u001b[0m, in \u001b[0;36mDBTable.extend\u001b[0;34m(cls, container_type, core, **kwargs)\u001b[0m\n\u001b[1;32m     29\u001b[0m \u001b[39m\u001b[39m\u001b[39m'''Create new table.'''\u001b[39;00m\n\u001b[1;32m     30\u001b[0m schema \u001b[39m=\u001b[39m get_schema(container_type)\n\u001b[0;32m---> 31\u001b[0m \u001b[39mreturn\u001b[39;00m \u001b[39mcls\u001b[39m\u001b[39m.\u001b[39mfrom_schema(schema, core, core\u001b[39m.\u001b[39mextend_sqlalchemy_table, \u001b[39m*\u001b[39m\u001b[39m*\u001b[39mkwargs)\n",
      "File \u001b[0;32m/DataDrive/projects/doctable/examples/../doctable/dbtable/dbtable.py:53\u001b[0m, in \u001b[0;36mDBTable.from_schema\u001b[0;34m(cls, schema, core, make_table_func, **kwargs)\u001b[0m\n\u001b[1;32m     43\u001b[0m \u001b[39m@classmethod\u001b[39m\n\u001b[1;32m     44\u001b[0m \u001b[39mdef\u001b[39;00m \u001b[39mfrom_schema\u001b[39m(\u001b[39mcls\u001b[39m, \n\u001b[1;32m     45\u001b[0m     schema: TableSchema[Container],\n\u001b[0;32m   (...)\u001b[0m\n\u001b[1;32m     48\u001b[0m     \u001b[39m*\u001b[39m\u001b[39m*\u001b[39mkwargs\n\u001b[1;32m     49\u001b[0m ) \u001b[39m-\u001b[39m\u001b[39m>\u001b[39m DBTable[Container]:\n\u001b[1;32m     50\u001b[0m \u001b[39m    \u001b[39m\u001b[39m'''Create a new table from just a schema.\u001b[39;00m\n\u001b[1;32m     51\u001b[0m \u001b[39m        make_table_func is either core.create_sqlalchemy_table or core.extend_sqlalchemy_table\u001b[39;00m\n\u001b[1;32m     52\u001b[0m \u001b[39m    '''\u001b[39;00m\n\u001b[0;32m---> 53\u001b[0m     name, args, table_kwargs \u001b[39m=\u001b[39m schema\u001b[39m.\u001b[39msqlalchemy_table_args(\u001b[39m*\u001b[39m\u001b[39m*\u001b[39mkwargs)\n\u001b[1;32m     54\u001b[0m     \u001b[39mreturn\u001b[39;00m \u001b[39mcls\u001b[39m(\n\u001b[1;32m     55\u001b[0m         schema \u001b[39m=\u001b[39m schema,\n\u001b[1;32m     56\u001b[0m         table \u001b[39m=\u001b[39m make_table_func(name, args, \u001b[39m*\u001b[39m\u001b[39m*\u001b[39mtable_kwargs),\n\u001b[1;32m     57\u001b[0m         core\u001b[39m=\u001b[39mcore,\n\u001b[1;32m     58\u001b[0m     )\n",
      "File \u001b[0;32m/DataDrive/projects/doctable/examples/../doctable/schema/tableschema.py:102\u001b[0m, in \u001b[0;36mTableSchema.sqlalchemy_table_args\u001b[0;34m(self, **kwargs)\u001b[0m\n\u001b[1;32m    100\u001b[0m \u001b[39mdef\u001b[39;00m \u001b[39msqlalchemy_table_args\u001b[39m(\u001b[39mself\u001b[39m,\u001b[39m*\u001b[39m\u001b[39m*\u001b[39mkwargs) \u001b[39m-\u001b[39m\u001b[39m>\u001b[39m typing\u001b[39m.\u001b[39mTuple[\u001b[39mstr\u001b[39m, typing\u001b[39m.\u001b[39mList, typing\u001b[39m.\u001b[39mDict]:\n\u001b[1;32m    101\u001b[0m \u001b[39m    \u001b[39m\u001b[39m'''Get name, args, kwargs tuple for creating an sqlalchemy table.'''\u001b[39;00m\n\u001b[0;32m--> 102\u001b[0m     \u001b[39mreturn\u001b[39;00m (\u001b[39mself\u001b[39m\u001b[39m.\u001b[39mtable_name, \u001b[39mself\u001b[39m\u001b[39m.\u001b[39mtable_args(), {\u001b[39m*\u001b[39m\u001b[39m*\u001b[39m\u001b[39mself\u001b[39m\u001b[39m.\u001b[39mtable_kwargs, \u001b[39m*\u001b[39m\u001b[39m*\u001b[39mkwargs})\n",
      "File \u001b[0;32m/DataDrive/projects/doctable/examples/../doctable/schema/tableschema.py:106\u001b[0m, in \u001b[0;36mTableSchema.table_args\u001b[0;34m(self)\u001b[0m\n\u001b[1;32m    104\u001b[0m \u001b[39mdef\u001b[39;00m \u001b[39mtable_args\u001b[39m(\u001b[39mself\u001b[39m) \u001b[39m-\u001b[39m\u001b[39m>\u001b[39m typing\u001b[39m.\u001b[39mList[typing\u001b[39m.\u001b[39mUnion[sqlalchemy\u001b[39m.\u001b[39mColumn, sqlalchemy\u001b[39m.\u001b[39mIndex, sqlalchemy\u001b[39m.\u001b[39mConstraint]]:\n\u001b[1;32m    105\u001b[0m \u001b[39m    \u001b[39m\u001b[39m'''Get a list of table args.'''\u001b[39;00m\n\u001b[0;32m--> 106\u001b[0m     \u001b[39mreturn\u001b[39;00m \u001b[39mself\u001b[39m\u001b[39m.\u001b[39msqlalchemy_columns() \u001b[39m+\u001b[39m \u001b[39mself\u001b[39m\u001b[39m.\u001b[39msqlalchemy_indices() \u001b[39m+\u001b[39m \u001b[39mlist\u001b[39m(\u001b[39mself\u001b[39m\u001b[39m.\u001b[39mconstraints)\n",
      "File \u001b[0;32m/DataDrive/projects/doctable/examples/../doctable/schema/tableschema.py:109\u001b[0m, in \u001b[0;36mTableSchema.sqlalchemy_columns\u001b[0;34m(self)\u001b[0m\n\u001b[1;32m    108\u001b[0m \u001b[39mdef\u001b[39;00m \u001b[39msqlalchemy_columns\u001b[39m(\u001b[39mself\u001b[39m) \u001b[39m-\u001b[39m\u001b[39m>\u001b[39m typing\u001b[39m.\u001b[39mList[sqlalchemy\u001b[39m.\u001b[39mColumn]:\n\u001b[0;32m--> 109\u001b[0m     \u001b[39mreturn\u001b[39;00m [ci\u001b[39m.\u001b[39msqlalchemy_column() \u001b[39mfor\u001b[39;00m ci \u001b[39min\u001b[39;00m \u001b[39mself\u001b[39m\u001b[39m.\u001b[39mcolumns]\n",
      "File \u001b[0;32m/DataDrive/projects/doctable/examples/../doctable/schema/tableschema.py:109\u001b[0m, in \u001b[0;36m<listcomp>\u001b[0;34m(.0)\u001b[0m\n\u001b[1;32m    108\u001b[0m \u001b[39mdef\u001b[39;00m \u001b[39msqlalchemy_columns\u001b[39m(\u001b[39mself\u001b[39m) \u001b[39m-\u001b[39m\u001b[39m>\u001b[39m typing\u001b[39m.\u001b[39mList[sqlalchemy\u001b[39m.\u001b[39mColumn]:\n\u001b[0;32m--> 109\u001b[0m     \u001b[39mreturn\u001b[39;00m [ci\u001b[39m.\u001b[39msqlalchemy_column() \u001b[39mfor\u001b[39;00m ci \u001b[39min\u001b[39;00m \u001b[39mself\u001b[39m\u001b[39m.\u001b[39mcolumns]\n",
      "File \u001b[0;32m/DataDrive/projects/doctable/examples/../doctable/schema/column.py:225\u001b[0m, in \u001b[0;36mColumnInfo.sqlalchemy_column\u001b[0;34m(self)\u001b[0m\n\u001b[1;32m    223\u001b[0m \u001b[39mdef\u001b[39;00m \u001b[39msqlalchemy_column\u001b[39m(\u001b[39mself\u001b[39m) \u001b[39m-\u001b[39m\u001b[39m>\u001b[39m sqlalchemy\u001b[39m.\u001b[39mColumn:\n\u001b[1;32m    224\u001b[0m \u001b[39m    \u001b[39m\u001b[39m'''Get a sqlalchemy column from this column info.'''\u001b[39;00m\n\u001b[0;32m--> 225\u001b[0m     \u001b[39mreturn\u001b[39;00m \u001b[39mself\u001b[39m\u001b[39m.\u001b[39mcolumn_args\u001b[39m.\u001b[39msqlalchemy_column(\n\u001b[1;32m    226\u001b[0m         type_hint\u001b[39m=\u001b[39m\u001b[39mself\u001b[39m\u001b[39m.\u001b[39mtype_hint,\n\u001b[1;32m    227\u001b[0m         attr_name\u001b[39m=\u001b[39m\u001b[39mself\u001b[39m\u001b[39m.\u001b[39mattr_name,\n\u001b[1;32m    228\u001b[0m     )\n",
      "File \u001b[0;32m/DataDrive/projects/doctable/examples/../doctable/schema/column.py:142\u001b[0m, in \u001b[0;36mColumnArgs.sqlalchemy_column\u001b[0;34m(self, type_hint, attr_name)\u001b[0m\n\u001b[1;32m    137\u001b[0m \u001b[39melse\u001b[39;00m:\n\u001b[1;32m    138\u001b[0m     name \u001b[39m=\u001b[39m attr_name\n\u001b[1;32m    140\u001b[0m \u001b[39mreturn\u001b[39;00m sqlalchemy\u001b[39m.\u001b[39mColumn(\n\u001b[1;32m    141\u001b[0m     name,\n\u001b[0;32m--> 142\u001b[0m     \u001b[39m*\u001b[39m\u001b[39mself\u001b[39m\u001b[39m.\u001b[39mcolumn_type_args(type_hint),\n\u001b[1;32m    143\u001b[0m     \u001b[39m*\u001b[39m\u001b[39m*\u001b[39m\u001b[39mself\u001b[39m\u001b[39m.\u001b[39msqlalchemy_column_kwargs(),\n\u001b[1;32m    144\u001b[0m )\n",
      "File \u001b[0;32m/DataDrive/projects/doctable/examples/../doctable/schema/column.py:159\u001b[0m, in \u001b[0;36mColumnArgs.column_type_args\u001b[0;34m(self, type_hint)\u001b[0m\n\u001b[1;32m    156\u001b[0m \u001b[39melse\u001b[39;00m:\n\u001b[1;32m    157\u001b[0m     \u001b[39mfor\u001b[39;00m mth, mct \u001b[39min\u001b[39;00m type_hint_to_column_type\u001b[39m.\u001b[39mitems():\n\u001b[1;32m    158\u001b[0m         \u001b[39m#print(type_hint, type(type_hint), mth, mct)\u001b[39;00m\n\u001b[0;32m--> 159\u001b[0m         \u001b[39mprint\u001b[39m(\u001b[39mf\u001b[39m\u001b[39m'\u001b[39m\u001b[39m{\u001b[39;00mtype_hint\u001b[39m=}\u001b[39;00m\u001b[39m, \u001b[39m\u001b[39m{\u001b[39;00mmth\u001b[39m=}\u001b[39;00m\u001b[39m, \u001b[39m\u001b[39m{\u001b[39;00mmth\u001b[39m.\u001b[39m\u001b[39m__name__\u001b[39m\u001b[39m=}\u001b[39;00m\u001b[39m, \u001b[39m\u001b[39m{\u001b[39;00mmct\u001b[39m=}\u001b[39;00m\u001b[39m'\u001b[39m)\n\u001b[1;32m    160\u001b[0m         \u001b[39m#if type_hint == mth.__name__: # type hints are strings\u001b[39;00m\n\u001b[1;32m    161\u001b[0m         \u001b[39m#    return (mct(**self.type_kwargs),)\u001b[39;00m\n\u001b[1;32m    162\u001b[0m         \u001b[39m#elif self.issubclass_or_false(type_hint, mth): # type hints are types\u001b[39;00m\n\u001b[1;32m    163\u001b[0m         \u001b[39m#    return (mct(**self.type_kwargs),)\u001b[39;00m\n\u001b[1;32m    165\u001b[0m         \u001b[39mif\u001b[39;00m \u001b[39mself\u001b[39m\u001b[39m.\u001b[39mtype_hint_matches(type_hint, mth):\n",
      "\u001b[0;31mAttributeError\u001b[0m: 'str' object has no attribute '__name__'"
     ]
    }
   ],
   "source": [
    "with core.begin_ddl() as emitter:\n",
    "    itab = emitter.create_table_if_not_exists(Iris)\n",
    "itab.name\n",
    "#itab.inspect().get_columns()\n",
    "import sqlalchemy\n",
    "sqlalchemy.inspect(itab.table)"
   ]
  },
  {
   "cell_type": "markdown",
   "metadata": {},
   "source": [
    "## Running Queries\n",
    "\n",
    "### General Queries"
   ]
  },
  {
   "cell_type": "code",
   "execution_count": null,
   "metadata": {},
   "outputs": [
    {
     "ename": "",
     "evalue": "",
     "output_type": "error",
     "traceback": [
      "\u001b[1;31mFailed to connect to the remote Jupyter Server 'http://localhost:8888/'. Verify the server is running and reachable. ([Errno 2] No such file or directory: '/home/devin/.local/share/jupyter/runtime/kernel-170ae61d-462d-4e2f-a025-e6a30466895e.json')."
     ]
    }
   ],
   "source": [
    "with core.query() as q:\n",
    "    q.delete(itab, all=True)\n",
    "    q.insert_single(itab, {\n",
    "        'sepal_length': 1,'sepal_width': 2,'petal_length': 3,'petal_width': 4,'species': 'setosa'\n",
    "    })\n",
    "    print(q.insert_multi.__doc__)\n",
    "    q.insert_multi(itab, [\n",
    "        {'sepal_length': 1, 'sepal_width': 2, 'petal_length': 3, 'petal_width': 4, 'species': 'setosa'},\n",
    "        {'sepal_length': 1, 'sepal_width': 2, 'petal_length': 3, 'petal_width': 4, 'species': 'setosa'},\n",
    "    ])\n",
    "    print(q.select(itab).fetchall())"
   ]
  },
  {
   "cell_type": "code",
   "execution_count": null,
   "metadata": {},
   "outputs": [
    {
     "ename": "",
     "evalue": "",
     "output_type": "error",
     "traceback": [
      "\u001b[1;31mFailed to connect to the remote Jupyter Server 'http://localhost:8888/'. Verify the server is running and reachable. ([Errno 2] No such file or directory: '/home/devin/.local/share/jupyter/runtime/kernel-170ae61d-462d-4e2f-a025-e6a30466895e.json')."
     ]
    }
   ],
   "source": [
    "with core.query() as q:\n",
    "    # use table.cols to specify which columns to select\n",
    "    columns = itab.cols('sepal_length', 'sepal_width')\n",
    "    pprint.pprint(q.select(columns).fetchall())\n",
    "    \n",
    "    # use subscript to specify table for each column. use for table joins\n",
    "    columns = [itab['sepal_length'], itab['sepal_width']]\n",
    "    results = q.select(columns).fetchall()\n",
    "    pprint.pprint(results)\n",
    "    \n",
    "    # use .sum(), .min(), .max(), .count(), .sum(), and .unique() to specify aggregate functions\n",
    "    columns = [itab['species'].distinct()]\n",
    "    result = q.select(columns).scalars()\n",
    "    pprint.pprint(f'{result=}')\n",
    "    \n",
    "    # use in conjunction with group_by to specify groupings\n",
    "    columns = [itab['sepal_length'].sum()]\n",
    "    result = q.select(columns, group_by=[itab['species']]).scalar_one()\n",
    "    pprint.pprint(f'{result=}')"
   ]
  },
  {
   "cell_type": "markdown",
   "metadata": {},
   "source": [
    "#### Table-specific Queries"
   ]
  },
  {
   "cell_type": "code",
   "execution_count": null,
   "metadata": {},
   "outputs": [
    {
     "ename": "",
     "evalue": "",
     "output_type": "error",
     "traceback": [
      "\u001b[1;31mFailed to connect to the remote Jupyter Server 'http://localhost:8888/'. Verify the server is running and reachable. ([Errno 2] No such file or directory: '/home/devin/.local/share/jupyter/runtime/kernel-170ae61d-462d-4e2f-a025-e6a30466895e.json')."
     ]
    }
   ],
   "source": [
    "with itab.query() as q:\n",
    "    pprint.pprint(q.select())"
   ]
  },
  {
   "cell_type": "code",
   "execution_count": null,
   "metadata": {},
   "outputs": [
    {
     "ename": "",
     "evalue": "",
     "output_type": "error",
     "traceback": [
      "\u001b[1;31mFailed to connect to the remote Jupyter Server 'http://localhost:8888/'. Verify the server is running and reachable. ([Errno 2] No such file or directory: '/home/devin/.local/share/jupyter/runtime/kernel-170ae61d-462d-4e2f-a025-e6a30466895e.json')."
     ]
    }
   ],
   "source": [
    "with itab.query() as q:\n",
    "    q.delete(all=True)\n",
    "    \n",
    "    q.insert_multi(irises)\n",
    "    \n",
    "    db_irises = q.select()\n",
    "    print(len(db_irises))\n",
    "    pprint.pprint(db_irises[:2])"
   ]
  },
  {
   "cell_type": "code",
   "execution_count": null,
   "metadata": {},
   "outputs": [
    {
     "ename": "",
     "evalue": "",
     "output_type": "error",
     "traceback": [
      "\u001b[1;31mFailed to connect to the remote Jupyter Server 'http://localhost:8888/'. Verify the server is running and reachable. ([Errno 2] No such file or directory: '/home/devin/.local/share/jupyter/runtime/kernel-170ae61d-462d-4e2f-a025-e6a30466895e.json')."
     ]
    }
   ],
   "source": [
    "with itab.query() as q:\n",
    "    db_irises = q.select(['id', 'sepal_width', 'sepal_length'])\n",
    "    pprint.pprint(db_irises[:2])"
   ]
  },
  {
   "cell_type": "markdown",
   "metadata": {},
   "source": [
    "## Working with Multple Tables"
   ]
  },
  {
   "cell_type": "markdown",
   "metadata": {},
   "source": []
  },
  {
   "cell_type": "code",
   "execution_count": null,
   "metadata": {},
   "outputs": [
    {
     "ename": "",
     "evalue": "",
     "output_type": "error",
     "traceback": [
      "\u001b[1;31mFailed to connect to the remote Jupyter Server 'http://localhost:8888/'. Verify the server is running and reachable. ([Errno 2] No such file or directory: '/home/devin/.local/share/jupyter/runtime/kernel-170ae61d-462d-4e2f-a025-e6a30466895e.json')."
     ]
    }
   ],
   "source": [
    "print(iris_df['species'].unique())\n",
    "\n",
    "species_data = {\n",
    "    'setosa':'bristle-pointed iris',\n",
    "    'versicolor':'Southern blue flag',\n",
    "    'virginica':'Northern blue flag',\n",
    "}"
   ]
  },
  {
   "cell_type": "code",
   "execution_count": null,
   "metadata": {},
   "outputs": [
    {
     "ename": "",
     "evalue": "",
     "output_type": "error",
     "traceback": [
      "\u001b[1;31mFailed to connect to the remote Jupyter Server 'http://localhost:8888/'. Verify the server is running and reachable. ([Errno 2] No such file or directory: '/home/devin/.local/share/jupyter/runtime/kernel-170ae61d-462d-4e2f-a025-e6a30466895e.json')."
     ]
    }
   ],
   "source": [
    "import typing\n",
    "\n",
    "@doctable.table_schema(table_name='species')\n",
    "class Species:\n",
    "    name: str\n",
    "    common_name: str = doctable.Column(\n",
    "        column_args=doctable.ColumnArgs(nullable=True),\n",
    "    )\n",
    "    \n",
    "    id: int = doctable.Column(# will appear as the first column in the table\n",
    "        column_args=doctable.ColumnArgs(order=0, primary_key=True, autoincrement=True),\n",
    "    )\n",
    "    \n",
    "    @classmethod\n",
    "    def from_dict(cls, data: typing.Dict[str, str]) -> typing.List[Species]:\n",
    "        return [cls(name=n, common_name=cn) for n,cn in data.items()]\n",
    "\n",
    "@doctable.table_schema(table_name='iris')\n",
    "class IrisEntry:\n",
    "    sepal_length: float\n",
    "    sepal_width: float\n",
    "    petal_length: float\n",
    "    petal_width: float\n",
    "    species: str = doctable.Column(\n",
    "        column_args=doctable.ColumnArgs(foreign_key='species.name', nullable=False),\n",
    "    )\n",
    "    \n",
    "    id: int = doctable.Column(# will appear as the first column in the table\n",
    "        column_args=doctable.ColumnArgs(order=0, primary_key=True, autoincrement=True),\n",
    "    )\n",
    "    \n",
    "    @classmethod\n",
    "    def from_dataframe(cls, df: pd.DataFrame) -> typing.List[IrisEntry]:\n",
    "        return [cls(**row) for _,row in df.iterrows()]\n",
    "\n",
    "with core.begin_ddl() as emitter:\n",
    "    #spec_tab = emitter.create_table_if_not_exists(Species)\n",
    "    iris_tab = emitter.create_table_if_not_exists(IrisEntry)\n",
    "print(iris_tab)"
   ]
  }
 ],
 "metadata": {
  "kernelspec": {
   "display_name": "Python 3 (ipykernel)",
   "language": "python",
   "name": "python3"
  }
 },
 "nbformat": 4,
 "nbformat_minor": 2
}
