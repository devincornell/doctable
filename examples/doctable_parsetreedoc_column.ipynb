{
 "cells": [
  {
   "cell_type": "markdown",
   "metadata": {},
   "source": [
    "# ParseTreeDoc Column Types\n",
    "Creating parsetrees with spacy can be a computationally expensive task, so we may often want to store them in a database for better use. Because they may be large binary files, we will store them as pickle file column types, but with an additional serialization step."
   ]
  },
  {
   "cell_type": "code",
   "execution_count": 1,
   "metadata": {},
   "outputs": [],
   "source": [
    "import spacy\n",
    "nlp = spacy.load('en_core_web_sm')\n",
    "import numpy as np\n",
    "from pathlib import Path\n",
    "\n",
    "import sys\n",
    "sys.path.append('..')\n",
    "import doctable\n",
    "\n",
    "# automatically clean up temp folder after python ends\n",
    "tmpfolder = doctable.TempFolder('tmp')"
   ]
  },
  {
   "cell_type": "markdown",
   "metadata": {},
   "source": [
    "Create some test data and make a new `ParseTreeDoc` object."
   ]
  },
  {
   "cell_type": "code",
   "execution_count": 2,
   "metadata": {},
   "outputs": [
    {
     "name": "stdout",
     "output_type": "stream",
     "text": [
      "2\n",
      "1\n",
      "2\n"
     ]
    }
   ],
   "source": [
    "texts = [\n",
    "    'Help me Obi-Wan Kenobi. You’re my only hope. ',\n",
    "    'I find your lack of faith disturbing. ',\n",
    "    'Do, or do not. There is no try. '\n",
    "]\n",
    "parser = doctable.ParsePipeline([nlp, doctable.Comp('get_parsetrees')])\n",
    "docs = parser.parsemany(texts)\n",
    "for doc in docs:\n",
    "    print(len(doc))"
   ]
  },
  {
   "cell_type": "markdown",
   "metadata": {},
   "source": [
    "Now we create a schema that includes the `doc` column and the `ParseTreeFileCol` default value. Notice that using the type hint `ParseTreeDoc` and giving a generic `Col` default value is also sufficient."
   ]
  },
  {
   "cell_type": "code",
   "execution_count": 3,
   "metadata": {},
   "outputs": [
    {
     "data": {
      "text/plain": [
       "[{'name': 'id',\n",
       "  'type': INTEGER(),\n",
       "  'nullable': False,\n",
       "  'default': None,\n",
       "  'autoincrement': 'auto',\n",
       "  'primary_key': 1},\n",
       " {'name': 'doc',\n",
       "  'type': VARCHAR(),\n",
       "  'nullable': True,\n",
       "  'default': None,\n",
       "  'autoincrement': 'auto',\n",
       "  'primary_key': 0}]"
      ]
     },
     "execution_count": 3,
     "metadata": {},
     "output_type": "execute_result"
    }
   ],
   "source": [
    "import dataclasses\n",
    "@dataclasses.dataclass\n",
    "class DocRow(doctable.DocTableRow):\n",
    "    id: int = doctable.IDCol()\n",
    "    doc: doctable.ParseTreeDoc = doctable.ParseTreeFileCol('tmp/parsetree_pickle_files')\n",
    "        \n",
    "    # could also use this:\n",
    "    #doc: doctable.ParseTreeDoc = doctable.Col(type_args=dict(folder='tmp/parsetree_pickle_files'))\n",
    "    \n",
    "db = doctable.DocTable(target='tmp/test_ptrees.db', schema=DocRow, new_db=True)\n",
    "db.schema_info()"
   ]
  },
  {
   "cell_type": "code",
   "execution_count": 4,
   "metadata": {},
   "outputs": [
    {
     "data": {
      "text/html": [
       "<div>\n",
       "<style scoped>\n",
       "    .dataframe tbody tr th:only-of-type {\n",
       "        vertical-align: middle;\n",
       "    }\n",
       "\n",
       "    .dataframe tbody tr th {\n",
       "        vertical-align: top;\n",
       "    }\n",
       "\n",
       "    .dataframe thead th {\n",
       "        text-align: right;\n",
       "    }\n",
       "</style>\n",
       "<table border=\"1\" class=\"dataframe\">\n",
       "  <thead>\n",
       "    <tr style=\"text-align: right;\">\n",
       "      <th></th>\n",
       "      <th>id</th>\n",
       "      <th>doc</th>\n",
       "    </tr>\n",
       "  </thead>\n",
       "  <tbody>\n",
       "    <tr>\n",
       "      <th>0</th>\n",
       "      <td>1</td>\n",
       "      <td>[(Help, me, Obi, -, Wan, Kenobi, .), (You, ’re...</td>\n",
       "    </tr>\n",
       "    <tr>\n",
       "      <th>1</th>\n",
       "      <td>2</td>\n",
       "      <td>[(I, find, your, lack, of, faith, disturbing, .)]</td>\n",
       "    </tr>\n",
       "    <tr>\n",
       "      <th>2</th>\n",
       "      <td>3</td>\n",
       "      <td>[(Do, ,, or, do, not, .), (There, is, no, try,...</td>\n",
       "    </tr>\n",
       "  </tbody>\n",
       "</table>\n",
       "</div>"
      ],
      "text/plain": [
       "   id                                                doc\n",
       "0   1  [(Help, me, Obi, -, Wan, Kenobi, .), (You, ’re...\n",
       "1   2  [(I, find, your, lack, of, faith, disturbing, .)]\n",
       "2   3  [(Do, ,, or, do, not, .), (There, is, no, try,..."
      ]
     },
     "execution_count": 4,
     "metadata": {},
     "output_type": "execute_result"
    }
   ],
   "source": [
    "#db.insert([{'doc':doc} for doc in docs])\n",
    "for doc in docs:\n",
    "    db.insert({'doc': doc})\n",
    "db.head(3)"
   ]
  },
  {
   "cell_type": "code",
   "execution_count": 5,
   "metadata": {},
   "outputs": [
    {
     "name": "stdout",
     "output_type": "stream",
     "text": [
      "doc id 1:\n",
      "\tsent 0: ['Help', 'me', 'Obi', '-', 'Wan', 'Kenobi', '.']\n",
      "\tsent 1: ['You', '’re', 'my', 'only', 'hope', '.']\n",
      "doc id 2:\n",
      "\tsent 0: ['I', 'find', 'your', 'lack', 'of', 'faith', 'disturbing', '.']\n",
      "doc id 3:\n",
      "\tsent 0: ['Do', ',', 'or', 'do', 'not', '.']\n",
      "\tsent 1: ['There', 'is', 'no', 'try', '.']\n"
     ]
    }
   ],
   "source": [
    "for idx, doc in db.select(as_dataclass=False):\n",
    "    print(f\"doc id {idx}:\")\n",
    "    for i, sent in enumerate(doc):\n",
    "        print(f\"\\tsent {i}: {[t.text for t in sent]}\")"
   ]
  },
  {
   "cell_type": "markdown",
   "metadata": {},
   "source": [
    "See that the files exist, and we can remove/clean them just as any other file column type."
   ]
  },
  {
   "cell_type": "code",
   "execution_count": 6,
   "metadata": {},
   "outputs": [
    {
     "name": "stdout",
     "output_type": "stream",
     "text": [
      "tmp/parsetree_pickle_files/929092661969_parsetreedoc.pic\n",
      "tmp/parsetree_pickle_files/249450122285_parsetreedoc.pic\n",
      "tmp/parsetree_pickle_files/228187728659_parsetreedoc.pic\n"
     ]
    }
   ],
   "source": [
    "for fpath in tmpfolder.path.rglob('*.pic'):\n",
    "    print(str(fpath))"
   ]
  },
  {
   "cell_type": "code",
   "execution_count": 7,
   "metadata": {},
   "outputs": [
    {
     "name": "stdout",
     "output_type": "stream",
     "text": [
      "tmp/parsetree_pickle_files/929092661969_parsetreedoc.pic\n",
      "tmp/parsetree_pickle_files/249450122285_parsetreedoc.pic\n",
      "tmp/parsetree_pickle_files/228187728659_parsetreedoc.pic\n"
     ]
    },
    {
     "data": {
      "text/html": [
       "<div>\n",
       "<style scoped>\n",
       "    .dataframe tbody tr th:only-of-type {\n",
       "        vertical-align: middle;\n",
       "    }\n",
       "\n",
       "    .dataframe tbody tr th {\n",
       "        vertical-align: top;\n",
       "    }\n",
       "\n",
       "    .dataframe thead th {\n",
       "        text-align: right;\n",
       "    }\n",
       "</style>\n",
       "<table border=\"1\" class=\"dataframe\">\n",
       "  <thead>\n",
       "    <tr style=\"text-align: right;\">\n",
       "      <th></th>\n",
       "      <th>id</th>\n",
       "      <th>doc</th>\n",
       "    </tr>\n",
       "  </thead>\n",
       "  <tbody>\n",
       "    <tr>\n",
       "      <th>0</th>\n",
       "      <td>2</td>\n",
       "      <td>[(I, find, your, lack, of, faith, disturbing, .)]</td>\n",
       "    </tr>\n",
       "    <tr>\n",
       "      <th>1</th>\n",
       "      <td>3</td>\n",
       "      <td>[(Do, ,, or, do, not, .), (There, is, no, try,...</td>\n",
       "    </tr>\n",
       "  </tbody>\n",
       "</table>\n",
       "</div>"
      ],
      "text/plain": [
       "   id                                                doc\n",
       "0   2  [(I, find, your, lack, of, faith, disturbing, .)]\n",
       "1   3  [(Do, ,, or, do, not, .), (There, is, no, try,..."
      ]
     },
     "execution_count": 7,
     "metadata": {},
     "output_type": "execute_result"
    }
   ],
   "source": [
    "db.delete(db['id']==1)\n",
    "for fpath in tmpfolder.path.rglob('*.pic'):\n",
    "    print(str(fpath))\n",
    "db.head()"
   ]
  },
  {
   "cell_type": "code",
   "execution_count": 8,
   "metadata": {},
   "outputs": [
    {
     "name": "stdout",
     "output_type": "stream",
     "text": [
      "tmp/parsetree_pickle_files/249450122285_parsetreedoc.pic\n",
      "tmp/parsetree_pickle_files/228187728659_parsetreedoc.pic\n"
     ]
    }
   ],
   "source": [
    "db.clean_col_files('doc')\n",
    "for fpath in tmpfolder.path.rglob('*.pic'):\n",
    "    print(str(fpath))"
   ]
  }
 ],
 "metadata": {
  "kernelspec": {
   "display_name": "Python 3",
   "language": "python",
   "name": "python3"
  },
  "language_info": {
   "codemirror_mode": {
    "name": "ipython",
    "version": 3
   },
   "file_extension": ".py",
   "mimetype": "text/x-python",
   "name": "python",
   "nbconvert_exporter": "python",
   "pygments_lexer": "ipython3",
   "version": "3.8.5"
  }
 },
 "nbformat": 4,
 "nbformat_minor": 4
}
