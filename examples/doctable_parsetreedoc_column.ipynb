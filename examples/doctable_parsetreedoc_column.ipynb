{
 "cells": [
  {
   "cell_type": "markdown",
   "source": [
    "# ParseTreeDoc Column Types\n",
    "Creating parsetrees with spacy can be a computationally expensive task, so we may often want to store them in a database for better use. Because they may be large binary files, we will store them as pickle file column types, but with an additional serialization step."
   ],
   "metadata": {}
  },
  {
   "cell_type": "code",
   "execution_count": 1,
   "source": [
    "import spacy\n",
    "nlp = spacy.load('en_core_web_sm')\n",
    "import numpy as np\n",
    "from pathlib import Path\n",
    "\n",
    "import sys\n",
    "sys.path.append('..')\n",
    "import doctable\n",
    "\n",
    "# automatically clean up temp folder after python ends\n",
    "tmpfolder = doctable.TempFolder('tmp')"
   ],
   "outputs": [],
   "metadata": {}
  },
  {
   "cell_type": "markdown",
   "source": [
    "Create some test data and make a new `ParseTreeDoc` object."
   ],
   "metadata": {}
  },
  {
   "cell_type": "code",
   "execution_count": 2,
   "source": [
    "texts = [\n",
    "    'Help me Obi-Wan Kenobi. You’re my only hope. ',\n",
    "    'I find your lack of faith disturbing. ',\n",
    "    'Do, or do not. There is no try. '\n",
    "]\n",
    "parser = doctable.ParsePipeline([nlp, doctable.Comp('get_parsetrees')])\n",
    "docs = parser.parsemany(texts)\n",
    "for doc in docs:\n",
    "    print(len(doc))"
   ],
   "outputs": [
    {
     "output_type": "stream",
     "name": "stdout",
     "text": [
      "2\n",
      "1\n",
      "2\n"
     ]
    }
   ],
   "metadata": {}
  },
  {
   "cell_type": "markdown",
   "source": [
    "Now we create a schema that includes the `doc` column and the `ParseTreeFileCol` default value. Notice that using the type hint `ParseTreeDoc` and giving a generic `Col` default value is also sufficient."
   ],
   "metadata": {}
  },
  {
   "cell_type": "code",
   "execution_count": 3,
   "source": [
    "import dataclasses\n",
    "@doctable.schema(require_slots=False)\n",
    "class DocRow:\n",
    "    id: int = doctable.IDCol()\n",
    "    doc: doctable.ParseTreeDoc = doctable.ParseTreeFileCol('tmp/parsetree_pickle_files')\n",
    "        \n",
    "    # could also use this:\n",
    "    #doc: doctable.ParseTreeDoc = doctable.Col(type_args=dict(folder='tmp/parsetree_pickle_files'))\n",
    "    \n",
    "db = doctable.DocTable(target='tmp/test_ptrees.db', schema=DocRow, new_db=True)\n",
    "db.schema_info()"
   ],
   "outputs": [
    {
     "output_type": "execute_result",
     "data": {
      "text/plain": [
       "[{'name': 'id',\n",
       "  'type': INTEGER(),\n",
       "  'nullable': False,\n",
       "  'default': None,\n",
       "  'autoincrement': 'auto',\n",
       "  'primary_key': 1},\n",
       " {'name': 'doc',\n",
       "  'type': VARCHAR(),\n",
       "  'nullable': True,\n",
       "  'default': None,\n",
       "  'autoincrement': 'auto',\n",
       "  'primary_key': 0}]"
      ]
     },
     "metadata": {},
     "execution_count": 3
    }
   ],
   "metadata": {}
  },
  {
   "cell_type": "code",
   "execution_count": 4,
   "source": [
    "#db.insert([{'doc':doc} for doc in docs])\n",
    "for doc in docs:\n",
    "    db.insert({'doc': doc})\n",
    "db.head(3)"
   ],
   "outputs": [
    {
     "output_type": "execute_result",
     "data": {
      "text/plain": [
       "   id                                                doc\n",
       "0   1  [(Help, me, Obi, -, Wan, Kenobi, .), (You, ’re...\n",
       "1   2  [(I, find, your, lack, of, faith, disturbing, .)]\n",
       "2   3  [(Do, ,, or, do, not, .), (There, is, no, try,..."
      ],
      "text/html": [
       "<div>\n",
       "<style scoped>\n",
       "    .dataframe tbody tr th:only-of-type {\n",
       "        vertical-align: middle;\n",
       "    }\n",
       "\n",
       "    .dataframe tbody tr th {\n",
       "        vertical-align: top;\n",
       "    }\n",
       "\n",
       "    .dataframe thead th {\n",
       "        text-align: right;\n",
       "    }\n",
       "</style>\n",
       "<table border=\"1\" class=\"dataframe\">\n",
       "  <thead>\n",
       "    <tr style=\"text-align: right;\">\n",
       "      <th></th>\n",
       "      <th>id</th>\n",
       "      <th>doc</th>\n",
       "    </tr>\n",
       "  </thead>\n",
       "  <tbody>\n",
       "    <tr>\n",
       "      <th>0</th>\n",
       "      <td>1</td>\n",
       "      <td>[(Help, me, Obi, -, Wan, Kenobi, .), (You, ’re...</td>\n",
       "    </tr>\n",
       "    <tr>\n",
       "      <th>1</th>\n",
       "      <td>2</td>\n",
       "      <td>[(I, find, your, lack, of, faith, disturbing, .)]</td>\n",
       "    </tr>\n",
       "    <tr>\n",
       "      <th>2</th>\n",
       "      <td>3</td>\n",
       "      <td>[(Do, ,, or, do, not, .), (There, is, no, try,...</td>\n",
       "    </tr>\n",
       "  </tbody>\n",
       "</table>\n",
       "</div>"
      ]
     },
     "metadata": {},
     "execution_count": 4
    }
   ],
   "metadata": {}
  },
  {
   "cell_type": "code",
   "execution_count": 5,
   "source": [
    "for idx, doc in db.select(as_dataclass=False):\n",
    "    print(f\"doc id {idx}:\")\n",
    "    for i, sent in enumerate(doc):\n",
    "        print(f\"\\tsent {i}: {[t.text for t in sent]}\")"
   ],
   "outputs": [
    {
     "output_type": "stream",
     "name": "stdout",
     "text": [
      "doc id 1:\n",
      "\tsent 0: ['Help', 'me', 'Obi', '-', 'Wan', 'Kenobi', '.']\n",
      "\tsent 1: ['You', '’re', 'my', 'only', 'hope', '.']\n",
      "doc id 2:\n",
      "\tsent 0: ['I', 'find', 'your', 'lack', 'of', 'faith', 'disturbing', '.']\n",
      "doc id 3:\n",
      "\tsent 0: ['Do', ',', 'or', 'do', 'not', '.']\n",
      "\tsent 1: ['There', 'is', 'no', 'try', '.']\n"
     ]
    }
   ],
   "metadata": {}
  },
  {
   "cell_type": "markdown",
   "source": [
    "See that the files exist, and we can remove/clean them just as any other file column type."
   ],
   "metadata": {}
  },
  {
   "cell_type": "code",
   "execution_count": 6,
   "source": [
    "for fpath in tmpfolder.path.rglob('*.pic'):\n",
    "    print(str(fpath))"
   ],
   "outputs": [
    {
     "output_type": "stream",
     "name": "stdout",
     "text": [
      "tmp/parsetree_pickle_files/957205257663_parsetreedoc.pic\n",
      "tmp/parsetree_pickle_files/331764742454_parsetreedoc.pic\n",
      "tmp/parsetree_pickle_files/348766251477_parsetreedoc.pic\n"
     ]
    }
   ],
   "metadata": {}
  },
  {
   "cell_type": "code",
   "execution_count": 7,
   "source": [
    "db.delete(db['id']==1)\n",
    "for fpath in tmpfolder.path.rglob('*.pic'):\n",
    "    print(str(fpath))\n",
    "db.head()"
   ],
   "outputs": [
    {
     "output_type": "stream",
     "name": "stdout",
     "text": [
      "tmp/parsetree_pickle_files/957205257663_parsetreedoc.pic\n",
      "tmp/parsetree_pickle_files/331764742454_parsetreedoc.pic\n",
      "tmp/parsetree_pickle_files/348766251477_parsetreedoc.pic\n"
     ]
    },
    {
     "output_type": "execute_result",
     "data": {
      "text/plain": [
       "   id                                                doc\n",
       "0   2  [(I, find, your, lack, of, faith, disturbing, .)]\n",
       "1   3  [(Do, ,, or, do, not, .), (There, is, no, try,..."
      ],
      "text/html": [
       "<div>\n",
       "<style scoped>\n",
       "    .dataframe tbody tr th:only-of-type {\n",
       "        vertical-align: middle;\n",
       "    }\n",
       "\n",
       "    .dataframe tbody tr th {\n",
       "        vertical-align: top;\n",
       "    }\n",
       "\n",
       "    .dataframe thead th {\n",
       "        text-align: right;\n",
       "    }\n",
       "</style>\n",
       "<table border=\"1\" class=\"dataframe\">\n",
       "  <thead>\n",
       "    <tr style=\"text-align: right;\">\n",
       "      <th></th>\n",
       "      <th>id</th>\n",
       "      <th>doc</th>\n",
       "    </tr>\n",
       "  </thead>\n",
       "  <tbody>\n",
       "    <tr>\n",
       "      <th>0</th>\n",
       "      <td>2</td>\n",
       "      <td>[(I, find, your, lack, of, faith, disturbing, .)]</td>\n",
       "    </tr>\n",
       "    <tr>\n",
       "      <th>1</th>\n",
       "      <td>3</td>\n",
       "      <td>[(Do, ,, or, do, not, .), (There, is, no, try,...</td>\n",
       "    </tr>\n",
       "  </tbody>\n",
       "</table>\n",
       "</div>"
      ]
     },
     "metadata": {},
     "execution_count": 7
    }
   ],
   "metadata": {}
  },
  {
   "cell_type": "code",
   "execution_count": 8,
   "source": [
    "db.clean_col_files('doc')\n",
    "for fpath in tmpfolder.path.rglob('*.pic'):\n",
    "    print(str(fpath))"
   ],
   "outputs": [
    {
     "output_type": "stream",
     "name": "stdout",
     "text": [
      "tmp/parsetree_pickle_files/957205257663_parsetreedoc.pic\n",
      "tmp/parsetree_pickle_files/348766251477_parsetreedoc.pic\n"
     ]
    }
   ],
   "metadata": {}
  }
 ],
 "metadata": {
  "kernelspec": {
   "name": "python3",
   "display_name": "Python 3.8.5 64-bit ('base': conda)"
  },
  "language_info": {
   "codemirror_mode": {
    "name": "ipython",
    "version": 3
   },
   "file_extension": ".py",
   "mimetype": "text/x-python",
   "name": "python",
   "nbconvert_exporter": "python",
   "pygments_lexer": "ipython3",
   "version": "3.8.5"
  },
  "interpreter": {
   "hash": "80712910726593b564a07c7ac6087ce3072c1b43af7fa58c28aea85a2c346dd3"
  }
 },
 "nbformat": 4,
 "nbformat_minor": 4
}