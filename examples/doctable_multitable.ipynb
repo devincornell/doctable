{
 "cells": [
  {
   "cell_type": "markdown",
   "metadata": {},
   "source": [
    "# Example: Multiple Tables\n",
    "In this example, I show how doctable can be used with multiple relational tables to perform queries which automatically merge different aspects of your dataset when you use `.select()`. By integrating these relations into the schema, your database can automatically maintain consistency between tables by deleting irrelevant elements when their relations disappear. There are two important features of any multi-table schema using doctable:\n",
    "\n",
    "(1) Set the foreign_keys=True in the original doctable or ConnectEngine constructor. It is enabled by default though. Otherwise sqlalchemy will not enable.\n",
    "\n",
    "(2) Use the \"foreignkey\" column type to set the constraint, probably with the onupdate and ondelete keywords specifiied.\n",
    "\n",
    "The example I will use here will consist of the following tables:\n",
    "\n",
    "+ *Books*: keeps titles and publication year of each book. Has a many-to-one relationship with `Authors` and a many-to-many relationship to *Libraries*.\n",
    "+ *Authors*: keeps author information. Has a one-to-many relationship with `Books`.\n",
    "+ *Libraries*: information about libraries. Has a many-to-many relationship with `Books`.\n",
    "\n",
    "This will be our main point of access, so the extra tables are to avoid replicated data and allow us to quickly query by author or library."
   ]
  },
  {
   "cell_type": "code",
   "execution_count": 1,
   "metadata": {},
   "outputs": [],
   "source": [
    "import datetime\n",
    "import dataclasses\n",
    "\n",
    "import sys\n",
    "sys.path.append('..')\n",
    "import doctable"
   ]
  },
  {
   "cell_type": "markdown",
   "metadata": {},
   "source": [
    "## Many-to-Many Relationships\n",
    "\n",
    "The premise is that we have an imaginary API where we can get newly released books along with the libraries they are associted with (although they man, in some cases, not have library information). We want to keep track of the set of books with unique titles, and have book information exist on its own (i.e. we can insert book information if it does not have library information). We would also like to keep track of the libraries they belong to. We need this schema to be fast for selection, but it can be slow for insertion.\n",
    "\n",
    "Primary accesses methods:\n",
    "\n",
    "+ insert a book\n",
    "+ query books by year of publication\n",
    "+ insert a single library and associated books\n",
    "+ query books associated with libraries in certain zips\n",
    "\n",
    "In this example, we are going to use two tables with a many-to-many relationships and a table to handle relationships between them (required for a many-to-many relationship):\n",
    "    \n",
    "+ *`Books`*: keeps title and publication year of each book. Should exist independently of Libraries, because we may not want to use Libraries at all.\n",
    "+ *`Libraries`*: keeps name of library, makes it easy to query by Library.\n",
    "+ *`BookLibraryRelations`*: keeps track of relationships between Books and Libraries.\n",
    "\n",
    "First we define the `Books` table. Because we are primarily interested in Books, we will create a separate `Book` object for working with them."
   ]
  },
  {
   "cell_type": "code",
   "execution_count": 2,
   "metadata": {},
   "outputs": [],
   "source": [
    "@doctable.schema(frozen=True, eq=True)\n",
    "class Book:\n",
    "    __slots__ = []\n",
    "    _id: int = doctable.IDCol()\n",
    "    isbn: str = doctable.Col(unique=True)\n",
    "    title: str = doctable.Col()\n",
    "    year: int = doctable.Col()\n",
    "    date_updated: datetime.datetime = doctable.UpdatedCol()\n",
    "\n",
    "class Books(doctable.DocTable):\n",
    "    _tabname_ = 'books'\n",
    "    _schema_ = Book\n",
    "    _indices_ = [doctable.Index('isbn_index', 'isbn')]\n",
    "    \n",
    "book_table = Books(target=':memory:')"
   ]
  },
  {
   "cell_type": "markdown",
   "metadata": {},
   "source": [
    "We are not planning to work with author data outside of the schema definition, so we include it as part of the table definition."
   ]
  },
  {
   "cell_type": "code",
   "execution_count": 3,
   "metadata": {},
   "outputs": [],
   "source": [
    "@doctable.schema(frozen=True, eq=True)\n",
    "class Library:\n",
    "    __slots__ = []\n",
    "    _id: int = doctable.IDCol()\n",
    "    name: str = doctable.Col()\n",
    "    zip: int = doctable.Col()\n",
    "\n",
    "class Libraries(doctable.DocTable):\n",
    "    _tabname_ = 'libraries'\n",
    "    _schema_ = Library    \n",
    "    _constraints_ = [doctable.Constraint('unique', 'name', 'zip')]\n",
    "    \n",
    "\n",
    "library_table = Libraries(engine=book_table.engine)"
   ]
  },
  {
   "cell_type": "code",
   "execution_count": 4,
   "metadata": {},
   "outputs": [
    {
     "data": {
      "text/plain": [
       "['book_library_relations', 'books', 'libraries']"
      ]
     },
     "execution_count": 4,
     "metadata": {},
     "output_type": "execute_result"
    }
   ],
   "source": [
    "class BookLibraryRelations(doctable.DocTable):\n",
    "    '''Link between books and libraries.'''\n",
    "    _tabname_ = 'book_library_relations'\n",
    "    \n",
    "    @doctable.schema\n",
    "    class _schema_:\n",
    "        __slots__ = []\n",
    "        _id: int = doctable.IDCol()\n",
    "        book_isbn: int = doctable.Col(nullable=False)\n",
    "        library_id: int = doctable.Col(nullable=False)\n",
    "    \n",
    "    _constraints_ = (\n",
    "        doctable.Constraint('foreignkey', ('book_isbn',), ('books.isbn',)),\n",
    "        doctable.Constraint('foreignkey', ('library_id',), ('libraries._id',)),\n",
    "        doctable.Constraint('unique', 'book_isbn', 'library_id'),\n",
    "    )\n",
    "\n",
    "relations_table = BookLibraryRelations(engine=book_table.engine)\n",
    "relations_table.list_tables()"
   ]
  },
  {
   "cell_type": "markdown",
   "metadata": {},
   "source": [
    "Now we have a bunch of libraries sending us their books, and we also have random books being added to our database that are not at libraries."
   ]
  },
  {
   "cell_type": "code",
   "execution_count": 5,
   "metadata": {},
   "outputs": [
    {
     "name": "stdout",
     "output_type": "stream",
     "text": [
      "Book(isbn='A', title='A', year=2020)\n",
      "Book(isbn='E', title='E', year=2018)\n"
     ]
    }
   ],
   "source": [
    "newly_published_books = [\n",
    "    Book(isbn='A', title='A', year=2020),\n",
    "    Book(isbn='E', title='E', year=2018),\n",
    "]\n",
    "new_library_books = {\n",
    "    Library(name='Library1', zip=12345): [\n",
    "        Book(isbn='A', title='A', year=2020),\n",
    "        Book(isbn='B', title='B', year=2020),\n",
    "    ],\n",
    "    Library(name='Library2', zip=12345): [\n",
    "        Book(isbn='A', title='A', year=2020),\n",
    "        Book(isbn='C', title='C', year=2021),\n",
    "    ],\n",
    "    Library(name='Library3', zip=67890): [\n",
    "        Book(isbn='A', title='A', year=2020),\n",
    "        Book(isbn='B', title='B', year=2020),\n",
    "        Book(isbn='D', title='D', year=2019),\n",
    "    ],\n",
    "}\n",
    "for book in newly_published_books:\n",
    "    print(book)"
   ]
  },
  {
   "cell_type": "markdown",
   "metadata": {},
   "source": [
    "Now we insert the list of books that were published. It works as expected."
   ]
  },
  {
   "cell_type": "code",
   "execution_count": 6,
   "metadata": {},
   "outputs": [
    {
     "data": {
      "text/html": [
       "<div>\n",
       "<style scoped>\n",
       "    .dataframe tbody tr th:only-of-type {\n",
       "        vertical-align: middle;\n",
       "    }\n",
       "\n",
       "    .dataframe tbody tr th {\n",
       "        vertical-align: top;\n",
       "    }\n",
       "\n",
       "    .dataframe thead th {\n",
       "        text-align: right;\n",
       "    }\n",
       "</style>\n",
       "<table border=\"1\" class=\"dataframe\">\n",
       "  <thead>\n",
       "    <tr style=\"text-align: right;\">\n",
       "      <th></th>\n",
       "      <th>_id</th>\n",
       "      <th>isbn</th>\n",
       "      <th>title</th>\n",
       "      <th>year</th>\n",
       "      <th>date_updated</th>\n",
       "    </tr>\n",
       "  </thead>\n",
       "  <tbody>\n",
       "    <tr>\n",
       "      <th>0</th>\n",
       "      <td>1</td>\n",
       "      <td>A</td>\n",
       "      <td>A</td>\n",
       "      <td>2020</td>\n",
       "      <td>2022-07-26 20:06:30.100029</td>\n",
       "    </tr>\n",
       "    <tr>\n",
       "      <th>1</th>\n",
       "      <td>2</td>\n",
       "      <td>E</td>\n",
       "      <td>E</td>\n",
       "      <td>2018</td>\n",
       "      <td>2022-07-26 20:06:30.100034</td>\n",
       "    </tr>\n",
       "  </tbody>\n",
       "</table>\n",
       "</div>"
      ],
      "text/plain": [
       "   _id isbn title  year               date_updated\n",
       "0    1    A     A  2020 2022-07-26 20:06:30.100029\n",
       "1    2    E     E  2018 2022-07-26 20:06:30.100034"
      ]
     },
     "execution_count": 6,
     "metadata": {},
     "output_type": "execute_result"
    }
   ],
   "source": [
    "book_table.insert(newly_published_books, ifnotunique='replace')\n",
    "book_table.head()"
   ]
  },
  {
   "cell_type": "code",
   "execution_count": 7,
   "metadata": {},
   "outputs": [],
   "source": [
    "for library, books in new_library_books.items():\n",
    "    r = library_table.insert(library, ifnotunique='ignore')\n",
    "    book_table.insert(books, ifnotunique='replace')\n",
    "    relations_table.insert([{'book_isbn':b.isbn, 'library_id': r.lastrowid} for b in books], ifnotunique='ignore')"
   ]
  },
  {
   "cell_type": "code",
   "execution_count": 8,
   "metadata": {},
   "outputs": [
    {
     "data": {
      "text/html": [
       "<div>\n",
       "<style scoped>\n",
       "    .dataframe tbody tr th:only-of-type {\n",
       "        vertical-align: middle;\n",
       "    }\n",
       "\n",
       "    .dataframe tbody tr th {\n",
       "        vertical-align: top;\n",
       "    }\n",
       "\n",
       "    .dataframe thead th {\n",
       "        text-align: right;\n",
       "    }\n",
       "</style>\n",
       "<table border=\"1\" class=\"dataframe\">\n",
       "  <thead>\n",
       "    <tr style=\"text-align: right;\">\n",
       "      <th></th>\n",
       "      <th>_id</th>\n",
       "      <th>isbn</th>\n",
       "      <th>title</th>\n",
       "      <th>year</th>\n",
       "      <th>date_updated</th>\n",
       "    </tr>\n",
       "  </thead>\n",
       "  <tbody>\n",
       "    <tr>\n",
       "      <th>0</th>\n",
       "      <td>2</td>\n",
       "      <td>E</td>\n",
       "      <td>E</td>\n",
       "      <td>2018</td>\n",
       "      <td>2022-07-26 20:06:30.100034</td>\n",
       "    </tr>\n",
       "    <tr>\n",
       "      <th>1</th>\n",
       "      <td>6</td>\n",
       "      <td>C</td>\n",
       "      <td>C</td>\n",
       "      <td>2021</td>\n",
       "      <td>2022-07-26 20:06:30.156971</td>\n",
       "    </tr>\n",
       "    <tr>\n",
       "      <th>2</th>\n",
       "      <td>7</td>\n",
       "      <td>A</td>\n",
       "      <td>A</td>\n",
       "      <td>2020</td>\n",
       "      <td>2022-07-26 20:06:30.158280</td>\n",
       "    </tr>\n",
       "    <tr>\n",
       "      <th>3</th>\n",
       "      <td>8</td>\n",
       "      <td>B</td>\n",
       "      <td>B</td>\n",
       "      <td>2020</td>\n",
       "      <td>2022-07-26 20:06:30.158285</td>\n",
       "    </tr>\n",
       "    <tr>\n",
       "      <th>4</th>\n",
       "      <td>9</td>\n",
       "      <td>D</td>\n",
       "      <td>D</td>\n",
       "      <td>2019</td>\n",
       "      <td>2022-07-26 20:06:30.158288</td>\n",
       "    </tr>\n",
       "  </tbody>\n",
       "</table>\n",
       "</div>"
      ],
      "text/plain": [
       "   _id isbn title  year               date_updated\n",
       "0    2    E     E  2018 2022-07-26 20:06:30.100034\n",
       "1    6    C     C  2021 2022-07-26 20:06:30.156971\n",
       "2    7    A     A  2020 2022-07-26 20:06:30.158280\n",
       "3    8    B     B  2020 2022-07-26 20:06:30.158285\n",
       "4    9    D     D  2019 2022-07-26 20:06:30.158288"
      ]
     },
     "execution_count": 8,
     "metadata": {},
     "output_type": "execute_result"
    }
   ],
   "source": [
    "book_table.select_df()"
   ]
  },
  {
   "cell_type": "code",
   "execution_count": 9,
   "metadata": {},
   "outputs": [
    {
     "data": {
      "text/html": [
       "<div>\n",
       "<style scoped>\n",
       "    .dataframe tbody tr th:only-of-type {\n",
       "        vertical-align: middle;\n",
       "    }\n",
       "\n",
       "    .dataframe tbody tr th {\n",
       "        vertical-align: top;\n",
       "    }\n",
       "\n",
       "    .dataframe thead th {\n",
       "        text-align: right;\n",
       "    }\n",
       "</style>\n",
       "<table border=\"1\" class=\"dataframe\">\n",
       "  <thead>\n",
       "    <tr style=\"text-align: right;\">\n",
       "      <th></th>\n",
       "      <th>_id</th>\n",
       "      <th>name</th>\n",
       "      <th>zip</th>\n",
       "    </tr>\n",
       "  </thead>\n",
       "  <tbody>\n",
       "    <tr>\n",
       "      <th>0</th>\n",
       "      <td>1</td>\n",
       "      <td>Library1</td>\n",
       "      <td>12345</td>\n",
       "    </tr>\n",
       "    <tr>\n",
       "      <th>1</th>\n",
       "      <td>2</td>\n",
       "      <td>Library2</td>\n",
       "      <td>12345</td>\n",
       "    </tr>\n",
       "    <tr>\n",
       "      <th>2</th>\n",
       "      <td>3</td>\n",
       "      <td>Library3</td>\n",
       "      <td>67890</td>\n",
       "    </tr>\n",
       "  </tbody>\n",
       "</table>\n",
       "</div>"
      ],
      "text/plain": [
       "   _id      name    zip\n",
       "0    1  Library1  12345\n",
       "1    2  Library2  12345\n",
       "2    3  Library3  67890"
      ]
     },
     "execution_count": 9,
     "metadata": {},
     "output_type": "execute_result"
    }
   ],
   "source": [
    "library_table.select_df()"
   ]
  },
  {
   "cell_type": "code",
   "execution_count": 10,
   "metadata": {},
   "outputs": [
    {
     "data": {
      "text/html": [
       "<div>\n",
       "<style scoped>\n",
       "    .dataframe tbody tr th:only-of-type {\n",
       "        vertical-align: middle;\n",
       "    }\n",
       "\n",
       "    .dataframe tbody tr th {\n",
       "        vertical-align: top;\n",
       "    }\n",
       "\n",
       "    .dataframe thead th {\n",
       "        text-align: right;\n",
       "    }\n",
       "</style>\n",
       "<table border=\"1\" class=\"dataframe\">\n",
       "  <thead>\n",
       "    <tr style=\"text-align: right;\">\n",
       "      <th></th>\n",
       "      <th>_id</th>\n",
       "      <th>book_isbn</th>\n",
       "      <th>library_id</th>\n",
       "    </tr>\n",
       "  </thead>\n",
       "  <tbody>\n",
       "    <tr>\n",
       "      <th>0</th>\n",
       "      <td>1</td>\n",
       "      <td>A</td>\n",
       "      <td>1</td>\n",
       "    </tr>\n",
       "    <tr>\n",
       "      <th>1</th>\n",
       "      <td>2</td>\n",
       "      <td>B</td>\n",
       "      <td>1</td>\n",
       "    </tr>\n",
       "    <tr>\n",
       "      <th>2</th>\n",
       "      <td>3</td>\n",
       "      <td>A</td>\n",
       "      <td>2</td>\n",
       "    </tr>\n",
       "    <tr>\n",
       "      <th>3</th>\n",
       "      <td>4</td>\n",
       "      <td>C</td>\n",
       "      <td>2</td>\n",
       "    </tr>\n",
       "    <tr>\n",
       "      <th>4</th>\n",
       "      <td>5</td>\n",
       "      <td>A</td>\n",
       "      <td>3</td>\n",
       "    </tr>\n",
       "    <tr>\n",
       "      <th>5</th>\n",
       "      <td>6</td>\n",
       "      <td>B</td>\n",
       "      <td>3</td>\n",
       "    </tr>\n",
       "    <tr>\n",
       "      <th>6</th>\n",
       "      <td>7</td>\n",
       "      <td>D</td>\n",
       "      <td>3</td>\n",
       "    </tr>\n",
       "  </tbody>\n",
       "</table>\n",
       "</div>"
      ],
      "text/plain": [
       "   _id book_isbn  library_id\n",
       "0    1         A           1\n",
       "1    2         B           1\n",
       "2    3         A           2\n",
       "3    4         C           2\n",
       "4    5         A           3\n",
       "5    6         B           3\n",
       "6    7         D           3"
      ]
     },
     "execution_count": 10,
     "metadata": {},
     "output_type": "execute_result"
    }
   ],
   "source": [
    "relations_table.select_df()"
   ]
  },
  {
   "cell_type": "markdown",
   "metadata": {},
   "source": [
    "## Select Queries That Join Tables\n",
    "\n",
    "Similar to sqlalchemy, `DocTable` joins are doen simply by replacing the where conditional. While not technically nessecary, typically you will be joining tables on foreign key columns because it is much faster."
   ]
  },
  {
   "cell_type": "code",
   "execution_count": 11,
   "metadata": {},
   "outputs": [],
   "source": [
    "bt, lt, rt = book_table, library_table, relations_table"
   ]
  },
  {
   "cell_type": "markdown",
   "metadata": {},
   "source": [
    "For the first example, say we want to get the isbn numbers of books associated with each library in zip code 12345. We implement the join using a simple conditional  equating the associated keys in each table. Our database schema already knows that the foreign keys are in place, so this expression will give us the join we want."
   ]
  },
  {
   "cell_type": "code",
   "execution_count": 12,
   "metadata": {},
   "outputs": [
    {
     "data": {
      "text/plain": [
       "[('Library1', 'A'), ('Library1', 'B'), ('Library2', 'A'), ('Library2', 'C')]"
      ]
     },
     "execution_count": 12,
     "metadata": {},
     "output_type": "execute_result"
    }
   ],
   "source": [
    "lt.select([lt['name'], rt['book_isbn']], where=(lt['_id']==rt['library_id']) & (lt['zip']==12345), as_dataclass=False)\n",
    "#rt.select(where=(lt['_id']==rt['library_id']) & (lt['zip']==12345))"
   ]
  },
  {
   "cell_type": "markdown",
   "metadata": {},
   "source": [
    "Now say we want to characterize each library according to the age distribution of it's books. We use two conditionals for the join: one connecting library table to relations table, and another connecting relations table to books table. We also include the condition to get only libraries associated with the given zip."
   ]
  },
  {
   "cell_type": "code",
   "execution_count": 13,
   "metadata": {},
   "outputs": [
    {
     "data": {
      "text/plain": [
       "[('C', 2021, 'Library2'),\n",
       " ('A', 2020, 'Library1'),\n",
       " ('A', 2020, 'Library2'),\n",
       " ('B', 2020, 'Library1')]"
      ]
     },
     "execution_count": 13,
     "metadata": {},
     "output_type": "execute_result"
    }
   ],
   "source": [
    "conditions = (bt['isbn']==rt['book_isbn']) & (rt['library_id']==lt['_id']) & (lt['zip']==12345)\n",
    "bt.select([bt['title'], bt['year'], lt['name']], where=conditions, as_dataclass=False)"
   ]
  },
  {
   "cell_type": "code",
   "execution_count": 14,
   "metadata": {},
   "outputs": [
    {
     "ename": "KeyError",
     "evalue": "''",
     "output_type": "error",
     "traceback": [
      "\u001b[0;31m---------------------------------------------------------------------------\u001b[0m",
      "\u001b[0;31mKeyError\u001b[0m                                  Traceback (most recent call last)",
      "\u001b[0;32m<ipython-input-14-1c328d6872cf>\u001b[0m in \u001b[0;36m<module>\u001b[0;34m\u001b[0m\n\u001b[0;32m----> 1\u001b[0;31m \u001b[0minner_tab\u001b[0m \u001b[0;34m=\u001b[0m \u001b[0mlt\u001b[0m\u001b[0;34m.\u001b[0m\u001b[0mtable\u001b[0m\u001b[0;34m.\u001b[0m\u001b[0mselect\u001b[0m\u001b[0;34m(\u001b[0m\u001b[0;34m)\u001b[0m\u001b[0;34m.\u001b[0m\u001b[0mwhere\u001b[0m\u001b[0;34m(\u001b[0m\u001b[0mbt\u001b[0m\u001b[0;34m[\u001b[0m\u001b[0;34m''\u001b[0m\u001b[0;34m]\u001b[0m\u001b[0;34m)\u001b[0m\u001b[0;34m\u001b[0m\u001b[0;34m\u001b[0m\u001b[0m\n\u001b[0m\u001b[1;32m      2\u001b[0m \u001b[0;31m#bt.select(where=())\u001b[0m\u001b[0;34m\u001b[0m\u001b[0;34m\u001b[0m\u001b[0;34m\u001b[0m\u001b[0m\n\u001b[1;32m      3\u001b[0m \u001b[0;31m#jt = lt.join(rt, (lt['zip']==12345) & (lt['_id']==rt['library_id']), isouter=False)\u001b[0m\u001b[0;34m\u001b[0m\u001b[0;34m\u001b[0m\u001b[0;34m\u001b[0m\u001b[0m\n\u001b[1;32m      4\u001b[0m \u001b[0mprint\u001b[0m\u001b[0;34m(\u001b[0m\u001b[0mlt\u001b[0m\u001b[0;34m.\u001b[0m\u001b[0mexecute\u001b[0m\u001b[0;34m(\u001b[0m\u001b[0minner_tab\u001b[0m\u001b[0;34m)\u001b[0m\u001b[0;34m)\u001b[0m\u001b[0;34m\u001b[0m\u001b[0;34m\u001b[0m\u001b[0m\n",
      "\u001b[0;32m~/code/doctable/doctable/doctable.py\u001b[0m in \u001b[0;36m__getitem__\u001b[0;34m(self, colname)\u001b[0m\n\u001b[1;32m    257\u001b[0m     \u001b[0;32mdef\u001b[0m \u001b[0m__getitem__\u001b[0m\u001b[0;34m(\u001b[0m\u001b[0mself\u001b[0m\u001b[0;34m,\u001b[0m \u001b[0mcolname\u001b[0m\u001b[0;34m)\u001b[0m\u001b[0;34m:\u001b[0m\u001b[0;34m\u001b[0m\u001b[0;34m\u001b[0m\u001b[0m\n\u001b[1;32m    258\u001b[0m         \u001b[0;34m'''Accesses a column object by calling .col().'''\u001b[0m\u001b[0;34m\u001b[0m\u001b[0;34m\u001b[0m\u001b[0m\n\u001b[0;32m--> 259\u001b[0;31m         \u001b[0;32mreturn\u001b[0m \u001b[0mself\u001b[0m\u001b[0;34m.\u001b[0m\u001b[0mcol\u001b[0m\u001b[0;34m(\u001b[0m\u001b[0mcolname\u001b[0m\u001b[0;34m)\u001b[0m\u001b[0;34m\u001b[0m\u001b[0;34m\u001b[0m\u001b[0m\n\u001b[0m\u001b[1;32m    260\u001b[0m \u001b[0;34m\u001b[0m\u001b[0m\n\u001b[1;32m    261\u001b[0m     \u001b[0;32mdef\u001b[0m \u001b[0mcol\u001b[0m\u001b[0;34m(\u001b[0m\u001b[0mself\u001b[0m\u001b[0;34m,\u001b[0m\u001b[0mname\u001b[0m\u001b[0;34m)\u001b[0m\u001b[0;34m:\u001b[0m\u001b[0;34m\u001b[0m\u001b[0;34m\u001b[0m\u001b[0m\n",
      "\u001b[0;32m~/code/doctable/doctable/doctable.py\u001b[0m in \u001b[0;36mcol\u001b[0;34m(self, name)\u001b[0m\n\u001b[1;32m    267\u001b[0m         \u001b[0;32mif\u001b[0m \u001b[0misinstance\u001b[0m\u001b[0;34m(\u001b[0m\u001b[0mname\u001b[0m\u001b[0;34m,\u001b[0m \u001b[0msqlalchemy\u001b[0m\u001b[0;34m.\u001b[0m\u001b[0mColumn\u001b[0m\u001b[0;34m)\u001b[0m\u001b[0;34m:\u001b[0m\u001b[0;34m\u001b[0m\u001b[0;34m\u001b[0m\u001b[0m\n\u001b[1;32m    268\u001b[0m             \u001b[0;32mreturn\u001b[0m \u001b[0mname\u001b[0m\u001b[0;34m\u001b[0m\u001b[0;34m\u001b[0m\u001b[0m\n\u001b[0;32m--> 269\u001b[0;31m         \u001b[0;32mreturn\u001b[0m \u001b[0mself\u001b[0m\u001b[0;34m.\u001b[0m\u001b[0m_table\u001b[0m\u001b[0;34m.\u001b[0m\u001b[0mc\u001b[0m\u001b[0;34m[\u001b[0m\u001b[0mname\u001b[0m\u001b[0;34m]\u001b[0m\u001b[0;34m\u001b[0m\u001b[0;34m\u001b[0m\u001b[0m\n\u001b[0m\u001b[1;32m    270\u001b[0m \u001b[0;34m\u001b[0m\u001b[0m\n\u001b[1;32m    271\u001b[0m     \u001b[0;34m@\u001b[0m\u001b[0mproperty\u001b[0m\u001b[0;34m\u001b[0m\u001b[0;34m\u001b[0m\u001b[0m\n",
      "\u001b[0;32m~/anaconda3/lib/python3.8/site-packages/sqlalchemy/util/_collections.py\u001b[0m in \u001b[0;36m__getitem__\u001b[0;34m(self, key)\u001b[0m\n\u001b[1;32m    192\u001b[0m \u001b[0;34m\u001b[0m\u001b[0m\n\u001b[1;32m    193\u001b[0m     \u001b[0;32mdef\u001b[0m \u001b[0m__getitem__\u001b[0m\u001b[0;34m(\u001b[0m\u001b[0mself\u001b[0m\u001b[0;34m,\u001b[0m \u001b[0mkey\u001b[0m\u001b[0;34m)\u001b[0m\u001b[0;34m:\u001b[0m\u001b[0;34m\u001b[0m\u001b[0;34m\u001b[0m\u001b[0m\n\u001b[0;32m--> 194\u001b[0;31m         \u001b[0;32mreturn\u001b[0m \u001b[0mself\u001b[0m\u001b[0;34m.\u001b[0m\u001b[0m_data\u001b[0m\u001b[0;34m[\u001b[0m\u001b[0mkey\u001b[0m\u001b[0;34m]\u001b[0m\u001b[0;34m\u001b[0m\u001b[0;34m\u001b[0m\u001b[0m\n\u001b[0m\u001b[1;32m    195\u001b[0m \u001b[0;34m\u001b[0m\u001b[0m\n\u001b[1;32m    196\u001b[0m     \u001b[0;32mdef\u001b[0m \u001b[0m__delitem__\u001b[0m\u001b[0;34m(\u001b[0m\u001b[0mself\u001b[0m\u001b[0;34m,\u001b[0m \u001b[0mkey\u001b[0m\u001b[0;34m)\u001b[0m\u001b[0;34m:\u001b[0m\u001b[0;34m\u001b[0m\u001b[0;34m\u001b[0m\u001b[0m\n",
      "\u001b[0;31mKeyError\u001b[0m: ''"
     ]
    }
   ],
   "source": [
    "\n",
    "inner_tab = lt.table.select().where(bt[''])\n",
    "#bt.select(where=())\n",
    "#jt = lt.join(rt, (lt['zip']==12345) & (lt['_id']==rt['library_id']), isouter=False)\n",
    "print(lt.execute(inner_tab))"
   ]
  },
  {
   "cell_type": "code",
   "execution_count": null,
   "metadata": {},
   "outputs": [],
   "source": [
    "jt = lt.join(rt, (lt['zip']==12345) & (lt['_id']==rt['library_id']), isouter=False)\n",
    "bt.select(where=bt['isbn']==jt.c['book_library_relations_book_isbn'], as_dataclass=True)\n",
    "bt.select([bt['title'], jt.c['book_library_relations_library_id']], where=bt['isbn']==jt.c['book_library_relations_book_isbn'], as_dataclass=False)\n",
    "dir(jt.c)\n",
    "bt.select([bt['title'], jt.c['libraries_name']], where=bt['isbn']==jt.c['book_library_relations_book_isbn'], as_dataclass=False)"
   ]
  },
  {
   "cell_type": "code",
   "execution_count": null,
   "metadata": {},
   "outputs": [],
   "source": []
  },
  {
   "cell_type": "code",
   "execution_count": null,
   "metadata": {},
   "outputs": [],
   "source": [
    "# define a test dataset\n",
    "collection = (\n",
    "    ('Devin Cornell', 'green', 'The Case of Austerity'),\n",
    "    ('Devin Cornell', 'green', 'Gender Stereotypes'),\n",
    "    ('Devin Cornell', 'green', 'Colombian Politics'),\n",
    "    ('Pierre Bourdieu', 'orange', 'Distinction'),\n",
    "    ('Pierre Bourdieu', 'orange', 'Symbolic Power'),\n",
    "    ('Jean-Luc Picard', 'red', 'Enterprise Stories'),\n",
    ")"
   ]
  },
  {
   "cell_type": "code",
   "execution_count": null,
   "metadata": {},
   "outputs": [],
   "source": []
  },
  {
   "cell_type": "code",
   "execution_count": null,
   "metadata": {},
   "outputs": [],
   "source": []
  },
  {
   "cell_type": "code",
   "execution_count": null,
   "metadata": {},
   "outputs": [],
   "source": [
    "class Authors(doctable.DocTable):\n",
    "    _tabname_ = 'authors'\n",
    "    \n",
    "    @doctable.schema\n",
    "    class _schema_:\n",
    "        __slots__ = []\n",
    "        _id: int = doctable.IDCol()\n",
    "        name: str = doctable.Col(unique=True)\n",
    "        fav_color: str = doctable.Col()\n",
    "        date_updated: datetime.datetime = doctable.UpdatedCol()\n",
    "    \n",
    "    _indices_ = (\n",
    "        doctable.Index('ind_author_name', 'name'),\n",
    "    )"
   ]
  },
  {
   "cell_type": "code",
   "execution_count": null,
   "metadata": {},
   "outputs": [],
   "source": [
    "class Library(doctable.DocTable):\n",
    "    _tabname_ = 'library'\n",
    "    \n",
    "    @doctable.schema\n",
    "    class _schema_:\n",
    "        __slots__ = []\n",
    "        _id: int = doctable.IDCol()\n",
    "        name: str = doctable.Col(unique=True)\n",
    "        address: str = doctable.Col()\n",
    "        date_updated: datetime.datetime = doctable.UpdatedCol()\n",
    "            \n",
    "class LibraryMembership(doctable.DocTable):\n",
    "    _tabname_ = 'library'\n",
    "    \n",
    "    @doctable.schema\n",
    "    class _schema_:\n",
    "        __slots__ = []\n",
    "        _id: int = doctable.IDCol()\n",
    "        name: str = doctable.Col(unique=True)\n",
    "        address: str = doctable.Col()\n",
    "        date_updated: datetime.datetime = doctable.UpdatedCol()"
   ]
  },
  {
   "cell_type": "code",
   "execution_count": null,
   "metadata": {},
   "outputs": [],
   "source": []
  },
  {
   "cell_type": "code",
   "execution_count": null,
   "metadata": {},
   "outputs": [],
   "source": [
    "_constraints_ = (\n",
    "        doctable.Constraint('foreignkey', ('authname',), ('authors.name',), onupdate=\"CASCADE\", ondelete=\"CASCADE\"),\n",
    "    )"
   ]
  },
  {
   "cell_type": "code",
   "execution_count": null,
   "metadata": {},
   "outputs": [],
   "source": [
    "# see that both are registered with the engine metadata\n",
    "adb.engine.tables.keys()"
   ]
  },
  {
   "cell_type": "code",
   "execution_count": null,
   "metadata": {},
   "outputs": [],
   "source": [
    "# define a test dataset\n",
    "collection = (\n",
    "    ('Devin Cornell', 'green', 'The Case of Austerity'),\n",
    "    ('Devin Cornell', 'green', 'Gender Stereotypes'),\n",
    "    ('Devin Cornell', 'green', 'Colombian Politics'),\n",
    "    ('Pierre Bourdieu', 'orange', 'Distinction'),\n",
    "    ('Pierre Bourdieu', 'orange', 'Symbolic Power'),\n",
    "    ('Jean-Luc Picard', 'red', 'Enterprise Stories'),\n",
    ")"
   ]
  },
  {
   "cell_type": "code",
   "execution_count": null,
   "metadata": {},
   "outputs": [],
   "source": [
    "for auth, color, title in collection:\n",
    "    adb.insert({'name':auth, 'fav_color': color}, ifnotunique='ignore')\n",
    "    bdb.insert({'authname':auth, 'title': title}, ifnotunique='ignore')\n",
    "adb.count(), bdb.count()"
   ]
  },
  {
   "cell_type": "code",
   "execution_count": null,
   "metadata": {},
   "outputs": [],
   "source": [
    "adb.head()"
   ]
  },
  {
   "cell_type": "code",
   "execution_count": null,
   "metadata": {},
   "outputs": [],
   "source": [
    "bdb.head(10)"
   ]
  },
  {
   "cell_type": "markdown",
   "metadata": {},
   "source": [
    "## Joint Select Statements\n",
    "You can perform joins by using select queries with column objects from different tables."
   ]
  },
  {
   "cell_type": "code",
   "execution_count": null,
   "metadata": {},
   "outputs": [],
   "source": [
    "# this is a left join\n",
    "bdb.select(['title', adb['name'], adb['fav_color']], where=bdb['authname']==adb['name'], as_dataclass=False)"
   ]
  },
  {
   "cell_type": "code",
   "execution_count": null,
   "metadata": {},
   "outputs": [],
   "source": [
    "# with tables reversed, still returns same output\n",
    "adb.select(['name', bdb['title']], where=adb['name']==bdb['authname'], as_dataclass=False)"
   ]
  },
  {
   "cell_type": "markdown",
   "metadata": {},
   "source": [
    "## Cascade deletion\n",
    "See now that by deleting the author \"Devin Cornell\", we also removed the corresponding rows in the book table."
   ]
  },
  {
   "cell_type": "code",
   "execution_count": null,
   "metadata": {},
   "outputs": [],
   "source": [
    "adb.delete(where=adb['name']=='Devin Cornell')"
   ]
  },
  {
   "cell_type": "code",
   "execution_count": null,
   "metadata": {},
   "outputs": [],
   "source": [
    "adb.head()"
   ]
  },
  {
   "cell_type": "code",
   "execution_count": null,
   "metadata": {},
   "outputs": [],
   "source": [
    "bdb.head(10)"
   ]
  }
 ],
 "metadata": {
  "kernelspec": {
   "display_name": "Python 3.8.5 ('base')",
   "language": "python",
   "name": "python3"
  },
  "language_info": {
   "codemirror_mode": {
    "name": "ipython",
    "version": 3
   },
   "file_extension": ".py",
   "mimetype": "text/x-python",
   "name": "python",
   "nbconvert_exporter": "python",
   "pygments_lexer": "ipython3",
   "version": "3.8.5"
  },
  "vscode": {
   "interpreter": {
    "hash": "6655beaf7f57a241ed2fe3a58b558d568db09842d57c904b8c0db510272f5c22"
   }
  }
 },
 "nbformat": 4,
 "nbformat_minor": 4
}
