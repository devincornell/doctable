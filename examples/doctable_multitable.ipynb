{
 "cells": [
  {
   "cell_type": "markdown",
   "source": [
    "# Example: Multiple Tables\n",
    "In this example, I show how doctable can be used with multiple inter-related tables to perform queries which automatically merge different aspects of your dataset when you use `.select()`. By integrating these relations into the schema, your database can automatically maintain consistency between tables by deleting irrelevant elements when their relations disappear. There are two important features of any multi-table schema using doctable:\n",
    "\n",
    "(1) Set the foreign_keys=True in the original doctable or ConnectEngine constructor. Otherwise sqlalchemy will not enable.\n",
    "\n",
    "(2) Use the \"foreignkey\" column type to set the constraint, probably with the onupdate and ondelete keywords specifiied.\n",
    "\n",
    "In this example I'll create interrelated tables for authors and their books."
   ],
   "metadata": {}
  },
  {
   "cell_type": "code",
   "execution_count": 1,
   "source": [
    "import datetime\n",
    "\n",
    "import sys\n",
    "sys.path.append('..')\n",
    "import doctable"
   ],
   "outputs": [],
   "metadata": {}
  },
  {
   "cell_type": "code",
   "execution_count": 2,
   "source": [
    "@doctable.schema\n",
    "class Author:\n",
    "    __slots__ = []\n",
    "    id: int = doctable.IDCol()\n",
    "    name: str = doctable.Col(unique=True)\n",
    "    fav_color: str = doctable.Col()\n",
    "    date_updated: datetime.datetime = doctable.UpdatedCol()\n",
    "\n",
    "\n",
    "class Authors(doctable.DocTable):\n",
    "    _tabname_ = 'authors'\n",
    "    _schema_ = Author\n",
    "\n",
    "adb = Authors(target=':memory:', foreign_keys=True)\n",
    "#adb.execute('pragma foreign_keys=ON')\n",
    "adb"
   ],
   "outputs": [
    {
     "output_type": "execute_result",
     "data": {
      "text/plain": [
       "<__main__.Authors at 0x7f7a3999fe20>"
      ]
     },
     "metadata": {},
     "execution_count": 2
    }
   ],
   "metadata": {}
  },
  {
   "cell_type": "code",
   "execution_count": 3,
   "source": [
    "@doctable.schema\n",
    "class Book:\n",
    "    __slots__ = []\n",
    "    id: int = doctable.IDCol()\n",
    "    title: str = doctable.Col(unique=True)\n",
    "    authname: str = doctable.Col()\n",
    "    date_updated: datetime.datetime = doctable.UpdatedCol()\n",
    "\n",
    "class Books(doctable.DocTable):\n",
    "    _tabname_ = 'books'\n",
    "    _schema_ = Book\n",
    "\n",
    "    _constraints_ = (\n",
    "        doctable.Constraint('foreignkey', ('authname',), ('authors.name',), onupdate=\"CASCADE\", ondelete=\"CASCADE\"),\n",
    "    )\n",
    "    _indices_ = (\n",
    "        doctable.Index('ind_authtitle', 'title', 'authname', unique=True),\n",
    "    )\n",
    "\n",
    "bdb = Books(engine=adb.engine)\n",
    "bdb"
   ],
   "outputs": [
    {
     "output_type": "execute_result",
     "data": {
      "text/plain": [
       "<__main__.Books at 0x7f7a39912df0>"
      ]
     },
     "metadata": {},
     "execution_count": 3
    }
   ],
   "metadata": {}
  },
  {
   "cell_type": "code",
   "execution_count": 4,
   "source": [
    "# see that both are registered with the engine metadata\n",
    "adb.engine.tables.keys()"
   ],
   "outputs": [
    {
     "output_type": "execute_result",
     "data": {
      "text/plain": [
       "dict_keys(['authors', 'books'])"
      ]
     },
     "metadata": {},
     "execution_count": 4
    }
   ],
   "metadata": {}
  },
  {
   "cell_type": "code",
   "execution_count": 5,
   "source": [
    "# define a test dataset\n",
    "collection = (\n",
    "    ('Devin Cornell', 'green', 'The Case of Austerity'),\n",
    "    ('Devin Cornell', 'green', 'Gender Stereotypes'),\n",
    "    ('Devin Cornell', 'green', 'Colombian Politics'),\n",
    "    ('Pierre Bourdieu', 'orange', 'Distinction'),\n",
    "    ('Pierre Bourdieu', 'orange', 'Symbolic Power'),\n",
    "    ('Jean-Luc Picard', 'red', 'Enterprise Stories'),\n",
    ")"
   ],
   "outputs": [],
   "metadata": {}
  },
  {
   "cell_type": "code",
   "execution_count": 6,
   "source": [
    "for auth, color, title in collection:\n",
    "    adb.insert({'name':auth, 'fav_color': color}, ifnotunique='ignore')\n",
    "    bdb.insert({'authname':auth, 'title': title}, ifnotunique='ignore')\n",
    "adb.count(), bdb.count()"
   ],
   "outputs": [
    {
     "output_type": "execute_result",
     "data": {
      "text/plain": [
       "(3, 6)"
      ]
     },
     "metadata": {},
     "execution_count": 6
    }
   ],
   "metadata": {}
  },
  {
   "cell_type": "code",
   "execution_count": 7,
   "source": [
    "adb.head()"
   ],
   "outputs": [
    {
     "output_type": "execute_result",
     "data": {
      "text/plain": [
       "   id             name fav_color               date_updated\n",
       "0   1    Devin Cornell     green 2021-09-01 13:40:22.868675\n",
       "1   2  Pierre Bourdieu    orange 2021-09-01 13:40:22.871401\n",
       "2   3  Jean-Luc Picard       red 2021-09-01 13:40:22.873444"
      ],
      "text/html": [
       "<div>\n",
       "<style scoped>\n",
       "    .dataframe tbody tr th:only-of-type {\n",
       "        vertical-align: middle;\n",
       "    }\n",
       "\n",
       "    .dataframe tbody tr th {\n",
       "        vertical-align: top;\n",
       "    }\n",
       "\n",
       "    .dataframe thead th {\n",
       "        text-align: right;\n",
       "    }\n",
       "</style>\n",
       "<table border=\"1\" class=\"dataframe\">\n",
       "  <thead>\n",
       "    <tr style=\"text-align: right;\">\n",
       "      <th></th>\n",
       "      <th>id</th>\n",
       "      <th>name</th>\n",
       "      <th>fav_color</th>\n",
       "      <th>date_updated</th>\n",
       "    </tr>\n",
       "  </thead>\n",
       "  <tbody>\n",
       "    <tr>\n",
       "      <th>0</th>\n",
       "      <td>1</td>\n",
       "      <td>Devin Cornell</td>\n",
       "      <td>green</td>\n",
       "      <td>2021-09-01 13:40:22.868675</td>\n",
       "    </tr>\n",
       "    <tr>\n",
       "      <th>1</th>\n",
       "      <td>2</td>\n",
       "      <td>Pierre Bourdieu</td>\n",
       "      <td>orange</td>\n",
       "      <td>2021-09-01 13:40:22.871401</td>\n",
       "    </tr>\n",
       "    <tr>\n",
       "      <th>2</th>\n",
       "      <td>3</td>\n",
       "      <td>Jean-Luc Picard</td>\n",
       "      <td>red</td>\n",
       "      <td>2021-09-01 13:40:22.873444</td>\n",
       "    </tr>\n",
       "  </tbody>\n",
       "</table>\n",
       "</div>"
      ]
     },
     "metadata": {},
     "execution_count": 7
    }
   ],
   "metadata": {}
  },
  {
   "cell_type": "code",
   "execution_count": 8,
   "source": [
    "bdb.head(10)"
   ],
   "outputs": [
    {
     "output_type": "execute_result",
     "data": {
      "text/plain": [
       "   id                  title         authname               date_updated\n",
       "0   1  The Case of Austerity    Devin Cornell 2021-09-01 13:40:22.869716\n",
       "1   2     Gender Stereotypes    Devin Cornell 2021-09-01 13:40:22.870460\n",
       "2   3     Colombian Politics    Devin Cornell 2021-09-01 13:40:22.871065\n",
       "3   4            Distinction  Pierre Bourdieu 2021-09-01 13:40:22.871958\n",
       "4   5         Symbolic Power  Pierre Bourdieu 2021-09-01 13:40:22.872896\n",
       "5   6     Enterprise Stories  Jean-Luc Picard 2021-09-01 13:40:22.873984"
      ],
      "text/html": [
       "<div>\n",
       "<style scoped>\n",
       "    .dataframe tbody tr th:only-of-type {\n",
       "        vertical-align: middle;\n",
       "    }\n",
       "\n",
       "    .dataframe tbody tr th {\n",
       "        vertical-align: top;\n",
       "    }\n",
       "\n",
       "    .dataframe thead th {\n",
       "        text-align: right;\n",
       "    }\n",
       "</style>\n",
       "<table border=\"1\" class=\"dataframe\">\n",
       "  <thead>\n",
       "    <tr style=\"text-align: right;\">\n",
       "      <th></th>\n",
       "      <th>id</th>\n",
       "      <th>title</th>\n",
       "      <th>authname</th>\n",
       "      <th>date_updated</th>\n",
       "    </tr>\n",
       "  </thead>\n",
       "  <tbody>\n",
       "    <tr>\n",
       "      <th>0</th>\n",
       "      <td>1</td>\n",
       "      <td>The Case of Austerity</td>\n",
       "      <td>Devin Cornell</td>\n",
       "      <td>2021-09-01 13:40:22.869716</td>\n",
       "    </tr>\n",
       "    <tr>\n",
       "      <th>1</th>\n",
       "      <td>2</td>\n",
       "      <td>Gender Stereotypes</td>\n",
       "      <td>Devin Cornell</td>\n",
       "      <td>2021-09-01 13:40:22.870460</td>\n",
       "    </tr>\n",
       "    <tr>\n",
       "      <th>2</th>\n",
       "      <td>3</td>\n",
       "      <td>Colombian Politics</td>\n",
       "      <td>Devin Cornell</td>\n",
       "      <td>2021-09-01 13:40:22.871065</td>\n",
       "    </tr>\n",
       "    <tr>\n",
       "      <th>3</th>\n",
       "      <td>4</td>\n",
       "      <td>Distinction</td>\n",
       "      <td>Pierre Bourdieu</td>\n",
       "      <td>2021-09-01 13:40:22.871958</td>\n",
       "    </tr>\n",
       "    <tr>\n",
       "      <th>4</th>\n",
       "      <td>5</td>\n",
       "      <td>Symbolic Power</td>\n",
       "      <td>Pierre Bourdieu</td>\n",
       "      <td>2021-09-01 13:40:22.872896</td>\n",
       "    </tr>\n",
       "    <tr>\n",
       "      <th>5</th>\n",
       "      <td>6</td>\n",
       "      <td>Enterprise Stories</td>\n",
       "      <td>Jean-Luc Picard</td>\n",
       "      <td>2021-09-01 13:40:22.873984</td>\n",
       "    </tr>\n",
       "  </tbody>\n",
       "</table>\n",
       "</div>"
      ]
     },
     "metadata": {},
     "execution_count": 8
    }
   ],
   "metadata": {}
  },
  {
   "cell_type": "markdown",
   "source": [
    "## Joint Select Statements\n",
    "You can perform joins by using select queries with column objects from different tables."
   ],
   "metadata": {}
  },
  {
   "cell_type": "code",
   "execution_count": 9,
   "source": [
    "# this is a left join\n",
    "bdb.select(['title', adb['name'], adb['fav_color']], where=bdb['authname']==adb['name'], as_dataclass=False)"
   ],
   "outputs": [
    {
     "output_type": "execute_result",
     "data": {
      "text/plain": [
       "[('Colombian Politics', 'Devin Cornell', 'green'),\n",
       " ('Distinction', 'Pierre Bourdieu', 'orange'),\n",
       " ('Enterprise Stories', 'Jean-Luc Picard', 'red'),\n",
       " ('Gender Stereotypes', 'Devin Cornell', 'green'),\n",
       " ('Symbolic Power', 'Pierre Bourdieu', 'orange'),\n",
       " ('The Case of Austerity', 'Devin Cornell', 'green')]"
      ]
     },
     "metadata": {},
     "execution_count": 9
    }
   ],
   "metadata": {}
  },
  {
   "cell_type": "code",
   "execution_count": 10,
   "source": [
    "# with tables reversed, still returns same output\n",
    "adb.select(['name', bdb['title']], where=adb['name']==bdb['authname'], as_dataclass=False)"
   ],
   "outputs": [
    {
     "output_type": "execute_result",
     "data": {
      "text/plain": [
       "[('Devin Cornell', 'Colombian Politics'),\n",
       " ('Pierre Bourdieu', 'Distinction'),\n",
       " ('Jean-Luc Picard', 'Enterprise Stories'),\n",
       " ('Devin Cornell', 'Gender Stereotypes'),\n",
       " ('Pierre Bourdieu', 'Symbolic Power'),\n",
       " ('Devin Cornell', 'The Case of Austerity')]"
      ]
     },
     "metadata": {},
     "execution_count": 10
    }
   ],
   "metadata": {}
  },
  {
   "cell_type": "markdown",
   "source": [
    "## Cascade deletion\n",
    "See now that by deleting the author \"Devin Cornell\", we also removed the corresponding rows in the book table."
   ],
   "metadata": {}
  },
  {
   "cell_type": "code",
   "execution_count": 11,
   "source": [
    "adb.delete(where=adb['name']=='Devin Cornell')"
   ],
   "outputs": [
    {
     "output_type": "execute_result",
     "data": {
      "text/plain": [
       "<sqlalchemy.engine.result.ResultProxy at 0x7f7a55f20100>"
      ]
     },
     "metadata": {},
     "execution_count": 11
    }
   ],
   "metadata": {}
  },
  {
   "cell_type": "code",
   "execution_count": 12,
   "source": [
    "adb.head()"
   ],
   "outputs": [
    {
     "output_type": "execute_result",
     "data": {
      "text/plain": [
       "   id             name fav_color               date_updated\n",
       "0   2  Pierre Bourdieu    orange 2021-09-01 13:40:22.871401\n",
       "1   3  Jean-Luc Picard       red 2021-09-01 13:40:22.873444"
      ],
      "text/html": [
       "<div>\n",
       "<style scoped>\n",
       "    .dataframe tbody tr th:only-of-type {\n",
       "        vertical-align: middle;\n",
       "    }\n",
       "\n",
       "    .dataframe tbody tr th {\n",
       "        vertical-align: top;\n",
       "    }\n",
       "\n",
       "    .dataframe thead th {\n",
       "        text-align: right;\n",
       "    }\n",
       "</style>\n",
       "<table border=\"1\" class=\"dataframe\">\n",
       "  <thead>\n",
       "    <tr style=\"text-align: right;\">\n",
       "      <th></th>\n",
       "      <th>id</th>\n",
       "      <th>name</th>\n",
       "      <th>fav_color</th>\n",
       "      <th>date_updated</th>\n",
       "    </tr>\n",
       "  </thead>\n",
       "  <tbody>\n",
       "    <tr>\n",
       "      <th>0</th>\n",
       "      <td>2</td>\n",
       "      <td>Pierre Bourdieu</td>\n",
       "      <td>orange</td>\n",
       "      <td>2021-09-01 13:40:22.871401</td>\n",
       "    </tr>\n",
       "    <tr>\n",
       "      <th>1</th>\n",
       "      <td>3</td>\n",
       "      <td>Jean-Luc Picard</td>\n",
       "      <td>red</td>\n",
       "      <td>2021-09-01 13:40:22.873444</td>\n",
       "    </tr>\n",
       "  </tbody>\n",
       "</table>\n",
       "</div>"
      ]
     },
     "metadata": {},
     "execution_count": 12
    }
   ],
   "metadata": {}
  },
  {
   "cell_type": "code",
   "execution_count": 13,
   "source": [
    "bdb.head(10)"
   ],
   "outputs": [
    {
     "output_type": "execute_result",
     "data": {
      "text/plain": [
       "   id               title         authname               date_updated\n",
       "0   4         Distinction  Pierre Bourdieu 2021-09-01 13:40:22.871958\n",
       "1   5      Symbolic Power  Pierre Bourdieu 2021-09-01 13:40:22.872896\n",
       "2   6  Enterprise Stories  Jean-Luc Picard 2021-09-01 13:40:22.873984"
      ],
      "text/html": [
       "<div>\n",
       "<style scoped>\n",
       "    .dataframe tbody tr th:only-of-type {\n",
       "        vertical-align: middle;\n",
       "    }\n",
       "\n",
       "    .dataframe tbody tr th {\n",
       "        vertical-align: top;\n",
       "    }\n",
       "\n",
       "    .dataframe thead th {\n",
       "        text-align: right;\n",
       "    }\n",
       "</style>\n",
       "<table border=\"1\" class=\"dataframe\">\n",
       "  <thead>\n",
       "    <tr style=\"text-align: right;\">\n",
       "      <th></th>\n",
       "      <th>id</th>\n",
       "      <th>title</th>\n",
       "      <th>authname</th>\n",
       "      <th>date_updated</th>\n",
       "    </tr>\n",
       "  </thead>\n",
       "  <tbody>\n",
       "    <tr>\n",
       "      <th>0</th>\n",
       "      <td>4</td>\n",
       "      <td>Distinction</td>\n",
       "      <td>Pierre Bourdieu</td>\n",
       "      <td>2021-09-01 13:40:22.871958</td>\n",
       "    </tr>\n",
       "    <tr>\n",
       "      <th>1</th>\n",
       "      <td>5</td>\n",
       "      <td>Symbolic Power</td>\n",
       "      <td>Pierre Bourdieu</td>\n",
       "      <td>2021-09-01 13:40:22.872896</td>\n",
       "    </tr>\n",
       "    <tr>\n",
       "      <th>2</th>\n",
       "      <td>6</td>\n",
       "      <td>Enterprise Stories</td>\n",
       "      <td>Jean-Luc Picard</td>\n",
       "      <td>2021-09-01 13:40:22.873984</td>\n",
       "    </tr>\n",
       "  </tbody>\n",
       "</table>\n",
       "</div>"
      ]
     },
     "metadata": {},
     "execution_count": 13
    }
   ],
   "metadata": {}
  }
 ],
 "metadata": {
  "kernelspec": {
   "name": "python3",
   "display_name": "Python 3.8.5 64-bit ('base': conda)"
  },
  "language_info": {
   "codemirror_mode": {
    "name": "ipython",
    "version": 3
   },
   "file_extension": ".py",
   "mimetype": "text/x-python",
   "name": "python",
   "nbconvert_exporter": "python",
   "pygments_lexer": "ipython3",
   "version": "3.8.5"
  },
  "interpreter": {
   "hash": "80712910726593b564a07c7ac6087ce3072c1b43af7fa58c28aea85a2c346dd3"
  }
 },
 "nbformat": 4,
 "nbformat_minor": 4
}