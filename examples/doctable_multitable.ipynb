{
 "cells": [
  {
   "cell_type": "markdown",
   "metadata": {},
   "source": [
    "# Example: Multiple Tables\n",
    "In this example, I show how doctable can be used with multiple relational tables to perform queries which automatically merge different aspects of your dataset when you use `.select()`. By integrating these relations into the schema, your database can automatically maintain consistency between tables by deleting irrelevant elements when their relations disappear. There are two important features of any multi-table schema using doctable:\n",
    "\n",
    "(1) Set the foreign_keys=True in the DocTable or ConnectEngine constructor. It is enabled by default. Otherwise sqlalchemy will not enable.\n",
    "\n",
    "(2) Use the \"foreignkey\" column type to set the constraint, probably with the onupdate and ondelete keywords specifiied.\n",
    "\n",
    "I will show two examples here: many-to-many relations, and many-to-one relations.\n"
   ]
  },
  {
   "cell_type": "code",
   "execution_count": 1,
   "metadata": {},
   "outputs": [],
   "source": [
    "import datetime\n",
    "import dataclasses\n",
    "import tempfile\n",
    "import sys\n",
    "sys.path.append('..')\n",
    "import doctable\n",
    "tmp = tempfile.TemporaryDirectory()"
   ]
  },
  {
   "cell_type": "markdown",
   "metadata": {},
   "source": [
    "## Many-to-Many Relationships\n",
    "\n",
    "The premise is that we have an imaginary API where we can get newly released books along with the libraries they are associted with (although they man, in some cases, not have library information). We want to keep track of the set of books with unique titles, and have book information exist on its own (i.e. we can insert book information if it does not have library information). We would also like to keep track of the libraries they belong to. We need this schema to be fast for selection, but it can be slow for insertion.\n",
    "\n",
    "Primary accesses methods:\n",
    "\n",
    "+ insert a book\n",
    "+ query books by year of publication\n",
    "+ insert a single library and associated books\n",
    "+ query books associated with libraries in certain zips\n",
    "\n",
    "In this example, we are going to use two tables with a many-to-many relationships and a table to handle relationships between them (required for a many-to-many relationship):\n",
    "    \n",
    "+ *`BookTable`*: keeps title and publication year of each book. Should exist independently of LibraryTable, because we may not want to use LibraryTable at all.\n",
    "+ *`LibraryTable`*: keeps name of library, makes it easy to query by Library.\n",
    "+ *`BookLibraryRelationsTable`*: keeps track of relationships between BookTable and LibraryTable.\n",
    "\n",
    "First we define the `BookTable` table. Because we are primarily interested in books, we will create a separate `Book` object for working with them."
   ]
  },
  {
   "cell_type": "code",
   "execution_count": 2,
   "metadata": {},
   "outputs": [],
   "source": [
    "@doctable.schema(frozen=True, eq=True)\n",
    "class Book:\n",
    "    __slots__ = []\n",
    "    _id: int = doctable.IDCol()\n",
    "    isbn: str = doctable.Col(unique=True)\n",
    "    title: str = doctable.Col()\n",
    "    year: int = doctable.Col()\n",
    "    author: str = doctable.Col()\n",
    "    date_updated: datetime.datetime = doctable.UpdatedCol()\n",
    "\n",
    "class BookTable(doctable.DocTable):\n",
    "    _tabname_ = 'books'\n",
    "    _schema_ = Book\n",
    "    _indices_ = [doctable.Index('isbn_index', 'isbn')]\n",
    "    \n",
    "book_table = BookTable(target=f'{tmp.name}/1.db', new_db=True)"
   ]
  },
  {
   "cell_type": "markdown",
   "metadata": {},
   "source": [
    "We are not planning to work with author data outside of the schema definition, so we include it as part of the table definition."
   ]
  },
  {
   "cell_type": "code",
   "execution_count": 3,
   "metadata": {},
   "outputs": [],
   "source": [
    "@doctable.schema(frozen=True, eq=True)\n",
    "class Library:\n",
    "    __slots__ = []\n",
    "    _id: int = doctable.IDCol()\n",
    "    name: str = doctable.Col()\n",
    "    zip: int = doctable.Col()\n",
    "\n",
    "class LibraryTable(doctable.DocTable):\n",
    "    _tabname_ = 'libraries'\n",
    "    _schema_ = Library    \n",
    "    _constraints_ = [doctable.Constraint('unique', 'name', 'zip')]\n",
    "    \n",
    "\n",
    "library_table = LibraryTable(engine=book_table.engine)"
   ]
  },
  {
   "cell_type": "code",
   "execution_count": 4,
   "metadata": {},
   "outputs": [
    {
     "data": {
      "text/plain": [
       "['book_library_relations', 'books', 'libraries']"
      ]
     },
     "execution_count": 4,
     "metadata": {},
     "output_type": "execute_result"
    }
   ],
   "source": [
    "class BookLibraryRelationsTable(doctable.DocTable):\n",
    "    '''Link between books and libraries.'''\n",
    "    _tabname_ = 'book_library_relations'\n",
    "    \n",
    "    @doctable.schema\n",
    "    class _schema_:\n",
    "        __slots__ = []\n",
    "        _id: int = doctable.IDCol()\n",
    "        book_isbn: int = doctable.Col(nullable=False)\n",
    "        library_id: int = doctable.Col(nullable=False)\n",
    "    \n",
    "    _constraints_ = (\n",
    "        doctable.Constraint('foreignkey', ('book_isbn',), ('books.isbn',)),\n",
    "        doctable.Constraint('foreignkey', ('library_id',), ('libraries._id',)),\n",
    "        doctable.Constraint('unique', 'book_isbn', 'library_id'),\n",
    "    )\n",
    "\n",
    "relations_table = BookLibraryRelationsTable(engine=book_table.engine)\n",
    "relations_table.list_tables()"
   ]
  },
  {
   "cell_type": "markdown",
   "metadata": {},
   "source": [
    "Now we create some random books that are not at libraries and add them into our database."
   ]
  },
  {
   "cell_type": "code",
   "execution_count": 5,
   "metadata": {},
   "outputs": [
    {
     "name": "stdout",
     "output_type": "stream",
     "text": [
      "Book(isbn='A', title='A', year=2020, author='Pierre Bourdieu')\n",
      "Book(isbn='E', title='E', year=2018, author='Jean-Luc Picard')\n"
     ]
    }
   ],
   "source": [
    "newly_published_books = [\n",
    "    Book(isbn='A', title='A', year=2020, author='Pierre Bourdieu'),\n",
    "    Book(isbn='E', title='E', year=2018, author='Jean-Luc Picard'),\n",
    "]\n",
    "\n",
    "for book in newly_published_books:\n",
    "    print(book)"
   ]
  },
  {
   "cell_type": "markdown",
   "metadata": {},
   "source": [
    "Now we insert the list of books that were published. It works as expected."
   ]
  },
  {
   "cell_type": "code",
   "execution_count": 6,
   "metadata": {},
   "outputs": [
    {
     "data": {
      "text/html": [
       "<div>\n",
       "<style scoped>\n",
       "    .dataframe tbody tr th:only-of-type {\n",
       "        vertical-align: middle;\n",
       "    }\n",
       "\n",
       "    .dataframe tbody tr th {\n",
       "        vertical-align: top;\n",
       "    }\n",
       "\n",
       "    .dataframe thead th {\n",
       "        text-align: right;\n",
       "    }\n",
       "</style>\n",
       "<table border=\"1\" class=\"dataframe\">\n",
       "  <thead>\n",
       "    <tr style=\"text-align: right;\">\n",
       "      <th></th>\n",
       "      <th>_id</th>\n",
       "      <th>isbn</th>\n",
       "      <th>title</th>\n",
       "      <th>year</th>\n",
       "      <th>author</th>\n",
       "      <th>date_updated</th>\n",
       "    </tr>\n",
       "  </thead>\n",
       "  <tbody>\n",
       "    <tr>\n",
       "      <th>0</th>\n",
       "      <td>1</td>\n",
       "      <td>A</td>\n",
       "      <td>A</td>\n",
       "      <td>2020</td>\n",
       "      <td>Pierre Bourdieu</td>\n",
       "      <td>2022-07-26 21:30:30.364805</td>\n",
       "    </tr>\n",
       "    <tr>\n",
       "      <th>1</th>\n",
       "      <td>2</td>\n",
       "      <td>E</td>\n",
       "      <td>E</td>\n",
       "      <td>2018</td>\n",
       "      <td>Jean-Luc Picard</td>\n",
       "      <td>2022-07-26 21:30:30.364812</td>\n",
       "    </tr>\n",
       "  </tbody>\n",
       "</table>\n",
       "</div>"
      ],
      "text/plain": [
       "   _id isbn title  year           author               date_updated\n",
       "0    1    A     A  2020  Pierre Bourdieu 2022-07-26 21:30:30.364805\n",
       "1    2    E     E  2018  Jean-Luc Picard 2022-07-26 21:30:30.364812"
      ]
     },
     "execution_count": 6,
     "metadata": {},
     "output_type": "execute_result"
    }
   ],
   "source": [
    "book_table.insert(newly_published_books, ifnotunique='replace')\n",
    "book_table.head()"
   ]
  },
  {
   "cell_type": "markdown",
   "metadata": {},
   "source": [
    "And now lets add a bunch of books that are associated with library objects."
   ]
  },
  {
   "cell_type": "code",
   "execution_count": 7,
   "metadata": {},
   "outputs": [],
   "source": [
    "new_library_books = {\n",
    "    Library(name='Library1', zip=12345): [\n",
    "        Book(isbn='A', title='A', year=2020, author='Pierre Bourdieu'),\n",
    "        Book(isbn='B', title='B', year=2020, author='Pierre Bourdieu'),\n",
    "    ],\n",
    "    Library(name='Library2', zip=12345): [\n",
    "        Book(isbn='A', title='A', year=2020, author='Devin Cornell'),\n",
    "        Book(isbn='C', title='C', year=2021, author='Jean-Luc Picard'),\n",
    "    ],\n",
    "    Library(name='Library3', zip=67890): [\n",
    "        Book(isbn='A', title='A', year=2020, author='Pierre Bourdieu'),\n",
    "        Book(isbn='B', title='B', year=2020, author='Jean-Luc Picard'),\n",
    "        Book(isbn='D', title='D', year=2019, author='Devin Cornell'),\n",
    "    ],\n",
    "}\n",
    "\n",
    "for library, books in new_library_books.items():\n",
    "    r = library_table.insert(library, ifnotunique='ignore')\n",
    "    book_table.insert(books, ifnotunique='replace')\n",
    "    relations_table.insert([{'book_isbn':b.isbn, 'library_id': r.lastrowid} for b in books], ifnotunique='ignore')"
   ]
  },
  {
   "cell_type": "code",
   "execution_count": 8,
   "metadata": {},
   "outputs": [
    {
     "data": {
      "text/html": [
       "<div>\n",
       "<style scoped>\n",
       "    .dataframe tbody tr th:only-of-type {\n",
       "        vertical-align: middle;\n",
       "    }\n",
       "\n",
       "    .dataframe tbody tr th {\n",
       "        vertical-align: top;\n",
       "    }\n",
       "\n",
       "    .dataframe thead th {\n",
       "        text-align: right;\n",
       "    }\n",
       "</style>\n",
       "<table border=\"1\" class=\"dataframe\">\n",
       "  <thead>\n",
       "    <tr style=\"text-align: right;\">\n",
       "      <th></th>\n",
       "      <th>_id</th>\n",
       "      <th>isbn</th>\n",
       "      <th>title</th>\n",
       "      <th>year</th>\n",
       "      <th>author</th>\n",
       "      <th>date_updated</th>\n",
       "    </tr>\n",
       "  </thead>\n",
       "  <tbody>\n",
       "    <tr>\n",
       "      <th>0</th>\n",
       "      <td>2</td>\n",
       "      <td>E</td>\n",
       "      <td>E</td>\n",
       "      <td>2018</td>\n",
       "      <td>Jean-Luc Picard</td>\n",
       "      <td>2022-07-26 21:30:30.364812</td>\n",
       "    </tr>\n",
       "    <tr>\n",
       "      <th>1</th>\n",
       "      <td>6</td>\n",
       "      <td>C</td>\n",
       "      <td>C</td>\n",
       "      <td>2021</td>\n",
       "      <td>Jean-Luc Picard</td>\n",
       "      <td>2022-07-26 21:30:30.482867</td>\n",
       "    </tr>\n",
       "    <tr>\n",
       "      <th>2</th>\n",
       "      <td>7</td>\n",
       "      <td>A</td>\n",
       "      <td>A</td>\n",
       "      <td>2020</td>\n",
       "      <td>Pierre Bourdieu</td>\n",
       "      <td>2022-07-26 21:30:30.494686</td>\n",
       "    </tr>\n",
       "    <tr>\n",
       "      <th>3</th>\n",
       "      <td>8</td>\n",
       "      <td>B</td>\n",
       "      <td>B</td>\n",
       "      <td>2020</td>\n",
       "      <td>Jean-Luc Picard</td>\n",
       "      <td>2022-07-26 21:30:30.494692</td>\n",
       "    </tr>\n",
       "    <tr>\n",
       "      <th>4</th>\n",
       "      <td>9</td>\n",
       "      <td>D</td>\n",
       "      <td>D</td>\n",
       "      <td>2019</td>\n",
       "      <td>Devin Cornell</td>\n",
       "      <td>2022-07-26 21:30:30.494694</td>\n",
       "    </tr>\n",
       "  </tbody>\n",
       "</table>\n",
       "</div>"
      ],
      "text/plain": [
       "   _id isbn title  year           author               date_updated\n",
       "0    2    E     E  2018  Jean-Luc Picard 2022-07-26 21:30:30.364812\n",
       "1    6    C     C  2021  Jean-Luc Picard 2022-07-26 21:30:30.482867\n",
       "2    7    A     A  2020  Pierre Bourdieu 2022-07-26 21:30:30.494686\n",
       "3    8    B     B  2020  Jean-Luc Picard 2022-07-26 21:30:30.494692\n",
       "4    9    D     D  2019    Devin Cornell 2022-07-26 21:30:30.494694"
      ]
     },
     "execution_count": 8,
     "metadata": {},
     "output_type": "execute_result"
    }
   ],
   "source": [
    "book_table.select_df()"
   ]
  },
  {
   "cell_type": "code",
   "execution_count": 9,
   "metadata": {},
   "outputs": [
    {
     "data": {
      "text/html": [
       "<div>\n",
       "<style scoped>\n",
       "    .dataframe tbody tr th:only-of-type {\n",
       "        vertical-align: middle;\n",
       "    }\n",
       "\n",
       "    .dataframe tbody tr th {\n",
       "        vertical-align: top;\n",
       "    }\n",
       "\n",
       "    .dataframe thead th {\n",
       "        text-align: right;\n",
       "    }\n",
       "</style>\n",
       "<table border=\"1\" class=\"dataframe\">\n",
       "  <thead>\n",
       "    <tr style=\"text-align: right;\">\n",
       "      <th></th>\n",
       "      <th>_id</th>\n",
       "      <th>name</th>\n",
       "      <th>zip</th>\n",
       "    </tr>\n",
       "  </thead>\n",
       "  <tbody>\n",
       "    <tr>\n",
       "      <th>0</th>\n",
       "      <td>1</td>\n",
       "      <td>Library1</td>\n",
       "      <td>12345</td>\n",
       "    </tr>\n",
       "    <tr>\n",
       "      <th>1</th>\n",
       "      <td>2</td>\n",
       "      <td>Library2</td>\n",
       "      <td>12345</td>\n",
       "    </tr>\n",
       "    <tr>\n",
       "      <th>2</th>\n",
       "      <td>3</td>\n",
       "      <td>Library3</td>\n",
       "      <td>67890</td>\n",
       "    </tr>\n",
       "  </tbody>\n",
       "</table>\n",
       "</div>"
      ],
      "text/plain": [
       "   _id      name    zip\n",
       "0    1  Library1  12345\n",
       "1    2  Library2  12345\n",
       "2    3  Library3  67890"
      ]
     },
     "execution_count": 9,
     "metadata": {},
     "output_type": "execute_result"
    }
   ],
   "source": [
    "library_table.select_df()"
   ]
  },
  {
   "cell_type": "code",
   "execution_count": 10,
   "metadata": {},
   "outputs": [
    {
     "data": {
      "text/html": [
       "<div>\n",
       "<style scoped>\n",
       "    .dataframe tbody tr th:only-of-type {\n",
       "        vertical-align: middle;\n",
       "    }\n",
       "\n",
       "    .dataframe tbody tr th {\n",
       "        vertical-align: top;\n",
       "    }\n",
       "\n",
       "    .dataframe thead th {\n",
       "        text-align: right;\n",
       "    }\n",
       "</style>\n",
       "<table border=\"1\" class=\"dataframe\">\n",
       "  <thead>\n",
       "    <tr style=\"text-align: right;\">\n",
       "      <th></th>\n",
       "      <th>_id</th>\n",
       "      <th>book_isbn</th>\n",
       "      <th>library_id</th>\n",
       "    </tr>\n",
       "  </thead>\n",
       "  <tbody>\n",
       "    <tr>\n",
       "      <th>0</th>\n",
       "      <td>1</td>\n",
       "      <td>A</td>\n",
       "      <td>1</td>\n",
       "    </tr>\n",
       "    <tr>\n",
       "      <th>1</th>\n",
       "      <td>2</td>\n",
       "      <td>B</td>\n",
       "      <td>1</td>\n",
       "    </tr>\n",
       "    <tr>\n",
       "      <th>2</th>\n",
       "      <td>3</td>\n",
       "      <td>A</td>\n",
       "      <td>2</td>\n",
       "    </tr>\n",
       "    <tr>\n",
       "      <th>3</th>\n",
       "      <td>4</td>\n",
       "      <td>C</td>\n",
       "      <td>2</td>\n",
       "    </tr>\n",
       "    <tr>\n",
       "      <th>4</th>\n",
       "      <td>5</td>\n",
       "      <td>A</td>\n",
       "      <td>3</td>\n",
       "    </tr>\n",
       "    <tr>\n",
       "      <th>5</th>\n",
       "      <td>6</td>\n",
       "      <td>B</td>\n",
       "      <td>3</td>\n",
       "    </tr>\n",
       "    <tr>\n",
       "      <th>6</th>\n",
       "      <td>7</td>\n",
       "      <td>D</td>\n",
       "      <td>3</td>\n",
       "    </tr>\n",
       "  </tbody>\n",
       "</table>\n",
       "</div>"
      ],
      "text/plain": [
       "   _id book_isbn  library_id\n",
       "0    1         A           1\n",
       "1    2         B           1\n",
       "2    3         A           2\n",
       "3    4         C           2\n",
       "4    5         A           3\n",
       "5    6         B           3\n",
       "6    7         D           3"
      ]
     },
     "execution_count": 10,
     "metadata": {},
     "output_type": "execute_result"
    }
   ],
   "source": [
    "relations_table.select_df()"
   ]
  },
  {
   "cell_type": "markdown",
   "metadata": {},
   "source": [
    "### Select Queries That Join Tables\n",
    "\n",
    "Similar to sqlalchemy, `DocTable` joins are doen simply by replacing the where conditional. While not technically nessecary, typically you will be joining tables on foreign key columns because it is much faster."
   ]
  },
  {
   "cell_type": "code",
   "execution_count": 11,
   "metadata": {},
   "outputs": [],
   "source": [
    "bt, lt, rt = book_table, library_table, relations_table"
   ]
  },
  {
   "cell_type": "markdown",
   "metadata": {},
   "source": [
    "For the first example, say we want to get the isbn numbers of books associated with each library in zip code 12345. We implement the join using a simple conditional  equating the associated keys in each table. Our database schema already knows that the foreign keys are in place, so this expression will give us the join we want."
   ]
  },
  {
   "cell_type": "code",
   "execution_count": 12,
   "metadata": {},
   "outputs": [
    {
     "data": {
      "text/plain": [
       "[('Library1', 'A'), ('Library1', 'B'), ('Library2', 'A'), ('Library2', 'C')]"
      ]
     },
     "execution_count": 12,
     "metadata": {},
     "output_type": "execute_result"
    }
   ],
   "source": [
    "lt.select([lt['name'], rt['book_isbn']], where=(lt['_id']==rt['library_id']) & (lt['zip']==12345), as_dataclass=False)"
   ]
  },
  {
   "cell_type": "markdown",
   "metadata": {},
   "source": [
    "Now say we want to characterize each library according to the age distribution of it's books. We use two conditionals for the join: one connecting library table to relations table, and another connecting relations table to books table. We also include the condition to get only libraries associated with the given zip."
   ]
  },
  {
   "cell_type": "code",
   "execution_count": 13,
   "metadata": {},
   "outputs": [
    {
     "data": {
      "text/plain": [
       "[('C', 2021, 'Library2'),\n",
       " ('A', 2020, 'Library1'),\n",
       " ('A', 2020, 'Library2'),\n",
       " ('B', 2020, 'Library1')]"
      ]
     },
     "execution_count": 13,
     "metadata": {},
     "output_type": "execute_result"
    }
   ],
   "source": [
    "conditions = (bt['isbn']==rt['book_isbn']) & (rt['library_id']==lt['_id']) & (lt['zip']==12345)\n",
    "bt.select([bt['title'], bt['year'], lt['name']], where=conditions, as_dataclass=False)"
   ]
  },
  {
   "cell_type": "markdown",
   "metadata": {},
   "source": [
    "Alternatively we can use the `.join` method of doctable (although I recommend just using select statements)."
   ]
  },
  {
   "cell_type": "code",
   "execution_count": 14,
   "metadata": {},
   "outputs": [
    {
     "data": {
      "text/plain": [
       "[('C', 'Library1'), ('C', 'Library2'), ('C', 'Library3')]"
      ]
     },
     "execution_count": 14,
     "metadata": {},
     "output_type": "execute_result"
    }
   ],
   "source": [
    "jt = lt.join(rt, (lt['zip']==12345) & (lt['_id']==rt['library_id']), isouter=False)\n",
    "bt.select(where=bt['isbn']==jt.c['book_library_relations_book_isbn'], as_dataclass=True)\n",
    "bt.select([bt['title'], jt.c['book_library_relations_library_id']], where=bt['isbn']==jt.c['book_library_relations_book_isbn'], as_dataclass=False)\n",
    "bt.select([bt['title'], jt.c['libraries_name']], where=bt['isbn']==jt.c['book_library_relations_book_isbn'], as_dataclass=False, limit=3)"
   ]
  },
  {
   "cell_type": "markdown",
   "metadata": {},
   "source": [
    "## Many-to-One Relationships\n",
    "Now we create an author class and table to demonstrate a many-to-one relationship."
   ]
  },
  {
   "cell_type": "code",
   "execution_count": 15,
   "metadata": {},
   "outputs": [],
   "source": [
    "@doctable.schema(frozen=True, eq=True)\n",
    "class Author:\n",
    "    __slots__ = []\n",
    "    #_id: int = doctable.IDCol()\n",
    "    name: str = doctable.Col(primary_key=True, unique=True)\n",
    "    age: int = doctable.Col()\n",
    "\n",
    "class AuthorTable(doctable.DocTable):\n",
    "    _tabname_ = 'authors'\n",
    "    _schema_ = Author  \n",
    "    _constraints_ = [doctable.Constraint('foreignkey', ('name',), ('books.author',))]\n",
    "\n",
    "#book_table_auth = BookTable(target=f'{tmp.name}/16.db', new_db=True)\n",
    "#author_table = AuthorTable(engine=book_table_auth.engine)\n",
    "author_table = AuthorTable(engine=book_table.engine)"
   ]
  },
  {
   "cell_type": "code",
   "execution_count": 16,
   "metadata": {},
   "outputs": [
    {
     "data": {
      "text/html": [
       "<div>\n",
       "<style scoped>\n",
       "    .dataframe tbody tr th:only-of-type {\n",
       "        vertical-align: middle;\n",
       "    }\n",
       "\n",
       "    .dataframe tbody tr th {\n",
       "        vertical-align: top;\n",
       "    }\n",
       "\n",
       "    .dataframe thead th {\n",
       "        text-align: right;\n",
       "    }\n",
       "</style>\n",
       "<table border=\"1\" class=\"dataframe\">\n",
       "  <thead>\n",
       "    <tr style=\"text-align: right;\">\n",
       "      <th></th>\n",
       "      <th>name</th>\n",
       "      <th>age</th>\n",
       "    </tr>\n",
       "  </thead>\n",
       "  <tbody>\n",
       "    <tr>\n",
       "      <th>0</th>\n",
       "      <td>Devin Cornell</td>\n",
       "      <td>30</td>\n",
       "    </tr>\n",
       "    <tr>\n",
       "      <th>1</th>\n",
       "      <td>Pierre Bourdieu</td>\n",
       "      <td>99</td>\n",
       "    </tr>\n",
       "    <tr>\n",
       "      <th>2</th>\n",
       "      <td>Jean-Luc Picard</td>\n",
       "      <td>1000</td>\n",
       "    </tr>\n",
       "  </tbody>\n",
       "</table>\n",
       "</div>"
      ],
      "text/plain": [
       "              name   age\n",
       "0    Devin Cornell    30\n",
       "1  Pierre Bourdieu    99\n",
       "2  Jean-Luc Picard  1000"
      ]
     },
     "execution_count": 16,
     "metadata": {},
     "output_type": "execute_result"
    }
   ],
   "source": [
    "author_table.delete()\n",
    "author_table.insert([\n",
    "    Author(name='Devin Cornell', age=30),\n",
    "    Author(name='Pierre Bourdieu', age=99),\n",
    "    Author(name='Jean-Luc Picard', age=1000),\n",
    "])\n",
    "author_table.head()"
   ]
  },
  {
   "cell_type": "code",
   "execution_count": 17,
   "metadata": {},
   "outputs": [
    {
     "data": {
      "text/html": [
       "<div>\n",
       "<style scoped>\n",
       "    .dataframe tbody tr th:only-of-type {\n",
       "        vertical-align: middle;\n",
       "    }\n",
       "\n",
       "    .dataframe tbody tr th {\n",
       "        vertical-align: top;\n",
       "    }\n",
       "\n",
       "    .dataframe thead th {\n",
       "        text-align: right;\n",
       "    }\n",
       "</style>\n",
       "<table border=\"1\" class=\"dataframe\">\n",
       "  <thead>\n",
       "    <tr style=\"text-align: right;\">\n",
       "      <th></th>\n",
       "      <th>_id</th>\n",
       "      <th>isbn</th>\n",
       "      <th>title</th>\n",
       "      <th>year</th>\n",
       "      <th>author</th>\n",
       "      <th>date_updated</th>\n",
       "    </tr>\n",
       "  </thead>\n",
       "  <tbody>\n",
       "    <tr>\n",
       "      <th>0</th>\n",
       "      <td>2</td>\n",
       "      <td>E</td>\n",
       "      <td>E</td>\n",
       "      <td>2018</td>\n",
       "      <td>Jean-Luc Picard</td>\n",
       "      <td>2022-07-26 21:30:30.364812</td>\n",
       "    </tr>\n",
       "    <tr>\n",
       "      <th>1</th>\n",
       "      <td>6</td>\n",
       "      <td>C</td>\n",
       "      <td>C</td>\n",
       "      <td>2021</td>\n",
       "      <td>Jean-Luc Picard</td>\n",
       "      <td>2022-07-26 21:30:30.482867</td>\n",
       "    </tr>\n",
       "    <tr>\n",
       "      <th>2</th>\n",
       "      <td>7</td>\n",
       "      <td>A</td>\n",
       "      <td>A</td>\n",
       "      <td>2020</td>\n",
       "      <td>Pierre Bourdieu</td>\n",
       "      <td>2022-07-26 21:30:30.494686</td>\n",
       "    </tr>\n",
       "    <tr>\n",
       "      <th>3</th>\n",
       "      <td>8</td>\n",
       "      <td>B</td>\n",
       "      <td>B</td>\n",
       "      <td>2020</td>\n",
       "      <td>Jean-Luc Picard</td>\n",
       "      <td>2022-07-26 21:30:30.494692</td>\n",
       "    </tr>\n",
       "    <tr>\n",
       "      <th>4</th>\n",
       "      <td>9</td>\n",
       "      <td>D</td>\n",
       "      <td>D</td>\n",
       "      <td>2019</td>\n",
       "      <td>Devin Cornell</td>\n",
       "      <td>2022-07-26 21:30:30.494694</td>\n",
       "    </tr>\n",
       "  </tbody>\n",
       "</table>\n",
       "</div>"
      ],
      "text/plain": [
       "   _id isbn title  year           author               date_updated\n",
       "0    2    E     E  2018  Jean-Luc Picard 2022-07-26 21:30:30.364812\n",
       "1    6    C     C  2021  Jean-Luc Picard 2022-07-26 21:30:30.482867\n",
       "2    7    A     A  2020  Pierre Bourdieu 2022-07-26 21:30:30.494686\n",
       "3    8    B     B  2020  Jean-Luc Picard 2022-07-26 21:30:30.494692\n",
       "4    9    D     D  2019    Devin Cornell 2022-07-26 21:30:30.494694"
      ]
     },
     "execution_count": 17,
     "metadata": {},
     "output_type": "execute_result"
    }
   ],
   "source": [
    "book_table.head()"
   ]
  },
  {
   "cell_type": "code",
   "execution_count": 18,
   "metadata": {},
   "outputs": [
    {
     "data": {
      "text/html": [
       "<div>\n",
       "<style scoped>\n",
       "    .dataframe tbody tr th:only-of-type {\n",
       "        vertical-align: middle;\n",
       "    }\n",
       "\n",
       "    .dataframe tbody tr th {\n",
       "        vertical-align: top;\n",
       "    }\n",
       "\n",
       "    .dataframe thead th {\n",
       "        text-align: right;\n",
       "    }\n",
       "</style>\n",
       "<table border=\"1\" class=\"dataframe\">\n",
       "  <thead>\n",
       "    <tr style=\"text-align: right;\">\n",
       "      <th></th>\n",
       "      <th>year</th>\n",
       "      <th>age</th>\n",
       "      <th>name</th>\n",
       "    </tr>\n",
       "  </thead>\n",
       "  <tbody>\n",
       "    <tr>\n",
       "      <th>0</th>\n",
       "      <td>2018</td>\n",
       "      <td>1000</td>\n",
       "      <td>Jean-Luc Picard</td>\n",
       "    </tr>\n",
       "    <tr>\n",
       "      <th>1</th>\n",
       "      <td>2021</td>\n",
       "      <td>1000</td>\n",
       "      <td>Jean-Luc Picard</td>\n",
       "    </tr>\n",
       "    <tr>\n",
       "      <th>2</th>\n",
       "      <td>2020</td>\n",
       "      <td>99</td>\n",
       "      <td>Pierre Bourdieu</td>\n",
       "    </tr>\n",
       "    <tr>\n",
       "      <th>3</th>\n",
       "      <td>2020</td>\n",
       "      <td>1000</td>\n",
       "      <td>Jean-Luc Picard</td>\n",
       "    </tr>\n",
       "    <tr>\n",
       "      <th>4</th>\n",
       "      <td>2019</td>\n",
       "      <td>30</td>\n",
       "      <td>Devin Cornell</td>\n",
       "    </tr>\n",
       "  </tbody>\n",
       "</table>\n",
       "</div>"
      ],
      "text/plain": [
       "   year   age             name\n",
       "0  2018  1000  Jean-Luc Picard\n",
       "1  2021  1000  Jean-Luc Picard\n",
       "2  2020    99  Pierre Bourdieu\n",
       "3  2020  1000  Jean-Luc Picard\n",
       "4  2019    30    Devin Cornell"
      ]
     },
     "execution_count": 18,
     "metadata": {},
     "output_type": "execute_result"
    }
   ],
   "source": [
    "columns = [book_table['year'], author_table['age'], author_table['name']]\n",
    "where = (book_table['author']==author_table['name']) & (book_table['author'] > 30)\n",
    "book_table.select_df(columns, where=where)"
   ]
  }
 ],
 "metadata": {
  "kernelspec": {
   "display_name": "Python 3.8.5 ('base')",
   "language": "python",
   "name": "python3"
  },
  "language_info": {
   "codemirror_mode": {
    "name": "ipython",
    "version": 3
   },
   "file_extension": ".py",
   "mimetype": "text/x-python",
   "name": "python",
   "nbconvert_exporter": "python",
   "pygments_lexer": "ipython3",
   "version": "3.8.5"
  },
  "vscode": {
   "interpreter": {
    "hash": "6655beaf7f57a241ed2fe3a58b558d568db09842d57c904b8c0db510272f5c22"
   }
  }
 },
 "nbformat": 4,
 "nbformat_minor": 4
}
