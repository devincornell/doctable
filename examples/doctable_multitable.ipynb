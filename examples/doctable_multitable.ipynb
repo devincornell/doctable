{
 "cells": [
  {
   "cell_type": "markdown",
   "metadata": {},
   "source": [
    "# Example: Multiple Tables\n",
    "In this example, I show how doctable can be used with multiple inter-related tables to perform queries which automatically merge different aspects of your dataset when you use `.select()`. By integrating these relations into the schema, your database can automatically maintain consistency between tables by deleting irrelevant elements when their relations disappear. There are two important features of any multi-table schema using doctable:\n",
    "\n",
    "(1) Set the foreign_keys=True in the original doctable or ConnectEngine constructor. Otherwise sqlalchemy will not enable.\n",
    "\n",
    "(2) Use the \"foreignkey\" column type to set the constraint, probably with the onupdate and ondelete keywords specifiied.\n",
    "\n",
    "In this example I'll create interrelated tables for authors and their books."
   ]
  },
  {
   "cell_type": "code",
   "execution_count": 1,
   "metadata": {},
   "outputs": [],
   "source": [
    "import sys\n",
    "sys.path.append('..')\n",
    "import doctable"
   ]
  },
  {
   "cell_type": "code",
   "execution_count": 2,
   "metadata": {},
   "outputs": [
    {
     "data": {
      "text/plain": [
       "<DocTable::sqlite:///:memory::authors ct: 0>"
      ]
     },
     "execution_count": 2,
     "metadata": {},
     "output_type": "execute_result"
    }
   ],
   "source": [
    "class Authors(doctable.DocTable):\n",
    "    _tabname_ = 'authors'\n",
    "    _schema_ = (\n",
    "        ('idcol', 'id'),\n",
    "        ('string', 'name', dict(unique=True)),\n",
    "        ('string', 'fav_color'),\n",
    "        ('date_updated', 'updated'),\n",
    "    )\n",
    "adb = Authors(target=':memory:', foreign_keys=True)\n",
    "#adb.execute('pragma foreign_keys=ON')\n",
    "adb"
   ]
  },
  {
   "cell_type": "code",
   "execution_count": 3,
   "metadata": {},
   "outputs": [
    {
     "data": {
      "text/plain": [
       "<DocTable::sqlite:///:memory::books ct: 0>"
      ]
     },
     "execution_count": 3,
     "metadata": {},
     "output_type": "execute_result"
    }
   ],
   "source": [
    "class Books(doctable.DocTable):\n",
    "    _tabname_ = 'books'\n",
    "    _schema_ = (\n",
    "        ('idcol', 'id'), # each book has its own id\n",
    "        ('string', 'title'),\n",
    "        \n",
    "        # reference to authors table\n",
    "        ('integer', 'authname'), \n",
    "        ('foreignkey', 'authname', 'authors.name', dict(onupdate=\"CASCADE\", ondelete=\"CASCADE\")),\n",
    "        \n",
    "        # make unique combination\n",
    "        ('index', 'ind_authtitle', ['title', 'authname'], dict(unique=True)),\n",
    "    )\n",
    "bdb = Books(engine=adb.engine)\n",
    "bdb"
   ]
  },
  {
   "cell_type": "code",
   "execution_count": 4,
   "metadata": {},
   "outputs": [
    {
     "data": {
      "text/plain": [
       "dict_keys(['authors', 'books'])"
      ]
     },
     "execution_count": 4,
     "metadata": {},
     "output_type": "execute_result"
    }
   ],
   "source": [
    "# see that both are registered with the engine metadata\n",
    "adb.engine.tables.keys()"
   ]
  },
  {
   "cell_type": "code",
   "execution_count": 5,
   "metadata": {},
   "outputs": [],
   "source": [
    "# define a test dataset\n",
    "collection = (\n",
    "    ('Devin Cornell', 'green', 'The Case of Austerity'),\n",
    "    ('Devin Cornell', 'green', 'Gender Stereotypes'),\n",
    "    ('Devin Cornell', 'green', 'Colombian Politics'),\n",
    "    ('Pierre Bourdieu', 'orange', 'Distinction'),\n",
    "    ('Pierre Bourdieu', 'orange', 'Symbolic Power'),\n",
    "    ('Jean-Luc Picard', 'red', 'Enterprise Stories'),\n",
    ")"
   ]
  },
  {
   "cell_type": "code",
   "execution_count": 6,
   "metadata": {},
   "outputs": [
    {
     "data": {
      "text/plain": [
       "(3, 6)"
      ]
     },
     "execution_count": 6,
     "metadata": {},
     "output_type": "execute_result"
    }
   ],
   "source": [
    "for auth, color, title in collection:\n",
    "    adb.insert({'name':auth, 'fav_color': color}, ifnotunique='ignore')\n",
    "    bdb.insert({'authname':auth, 'title': title}, ifnotunique='ignore')\n",
    "adb.count(), bdb.count()"
   ]
  },
  {
   "cell_type": "code",
   "execution_count": 7,
   "metadata": {},
   "outputs": [
    {
     "data": {
      "text/html": [
       "<div>\n",
       "<style scoped>\n",
       "    .dataframe tbody tr th:only-of-type {\n",
       "        vertical-align: middle;\n",
       "    }\n",
       "\n",
       "    .dataframe tbody tr th {\n",
       "        vertical-align: top;\n",
       "    }\n",
       "\n",
       "    .dataframe thead th {\n",
       "        text-align: right;\n",
       "    }\n",
       "</style>\n",
       "<table border=\"1\" class=\"dataframe\">\n",
       "  <thead>\n",
       "    <tr style=\"text-align: right;\">\n",
       "      <th></th>\n",
       "      <th>id</th>\n",
       "      <th>name</th>\n",
       "      <th>fav_color</th>\n",
       "      <th>updated</th>\n",
       "    </tr>\n",
       "  </thead>\n",
       "  <tbody>\n",
       "    <tr>\n",
       "      <th>0</th>\n",
       "      <td>1</td>\n",
       "      <td>Devin Cornell</td>\n",
       "      <td>green</td>\n",
       "      <td>2020-06-20 23:14:43.460658</td>\n",
       "    </tr>\n",
       "    <tr>\n",
       "      <th>1</th>\n",
       "      <td>2</td>\n",
       "      <td>Pierre Bourdieu</td>\n",
       "      <td>orange</td>\n",
       "      <td>2020-06-20 23:14:43.462758</td>\n",
       "    </tr>\n",
       "    <tr>\n",
       "      <th>2</th>\n",
       "      <td>3</td>\n",
       "      <td>Jean-Luc Picard</td>\n",
       "      <td>red</td>\n",
       "      <td>2020-06-20 23:14:43.463840</td>\n",
       "    </tr>\n",
       "  </tbody>\n",
       "</table>\n",
       "</div>"
      ],
      "text/plain": [
       "   id             name fav_color                    updated\n",
       "0   1    Devin Cornell     green 2020-06-20 23:14:43.460658\n",
       "1   2  Pierre Bourdieu    orange 2020-06-20 23:14:43.462758\n",
       "2   3  Jean-Luc Picard       red 2020-06-20 23:14:43.463840"
      ]
     },
     "execution_count": 7,
     "metadata": {},
     "output_type": "execute_result"
    }
   ],
   "source": [
    "adb.head()"
   ]
  },
  {
   "cell_type": "code",
   "execution_count": 8,
   "metadata": {},
   "outputs": [
    {
     "data": {
      "text/html": [
       "<div>\n",
       "<style scoped>\n",
       "    .dataframe tbody tr th:only-of-type {\n",
       "        vertical-align: middle;\n",
       "    }\n",
       "\n",
       "    .dataframe tbody tr th {\n",
       "        vertical-align: top;\n",
       "    }\n",
       "\n",
       "    .dataframe thead th {\n",
       "        text-align: right;\n",
       "    }\n",
       "</style>\n",
       "<table border=\"1\" class=\"dataframe\">\n",
       "  <thead>\n",
       "    <tr style=\"text-align: right;\">\n",
       "      <th></th>\n",
       "      <th>id</th>\n",
       "      <th>title</th>\n",
       "      <th>authname</th>\n",
       "    </tr>\n",
       "  </thead>\n",
       "  <tbody>\n",
       "    <tr>\n",
       "      <th>0</th>\n",
       "      <td>1</td>\n",
       "      <td>The Case of Austerity</td>\n",
       "      <td>Devin Cornell</td>\n",
       "    </tr>\n",
       "    <tr>\n",
       "      <th>1</th>\n",
       "      <td>2</td>\n",
       "      <td>Gender Stereotypes</td>\n",
       "      <td>Devin Cornell</td>\n",
       "    </tr>\n",
       "    <tr>\n",
       "      <th>2</th>\n",
       "      <td>3</td>\n",
       "      <td>Colombian Politics</td>\n",
       "      <td>Devin Cornell</td>\n",
       "    </tr>\n",
       "    <tr>\n",
       "      <th>3</th>\n",
       "      <td>4</td>\n",
       "      <td>Distinction</td>\n",
       "      <td>Pierre Bourdieu</td>\n",
       "    </tr>\n",
       "    <tr>\n",
       "      <th>4</th>\n",
       "      <td>5</td>\n",
       "      <td>Symbolic Power</td>\n",
       "      <td>Pierre Bourdieu</td>\n",
       "    </tr>\n",
       "    <tr>\n",
       "      <th>5</th>\n",
       "      <td>6</td>\n",
       "      <td>Enterprise Stories</td>\n",
       "      <td>Jean-Luc Picard</td>\n",
       "    </tr>\n",
       "  </tbody>\n",
       "</table>\n",
       "</div>"
      ],
      "text/plain": [
       "   id                  title         authname\n",
       "0   1  The Case of Austerity    Devin Cornell\n",
       "1   2     Gender Stereotypes    Devin Cornell\n",
       "2   3     Colombian Politics    Devin Cornell\n",
       "3   4            Distinction  Pierre Bourdieu\n",
       "4   5         Symbolic Power  Pierre Bourdieu\n",
       "5   6     Enterprise Stories  Jean-Luc Picard"
      ]
     },
     "execution_count": 8,
     "metadata": {},
     "output_type": "execute_result"
    }
   ],
   "source": [
    "bdb.head(10)"
   ]
  },
  {
   "cell_type": "markdown",
   "metadata": {},
   "source": [
    "## Joint Select Statements\n",
    "You can perform joins by using select queries with column objects from different tables."
   ]
  },
  {
   "cell_type": "code",
   "execution_count": 9,
   "metadata": {},
   "outputs": [
    {
     "data": {
      "text/plain": [
       "[('Colombian Politics', 'Devin Cornell', 'green'),\n",
       " ('Gender Stereotypes', 'Devin Cornell', 'green'),\n",
       " ('The Case of Austerity', 'Devin Cornell', 'green'),\n",
       " ('Distinction', 'Pierre Bourdieu', 'orange'),\n",
       " ('Symbolic Power', 'Pierre Bourdieu', 'orange'),\n",
       " ('Enterprise Stories', 'Jean-Luc Picard', 'red')]"
      ]
     },
     "execution_count": 9,
     "metadata": {},
     "output_type": "execute_result"
    }
   ],
   "source": [
    "# this is a left join\n",
    "bdb.select(['title', adb['name'], adb['fav_color']], where=bdb['authname']==adb['name'])"
   ]
  },
  {
   "cell_type": "code",
   "execution_count": 10,
   "metadata": {},
   "outputs": [
    {
     "data": {
      "text/plain": [
       "[('Devin Cornell', 'Colombian Politics'),\n",
       " ('Devin Cornell', 'Gender Stereotypes'),\n",
       " ('Devin Cornell', 'The Case of Austerity'),\n",
       " ('Jean-Luc Picard', 'Enterprise Stories'),\n",
       " ('Pierre Bourdieu', 'Distinction'),\n",
       " ('Pierre Bourdieu', 'Symbolic Power')]"
      ]
     },
     "execution_count": 10,
     "metadata": {},
     "output_type": "execute_result"
    }
   ],
   "source": [
    "# with tables reversed, still returns same output\n",
    "adb.select(['name', bdb['title']], where=adb['name']==bdb['authname'])"
   ]
  },
  {
   "cell_type": "markdown",
   "metadata": {},
   "source": [
    "## Cascade deletion\n",
    "See now that by deleting the author \"Devin Cornell\", we also removed the corresponding rows in the book table."
   ]
  },
  {
   "cell_type": "code",
   "execution_count": 12,
   "metadata": {},
   "outputs": [
    {
     "data": {
      "text/plain": [
       "<sqlalchemy.engine.result.ResultProxy at 0x7f68b8d59f60>"
      ]
     },
     "execution_count": 12,
     "metadata": {},
     "output_type": "execute_result"
    }
   ],
   "source": [
    "adb.delete(where=adb['name']=='Devin Cornell')"
   ]
  },
  {
   "cell_type": "code",
   "execution_count": 13,
   "metadata": {},
   "outputs": [
    {
     "data": {
      "text/html": [
       "<div>\n",
       "<style scoped>\n",
       "    .dataframe tbody tr th:only-of-type {\n",
       "        vertical-align: middle;\n",
       "    }\n",
       "\n",
       "    .dataframe tbody tr th {\n",
       "        vertical-align: top;\n",
       "    }\n",
       "\n",
       "    .dataframe thead th {\n",
       "        text-align: right;\n",
       "    }\n",
       "</style>\n",
       "<table border=\"1\" class=\"dataframe\">\n",
       "  <thead>\n",
       "    <tr style=\"text-align: right;\">\n",
       "      <th></th>\n",
       "      <th>id</th>\n",
       "      <th>name</th>\n",
       "      <th>fav_color</th>\n",
       "      <th>updated</th>\n",
       "    </tr>\n",
       "  </thead>\n",
       "  <tbody>\n",
       "    <tr>\n",
       "      <th>0</th>\n",
       "      <td>2</td>\n",
       "      <td>Pierre Bourdieu</td>\n",
       "      <td>orange</td>\n",
       "      <td>2020-06-20 23:14:43.462758</td>\n",
       "    </tr>\n",
       "    <tr>\n",
       "      <th>1</th>\n",
       "      <td>3</td>\n",
       "      <td>Jean-Luc Picard</td>\n",
       "      <td>red</td>\n",
       "      <td>2020-06-20 23:14:43.463840</td>\n",
       "    </tr>\n",
       "  </tbody>\n",
       "</table>\n",
       "</div>"
      ],
      "text/plain": [
       "   id             name fav_color                    updated\n",
       "0   2  Pierre Bourdieu    orange 2020-06-20 23:14:43.462758\n",
       "1   3  Jean-Luc Picard       red 2020-06-20 23:14:43.463840"
      ]
     },
     "execution_count": 13,
     "metadata": {},
     "output_type": "execute_result"
    }
   ],
   "source": [
    "adb.head()"
   ]
  },
  {
   "cell_type": "code",
   "execution_count": 14,
   "metadata": {},
   "outputs": [
    {
     "data": {
      "text/html": [
       "<div>\n",
       "<style scoped>\n",
       "    .dataframe tbody tr th:only-of-type {\n",
       "        vertical-align: middle;\n",
       "    }\n",
       "\n",
       "    .dataframe tbody tr th {\n",
       "        vertical-align: top;\n",
       "    }\n",
       "\n",
       "    .dataframe thead th {\n",
       "        text-align: right;\n",
       "    }\n",
       "</style>\n",
       "<table border=\"1\" class=\"dataframe\">\n",
       "  <thead>\n",
       "    <tr style=\"text-align: right;\">\n",
       "      <th></th>\n",
       "      <th>id</th>\n",
       "      <th>title</th>\n",
       "      <th>authname</th>\n",
       "    </tr>\n",
       "  </thead>\n",
       "  <tbody>\n",
       "    <tr>\n",
       "      <th>0</th>\n",
       "      <td>4</td>\n",
       "      <td>Distinction</td>\n",
       "      <td>Pierre Bourdieu</td>\n",
       "    </tr>\n",
       "    <tr>\n",
       "      <th>1</th>\n",
       "      <td>5</td>\n",
       "      <td>Symbolic Power</td>\n",
       "      <td>Pierre Bourdieu</td>\n",
       "    </tr>\n",
       "    <tr>\n",
       "      <th>2</th>\n",
       "      <td>6</td>\n",
       "      <td>Enterprise Stories</td>\n",
       "      <td>Jean-Luc Picard</td>\n",
       "    </tr>\n",
       "  </tbody>\n",
       "</table>\n",
       "</div>"
      ],
      "text/plain": [
       "   id               title         authname\n",
       "0   4         Distinction  Pierre Bourdieu\n",
       "1   5      Symbolic Power  Pierre Bourdieu\n",
       "2   6  Enterprise Stories  Jean-Luc Picard"
      ]
     },
     "execution_count": 14,
     "metadata": {},
     "output_type": "execute_result"
    }
   ],
   "source": [
    "bdb.head(10)"
   ]
  }
 ],
 "metadata": {
  "kernelspec": {
   "display_name": "Python 3",
   "language": "python",
   "name": "python3"
  },
  "language_info": {
   "codemirror_mode": {
    "name": "ipython",
    "version": 3
   },
   "file_extension": ".py",
   "mimetype": "text/x-python",
   "name": "python",
   "nbconvert_exporter": "python",
   "pygments_lexer": "ipython3",
   "version": "3.6.9"
  }
 },
 "nbformat": 4,
 "nbformat_minor": 4
}
