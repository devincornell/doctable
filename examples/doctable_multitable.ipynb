{
 "cells": [
  {
   "cell_type": "markdown",
   "metadata": {},
   "source": [
    "# Example: Multiple Tables\n",
    "In this example, I show how doctable can be used with multiple tables. To accomplish this, I first create a new DocTable object named SubTable that stores a single value `n` in addition to an index column, column recording when item was inserted, and an index to ensure speed and uniqueness of the number `n`. Next, we create a MainTable object which includes a foreign key constraint, and overloads the `DocTable.insert()` method to store data into the SubTable transparently."
   ]
  },
  {
   "cell_type": "code",
   "execution_count": 1,
   "metadata": {},
   "outputs": [],
   "source": [
    "import sys\n",
    "sys.path.append('..')\n",
    "import doctable"
   ]
  },
  {
   "cell_type": "markdown",
   "metadata": {},
   "source": [
    "First, we create a simple class SubTable. Nothing special here."
   ]
  },
  {
   "cell_type": "code",
   "execution_count": 2,
   "metadata": {},
   "outputs": [],
   "source": [
    "class SubTable(doctable.DocTable):\n",
    "    tabname = 'subtable'\n",
    "    def __init__(self, fname):\n",
    "        super().__init__(schema = (\n",
    "            ('idcol', 'id'),\n",
    "            ('integer', 'n'),\n",
    "            ('date_updated', 'updated'),\n",
    "            ('index', 'ind_n', ['n'], dict(unique=True)),\n",
    "        ), fname=fname, tabname=self.tabname)"
   ]
  },
  {
   "cell_type": "markdown",
   "metadata": {},
   "source": [
    "Next, we create a class MainTable with a foreign key constraint. The coreign key points from it's own column subkey to the SubTab `id` column. Additionally, we overload the MainTable insert method to store the provided `n` value into the other table and instead insert a reference to the SubTable that stores the actual integer."
   ]
  },
  {
   "cell_type": "code",
   "execution_count": 3,
   "metadata": {},
   "outputs": [],
   "source": [
    "class MainTable(doctable.DocTable):\n",
    "    tabname = 'maintable'\n",
    "    def __init__(self, fname):\n",
    "        self.subtab = SubTable(fname)\n",
    "        #self.subtab.commit()\n",
    "        super().__init__(schema = (\n",
    "            ('idcol', 'id'),\n",
    "            ('integer', 'subkey'),\n",
    "            ('string', 'name'),\n",
    "            ('foreignkey_constraint', [['subkey'], [self.subtab['id']]], {}, dict(onupdate=\"CASCADE\", ondelete=\"CASCADE\")),\n",
    "            ('date_updated', 'updated'),\n",
    "        ), fname=fname, tabname=self.tabname)\n",
    "    \n",
    "    def insert(self, rowdat, **kwargs):\n",
    "        # add just in case it wasn't there\n",
    "        if 'n' in rowdat:\n",
    "            self.subtab.insert({'n':rowdat['n']}, ifnotunique='ignore')\n",
    "        \n",
    "            # get id of the right column\n",
    "            idx = self.subtab.select_first('id', where=self.subtab['n']==rowdat['n'])\n",
    "            rowdat['subkey'] = idx\n",
    "            del rowdat['n']\n",
    "        super().insert(rowdat, **kwargs)"
   ]
  },
  {
   "cell_type": "markdown",
   "metadata": {},
   "source": [
    "Now we test our code by creating a new MainTable object (which also instantiates a SubTable as a member variable), and then inserts two rows with different names and the same number. The result is that two rows have been inserted in MainTable but they contain references to the saim subtable rows."
   ]
  },
  {
   "cell_type": "code",
   "execution_count": 5,
   "metadata": {},
   "outputs": [
    {
     "name": "stdout",
     "output_type": "stream",
     "text": [
      "<DocTable::maintable ct: 0>\n",
      "<DocTable::maintable ct: 2>\n",
      "   id  subkey             name                    updated\n",
      "0   1       1    devin cornell 2020-01-31 19:13:15.624948\n",
      "1   2       1  pierre bourdieu 2020-01-31 19:13:15.628480\n",
      "   id   n                    updated\n",
      "0   1  10 2020-01-31 19:13:15.552712\n"
     ]
    }
   ],
   "source": [
    "db = MainTable('exdb/multitable0.db')\n",
    "print(db)\n",
    "for name in ('devin cornell', 'pierre bourdieu'):\n",
    "    db.insert({'name':name, 'n':10})\n",
    "print(db)\n",
    "print(db.select_df())\n",
    "print(db.subtab.select_df())"
   ]
  },
  {
   "cell_type": "markdown",
   "metadata": {},
   "source": [
    "Note how the output shows two rows created in the MainTable but only one in the SubTable. According to computational constraints one might choose not to perform the checks for table existance in the insert method, but in this case it is useful.\n",
    "\n",
    "## Automatically Join Using Select\n",
    "The great part about using sqlalchemy core is that you can manipulate multiple tables by accessing their doctable objects. In this case, we perform a join of name to their associated n (stored in the subtable) using the column subscript for the db.subtab member (of type SubTable). By default this does an outer join! Not sure what happens in a many-to-many table."
   ]
  },
  {
   "cell_type": "code",
   "execution_count": 9,
   "metadata": {},
   "outputs": [
    {
     "data": {
      "text/plain": [
       "[('devin cornell', 10), ('pierre bourdieu', 10)]"
      ]
     },
     "execution_count": 9,
     "metadata": {},
     "output_type": "execute_result"
    }
   ],
   "source": [
    "db.select(['name', db.subtab['n']])"
   ]
  }
 ],
 "metadata": {
  "kernelspec": {
   "display_name": "Python 3",
   "language": "python",
   "name": "python3"
  },
  "language_info": {
   "codemirror_mode": {
    "name": "ipython",
    "version": 3
   },
   "file_extension": ".py",
   "mimetype": "text/x-python",
   "name": "python",
   "nbconvert_exporter": "python",
   "pygments_lexer": "ipython3",
   "version": "3.6.9"
  }
 },
 "nbformat": 4,
 "nbformat_minor": 4
}
