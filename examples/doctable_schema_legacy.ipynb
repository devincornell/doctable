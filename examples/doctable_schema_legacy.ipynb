{
 "cells": [
  {
   "cell_type": "markdown",
   "metadata": {},
   "source": [
    "# DocTable Schemas\n",
    "There are two ways to define schemas for a DocTable:\n",
    "\n",
    "1. **dataclass schema**: column names and types come from a class created using the `@doctable.row` decorator. This class represents a single row, and is returned by default when a select query is executed. `doctable` provides a thin layer over [dataclasses](https://realpython.com/python-data-classes/) with slots to reduce memory overhead from returned results. Custom methods can also be defined on the class that will not affect the database schema. When using this method, constraints and indices must be provided at the time of `DocTable` instantiation (or in the definition of an inheriting `DocTable`).\n",
    "\n",
    "2. **list schema**: column names and types come from sequences of strings according to a custom doctable format. This method requires less knowledge of doctable objects but otherwise has no advantages over dataclass schemas.\n",
    "\n",
    "The doctable package builds on sqlalchemy, so both types of schema specifications ultimately result in a sequence of [`sqlalchemy` column types](https://docs.sqlalchemy.org/en/13/core/type_basics.html) that will be used to construct (or interface with) the database table."
   ]
  },
  {
   "cell_type": "code",
   "execution_count": 1,
   "metadata": {},
   "outputs": [],
   "source": [
    "from datetime import datetime\n",
    "from pprint import pprint\n",
    "import pandas as pd\n",
    "\n",
    "import sys\n",
    "sys.path.append('..')\n",
    "import doctable"
   ]
  },
  {
   "cell_type": "markdown",
   "metadata": {},
   "source": [
    "## Schema Type Mappings\n",
    "There are two lookup tables used to relate to sqlalchemy column types. The first is a map from Python datatypes to the sqlalchemy types. This is sufficient for the simplest possible dataclass schema specification."
   ]
  },
  {
   "cell_type": "code",
   "execution_count": 2,
   "metadata": {},
   "outputs": [
    {
     "data": {
      "text/plain": [
       "{int: sqlalchemy.sql.sqltypes.Integer,\n",
       " float: sqlalchemy.sql.sqltypes.Float,\n",
       " str: sqlalchemy.sql.sqltypes.String,\n",
       " bool: sqlalchemy.sql.sqltypes.Boolean,\n",
       " datetime.datetime: sqlalchemy.sql.sqltypes.DateTime,\n",
       " datetime.time: sqlalchemy.sql.sqltypes.Time,\n",
       " datetime.date: sqlalchemy.sql.sqltypes.Date,\n",
       " doctable.textmodels.parsetreedoc.ParseTreeDoc: doctable.schemas.custom_coltypes.ParseTreeDocFileType}"
      ]
     },
     "execution_count": 2,
     "metadata": {},
     "output_type": "execute_result"
    }
   ],
   "source": [
    "doctable.python_to_slqlchemy_type"
   ]
  },
  {
   "cell_type": "markdown",
   "metadata": {},
   "source": [
    "The second is a string lookup that is provided for the list schema format. You can see that this offers a larger number of types compared to the Python type conversion."
   ]
  },
  {
   "cell_type": "markdown",
   "metadata": {},
   "source": [
    "## Dataclass Schemas Using `doctable.row` Decorator\n",
    "\n",
    "A dataclass schema is created by defining a class using the `@doctable.row` decorator. This object will represent a single row in the table, and column names/schemas will be inferred from the variable names and type hints, respectively. The simplest possible version looks like a regular dataclass, except that `__slots__` should be defined so that the decorator can automatically add the columns as slots (this can be overridden using `require_slots=False` in the decorator)."
   ]
  },
  {
   "cell_type": "code",
   "execution_count": 18,
   "metadata": {},
   "outputs": [
    {
     "data": {
      "text/html": [
       "<div>\n",
       "<style scoped>\n",
       "    .dataframe tbody tr th:only-of-type {\n",
       "        vertical-align: middle;\n",
       "    }\n",
       "\n",
       "    .dataframe tbody tr th {\n",
       "        vertical-align: top;\n",
       "    }\n",
       "\n",
       "    .dataframe thead th {\n",
       "        text-align: right;\n",
       "    }\n",
       "</style>\n",
       "<table border=\"1\" class=\"dataframe\">\n",
       "  <thead>\n",
       "    <tr style=\"text-align: right;\">\n",
       "      <th></th>\n",
       "      <th>name</th>\n",
       "      <th>type</th>\n",
       "      <th>nullable</th>\n",
       "      <th>default</th>\n",
       "      <th>autoincrement</th>\n",
       "      <th>primary_key</th>\n",
       "    </tr>\n",
       "  </thead>\n",
       "  <tbody>\n",
       "    <tr>\n",
       "      <th>0</th>\n",
       "      <td>name</td>\n",
       "      <td>VARCHAR</td>\n",
       "      <td>True</td>\n",
       "      <td>None</td>\n",
       "      <td>auto</td>\n",
       "      <td>0</td>\n",
       "    </tr>\n",
       "    <tr>\n",
       "      <th>1</th>\n",
       "      <td>age</td>\n",
       "      <td>INTEGER</td>\n",
       "      <td>True</td>\n",
       "      <td>None</td>\n",
       "      <td>auto</td>\n",
       "      <td>0</td>\n",
       "    </tr>\n",
       "  </tbody>\n",
       "</table>\n",
       "</div>"
      ],
      "text/plain": [
       "   name     type  nullable default autoincrement  primary_key\n",
       "0  name  VARCHAR      True    None          auto            0\n",
       "1   age  INTEGER      True    None          auto            0"
      ]
     },
     "execution_count": 18,
     "metadata": {},
     "output_type": "execute_result"
    }
   ],
   "source": [
    "@doctable.row\n",
    "class Record:\n",
    "    __slots__ = []\n",
    "    name: str = None\n",
    "    age: int = None\n",
    "\n",
    "# the schema that would result from this dataclass:\n",
    "doctable.DocTable(target=':memory:', schema=Record).schema_table()"
   ]
  },
  {
   "cell_type": "markdown",
   "metadata": {},
   "source": [
    "It looks like a regular dataclass - and, in fact, it is a dataclass! The decorator essentially converts your class into a dataclass that inherits from `doctable.DocTableRow`, so it has a few extra methods. I'll show later why this matters, but it is slightly preferable to access member variables through subscripting (defined via `__getitem__`). The  base class also defines a `__repr__` and a `.as_dict()` method to convert to a dictionary."
   ]
  },
  {
   "cell_type": "code",
   "execution_count": 20,
   "metadata": {},
   "outputs": [
    {
     "data": {
      "text/plain": [
       "(Record(name='Devin Cornell', age=30),\n",
       " 'Devin Cornell',\n",
       " 30,\n",
       " {'name': 'Devin Cornell', 'age': 30})"
      ]
     },
     "execution_count": 20,
     "metadata": {},
     "output_type": "execute_result"
    }
   ],
   "source": [
    "r = Record('Devin Cornell', 30)\n",
    "r, r['name'], r['age'], r.as_dict()"
   ]
  },
  {
   "cell_type": "markdown",
   "metadata": {},
   "source": [
    "To add functionality beyond dataclasses, doctable provides a `Col` function that can be used as the default value in the class definition. This allows you to access both doctable schema features and pass parameters to the `dataclasses.field` function. Using `Col` also sets the default value to a special class called `doctable.EmptyValue`, which, among other things, will not show up in the class `__repr__`. Notice that I use `Col` to create the `id` column we have come to expect in most sql tables."
   ]
  },
  {
   "cell_type": "code",
   "execution_count": 12,
   "metadata": {},
   "outputs": [
    {
     "data": {
      "text/plain": [
       "Record(id='Devin Cornell')"
      ]
     },
     "execution_count": 12,
     "metadata": {},
     "output_type": "execute_result"
    }
   ],
   "source": [
    "@doctable.row\n",
    "class Record:\n",
    "    __slots__ = []\n",
    "    id: int = doctable.Col(primary_key=True, autoincrement=True) # can also use doctable.IDCol() as a shortcut\n",
    "    name: str = doctable.Col()\n",
    "    age: int = doctable.Col()\n",
    "\n",
    "# the schema that would result from this dataclass:\n",
    "doctable.DocTable(target=':memory:', schema=Record).schema_table()"
   ]
  },
  {
   "cell_type": "markdown",
   "metadata": {},
   "source": [
    "There are several other custom column types I included for convenience."
   ]
  },
  {
   "cell_type": "code",
   "execution_count": 21,
   "metadata": {},
   "outputs": [
    {
     "data": {
      "text/html": [
       "<div>\n",
       "<style scoped>\n",
       "    .dataframe tbody tr th:only-of-type {\n",
       "        vertical-align: middle;\n",
       "    }\n",
       "\n",
       "    .dataframe tbody tr th {\n",
       "        vertical-align: top;\n",
       "    }\n",
       "\n",
       "    .dataframe thead th {\n",
       "        text-align: right;\n",
       "    }\n",
       "</style>\n",
       "<table border=\"1\" class=\"dataframe\">\n",
       "  <thead>\n",
       "    <tr style=\"text-align: right;\">\n",
       "      <th></th>\n",
       "      <th>name</th>\n",
       "      <th>type</th>\n",
       "      <th>nullable</th>\n",
       "      <th>default</th>\n",
       "      <th>autoincrement</th>\n",
       "      <th>primary_key</th>\n",
       "    </tr>\n",
       "  </thead>\n",
       "  <tbody>\n",
       "    <tr>\n",
       "      <th>0</th>\n",
       "      <td>id</td>\n",
       "      <td>INTEGER</td>\n",
       "      <td>False</td>\n",
       "      <td>None</td>\n",
       "      <td>auto</td>\n",
       "      <td>1</td>\n",
       "    </tr>\n",
       "    <tr>\n",
       "      <th>1</th>\n",
       "      <td>added</td>\n",
       "      <td>BLOB</td>\n",
       "      <td>True</td>\n",
       "      <td>None</td>\n",
       "      <td>auto</td>\n",
       "      <td>0</td>\n",
       "    </tr>\n",
       "    <tr>\n",
       "      <th>2</th>\n",
       "      <td>updated</td>\n",
       "      <td>BLOB</td>\n",
       "      <td>True</td>\n",
       "      <td>None</td>\n",
       "      <td>auto</td>\n",
       "      <td>0</td>\n",
       "    </tr>\n",
       "    <tr>\n",
       "      <th>3</th>\n",
       "      <td>name</td>\n",
       "      <td>VARCHAR</td>\n",
       "      <td>True</td>\n",
       "      <td>None</td>\n",
       "      <td>auto</td>\n",
       "      <td>0</td>\n",
       "    </tr>\n",
       "    <tr>\n",
       "      <th>4</th>\n",
       "      <td>is_old</td>\n",
       "      <td>BOOLEAN</td>\n",
       "      <td>True</td>\n",
       "      <td>None</td>\n",
       "      <td>auto</td>\n",
       "      <td>0</td>\n",
       "    </tr>\n",
       "  </tbody>\n",
       "</table>\n",
       "</div>"
      ],
      "text/plain": [
       "      name     type  nullable default autoincrement  primary_key\n",
       "0       id  INTEGER     False    None          auto            1\n",
       "1    added     BLOB      True    None          auto            0\n",
       "2  updated     BLOB      True    None          auto            0\n",
       "3     name  VARCHAR      True    None          auto            0\n",
       "4   is_old  BOOLEAN      True    None          auto            0"
      ]
     },
     "execution_count": 21,
     "metadata": {},
     "output_type": "execute_result"
    }
   ],
   "source": [
    "import datetime\n",
    "@doctable.row\n",
    "class Record:\n",
    "    __slots__ = []\n",
    "    id: int = doctable.IDCol() # auto-increment primary key\n",
    "    added: datetime = doctable. AddedCol() # record when row was added\n",
    "    updated: datetime = doctable.UpdatedCol() # record when row was updated\n",
    "    name: str = doctable.Col()\n",
    "    is_old: bool = doctable.Col()\n",
    "\n",
    "# the schema that would result from this dataclass:\n",
    "doctable.DocTable(target=':memory:', schema=Record).schema_table()"
   ]
  },
  {
   "cell_type": "code",
   "execution_count": null,
   "metadata": {},
   "outputs": [],
   "source": []
  },
  {
   "cell_type": "code",
   "execution_count": null,
   "metadata": {},
   "outputs": [],
   "source": []
  },
  {
   "cell_type": "code",
   "execution_count": 3,
   "metadata": {},
   "outputs": [
    {
     "data": {
      "text/plain": [
       "{'biginteger': sqlalchemy.sql.sqltypes.BigInteger,\n",
       " 'boolean': sqlalchemy.sql.sqltypes.Boolean,\n",
       " 'date': sqlalchemy.sql.sqltypes.Date,\n",
       " 'datetime': sqlalchemy.sql.sqltypes.DateTime,\n",
       " 'enum': sqlalchemy.sql.sqltypes.Enum,\n",
       " 'float': sqlalchemy.sql.sqltypes.Float,\n",
       " 'integer': sqlalchemy.sql.sqltypes.Integer,\n",
       " 'interval': sqlalchemy.sql.sqltypes.Interval,\n",
       " 'largebinary': sqlalchemy.sql.sqltypes.LargeBinary,\n",
       " 'numeric': sqlalchemy.sql.sqltypes.Numeric,\n",
       " 'smallinteger': sqlalchemy.sql.sqltypes.SmallInteger,\n",
       " 'string': sqlalchemy.sql.sqltypes.String,\n",
       " 'text': sqlalchemy.sql.sqltypes.Text,\n",
       " 'time': sqlalchemy.sql.sqltypes.Time,\n",
       " 'unicode': sqlalchemy.sql.sqltypes.Unicode,\n",
       " 'unicodetext': sqlalchemy.sql.sqltypes.UnicodeText,\n",
       " 'json': doctable.schemas.custom_coltypes.JSONType,\n",
       " 'pickle': doctable.schemas.custom_coltypes.CpickleType,\n",
       " 'parsetree': doctable.schemas.custom_coltypes.ParseTreeDocFileType,\n",
       " 'picklefile': doctable.schemas.custom_coltypes.PickleFileType,\n",
       " 'textfile': doctable.schemas.custom_coltypes.TextFileType}"
      ]
     },
     "execution_count": 3,
     "metadata": {},
     "output_type": "execute_result"
    }
   ],
   "source": [
    "doctable.string_to_sqlalchemy_type"
   ]
  },
  {
   "cell_type": "code",
   "execution_count": 4,
   "metadata": {},
   "outputs": [
    {
     "ename": "SlotsRequiredError",
     "evalue": "Slots must be enabled by including \"__slots__ = []\".                 Otherwise set doctable.row(require_slots=False).",
     "output_type": "error",
     "traceback": [
      "\u001b[0;31m---------------------------------------------------------------------------\u001b[0m",
      "\u001b[0;31mSlotsRequiredError\u001b[0m                        Traceback (most recent call last)",
      "\u001b[0;32m<ipython-input-4-d190655a10d1>\u001b[0m in \u001b[0;36m<module>\u001b[0;34m\u001b[0m\n\u001b[1;32m      3\u001b[0m \u001b[0;34m\u001b[0m\u001b[0m\n\u001b[1;32m      4\u001b[0m \u001b[0;34m@\u001b[0m\u001b[0mdoctable\u001b[0m\u001b[0;34m.\u001b[0m\u001b[0mrow\u001b[0m\u001b[0;34m\u001b[0m\u001b[0;34m\u001b[0m\u001b[0m\n\u001b[0;32m----> 5\u001b[0;31m \u001b[0;32mclass\u001b[0m \u001b[0mRecord\u001b[0m\u001b[0;34m:\u001b[0m\u001b[0;34m\u001b[0m\u001b[0;34m\u001b[0m\u001b[0m\n\u001b[0m\u001b[1;32m      6\u001b[0m \u001b[0;34m\u001b[0m\u001b[0m\n\u001b[1;32m      7\u001b[0m     \u001b[0;31m# custom doctable column types\u001b[0m\u001b[0;34m\u001b[0m\u001b[0;34m\u001b[0m\u001b[0;34m\u001b[0m\u001b[0m\n",
      "\u001b[0;32m~/code/doctable/doctable/schemas/rowdecorator.py\u001b[0m in \u001b[0;36mrow\u001b[0;34m(_Cls, require_slots, **dataclass_kwargs)\u001b[0m\n\u001b[1;32m     36\u001b[0m         \u001b[0;32mreturn\u001b[0m \u001b[0mdecorator_row\u001b[0m\u001b[0;34m\u001b[0m\u001b[0;34m\u001b[0m\u001b[0m\n\u001b[1;32m     37\u001b[0m     \u001b[0;32melse\u001b[0m\u001b[0;34m:\u001b[0m\u001b[0;34m\u001b[0m\u001b[0;34m\u001b[0m\u001b[0m\n\u001b[0;32m---> 38\u001b[0;31m         \u001b[0;32mreturn\u001b[0m \u001b[0mdecorator_row\u001b[0m\u001b[0;34m(\u001b[0m\u001b[0m_Cls\u001b[0m\u001b[0;34m)\u001b[0m\u001b[0;34m\u001b[0m\u001b[0;34m\u001b[0m\u001b[0m\n\u001b[0m\u001b[1;32m     39\u001b[0m \u001b[0;34m\u001b[0m\u001b[0m\n\u001b[1;32m     40\u001b[0m \u001b[0;34m\u001b[0m\u001b[0m\n",
      "\u001b[0;32m~/code/doctable/doctable/schemas/rowdecorator.py\u001b[0m in \u001b[0;36mdecorator_row\u001b[0;34m(Cls)\u001b[0m\n\u001b[1;32m     24\u001b[0m         \u001b[0mCls\u001b[0m \u001b[0;34m=\u001b[0m \u001b[0mdataclasses\u001b[0m\u001b[0;34m.\u001b[0m\u001b[0mdataclass\u001b[0m\u001b[0;34m(\u001b[0m\u001b[0mCls\u001b[0m\u001b[0;34m,\u001b[0m \u001b[0;34m**\u001b[0m\u001b[0mdataclass_kwargs\u001b[0m\u001b[0;34m)\u001b[0m\u001b[0;34m\u001b[0m\u001b[0;34m\u001b[0m\u001b[0m\n\u001b[1;32m     25\u001b[0m         \u001b[0;32mif\u001b[0m \u001b[0mrequire_slots\u001b[0m \u001b[0;32mand\u001b[0m \u001b[0;32mnot\u001b[0m \u001b[0mhasattr\u001b[0m\u001b[0;34m(\u001b[0m\u001b[0mCls\u001b[0m\u001b[0;34m,\u001b[0m \u001b[0;34m'__slots__'\u001b[0m\u001b[0;34m)\u001b[0m\u001b[0;34m:\u001b[0m\u001b[0;34m\u001b[0m\u001b[0;34m\u001b[0m\u001b[0m\n\u001b[0;32m---> 26\u001b[0;31m             \u001b[0;32mraise\u001b[0m \u001b[0mSlotsRequiredError\u001b[0m\u001b[0;34m(\u001b[0m\u001b[0;34m)\u001b[0m\u001b[0;34m\u001b[0m\u001b[0;34m\u001b[0m\u001b[0m\n\u001b[0m\u001b[1;32m     27\u001b[0m \u001b[0;34m\u001b[0m\u001b[0m\n\u001b[1;32m     28\u001b[0m         \u001b[0;31m# add slots\u001b[0m\u001b[0;34m\u001b[0m\u001b[0;34m\u001b[0m\u001b[0;34m\u001b[0m\u001b[0m\n",
      "\u001b[0;31mSlotsRequiredError\u001b[0m: Slots must be enabled by including \"__slots__ = []\".                 Otherwise set doctable.row(require_slots=False)."
     ]
    }
   ],
   "source": [
    "from datetime import datetime\n",
    "\n",
    "@doctable.row\n",
    "class Record:\n",
    "    \n",
    "    # custom doctable column types\n",
    "    id: int = doctable.IDCol() # auto-increment primary key\n",
    "    added: datetime = doctable. AddedCol() # record when row was added\n",
    "    updated: datetime = doctable.UpdatedCol() # record when row was updated\n",
    "    \n",
    "    # generic column object.\n",
    "    # Keyword arguments are passed directly to sqlalchemy Column constructor\n",
    "    name: str = doctable.Col(nullable=False)\n",
    "    \n",
    "    # first argument is default value or factory (automatically determined)\n",
    "    num_siblings: int = doctable.Col(0)\n",
    "        \n",
    "    # this will be stored as a binary type in sql\n",
    "    friends: list = doctable.Col(list)\n",
    "    \n",
    "    # can also use regular scalar default values\n",
    "    age: int = 6\n",
    "    is_old: bool = None\n",
    "        \n",
    "    # indices and constraints - these are used by DocTableRow objects\n",
    "    _indices_ = {\n",
    "        # SQLAlchemy: Index('name_index', 'name')\n",
    "        'name_index': ('name',),\n",
    "        \n",
    "        # SQLAlchemy: Index('name_age_index', 'name', 'age', unique=True)\n",
    "        'name_age_index': ('name', 'age', {'unique':True}),\n",
    "    }\n",
    "    \n",
    "    # add constraints to table\n",
    "    _constraints_ = (\n",
    "        \n",
    "        #SQLAlchemy:  UniqueConstraint('name', 'age')\n",
    "        ('unique', 'name', 'age'),\n",
    "        \n",
    "        #SQLAlchemy: CheckConstraint('age > 0', name='check_age')\n",
    "        ('check', 'age > 0', {'name':'check_age'}), \n",
    "        \n",
    "        #('foreignkey', ('a','b'), ('c','d')),\n",
    "    )\n",
    "        \n",
    "        \n",
    "    # doctable method to execute after constructor is created\n",
    "    def __post_init__(self):\n",
    "        self.is_old = age > 28\n",
    "        \n",
    "    # any custom method the user would like to add\n",
    "    @property\n",
    "    def num_friends(self):\n",
    "        return len(self.friends)\n",
    "    \n",
    "    \n",
    "db = doctable.DocTable(target=':memory:', schema=Record)\n",
    "db.schema_table()"
   ]
  },
  {
   "cell_type": "markdown",
   "metadata": {},
   "source": [
    "## List Schemas\n",
    "And this is another example showing the list schema format."
   ]
  },
  {
   "cell_type": "code",
   "execution_count": 5,
   "metadata": {},
   "outputs": [
    {
     "data": {
      "text/html": [
       "<div>\n",
       "<style scoped>\n",
       "    .dataframe tbody tr th:only-of-type {\n",
       "        vertical-align: middle;\n",
       "    }\n",
       "\n",
       "    .dataframe tbody tr th {\n",
       "        vertical-align: top;\n",
       "    }\n",
       "\n",
       "    .dataframe thead th {\n",
       "        text-align: right;\n",
       "    }\n",
       "</style>\n",
       "<table border=\"1\" class=\"dataframe\">\n",
       "  <thead>\n",
       "    <tr style=\"text-align: right;\">\n",
       "      <th></th>\n",
       "      <th>name</th>\n",
       "      <th>type</th>\n",
       "      <th>nullable</th>\n",
       "      <th>default</th>\n",
       "      <th>autoincrement</th>\n",
       "      <th>primary_key</th>\n",
       "    </tr>\n",
       "  </thead>\n",
       "  <tbody>\n",
       "    <tr>\n",
       "      <th>0</th>\n",
       "      <td>id</td>\n",
       "      <td>INTEGER</td>\n",
       "      <td>False</td>\n",
       "      <td>None</td>\n",
       "      <td>auto</td>\n",
       "      <td>1</td>\n",
       "    </tr>\n",
       "    <tr>\n",
       "      <th>1</th>\n",
       "      <td>category</td>\n",
       "      <td>VARCHAR</td>\n",
       "      <td>False</td>\n",
       "      <td>None</td>\n",
       "      <td>auto</td>\n",
       "      <td>0</td>\n",
       "    </tr>\n",
       "    <tr>\n",
       "      <th>2</th>\n",
       "      <td>title</td>\n",
       "      <td>VARCHAR</td>\n",
       "      <td>False</td>\n",
       "      <td>None</td>\n",
       "      <td>auto</td>\n",
       "      <td>0</td>\n",
       "    </tr>\n",
       "    <tr>\n",
       "      <th>3</th>\n",
       "      <td>abstract</td>\n",
       "      <td>VARCHAR</td>\n",
       "      <td>True</td>\n",
       "      <td>None</td>\n",
       "      <td>auto</td>\n",
       "      <td>0</td>\n",
       "    </tr>\n",
       "    <tr>\n",
       "      <th>4</th>\n",
       "      <td>age</td>\n",
       "      <td>INTEGER</td>\n",
       "      <td>True</td>\n",
       "      <td>None</td>\n",
       "      <td>auto</td>\n",
       "      <td>0</td>\n",
       "    </tr>\n",
       "    <tr>\n",
       "      <th>5</th>\n",
       "      <td>updated_on</td>\n",
       "      <td>DATETIME</td>\n",
       "      <td>True</td>\n",
       "      <td>None</td>\n",
       "      <td>auto</td>\n",
       "      <td>0</td>\n",
       "    </tr>\n",
       "    <tr>\n",
       "      <th>6</th>\n",
       "      <td>text</td>\n",
       "      <td>VARCHAR(500)</td>\n",
       "      <td>True</td>\n",
       "      <td>None</td>\n",
       "      <td>auto</td>\n",
       "      <td>0</td>\n",
       "    </tr>\n",
       "    <tr>\n",
       "      <th>7</th>\n",
       "      <td>json_data</td>\n",
       "      <td>VARCHAR</td>\n",
       "      <td>True</td>\n",
       "      <td>None</td>\n",
       "      <td>auto</td>\n",
       "      <td>0</td>\n",
       "    </tr>\n",
       "    <tr>\n",
       "      <th>8</th>\n",
       "      <td>tokenized</td>\n",
       "      <td>BLOB</td>\n",
       "      <td>True</td>\n",
       "      <td>None</td>\n",
       "      <td>auto</td>\n",
       "      <td>0</td>\n",
       "    </tr>\n",
       "  </tbody>\n",
       "</table>\n",
       "</div>"
      ],
      "text/plain": [
       "         name          type  nullable default autoincrement  primary_key\n",
       "0          id       INTEGER     False    None          auto            1\n",
       "1    category       VARCHAR     False    None          auto            0\n",
       "2       title       VARCHAR     False    None          auto            0\n",
       "3    abstract       VARCHAR      True    None          auto            0\n",
       "4         age       INTEGER      True    None          auto            0\n",
       "5  updated_on      DATETIME      True    None          auto            0\n",
       "6        text  VARCHAR(500)      True    None          auto            0\n",
       "7   json_data       VARCHAR      True    None          auto            0\n",
       "8   tokenized          BLOB      True    None          auto            0"
      ]
     },
     "execution_count": 5,
     "metadata": {},
     "output_type": "execute_result"
    }
   ],
   "source": [
    "schema = (\n",
    "    # standard id column\n",
    "    #SQLAlchemy: Column('id', Integer, primary_key = True, autoincrement=True), \n",
    "    ('integer', 'id', dict(primary_key=True, autoincrement=True)),\n",
    "    # short form (can't provide any additional args though): ('idcol', 'id')\n",
    "\n",
    "    # make a category column with two options: \"FICTION\" and \"NONFICTION\"\n",
    "    #SQLAlchemy: Column('title', String,)\n",
    "    ('string', 'category', dict(nullable=False)),\n",
    "\n",
    "    # make a non-null title column\n",
    "    #SQLAlchemy: Column('title', String,)\n",
    "    ('string', 'title', dict(nullable=False)),\n",
    "\n",
    "    # make an abstract where the default is an empty string instead of null\n",
    "    #SQLAlchemy: Column('abstract', String, default='')\n",
    "    ('string', 'abstract',dict(default='')),\n",
    "\n",
    "    # make an age column where age must be greater than zero\n",
    "    #SQLAlchemy: Column('abstract', Integer)\n",
    "    ('integer', 'age'),\n",
    "\n",
    "    # make a column that keeps track of column updates\n",
    "    #SQLAlchemy: Column('updated_on', DateTime(), default=datetime.now, onupdate=datetime.now)\n",
    "    ('datetime', 'updated_on',  dict(default=datetime.now, onupdate=datetime.now)),\n",
    "    # short form to auto-record update date: ('date_updated', 'updated_on')\n",
    "    \n",
    "    #SQLAlchemy: Column('updated_on', DateTime(), default=datetime.now)\n",
    "    ('datetime', 'updated_on',  dict(default=datetime.now)),\n",
    "    # short form to auto-record insertion date: ('date_added', 'added_on')\n",
    "\n",
    "    # make a string column with max of 500 characters\n",
    "    #SQLAlchemy: Column('abstract', String, default='')\n",
    "    ('string', 'text',dict(),dict(length=500)),\n",
    "\n",
    "    \n",
    "    ##### Custom DocTable Column Types #####\n",
    "    \n",
    "    # uses json.dump to convert python object to json when storing and\n",
    "    # json.load to convert json back to python when querying\n",
    "    ('json','json_data'),\n",
    "    \n",
    "    # stores pickled python object directly in table as BLOB\n",
    "    # TokensType and ParagraphsType are defined in doctable/coltypes.py\n",
    "    # SQLAlchemy: Column('tokenized', TokensType), Column('sentencized', ParagraphsType)\n",
    "    ('pickle','tokenized'),\n",
    "    \n",
    "    # store pickled data into a separate file, recording only filename directly in table\n",
    "    # the 'fpath' argument can specify where the files should be placed, but by\n",
    "    # default they are stored in <dbname>_<tablename>_<columnname>\n",
    "    #('picklefile', 'pickle_obj', dict(), dict(fpath='folder_for_picklefiles')),\n",
    "    \n",
    "    # very similar to above, but use only when storing text data\n",
    "    #('textfile', 'text_file'), # similar to above\n",
    "    \n",
    "    \n",
    "    ##### Constraints #####\n",
    "    \n",
    "    #SQLAlchemy: CheckConstraint('category in (\"FICTION\",\"NONFICTION\")', name='salary_check')\n",
    "    ('check_constraint', 'category in (\"FICTION\",\"NONFICTION\")', dict(name='salary_check')),\n",
    "    \n",
    "    #SQLAlchemy: CheckConstraint('age > 0')\n",
    "    ('check_constraint', 'age > 0'),\n",
    "    \n",
    "    # make sure each category/title entry is unique\n",
    "    #SQLAlchemy:  UniqueConstraint('category', 'title', name='work_key')\n",
    "    ('unique_constraint', ['category','title'], dict(name='work_key')),\n",
    "    \n",
    "    # makes a foreign key from the 'subkey' column of this table to the 'id'\n",
    "    # column of ANOTHERDOCTABLE, setting the SQL onupdate and ondelete foreign key constraints\n",
    "    #('foreignkey_constraint', [['subkey'], [ANOTHERDOCTABLE['id']]], {}, dict(onupdate=\"CASCADE\", ondelete=\"CASCADE\")),\n",
    "    #NOTE: Can't show here because we didn't make ANOTHERDOCTABLE\n",
    "    \n",
    "    ##### Indexes ######\n",
    "    \n",
    "    # make index table\n",
    "    # SQLAlchemy: Index('ind0', 'category', 'title', unique=True)\n",
    "    ('index', 'ind0', ('category','title'),dict(unique=True)),\n",
    "    \n",
    ")\n",
    "md = doctable.DocTable(target=':memory:', schema=schema, verbose=True)\n",
    "md.schema_table()"
   ]
  }
 ],
 "metadata": {
  "kernelspec": {
   "display_name": "Python 3",
   "language": "python",
   "name": "python3"
  },
  "language_info": {
   "codemirror_mode": {
    "name": "ipython",
    "version": 3
   },
   "file_extension": ".py",
   "mimetype": "text/x-python",
   "name": "python",
   "nbconvert_exporter": "python",
   "pygments_lexer": "ipython3",
   "version": "3.8.5"
  }
 },
 "nbformat": 4,
 "nbformat_minor": 4
}
