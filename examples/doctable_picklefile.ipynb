{
 "cells": [
  {
   "cell_type": "markdown",
   "source": [
    "# DocTable Example: Pickle and Text Files\n",
    "Here I show a bit about how to use `picklefile` and `textfile` column types. DocTable transparently handles saving and reading column data as separate files when data is large to improve performance of select queries. It will automatically create a folder in the same directory as your sqlite database and save or read file data as if you were working with a regular table entry."
   ],
   "metadata": {}
  },
  {
   "cell_type": "code",
   "execution_count": 1,
   "source": [
    "import os\n",
    "import sys\n",
    "sys.path.append('..')\n",
    "import doctable"
   ],
   "outputs": [],
   "metadata": {}
  },
  {
   "cell_type": "code",
   "execution_count": 2,
   "source": [
    "tmp = doctable.TempFolder('./tmp') # will delete folder upon destruction\n",
    "\n",
    "# create column schema: each row corresponds to a pickle\n",
    "import dataclasses\n",
    "@doctable.schema(require_slots=False)\n",
    "class FileEntry:\n",
    "    pic: list = doctable.Col(column_type='picklefile', type_kwargs=dict(folder=tmp.path))\n",
    "    idx: int = doctable.IDCol()\n",
    "    \n",
    "db = doctable.DocTable(schema=FileEntry, target=':memory:')"
   ],
   "outputs": [],
   "metadata": {}
  },
  {
   "cell_type": "markdown",
   "source": [
    "First we try inserting a basic object, where the data will be stored in a pickle file. We can see from the `select` statement that the data read/write is handled transparently by doctable."
   ],
   "metadata": {}
  },
  {
   "cell_type": "code",
   "execution_count": 3,
   "source": [
    "a = [1, 2, 3, 4, 5]\n",
    "db.insert(FileEntry(a))\n",
    "db.select() # regular select using the picklefile datatype"
   ],
   "outputs": [
    {
     "output_type": "stream",
     "name": "stdout",
     "text": [
      "BINDING MF PARAMSSSSSSS\n",
      "PROCESSING MF PARAMSSSSSSS\n"
     ]
    },
    {
     "output_type": "execute_result",
     "data": {
      "text/plain": [
       "[FileEntry(pic=[1, 2, 3, 4, 5], idx=1)]"
      ]
     },
     "metadata": {},
     "execution_count": 3
    }
   ],
   "metadata": {}
  },
  {
   "cell_type": "markdown",
   "source": [
    "We can also try turning off the transparent conversion, and instead retrieve the regular directory."
   ],
   "metadata": {}
  },
  {
   "cell_type": "code",
   "execution_count": 4,
   "source": [
    "with db['pic'].type.control:\n",
    "    r = db.select()\n",
    "r"
   ],
   "outputs": [
    {
     "output_type": "stream",
     "name": "stdout",
     "text": [
      "PROCESSING MF PARAMSSSSSSS\n"
     ]
    },
    {
     "output_type": "execute_result",
     "data": {
      "text/plain": [
       "[FileEntry(pic='tmp/564814847383.pic', idx=1)]"
      ]
     },
     "metadata": {},
     "execution_count": 4
    }
   ],
   "metadata": {}
  },
  {
   "cell_type": "markdown",
   "source": [
    "For performance reasons, DocTable never deletes stored file data unless you call the `.clean_col_files()` method directly. It will raise an exception if a referenced file is missing, and delete all files which are not referenced in the table. This is a costly function call, but a good way to make sure your database is 1-1 matched with your filesystem."
   ],
   "metadata": {}
  },
  {
   "cell_type": "code",
   "execution_count": 5,
   "source": [
    "# deletes files not in db and raise error if some db files not in filesystem\n",
    "db.clean_col_files('pic')"
   ],
   "outputs": [
    {
     "output_type": "stream",
     "name": "stdout",
     "text": [
      "PROCESSING MF PARAMSSSSSSS\n"
     ]
    }
   ],
   "metadata": {}
  },
  {
   "cell_type": "markdown",
   "source": [
    "Now I create another DocTable with a changed `fpath` argument. Because the argument changed, DocTable will raise an exception when selecting or calling `.clean_col_files()`. Be wary of this!"
   ],
   "metadata": {}
  },
  {
   "cell_type": "code",
   "execution_count": 6,
   "source": [
    "tmp.rmtree()"
   ],
   "outputs": [],
   "metadata": {}
  }
 ],
 "metadata": {
  "kernelspec": {
   "name": "python3",
   "display_name": "Python 3.8.5 64-bit ('base': conda)"
  },
  "language_info": {
   "codemirror_mode": {
    "name": "ipython",
    "version": 3
   },
   "file_extension": ".py",
   "mimetype": "text/x-python",
   "name": "python",
   "nbconvert_exporter": "python",
   "pygments_lexer": "ipython3",
   "version": "3.8.5"
  },
  "interpreter": {
   "hash": "80712910726593b564a07c7ac6087ce3072c1b43af7fa58c28aea85a2c346dd3"
  }
 },
 "nbformat": 4,
 "nbformat_minor": 4
}