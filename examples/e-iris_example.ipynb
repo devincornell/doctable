{
 "cells": [
  {
   "cell_type": "markdown",
   "metadata": {},
   "source": [
    "# Iris Vignette\n",
    "\n",
    "Here I will demonstrate the use of `doctable` to store and analyze components of the classic iris dataset. This dataset is a collection of measurements of three different species of iris flowers."
   ]
  },
  {
   "cell_type": "code",
   "execution_count": 1,
   "metadata": {},
   "outputs": [],
   "source": [
    "from __future__ import annotations\n",
    "import pprint\n",
    "import pandas as pd\n",
    "import sqlalchemy\n",
    "\n",
    "import sys\n",
    "sys.path.append('../')\n",
    "import doctable"
   ]
  },
  {
   "cell_type": "markdown",
   "metadata": {},
   "source": [
    "The iris dataset is simply a list of flowers with information about the sepal, petal, and species."
   ]
  },
  {
   "cell_type": "code",
   "execution_count": 2,
   "metadata": {},
   "outputs": [
    {
     "data": {
      "text/html": [
       "<div>\n",
       "<style scoped>\n",
       "    .dataframe tbody tr th:only-of-type {\n",
       "        vertical-align: middle;\n",
       "    }\n",
       "\n",
       "    .dataframe tbody tr th {\n",
       "        vertical-align: top;\n",
       "    }\n",
       "\n",
       "    .dataframe thead th {\n",
       "        text-align: right;\n",
       "    }\n",
       "</style>\n",
       "<table border=\"1\" class=\"dataframe\">\n",
       "  <thead>\n",
       "    <tr style=\"text-align: right;\">\n",
       "      <th></th>\n",
       "      <th>sepal_length</th>\n",
       "      <th>sepal_width</th>\n",
       "      <th>petal_length</th>\n",
       "      <th>petal_width</th>\n",
       "      <th>species</th>\n",
       "    </tr>\n",
       "  </thead>\n",
       "  <tbody>\n",
       "    <tr>\n",
       "      <th>0</th>\n",
       "      <td>5.1</td>\n",
       "      <td>3.5</td>\n",
       "      <td>1.4</td>\n",
       "      <td>0.2</td>\n",
       "      <td>setosa</td>\n",
       "    </tr>\n",
       "    <tr>\n",
       "      <th>1</th>\n",
       "      <td>4.9</td>\n",
       "      <td>3.0</td>\n",
       "      <td>1.4</td>\n",
       "      <td>0.2</td>\n",
       "      <td>setosa</td>\n",
       "    </tr>\n",
       "    <tr>\n",
       "      <th>2</th>\n",
       "      <td>4.7</td>\n",
       "      <td>3.2</td>\n",
       "      <td>1.3</td>\n",
       "      <td>0.2</td>\n",
       "      <td>setosa</td>\n",
       "    </tr>\n",
       "    <tr>\n",
       "      <th>3</th>\n",
       "      <td>4.6</td>\n",
       "      <td>3.1</td>\n",
       "      <td>1.5</td>\n",
       "      <td>0.2</td>\n",
       "      <td>setosa</td>\n",
       "    </tr>\n",
       "    <tr>\n",
       "      <th>4</th>\n",
       "      <td>5.0</td>\n",
       "      <td>3.6</td>\n",
       "      <td>1.4</td>\n",
       "      <td>0.2</td>\n",
       "      <td>setosa</td>\n",
       "    </tr>\n",
       "  </tbody>\n",
       "</table>\n",
       "</div>"
      ],
      "text/plain": [
       "   sepal_length  sepal_width  petal_length  petal_width species\n",
       "0           5.1          3.5           1.4          0.2  setosa\n",
       "1           4.9          3.0           1.4          0.2  setosa\n",
       "2           4.7          3.2           1.3          0.2  setosa\n",
       "3           4.6          3.1           1.5          0.2  setosa\n",
       "4           5.0          3.6           1.4          0.2  setosa"
      ]
     },
     "execution_count": 2,
     "metadata": {},
     "output_type": "execute_result"
    }
   ],
   "source": [
    "iris_df = pd.read_csv('https://raw.githubusercontent.com/mwaskom/seaborn-data/master/iris.csv')\n",
    "iris_df.head()"
   ]
  },
  {
   "cell_type": "markdown",
   "metadata": {},
   "source": [
    "Start by opening a connection to the database with a `ConnectCore` object. This object maintains the sqlalchemy metatdata, engine, and connections and is used to access all objects representing tables, queries, and more."
   ]
  },
  {
   "cell_type": "code",
   "execution_count": 3,
   "metadata": {},
   "outputs": [
    {
     "data": {
      "text/plain": [
       "ConnectCore(target=':memory:', dialect='sqlite', engine=Engine(sqlite:///:memory:), metadata=MetaData())"
      ]
     },
     "execution_count": 3,
     "metadata": {},
     "output_type": "execute_result"
    }
   ],
   "source": [
    "core = doctable.ConnectCore.open(\n",
    "    target=':memory:', # use a filename for a sqlite to write to disk\n",
    "    dialect='sqlite',\n",
    "    echo=True,\n",
    ")\n",
    "core"
   ]
  },
  {
   "cell_type": "markdown",
   "metadata": {},
   "source": [
    "Define a table using the `table_schema` decorator and listing attributes as you would a dataframe. To give more detail about a column, you can set the default value to `Column()`, which accepts `FieldArgs` to control the behavior of the dataframe container object, and `ColumnArgs()` to control behavior related to the database schema."
   ]
  },
  {
   "cell_type": "code",
   "execution_count": 4,
   "metadata": {},
   "outputs": [
    {
     "data": {
      "text/plain": [
       "Iris(sepal_length=1, sepal_width=2, petal_length=3, petal_width=4, species='setosa', id=MISSING, updated=MISSING, added=MISSING)"
      ]
     },
     "execution_count": 4,
     "metadata": {},
     "output_type": "execute_result"
    }
   ],
   "source": [
    "import datetime\n",
    "\n",
    "@doctable.table_schema(table_name='iris', slots=True)\n",
    "class Iris:\n",
    "    sepal_length: float\n",
    "    sepal_width: float\n",
    "    petal_length: float\n",
    "    petal_width: float\n",
    "    species: str\n",
    "    \n",
    "    id: int = doctable.Column(\n",
    "        column_args=doctable.ColumnArgs(order=0, primary_key=True, autoincrement=True),\n",
    "    )\n",
    "    updated: datetime.datetime = doctable.Column(\n",
    "        column_args=doctable.ColumnArgs(default=datetime.datetime.utcnow),\n",
    "    )\n",
    "    added: datetime.datetime = doctable.Column(\n",
    "        column_args=doctable.ColumnArgs(\n",
    "            default=datetime.datetime.utcnow, \n",
    "            onupdate=datetime.datetime.utcnow\n",
    "        )\n",
    "    )\n",
    "    \n",
    "    @classmethod\n",
    "    def from_row(cls, row: pd.Series):\n",
    "        return cls(**row)\n",
    "\n",
    "Iris(sepal_length=1, sepal_width=2, petal_length=3, petal_width=4, species='setosa')"
   ]
  },
  {
   "cell_type": "markdown",
   "metadata": {},
   "source": [
    "We can start by creating new container object instances using the factory method constructor we created."
   ]
  },
  {
   "cell_type": "code",
   "execution_count": 5,
   "metadata": {},
   "outputs": [
    {
     "name": "stdout",
     "output_type": "stream",
     "text": [
      "Iris(sepal_length=5.1, sepal_width=3.5, petal_length=1.4, petal_width=0.2, species='setosa', id=MISSING, updated=MISSING, added=MISSING)\n"
     ]
    }
   ],
   "source": [
    "irises = [Iris.from_row(row) for _, row in iris_df.iterrows()]\n",
    "print(irises[0])"
   ]
  },
  {
   "cell_type": "markdown",
   "metadata": {},
   "source": [
    "Use the `begin_ddl()` context manager to create database tables."
   ]
  },
  {
   "cell_type": "code",
   "execution_count": 22,
   "metadata": {},
   "outputs": [
    {
     "name": "stdout",
     "output_type": "stream",
     "text": [
      "2023-11-07 18:23:30,147 INFO sqlalchemy.engine.Engine BEGIN (implicit)\n",
      "2023-11-07 18:23:30,154 INFO sqlalchemy.engine.Engine PRAGMA main.table_info(\"species\")\n",
      "2023-11-07 18:23:30,156 INFO sqlalchemy.engine.Engine [raw sql] ()\n",
      "2023-11-07 18:23:30,156 INFO sqlalchemy.engine.Engine PRAGMA main.table_info(\"iris_entry\")\n",
      "2023-11-07 18:23:30,157 INFO sqlalchemy.engine.Engine [raw sql] ()\n",
      "2023-11-07 18:23:30,158 INFO sqlalchemy.engine.Engine PRAGMA main.table_info(\"iris\")\n",
      "2023-11-07 18:23:30,159 INFO sqlalchemy.engine.Engine [raw sql] ()\n",
      "2023-11-07 18:23:30,160 INFO sqlalchemy.engine.Engine PRAGMA temp.table_info(\"iris\")\n",
      "2023-11-07 18:23:30,160 INFO sqlalchemy.engine.Engine [raw sql] ()\n",
      "2023-11-07 18:23:30,162 INFO sqlalchemy.engine.Engine \n",
      "CREATE TABLE iris (\n",
      "\tid INTEGER, \n",
      "\tadded DATETIME, \n",
      "\tpetal_length FLOAT, \n",
      "\tpetal_width FLOAT, \n",
      "\tsepal_length FLOAT, \n",
      "\tsepal_width FLOAT, \n",
      "\tspecies VARCHAR, \n",
      "\tupdated DATETIME, \n",
      "\tPRIMARY KEY (id)\n",
      ")\n",
      "\n",
      "\n",
      "2023-11-07 18:23:30,163 INFO sqlalchemy.engine.Engine [no key 0.00088s] ()\n",
      "2023-11-07 18:23:30,164 INFO sqlalchemy.engine.Engine COMMIT\n",
      "2023-11-07 18:23:30,165 INFO sqlalchemy.engine.Engine BEGIN (implicit)\n",
      "2023-11-07 18:23:30,171 INFO sqlalchemy.engine.Engine PRAGMA main.table_xinfo(\"iris\")\n",
      "2023-11-07 18:23:30,172 INFO sqlalchemy.engine.Engine [raw sql] ()\n",
      "2023-11-07 18:23:30,173 INFO sqlalchemy.engine.Engine ROLLBACK\n"
     ]
    },
    {
     "data": {
      "text/plain": [
       "[{'name': 'id',\n",
       "  'type': INTEGER(),\n",
       "  'nullable': True,\n",
       "  'default': None,\n",
       "  'primary_key': 1},\n",
       " {'name': 'added',\n",
       "  'type': DATETIME(),\n",
       "  'nullable': True,\n",
       "  'default': None,\n",
       "  'primary_key': 0},\n",
       " {'name': 'petal_length',\n",
       "  'type': FLOAT(),\n",
       "  'nullable': True,\n",
       "  'default': None,\n",
       "  'primary_key': 0},\n",
       " {'name': 'petal_width',\n",
       "  'type': FLOAT(),\n",
       "  'nullable': True,\n",
       "  'default': None,\n",
       "  'primary_key': 0},\n",
       " {'name': 'sepal_length',\n",
       "  'type': FLOAT(),\n",
       "  'nullable': True,\n",
       "  'default': None,\n",
       "  'primary_key': 0},\n",
       " {'name': 'sepal_width',\n",
       "  'type': FLOAT(),\n",
       "  'nullable': True,\n",
       "  'default': None,\n",
       "  'primary_key': 0},\n",
       " {'name': 'species',\n",
       "  'type': VARCHAR(),\n",
       "  'nullable': True,\n",
       "  'default': None,\n",
       "  'primary_key': 0},\n",
       " {'name': 'updated',\n",
       "  'type': DATETIME(),\n",
       "  'nullable': True,\n",
       "  'default': None,\n",
       "  'primary_key': 0}]"
      ]
     },
     "execution_count": 22,
     "metadata": {},
     "output_type": "execute_result"
    }
   ],
   "source": [
    "with core.begin_ddl() as emitter:\n",
    "    itab = emitter.create_table_if_not_exists(Iris)\n",
    "itab.inspect_columns()"
   ]
  },
  {
   "cell_type": "markdown",
   "metadata": {},
   "source": [
    "## Running Queries\n",
    "\n",
    "### General Queries\n",
    "\n",
    "Use the `query()` method of `ConnectCore` to perform queries using the doctable interface."
   ]
  },
  {
   "cell_type": "code",
   "execution_count": 7,
   "metadata": {},
   "outputs": [
    {
     "name": "stdout",
     "output_type": "stream",
     "text": [
      "2023-11-07 15:57:55,319 INFO sqlalchemy.engine.Engine BEGIN (implicit)\n",
      "2023-11-07 15:57:55,320 INFO sqlalchemy.engine.Engine DELETE FROM iris\n",
      "2023-11-07 15:57:55,321 INFO sqlalchemy.engine.Engine [generated in 0.00228s] ()\n",
      "2023-11-07 15:57:55,325 INFO sqlalchemy.engine.Engine INSERT OR FAIL INTO iris (added, petal_length, petal_width, sepal_length, sepal_width, species, updated) VALUES (?, ?, ?, ?, ?, ?, ?)\n",
      "2023-11-07 15:57:55,326 INFO sqlalchemy.engine.Engine [generated in 0.00199s] ('2023-11-07 20:57:55.324953', 3.0, 4.0, 1.0, 2.0, 'setosa', '2023-11-07 20:57:55.324955')\n",
      "Insert multiple rows into the database using executemany-style \n",
      "            parameter binding.\n",
      "        \n",
      "2023-11-07 15:57:55,328 INFO sqlalchemy.engine.Engine INSERT OR FAIL INTO iris (added, petal_length, petal_width, sepal_length, sepal_width, species, updated) VALUES (?, ?, ?, ?, ?, ?, ?)\n",
      "2023-11-07 15:57:55,329 INFO sqlalchemy.engine.Engine [generated in 0.00088s] [('2023-11-07 20:57:55.328713', 3.0, 4.0, 1.0, 2.0, 'setosa', '2023-11-07 20:57:55.328715'), ('2023-11-07 20:57:55.328719', 3.0, 4.0, 1.0, 2.0, 'setosa', '2023-11-07 20:57:55.328720')]\n",
      "2023-11-07 15:57:55,332 INFO sqlalchemy.engine.Engine SELECT iris.id, iris.added, iris.petal_length, iris.petal_width, iris.sepal_length, iris.sepal_width, iris.species, iris.updated \n",
      "FROM iris\n",
      "2023-11-07 15:57:55,333 INFO sqlalchemy.engine.Engine [generated in 0.00102s] ()\n",
      "[(1, datetime.datetime(2023, 11, 7, 20, 57, 55, 324953), 3.0, 4.0, 1.0, 2.0, 'setosa', datetime.datetime(2023, 11, 7, 20, 57, 55, 324955)), (2, datetime.datetime(2023, 11, 7, 20, 57, 55, 328713), 3.0, 4.0, 1.0, 2.0, 'setosa', datetime.datetime(2023, 11, 7, 20, 57, 55, 328715)), (3, datetime.datetime(2023, 11, 7, 20, 57, 55, 328719), 3.0, 4.0, 1.0, 2.0, 'setosa', datetime.datetime(2023, 11, 7, 20, 57, 55, 328720))]\n",
      "2023-11-07 15:57:55,334 INFO sqlalchemy.engine.Engine COMMIT\n"
     ]
    }
   ],
   "source": [
    "with core.query() as q:\n",
    "    q.delete(itab, all=True)\n",
    "    q.insert_single(itab, {\n",
    "        'sepal_length': 1,'sepal_width': 2,'petal_length': 3,'petal_width': 4,'species': 'setosa'\n",
    "    })\n",
    "    print(q.insert_multi.__doc__)\n",
    "    q.insert_multi(itab, [\n",
    "        {'sepal_length': 1, 'sepal_width': 2, 'petal_length': 3, 'petal_width': 4, 'species': 'setosa'},\n",
    "        {'sepal_length': 1, 'sepal_width': 2, 'petal_length': 3, 'petal_width': 4, 'species': 'setosa'},\n",
    "    ])\n",
    "    print(q.select(itab.all_cols()).fetchall())"
   ]
  },
  {
   "cell_type": "markdown",
   "metadata": {},
   "source": [
    "Use `cols()` or `__call__()` to return a list of column objects associated with the given table. Column objects also have bound operators such as `sum()`, `max()`, and `distinct()` (see comment below for more)."
   ]
  },
  {
   "cell_type": "code",
   "execution_count": 8,
   "metadata": {},
   "outputs": [
    {
     "name": "stdout",
     "output_type": "stream",
     "text": [
      "2023-11-07 15:57:55,371 INFO sqlalchemy.engine.Engine BEGIN (implicit)\n",
      "2023-11-07 15:57:55,372 INFO sqlalchemy.engine.Engine SELECT iris.sepal_length, iris.sepal_width \n",
      "FROM iris\n",
      "2023-11-07 15:57:55,375 INFO sqlalchemy.engine.Engine [generated in 0.00435s] ()\n",
      "[(1.0, 2.0), (1.0, 2.0), (1.0, 2.0)]\n",
      "2023-11-07 15:57:55,377 INFO sqlalchemy.engine.Engine SELECT iris.sepal_length, iris.sepal_width \n",
      "FROM iris\n",
      "2023-11-07 15:57:55,377 INFO sqlalchemy.engine.Engine [cached since 0.006684s ago] ()\n",
      "[(1.0, 2.0), (1.0, 2.0), (1.0, 2.0)]\n",
      "2023-11-07 15:57:55,380 INFO sqlalchemy.engine.Engine SELECT distinct(iris.species) AS distinct_1 \n",
      "FROM iris\n",
      "2023-11-07 15:57:55,381 INFO sqlalchemy.engine.Engine [generated in 0.00088s] ()\n",
      "'result=<sqlalchemy.engine.result.ScalarResult object at 0x7f40935dc730>'\n",
      "2023-11-07 15:57:55,383 INFO sqlalchemy.engine.Engine SELECT sum(iris.sepal_length) AS sum_1 \n",
      "FROM iris GROUP BY iris.species\n",
      "2023-11-07 15:57:55,385 INFO sqlalchemy.engine.Engine [generated in 0.00185s] ()\n",
      "'result=3.0'\n",
      "2023-11-07 15:57:55,386 INFO sqlalchemy.engine.Engine COMMIT\n"
     ]
    }
   ],
   "source": [
    "with core.query() as q:\n",
    "    # use table.cols to specify which columns to select\n",
    "    columns = itab.cols('sepal_length', 'sepal_width')\n",
    "    pprint.pprint(q.select(columns).fetchall())\n",
    "    \n",
    "    # use subscript to specify table for each column. use for table joins\n",
    "    columns = [itab['sepal_length'], itab['sepal_width']]\n",
    "    results = q.select(columns).fetchall()\n",
    "    pprint.pprint(results)\n",
    "    \n",
    "    # use .sum(), .min(), .max(), .count(), .sum(), and .unique() to specify aggregate functions\n",
    "    columns = [itab['species'].distinct()]\n",
    "    result = q.select(columns).scalars()\n",
    "    pprint.pprint(f'{result=}')\n",
    "    \n",
    "    # use in conjunction with group_by to specify groupings\n",
    "    columns = [itab['sepal_length'].sum()]\n",
    "    result = q.select(columns, group_by=[itab['species']]).scalar_one()\n",
    "    pprint.pprint(f'{result=}')"
   ]
  },
  {
   "cell_type": "markdown",
   "metadata": {},
   "source": [
    "#### Table-specific Queries\n",
    "\n",
    "Use the `query()` method on a table to reference column names as strings and wrap results in container instances."
   ]
  },
  {
   "cell_type": "code",
   "execution_count": 9,
   "metadata": {},
   "outputs": [
    {
     "name": "stdout",
     "output_type": "stream",
     "text": [
      "2023-11-07 15:57:55,420 INFO sqlalchemy.engine.Engine BEGIN (implicit)\n",
      "2023-11-07 15:57:55,421 INFO sqlalchemy.engine.Engine SELECT iris.id, iris.added, iris.petal_length, iris.petal_width, iris.sepal_length, iris.sepal_width, iris.species, iris.updated \n",
      "FROM iris\n",
      "2023-11-07 15:57:55,422 INFO sqlalchemy.engine.Engine [cached since 0.08979s ago] ()\n",
      "[Iris(sepal_length=1.0,\n",
      "      sepal_width=2.0,\n",
      "      petal_length=3.0,\n",
      "      petal_width=4.0,\n",
      "      species='setosa',\n",
      "      id=1,\n",
      "      updated=datetime.datetime(2023, 11, 7, 20, 57, 55, 324955),\n",
      "      added=datetime.datetime(2023, 11, 7, 20, 57, 55, 324953)),\n",
      " Iris(sepal_length=1.0,\n",
      "      sepal_width=2.0,\n",
      "      petal_length=3.0,\n",
      "      petal_width=4.0,\n",
      "      species='setosa',\n",
      "      id=2,\n",
      "      updated=datetime.datetime(2023, 11, 7, 20, 57, 55, 328715),\n",
      "      added=datetime.datetime(2023, 11, 7, 20, 57, 55, 328713)),\n",
      " Iris(sepal_length=1.0,\n",
      "      sepal_width=2.0,\n",
      "      petal_length=3.0,\n",
      "      petal_width=4.0,\n",
      "      species='setosa',\n",
      "      id=3,\n",
      "      updated=datetime.datetime(2023, 11, 7, 20, 57, 55, 328720),\n",
      "      added=datetime.datetime(2023, 11, 7, 20, 57, 55, 328719))]\n",
      "2023-11-07 15:57:55,423 INFO sqlalchemy.engine.Engine COMMIT\n"
     ]
    }
   ],
   "source": [
    "with itab.query() as q:\n",
    "    pprint.pprint(q.select())"
   ]
  },
  {
   "cell_type": "markdown",
   "metadata": {},
   "source": [
    "All of the same query types can be used."
   ]
  },
  {
   "cell_type": "code",
   "execution_count": 10,
   "metadata": {},
   "outputs": [
    {
     "name": "stdout",
     "output_type": "stream",
     "text": [
      "2023-11-07 15:57:55,471 INFO sqlalchemy.engine.Engine BEGIN (implicit)\n",
      "2023-11-07 15:57:55,473 INFO sqlalchemy.engine.Engine DELETE FROM iris\n",
      "2023-11-07 15:57:55,474 INFO sqlalchemy.engine.Engine [cached since 0.1547s ago] ()\n",
      "2023-11-07 15:57:55,486 INFO sqlalchemy.engine.Engine INSERT OR FAIL INTO iris (added, petal_length, petal_width, sepal_length, sepal_width, species, updated) VALUES (?, ?, ?, ?, ?, ?, ?)\n",
      "2023-11-07 15:57:55,487 INFO sqlalchemy.engine.Engine [cached since 0.159s ago] [('2023-11-07 20:57:55.484095', 1.4, 0.2, 5.1, 3.5, 'setosa', '2023-11-07 20:57:55.484099'), ('2023-11-07 20:57:55.484100', 1.4, 0.2, 4.9, 3.0, 'setosa', '2023-11-07 20:57:55.484101'), ('2023-11-07 20:57:55.484101', 1.3, 0.2, 4.7, 3.2, 'setosa', '2023-11-07 20:57:55.484102'), ('2023-11-07 20:57:55.484103', 1.5, 0.2, 4.6, 3.1, 'setosa', '2023-11-07 20:57:55.484103'), ('2023-11-07 20:57:55.484104', 1.4, 0.2, 5.0, 3.6, 'setosa', '2023-11-07 20:57:55.484104'), ('2023-11-07 20:57:55.484105', 1.7, 0.4, 5.4, 3.9, 'setosa', '2023-11-07 20:57:55.484106'), ('2023-11-07 20:57:55.484106', 1.4, 0.3, 4.6, 3.4, 'setosa', '2023-11-07 20:57:55.484107'), ('2023-11-07 20:57:55.484108', 1.5, 0.2, 5.0, 3.4, 'setosa', '2023-11-07 20:57:55.484108')  ... displaying 10 of 150 total bound parameter sets ...  ('2023-11-07 20:57:55.484270', 5.4, 2.3, 6.2, 3.4, 'virginica', '2023-11-07 20:57:55.484270'), ('2023-11-07 20:57:55.484271', 5.1, 1.8, 5.9, 3.0, 'virginica', '2023-11-07 20:57:55.484271')]\n",
      "2023-11-07 15:57:55,489 INFO sqlalchemy.engine.Engine SELECT iris.id, iris.added, iris.petal_length, iris.petal_width, iris.sepal_length, iris.sepal_width, iris.species, iris.updated \n",
      "FROM iris\n",
      "2023-11-07 15:57:55,490 INFO sqlalchemy.engine.Engine [cached since 0.1582s ago] ()\n",
      "150\n",
      "[Iris(sepal_length=5.1,\n",
      "      sepal_width=3.5,\n",
      "      petal_length=1.4,\n",
      "      petal_width=0.2,\n",
      "      species='setosa',\n",
      "      id=1,\n",
      "      updated=datetime.datetime(2023, 11, 7, 20, 57, 55, 484099),\n",
      "      added=datetime.datetime(2023, 11, 7, 20, 57, 55, 484095)),\n",
      " Iris(sepal_length=4.9,\n",
      "      sepal_width=3.0,\n",
      "      petal_length=1.4,\n",
      "      petal_width=0.2,\n",
      "      species='setosa',\n",
      "      id=2,\n",
      "      updated=datetime.datetime(2023, 11, 7, 20, 57, 55, 484101),\n",
      "      added=datetime.datetime(2023, 11, 7, 20, 57, 55, 484100))]\n",
      "2023-11-07 15:57:55,494 INFO sqlalchemy.engine.Engine COMMIT\n"
     ]
    }
   ],
   "source": [
    "with itab.query() as q:\n",
    "    q.delete(all=True)\n",
    "    \n",
    "    q.insert_multi(irises)\n",
    "    \n",
    "    db_irises = q.select()\n",
    "    print(len(db_irises))\n",
    "    pprint.pprint(db_irises[:2])"
   ]
  },
  {
   "cell_type": "markdown",
   "metadata": {},
   "source": [
    "Attributes that were not requested from the database reference the `doctable.MISSING` sentinel value."
   ]
  },
  {
   "cell_type": "code",
   "execution_count": 11,
   "metadata": {},
   "outputs": [
    {
     "name": "stdout",
     "output_type": "stream",
     "text": [
      "2023-11-07 15:57:55,524 INFO sqlalchemy.engine.Engine BEGIN (implicit)\n",
      "2023-11-07 15:57:55,526 INFO sqlalchemy.engine.Engine SELECT iris.id, iris.sepal_width, iris.sepal_length \n",
      "FROM iris\n",
      "2023-11-07 15:57:55,527 INFO sqlalchemy.engine.Engine [generated in 0.00249s] ()\n",
      "[Iris(sepal_length=5.1,\n",
      "      sepal_width=3.5,\n",
      "      petal_length=MISSING,\n",
      "      petal_width=MISSING,\n",
      "      species=MISSING,\n",
      "      id=1,\n",
      "      updated=MISSING,\n",
      "      added=MISSING),\n",
      " Iris(sepal_length=4.9,\n",
      "      sepal_width=3.0,\n",
      "      petal_length=MISSING,\n",
      "      petal_width=MISSING,\n",
      "      species=MISSING,\n",
      "      id=2,\n",
      "      updated=MISSING,\n",
      "      added=MISSING)]\n",
      "2023-11-07 15:57:55,530 INFO sqlalchemy.engine.Engine COMMIT\n"
     ]
    }
   ],
   "source": [
    "with itab.query() as q:\n",
    "    db_irises = q.select(['id', 'sepal_width', 'sepal_length'])\n",
    "    pprint.pprint(db_irises[:2])"
   ]
  },
  {
   "cell_type": "markdown",
   "metadata": {},
   "source": [
    "## Working with Multple Tables\n",
    "\n",
    "Now I'll demonstrate how to create and work with multi-table schemas with foreign key relationships."
   ]
  },
  {
   "cell_type": "code",
   "execution_count": 12,
   "metadata": {},
   "outputs": [
    {
     "name": "stdout",
     "output_type": "stream",
     "text": [
      "['setosa' 'versicolor' 'virginica']\n"
     ]
    }
   ],
   "source": [
    "print(iris_df['species'].unique())\n",
    "\n",
    "species_data = {\n",
    "    'setosa':'bristle-pointed iris',\n",
    "    'versicolor':'Southern blue flag',\n",
    "    'virginica':'Northern blue flag',\n",
    "}"
   ]
  },
  {
   "cell_type": "markdown",
   "metadata": {},
   "source": [
    "Here we create a foreign key constraint on the iris entries table that references a new species table."
   ]
  },
  {
   "cell_type": "code",
   "execution_count": 13,
   "metadata": {},
   "outputs": [
    {
     "name": "stdout",
     "output_type": "stream",
     "text": [
      "2023-11-07 15:57:55,647 INFO sqlalchemy.engine.Engine BEGIN (implicit)\n",
      "2023-11-07 15:57:55,648 INFO sqlalchemy.engine.Engine pragma foreign_keys=ON\n",
      "2023-11-07 15:57:55,649 INFO sqlalchemy.engine.Engine [generated in 0.00072s] ()\n",
      "2023-11-07 15:57:55,650 INFO sqlalchemy.engine.Engine COMMIT\n",
      "2023-11-07 15:57:55,653 INFO sqlalchemy.engine.Engine BEGIN (implicit)\n",
      "2023-11-07 15:57:55,653 INFO sqlalchemy.engine.Engine PRAGMA main.table_info(\"species\")\n",
      "2023-11-07 15:57:55,654 INFO sqlalchemy.engine.Engine [raw sql] ()\n",
      "2023-11-07 15:57:55,656 INFO sqlalchemy.engine.Engine PRAGMA temp.table_info(\"species\")\n",
      "2023-11-07 15:57:55,656 INFO sqlalchemy.engine.Engine [raw sql] ()\n",
      "2023-11-07 15:57:55,657 INFO sqlalchemy.engine.Engine PRAGMA main.table_info(\"iris_entry\")\n",
      "2023-11-07 15:57:55,658 INFO sqlalchemy.engine.Engine [raw sql] ()\n",
      "2023-11-07 15:57:55,659 INFO sqlalchemy.engine.Engine PRAGMA temp.table_info(\"iris_entry\")\n",
      "2023-11-07 15:57:55,659 INFO sqlalchemy.engine.Engine [raw sql] ()\n",
      "2023-11-07 15:57:55,660 INFO sqlalchemy.engine.Engine \n",
      "CREATE TABLE species (\n",
      "\tid INTEGER, \n",
      "\tcommon_name VARCHAR, \n",
      "\tname VARCHAR, \n",
      "\tPRIMARY KEY (id), \n",
      "\tUNIQUE (name)\n",
      ")\n",
      "\n",
      "\n",
      "2023-11-07 15:57:55,661 INFO sqlalchemy.engine.Engine [no key 0.00057s] ()\n",
      "2023-11-07 15:57:55,664 INFO sqlalchemy.engine.Engine \n",
      "CREATE TABLE iris_entry (\n",
      "\tid INTEGER, \n",
      "\tpetal_length FLOAT, \n",
      "\tpetal_width FLOAT, \n",
      "\tsepal_length FLOAT, \n",
      "\tsepal_width FLOAT, \n",
      "\tspecies VARCHAR NOT NULL, \n",
      "\tPRIMARY KEY (id), \n",
      "\tFOREIGN KEY(species) REFERENCES species (name) ON DELETE CASCADE ON UPDATE CASCADE\n",
      ")\n",
      "\n",
      "\n",
      "2023-11-07 15:57:55,664 INFO sqlalchemy.engine.Engine [no key 0.00054s] ()\n",
      "2023-11-07 15:57:55,665 INFO sqlalchemy.engine.Engine COMMIT\n",
      "2023-11-07 15:57:55,666 INFO sqlalchemy.engine.Engine BEGIN (implicit)\n",
      "2023-11-07 15:57:55,667 INFO sqlalchemy.engine.Engine PRAGMA main.table_xinfo(\"species\")\n",
      "2023-11-07 15:57:55,668 INFO sqlalchemy.engine.Engine [raw sql] ()\n",
      "2023-11-07 15:57:55,668 INFO sqlalchemy.engine.Engine ROLLBACK\n",
      "[{'name': 'id', 'type': INTEGER(), 'nullable': True, 'default': None, 'primary_key': 1}, {'name': 'common_name', 'type': VARCHAR(), 'nullable': True, 'default': None, 'primary_key': 0}, {'name': 'name', 'type': VARCHAR(), 'nullable': True, 'default': None, 'primary_key': 0}]\n"
     ]
    }
   ],
   "source": [
    "import typing\n",
    "\n",
    "@doctable.table_schema(table_name='species')\n",
    "class Species:\n",
    "    name: str = doctable.Column(doctable.ColumnArgs(unique=True))\n",
    "    common_name: str = doctable.Column(\n",
    "        column_args=doctable.ColumnArgs(nullable=True),\n",
    "    )\n",
    "    id: int = doctable.Column(# will appear as the first column in the table\n",
    "        column_args=doctable.ColumnArgs(order=0, primary_key=True, autoincrement=True),\n",
    "    )\n",
    "    \n",
    "    @classmethod\n",
    "    def from_dict(cls, data: typing.Dict[str, str]) -> typing.List[Species]:\n",
    "        return [cls(name=n, common_name=cn) for n,cn in data.items()]\n",
    "\n",
    "@doctable.table_schema(\n",
    "    table_name='iris_entry',\n",
    "    constraints=[\n",
    "        doctable.ForeignKey(['species'], ['species.name'], ondelete='CASCADE', onupdate='CASCADE'),\n",
    "    ],\n",
    ")\n",
    "class IrisEntry:\n",
    "    sepal_length: float\n",
    "    sepal_width: float\n",
    "    petal_length: float\n",
    "    petal_width: float\n",
    "    species: str = doctable.Column(\n",
    "        # NOTE: here I could add foreign_key='species.name' instead of adding fk constraint\n",
    "        column_args=doctable.ColumnArgs(nullable=False),\n",
    "    )\n",
    "    \n",
    "    id: int = doctable.Column(# will appear as the first column in the table\n",
    "        column_args=doctable.ColumnArgs(order=0, primary_key=True, autoincrement=True),\n",
    "    )\n",
    "    \n",
    "    @classmethod\n",
    "    def from_dataframe(cls, df: pd.DataFrame) -> typing.List[IrisEntry]:\n",
    "        return [cls(**row) for _,row in df.iterrows()]\n",
    "\n",
    "\n",
    "core = doctable.ConnectCore.open(\n",
    "    target=':memory:', # use a filename for a sqlite to write to disk\n",
    "    dialect='sqlite',\n",
    "    echo=True,\n",
    ")\n",
    "\n",
    "with core.begin_ddl() as emitter:\n",
    "    core.enable_foreign_keys()\n",
    "    spec_tab = emitter.create_table_if_not_exists(Species)\n",
    "    iris_tab = emitter.create_table_if_not_exists(IrisEntry)\n",
    "print(spec_tab.inspect_columns())"
   ]
  },
  {
   "cell_type": "markdown",
   "metadata": {},
   "source": [
    "Start by populating the species table."
   ]
  },
  {
   "cell_type": "code",
   "execution_count": 14,
   "metadata": {},
   "outputs": [
    {
     "name": "stdout",
     "output_type": "stream",
     "text": [
      "2023-11-07 15:57:55,766 INFO sqlalchemy.engine.Engine BEGIN (implicit)\n",
      "2023-11-07 15:57:55,767 INFO sqlalchemy.engine.Engine INSERT OR REPLACE INTO species (common_name, name) VALUES (?, ?)\n",
      "2023-11-07 15:57:55,768 INFO sqlalchemy.engine.Engine [generated in 0.00240s] [('bristle-pointed iris', 'setosa'), ('Southern blue flag', 'versicolor'), ('Northern blue flag', 'virginica')]\n",
      "2023-11-07 15:57:55,770 INFO sqlalchemy.engine.Engine SELECT species.id, species.common_name, species.name \n",
      "FROM species\n",
      "2023-11-07 15:57:55,771 INFO sqlalchemy.engine.Engine [generated in 0.00073s] ()\n",
      "[Species(name='setosa', common_name='bristle-pointed iris', id=1),\n",
      " Species(name='versicolor', common_name='Southern blue flag', id=2),\n",
      " Species(name='virginica', common_name='Northern blue flag', id=3)]\n",
      "2023-11-07 15:57:55,772 INFO sqlalchemy.engine.Engine COMMIT\n"
     ]
    }
   ],
   "source": [
    "with spec_tab.query() as q:\n",
    "    q.insert_multi(Species.from_dict(species_data), ifnotunique='replace')\n",
    "    pprint.pprint(q.select())"
   ]
  },
  {
   "cell_type": "markdown",
   "metadata": {},
   "source": [
    "We will get an error if the provided species does not correspond to a row in the species table."
   ]
  },
  {
   "cell_type": "code",
   "execution_count": 15,
   "metadata": {},
   "outputs": [
    {
     "name": "stdout",
     "output_type": "stream",
     "text": [
      "2023-11-07 15:57:55,821 INFO sqlalchemy.engine.Engine BEGIN (implicit)\n",
      "2023-11-07 15:57:55,823 INFO sqlalchemy.engine.Engine INSERT OR FAIL INTO iris_entry (petal_length, petal_width, sepal_length, sepal_width, species) VALUES (?, ?, ?, ?, ?)\n",
      "2023-11-07 15:57:55,823 INFO sqlalchemy.engine.Engine [generated in 0.00239s] (3.0, 4.0, 1.0, 2.0, 'wrongname')\n",
      "2023-11-07 15:57:55,824 INFO sqlalchemy.engine.Engine COMMIT\n",
      "The species_name column is a foreign key to the species table, so it must be a valid species name.\n"
     ]
    }
   ],
   "source": [
    "try:\n",
    "    with iris_tab.query() as q:\n",
    "        q.insert_single(IrisEntry(\n",
    "            sepal_length=1, \n",
    "            sepal_width=2, \n",
    "            petal_length=3, \n",
    "            petal_width=4, \n",
    "            species='wrongname' # THIS PART CAUSED THE ERROR!\n",
    "        ))\n",
    "except sqlalchemy.exc.IntegrityError:\n",
    "    print('The species_name column is a foreign key to the species table, so it must be a valid species name.')"
   ]
  },
  {
   "cell_type": "markdown",
   "metadata": {},
   "source": [
    "Now that the species table is populated, we can insert the iris data."
   ]
  },
  {
   "cell_type": "code",
   "execution_count": 16,
   "metadata": {},
   "outputs": [
    {
     "name": "stdout",
     "output_type": "stream",
     "text": [
      "2023-11-07 15:57:55,939 INFO sqlalchemy.engine.Engine BEGIN (implicit)\n",
      "2023-11-07 15:57:55,940 INFO sqlalchemy.engine.Engine INSERT OR FAIL INTO iris_entry (petal_length, petal_width, sepal_length, sepal_width, species) VALUES (?, ?, ?, ?, ?)\n",
      "2023-11-07 15:57:55,941 INFO sqlalchemy.engine.Engine [generated in 0.00323s] [(1.4, 0.2, 5.1, 3.5, 'setosa'), (1.4, 0.2, 4.9, 3.0, 'setosa'), (1.3, 0.2, 4.7, 3.2, 'setosa'), (1.5, 0.2, 4.6, 3.1, 'setosa'), (1.4, 0.2, 5.0, 3.6, 'setosa'), (1.7, 0.4, 5.4, 3.9, 'setosa'), (1.4, 0.3, 4.6, 3.4, 'setosa'), (1.5, 0.2, 5.0, 3.4, 'setosa')  ... displaying 10 of 150 total bound parameter sets ...  (5.4, 2.3, 6.2, 3.4, 'virginica'), (5.1, 1.8, 5.9, 3.0, 'virginica')]\n",
      "2023-11-07 15:57:55,944 INFO sqlalchemy.engine.Engine SELECT iris_entry.id, iris_entry.petal_length, iris_entry.petal_width, iris_entry.sepal_length, iris_entry.sepal_width, iris_entry.species \n",
      "FROM iris_entry\n",
      " LIMIT ? OFFSET ?\n",
      "2023-11-07 15:57:55,944 INFO sqlalchemy.engine.Engine [generated in 0.00088s] (2, 0)\n",
      "[IrisEntry(sepal_length=5.1, sepal_width=3.5, petal_length=1.4, petal_width=0.2, species='setosa', id=1), IrisEntry(sepal_length=4.9, sepal_width=3.0, petal_length=1.4, petal_width=0.2, species='setosa', id=2)]\n",
      "2023-11-07 15:57:55,945 INFO sqlalchemy.engine.Engine COMMIT\n"
     ]
    }
   ],
   "source": [
    "with iris_tab.query() as q:\n",
    "    q.insert_multi(IrisEntry.from_dataframe(iris_df))\n",
    "    print(q.select(limit=2))"
   ]
  },
  {
   "cell_type": "markdown",
   "metadata": {},
   "source": [
    "When the entry is deleted from the species tab, all associated irises are deleted."
   ]
  },
  {
   "cell_type": "code",
   "execution_count": 21,
   "metadata": {},
   "outputs": [
    {
     "name": "stdout",
     "output_type": "stream",
     "text": [
      "2023-11-07 15:59:34,029 INFO sqlalchemy.engine.Engine BEGIN (implicit)\n",
      "2023-11-07 15:59:34,031 INFO sqlalchemy.engine.Engine DELETE FROM species WHERE species.name = ?\n",
      "2023-11-07 15:59:34,031 INFO sqlalchemy.engine.Engine [cached since 98.05s ago] ('setosa',)\n",
      "2023-11-07 15:59:34,032 INFO sqlalchemy.engine.Engine SELECT species.id, species.common_name, species.name \n",
      "FROM species\n",
      "2023-11-07 15:59:34,033 INFO sqlalchemy.engine.Engine [cached since 98.26s ago] ()\n",
      "len(q.select())=2\n",
      "2023-11-07 15:59:34,034 INFO sqlalchemy.engine.Engine COMMIT\n",
      "2023-11-07 15:59:34,035 INFO sqlalchemy.engine.Engine BEGIN (implicit)\n",
      "2023-11-07 15:59:34,036 INFO sqlalchemy.engine.Engine SELECT distinct(iris_entry.species) AS distinct_1 \n",
      "FROM iris_entry\n",
      "2023-11-07 15:59:34,037 INFO sqlalchemy.engine.Engine [cached since 98.05s ago] ()\n",
      "[('versicolor',), ('virginica',)]\n",
      "2023-11-07 15:59:34,038 INFO sqlalchemy.engine.Engine COMMIT\n"
     ]
    }
   ],
   "source": [
    "with spec_tab.query() as q:\n",
    "    q.delete(spec_tab['name']=='setosa')\n",
    "    print(f'{len(q.select())=}')\n",
    "\n",
    "with core.query() as q:\n",
    "    print(q.select([iris_tab['species'].distinct()]).fetchall())"
   ]
  }
 ],
 "metadata": {
  "kernelspec": {
   "display_name": "Python 3 (ipykernel)",
   "language": "python",
   "name": "python3"
  },
  "language_info": {
   "codemirror_mode": {
    "name": "ipython",
    "version": 3
   },
   "file_extension": ".py",
   "mimetype": "text/x-python",
   "name": "python",
   "nbconvert_exporter": "python",
   "pygments_lexer": "ipython3",
   "version": "3.11.5"
  }
 },
 "nbformat": 4,
 "nbformat_minor": 2
}
