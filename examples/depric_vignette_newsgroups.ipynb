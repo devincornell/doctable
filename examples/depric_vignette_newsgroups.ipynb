{
 "cells": [
  {
   "cell_type": "markdown",
   "metadata": {},
   "source": [
    "# NewsGroups Dataset Vignette\n",
    "\n",
    "In this vignette, I will show you how to create a database for storing and manipulating "
   ]
  },
  {
   "cell_type": "markdown",
   "metadata": {},
   "source": [
    "## Introduction to dataset\n",
    "\n",
    "We will be using the [20 Newsgroups dataset](http://qwone.com/~jason/20Newsgroups/) for this vignette. This is the [sklearn website description](https://scikit-learn.org/stable/datasets/real_world.html#the-20-newsgroups-text-dataset):\n",
    "\n",
    "_The 20 newsgroups dataset comprises around 18000 newsgroups posts on 20 topics split in two subsets: one for training (or development) and the other one for testing (or for performance evaluation). The split between the train and test set is based upon a messages posted before and after a specific date._\n",
    "\n",
    "We use sklearn's [fetch_20newsgroups](https://scikit-learn.org/stable/modules/generated/sklearn.datasets.fetch_20newsgroups.html#sklearn.datasets.fetch_20newsgroups) method to download and access articles from the politics newsgroup."
   ]
  },
  {
   "cell_type": "code",
   "execution_count": 1,
   "metadata": {},
   "outputs": [
    {
     "data": {
      "text/plain": [
       "(dict_keys(['data', 'filenames', 'target_names', 'target', 'DESCR']), 1575)"
      ]
     },
     "execution_count": 1,
     "metadata": {},
     "output_type": "execute_result"
    }
   ],
   "source": [
    "import sklearn.datasets\n",
    "newsgroups = sklearn.datasets.fetch_20newsgroups(categories=['talk.politics.guns', 'talk.politics.mideast', 'talk.politics.misc'])\n",
    "newsgroups.keys(), len(newsgroups['data'])"
   ]
  },
  {
   "cell_type": "markdown",
   "metadata": {},
   "source": [
    "This is an example of a newsgroup post."
   ]
  },
  {
   "cell_type": "code",
   "execution_count": 2,
   "metadata": {},
   "outputs": [
    {
     "name": "stdout",
     "output_type": "stream",
     "text": [
      "From: golchowy@alchemy.chem.utoronto.ca (Gerald Olchowy)\n",
      "Subject: Re: Help fight the Clinton Administration's invasion of your privacy\n",
      "Organization: University of Toronto Chemistry Department\n",
      "Lines: 16\n",
      "\n",
      "In article <9308@blue.cis.pitt.edu> cjp+@pitt.edu (Casimir J Palowitch) writes:\n",
      ">The Clinton Administration wants to \"manage\" your use of digital\n",
      ">encryption. This includes a proposal which would limit your use of\n",
      ">encryption to a standard developed by the NSA, the technical details of \n",
      ">which would remain classified with the government.\n",
      ">\n",
      ">This cannot be allowed to happen.\n",
      ">\n",
      "\n",
      "It is a bit unfair to call blame the Clinton Administration alone...this\n",
      "initiative was underway under the Bush Administration...it is basically\n",
      "a bipartisan effort of the establishment Demopublicans and\n",
      "Republicrats...the same bipartisan effort that brought the S&L scandal,\n",
      "and BCCI, etc.\n",
      "\n",
      "Gerald\n",
      "\n"
     ]
    }
   ],
   "source": [
    "print(newsgroups['data'][0])"
   ]
  },
  {
   "cell_type": "markdown",
   "metadata": {},
   "source": [
    "It looks very similar to an email, so we will use Python's `email` package to parse the text and return a dictionary containing the various relevant fields. Our `parse_email` function shows how we can extract metadata fields like author, subject, and organization from the message, as well as the main text body."
   ]
  },
  {
   "cell_type": "code",
   "execution_count": 3,
   "metadata": {},
   "outputs": [
    {
     "data": {
      "text/plain": [
       "{'author': 'golchowy@alchemy.chem.utoronto.ca (Gerald Olchowy)',\n",
       " 'subject': \"Re: Help fight the Clinton Administration's invasion of your privacy\",\n",
       " 'organization': 'University of Toronto Chemistry Department',\n",
       " 'lines': 16,\n",
       " 'text': 'In article <9308@blue.cis.pitt.edu> cjp+@pitt.edu (Casimir J Palowitch) writes:\\n>The Clinton Administration wants to \"manage\" your use of digital\\n>encryption. This includes a proposal which would limit your use of\\n>encryption to a standard developed by the NSA, the technical details of \\n>which would remain classified with the government.\\n>\\n>This cannot be allowed to happen.\\n>\\n\\nIt is a bit unfair to call blame the Clinton Administration alone...this\\ninitiative was underway under the Bush Administration...it is basically\\na bipartisan effort of the establishment Demopublicans and\\nRepublicrats...the same bipartisan effort that brought the S&L scandal,\\nand BCCI, etc.\\n\\nGerald\\n'}"
      ]
     },
     "execution_count": 3,
     "metadata": {},
     "output_type": "execute_result"
    }
   ],
   "source": [
    "import email\n",
    "\n",
    "def parse_newsgroup(email_text):\n",
    "    message = email.message_from_string(email_text)\n",
    "    return {\n",
    "        'author': message['from'],\n",
    "        'subject': message['Subject'],\n",
    "        'organization': message['Organization'],\n",
    "        'lines': int(message['Lines']),\n",
    "        'text': message.get_payload(),\n",
    "    }\n",
    "\n",
    "parse_newsgroup(newsgroups['data'][0])"
   ]
  },
  {
   "cell_type": "markdown",
   "metadata": {},
   "source": [
    "## Creating a database schema\n",
    "\n",
    "The first step will be to create a database schema that is appropriate for the newsgroup dataset by defining a container dataclass using the `@schema` decorator.  The `schema` decorator will convert the class into a [`dataclass`](https://realpython.com/python-data-classes/) with [slots](https://docs.python.org/3/reference/datamodel.html#slots) enabled (provided `__slots__ = []` is given in the definition), and inherit from `DocTableRow` to add some additional functionality. The type hints associated with each variable will be used in the schema definition for the new tables, and arguments to `Col()`, `IDCol()`, `AddedCol()`, and `UpdatedCol()` will mostly be passed to `dataclasses.field` (see [docs](https://doctable.org/ref/doctable/schemas/field_columns.html#Col) for more detail), so all dataclass functionality is maintained. The [doctable schema guide](doctable_schema.html) explains more about schema and schema object definitions. \n",
    "\n",
    "Here I define a `NewsgroupDoc` class to represent a single document and define `__slots__` so the decorator can automatically create a slot class. Each member variable will act as a column in our database schema, and the first variable we define is an `id` column with the defaulted value `IDCol()`. This is a special function that will translate to a schema that uses the `id` colum as the primary key and enable auto-incrementing. Because `id` is defaulted, we must default our other variables as well.\n",
    "\n",
    "I also define a couple of methods as part of our schema class - they are ignored in the schema creation process, but allow us to manipulate the object within Python. The `author_email` property will extract just the email address from the author field. Note that even though it is a property, it is defined as a method and therefore will not be considered when creating the class schema. I also define a `classmethod` that can be used to create a new `NewsgroupDoc` from the newsgroup text - this replaces the functionality of the `parse_email` function we created above. This way, the class knows how to create itself from the raw newsgroup text."
   ]
  },
  {
   "cell_type": "code",
   "execution_count": 4,
   "metadata": {},
   "outputs": [
    {
     "name": "stdout",
     "output_type": "stream",
     "text": [
      "golchowy@alchemy.chem.utoronto.ca (Gerald Olchowy)\n"
     ]
    },
    {
     "data": {
      "text/plain": [
       "'golchowy@alchemy.chem.utoronto.ca'"
      ]
     },
     "execution_count": 4,
     "metadata": {},
     "output_type": "execute_result"
    }
   ],
   "source": [
    "import sys\n",
    "sys.path.append('..')\n",
    "import doctable\n",
    "\n",
    "import re\n",
    "import email\n",
    "import dataclasses\n",
    "\n",
    "def try_int(text):\n",
    "    try:\n",
    "        return int(text.split()[0])\n",
    "    except:\n",
    "        return None\n",
    "\n",
    "\n",
    "@doctable.schema\n",
    "class NewsgroupDoc:\n",
    "    __slots__ = []\n",
    "    \n",
    "    # schema columns\n",
    "    id: int = doctable.IDCol()\n",
    "    author: str = None\n",
    "    subject: str = None\n",
    "    organization: str = None\n",
    "    length: int = None\n",
    "    text: str = None\n",
    "        \n",
    "    @property\n",
    "    def author_email(self, pattern=re.compile(r'\\b[A-Za-z0-9._%+-]+@[A-Za-z0-9.-]+\\.[A-Z|a-z]{2,}\\b')):\n",
    "        '''Get the author\\'s email address from the author field text.\n",
    "        '''\n",
    "        return re.search(pattern, self.author)[0]\n",
    "    \n",
    "\n",
    "    @classmethod\n",
    "    def from_string(cls, newsgroup_text):\n",
    "        '''Code to create a NewsGroupDoc object from the original newsgroup string.\n",
    "        '''\n",
    "        message = email.message_from_string(newsgroup_text)\n",
    "        return cls(\n",
    "            author = message['from'],\n",
    "            subject = message['Subject'],\n",
    "            organization = message['Organization'],\n",
    "            length = len(message.get_payload()),\n",
    "            text = message.get_payload(),\n",
    "        )\n",
    "        \n",
    "        \n",
    "# for example, we create a new NewsGroupDoc from the first newsgroup article\n",
    "ngdoc = NewsgroupDoc.from_string(newsgroups['data'][0])\n",
    "print(ngdoc.author)\n",
    "ngdoc.author_email"
   ]
  },
  {
   "cell_type": "markdown",
   "metadata": {},
   "source": [
    "To make sure the `NewsgroupDoc` will translate to the database schema we expect, we can create a new `DocTable` object that uses it as a schema. We use the `schema` argument of the `DocTable` constructor to specify the schema, and print it below. See that most fields were translated to `VARCHAR` type fields, but `id` and `length` were translated to `INTEGER` types based on their type hints."
   ]
  },
  {
   "cell_type": "code",
   "execution_count": 5,
   "metadata": {},
   "outputs": [
    {
     "data": {
      "text/html": [
       "<div>\n",
       "<style scoped>\n",
       "    .dataframe tbody tr th:only-of-type {\n",
       "        vertical-align: middle;\n",
       "    }\n",
       "\n",
       "    .dataframe tbody tr th {\n",
       "        vertical-align: top;\n",
       "    }\n",
       "\n",
       "    .dataframe thead th {\n",
       "        text-align: right;\n",
       "    }\n",
       "</style>\n",
       "<table border=\"1\" class=\"dataframe\">\n",
       "  <thead>\n",
       "    <tr style=\"text-align: right;\">\n",
       "      <th></th>\n",
       "      <th>name</th>\n",
       "      <th>type</th>\n",
       "      <th>nullable</th>\n",
       "      <th>default</th>\n",
       "      <th>autoincrement</th>\n",
       "      <th>primary_key</th>\n",
       "    </tr>\n",
       "  </thead>\n",
       "  <tbody>\n",
       "    <tr>\n",
       "      <th>0</th>\n",
       "      <td>id</td>\n",
       "      <td>INTEGER</td>\n",
       "      <td>False</td>\n",
       "      <td>None</td>\n",
       "      <td>auto</td>\n",
       "      <td>1</td>\n",
       "    </tr>\n",
       "    <tr>\n",
       "      <th>1</th>\n",
       "      <td>author</td>\n",
       "      <td>VARCHAR</td>\n",
       "      <td>True</td>\n",
       "      <td>None</td>\n",
       "      <td>auto</td>\n",
       "      <td>0</td>\n",
       "    </tr>\n",
       "    <tr>\n",
       "      <th>2</th>\n",
       "      <td>subject</td>\n",
       "      <td>VARCHAR</td>\n",
       "      <td>True</td>\n",
       "      <td>None</td>\n",
       "      <td>auto</td>\n",
       "      <td>0</td>\n",
       "    </tr>\n",
       "    <tr>\n",
       "      <th>3</th>\n",
       "      <td>organization</td>\n",
       "      <td>VARCHAR</td>\n",
       "      <td>True</td>\n",
       "      <td>None</td>\n",
       "      <td>auto</td>\n",
       "      <td>0</td>\n",
       "    </tr>\n",
       "    <tr>\n",
       "      <th>4</th>\n",
       "      <td>length</td>\n",
       "      <td>INTEGER</td>\n",
       "      <td>True</td>\n",
       "      <td>None</td>\n",
       "      <td>auto</td>\n",
       "      <td>0</td>\n",
       "    </tr>\n",
       "    <tr>\n",
       "      <th>5</th>\n",
       "      <td>text</td>\n",
       "      <td>VARCHAR</td>\n",
       "      <td>True</td>\n",
       "      <td>None</td>\n",
       "      <td>auto</td>\n",
       "      <td>0</td>\n",
       "    </tr>\n",
       "  </tbody>\n",
       "</table>\n",
       "</div>"
      ],
      "text/plain": [
       "           name     type  nullable default autoincrement  primary_key\n",
       "0            id  INTEGER     False    None          auto            1\n",
       "1        author  VARCHAR      True    None          auto            0\n",
       "2       subject  VARCHAR      True    None          auto            0\n",
       "3  organization  VARCHAR      True    None          auto            0\n",
       "4        length  INTEGER      True    None          auto            0\n",
       "5          text  VARCHAR      True    None          auto            0"
      ]
     },
     "execution_count": 5,
     "metadata": {},
     "output_type": "execute_result"
    }
   ],
   "source": [
    "ng_table = doctable.DocTable(target=':memory:', tabname='documents', schema=NewsgroupDoc)\n",
    "ng_table.schema_table()"
   ]
  },
  {
   "cell_type": "markdown",
   "metadata": {},
   "source": [
    "To better describe the data we are interested in, we now create a class that inherits from `DocTable`. This class will act as the main interface for working with our dataset. We use the `_tabname_` and `_schema_` properties to define the table name and schema so we don't need to include them in the constructor. We also define a method `count_author_emails` - we will describe the behavior of this method later."
   ]
  },
  {
   "cell_type": "code",
   "execution_count": 6,
   "metadata": {},
   "outputs": [],
   "source": [
    "import collections\n",
    "\n",
    "class NewsgroupTable(doctable.DocTable):\n",
    "    _tabname_ = 'documents'\n",
    "    _schema_ = NewsgroupDoc\n",
    "    \n",
    "    def count_author_emails(self, *args, **kwargs):\n",
    "        author_emails = self.select('author', *args, **kwargs)\n",
    "        return collections.Counter(author_emails)\n"
   ]
  },
  {
   "cell_type": "markdown",
   "metadata": {},
   "source": [
    "Instead of using `target=':memory:'`, we want to create a database on our filesystem so we can store data. By default, `DocTable` uses sqlite as the database engine, so with `target` we need only specify a filename. Because this is just a demonstration, we will create the database in a temporary folder using the `tempfile` package. This database does not exist yet, so we use the `new_db` flag to indicate that a new one should be created."
   ]
  },
  {
   "cell_type": "code",
   "execution_count": 7,
   "metadata": {},
   "outputs": [
    {
     "data": {
      "text/html": [
       "<div>\n",
       "<style scoped>\n",
       "    .dataframe tbody tr th:only-of-type {\n",
       "        vertical-align: middle;\n",
       "    }\n",
       "\n",
       "    .dataframe tbody tr th {\n",
       "        vertical-align: top;\n",
       "    }\n",
       "\n",
       "    .dataframe thead th {\n",
       "        text-align: right;\n",
       "    }\n",
       "</style>\n",
       "<table border=\"1\" class=\"dataframe\">\n",
       "  <thead>\n",
       "    <tr style=\"text-align: right;\">\n",
       "      <th></th>\n",
       "      <th>name</th>\n",
       "      <th>type</th>\n",
       "      <th>nullable</th>\n",
       "      <th>default</th>\n",
       "      <th>autoincrement</th>\n",
       "      <th>primary_key</th>\n",
       "    </tr>\n",
       "  </thead>\n",
       "  <tbody>\n",
       "    <tr>\n",
       "      <th>0</th>\n",
       "      <td>id</td>\n",
       "      <td>INTEGER</td>\n",
       "      <td>False</td>\n",
       "      <td>None</td>\n",
       "      <td>auto</td>\n",
       "      <td>1</td>\n",
       "    </tr>\n",
       "    <tr>\n",
       "      <th>1</th>\n",
       "      <td>author</td>\n",
       "      <td>VARCHAR</td>\n",
       "      <td>True</td>\n",
       "      <td>None</td>\n",
       "      <td>auto</td>\n",
       "      <td>0</td>\n",
       "    </tr>\n",
       "    <tr>\n",
       "      <th>2</th>\n",
       "      <td>subject</td>\n",
       "      <td>VARCHAR</td>\n",
       "      <td>True</td>\n",
       "      <td>None</td>\n",
       "      <td>auto</td>\n",
       "      <td>0</td>\n",
       "    </tr>\n",
       "    <tr>\n",
       "      <th>3</th>\n",
       "      <td>organization</td>\n",
       "      <td>VARCHAR</td>\n",
       "      <td>True</td>\n",
       "      <td>None</td>\n",
       "      <td>auto</td>\n",
       "      <td>0</td>\n",
       "    </tr>\n",
       "    <tr>\n",
       "      <th>4</th>\n",
       "      <td>length</td>\n",
       "      <td>INTEGER</td>\n",
       "      <td>True</td>\n",
       "      <td>None</td>\n",
       "      <td>auto</td>\n",
       "      <td>0</td>\n",
       "    </tr>\n",
       "    <tr>\n",
       "      <th>5</th>\n",
       "      <td>text</td>\n",
       "      <td>VARCHAR</td>\n",
       "      <td>True</td>\n",
       "      <td>None</td>\n",
       "      <td>auto</td>\n",
       "      <td>0</td>\n",
       "    </tr>\n",
       "  </tbody>\n",
       "</table>\n",
       "</div>"
      ],
      "text/plain": [
       "           name     type  nullable default autoincrement  primary_key\n",
       "0            id  INTEGER     False    None          auto            1\n",
       "1        author  VARCHAR      True    None          auto            0\n",
       "2       subject  VARCHAR      True    None          auto            0\n",
       "3  organization  VARCHAR      True    None          auto            0\n",
       "4        length  INTEGER      True    None          auto            0\n",
       "5          text  VARCHAR      True    None          auto            0"
      ]
     },
     "execution_count": 7,
     "metadata": {},
     "output_type": "execute_result"
    }
   ],
   "source": [
    "import tempfile\n",
    "\n",
    "tempfolder = tempfile.TemporaryDirectory()\n",
    "table_fname = f'{tempfolder.name}/tmp1.db'\n",
    "ng_table = NewsgroupTable(target=table_fname, new_db=True)\n",
    "ng_table.schema_table()"
   ]
  },
  {
   "cell_type": "markdown",
   "metadata": {},
   "source": [
    "## Parsing and storing documents\n",
    "\n",
    "Now we would like to parse our documents for storage in the database. It is relatively straighforward to create a list of parsed texts using the `from_string` method. After doing this, we could potentially just insert them directly into the database."
   ]
  },
  {
   "cell_type": "code",
   "execution_count": 8,
   "metadata": {},
   "outputs": [
    {
     "name": "stdout",
     "output_type": "stream",
     "text": [
      "191 ms ± 527 µs per loop (mean ± std. dev. of 7 runs, 1 loop each)\n"
     ]
    }
   ],
   "source": [
    "%timeit [NewsgroupDoc.from_string(text) for text in newsgroups['data']]"
   ]
  },
  {
   "cell_type": "markdown",
   "metadata": {},
   "source": [
    "This is a relatively straigtforward task with a dataset of this size, but if we had a larger dataset or used more costly parsing algorithms, we would want to distribute parsing across multiple processes - we will take that approach for demonstration. First we define the `process_and_store` class to be used in each worker process."
   ]
  },
  {
   "cell_type": "code",
   "execution_count": 9,
   "metadata": {},
   "outputs": [
    {
     "name": "stdout",
     "output_type": "stream",
     "text": [
      "starting process\n",
      "starting process\n",
      "starting process\n",
      "starting process\n",
      "starting process\n"
     ]
    },
    {
     "data": {
      "text/html": [
       "<div>\n",
       "<style scoped>\n",
       "    .dataframe tbody tr th:only-of-type {\n",
       "        vertical-align: middle;\n",
       "    }\n",
       "\n",
       "    .dataframe tbody tr th {\n",
       "        vertical-align: top;\n",
       "    }\n",
       "\n",
       "    .dataframe thead th {\n",
       "        text-align: right;\n",
       "    }\n",
       "</style>\n",
       "<table border=\"1\" class=\"dataframe\">\n",
       "  <thead>\n",
       "    <tr style=\"text-align: right;\">\n",
       "      <th></th>\n",
       "      <th>id</th>\n",
       "      <th>author</th>\n",
       "      <th>subject</th>\n",
       "      <th>organization</th>\n",
       "      <th>length</th>\n",
       "      <th>text</th>\n",
       "    </tr>\n",
       "  </thead>\n",
       "  <tbody>\n",
       "    <tr>\n",
       "      <th>0</th>\n",
       "      <td>1</td>\n",
       "      <td>None</td>\n",
       "      <td>0</td>\n",
       "      <td>None</td>\n",
       "      <td>None</td>\n",
       "      <td>None</td>\n",
       "    </tr>\n",
       "    <tr>\n",
       "      <th>1</th>\n",
       "      <td>2</td>\n",
       "      <td>None</td>\n",
       "      <td>1</td>\n",
       "      <td>None</td>\n",
       "      <td>None</td>\n",
       "      <td>None</td>\n",
       "    </tr>\n",
       "    <tr>\n",
       "      <th>2</th>\n",
       "      <td>3</td>\n",
       "      <td>None</td>\n",
       "      <td>2</td>\n",
       "      <td>None</td>\n",
       "      <td>None</td>\n",
       "      <td>None</td>\n",
       "    </tr>\n",
       "    <tr>\n",
       "      <th>3</th>\n",
       "      <td>4</td>\n",
       "      <td>None</td>\n",
       "      <td>3</td>\n",
       "      <td>None</td>\n",
       "      <td>None</td>\n",
       "      <td>None</td>\n",
       "    </tr>\n",
       "    <tr>\n",
       "      <th>4</th>\n",
       "      <td>5</td>\n",
       "      <td>None</td>\n",
       "      <td>4</td>\n",
       "      <td>None</td>\n",
       "      <td>None</td>\n",
       "      <td>None</td>\n",
       "    </tr>\n",
       "    <tr>\n",
       "      <th>5</th>\n",
       "      <td>6</td>\n",
       "      <td>None</td>\n",
       "      <td>5</td>\n",
       "      <td>None</td>\n",
       "      <td>None</td>\n",
       "      <td>None</td>\n",
       "    </tr>\n",
       "    <tr>\n",
       "      <th>6</th>\n",
       "      <td>7</td>\n",
       "      <td>None</td>\n",
       "      <td>6</td>\n",
       "      <td>None</td>\n",
       "      <td>None</td>\n",
       "      <td>None</td>\n",
       "    </tr>\n",
       "    <tr>\n",
       "      <th>7</th>\n",
       "      <td>8</td>\n",
       "      <td>None</td>\n",
       "      <td>7</td>\n",
       "      <td>None</td>\n",
       "      <td>None</td>\n",
       "      <td>None</td>\n",
       "    </tr>\n",
       "    <tr>\n",
       "      <th>8</th>\n",
       "      <td>9</td>\n",
       "      <td>None</td>\n",
       "      <td>8</td>\n",
       "      <td>None</td>\n",
       "      <td>None</td>\n",
       "      <td>None</td>\n",
       "    </tr>\n",
       "    <tr>\n",
       "      <th>9</th>\n",
       "      <td>10</td>\n",
       "      <td>None</td>\n",
       "      <td>9</td>\n",
       "      <td>None</td>\n",
       "      <td>None</td>\n",
       "      <td>None</td>\n",
       "    </tr>\n",
       "  </tbody>\n",
       "</table>\n",
       "</div>"
      ],
      "text/plain": [
       "   id author subject organization length  text\n",
       "0   1   None       0         None   None  None\n",
       "1   2   None       1         None   None  None\n",
       "2   3   None       2         None   None  None\n",
       "3   4   None       3         None   None  None\n",
       "4   5   None       4         None   None  None\n",
       "5   6   None       5         None   None  None\n",
       "6   7   None       6         None   None  None\n",
       "7   8   None       7         None   None  None\n",
       "8   9   None       8         None   None  None\n",
       "9  10   None       9         None   None  None"
      ]
     },
     "execution_count": 9,
     "metadata": {},
     "output_type": "execute_result"
    }
   ],
   "source": [
    "def thread_func(numbers, db):\n",
    "    print(f'starting process')\n",
    "    db.reopen_engine() # create all new connections\n",
    "    db.insert([{'subject': i} for  i in numbers])\n",
    "    #for num in numbers:\n",
    "    #    db.insert({'process': process_id, 'number': num})\n",
    "    #    time.sleep(0.01)\n",
    "\n",
    "numbers = list(range(100)) # these numbers are to be inserted into the database\n",
    "\n",
    "ng_table.delete()\n",
    "with doctable.Distribute(5) as d:\n",
    "    d.map_chunk(thread_func, numbers, ng_table)\n",
    "ng_table.head(10)"
   ]
  },
  {
   "cell_type": "code",
   "execution_count": 10,
   "metadata": {},
   "outputs": [
    {
     "ename": "AssertionError",
     "evalue": "",
     "output_type": "error",
     "traceback": [
      "\u001b[0;31m---------------------------------------------------------------------------\u001b[0m",
      "\u001b[0;31mAssertionError\u001b[0m                            Traceback (most recent call last)",
      "\u001b[0;32m<ipython-input-10-48aa27ce5dc0>\u001b[0m in \u001b[0;36m<module>\u001b[0;34m\u001b[0m\n\u001b[1;32m      3\u001b[0m \u001b[0;34m\u001b[0m\u001b[0m\n\u001b[1;32m      4\u001b[0m \u001b[0;32mwith\u001b[0m \u001b[0mdoctable\u001b[0m\u001b[0;34m.\u001b[0m\u001b[0mWorkerPool\u001b[0m\u001b[0;34m(\u001b[0m\u001b[0;36m3\u001b[0m\u001b[0;34m,\u001b[0m \u001b[0mverbose\u001b[0m\u001b[0;34m=\u001b[0m\u001b[0;32mFalse\u001b[0m\u001b[0;34m)\u001b[0m \u001b[0;32mas\u001b[0m \u001b[0mp\u001b[0m\u001b[0;34m:\u001b[0m\u001b[0;34m\u001b[0m\u001b[0;34m\u001b[0m\u001b[0m\n\u001b[0;32m----> 5\u001b[0;31m     \u001b[0;32massert\u001b[0m\u001b[0;34m(\u001b[0m\u001b[0mp\u001b[0m\u001b[0;34m.\u001b[0m\u001b[0many_alive\u001b[0m\u001b[0;34m(\u001b[0m\u001b[0;34m)\u001b[0m\u001b[0;34m)\u001b[0m\u001b[0;34m\u001b[0m\u001b[0;34m\u001b[0m\u001b[0m\n\u001b[0m\u001b[1;32m      6\u001b[0m     \u001b[0mprint\u001b[0m\u001b[0;34m(\u001b[0m\u001b[0;34mf'av efficiency: {p.av_efficiency()}'\u001b[0m\u001b[0;34m)\u001b[0m\u001b[0;34m\u001b[0m\u001b[0;34m\u001b[0m\u001b[0m\n\u001b[1;32m      7\u001b[0m \u001b[0;34m\u001b[0m\u001b[0m\n",
      "\u001b[0;31mAssertionError\u001b[0m: "
     ]
    }
   ],
   "source": [
    "def printer(x, table):\n",
    "    print(x, table)\n",
    "\n",
    "with doctable.WorkerPool(3, verbose=False) as p:\n",
    "    assert(p.any_alive())\n",
    "    print(f'av efficiency: {p.av_efficiency()}')\n",
    "\n",
    "    p.map(printer, list(range(100)), table=ng_table)\n",
    "\n",
    "\n",
    "    # test most basic map function\n",
    "    #elements = list(range(100))\n",
    "    #assert(pool.map(example_func, elements) == [example_func(e) for e in elements])\n",
    "    print(f'av efficiency: {p.av_efficiency()}')"
   ]
  },
  {
   "cell_type": "code",
   "execution_count": null,
   "metadata": {},
   "outputs": [],
   "source": [
    "import pickle\n",
    "pickle.dumps(ng_table.schema_info)"
   ]
  },
  {
   "cell_type": "code",
   "execution_count": null,
   "metadata": {},
   "outputs": [],
   "source": [
    "import multiprocessing\n",
    "class parse_thread:\n",
    "    def __init__(self, table: doctable.DocTable):\n",
    "        self.table = table\n",
    "    \n",
    "    def __call__(self, texts):\n",
    "        with self.table as t:\n",
    "            #records = [NewsgroupDoc.from_string(text) for text in texts]\n",
    "            \n",
    "            t.insert(NewsgroupDoc(1000))\n",
    "\n",
    "def parse_thread2(x):\n",
    "    return None\n",
    "            \n",
    "chunks = doctable.chunk(newsgroups['data'], chunk_size=100)\n",
    "#parse_func = parse_thread(ng_table)\n",
    "with multiprocessing.Pool(4) as p:\n",
    "    %time p.map(parse_thread(ng_table), chunks, 100)\n",
    "#%time map(parse_thread(1), chunks)"
   ]
  },
  {
   "cell_type": "code",
   "execution_count": null,
   "metadata": {},
   "outputs": [],
   "source": [
    "class process_and_store:\n",
    "    table: doctable.DocTable = None\n",
    "        \n",
    "    def __init__(self, table_cls, *table_args, **table_kwargs):\n",
    "        '''Store info to construct the table.\n",
    "        '''\n",
    "        self.table_cls = table_cls\n",
    "        self.table_args = table_args\n",
    "        self.table_kwargs = table_kwargs\n",
    "        \n",
    "    def connect_db(self):\n",
    "        '''Make a new connection to the database and return the associated table.\n",
    "        '''\n",
    "        if self.table is None:\n",
    "            self.table = self.table_cls(*self.table_args, **self.table_kwargs)\n",
    "        return self.table\n",
    "    \n",
    "    def __call__(self, text):\n",
    "        '''Execute function in worker process.\n",
    "        '''\n",
    "        table = self.connect_db()\n",
    "        \n",
    "        record = NewsgroupDoc.from_string(text)\n",
    "        table.insert(record)\n",
    "        \n",
    "import multiprocessing\n",
    "with multiprocessing.Pool(4) as p:\n",
    "    %time p.map(process_and_store(NewsgroupTable, target=table_fname), newsgroups['data'])"
   ]
  },
  {
   "cell_type": "markdown",
   "metadata": {},
   "source": [
    "Notice that this takes very little CPU time, but a long \"wall time\" (overall time it takes to run the program). This is because the threads are IO-starved - they spend a lot of time waiting on each other to commit database transactions. This might be a good opportunity to use variations on threading models, but most parsing classes "
   ]
  },
  {
   "cell_type": "code",
   "execution_count": null,
   "metadata": {},
   "outputs": [],
   "source": [
    "class process_and_store_chunk(process_and_store):\n",
    "    def __call__(self, texts):\n",
    "        '''Execute function in worker process.\n",
    "        '''\n",
    "        table = self.connect_db()\n",
    "        \n",
    "        records = [NewsgroupDoc.from_string(text) for text in texts]\n",
    "        table.insert(records)\n",
    "\n",
    "chunked_newsgroups = doctable.chunk(newsgroups['data'], chunk_size=500)\n",
    "with multiprocessing.Pool(4) as p:\n",
    "    %time p.map(process_and_store_chunk(NewsgroupTable, target=table_fname), chunked_newsgroups)"
   ]
  },
  {
   "cell_type": "code",
   "execution_count": null,
   "metadata": {},
   "outputs": [],
   "source": []
  },
  {
   "cell_type": "code",
   "execution_count": null,
   "metadata": {},
   "outputs": [],
   "source": []
  },
  {
   "cell_type": "code",
   "execution_count": null,
   "metadata": {},
   "outputs": [],
   "source": [
    "parser = ParsePipeline([\n",
    "    parse_email\n",
    "])\n",
    "\n",
    "\n",
    "for email_text in newsgroups['data']:\n",
    "    email_data = parse_email(email_text)"
   ]
  },
  {
   "cell_type": "code",
   "execution_count": null,
   "metadata": {},
   "outputs": [],
   "source": [
    "\n",
    "\n",
    "import multiprocessing\n",
    "with multiprocessing.Pool(10) as p:\n",
    "    print(p)"
   ]
  }
 ],
 "metadata": {
  "kernelspec": {
   "display_name": "Python 3.8.5 ('base')",
   "language": "python",
   "name": "python3"
  },
  "language_info": {
   "codemirror_mode": {
    "name": "ipython",
    "version": 3
   },
   "file_extension": ".py",
   "mimetype": "text/x-python",
   "name": "python",
   "nbconvert_exporter": "python",
   "pygments_lexer": "ipython3",
   "version": "3.8.5"
  },
  "vscode": {
   "interpreter": {
    "hash": "6655beaf7f57a241ed2fe3a58b558d568db09842d57c904b8c0db510272f5c22"
   }
  }
 },
 "nbformat": 4,
 "nbformat_minor": 4
}
