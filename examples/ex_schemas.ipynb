{
 "cells": [
  {
   "cell_type": "markdown",
   "metadata": {},
   "source": [
    "# Table Schemas\n",
    "\n",
    "In this document, I give a single example that demonstrates use of various schema definition features. \n",
    "\n",
    "This interface is primarily focused around the `table_schema` decorator, but also includes use of `Column`, `Index`, `ForeignKey`, and `UniqueConstraint` objects."
   ]
  },
  {
   "cell_type": "code",
   "execution_count": 1,
   "metadata": {},
   "outputs": [],
   "source": [
    "import sys\n",
    "sys.path.append('../')\n",
    "import doctable\n",
    "import pprint"
   ]
  },
  {
   "cell_type": "markdown",
   "metadata": {},
   "source": [
    "## The `table_schema` decorator and Containers\n",
    "\n",
    "Parameters."
   ]
  },
  {
   "cell_type": "code",
   "execution_count": 2,
   "metadata": {},
   "outputs": [
    {
     "name": "stdout",
     "output_type": "stream",
     "text": [
      "Container1\n"
     ]
    },
    {
     "data": {
      "text/html": [
       "<div>\n",
       "<style scoped>\n",
       "    .dataframe tbody tr th:only-of-type {\n",
       "        vertical-align: middle;\n",
       "    }\n",
       "\n",
       "    .dataframe tbody tr th {\n",
       "        vertical-align: top;\n",
       "    }\n",
       "\n",
       "    .dataframe thead th {\n",
       "        text-align: right;\n",
       "    }\n",
       "</style>\n",
       "<table border=\"1\" class=\"dataframe\">\n",
       "  <thead>\n",
       "    <tr style=\"text-align: right;\">\n",
       "      <th></th>\n",
       "      <th>Col Name</th>\n",
       "      <th>Col Type</th>\n",
       "      <th>Attr Name</th>\n",
       "      <th>Hint</th>\n",
       "      <th>Order</th>\n",
       "      <th>Primary Key</th>\n",
       "      <th>Foreign Key</th>\n",
       "      <th>Index</th>\n",
       "      <th>Default</th>\n",
       "    </tr>\n",
       "  </thead>\n",
       "  <tbody>\n",
       "    <tr>\n",
       "      <th>0</th>\n",
       "      <td>name</td>\n",
       "      <td>String</td>\n",
       "      <td>name</td>\n",
       "      <td>str</td>\n",
       "      <td>(inf, 0)</td>\n",
       "      <td>False</td>\n",
       "      <td>False</td>\n",
       "      <td>None</td>\n",
       "      <td>None</td>\n",
       "    </tr>\n",
       "  </tbody>\n",
       "</table>\n",
       "</div>"
      ],
      "text/plain": [
       "  Col Name Col Type Attr Name Hint     Order  Primary Key  Foreign Key Index  \\\n",
       "0     name   String      name  str  (inf, 0)        False        False  None   \n",
       "\n",
       "  Default  \n",
       "0    None  "
      ]
     },
     "execution_count": 2,
     "metadata": {},
     "output_type": "execute_result"
    }
   ],
   "source": [
    "@doctable.table_schema # equivalent to @doctable.table_schema()\n",
    "class Container1:\n",
    "    name: str\n",
    "\n",
    "ins = doctable.inspect_schema(Container1)\n",
    "print(ins.table_name())\n",
    "ins.column_info_df()"
   ]
  },
  {
   "cell_type": "code",
   "execution_count": 3,
   "metadata": {},
   "outputs": [
    {
     "name": "stdout",
     "output_type": "stream",
     "text": [
      "container2\n"
     ]
    },
    {
     "data": {
      "text/html": [
       "<div>\n",
       "<style scoped>\n",
       "    .dataframe tbody tr th:only-of-type {\n",
       "        vertical-align: middle;\n",
       "    }\n",
       "\n",
       "    .dataframe tbody tr th {\n",
       "        vertical-align: top;\n",
       "    }\n",
       "\n",
       "    .dataframe thead th {\n",
       "        text-align: right;\n",
       "    }\n",
       "</style>\n",
       "<table border=\"1\" class=\"dataframe\">\n",
       "  <thead>\n",
       "    <tr style=\"text-align: right;\">\n",
       "      <th></th>\n",
       "      <th>Col Name</th>\n",
       "      <th>Col Type</th>\n",
       "      <th>Attr Name</th>\n",
       "      <th>Hint</th>\n",
       "      <th>Order</th>\n",
       "      <th>Primary Key</th>\n",
       "      <th>Foreign Key</th>\n",
       "      <th>Index</th>\n",
       "      <th>Default</th>\n",
       "    </tr>\n",
       "  </thead>\n",
       "  <tbody>\n",
       "    <tr>\n",
       "      <th>0</th>\n",
       "      <td>name</td>\n",
       "      <td>String</td>\n",
       "      <td>name</td>\n",
       "      <td>str</td>\n",
       "      <td>(inf, 0)</td>\n",
       "      <td>False</td>\n",
       "      <td>False</td>\n",
       "      <td>None</td>\n",
       "      <td>None</td>\n",
       "    </tr>\n",
       "    <tr>\n",
       "      <th>1</th>\n",
       "      <td>age</td>\n",
       "      <td>Integer</td>\n",
       "      <td>age</td>\n",
       "      <td>int</td>\n",
       "      <td>(inf, 1)</td>\n",
       "      <td>False</td>\n",
       "      <td>False</td>\n",
       "      <td>None</td>\n",
       "      <td>None</td>\n",
       "    </tr>\n",
       "  </tbody>\n",
       "</table>\n",
       "</div>"
      ],
      "text/plain": [
       "  Col Name Col Type Attr Name Hint     Order  Primary Key  Foreign Key Index  \\\n",
       "0     name   String      name  str  (inf, 0)        False        False  None   \n",
       "1      age  Integer       age  int  (inf, 1)        False        False  None   \n",
       "\n",
       "  Default  \n",
       "0    None  \n",
       "1    None  "
      ]
     },
     "execution_count": 3,
     "metadata": {},
     "output_type": "execute_result"
    }
   ],
   "source": [
    "@doctable.table_schema(table_name='container2')\n",
    "class Container2:\n",
    "    name: str\n",
    "    age: int\n",
    "ins = doctable.inspect_schema(Container2)\n",
    "print(ins.table_name())\n",
    "ins.column_info_df()"
   ]
  },
  {
   "cell_type": "markdown",
   "metadata": {},
   "source": [
    "#### Specifying Column Properties\n",
    "\n",
    "There are two sets of parameters you may adjust to change the behavior of a column: \n",
    "\n",
    "+ `ColumnArgs`: adjust the behavior of the generated column. This does not affect the container object, but does affect the database column.\n",
    "\n",
    "+ `FieldArgs`: adjust the behavior of container attribute by passing arguments to `dataclasses.field()`. This does not affect the database column, but does affect the way the container object can be used.\n",
    "\n",
    "Both are passed directly to the `Column` function, which, as you can see, simply returns a `dataclasses.field` object with column arguments passed to the `metadata` attribute. Note that by default, the `default` argument is set to `doctable.MISSING`, so the parameter is optional and will be populated with that value. Missing values will be ignored when inserting the object into the database."
   ]
  },
  {
   "cell_type": "code",
   "execution_count": 4,
   "metadata": {},
   "outputs": [
    {
     "data": {
      "text/plain": [
       "Field(name=None,type=None,default=MISSING,default_factory=<dataclasses._MISSING_TYPE object at 0x7efcd0d029d0>,init=True,repr=True,hash=None,compare=True,metadata=mappingproxy({'_column_args': ColumnArgs(order=inf, column_name=None, type_kwargs={}, use_type=None, sqlalchemy_type=None, autoincrement=False, nullable=True, unique=None, primary_key=False, index=None, foreign_key=None, default=None, onupdate=None, server_default=None, server_onupdate=None, comment=None, other_kwargs={})}),kw_only=<dataclasses._MISSING_TYPE object at 0x7efcd0d029d0>,_field_type=None)"
      ]
     },
     "execution_count": 4,
     "metadata": {},
     "output_type": "execute_result"
    }
   ],
   "source": [
    "doctable.Column(\n",
    "    column_args=doctable.ColumnArgs(),\n",
    "    field_args=doctable.FieldArgs(),\n",
    ")"
   ]
  },
  {
   "cell_type": "code",
   "execution_count": 5,
   "metadata": {},
   "outputs": [
    {
     "data": {
      "text/html": [
       "<div>\n",
       "<style scoped>\n",
       "    .dataframe tbody tr th:only-of-type {\n",
       "        vertical-align: middle;\n",
       "    }\n",
       "\n",
       "    .dataframe tbody tr th {\n",
       "        vertical-align: top;\n",
       "    }\n",
       "\n",
       "    .dataframe thead th {\n",
       "        text-align: right;\n",
       "    }\n",
       "</style>\n",
       "<table border=\"1\" class=\"dataframe\">\n",
       "  <thead>\n",
       "    <tr style=\"text-align: right;\">\n",
       "      <th></th>\n",
       "      <th>Col Name</th>\n",
       "      <th>Col Type</th>\n",
       "      <th>Attr Name</th>\n",
       "      <th>Hint</th>\n",
       "      <th>Order</th>\n",
       "      <th>Primary Key</th>\n",
       "      <th>Foreign Key</th>\n",
       "      <th>Index</th>\n",
       "      <th>Default</th>\n",
       "    </tr>\n",
       "  </thead>\n",
       "  <tbody>\n",
       "    <tr>\n",
       "      <th>0</th>\n",
       "      <td>id</td>\n",
       "      <td>Integer</td>\n",
       "      <td>_id</td>\n",
       "      <td>int</td>\n",
       "      <td>(0, 4)</td>\n",
       "      <td>True</td>\n",
       "      <td>False</td>\n",
       "      <td>None</td>\n",
       "      <td>None</td>\n",
       "    </tr>\n",
       "    <tr>\n",
       "      <th>1</th>\n",
       "      <td>name</td>\n",
       "      <td>String</td>\n",
       "      <td>name</td>\n",
       "      <td>str</td>\n",
       "      <td>(inf, 0)</td>\n",
       "      <td>False</td>\n",
       "      <td>False</td>\n",
       "      <td>None</td>\n",
       "      <td>None</td>\n",
       "    </tr>\n",
       "    <tr>\n",
       "      <th>2</th>\n",
       "      <td>age</td>\n",
       "      <td>Integer</td>\n",
       "      <td>age</td>\n",
       "      <td>int</td>\n",
       "      <td>(inf, 1)</td>\n",
       "      <td>False</td>\n",
       "      <td>False</td>\n",
       "      <td>None</td>\n",
       "      <td>None</td>\n",
       "    </tr>\n",
       "    <tr>\n",
       "      <th>3</th>\n",
       "      <td>address</td>\n",
       "      <td>String</td>\n",
       "      <td>address</td>\n",
       "      <td>Address</td>\n",
       "      <td>(inf, 2)</td>\n",
       "      <td>False</td>\n",
       "      <td>False</td>\n",
       "      <td>None</td>\n",
       "      <td>None</td>\n",
       "    </tr>\n",
       "    <tr>\n",
       "      <th>4</th>\n",
       "      <td>phone</td>\n",
       "      <td>String</td>\n",
       "      <td>phone</td>\n",
       "      <td>PhoneNumber</td>\n",
       "      <td>(inf, 3)</td>\n",
       "      <td>False</td>\n",
       "      <td>False</td>\n",
       "      <td>None</td>\n",
       "      <td>None</td>\n",
       "    </tr>\n",
       "    <tr>\n",
       "      <th>5</th>\n",
       "      <td>added</td>\n",
       "      <td>DateTime</td>\n",
       "      <td>added</td>\n",
       "      <td>datetime</td>\n",
       "      <td>(inf, 5)</td>\n",
       "      <td>False</td>\n",
       "      <td>False</td>\n",
       "      <td>None</td>\n",
       "      <td>now</td>\n",
       "    </tr>\n",
       "  </tbody>\n",
       "</table>\n",
       "</div>"
      ],
      "text/plain": [
       "  Col Name  Col Type Attr Name         Hint     Order  Primary Key  \\\n",
       "0       id   Integer       _id          int    (0, 4)         True   \n",
       "1     name    String      name          str  (inf, 0)        False   \n",
       "2      age   Integer       age          int  (inf, 1)        False   \n",
       "3  address    String   address      Address  (inf, 2)        False   \n",
       "4    phone    String     phone  PhoneNumber  (inf, 3)        False   \n",
       "5    added  DateTime     added     datetime  (inf, 5)        False   \n",
       "\n",
       "   Foreign Key Index Default  \n",
       "0        False  None    None  \n",
       "1        False  None    None  \n",
       "2        False  None    None  \n",
       "3        False  None    None  \n",
       "4        False  None    None  \n",
       "5        False  None     now  "
      ]
     },
     "execution_count": 5,
     "metadata": {},
     "output_type": "execute_result"
    }
   ],
   "source": [
    "import datetime\n",
    "\n",
    "class PhoneNumber(str):\n",
    "    pass\n",
    "\n",
    "class Address(str):\n",
    "    pass\n",
    "\n",
    "@doctable.table_schema(table_name='container3')\n",
    "class Container3:\n",
    "    name: str\n",
    "    age: int = doctable.Column(field_args=doctable.FieldArgs(init_required=True))\n",
    "    address: Address = doctable.Column()\n",
    "    phone: PhoneNumber = doctable.Column()\n",
    "    \n",
    "    # this column will appear first in the database, even though this attribute is later\n",
    "    _id: int = doctable.Column(\n",
    "        column_args=doctable.ColumnArgs(\n",
    "            column_name='id', # name of the column in the db (might not want to have an attr called 'id')\n",
    "            order = 0, # affects the ordering of the columns in the db\n",
    "            primary_key=True,\n",
    "            autoincrement=True,\n",
    "        ),\n",
    "    )\n",
    "    \n",
    "    # doctable will define default and onupdate when inserting into database\n",
    "    added: datetime.datetime = doctable.Column(\n",
    "        column_args=doctable.ColumnArgs(\n",
    "            default=datetime.datetime.now, \n",
    "            onupdate=datetime.datetime.now\n",
    "        ),\n",
    "        field_args = doctable.FieldArgs(\n",
    "            repr=False, # don't show this field when printing\n",
    "        )\n",
    "    )    \n",
    "\n",
    "doctable.inspect_schema(Container3).column_info_df()"
   ]
  },
  {
   "cell_type": "markdown",
   "metadata": {},
   "source": [
    "Notice that the string representation does not show the `added` attribute, as specified via `FieldAargs(repr=False)`."
   ]
  },
  {
   "cell_type": "code",
   "execution_count": 6,
   "metadata": {},
   "outputs": [
    {
     "data": {
      "text/plain": [
       "Container3(name='Devin J. Cornell', age=30, address=MISSING, phone=MISSING, _id=MISSING)"
      ]
     },
     "execution_count": 6,
     "metadata": {},
     "output_type": "execute_result"
    }
   ],
   "source": [
    "Container3('Devin J. Cornell', 30)"
   ]
  },
  {
   "cell_type": "markdown",
   "metadata": {},
   "source": [
    "#### Indices\n",
    "\n",
    "Indices may be added to a table by passing a dictionary of name, `Index` pairs to the `indices` parameter of the `table_schema` decorator. The arguments are the columns, and any additional keyword arguments may be passed after."
   ]
  },
  {
   "cell_type": "code",
   "execution_count": 7,
   "metadata": {},
   "outputs": [
    {
     "data": {
      "text/html": [
       "<div>\n",
       "<style scoped>\n",
       "    .dataframe tbody tr th:only-of-type {\n",
       "        vertical-align: middle;\n",
       "    }\n",
       "\n",
       "    .dataframe tbody tr th {\n",
       "        vertical-align: top;\n",
       "    }\n",
       "\n",
       "    .dataframe thead th {\n",
       "        text-align: right;\n",
       "    }\n",
       "</style>\n",
       "<table border=\"1\" class=\"dataframe\">\n",
       "  <thead>\n",
       "    <tr style=\"text-align: right;\">\n",
       "      <th></th>\n",
       "      <th>name</th>\n",
       "      <th>columns</th>\n",
       "      <th>kwargs</th>\n",
       "    </tr>\n",
       "  </thead>\n",
       "  <tbody>\n",
       "    <tr>\n",
       "      <th>0</th>\n",
       "      <td>ind_name</td>\n",
       "      <td>name</td>\n",
       "      <td></td>\n",
       "    </tr>\n",
       "    <tr>\n",
       "      <th>1</th>\n",
       "      <td>ind_name_age</td>\n",
       "      <td>name, age</td>\n",
       "      <td>unique: True</td>\n",
       "    </tr>\n",
       "  </tbody>\n",
       "</table>\n",
       "</div>"
      ],
      "text/plain": [
       "           name    columns        kwargs\n",
       "0      ind_name       name              \n",
       "1  ind_name_age  name, age  unique: True"
      ]
     },
     "execution_count": 7,
     "metadata": {},
     "output_type": "execute_result"
    }
   ],
   "source": [
    "@doctable.table_schema(\n",
    "    table_name='container2',\n",
    "    indices = {\n",
    "        'ind_name': doctable.Index('name'),\n",
    "        'ind_name_age': doctable.Index('name', 'age', unique=True),\n",
    "    }\n",
    ")\n",
    "class Container3:\n",
    "    name: str\n",
    "    age: int\n",
    "\n",
    "ins = doctable.inspect_schema(Container3)\n",
    "ins.index_info_df()"
   ]
  },
  {
   "cell_type": "markdown",
   "metadata": {},
   "source": [
    "#### Constraints\n",
    "\n",
    "You may pass constraints through the `constraint` parameter of the `table_schema` decorator.\n",
    "\n",
    "There are several types of constraints you may want to use in your schema. The following methods are thin wrappers over the [SQLAlchemy objects of the same name](https://docs.sqlalchemy.org/en/20/core/constraints.html).\n",
    "\n",
    "| docs | Constraint | Description |\n",
    "| --- | --- | --- |\n",
    "| [link](https://docs.sqlalchemy.org/en/20/core/constraints.html#sqlalchemy.schema.ForeignKeyConstraint) | `ForeignKey(local_columns, foreign_columns, optional[onupdate], optional[ondelete])` | A foreign key constraint. |\n",
    "| [link](https://docs.sqlalchemy.org/en/20/core/constraints.html#sqlalchemy.schema.CheckConstraint) | `CheckConstraint(text, optional[Name])` | A unique constraint. |\n",
    "| [link](https://docs.sqlalchemy.org/en/20/core/constraints.html#sqlalchemy.schema.UniqueConstraint) | `UniqueConstraint(*column_names, optional[name])` | A unique constraint. |\n",
    "| [link](https://docs.sqlalchemy.org/en/20/core/constraints.html#sqlalchemy.schema.PrimaryKeyConstraint) | `PrimaryKeyConstraint(*column_names, optional[name])` | A unique constraint. |"
   ]
  },
  {
   "cell_type": "code",
   "execution_count": 8,
   "metadata": {},
   "outputs": [],
   "source": [
    "@doctable.table_schema(\n",
    "    table_name='container4',\n",
    "    constraints = [\n",
    "        #doctable.ForeignKey(..), # see multi-table schemas below\n",
    "        doctable.CheckConstraint('age >= 0', name='check_age'),\n",
    "        doctable.UniqueConstraint('age', 'name', name='unique_age_name'),\n",
    "        doctable.PrimaryKeyConstraint('id'),\n",
    "    ]\n",
    ")\n",
    "class Container4:\n",
    "    id: int # this is the primary key now\n",
    "    name: str\n",
    "    age: int"
   ]
  },
  {
   "cell_type": "markdown",
   "metadata": {},
   "source": [
    "## Column Types"
   ]
  },
  {
   "cell_type": "code",
   "execution_count": null,
   "metadata": {},
   "outputs": [],
   "source": []
  },
  {
   "cell_type": "markdown",
   "metadata": {},
   "source": []
  },
  {
   "cell_type": "code",
   "execution_count": null,
   "metadata": {},
   "outputs": [],
   "source": []
  },
  {
   "cell_type": "markdown",
   "metadata": {},
   "source": [
    "## Multi-table Schemas\n",
    "\n",
    "The example below shows two linked tables: one for colors, and the other for people. Each person has a favorite color that is constrained by a foriegn key to the colors table. The colors table also has a unique constraint on the color name. I demonstrate use of the `Column` function to describe behavior of columns - specifically the use of `ColumnArgs` to specify additional column features that are not conveyed through type annotations or attribute names. I also show use of the `Index` object for creating indexes, the `UniqueConstraint` object for creating unique constraints, and the `ForeignKey` object for creating foreign key constraints. \n",
    "\n",
    "Note that the container object representing the database schema is also a usable `dataclass` that can used like any other container object. In fact, tables created according to this schema can insert these objects directly and will wrap return values issued via select queries."
   ]
  },
  {
   "cell_type": "code",
   "execution_count": 9,
   "metadata": {},
   "outputs": [
    {
     "name": "stdout",
     "output_type": "stream",
     "text": [
      "id: INTEGER\n",
      "name: VARCHAR\n",
      "address: VARCHAR\n",
      "birthday: DATETIME\n",
      "fav_color: VARCHAR\n",
      "added: DATETIME\n"
     ]
    }
   ],
   "source": [
    "import datetime\n",
    "\n",
    "@doctable.table_schema(\n",
    "    table_name='color',\n",
    "    constraints = [\n",
    "        doctable.UniqueConstraint('name'),\n",
    "    ]\n",
    ")\n",
    "class Color:\n",
    "    name: str\n",
    "    id: int = doctable.Column(\n",
    "        column_args=doctable.ColumnArgs(\n",
    "            primary_key=True,\n",
    "            autoincrement=True,\n",
    "        )\n",
    "    )\n",
    "\n",
    "# lets say we use this instead of an int\n",
    "class PersonID(int):\n",
    "    pass\n",
    "\n",
    "# add table-level parameters to this decorator\n",
    "@doctable.table_schema(\n",
    "    table_name='person',\n",
    "    indices = {\n",
    "        'ind_name_birthday': doctable.Index('name', 'birthday', unique=True),\n",
    "    },\n",
    "    constraints = [ # these constraints are set on the database\n",
    "        doctable.CheckConstraint('length(address) > 0'), # cannot have a blank address\n",
    "        doctable.UniqueConstraint('birthday', 'fav_color'),\n",
    "        doctable.ForeignKey(['fav_color'], ['color.name'], onupdate='CASCADE', ondelete='CASCADE'),\n",
    "    ],\n",
    "    frozen = True, # parameter passed to dataclasses.dataclass\n",
    ")\n",
    "class Person:\n",
    "    name: str\n",
    "    \n",
    "    # default value will be \"not provided\" - good standardization\n",
    "    address: str = doctable.Column(\n",
    "        column_args=doctable.ColumnArgs(\n",
    "            server_default='not provided',\n",
    "        )\n",
    "    )\n",
    "    \n",
    "    # provided as datetime, set to be indexed\n",
    "    birthday: datetime.datetime = doctable.Column(\n",
    "        column_args=doctable.ColumnArgs(\n",
    "            index = True,\n",
    "        )\n",
    "    )\n",
    "    \n",
    "    # note that this has a foreign key constraint above\n",
    "    fav_color: str = doctable.Column(\n",
    "        column_args=doctable.ColumnArgs(\n",
    "            nullable=False,\n",
    "        )\n",
    "    )\n",
    "    \n",
    "    id: PersonID = doctable.Column( # standard id column\n",
    "        column_args=doctable.ColumnArgs(\n",
    "            order=0, # will be the first column\n",
    "            primary_key=True,\n",
    "            autoincrement=True\n",
    "        ),\n",
    "    )\n",
    "    \n",
    "    # doctable will define default and onupdate when inserting into database\n",
    "    added: datetime.datetime = doctable.Column(\n",
    "        column_args=doctable.ColumnArgs(\n",
    "            index=True,\n",
    "            default=datetime.datetime.utcnow, \n",
    "            onupdate=datetime.datetime.utcnow\n",
    "        )\n",
    "    )\n",
    "    \n",
    "    # this property will not be stored in the database \n",
    "    #   - it acts like any other property\n",
    "    @property\n",
    "    def age(self):\n",
    "        return datetime.datetime.now() - self.birthday\n",
    "    \n",
    "    \n",
    "core = doctable.ConnectCore.open(\n",
    "    target=':memory:', \n",
    "    dialect='sqlite'\n",
    ")\n",
    "# NOTE: weird error when trying to run this twice after defining containers\n",
    "with core.begin_ddl() as emitter:\n",
    "    core.enable_foreign_keys() # NOTE: NEEDED TO ENABLE FOREIGN KEYS\n",
    "    color_tab = emitter.create_table_if_not_exists(container_type=Color)\n",
    "    person_tab = emitter.create_table_if_not_exists(container_type=Person)\n",
    "for col_info in person_tab.inspect_columns():\n",
    "    print(f'{col_info[\"name\"]}: {col_info[\"type\"]}')"
   ]
  },
  {
   "cell_type": "markdown",
   "metadata": {},
   "source": [
    "Insertion into the color table is fairly straightforward."
   ]
  },
  {
   "cell_type": "code",
   "execution_count": 10,
   "metadata": {},
   "outputs": [
    {
     "name": "stdout",
     "output_type": "stream",
     "text": [
      "Color(name='red', id=1)\n",
      "Color(name='green', id=2)\n",
      "Color(name='blue', id=3)\n"
     ]
    }
   ],
   "source": [
    "color_names = ['red', 'green', 'blue']\n",
    "colors = [Color(name=name) for name in color_names]\n",
    "with color_tab.query() as q:\n",
    "    q.insert_multi(colors)\n",
    "    for c in q.select():\n",
    "        print(c)\n",
    "    #print(q.select())"
   ]
  },
  {
   "cell_type": "markdown",
   "metadata": {},
   "source": [
    "Insertion into the person table is similar, and note that we see an exception if we try to insert a person with a favorite color that is not in the color table."
   ]
  },
  {
   "cell_type": "code",
   "execution_count": 11,
   "metadata": {},
   "outputs": [
    {
     "name": "stdout",
     "output_type": "stream",
     "text": [
      "successfully threw exception: (sqlite3.IntegrityError) FOREIGN KEY constraint failed\n",
      "[SQL: INSERT OR REPLACE INTO person (name, address, birthday, fav_color, added) VALUES (?, ?, ?, ?, ?)]\n",
      "[parameters: ('Bob', '123 Main St', '1990-01-01 00:00:00.000000', 'other', '2023-11-14 20:19:15.068774')]\n",
      "(Background on this error at: https://sqlalche.me/e/20/gkpj)\n",
      "John (red): 33 y/o\n",
      "Sue (green): 32 y/o\n",
      "Ren (blue): 28 y/o\n"
     ]
    }
   ],
   "source": [
    "persons = [\n",
    "    Person(name='John', birthday=datetime.datetime(1990, 1, 1), fav_color='red'),\n",
    "    Person(name='Sue', birthday=datetime.datetime(1991, 1, 1), fav_color='green'),\n",
    "    Person(name='Ren', birthday=datetime.datetime(1995, 1, 1), fav_color='blue'),\n",
    "]\n",
    "other_person = Person(\n",
    "    name='Bob', \n",
    "    address='123 Main St', \n",
    "    birthday=datetime.datetime(1990, 1, 1), \n",
    "    fav_color='other', # NOTE: THIS WILL CAUSE AN ERROR (NOT IN COLOR TABLE)\n",
    ")\n",
    "\n",
    "import sqlalchemy.exc\n",
    "\n",
    "sec_in_one_year = 24*60*60*365\n",
    "with person_tab.query() as q:\n",
    "    q.insert_multi(persons, ifnotunique='replace')\n",
    "    \n",
    "    try:\n",
    "        q.insert_single(other_person, ifnotunique='replace')\n",
    "        print(f'THIS SHOULD NOT APPEAR')\n",
    "    except sqlalchemy.exc.IntegrityError as e:\n",
    "        print(f'successfully threw exception: {e}')\n",
    "    \n",
    "    for p in q.select():\n",
    "        print(f'{p.name} ({p.fav_color}): {p.age.total_seconds()//sec_in_one_year:0.0f} y/o')"
   ]
  },
  {
   "cell_type": "markdown",
   "metadata": {},
   "source": [
    "The foreign key works as expected because we set `onupdate`: changing that value in the parent table will update the value in the child table."
   ]
  },
  {
   "cell_type": "code",
   "execution_count": 12,
   "metadata": {},
   "outputs": [
    {
     "name": "stdout",
     "output_type": "stream",
     "text": [
      "Color(name='reddish', id=1)\n",
      "Color(name='green', id=2)\n",
      "Color(name='blue', id=3)\n",
      "John (reddish): 33 y/o\n",
      "Sue (green): 32 y/o\n",
      "Ren (blue): 28 y/o\n"
     ]
    }
   ],
   "source": [
    "with color_tab.query() as q:\n",
    "    q.update_single(dict(name='reddish'), where=color_tab['name']=='red')\n",
    "    for c in q.select():\n",
    "        print(c)\n",
    "        \n",
    "with person_tab.query() as q:\n",
    "    for p in q.select():\n",
    "        print(f'{p.name} ({p.fav_color}): {p.age.total_seconds()//sec_in_one_year:0.0f} y/o')"
   ]
  }
 ],
 "metadata": {
  "kernelspec": {
   "display_name": "Python 3 (ipykernel)",
   "language": "python",
   "name": "python3"
  },
  "language_info": {
   "codemirror_mode": {
    "name": "ipython",
    "version": 3
   },
   "file_extension": ".py",
   "mimetype": "text/x-python",
   "name": "python",
   "nbconvert_exporter": "python",
   "pygments_lexer": "ipython3",
   "version": "3.11.5"
  }
 },
 "nbformat": 4,
 "nbformat_minor": 2
}
