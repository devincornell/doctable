{
 "cells": [
  {
   "cell_type": "markdown",
   "metadata": {},
   "source": [
    "# Table Schemas\n",
    "\n",
    "In this example, I demonstrate features of the table creation interface."
   ]
  },
  {
   "cell_type": "code",
   "execution_count": 1,
   "metadata": {},
   "outputs": [],
   "source": [
    "import sys\n",
    "sys.path.append('../')\n",
    "import doctable\n",
    "import pprint"
   ]
  },
  {
   "cell_type": "markdown",
   "metadata": {},
   "source": [
    "The examples below demonstrate the use of doctable to create two tables, one for a list of people and one for their favorite colors. They include several features for creating database schemas, and I added comments in some places where the purpose may be unclear."
   ]
  },
  {
   "cell_type": "code",
   "execution_count": 2,
   "metadata": {},
   "outputs": [
    {
     "name": "stdout",
     "output_type": "stream",
     "text": [
      "id: INTEGER\n",
      "added: DATETIME\n",
      "address: VARCHAR\n",
      "birthday: DATETIME\n",
      "fav_color: VARCHAR\n",
      "name: VARCHAR\n"
     ]
    }
   ],
   "source": [
    "import datetime\n",
    "\n",
    "@doctable.table_schema(\n",
    "    table_name='color',\n",
    "    constraints = [\n",
    "        doctable.UniqueConstraint('name'),\n",
    "    ]\n",
    ")\n",
    "class Color:\n",
    "    name: str\n",
    "    id: int = doctable.Column(\n",
    "        column_args=doctable.ColumnArgs(\n",
    "            primary_key=True,\n",
    "            autoincrement=True,\n",
    "        )\n",
    "    )\n",
    "\n",
    "# lets say we use this instead of an int\n",
    "class PersonID(int):\n",
    "    pass\n",
    "\n",
    "# add table-level parameters to this decorator\n",
    "@doctable.table_schema(\n",
    "    table_name='person',\n",
    "    indices = {\n",
    "        'ind_name_birthday': doctable.Index('name', 'birthday', unique=True),\n",
    "    },\n",
    "    constraints = [ # these constraints are set on the database\n",
    "        doctable.CheckConstraint('length(address) > 0'), # cannot have a blank address\n",
    "        doctable.UniqueConstraint('birthday', 'fav_color'),\n",
    "        doctable.ForeignKey(['fav_color'], ['color.name'], onupdate='CASCADE', ondelete='CASCADE'),\n",
    "    ],\n",
    "    frozen = True, # parameter passed to dataclasses.dataclass\n",
    ")\n",
    "class Person:\n",
    "    name: str\n",
    "    \n",
    "    # default value will be \"not provided\" - good standardization\n",
    "    address: str = doctable.Column(\n",
    "        column_args=doctable.ColumnArgs(\n",
    "            server_default='not provided',\n",
    "        )\n",
    "    )\n",
    "    \n",
    "    # provided as datetime, set to be indexed\n",
    "    birthday: datetime.datetime = doctable.Column(\n",
    "        column_args=doctable.ColumnArgs(\n",
    "            index = True,\n",
    "        )\n",
    "    )\n",
    "    \n",
    "    # note that this has a foreign key constraint above\n",
    "    fav_color: str = doctable.Column(\n",
    "        column_args=doctable.ColumnArgs(\n",
    "            nullable=False,\n",
    "        )\n",
    "    )\n",
    "    \n",
    "    id: PersonID = doctable.Column( # standard id column\n",
    "        column_args=doctable.ColumnArgs(\n",
    "            order=0, # will be the first column\n",
    "            primary_key=True,\n",
    "            autoincrement=True\n",
    "        ),\n",
    "    )\n",
    "    \n",
    "    # doctable will define default and onupdate when inserting into database\n",
    "    added: datetime.datetime = doctable.Column(\n",
    "        column_args=doctable.ColumnArgs(\n",
    "            index=True,\n",
    "            default=datetime.datetime.utcnow, \n",
    "            onupdate=datetime.datetime.utcnow\n",
    "        )\n",
    "    )\n",
    "    \n",
    "    # this property will not be stored in the database \n",
    "    #   - it acts like any other property\n",
    "    @property\n",
    "    def age(self):\n",
    "        return datetime.datetime.now() - self.birthday\n",
    "    \n",
    "    \n",
    "core = doctable.ConnectCore.open(\n",
    "    target=':memory:', \n",
    "    dialect='sqlite'\n",
    ")\n",
    "# NOTE: weird error when trying to run this twice after defining containers\n",
    "with core.begin_ddl() as emitter:\n",
    "    core.enable_foreign_keys() # NOTE: NEEDED TO ENABLE FOREIGN KEYS\n",
    "    color_tab = emitter.create_table_if_not_exists(container_type=Color)\n",
    "    person_tab = emitter.create_table_if_not_exists(container_type=Person)\n",
    "for col_info in person_tab.inspect_columns():\n",
    "    print(f'{col_info[\"name\"]}: {col_info[\"type\"]}')"
   ]
  },
  {
   "cell_type": "markdown",
   "metadata": {},
   "source": [
    "Insertion into the color table is fairly straightforward."
   ]
  },
  {
   "cell_type": "code",
   "execution_count": 3,
   "metadata": {},
   "outputs": [
    {
     "name": "stdout",
     "output_type": "stream",
     "text": [
      "Color(name='red', id=1)\n",
      "Color(name='green', id=2)\n",
      "Color(name='blue', id=3)\n"
     ]
    }
   ],
   "source": [
    "color_names = ['red', 'green', 'blue']\n",
    "colors = [Color(name=name) for name in color_names]\n",
    "with color_tab.query() as q:\n",
    "    q.insert_multi(colors)\n",
    "    for c in q.select():\n",
    "        print(c)\n",
    "    #print(q.select())"
   ]
  },
  {
   "cell_type": "markdown",
   "metadata": {},
   "source": [
    "Insertion into the person table is similar, and note that we see an exception if we try to insert a person with a favorite color that is not in the color table."
   ]
  },
  {
   "cell_type": "code",
   "execution_count": 4,
   "metadata": {},
   "outputs": [
    {
     "name": "stdout",
     "output_type": "stream",
     "text": [
      "successfully threw exception: (sqlite3.IntegrityError) FOREIGN KEY constraint failed\n",
      "[SQL: INSERT OR REPLACE INTO person (added, address, birthday, fav_color, name) VALUES (?, ?, ?, ?, ?)]\n",
      "[parameters: ('2023-11-11 19:13:08.275137', '123 Main St', '1990-01-01 00:00:00.000000', 'other', 'Bob')]\n",
      "(Background on this error at: https://sqlalche.me/e/20/gkpj)\n",
      "John (red): 33 y/o\n",
      "Sue (green): 32 y/o\n",
      "Ren (blue): 28 y/o\n"
     ]
    }
   ],
   "source": [
    "persons = [\n",
    "    Person(name='John', birthday=datetime.datetime(1990, 1, 1), fav_color='red'),\n",
    "    Person(name='Sue', birthday=datetime.datetime(1991, 1, 1), fav_color='green'),\n",
    "    Person(name='Ren', birthday=datetime.datetime(1995, 1, 1), fav_color='blue'),\n",
    "]\n",
    "other_person = Person(\n",
    "    name='Bob', \n",
    "    address='123 Main St', \n",
    "    birthday=datetime.datetime(1990, 1, 1), \n",
    "    fav_color='other', # NOTE: THIS WILL CAUSE AN ERROR (NOT IN COLOR TABLE)\n",
    ")\n",
    "\n",
    "import sqlalchemy.exc\n",
    "\n",
    "sec_in_one_year = 24*60*60*365\n",
    "with person_tab.query() as q:\n",
    "    q.insert_multi(persons, ifnotunique='replace')\n",
    "    \n",
    "    try:\n",
    "        q.insert_single(other_person, ifnotunique='replace')\n",
    "        print(f'THIS SHOULD NOT APPEAR')\n",
    "    except sqlalchemy.exc.IntegrityError as e:\n",
    "        print(f'successfully threw exception: {e}')\n",
    "    \n",
    "    for p in q.select():\n",
    "        print(f'{p.name} ({p.fav_color}): {p.age.total_seconds()//sec_in_one_year:0.0f} y/o')"
   ]
  },
  {
   "cell_type": "markdown",
   "metadata": {},
   "source": [
    "The foreign key works as expected because we set `onupdate`: changing that value in the parent table will update the value in the child table."
   ]
  },
  {
   "cell_type": "code",
   "execution_count": 5,
   "metadata": {},
   "outputs": [
    {
     "name": "stdout",
     "output_type": "stream",
     "text": [
      "Color(name='reddish', id=1)\n",
      "Color(name='green', id=2)\n",
      "Color(name='blue', id=3)\n",
      "John (reddish): 33 y/o\n",
      "Sue (green): 32 y/o\n",
      "Ren (blue): 28 y/o\n"
     ]
    }
   ],
   "source": [
    "with color_tab.query() as q:\n",
    "    q.update_single(dict(name='reddish'), where=color_tab['name']=='red')\n",
    "    for c in q.select():\n",
    "        print(c)\n",
    "        \n",
    "with person_tab.query() as q:\n",
    "    for p in q.select():\n",
    "        print(f'{p.name} ({p.fav_color}): {p.age.total_seconds()//sec_in_one_year:0.0f} y/o')"
   ]
  }
 ],
 "metadata": {
  "kernelspec": {
   "display_name": "Python 3 (ipykernel)",
   "language": "python",
   "name": "python3"
  },
  "language_info": {
   "codemirror_mode": {
    "name": "ipython",
    "version": 3
   },
   "file_extension": ".py",
   "mimetype": "text/x-python",
   "name": "python",
   "nbconvert_exporter": "python",
   "pygments_lexer": "ipython3",
   "version": "3.11.5"
  }
 },
 "nbformat": 4,
 "nbformat_minor": 2
}
