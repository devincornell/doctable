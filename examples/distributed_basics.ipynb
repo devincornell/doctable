{
 "cells": [
  {
   "cell_type": "markdown",
   "metadata": {},
   "source": [
    "# Distributed Processing Basics\n",
    "Due to a number of limitations involving data passed to processes using `multiprocessing.Pool()`, I've implemented similar (although probably less robust) class called `Distribute()`."
   ]
  },
  {
   "cell_type": "code",
   "execution_count": 1,
   "metadata": {},
   "outputs": [],
   "source": [
    "import sys\n",
    "sys.path.append('..')\n",
    "import doctable"
   ]
  },
  {
   "cell_type": "markdown",
   "metadata": {},
   "source": [
    "## `.map_chunk()` Method\n",
    "Allows you to write map functions that processes a chunk of your data at a time. This is the lowest-level method for distributed processing."
   ]
  },
  {
   "cell_type": "code",
   "execution_count": 2,
   "metadata": {},
   "outputs": [
    {
     "name": "stdout",
     "output_type": "stream",
     "text": [
      "CPU times: user 6.72 ms, sys: 10.5 ms, total: 17.2 ms\n",
      "Wall time: 19.6 ms\n",
      "CPU times: user 240 µs, sys: 0 ns, total: 240 µs\n",
      "Wall time: 249 µs\n"
     ]
    },
    {
     "data": {
      "text/plain": [
       "[0.0, 1.275, 2.55]"
      ]
     },
     "execution_count": 2,
     "metadata": {},
     "output_type": "execute_result"
    }
   ],
   "source": [
    "# and now additional args plus the database\n",
    "def muli_multi(nums):\n",
    "    return [num*1.275 for num in nums]\n",
    "\n",
    "nums = list(range(1000))\n",
    "with doctable.Distribute(3) as d:\n",
    "    %time res = d.map_chunk(muli_multi, nums)\n",
    "\n",
    "with doctable.Distribute(1) as d: # won't create new process at all\n",
    "    %time res = d.map_chunk(muli_multi, nums)\n",
    "res[:3]"
   ]
  },
  {
   "cell_type": "markdown",
   "metadata": {},
   "source": [
    "## `map_insert()` Method\n",
    "Allows you to write methods which are meant to store single rows into a database. Note how `muli_multi_store()` inserts into database a single element, and the doctable is passed using the `dt_inst` keyword parameter."
   ]
  },
  {
   "cell_type": "code",
   "execution_count": 3,
   "metadata": {},
   "outputs": [
    {
     "name": "stdout",
     "output_type": "stream",
     "text": [
      "CPU times: user 9.66 ms, sys: 11.7 ms, total: 21.3 ms\n",
      "Wall time: 1.79 s\n"
     ]
    },
    {
     "data": {
      "text/html": [
       "<div>\n",
       "<style scoped>\n",
       "    .dataframe tbody tr th:only-of-type {\n",
       "        vertical-align: middle;\n",
       "    }\n",
       "\n",
       "    .dataframe tbody tr th {\n",
       "        vertical-align: top;\n",
       "    }\n",
       "\n",
       "    .dataframe thead th {\n",
       "        text-align: right;\n",
       "    }\n",
       "</style>\n",
       "<table border=\"1\" class=\"dataframe\">\n",
       "  <thead>\n",
       "    <tr style=\"text-align: right;\">\n",
       "      <th></th>\n",
       "      <th>id</th>\n",
       "      <th>num</th>\n",
       "    </tr>\n",
       "  </thead>\n",
       "  <tbody>\n",
       "    <tr>\n",
       "      <td>0</td>\n",
       "      <td>2001</td>\n",
       "      <td>0.000</td>\n",
       "    </tr>\n",
       "    <tr>\n",
       "      <td>1</td>\n",
       "      <td>2002</td>\n",
       "      <td>1.275</td>\n",
       "    </tr>\n",
       "    <tr>\n",
       "      <td>2</td>\n",
       "      <td>2003</td>\n",
       "      <td>2.550</td>\n",
       "    </tr>\n",
       "    <tr>\n",
       "      <td>3</td>\n",
       "      <td>2004</td>\n",
       "      <td>3.825</td>\n",
       "    </tr>\n",
       "    <tr>\n",
       "      <td>4</td>\n",
       "      <td>2005</td>\n",
       "      <td>5.100</td>\n",
       "    </tr>\n",
       "    <tr>\n",
       "      <td>5</td>\n",
       "      <td>2006</td>\n",
       "      <td>6.375</td>\n",
       "    </tr>\n",
       "    <tr>\n",
       "      <td>6</td>\n",
       "      <td>2007</td>\n",
       "      <td>7.650</td>\n",
       "    </tr>\n",
       "    <tr>\n",
       "      <td>7</td>\n",
       "      <td>2008</td>\n",
       "      <td>8.925</td>\n",
       "    </tr>\n",
       "    <tr>\n",
       "      <td>8</td>\n",
       "      <td>2009</td>\n",
       "      <td>637.500</td>\n",
       "    </tr>\n",
       "    <tr>\n",
       "      <td>9</td>\n",
       "      <td>2010</td>\n",
       "      <td>638.775</td>\n",
       "    </tr>\n",
       "  </tbody>\n",
       "</table>\n",
       "</div>"
      ],
      "text/plain": [
       "     id      num\n",
       "0  2001    0.000\n",
       "1  2002    1.275\n",
       "2  2003    2.550\n",
       "3  2004    3.825\n",
       "4  2005    5.100\n",
       "5  2006    6.375\n",
       "6  2007    7.650\n",
       "7  2008    8.925\n",
       "8  2009  637.500\n",
       "9  2010  638.775"
      ]
     },
     "execution_count": 3,
     "metadata": {},
     "output_type": "execute_result"
    }
   ],
   "source": [
    "db = doctable.DocTable(schema=(\n",
    "    ('idcol', 'id'), \n",
    "    ('float', 'num', dict(unique=True)), \n",
    "), fname='tmp_distributed_basics.db')\n",
    "\n",
    "# inserts result into db instead of returning\n",
    "def muli_multi_store(num, db):\n",
    "    db.insert({'num': num*1.275}, ifnotunique='replace')\n",
    "\n",
    "with doctable.Distribute(2) as d:\n",
    "    %time res = d.map_insert(muli_multi_store, nums, dt_inst=db)\n",
    "db.select_df(limit=10)"
   ]
  },
  {
   "cell_type": "code",
   "execution_count": null,
   "metadata": {},
   "outputs": [],
   "source": []
  }
 ],
 "metadata": {
  "kernelspec": {
   "display_name": "Python 3",
   "language": "python",
   "name": "python3"
  },
  "language_info": {
   "codemirror_mode": {
    "name": "ipython",
    "version": 3
   },
   "file_extension": ".py",
   "mimetype": "text/x-python",
   "name": "python",
   "nbconvert_exporter": "python",
   "pygments_lexer": "ipython3",
   "version": "3.6.9"
  }
 },
 "nbformat": 4,
 "nbformat_minor": 4
}
