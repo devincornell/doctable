{
 "cells": [
  {
   "cell_type": "markdown",
   "metadata": {},
   "source": [
    "# Parsetrees with `ParsePipeline`\n",
    "Here I'll show you how to extract and store parsetrees in your doctable using Spacy + doctable. The motivation is that parsetree information in raw Spacy Document objects are very large and not suitable for storage when using large corpora. We solve this by simply converting the Spacy Document object to a tree data structure built from python lists and dictionaries.\n",
    "\n",
    "We use this feature by simply creating a new `get_parsetrees` pipeline component after the spacy parser. [Check the docs](ref/doctable.parse.html) to learn more about this function. You can see more examples of creating parse pipelines in our [overview examples](examples/parse_basics.html)."
   ]
  },
  {
   "cell_type": "code",
   "execution_count": 2,
   "metadata": {},
   "outputs": [],
   "source": [
    "# import doctable\n",
    "import sys\n",
    "sys.path.append('..')\n",
    "import doctable\n",
    "from doctable import Comp"
   ]
  },
  {
   "cell_type": "code",
   "execution_count": 5,
   "metadata": {},
   "outputs": [
    {
     "data": {
      "text/plain": [
       "[<spacy.lang.en.English at 0x7f248b027d30>,\n",
       " functools.partial(<function get_parsetrees at 0x7f2493cb4f28>, parse_tok_func=functools.partial(<function parse_tok at 0x7f2493cb4d08>, num_replacement='NUM'))]"
      ]
     },
     "execution_count": 5,
     "metadata": {},
     "output_type": "execute_result"
    }
   ],
   "source": [
    "import spacy\n",
    "nlp = spacy.load('en')\n",
    "parser = doctable.ParsePipeline([\n",
    "    nlp, # the spacy parser\n",
    "    Comp('get_parsetrees', **{\n",
    "        'parse_tok_func': Comp('parse_tok', **{\n",
    "            'num_replacement': 'NUM',\n",
    "        })\n",
    "    })\n",
    "])\n",
    "parser.components"
   ]
  },
  {
   "cell_type": "markdown",
   "metadata": {},
   "source": [
    "And we also define some example text docuemnts, Star Wars themed."
   ]
  },
  {
   "cell_type": "code",
   "execution_count": 9,
   "metadata": {},
   "outputs": [],
   "source": [
    "docs = [\n",
    "    'Hello world.',\n",
    "    'Do. Or do not. There is no try.',\n",
    "    'Help me, Obi-Wan Kenobi. You’re my only hope.',\n",
    "    'I find your lack of faith disturbing.',\n",
    "    'No. I am your father.',\n",
    "    'It’s the ship that made the Kessel run in less than twelve parsecs. I’ve outrun Imperial starships.',\n",
    "]"
   ]
  },
  {
   "cell_type": "markdown",
   "metadata": {},
   "source": [
    "## Create and Store Parsetrees\n",
    "First, we build a simple doctable for our example."
   ]
  },
  {
   "cell_type": "code",
   "execution_count": 22,
   "metadata": {},
   "outputs": [
    {
     "data": {
      "text/plain": [
       "<DocTable::_documents_ ct: 0>"
      ]
     },
     "execution_count": 22,
     "metadata": {},
     "output_type": "execute_result"
    }
   ],
   "source": [
    "class PTreeTable(doctable.DocTable):\n",
    "    schema = (\n",
    "        ('idcol', 'id'),\n",
    "        ('pickle', 'ptrees'), # store as raw python object\n",
    "    )\n",
    "    def __init__(self):\n",
    "        super().__init__(schema=self.schema)\n",
    "db = PTreeTable()\n",
    "db"
   ]
  },
  {
   "cell_type": "markdown",
   "metadata": {},
   "source": [
    "Now we parse each of the documents using the parser we made earlier. You can see that every parsed document is a list of `ParseTree` objects ([see docs](ref/doctable.parsetree.html)). These are special objects created to store parsetrees in a compact format."
   ]
  },
  {
   "cell_type": "code",
   "execution_count": 23,
   "metadata": {},
   "outputs": [
    {
     "name": "stdout",
     "output_type": "stream",
     "text": [
      "[ParseTree(['hello', 'world', '.'])]\n",
      "[ParseTree(['do', '.']), ParseTree(['or', 'do', 'not', '.']), ParseTree(['there', 'is', 'no', 'try', '.'])]\n",
      "[ParseTree(['help', 'me', ',', 'Obi', '-', 'Wan', 'Kenobi', '.']), ParseTree(['you', '’re', 'my', 'only', 'hope', '.'])]\n",
      "[ParseTree(['i', 'find', 'your', 'lack', 'of', 'faith', 'disturbing', '.'])]\n",
      "[ParseTree(['no', '.']), ParseTree(['i', 'am', 'your', 'father', '.'])]\n",
      "[ParseTree(['it', '’s', 'the', 'ship', 'that', 'made', 'the', 'kessel', 'run', 'in', 'less', 'than', 'NUM', 'parsecs', '.']), ParseTree(['i', '’ve', 'outrun', 'Imperial', 'starships', '.'])]\n"
     ]
    }
   ],
   "source": [
    "for doc in docs:\n",
    "    ptrees = parser.parse(doc)\n",
    "    print(ptrees)"
   ]
  },
  {
   "cell_type": "markdown",
   "metadata": {},
   "source": [
    "Because `ParseTree` objects are simple python objects, we can simply insert them into the DocTable as a pickle column."
   ]
  },
  {
   "cell_type": "code",
   "execution_count": 27,
   "metadata": {},
   "outputs": [
    {
     "data": {
      "text/html": [
       "<div>\n",
       "<style scoped>\n",
       "    .dataframe tbody tr th:only-of-type {\n",
       "        vertical-align: middle;\n",
       "    }\n",
       "\n",
       "    .dataframe tbody tr th {\n",
       "        vertical-align: top;\n",
       "    }\n",
       "\n",
       "    .dataframe thead th {\n",
       "        text-align: right;\n",
       "    }\n",
       "</style>\n",
       "<table border=\"1\" class=\"dataframe\">\n",
       "  <thead>\n",
       "    <tr style=\"text-align: right;\">\n",
       "      <th></th>\n",
       "      <th>id</th>\n",
       "      <th>ptrees</th>\n",
       "    </tr>\n",
       "  </thead>\n",
       "  <tbody>\n",
       "    <tr>\n",
       "      <th>0</th>\n",
       "      <td>0</td>\n",
       "      <td>[(ParseNode(hello), ParseNode(world), ParseNod...</td>\n",
       "    </tr>\n",
       "    <tr>\n",
       "      <th>1</th>\n",
       "      <td>1</td>\n",
       "      <td>[(ParseNode(do), ParseNode(.)), (ParseNode(or)...</td>\n",
       "    </tr>\n",
       "    <tr>\n",
       "      <th>2</th>\n",
       "      <td>2</td>\n",
       "      <td>[(ParseNode(help), ParseNode(me), ParseNode(,)...</td>\n",
       "    </tr>\n",
       "    <tr>\n",
       "      <th>3</th>\n",
       "      <td>3</td>\n",
       "      <td>[(ParseNode(i), ParseNode(find), ParseNode(you...</td>\n",
       "    </tr>\n",
       "    <tr>\n",
       "      <th>4</th>\n",
       "      <td>4</td>\n",
       "      <td>[(ParseNode(no), ParseNode(.)), (ParseNode(i),...</td>\n",
       "    </tr>\n",
       "    <tr>\n",
       "      <th>5</th>\n",
       "      <td>5</td>\n",
       "      <td>[(ParseNode(it), ParseNode(’s), ParseNode(the)...</td>\n",
       "    </tr>\n",
       "  </tbody>\n",
       "</table>\n",
       "</div>"
      ],
      "text/plain": [
       "   id                                             ptrees\n",
       "0   0  [(ParseNode(hello), ParseNode(world), ParseNod...\n",
       "1   1  [(ParseNode(do), ParseNode(.)), (ParseNode(or)...\n",
       "2   2  [(ParseNode(help), ParseNode(me), ParseNode(,)...\n",
       "3   3  [(ParseNode(i), ParseNode(find), ParseNode(you...\n",
       "4   4  [(ParseNode(no), ParseNode(.)), (ParseNode(i),...\n",
       "5   5  [(ParseNode(it), ParseNode(’s), ParseNode(the)..."
      ]
     },
     "execution_count": 27,
     "metadata": {},
     "output_type": "execute_result"
    }
   ],
   "source": [
    "for i,doc in enumerate(docs):\n",
    "    ptrees = parser.parse(doc)\n",
    "    db.insert({'id':i, 'ptrees':ptrees}, ifnotunique='replace')\n",
    "db.select_df()"
   ]
  },
  {
   "cell_type": "code",
   "execution_count": null,
   "metadata": {},
   "outputs": [],
   "source": []
  }
 ],
 "metadata": {
  "kernelspec": {
   "display_name": "Python 3",
   "language": "python",
   "name": "python3"
  },
  "language_info": {
   "codemirror_mode": {
    "name": "ipython",
    "version": 3
   },
   "file_extension": ".py",
   "mimetype": "text/x-python",
   "name": "python",
   "nbconvert_exporter": "python",
   "pygments_lexer": "ipython3",
   "version": "3.6.9"
  }
 },
 "nbformat": 4,
 "nbformat_minor": 4
}
