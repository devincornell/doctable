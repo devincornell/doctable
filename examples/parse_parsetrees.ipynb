{
 "cells": [
  {
   "cell_type": "markdown",
   "metadata": {},
   "source": [
    "# Working with doctable Parsetrees\n",
    "Here I'll show you how to extract and use parsetrees in your doctable using Spacy + doctable. The motivation is that parsetree information in raw Spacy Document objects are very large and not suitable for storage when using large corpora. We solve this by simply converting the Spacy Document object to a tree data structure built from python lists and dictionaries, and use the `ParseTree` object to serialize, de-serialize, and interact with the tree structure.\n",
    "\n",
    "We use this feature using the `get_parsetrees` pipeline component after the spacy parser. [Check the docs](ref/doctable.parse.html) to learn more about this function. You can see more examples of creating parse pipelines in our [overview examples](examples/parse_basics.html)."
   ]
  },
  {
   "cell_type": "code",
   "execution_count": 87,
   "metadata": {},
   "outputs": [],
   "source": [
    "import spacy\n",
    "nlp = spacy.load('en_core_web_sm')\n",
    "import pandas as pd\n",
    "import sys\n",
    "sys.path.append('..')\n",
    "import doctable"
   ]
  },
  {
   "cell_type": "markdown",
   "metadata": {},
   "source": [
    "First we define some example text docuemnts, Star Wars themed."
   ]
  },
  {
   "cell_type": "code",
   "execution_count": 74,
   "metadata": {},
   "outputs": [
    {
     "data": {
      "text/plain": [
       "'Help me Obi-Wan Kenobi. You’re my only hope. I find your lack of faith disturbing. Do, or do not - there is no try. '"
      ]
     },
     "execution_count": 74,
     "metadata": {},
     "output_type": "execute_result"
    }
   ],
   "source": [
    "text = 'Help me Obi-Wan Kenobi. You’re my only hope. ' \\\n",
    "    'I find your lack of faith disturbing. ' \\\n",
    "    'Do, or do not - there is no try. '\n",
    "text"
   ]
  },
  {
   "cell_type": "markdown",
   "metadata": {},
   "source": [
    "## Creating `ParseTreeDoc` Objects"
   ]
  },
  {
   "cell_type": "markdown",
   "metadata": {},
   "source": [
    "The most direct way of creating a parsetree is to parse the desired text using the spacy language model, then use `ParseTreeDoc.from_spacy()` to construct the `ParseTreeDoc`. The `ParseTreeDoc` object is a container for parsetree objects representing each of the sentences identified with the SpaCy parser."
   ]
  },
  {
   "cell_type": "code",
   "execution_count": 75,
   "metadata": {},
   "outputs": [
    {
     "name": "stdout",
     "output_type": "stream",
     "text": [
      "4 sentences of type <class 'doctable.parse.documents.parsetreedoc.ParseTreeDoc'>\n"
     ]
    }
   ],
   "source": [
    "spacydoc = nlp(text)\n",
    "doc = doctable.ParseTreeDoc.from_spacy(spacydoc)\n",
    "print(f'{len(doc)} sentences of type {type(doc)}')"
   ]
  },
  {
   "cell_type": "markdown",
   "metadata": {},
   "source": [
    "The most important arguments to `parse_tok_func` are `text_parse_func` and `userdata_map`.\n",
    "\n",
    "1. `text_parse_func` determines the mapping from a spacy doc object to the text representation of each token accessed through `token.text`. By default this parameter is set to `lambda d: d.text`.\n",
    "\n",
    "2. `userdata_map` is a dictionary mapping an attribute name to a function. You can, for instance, extract info from the original spacy doc object through this method. I'll explain later how these attributes can be accessed and used."
   ]
  },
  {
   "cell_type": "code",
   "execution_count": 83,
   "metadata": {},
   "outputs": [
    {
     "name": "stdout",
     "output_type": "stream",
     "text": [
      "ParseTree(Help me Obi - Wan Kenobi .)\n"
     ]
    }
   ],
   "source": [
    "doc = doctable.ParseTreeDoc.from_spacy(spacydoc, \n",
    "    text_parse_func=lambda spacydoc: spacydoc.text,\n",
    "    userdata_map = {\n",
    "        'lower': lambda spacydoc: spacydoc.text.lower().strip(),\n",
    "        'lemma': lambda spacydoc: spacydoc.lemma_,\n",
    "        'like_num': lambda spacydoc: spacydoc.like_num,\n",
    "    }\n",
    ")\n",
    "print(doc[0]) # show the first sentence"
   ]
  },
  {
   "cell_type": "markdown",
   "metadata": {},
   "source": [
    "## Working With `ParseTree`s\n",
    "\n",
    "`ParseTreeDoc` objects represent sequences of `ParseTree` objects identified by the spacy language parser. You can see we can access individual sentence parsetrees using numerical indexing or through iteration."
   ]
  },
  {
   "cell_type": "code",
   "execution_count": 77,
   "metadata": {},
   "outputs": [
    {
     "name": "stdout",
     "output_type": "stream",
     "text": [
      "ParseTree(Help me Obi - Wan Kenobi .)\n",
      "ParseTree(Help me Obi - Wan Kenobi .)\n",
      "ParseTree(You ’re my only hope .)\n",
      "ParseTree(I find your lack of faith disturbing .)\n",
      "ParseTree(Do , or do not - there is no try .)\n"
     ]
    }
   ],
   "source": [
    "print(doc[0])\n",
    "for sent in doc:\n",
    "    print(sent)"
   ]
  },
  {
   "cell_type": "markdown",
   "metadata": {},
   "source": [
    "Now we will show how to work with `ParseTree` objects. These objects are collections of tokens that can be accessed either as a tree (based on the structure of the dependency tree produced by spacy), or as an ordered sequence. We can use numerical indexing or iteration to interact with individual tokens."
   ]
  },
  {
   "cell_type": "code",
   "execution_count": 78,
   "metadata": {},
   "outputs": [
    {
     "name": "stdout",
     "output_type": "stream",
     "text": [
      "Help\n",
      "me\n",
      "Obi\n",
      "-\n",
      "Wan\n",
      "Kenobi\n",
      ".\n"
     ]
    }
   ],
   "source": [
    "for token in doc[0]:\n",
    "    print(token)"
   ]
  },
  {
   "cell_type": "markdown",
   "metadata": {},
   "source": [
    "We can work with the tree structure of a `ParseTree` object using the `root` property."
   ]
  },
  {
   "cell_type": "code",
   "execution_count": 79,
   "metadata": {},
   "outputs": [
    {
     "name": "stdout",
     "output_type": "stream",
     "text": [
      "Help\n"
     ]
    }
   ],
   "source": [
    "print(doc[0].root)"
   ]
  },
  {
   "cell_type": "markdown",
   "metadata": {},
   "source": [
    "And access the children of a given token using the `childs` property. The following tokens are children of the root token."
   ]
  },
  {
   "cell_type": "code",
   "execution_count": 80,
   "metadata": {},
   "outputs": [
    {
     "name": "stdout",
     "output_type": "stream",
     "text": [
      "me\n",
      "Kenobi\n",
      ".\n"
     ]
    }
   ],
   "source": [
    "for child in doc[0].root.childs:\n",
    "    print(child)"
   ]
  },
  {
   "cell_type": "markdown",
   "metadata": {},
   "source": [
    "These objects can be serialized using the `.as_dict()` method and de-serialized using the `.from_dict()` method."
   ]
  },
  {
   "cell_type": "code",
   "execution_count": 120,
   "metadata": {},
   "outputs": [
    {
     "name": "stdout",
     "output_type": "stream",
     "text": [
      "ParseTree(Help me Obi - Wan Kenobi .)\n",
      "ParseTree(You ’re my only hope .)\n",
      "ParseTree(I find your lack of faith disturbing .)\n",
      "ParseTree(Do , or do not - there is no try .)\n"
     ]
    }
   ],
   "source": [
    "serialized = doc.as_dict()\n",
    "deserialized = doctable.ParseTreeDoc.from_dict(serialized)\n",
    "for sent in deserialized:\n",
    "    print(sent)"
   ]
  },
  {
   "cell_type": "markdown",
   "metadata": {},
   "source": [
    "## More About `Token`s\n",
    "Each token in a `ParseTree` is represented by a `Token` object. These objects maintain the tree structure of a parsetree, and each node contains some default information as well as optional and custom information. These are the most important member variables:\n",
    "\n",
    "#### Member Variables\n",
    "+ _i_: index of token in sentence\n",
    "+ _text_: text representation of token\n",
    "+ _tag_: the part-of-speech tag offered by the dependency parser (different from POS tagger)\n",
    "+ _dep_: the dependency relation to parent object. See the [Spacy annotation docs](https://spacy.io/api/annotation#dependency-parsing) for more detail.\n",
    "+ _parent_: reference to parent node\n",
    "+ _childs_: list of references to child nodes\n",
    "\n",
    "#### Optional Member Variables\n",
    "The following are provided if the associated spacy parser component was enabled.\n",
    "\n",
    "+ _pos_: part-of-speech tag created if user enablled POS 'tagger' in Spacy. See [Spacy POS tag docs](https://spacy.io/api/annotation#pos-tagging) for more detail. Also check out docs for [UPOS tags](https://universaldependencies.org/docs/u/pos/).\n",
    "+ _ent_: named entity type of token (if NER was enabled when creating parsetree). See [Spacy NER docs](https://spacy.io/api/annotation#named-entities) for more detail."
   ]
  },
  {
   "cell_type": "code",
   "execution_count": 100,
   "metadata": {},
   "outputs": [
    {
     "name": "stdout",
     "output_type": "stream",
     "text": [
      "Help:\n",
      "\ti=0\n",
      "\ttag=VB\n",
      "\tdep=ROOT\n",
      "\tent=\n",
      "\tpos=VERB\n",
      "me:\n",
      "\ti=1\n",
      "\ttag=PRP\n",
      "\tdep=dobj\n",
      "\tent=\n",
      "\tpos=PRON\n",
      "Obi:\n",
      "\ti=2\n",
      "\ttag=NNP\n",
      "\tdep=compound\n",
      "\tent=\n",
      "\tpos=PROPN\n"
     ]
    }
   ],
   "source": [
    "for tok in doc[0][:3]:\n",
    "    print(f\"{tok.text}:\\n\\ti={tok.i}\\n\\ttag={tok.tag}\\n\\tdep={tok.dep}\\n\\tent={tok.ent}\\n\\tpos={tok.pos}\")"
   ]
  },
  {
   "cell_type": "markdown",
   "metadata": {},
   "source": [
    "We can also access the custom token properties provided to the `ParseTreeDoc.from_spacy()` method earlier."
   ]
  },
  {
   "cell_type": "code",
   "execution_count": 102,
   "metadata": {},
   "outputs": [
    {
     "name": "stdout",
     "output_type": "stream",
     "text": [
      "Help: help\n",
      "me: I\n",
      "Obi: Obi\n",
      "-: -\n",
      "Wan: Wan\n",
      "Kenobi: Kenobi\n",
      ".: .\n"
     ]
    }
   ],
   "source": [
    "for token in doc[0]:\n",
    "    print(f\"{token.text}: {token['lemma']}\")"
   ]
  },
  {
   "cell_type": "markdown",
   "metadata": {},
   "source": [
    "## Recursive Functions on Parsetrees\n",
    "\n",
    "We can also navigate the tree structure of parsetrees using recursive functions. Here I simply print out the trajectory of this recursive function."
   ]
  },
  {
   "cell_type": "code",
   "execution_count": 103,
   "metadata": {},
   "outputs": [
    {
     "name": "stdout",
     "output_type": "stream",
     "text": [
      "entering Help\n",
      "    base node me\n",
      "    entering Kenobi\n",
      "        entering Wan\n",
      "            base node Obi\n",
      "            base node -\n",
      "        leaving Wan\n",
      "    leaving Kenobi\n",
      "    base node .\n",
      "leaving Help\n"
     ]
    }
   ],
   "source": [
    "def print_recursion(tok, level=0):\n",
    "    if not tok.childs:\n",
    "        print('    '*level + 'base node', tok)\n",
    "    else:\n",
    "        print('    '*level + 'entering', tok)\n",
    "        for child in tok.childs:\n",
    "            print_recursion(child, level+1)\n",
    "        print('    '*level + 'leaving', tok)\n",
    "\n",
    "print_recursion(doc[0].root)"
   ]
  },
  {
   "cell_type": "markdown",
   "metadata": {},
   "source": [
    "## Create Using `ParsePipeline`s\n",
    "The most common use case, however, probably involves the creation of of a `ParsePipeline` in which the end result will be a `ParseTreeDoc`. We make this using the `get_parsetrees` pipeline component, and here we show several of the possible arguments.\n"
   ]
  },
  {
   "cell_type": "code",
   "execution_count": 109,
   "metadata": {},
   "outputs": [
    {
     "data": {
      "text/plain": [
       "[<spacy.lang.en.English at 0x7f6e2be93910>,\n",
       " functools.partial(<function get_parsetrees at 0x7f6e2d1d08b0>, text_parse_func=<function <lambda> at 0x7f6e2cd110d0>, userdata_map={'lower': <function <lambda> at 0x7f6e2cd11e50>, 'lemma': <function <lambda> at 0x7f6e2aae7040>, 'like_num': <function <lambda> at 0x7f6e2aae70d0>})]"
      ]
     },
     "execution_count": 109,
     "metadata": {},
     "output_type": "execute_result"
    }
   ],
   "source": [
    "parser = doctable.ParsePipeline([\n",
    "    nlp, # the spacy parser\n",
    "    doctable.Comp('get_parsetrees', **{\n",
    "        'text_parse_func': lambda spacydoc: spacydoc.text,\n",
    "        'userdata_map': {\n",
    "            'lower': lambda spacydoc: spacydoc.text.lower().strip(),\n",
    "            'lemma': lambda spacydoc: spacydoc.lemma_,\n",
    "            'like_num': lambda spacydoc: spacydoc.like_num,\n",
    "        }\n",
    "    })\n",
    "])\n",
    "parser.components"
   ]
  },
  {
   "cell_type": "markdown",
   "metadata": {},
   "source": [
    "You can see that the parser provides the same output as we got before with `ParseTreeDoc.from_spacy()`."
   ]
  },
  {
   "cell_type": "code",
   "execution_count": 115,
   "metadata": {},
   "outputs": [
    {
     "name": "stdout",
     "output_type": "stream",
     "text": [
      "ParseTree(Help me Obi - Wan Kenobi .)\n",
      "ParseTree(You ’re my only hope .)\n",
      "ParseTree(I find your lack of faith disturbing .)\n",
      "ParseTree(Do , or do not - there is no try .)\n"
     ]
    }
   ],
   "source": [
    "for sent in parser.parse(text):\n",
    "    print(sent)"
   ]
  }
 ],
 "metadata": {
  "kernelspec": {
   "display_name": "Python 3",
   "language": "python",
   "name": "python3"
  },
  "language_info": {
   "codemirror_mode": {
    "name": "ipython",
    "version": 3
   },
   "file_extension": ".py",
   "mimetype": "text/x-python",
   "name": "python",
   "nbconvert_exporter": "python",
   "pygments_lexer": "ipython3",
   "version": "3.8.5"
  }
 },
 "nbformat": 4,
 "nbformat_minor": 4
}
