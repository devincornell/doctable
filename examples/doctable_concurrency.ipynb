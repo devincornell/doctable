{
 "cells": [
  {
   "cell_type": "markdown",
   "metadata": {},
   "source": [
    "# Concurrent Database Connections\n",
    "DocTable makes it easy to establish concurrent database connections from different processes. DocTable objects can be copied as-is from one process to another, except that you must call `.reopen_engine()` to initialize in process thread. This removes now stale database connections (which are _not_ meant to traverse processes) from the engine connection pool.\n",
    "\n",
    "You may also want to use a large timeout using the timeout argument of the doctable constructor (provided in seconds)."
   ]
  },
  {
   "cell_type": "code",
   "execution_count": 1,
   "metadata": {},
   "outputs": [],
   "source": [
    "import sqlalchemy\n",
    "from multiprocessing import Process\n",
    "import os\n",
    "import random\n",
    "import string\n",
    "import dataclasses\n",
    "import time\n",
    "import sys\n",
    "sys.path.append('..')\n",
    "import doctable"
   ]
  },
  {
   "cell_type": "code",
   "execution_count": 2,
   "metadata": {},
   "outputs": [],
   "source": [
    "import datetime\n",
    "@doctable.schema\n",
    "class SimpleRow:\n",
    "    __slots__ = []\n",
    "    id: int = doctable.IDCol()\n",
    "    updated: datetime.datetime = doctable.AddedCol()\n",
    "    process: str = doctable.Col()\n",
    "    number: int = doctable.Col()\n",
    "\n",
    "tmp = doctable.TempFolder('exdb')\n",
    "db = doctable.DocTable(schema=SimpleRow, target=tmp.joinpath('tmp_concurrent.db'), new_db=True, connect_args={'timeout': 15})"
   ]
  },
  {
   "cell_type": "code",
   "execution_count": 3,
   "metadata": {},
   "outputs": [
    {
     "name": "stdout",
     "output_type": "stream",
     "text": [
      "starting process DZ\n",
      "starting process JL\n",
      "starting process VM\n",
      "starting process KT\n",
      "starting process CW\n"
     ]
    },
    {
     "data": {
      "text/html": [
       "<div>\n",
       "<style scoped>\n",
       "    .dataframe tbody tr th:only-of-type {\n",
       "        vertical-align: middle;\n",
       "    }\n",
       "\n",
       "    .dataframe tbody tr th {\n",
       "        vertical-align: top;\n",
       "    }\n",
       "\n",
       "    .dataframe thead th {\n",
       "        text-align: right;\n",
       "    }\n",
       "</style>\n",
       "<table border=\"1\" class=\"dataframe\">\n",
       "  <thead>\n",
       "    <tr style=\"text-align: right;\">\n",
       "      <th></th>\n",
       "      <th>id</th>\n",
       "      <th>updated</th>\n",
       "      <th>process</th>\n",
       "      <th>number</th>\n",
       "    </tr>\n",
       "  </thead>\n",
       "  <tbody>\n",
       "    <tr>\n",
       "      <th>0</th>\n",
       "      <td>1</td>\n",
       "      <td>2022-07-26 19:56:26.192070</td>\n",
       "      <td>DZ</td>\n",
       "      <td>0</td>\n",
       "    </tr>\n",
       "    <tr>\n",
       "      <th>1</th>\n",
       "      <td>2</td>\n",
       "      <td>2022-07-26 19:56:26.196852</td>\n",
       "      <td>JL</td>\n",
       "      <td>20</td>\n",
       "    </tr>\n",
       "    <tr>\n",
       "      <th>2</th>\n",
       "      <td>3</td>\n",
       "      <td>2022-07-26 19:56:26.202347</td>\n",
       "      <td>VM</td>\n",
       "      <td>40</td>\n",
       "    </tr>\n",
       "    <tr>\n",
       "      <th>3</th>\n",
       "      <td>4</td>\n",
       "      <td>2022-07-26 19:56:26.205927</td>\n",
       "      <td>DZ</td>\n",
       "      <td>1</td>\n",
       "    </tr>\n",
       "    <tr>\n",
       "      <th>4</th>\n",
       "      <td>5</td>\n",
       "      <td>2022-07-26 19:56:26.208501</td>\n",
       "      <td>CW</td>\n",
       "      <td>80</td>\n",
       "    </tr>\n",
       "    <tr>\n",
       "      <th>5</th>\n",
       "      <td>6</td>\n",
       "      <td>2022-07-26 19:56:26.210643</td>\n",
       "      <td>JL</td>\n",
       "      <td>21</td>\n",
       "    </tr>\n",
       "    <tr>\n",
       "      <th>6</th>\n",
       "      <td>7</td>\n",
       "      <td>2022-07-26 19:56:26.205855</td>\n",
       "      <td>KT</td>\n",
       "      <td>60</td>\n",
       "    </tr>\n",
       "    <tr>\n",
       "      <th>7</th>\n",
       "      <td>8</td>\n",
       "      <td>2022-07-26 19:56:26.216189</td>\n",
       "      <td>VM</td>\n",
       "      <td>41</td>\n",
       "    </tr>\n",
       "    <tr>\n",
       "      <th>8</th>\n",
       "      <td>9</td>\n",
       "      <td>2022-07-26 19:56:26.221924</td>\n",
       "      <td>CW</td>\n",
       "      <td>81</td>\n",
       "    </tr>\n",
       "    <tr>\n",
       "      <th>9</th>\n",
       "      <td>10</td>\n",
       "      <td>2022-07-26 19:56:26.224920</td>\n",
       "      <td>JL</td>\n",
       "      <td>22</td>\n",
       "    </tr>\n",
       "  </tbody>\n",
       "</table>\n",
       "</div>"
      ],
      "text/plain": [
       "   id                    updated process  number\n",
       "0   1 2022-07-26 19:56:26.192070      DZ       0\n",
       "1   2 2022-07-26 19:56:26.196852      JL      20\n",
       "2   3 2022-07-26 19:56:26.202347      VM      40\n",
       "3   4 2022-07-26 19:56:26.205927      DZ       1\n",
       "4   5 2022-07-26 19:56:26.208501      CW      80\n",
       "5   6 2022-07-26 19:56:26.210643      JL      21\n",
       "6   7 2022-07-26 19:56:26.205855      KT      60\n",
       "7   8 2022-07-26 19:56:26.216189      VM      41\n",
       "8   9 2022-07-26 19:56:26.221924      CW      81\n",
       "9  10 2022-07-26 19:56:26.224920      JL      22"
      ]
     },
     "execution_count": 3,
     "metadata": {},
     "output_type": "execute_result"
    }
   ],
   "source": [
    "def thread_func(numbers, db):\n",
    "    process_id = ''.join(random.choices(string.ascii_uppercase, k=2))\n",
    "    print(f'starting process {process_id}')\n",
    "    db.reopen_engine() # create all new connections\n",
    "    for num in numbers:\n",
    "        db.insert({'process': process_id, 'number': num})\n",
    "        time.sleep(0.01)\n",
    "\n",
    "numbers = list(range(100)) # these numbers are to be inserted into the database\n",
    "        \n",
    "db.delete()\n",
    "with doctable.Distribute(5) as d:\n",
    "    d.map_chunk(thread_func, numbers, db)\n",
    "db.head(10)"
   ]
  }
 ],
 "metadata": {
  "kernelspec": {
   "display_name": "Python 3.8.5 ('base')",
   "language": "python",
   "name": "python3"
  },
  "language_info": {
   "codemirror_mode": {
    "name": "ipython",
    "version": 3
   },
   "file_extension": ".py",
   "mimetype": "text/x-python",
   "name": "python",
   "nbconvert_exporter": "python",
   "pygments_lexer": "ipython3",
   "version": "3.8.5"
  },
  "vscode": {
   "interpreter": {
    "hash": "6655beaf7f57a241ed2fe3a58b558d568db09842d57c904b8c0db510272f5c22"
   }
  }
 },
 "nbformat": 4,
 "nbformat_minor": 4
}
