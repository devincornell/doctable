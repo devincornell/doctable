{
 "cells": [
  {
   "cell_type": "code",
   "execution_count": 1,
   "metadata": {},
   "outputs": [],
   "source": [
    "import random\n",
    "import pandas as pd\n",
    "import numpy as np\n",
    "import sys\n",
    "sys.path.append('..')\n",
    "import doctable as dt"
   ]
  },
  {
   "cell_type": "markdown",
   "metadata": {},
   "source": [
    "More details about the schema creation can be found in the folder examples/dt2_schema.py"
   ]
  },
  {
   "cell_type": "markdown",
   "metadata": {},
   "source": [
    "# Init DocTable2 Object\n",
    "A DocTable2 instance maintains reference to a database. When constructing, you will typically specify a database file name, a table name, and a database engine (or [dialect - sqlite, mysql, etc](https://docs.sqlalchemy.org/en/13/dialects/)). The default database name (```fname```) is \":memory:\", a special keyword that will create a database in memory. I use that for most of the examples. The default ```tabname``` is \"_documents_\", and unless your applications require multiple tables in the same database, specifying one may not be useful. The default ```engine``` is sqlite, and that may be the easiest to work with most of the time. The ```persistent_conn``` parameter will choose whether your application should maintain an open connection to the database (use this if you want to call ```.update()``` in a ```.select()``` loop), or make a new connection every time you attempt to execute a query (use this if multiple threads might try to access the database at the same time). The ```new_db``` flag should be set to False if you are attempting to access a database but do not want to create one if it does not already exist. This prevents the accidental creation of a new database with no rows if it can't find the one you intended to specify. The ```verbose``` flag might be used for demonstration or debugging: it simply requests that sql commands are printed before being executed. This can also be overridden on a per-transaction basis.\n",
    "\n",
    "Now, let's create a simple schema and doctable:"
   ]
  },
  {
   "cell_type": "code",
   "execution_count": 2,
   "metadata": {},
   "outputs": [
    {
     "name": "stdout",
     "output_type": "stream",
     "text": [
      "<DocTable2::_documents_ ct: 0>\n"
     ]
    }
   ],
   "source": [
    "schema = (\n",
    "    ('id','integer',dict(primary_key=True, autoincrement=True)),\n",
    "    ('name','string', dict(nullable=False)),\n",
    "    ('age','integer'),\n",
    "    ('is_old', 'boolean'),\n",
    ")\n",
    "db = dt.DocTable2(schema)\n",
    "print(db)"
   ]
  },
  {
   "cell_type": "markdown",
   "metadata": {},
   "source": [
    "You can see from the above that we created a new doctable instance with the specified schema. By printing the object, we can see that the table has no entries. Now, we add some rows one at a time using the ```.insert()``` method."
   ]
  },
  {
   "cell_type": "code",
   "execution_count": 3,
   "metadata": {},
   "outputs": [
    {
     "name": "stdout",
     "output_type": "stream",
     "text": [
      "<DocTable2::_documents_ ct: 5>\n"
     ]
    }
   ],
   "source": [
    "N = 5\n",
    "for i in range(N):\n",
    "    age = random.random() # number in [0,1]\n",
    "    is_old = age > 0.5\n",
    "    row = {'name':'user_'+str(i), 'age':age, 'is_old':is_old}\n",
    "    db.insert(row)\n",
    "print(db)"
   ]
  },
  {
   "cell_type": "markdown",
   "metadata": {},
   "source": [
    "Now you can see the doctable has 5 entries. Let's see what they look like. We use the ```.select()``` method with no arguments to retrieve all rows of the table."
   ]
  },
  {
   "cell_type": "code",
   "execution_count": 4,
   "metadata": {},
   "outputs": [
    {
     "data": {
      "text/plain": [
       "[(1, 'user_0', 0.4161851979243477, False),\n",
       " (2, 'user_1', 0.37148559537119163, False),\n",
       " (3, 'user_2', 0.9389122192656695, True),\n",
       " (4, 'user_3', 0.6709306663312412, True),\n",
       " (5, 'user_4', 0.4574398725307163, False)]"
      ]
     },
     "execution_count": 4,
     "metadata": {},
     "output_type": "execute_result"
    }
   ],
   "source": [
    "db.select()"
   ]
  },
  {
   "cell_type": "markdown",
   "metadata": {},
   "source": [
    "Alternatively, to see the results as a pandas dataframe, we can use ```.select_df()```."
   ]
  },
  {
   "cell_type": "code",
   "execution_count": 5,
   "metadata": {},
   "outputs": [
    {
     "data": {
      "text/html": [
       "<div>\n",
       "<style scoped>\n",
       "    .dataframe tbody tr th:only-of-type {\n",
       "        vertical-align: middle;\n",
       "    }\n",
       "\n",
       "    .dataframe tbody tr th {\n",
       "        vertical-align: top;\n",
       "    }\n",
       "\n",
       "    .dataframe thead th {\n",
       "        text-align: right;\n",
       "    }\n",
       "</style>\n",
       "<table border=\"1\" class=\"dataframe\">\n",
       "  <thead>\n",
       "    <tr style=\"text-align: right;\">\n",
       "      <th></th>\n",
       "      <th>id</th>\n",
       "      <th>name</th>\n",
       "      <th>age</th>\n",
       "      <th>is_old</th>\n",
       "    </tr>\n",
       "  </thead>\n",
       "  <tbody>\n",
       "    <tr>\n",
       "      <td>0</td>\n",
       "      <td>1</td>\n",
       "      <td>user_0</td>\n",
       "      <td>0.416185</td>\n",
       "      <td>False</td>\n",
       "    </tr>\n",
       "    <tr>\n",
       "      <td>1</td>\n",
       "      <td>2</td>\n",
       "      <td>user_1</td>\n",
       "      <td>0.371486</td>\n",
       "      <td>False</td>\n",
       "    </tr>\n",
       "    <tr>\n",
       "      <td>2</td>\n",
       "      <td>3</td>\n",
       "      <td>user_2</td>\n",
       "      <td>0.938912</td>\n",
       "      <td>True</td>\n",
       "    </tr>\n",
       "    <tr>\n",
       "      <td>3</td>\n",
       "      <td>4</td>\n",
       "      <td>user_3</td>\n",
       "      <td>0.670931</td>\n",
       "      <td>True</td>\n",
       "    </tr>\n",
       "    <tr>\n",
       "      <td>4</td>\n",
       "      <td>5</td>\n",
       "      <td>user_4</td>\n",
       "      <td>0.457440</td>\n",
       "      <td>False</td>\n",
       "    </tr>\n",
       "  </tbody>\n",
       "</table>\n",
       "</div>"
      ],
      "text/plain": [
       "   id    name       age  is_old\n",
       "0   1  user_0  0.416185   False\n",
       "1   2  user_1  0.371486   False\n",
       "2   3  user_2  0.938912    True\n",
       "3   4  user_3  0.670931    True\n",
       "4   5  user_4  0.457440   False"
      ]
     },
     "execution_count": 5,
     "metadata": {},
     "output_type": "execute_result"
    }
   ],
   "source": [
    "db.select_df()"
   ]
  },
  {
   "cell_type": "markdown",
   "metadata": {},
   "source": [
    "Now we can select specific elements of the db using the ```where``` argument of the ```.select()``` method."
   ]
  },
  {
   "cell_type": "code",
   "execution_count": 6,
   "metadata": {},
   "outputs": [
    {
     "data": {
      "text/plain": [
       "[(3, 'user_2', 0.9389122192656695, True),\n",
       " (4, 'user_3', 0.6709306663312412, True)]"
      ]
     },
     "execution_count": 6,
     "metadata": {},
     "output_type": "execute_result"
    }
   ],
   "source": [
    "db.select(where=db['is_old']==True)"
   ]
  },
  {
   "cell_type": "code",
   "execution_count": 7,
   "metadata": {},
   "outputs": [
    {
     "data": {
      "text/plain": [
       "[(3, 'user_2', 0.9389122192656695, True)]"
      ]
     },
     "execution_count": 7,
     "metadata": {},
     "output_type": "execute_result"
    }
   ],
   "source": [
    "db.select(where=db['id']==3)"
   ]
  },
  {
   "cell_type": "markdown",
   "metadata": {},
   "source": [
    "We can update the results in a similar way, using the ```where``` argument."
   ]
  },
  {
   "cell_type": "code",
   "execution_count": 8,
   "metadata": {},
   "outputs": [
    {
     "data": {
      "text/plain": [
       "[(1, 'user_0', 0.4161851979243477, False),\n",
       " (2, 'user_1', 0.37148559537119163, False),\n",
       " (3, 'smartypants', 0.9389122192656695, True),\n",
       " (4, 'user_3', 0.6709306663312412, True),\n",
       " (5, 'user_4', 0.4574398725307163, False)]"
      ]
     },
     "execution_count": 8,
     "metadata": {},
     "output_type": "execute_result"
    }
   ],
   "source": [
    "db.update({'name':'smartypants'}, where=db['id']==3)\n",
    "db.select()"
   ]
  },
  {
   "cell_type": "code",
   "execution_count": 9,
   "metadata": {},
   "outputs": [
    {
     "data": {
      "text/plain": [
       "[(1, 'user_0', 41.618519792434775, False),\n",
       " (2, 'user_1', 37.14855953711916, False),\n",
       " (3, 'smartypants', 93.89122192656694, True),\n",
       " (4, 'user_3', 67.09306663312412, True),\n",
       " (5, 'user_4', 45.74398725307163, False)]"
      ]
     },
     "execution_count": 9,
     "metadata": {},
     "output_type": "execute_result"
    }
   ],
   "source": [
    "db.update({'age':db['age']*100})\n",
    "db.select()"
   ]
  },
  {
   "cell_type": "markdown",
   "metadata": {},
   "source": [
    "And we can delete elements using the ```.delete()``` method."
   ]
  },
  {
   "cell_type": "code",
   "execution_count": 10,
   "metadata": {},
   "outputs": [
    {
     "data": {
      "text/plain": [
       "[(1, 'user_0', 41.618519792434775, False),\n",
       " (2, 'user_1', 37.14855953711916, False),\n",
       " (4, 'user_3', 67.09306663312412, True),\n",
       " (5, 'user_4', 45.74398725307163, False)]"
      ]
     },
     "execution_count": 10,
     "metadata": {},
     "output_type": "execute_result"
    }
   ],
   "source": [
    "db.delete(where=db['id']==3)\n",
    "db.select()"
   ]
  },
  {
   "cell_type": "markdown",
   "metadata": {},
   "source": [
    "# Notes on DB Interface\n",
    "DocTable2 allows you to access columns through direct subscripting, then relies on the power of sqlalchemy column objects to do most of the work of constructing queries. Here are a few notes on their use. For more demonstration, see the example in examples/dt2_select.ipynb"
   ]
  },
  {
   "cell_type": "code",
   "execution_count": 11,
   "metadata": {},
   "outputs": [
    {
     "data": {
      "text/plain": [
       "Column('id', Integer(), table=<_documents_>, primary_key=True, nullable=False)"
      ]
     },
     "execution_count": 11,
     "metadata": {},
     "output_type": "execute_result"
    }
   ],
   "source": [
    "# subscript is used to access underlying sqlalchemy column reference (without querying data)\n",
    "db['id']"
   ]
  },
  {
   "cell_type": "code",
   "execution_count": 12,
   "metadata": {},
   "outputs": [
    {
     "data": {
      "text/plain": [
       "<sqlalchemy.sql.elements.BinaryExpression object at 0x7f0786e53320>"
      ]
     },
     "execution_count": 12,
     "metadata": {},
     "output_type": "execute_result"
    }
   ],
   "source": [
    "# conditionals are applied directly to the column objects (as we'll see with \"where\" clause)\n",
    "db['id'] < 3"
   ]
  },
  {
   "cell_type": "code",
   "execution_count": 13,
   "metadata": {},
   "outputs": [
    {
     "data": {
      "text/plain": [
       "Column('id', Integer(), table=<_documents_>, primary_key=True, nullable=False)"
      ]
     },
     "execution_count": 13,
     "metadata": {},
     "output_type": "execute_result"
    }
   ],
   "source": [
    "# can also access using .col() method\n",
    "db.col('id')"
   ]
  },
  {
   "cell_type": "code",
   "execution_count": 14,
   "metadata": {},
   "outputs": [
    {
     "data": {
      "text/plain": [
       "<sqlalchemy.sql.base.ImmutableColumnCollection at 0x7f0786e8eea0>"
      ]
     },
     "execution_count": 14,
     "metadata": {},
     "output_type": "execute_result"
    }
   ],
   "source": [
    "# to access all column objects (only useful for working directly with sql info)\n",
    "db.columns"
   ]
  },
  {
   "cell_type": "code",
   "execution_count": 15,
   "metadata": {},
   "outputs": [
    {
     "data": {
      "text/plain": [
       "[{'name': 'id',\n",
       "  'type': INTEGER(),\n",
       "  'nullable': False,\n",
       "  'default': None,\n",
       "  'autoincrement': 'auto',\n",
       "  'primary_key': 1},\n",
       " {'name': 'name',\n",
       "  'type': VARCHAR(),\n",
       "  'nullable': False,\n",
       "  'default': None,\n",
       "  'autoincrement': 'auto',\n",
       "  'primary_key': 0},\n",
       " {'name': 'age',\n",
       "  'type': INTEGER(),\n",
       "  'nullable': True,\n",
       "  'default': None,\n",
       "  'autoincrement': 'auto',\n",
       "  'primary_key': 0},\n",
       " {'name': 'is_old',\n",
       "  'type': BOOLEAN(),\n",
       "  'nullable': True,\n",
       "  'default': None,\n",
       "  'autoincrement': 'auto',\n",
       "  'primary_key': 0}]"
      ]
     },
     "execution_count": 15,
     "metadata": {},
     "output_type": "execute_result"
    }
   ],
   "source": [
    "# to access more detailed schema information\n",
    "db.schemainfo"
   ]
  },
  {
   "cell_type": "code",
   "execution_count": 16,
   "metadata": {},
   "outputs": [
    {
     "data": {
      "text/plain": [
       "Table('_documents_', MetaData(bind=None), Column('id', Integer(), table=<_documents_>, primary_key=True, nullable=False), Column('name', String(), table=<_documents_>, nullable=False), Column('age', Integer(), table=<_documents_>), Column('is_old', Boolean(), table=<_documents_>), schema=None)"
      ]
     },
     "execution_count": 16,
     "metadata": {},
     "output_type": "execute_result"
    }
   ],
   "source": [
    "# If needed, you can also access the sqlalchemy table object using the .table property.\n",
    "db.table"
   ]
  },
  {
   "cell_type": "code",
   "execution_count": 17,
   "metadata": {},
   "outputs": [
    {
     "data": {
      "text/plain": [
       "4"
      ]
     },
     "execution_count": 17,
     "metadata": {},
     "output_type": "execute_result"
    }
   ],
   "source": [
    "# the count method is also an easy way to count rows in the database\n",
    "db.count()"
   ]
  },
  {
   "cell_type": "code",
   "execution_count": 18,
   "metadata": {},
   "outputs": [
    {
     "name": "stdout",
     "output_type": "stream",
     "text": [
      "<DocTable2::_documents_ ct: 4>\n"
     ]
    }
   ],
   "source": [
    "# the print method makes it easy to see the table name and total row count\n",
    "print(db)"
   ]
  },
  {
   "cell_type": "markdown",
   "metadata": {},
   "source": [
    "# Type Mappings\n",
    "DocTable2 provides a simplified interface into the [SQLAlchemy core](https://docs.sqlalchemy.org/en/13/core/) package component (not the object-relational mapping component). With this interface DocTable2 is able to provide an object-oriented interface to execute SQL commands. This package simplifies that interface by working with the various objects within the class, allowing the user to create schemas and perform queries without working with the hundreds of classes required by SQLAlchemy core.\n",
    "\n",
    "Because of this, it is important to note the interface between them. The first is the type map used to set up the schema. The DocTable2 constructor provides a schema interface which accepts strings as types, so the type map appears here:"
   ]
  },
  {
   "cell_type": "code",
   "execution_count": 19,
   "metadata": {},
   "outputs": [
    {
     "data": {
      "text/plain": [
       "{'biginteger': sqlalchemy.sql.sqltypes.BigInteger,\n",
       " 'boolean': sqlalchemy.sql.sqltypes.Boolean,\n",
       " 'date': sqlalchemy.sql.sqltypes.Date,\n",
       " 'datetime': sqlalchemy.sql.sqltypes.DateTime,\n",
       " 'enum': sqlalchemy.sql.sqltypes.Enum,\n",
       " 'float': sqlalchemy.sql.sqltypes.Float,\n",
       " 'integer': sqlalchemy.sql.sqltypes.Integer,\n",
       " 'interval': sqlalchemy.sql.sqltypes.Interval,\n",
       " 'largebinary': sqlalchemy.sql.sqltypes.LargeBinary,\n",
       " 'numeric': sqlalchemy.sql.sqltypes.Numeric,\n",
       " 'pickle': sqlalchemy.sql.sqltypes.PickleType,\n",
       " 'smallinteger': sqlalchemy.sql.sqltypes.SmallInteger,\n",
       " 'string': sqlalchemy.sql.sqltypes.String,\n",
       " 'text': sqlalchemy.sql.sqltypes.Text,\n",
       " 'time': sqlalchemy.sql.sqltypes.Time,\n",
       " 'unicode': sqlalchemy.sql.sqltypes.Unicode,\n",
       " 'unicodetext': sqlalchemy.sql.sqltypes.UnicodeText,\n",
       " 'tokens': doctable.coltypes.TokensType,\n",
       " 'subdocs': doctable.coltypes.SubdocsType}"
      ]
     },
     "execution_count": 19,
     "metadata": {},
     "output_type": "execute_result"
    }
   ],
   "source": [
    "dt.DocTable2._type_map"
   ]
  },
  {
   "cell_type": "markdown",
   "metadata": {},
   "source": [
    "It is often also important to add constraints to schemas, and I've also provided a string-mapping for each constraint type."
   ]
  },
  {
   "cell_type": "code",
   "execution_count": 20,
   "metadata": {},
   "outputs": [
    {
     "data": {
      "text/plain": [
       "{'unique_constraint': sqlalchemy.sql.schema.UniqueConstraint,\n",
       " 'check_constraint': sqlalchemy.sql.schema.CheckConstraint,\n",
       " 'primarykey_constraint': sqlalchemy.sql.schema.PrimaryKeyConstraint,\n",
       " 'foreignkey_constraint': sqlalchemy.sql.schema.ForeignKeyConstraint,\n",
       " 'index': sqlalchemy.sql.schema.Index}"
      ]
     },
     "execution_count": 20,
     "metadata": {},
     "output_type": "execute_result"
    }
   ],
   "source": [
    "dt.DocTable2._constraint_map"
   ]
  }
 ],
 "metadata": {
  "kernelspec": {
   "display_name": "Python 3",
   "language": "python",
   "name": "python3"
  },
  "language_info": {
   "codemirror_mode": {
    "name": "ipython",
    "version": 3
   },
   "file_extension": ".py",
   "mimetype": "text/x-python",
   "name": "python",
   "nbconvert_exporter": "python",
   "pygments_lexer": "ipython3",
   "version": "3.7.3"
  }
 },
 "nbformat": 4,
 "nbformat_minor": 4
}
