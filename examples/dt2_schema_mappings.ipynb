{
 "cells": [
  {
   "cell_type": "code",
   "execution_count": 1,
   "metadata": {},
   "outputs": [],
   "source": [
    "import sys\n",
    "sys.path.append('..')\n",
    "from doctable import DocTable2"
   ]
  },
  {
   "cell_type": "code",
   "execution_count": 2,
   "metadata": {},
   "outputs": [
    {
     "data": {
      "text/plain": [
       "{'biginteger': sqlalchemy.sql.sqltypes.BigInteger,\n",
       " 'boolean': sqlalchemy.sql.sqltypes.Boolean,\n",
       " 'date': sqlalchemy.sql.sqltypes.Date,\n",
       " 'datetime': sqlalchemy.sql.sqltypes.DateTime,\n",
       " 'enum': sqlalchemy.sql.sqltypes.Enum,\n",
       " 'float': sqlalchemy.sql.sqltypes.Float,\n",
       " 'integer': sqlalchemy.sql.sqltypes.Integer,\n",
       " 'interval': sqlalchemy.sql.sqltypes.Interval,\n",
       " 'largebinary': sqlalchemy.sql.sqltypes.LargeBinary,\n",
       " 'numeric': sqlalchemy.sql.sqltypes.Numeric,\n",
       " 'pickle': sqlalchemy.sql.sqltypes.PickleType,\n",
       " 'smallinteger': sqlalchemy.sql.sqltypes.SmallInteger,\n",
       " 'string': sqlalchemy.sql.sqltypes.String,\n",
       " 'text': sqlalchemy.sql.sqltypes.Text,\n",
       " 'time': sqlalchemy.sql.sqltypes.Time,\n",
       " 'unicode': sqlalchemy.sql.sqltypes.Unicode,\n",
       " 'unicodetext': sqlalchemy.sql.sqltypes.UnicodeText,\n",
       " 'tokens': doctable.coltypes.TokensType,\n",
       " 'paragraphs': doctable.coltypes.TokensType}"
      ]
     },
     "execution_count": 2,
     "metadata": {},
     "output_type": "execute_result"
    }
   ],
   "source": [
    "DocTable2._type_map"
   ]
  },
  {
   "cell_type": "code",
   "execution_count": 3,
   "metadata": {},
   "outputs": [
    {
     "data": {
      "text/plain": [
       "{'unique_constraint': sqlalchemy.sql.schema.UniqueConstraint,\n",
       " 'check_constraint': sqlalchemy.sql.schema.CheckConstraint,\n",
       " 'primarykey_constraint': sqlalchemy.sql.schema.PrimaryKeyConstraint,\n",
       " 'index': sqlalchemy.sql.schema.Index}"
      ]
     },
     "execution_count": 3,
     "metadata": {},
     "output_type": "execute_result"
    }
   ],
   "source": [
    "DocTable2._constraint_map"
   ]
  }
 ],
 "metadata": {
  "kernelspec": {
   "display_name": "Python 3",
   "language": "python",
   "name": "python3"
  },
  "language_info": {
   "codemirror_mode": {
    "name": "ipython",
    "version": 3
   },
   "file_extension": ".py",
   "mimetype": "text/x-python",
   "name": "python",
   "nbconvert_exporter": "python",
   "pygments_lexer": "ipython3",
   "version": "3.7.3"
  }
 },
 "nbformat": 4,
 "nbformat_minor": 4
}
