{
 "cells": [
  {
   "cell_type": "markdown",
   "metadata": {},
   "source": [
    "# Dataclass Schema Vignette\n",
    "In this vignette I'll show how to use a [Python dataclass](https://realpython.com/python-data-classes/) (introduced in Python 3.7) to specify a schema for a DocTable. The advantage of this schema format is that you can use custom classes to represent each row, and easily convert your existing python objects into a format that it easy to store in a sqlite database."
   ]
  },
  {
   "cell_type": "code",
   "execution_count": 1,
   "metadata": {},
   "outputs": [],
   "source": [
    "from datetime import datetime\n",
    "from pprint import pprint\n",
    "import pandas as pd\n",
    "\n",
    "import sys\n",
    "sys.path.append('..')\n",
    "import doctable"
   ]
  },
  {
   "cell_type": "markdown",
   "metadata": {},
   "source": [
    "## Basic dataclass usage\n",
    "For our first example, we show how a basic dataclass object can be used as a DocTable schema. First we create a python dataclass using the `@dataclass` decorator. This object has three members, each defaulted to `None`. We can create this object using the constructor provided by `dataclass`."
   ]
  },
  {
   "cell_type": "code",
   "execution_count": 2,
   "metadata": {},
   "outputs": [
    {
     "data": {
      "text/plain": [
       "User(name=None, age=None, height=None)"
      ]
     },
     "execution_count": 2,
     "metadata": {},
     "output_type": "execute_result"
    }
   ],
   "source": [
    "from dataclasses import dataclass\n",
    "@dataclass\n",
    "class User(doctable.DocTableSchema):\n",
    "    name: str = None\n",
    "    age: int = None\n",
    "    height: float = None\n",
    "User()"
   ]
  },
  {
   "cell_type": "markdown",
   "metadata": {},
   "source": [
    "And it is relatively easy to create a new doctable using the schema provided by our dataclass `User` by providing the class definition to the `schema` argument. We can see that `DocTable` uses the dataclass schema to create a new table that follows the specified Python datatypes."
   ]
  },
  {
   "cell_type": "code",
   "execution_count": 3,
   "metadata": {},
   "outputs": [
    {
     "data": {
      "text/html": [
       "<div>\n",
       "<style scoped>\n",
       "    .dataframe tbody tr th:only-of-type {\n",
       "        vertical-align: middle;\n",
       "    }\n",
       "\n",
       "    .dataframe tbody tr th {\n",
       "        vertical-align: top;\n",
       "    }\n",
       "\n",
       "    .dataframe thead th {\n",
       "        text-align: right;\n",
       "    }\n",
       "</style>\n",
       "<table border=\"1\" class=\"dataframe\">\n",
       "  <thead>\n",
       "    <tr style=\"text-align: right;\">\n",
       "      <th></th>\n",
       "      <th>name</th>\n",
       "      <th>type</th>\n",
       "      <th>nullable</th>\n",
       "      <th>default</th>\n",
       "      <th>autoincrement</th>\n",
       "      <th>primary_key</th>\n",
       "    </tr>\n",
       "  </thead>\n",
       "  <tbody>\n",
       "    <tr>\n",
       "      <th>0</th>\n",
       "      <td>name</td>\n",
       "      <td>VARCHAR</td>\n",
       "      <td>True</td>\n",
       "      <td>None</td>\n",
       "      <td>auto</td>\n",
       "      <td>0</td>\n",
       "    </tr>\n",
       "    <tr>\n",
       "      <th>1</th>\n",
       "      <td>age</td>\n",
       "      <td>INTEGER</td>\n",
       "      <td>True</td>\n",
       "      <td>None</td>\n",
       "      <td>auto</td>\n",
       "      <td>0</td>\n",
       "    </tr>\n",
       "    <tr>\n",
       "      <th>2</th>\n",
       "      <td>height</td>\n",
       "      <td>FLOAT</td>\n",
       "      <td>True</td>\n",
       "      <td>None</td>\n",
       "      <td>auto</td>\n",
       "      <td>0</td>\n",
       "    </tr>\n",
       "  </tbody>\n",
       "</table>\n",
       "</div>"
      ],
      "text/plain": [
       "     name     type  nullable default autoincrement  primary_key\n",
       "0    name  VARCHAR      True    None          auto            0\n",
       "1     age  INTEGER      True    None          auto            0\n",
       "2  height    FLOAT      True    None          auto            0"
      ]
     },
     "execution_count": 3,
     "metadata": {},
     "output_type": "execute_result"
    }
   ],
   "source": [
    "db = doctable.DocTable(schema=User, target=':memory:')\n",
    "db.schema_table()"
   ]
  },
  {
   "cell_type": "markdown",
   "metadata": {},
   "source": [
    "Now we insert several new objects into the table and view them using `DocTable.head()`. Note that the datbase actually inserted the object's defaulted values into the table."
   ]
  },
  {
   "cell_type": "code",
   "execution_count": 4,
   "metadata": {},
   "outputs": [
    {
     "data": {
      "text/html": [
       "<div>\n",
       "<style scoped>\n",
       "    .dataframe tbody tr th:only-of-type {\n",
       "        vertical-align: middle;\n",
       "    }\n",
       "\n",
       "    .dataframe tbody tr th {\n",
       "        vertical-align: top;\n",
       "    }\n",
       "\n",
       "    .dataframe thead th {\n",
       "        text-align: right;\n",
       "    }\n",
       "</style>\n",
       "<table border=\"1\" class=\"dataframe\">\n",
       "  <thead>\n",
       "    <tr style=\"text-align: right;\">\n",
       "      <th></th>\n",
       "      <th>name</th>\n",
       "      <th>age</th>\n",
       "      <th>height</th>\n",
       "    </tr>\n",
       "  </thead>\n",
       "  <tbody>\n",
       "    <tr>\n",
       "      <th>0</th>\n",
       "      <td>kevin</td>\n",
       "      <td>NaN</td>\n",
       "      <td>NaN</td>\n",
       "    </tr>\n",
       "    <tr>\n",
       "      <th>1</th>\n",
       "      <td>tyrone</td>\n",
       "      <td>12.0</td>\n",
       "      <td>NaN</td>\n",
       "    </tr>\n",
       "    <tr>\n",
       "      <th>2</th>\n",
       "      <td>carlos</td>\n",
       "      <td>25.0</td>\n",
       "      <td>6.5</td>\n",
       "    </tr>\n",
       "  </tbody>\n",
       "</table>\n",
       "</div>"
      ],
      "text/plain": [
       "     name   age  height\n",
       "0   kevin   NaN     NaN\n",
       "1  tyrone  12.0     NaN\n",
       "2  carlos  25.0     6.5"
      ]
     },
     "execution_count": 4,
     "metadata": {},
     "output_type": "execute_result"
    }
   ],
   "source": [
    "db.insert([User('kevin'), User('tyrone', age=12), User('carlos', age=25, height=6.5)])\n",
    "db.head()"
   ]
  },
  {
   "cell_type": "markdown",
   "metadata": {},
   "source": [
    "Using a normal `select()`, we can extract the results as the original objects. With no parameters, the select statement extracts all columns as they are stored and they exactly match the original data we entered. As expected from the python object, we can access these as properties of the object. Due to the base class `doctable.DocTableSchema`, we can also access properties using the `__getitem__` indexing. I'll show why there is a difference btween the two later."
   ]
  },
  {
   "cell_type": "code",
   "execution_count": 5,
   "metadata": {},
   "outputs": [
    {
     "name": "stdout",
     "output_type": "stream",
     "text": [
      "kevin:\n",
      "\tage: None\n",
      "\theight: None\n",
      "tyrone:\n",
      "\tage: 12\n",
      "\theight: None\n",
      "carlos:\n",
      "\tage: 25\n",
      "\theight: 6.5\n"
     ]
    }
   ],
   "source": [
    "users = db.select()\n",
    "for user in users:\n",
    "    print(f\"{user.name}:\\n\\tage: {user.age}\\n\\theight: {user['height']}\")"
   ]
  },
  {
   "cell_type": "markdown",
   "metadata": {},
   "source": [
    "## Example using `doctable.Col`\n",
    "In this example, we will show how to create a dataclass with functionality that supports more complicated database operations. A key to this approach is to use the `doctable.Col` function as default values for our parameters. Note that when we initialize the object, the default values of all columns except for `name` are set to `EmptyValue`. This is important, because `EmptyValue` will indicate values that are not meant to be inserted into the database or are not retrieved from the database after selecting."
   ]
  },
  {
   "cell_type": "code",
   "execution_count": 6,
   "metadata": {},
   "outputs": [
    {
     "data": {
      "text/plain": [
       "User(name=EmptyValue, age=EmptyValue, height=EmptyValue)"
      ]
     },
     "execution_count": 6,
     "metadata": {},
     "output_type": "execute_result"
    }
   ],
   "source": [
    "@dataclass\n",
    "class User(doctable.DocTableSchema):\n",
    "    name: str = doctable.Col()\n",
    "    age: int = doctable.Col()\n",
    "    height: float = doctable.Col()\n",
    "User()"
   ]
  },
  {
   "cell_type": "markdown",
   "metadata": {},
   "source": [
    "Given that the type specifications are the same as the previous example, we get exactly the same database schema. We insert entries just as before. The `User` data contained `EmptyValue`s, and so that column data was not presented to the database at all - instead, the schema's column defaults were used. Consistent with our schema (not the object defaults, the default values were set to None."
   ]
  },
  {
   "cell_type": "code",
   "execution_count": 7,
   "metadata": {},
   "outputs": [
    {
     "name": "stdout",
     "output_type": "stream",
     "text": [
      "     name     type  nullable default autoincrement  primary_key\n",
      "0    name  VARCHAR      True    None          auto            0\n",
      "1     age  INTEGER      True    None          auto            0\n",
      "2  height    FLOAT      True    None          auto            0\n",
      "User(name='kevin', age=None, height=None)\n",
      "User(name='tyrone', age=None, height=None)\n",
      "User(name='carlos', age=None, height=None)\n"
     ]
    }
   ],
   "source": [
    "db = doctable.DocTable(schema=User, target=':memory:')\n",
    "print(db.schema_table())\n",
    "db.insert([User('kevin'), User('tyrone', age=12), User('carlos', age=25, height=6.5)])\n",
    "for user in db.select():\n",
    "    print(f\"{user}\")"
   ]
  },
  {
   "cell_type": "markdown",
   "metadata": {},
   "source": [
    "Now let's try to select only a subset of the columns - in this case, 'name' and 'age'."
   ]
  },
  {
   "cell_type": "code",
   "execution_count": 8,
   "metadata": {},
   "outputs": [
    {
     "data": {
      "text/plain": [
       "User(name='kevin', age=None, height=EmptyValue)"
      ]
     },
     "execution_count": 8,
     "metadata": {},
     "output_type": "execute_result"
    }
   ],
   "source": [
    "users = db.select(['name', 'age'])\n",
    "users[0]"
   ]
  },
  {
   "cell_type": "markdown",
   "metadata": {},
   "source": [
    "Note that the user height was set to `EmptyValue`. When we try to access height as an index, we get an error indicating that the data was not retrived in the select statement."
   ]
  },
  {
   "cell_type": "code",
   "execution_count": 9,
   "metadata": {},
   "outputs": [
    {
     "name": "stdout",
     "output_type": "stream",
     "text": [
      "'The column \"height\" was not retreived in the select statement.'\n"
     ]
    }
   ],
   "source": [
    "try:\n",
    "    users[0]['height']\n",
    "except KeyError as e:\n",
    "    print(e)"
   ]
  },
  {
   "cell_type": "markdown",
   "metadata": {},
   "source": [
    "On the contrary, if we try to access as an attribute, the actual `EmptyValue` object is retrieved. Object properties work as they always have, but indexing into columns will check for errors in the program logic. This implementation shows how dataclass schemas walk the line between regular python objects and database rows, and thus accessing these values can be done differently depending on how much the table entries should be treated like regular objects vs database rows. This is all determined based on how the dataclass columns are configured."
   ]
  },
  {
   "cell_type": "code",
   "execution_count": 10,
   "metadata": {},
   "outputs": [
    {
     "data": {
      "text/plain": [
       "EmptyValue"
      ]
     },
     "execution_count": 10,
     "metadata": {},
     "output_type": "execute_result"
    }
   ],
   "source": [
    "users[0].height"
   ]
  },
  {
   "cell_type": "markdown",
   "metadata": {},
   "source": [
    "## Special column types\n",
    "Now I'll introduce two special data column types provided by doctable: `IDCol()`, which represents a regular id column in sqlite with autoindex and primary_key parameters set, and `UpdatedCol()`, which records the datetime that an object was added to the database. When we create a new user using the dataclass constructor, these values are set to `EmptyValue`, and are relevant primarily to the database. By setting the `repr` parameter in the `@dataclass` decorator, we can use the `__repr__` of the `DocTableSchema` base class, which hides `EmptyValue` columns. This is optional."
   ]
  },
  {
   "cell_type": "code",
   "execution_count": 20,
   "metadata": {},
   "outputs": [
    {
     "data": {
      "text/plain": [
       "User(name='carlos', age=15)"
      ]
     },
     "execution_count": 20,
     "metadata": {},
     "output_type": "execute_result"
    }
   ],
   "source": [
    "from dataclasses import field, fields\n",
    "@dataclass(repr=False)\n",
    "class User(doctable.DocTableSchema):\n",
    "    id: int = doctable.IDCol() # shortcut for autoindex, primary_key column.\n",
    "    updated: datetime = doctable.UpdatedCol() # shortcut for automatically \n",
    "    \n",
    "    name: str = doctable.Col(nullable=False)\n",
    "    age: int = doctable.Col(None) # accessing sqlalchemy column keywords arguments\n",
    "\n",
    "user = User(name='carlos', age=15)\n",
    "user"
   ]
  },
  {
   "cell_type": "markdown",
   "metadata": {},
   "source": [
    "And we can see the relevance of those columns by inserting them into the database and selecting them again. You can see from the result of `.head()` that the primary key `id` and the `updated` columns were appropriately filled upon insertion. After selecting, these objects also contain valid values."
   ]
  },
  {
   "cell_type": "code",
   "execution_count": 25,
   "metadata": {},
   "outputs": [
    {
     "name": "stdout",
     "output_type": "stream",
     "text": [
      "      name      type  nullable default autoincrement  primary_key\n",
      "0       id   INTEGER     False    None          auto            1\n",
      "1  updated  DATETIME      True    None          auto            0\n",
      "2     name   VARCHAR     False    None          auto            0\n",
      "3      age   INTEGER      True    None          auto            0\n"
     ]
    },
    {
     "data": {
      "text/html": [
       "<div>\n",
       "<style scoped>\n",
       "    .dataframe tbody tr th:only-of-type {\n",
       "        vertical-align: middle;\n",
       "    }\n",
       "\n",
       "    .dataframe tbody tr th {\n",
       "        vertical-align: top;\n",
       "    }\n",
       "\n",
       "    .dataframe thead th {\n",
       "        text-align: right;\n",
       "    }\n",
       "</style>\n",
       "<table border=\"1\" class=\"dataframe\">\n",
       "  <thead>\n",
       "    <tr style=\"text-align: right;\">\n",
       "      <th></th>\n",
       "      <th>id</th>\n",
       "      <th>updated</th>\n",
       "      <th>name</th>\n",
       "      <th>age</th>\n",
       "    </tr>\n",
       "  </thead>\n",
       "  <tbody>\n",
       "    <tr>\n",
       "      <th>0</th>\n",
       "      <td>1</td>\n",
       "      <td>2021-03-13 12:33:18.345412</td>\n",
       "      <td>kevin</td>\n",
       "      <td>NaN</td>\n",
       "    </tr>\n",
       "    <tr>\n",
       "      <th>1</th>\n",
       "      <td>2</td>\n",
       "      <td>2021-03-13 12:33:18.345418</td>\n",
       "      <td>tyrone</td>\n",
       "      <td>12.0</td>\n",
       "    </tr>\n",
       "    <tr>\n",
       "      <th>2</th>\n",
       "      <td>3</td>\n",
       "      <td>2021-03-13 12:33:18.345419</td>\n",
       "      <td>carlos</td>\n",
       "      <td>25.0</td>\n",
       "    </tr>\n",
       "  </tbody>\n",
       "</table>\n",
       "</div>"
      ],
      "text/plain": [
       "   id                    updated    name   age\n",
       "0   1 2021-03-13 12:33:18.345412   kevin   NaN\n",
       "1   2 2021-03-13 12:33:18.345418  tyrone  12.0\n",
       "2   3 2021-03-13 12:33:18.345419  carlos  25.0"
      ]
     },
     "execution_count": 25,
     "metadata": {},
     "output_type": "execute_result"
    }
   ],
   "source": [
    "db = doctable.DocTable(schema=User, target=':memory:')\n",
    "print(db.schema_table())\n",
    "db.insert([User(name='kevin'), User(name='tyrone', age=12), User(name='carlos', age=25)])\n",
    "db.head()"
   ]
  },
  {
   "cell_type": "markdown",
   "metadata": {},
   "source": [
    "This was just an example of how regular Python dataclass objects can contain additional data which is relevant to the database, but which is otherwise unneeded."
   ]
  },
  {
   "cell_type": "code",
   "execution_count": null,
   "metadata": {},
   "outputs": [],
   "source": []
  },
  {
   "cell_type": "code",
   "execution_count": null,
   "metadata": {},
   "outputs": [],
   "source": []
  },
  {
   "cell_type": "code",
   "execution_count": null,
   "metadata": {},
   "outputs": [],
   "source": []
  },
  {
   "cell_type": "code",
   "execution_count": null,
   "metadata": {},
   "outputs": [],
   "source": []
  },
  {
   "cell_type": "code",
   "execution_count": null,
   "metadata": {},
   "outputs": [],
   "source": []
  },
  {
   "cell_type": "code",
   "execution_count": null,
   "metadata": {},
   "outputs": [],
   "source": []
  },
  {
   "cell_type": "code",
   "execution_count": null,
   "metadata": {},
   "outputs": [],
   "source": []
  },
  {
   "cell_type": "code",
   "execution_count": null,
   "metadata": {},
   "outputs": [],
   "source": []
  },
  {
   "cell_type": "markdown",
   "metadata": {},
   "source": [
    "First we'll quickly review . Lets start with a simple python object called `MyDataOriginal`. Here we create a constructor with some default values. If we wanted to, we could create class overloads for `__repr__`, `__lt__`, `__gt__`, `__eq__`, etc. Convenient overloads for printing and comparing objects."
   ]
  },
  {
   "cell_type": "code",
   "execution_count": 13,
   "metadata": {},
   "outputs": [
    {
     "data": {
      "text/plain": [
       "<__main__.MyDataOriginal at 0x7f6b0e93d2b0>"
      ]
     },
     "execution_count": 13,
     "metadata": {},
     "output_type": "execute_result"
    }
   ],
   "source": [
    "class MyDataOriginal:\n",
    "    def __init__(self, name, height=None):\n",
    "        self.name = name\n",
    "        self.height = height\n",
    "MyDataOriginal('a name')"
   ]
  },
  {
   "cell_type": "markdown",
   "metadata": {},
   "source": [
    "With a dataclass, we can implement this and other convenient class overloads at once using the `@dataclass` decorator. The following class is equivalent to the previous. See here that it has overloaded `__init__`, `__repr__`, and `__eq__`, among others."
   ]
  },
  {
   "cell_type": "code",
   "execution_count": 14,
   "metadata": {},
   "outputs": [
    {
     "data": {
      "text/plain": [
       "(MyDataClass(name='Devin', height=None), False)"
      ]
     },
     "execution_count": 14,
     "metadata": {},
     "output_type": "execute_result"
    }
   ],
   "source": [
    "@dataclass\n",
    "class MyDataClass:\n",
    "    name: str\n",
    "    height: float = None\n",
    "MyDataClass('Devin'), MyDataClass('Devin') == MyDataClass('Cornell')"
   ]
  },
  {
   "cell_type": "markdown",
   "metadata": {},
   "source": [
    "We can turn this into a schema for doctable by making only some minor modifications. First, we assign default values for our member variables using the function `doctable.Col()`. These are not as special as they seem - they simply set the default value of the variable to be a doctable `EmptyValue`, for when the object is retreived from the database, but the given column was not selected."
   ]
  },
  {
   "cell_type": "code",
   "execution_count": 15,
   "metadata": {},
   "outputs": [
    {
     "data": {
      "text/plain": [
       "MyData(name='deveroni', height=EmptyValue)"
      ]
     },
     "execution_count": 15,
     "metadata": {},
     "output_type": "execute_result"
    }
   ],
   "source": [
    "@dataclass\n",
    "class MyData(doctable.DocTableSchema):\n",
    "    name: str = doctable.Col()\n",
    "    height: float = doctable.Col()\n",
    "MyData('deveroni')"
   ]
  },
  {
   "cell_type": "markdown",
   "metadata": {},
   "source": [
    "We use it as a schema by providing it as the schema argument to the doctable constructor. Here we create an in-memory table. Of course, we can see that this table has no rows."
   ]
  },
  {
   "cell_type": "code",
   "execution_count": 16,
   "metadata": {},
   "outputs": [
    {
     "data": {
      "text/html": [
       "<div>\n",
       "<style scoped>\n",
       "    .dataframe tbody tr th:only-of-type {\n",
       "        vertical-align: middle;\n",
       "    }\n",
       "\n",
       "    .dataframe tbody tr th {\n",
       "        vertical-align: top;\n",
       "    }\n",
       "\n",
       "    .dataframe thead th {\n",
       "        text-align: right;\n",
       "    }\n",
       "</style>\n",
       "<table border=\"1\" class=\"dataframe\">\n",
       "  <thead>\n",
       "    <tr style=\"text-align: right;\">\n",
       "      <th></th>\n",
       "    </tr>\n",
       "  </thead>\n",
       "  <tbody>\n",
       "  </tbody>\n",
       "</table>\n",
       "</div>"
      ],
      "text/plain": [
       "Empty DataFrame\n",
       "Columns: []\n",
       "Index: []"
      ]
     },
     "execution_count": 16,
     "metadata": {},
     "output_type": "execute_result"
    }
   ],
   "source": [
    "db = doctable.DocTable(schema=MyData, target=':memory:')\n",
    "db.head()"
   ]
  },
  {
   "cell_type": "code",
   "execution_count": 17,
   "metadata": {},
   "outputs": [
    {
     "data": {
      "text/plain": [
       "True"
      ]
     },
     "execution_count": 17,
     "metadata": {},
     "output_type": "execute_result"
    }
   ],
   "source": [
    "isinstance(db._schema, type)"
   ]
  },
  {
   "cell_type": "markdown",
   "metadata": {},
   "source": [
    "To add a row to this table, simply insert a `MyData` instance. "
   ]
  },
  {
   "cell_type": "code",
   "execution_count": 18,
   "metadata": {},
   "outputs": [
    {
     "data": {
      "text/html": [
       "<div>\n",
       "<style scoped>\n",
       "    .dataframe tbody tr th:only-of-type {\n",
       "        vertical-align: middle;\n",
       "    }\n",
       "\n",
       "    .dataframe tbody tr th {\n",
       "        vertical-align: top;\n",
       "    }\n",
       "\n",
       "    .dataframe thead th {\n",
       "        text-align: right;\n",
       "    }\n",
       "</style>\n",
       "<table border=\"1\" class=\"dataframe\">\n",
       "  <thead>\n",
       "    <tr style=\"text-align: right;\">\n",
       "      <th></th>\n",
       "      <th>name</th>\n",
       "      <th>height</th>\n",
       "    </tr>\n",
       "  </thead>\n",
       "  <tbody>\n",
       "    <tr>\n",
       "      <th>0</th>\n",
       "      <td>Tyrone</td>\n",
       "      <td>4.5</td>\n",
       "    </tr>\n",
       "  </tbody>\n",
       "</table>\n",
       "</div>"
      ],
      "text/plain": [
       "     name  height\n",
       "0  Tyrone     4.5"
      ]
     },
     "execution_count": 18,
     "metadata": {},
     "output_type": "execute_result"
    }
   ],
   "source": [
    "o = MyData('Tyrone', 4.5)\n",
    "db.insert(o)\n",
    "db.head()"
   ]
  },
  {
   "cell_type": "code",
   "execution_count": 19,
   "metadata": {},
   "outputs": [
    {
     "data": {
      "text/plain": [
       "MyData(name='Tyrone', height=4.5)"
      ]
     },
     "execution_count": 19,
     "metadata": {},
     "output_type": "execute_result"
    }
   ],
   "source": [
    "db.select_first()"
   ]
  }
 ],
 "metadata": {
  "kernelspec": {
   "display_name": "Python 3",
   "language": "python",
   "name": "python3"
  },
  "language_info": {
   "codemirror_mode": {
    "name": "ipython",
    "version": 3
   },
   "file_extension": ".py",
   "mimetype": "text/x-python",
   "name": "python",
   "nbconvert_exporter": "python",
   "pygments_lexer": "ipython3",
   "version": "3.8.5"
  }
 },
 "nbformat": 4,
 "nbformat_minor": 4
}
