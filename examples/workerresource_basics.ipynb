{
 "cells": [
  {
   "cell_type": "code",
   "execution_count": 2,
   "metadata": {},
   "outputs": [],
   "source": [
    "import multiprocessing\n",
    "import functools\n",
    "import time\n",
    "import sys\n",
    "sys.path.append('..')\n",
    "import doctable"
   ]
  },
  {
   "cell_type": "code",
   "execution_count": 9,
   "metadata": {},
   "outputs": [
    {
     "name": "stdout",
     "output_type": "stream",
     "text": [
      "worker output: args=(1, 1) kwargs={}\n",
      "<Process name='Process-6' pid=704146 parent=703216 started>\n",
      "<Process name='Process-6' pid=704146 parent=703216 stopped exitcode=0>\n"
     ]
    }
   ],
   "source": [
    "def test1(*args, **kwargs):\n",
    "    print(f'worker output: {args=} {kwargs=}')\n",
    "\n",
    "\n",
    "#ctx = multiprocessing.get_context('forkserver')\n",
    "proc = multiprocessing.Process(\n",
    "    target=test1, \n",
    "    args=(1, 1),\n",
    ")\n",
    "\n",
    "proc.start()\n",
    "print(proc)\n",
    "time.sleep(1)\n",
    "print(proc)"
   ]
  },
  {
   "cell_type": "code",
   "execution_count": null,
   "metadata": {},
   "outputs": [],
   "source": [
    "def test1(x, y, z=1):\n",
    "    return (x*y)**z\n",
    "userfunc = functools.partial(test1, 1, z=1)\n",
    "\n",
    "with doctable.WorkerResource(verbose=True).start(userfunc) as w:\n",
    "    #w.start(userfunc)\n",
    "    print(w.is_alive())\n",
    "    time.sleep(1)\n",
    "    print(w.is_alive())\n",
    "    w"
   ]
  },
  {
   "cell_type": "code",
   "execution_count": null,
   "metadata": {},
   "outputs": [],
   "source": [
    "print(w.is_alive())\n",
    "w.execute(4)"
   ]
  },
  {
   "cell_type": "code",
   "execution_count": null,
   "metadata": {},
   "outputs": [],
   "source": [
    "w.proc.is_alive()"
   ]
  },
  {
   "cell_type": "code",
   "execution_count": null,
   "metadata": {},
   "outputs": [],
   "source": [
    "f = functools.partial(test1, z=1)\n",
    "g = functools.partial(f, 2)\n",
    "g(5)"
   ]
  },
  {
   "cell_type": "code",
   "execution_count": null,
   "metadata": {},
   "outputs": [],
   "source": [
    "def target(y, z=1):\n",
    "    for i in range(5):\n",
    "        print('shit shit')\n",
    "        time.sleep(1)\n",
    "    return (y)**z\n",
    "\n",
    "ctx = multiprocessing.get_context('fork')\n",
    "proc = ctx.Process(\n",
    "    target=target, \n",
    "    args=(1,),\n",
    ")\n",
    "proc.start()\n",
    "proc"
   ]
  },
  {
   "cell_type": "code",
   "execution_count": null,
   "metadata": {},
   "outputs": [],
   "source": [
    "proc"
   ]
  }
 ],
 "metadata": {
  "kernelspec": {
   "display_name": "Python 3",
   "language": "python",
   "name": "python3"
  },
  "language_info": {
   "codemirror_mode": {
    "name": "ipython",
    "version": 3
   },
   "file_extension": ".py",
   "mimetype": "text/x-python",
   "name": "python",
   "nbconvert_exporter": "python",
   "pygments_lexer": "ipython3",
   "version": "3.8.5"
  }
 },
 "nbformat": 4,
 "nbformat_minor": 4
}
