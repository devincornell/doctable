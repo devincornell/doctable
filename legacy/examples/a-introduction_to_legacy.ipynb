{
 "cells": [
  {
   "cell_type": "markdown",
   "metadata": {},
   "source": [
    "# Introduction to Legacy `doctable`\n",
    "\n",
    "The `doctable` package has gone through many iterations, the latest of which has come with the compatibility-breaking release of [`sqlalchemy`](https://www.sqlalchemy.org/) 2.0, on which `doctable` heavily relies. With that change, I decided to create a new API that would solve some outstanding issues I have been facing. This new API uses entirely different function and class names to preserve as much backwards compatibility as possible.\n",
    "\n",
    "There may, however, be cases where you want to use the pre-2.0 API. See the installation instructions for details on how to install the legacy version. All of the documents in the legacy section are associated with that version of doctable."
   ]
  }
 ],
 "metadata": {
  "language_info": {
   "name": "python"
  }
 },
 "nbformat": 4,
 "nbformat_minor": 2
}
