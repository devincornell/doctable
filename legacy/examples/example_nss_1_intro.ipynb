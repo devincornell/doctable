{
 "cells": [
  {
   "cell_type": "markdown",
   "metadata": {},
   "source": [
    "# Vignette 1: Storing Document Metadata\n",
    "In this example, I'll show how to create and manipulate two linked tables for storing document metadata using [US National Security Strategy document](https://github.com/devincornell/nssdocs) metadata as an example. \n",
    "\n",
    "These are the vignettes I have created:\n",
    "\n",
    "+ [1: Storing Document Metadata](example_nss_1_intro.html)\n",
    "\n",
    "+ [2: Storing Document Text](example_nss_2_parsing.html)\n",
    "\n",
    "+ [3: Storing Parsed Documents](example_nss_3_parsetrees.html)"
   ]
  },
  {
   "cell_type": "code",
   "execution_count": 1,
   "metadata": {},
   "outputs": [
    {
     "data": {
      "text/plain": [
       "'/tmp/tmplxxguo16'"
      ]
     },
     "execution_count": 1,
     "metadata": {},
     "output_type": "execute_result"
    }
   ],
   "source": [
    "import sys\n",
    "sys.path.append('..')\n",
    "import doctable\n",
    "import spacy\n",
    "from tqdm import tqdm\n",
    "import pandas as pd\n",
    "import os\n",
    "from pprint import pprint\n",
    "import urllib.request # used for downloading nss docs\n",
    "\n",
    "# automatically clean up temp folder after python ends\n",
    "#tmpfolder = doctable.TempFolder('tmp')\n",
    "import tempfile\n",
    "tempdir = tempfile.TemporaryDirectory()\n",
    "tmpfolder = tempdir.name\n",
    "tmpfolder"
   ]
  },
  {
   "cell_type": "markdown",
   "metadata": {},
   "source": [
    "## Introduction to NSS Corpus\n",
    "This dataset is the plain text version of the US National Security Strategy documents. I compiled the metadata you see below from [a page hosted by the historical dept of the secretary's office](https://history.defense.gov/Historical-Sources/National-Security-Strategy/). In short, each US President must release at least one NSS per term, up to one per-year. This is the metadata we will be inserting into the table:"
   ]
  },
  {
   "cell_type": "code",
   "execution_count": 2,
   "metadata": {},
   "outputs": [],
   "source": [
    "# information about each NSS document\n",
    "document_metadata = [\n",
    "    {'year': 2000, 'party': 'D', 'president': 'Clinton'},\n",
    "    {'year': 2002, 'party': 'R', 'president': 'W. Bush'}, \n",
    "    {'year': 2006, 'party': 'R', 'president': 'W. Bush'}, \n",
    "    {'year': 2010, 'party': 'D', 'president': 'Obama'}, \n",
    "    {'year': 2015, 'party': 'D', 'president': 'Obama'}, \n",
    "    {'year': 2017, 'party': 'R', 'president': 'Trump'}, \n",
    "]"
   ]
  },
  {
   "cell_type": "markdown",
   "metadata": {},
   "source": [
    "## Create database schemas\n",
    "\n",
    "The first step will be to define a database schema that is appropriate for the data in `document_metadata`. We define an `NSSDoc` class to represent a single document. The `doctable.schema` decorator will convert the row objects into [`dataclasses`](https://realpython.com/python-data-classes/) with [slots](https://docs.python.org/3/reference/datamodel.html#slots) enabled, and inherit from doctable.DocTableRow to add some additional functionality. The type hints associated with each variable will be used in the schema definition for the new tables, and arguments to `doctable.Col` will mostly be passed to `dataclasses.field` (see [docs](https://doctable.org/ref/doctable/schemas/field_columns.html#Col) for more detail), so all dataclass functionality is maintained.\n",
    "\n",
    "Also note that a method called `.is_old()` was defined. This method will not be included in a database schema, but I'll show later how it can be useful."
   ]
  },
  {
   "cell_type": "code",
   "execution_count": 3,
   "metadata": {},
   "outputs": [],
   "source": [
    "# to be used as a database row representing a single NSS document\n",
    "@doctable.schema\n",
    "class NSSDoc:\n",
    "    __slots__ = [] # include so that doctable.schema can create a slot class\n",
    "    \n",
    "    id: int = doctable.Col(primary_key=True, autoincrement=True) # can also use doctable.IDCol() as a shortcut\n",
    "    year: int =  None\n",
    "    party: str = None\n",
    "    president: str = None\n",
    "        \n",
    "    def is_old(self):\n",
    "        '''Return whether the document is old or not.'''\n",
    "        return self.year < 2010"
   ]
  },
  {
   "cell_type": "markdown",
   "metadata": {},
   "source": [
    "We can see that these are regular dataclass methods because their constructors are defined. Note that the dataclass defaults the values to None, so take note of this when inserting or retrieving from a database."
   ]
  },
  {
   "cell_type": "code",
   "execution_count": 4,
   "metadata": {},
   "outputs": [
    {
     "data": {
      "text/plain": [
       "NSSDoc(year=1999, party=None, president=None)"
      ]
     },
     "execution_count": 4,
     "metadata": {},
     "output_type": "execute_result"
    }
   ],
   "source": [
    "NSSDoc(year=1999)"
   ]
  },
  {
   "cell_type": "markdown",
   "metadata": {},
   "source": [
    "And we will also likely want to create a class that inherits from `DocTable` to statically define the table name, schema object, and any indices or constraints that should be associated with our table. We set the table name and the schema definition class using the reserved member variables `_tabname_` and `_schema_`, respectively. Note that the `NSSDoc` class is provided as the schema.\n",
    "\n",
    "We also can use this definition to create indices and constraints using the `_indices_` and `_constraints_` member variables. The indices are provided as name->columns pairs, and the constraints are tuples of the form `(constraint_type, constraint_details)`. In this case, we limit the values for `check` to R or D."
   ]
  },
  {
   "cell_type": "code",
   "execution_count": 5,
   "metadata": {},
   "outputs": [],
   "source": [
    "class NSSDocTable(doctable.DocTable):\n",
    "    _tabname_ = 'nss_documents'\n",
    "    _schema_ = NSSDoc\n",
    "    _indices_ = (\n",
    "        doctable.Index('party_index', 'party'),\n",
    "    )\n",
    "    _constraints_ = (\n",
    "        doctable.Constraint('check', 'party in (\"R\", \"D\")'), # party can only take on values R or D.\n",
    "    )"
   ]
  },
  {
   "cell_type": "markdown",
   "metadata": {},
   "source": [
    "And then we create an instance of the `NSSDocTable` table using `DocTable`\\'s default constructor. We set `target=f'{tmp}/nss_1.db'` to indicate we want to access an sqlite database at that path. We also use the `new_db=True` to indicate that the database does not exist, so we should create a new one."
   ]
  },
  {
   "cell_type": "code",
   "execution_count": 6,
   "metadata": {},
   "outputs": [
    {
     "data": {
      "text/plain": [
       "<__main__.NSSDocTable at 0x7f2a55b9b400>"
      ]
     },
     "execution_count": 6,
     "metadata": {},
     "output_type": "execute_result"
    }
   ],
   "source": [
    "fname = f'{tmpfolder}/nss_1.db'\n",
    "\n",
    "# clean up any old databases\n",
    "try:\n",
    "    os.remove(fname)\n",
    "except:\n",
    "    pass\n",
    "\n",
    "docs_table = NSSDocTable(target=fname, new_db=True)\n",
    "docs_table"
   ]
  },
  {
   "cell_type": "markdown",
   "metadata": {},
   "source": [
    "We can use `.schema_table()` to see information about the database schema. Note that doctable inferred column types based on the type hints."
   ]
  },
  {
   "cell_type": "code",
   "execution_count": 7,
   "metadata": {},
   "outputs": [
    {
     "data": {
      "text/html": [
       "<div>\n",
       "<style scoped>\n",
       "    .dataframe tbody tr th:only-of-type {\n",
       "        vertical-align: middle;\n",
       "    }\n",
       "\n",
       "    .dataframe tbody tr th {\n",
       "        vertical-align: top;\n",
       "    }\n",
       "\n",
       "    .dataframe thead th {\n",
       "        text-align: right;\n",
       "    }\n",
       "</style>\n",
       "<table border=\"1\" class=\"dataframe\">\n",
       "  <thead>\n",
       "    <tr style=\"text-align: right;\">\n",
       "      <th></th>\n",
       "      <th>name</th>\n",
       "      <th>type</th>\n",
       "      <th>nullable</th>\n",
       "      <th>default</th>\n",
       "      <th>autoincrement</th>\n",
       "      <th>primary_key</th>\n",
       "    </tr>\n",
       "  </thead>\n",
       "  <tbody>\n",
       "    <tr>\n",
       "      <th>0</th>\n",
       "      <td>id</td>\n",
       "      <td>INTEGER</td>\n",
       "      <td>False</td>\n",
       "      <td>None</td>\n",
       "      <td>auto</td>\n",
       "      <td>1</td>\n",
       "    </tr>\n",
       "    <tr>\n",
       "      <th>1</th>\n",
       "      <td>year</td>\n",
       "      <td>INTEGER</td>\n",
       "      <td>True</td>\n",
       "      <td>None</td>\n",
       "      <td>auto</td>\n",
       "      <td>0</td>\n",
       "    </tr>\n",
       "    <tr>\n",
       "      <th>2</th>\n",
       "      <td>party</td>\n",
       "      <td>VARCHAR</td>\n",
       "      <td>True</td>\n",
       "      <td>None</td>\n",
       "      <td>auto</td>\n",
       "      <td>0</td>\n",
       "    </tr>\n",
       "    <tr>\n",
       "      <th>3</th>\n",
       "      <td>president</td>\n",
       "      <td>VARCHAR</td>\n",
       "      <td>True</td>\n",
       "      <td>None</td>\n",
       "      <td>auto</td>\n",
       "      <td>0</td>\n",
       "    </tr>\n",
       "  </tbody>\n",
       "</table>\n",
       "</div>"
      ],
      "text/plain": [
       "        name     type  nullable default autoincrement  primary_key\n",
       "0         id  INTEGER     False    None          auto            1\n",
       "1       year  INTEGER      True    None          auto            0\n",
       "2      party  VARCHAR      True    None          auto            0\n",
       "3  president  VARCHAR      True    None          auto            0"
      ]
     },
     "execution_count": 7,
     "metadata": {},
     "output_type": "execute_result"
    }
   ],
   "source": [
    "docs_table.schema_table()"
   ]
  },
  {
   "cell_type": "markdown",
   "metadata": {},
   "source": [
    "We are now ready to insert data into the new table. We simply add each document as a dictionary, and show the first `n` rows using `.head()`."
   ]
  },
  {
   "cell_type": "code",
   "execution_count": 8,
   "metadata": {},
   "outputs": [
    {
     "name": "stdout",
     "output_type": "stream",
     "text": [
      "{'year': 2000, 'party': 'D', 'president': 'Clinton'}\n",
      "{'year': 2002, 'party': 'R', 'president': 'W. Bush'}\n",
      "{'year': 2006, 'party': 'R', 'president': 'W. Bush'}\n",
      "{'year': 2010, 'party': 'D', 'president': 'Obama'}\n",
      "{'year': 2015, 'party': 'D', 'president': 'Obama'}\n",
      "{'year': 2017, 'party': 'R', 'president': 'Trump'}\n"
     ]
    },
    {
     "name": "stderr",
     "output_type": "stream",
     "text": [
      "/DataDrive/code/doctable/examples/../doctable/doctable.py:494: UserWarning: Method .delete() is depricated. Please use .q.delete() instead.\n",
      "  warnings.warn('Method .delete() is depricated. Please use .q.delete() instead.')\n",
      "/DataDrive/code/doctable/examples/../doctable/doctable.py:364: UserWarning: Method .insert() is depricated. Please use .q.insert_single(), .q.insert_single_raw(), .q.insert_multi(), or .q.insert_multi() instead.\n",
      "  warnings.warn('Method .insert() is depricated. Please use .q.insert_single(), '\n",
      "/DataDrive/code/doctable/examples/../doctable/doctable.py:390: UserWarning: .insert_single() is depricated: please use .q.insert_single() or .q.insert_single_raw()\n",
      "  warnings.warn(f'.insert_single() is depricated: please use .q.insert_single() or '\n",
      "/DataDrive/code/doctable/examples/../doctable/doctable.py:407: UserWarning: Method .head() is depricated. Please use .q.select_head() instead.\n",
      "  warnings.warn('Method .head() is depricated. Please use .q.select_head() instead.')\n"
     ]
    },
    {
     "data": {
      "text/html": [
       "<div>\n",
       "<style scoped>\n",
       "    .dataframe tbody tr th:only-of-type {\n",
       "        vertical-align: middle;\n",
       "    }\n",
       "\n",
       "    .dataframe tbody tr th {\n",
       "        vertical-align: top;\n",
       "    }\n",
       "\n",
       "    .dataframe thead th {\n",
       "        text-align: right;\n",
       "    }\n",
       "</style>\n",
       "<table border=\"1\" class=\"dataframe\">\n",
       "  <thead>\n",
       "    <tr style=\"text-align: right;\">\n",
       "      <th></th>\n",
       "      <th>id</th>\n",
       "      <th>year</th>\n",
       "      <th>party</th>\n",
       "      <th>president</th>\n",
       "    </tr>\n",
       "  </thead>\n",
       "  <tbody>\n",
       "    <tr>\n",
       "      <th>0</th>\n",
       "      <td>1</td>\n",
       "      <td>2000</td>\n",
       "      <td>D</td>\n",
       "      <td>Clinton</td>\n",
       "    </tr>\n",
       "    <tr>\n",
       "      <th>1</th>\n",
       "      <td>2</td>\n",
       "      <td>2002</td>\n",
       "      <td>R</td>\n",
       "      <td>W. Bush</td>\n",
       "    </tr>\n",
       "    <tr>\n",
       "      <th>2</th>\n",
       "      <td>3</td>\n",
       "      <td>2006</td>\n",
       "      <td>R</td>\n",
       "      <td>W. Bush</td>\n",
       "    </tr>\n",
       "    <tr>\n",
       "      <th>3</th>\n",
       "      <td>4</td>\n",
       "      <td>2010</td>\n",
       "      <td>D</td>\n",
       "      <td>Obama</td>\n",
       "    </tr>\n",
       "    <tr>\n",
       "      <th>4</th>\n",
       "      <td>5</td>\n",
       "      <td>2015</td>\n",
       "      <td>D</td>\n",
       "      <td>Obama</td>\n",
       "    </tr>\n",
       "  </tbody>\n",
       "</table>\n",
       "</div>"
      ],
      "text/plain": [
       "   id  year party president\n",
       "0   1  2000     D   Clinton\n",
       "1   2  2002     R   W. Bush\n",
       "2   3  2006     R   W. Bush\n",
       "3   4  2010     D     Obama\n",
       "4   5  2015     D     Obama"
      ]
     },
     "execution_count": 8,
     "metadata": {},
     "output_type": "execute_result"
    }
   ],
   "source": [
    "docs_table.delete() # remove old entries if needed\n",
    "for doc in document_metadata:\n",
    "    print(doc)\n",
    "    docs_table.insert(doc)\n",
    "docs_table.head()"
   ]
  },
  {
   "cell_type": "markdown",
   "metadata": {},
   "source": [
    "We can verify that the constraint was defined by attempting to insert a row with an unknown party code."
   ]
  },
  {
   "cell_type": "code",
   "execution_count": 9,
   "metadata": {},
   "outputs": [
    {
     "name": "stderr",
     "output_type": "stream",
     "text": [
      "/DataDrive/code/doctable/examples/../doctable/doctable.py:364: UserWarning: Method .insert() is depricated. Please use .q.insert_single(), .q.insert_single_raw(), .q.insert_multi(), or .q.insert_multi() instead.\n",
      "  warnings.warn('Method .insert() is depricated. Please use .q.insert_single(), '\n",
      "/DataDrive/code/doctable/examples/../doctable/doctable.py:390: UserWarning: .insert_single() is depricated: please use .q.insert_single() or .q.insert_single_raw()\n",
      "  warnings.warn(f'.insert_single() is depricated: please use .q.insert_single() or '\n"
     ]
    }
   ],
   "source": [
    "import sqlalchemy\n",
    "try:\n",
    "    docs_table.insert({'party':'whateva'})\n",
    "except sqlalchemy.exc.IntegrityError as e:\n",
    "    print(e)"
   ]
  },
  {
   "cell_type": "markdown",
   "metadata": {},
   "source": [
    "And we can use all the expected select (see [select examples](doctable_select.html)) methods."
   ]
  },
  {
   "cell_type": "code",
   "execution_count": 10,
   "metadata": {},
   "outputs": [
    {
     "name": "stderr",
     "output_type": "stream",
     "text": [
      "/DataDrive/code/doctable/examples/../doctable/doctable.py:443: UserWarning: Method .select() is depricated. Please use .q.select() instead.\n",
      "  warnings.warn('Method .select() is depricated. Please use .q.select() instead.')\n"
     ]
    },
    {
     "data": {
      "text/plain": [
       "[NSSDoc(id=1, year=2000, party='D', president='Clinton'),\n",
       " NSSDoc(id=4, year=2010, party='D', president='Obama'),\n",
       " NSSDoc(id=5, year=2015, party='D', president='Obama')]"
      ]
     },
     "execution_count": 10,
     "metadata": {},
     "output_type": "execute_result"
    }
   ],
   "source": [
    "democrats = docs_table.select(where=docs_table['party']=='D')\n",
    "democrats"
   ]
  },
  {
   "cell_type": "code",
   "execution_count": 11,
   "metadata": {},
   "outputs": [
    {
     "name": "stderr",
     "output_type": "stream",
     "text": [
      "/DataDrive/code/doctable/examples/../doctable/doctable.py:426: UserWarning: Method .select_first() is depricated. Please use .q.select_first() instead.\n",
      "  warnings.warn('Method .select_first() is depricated. Please use .q.select_first() instead.')\n"
     ]
    },
    {
     "data": {
      "text/plain": [
       "NSSDoc(id=1, year=2000, party='D', president='Clinton')"
      ]
     },
     "execution_count": 11,
     "metadata": {},
     "output_type": "execute_result"
    }
   ],
   "source": [
    "clinton_doc = docs_table.select_first(where=docs_table['president']=='Clinton')\n",
    "clinton_doc"
   ]
  },
  {
   "cell_type": "markdown",
   "metadata": {},
   "source": [
    "Along with the methods we defined on the schema objects."
   ]
  },
  {
   "cell_type": "code",
   "execution_count": 12,
   "metadata": {},
   "outputs": [
    {
     "data": {
      "text/plain": [
       "True"
      ]
     },
     "execution_count": 12,
     "metadata": {},
     "output_type": "execute_result"
    }
   ],
   "source": [
    "clinton_doc.is_old()"
   ]
  },
  {
   "cell_type": "markdown",
   "metadata": {},
   "source": [
    "## Adding political party data\n",
    "\n",
    "Of course, relational database schemas often involve the use of more than one linked table. Now we'll attempt to integrate the data in `party_metadata` into our schema."
   ]
  },
  {
   "cell_type": "code",
   "execution_count": 13,
   "metadata": {},
   "outputs": [],
   "source": [
    "# full name of party (we will use later)\n",
    "party_metadata = [\n",
    "    {'code': 'R', 'name': 'Republican'},\n",
    "    {'code': 'D', 'name': 'Democrat'},\n",
    "]"
   ]
  },
  {
   "cell_type": "markdown",
   "metadata": {},
   "source": [
    "First, we create the `Party` dataclass just as before."
   ]
  },
  {
   "cell_type": "code",
   "execution_count": 14,
   "metadata": {},
   "outputs": [],
   "source": [
    "# to be used as a database row representing a single political party\n",
    "@doctable.schema\n",
    "class Party:\n",
    "    __slots__ = []\n",
    "    \n",
    "    id: int = doctable.Col(primary_key=True, autoincrement=True) # can also use doctable.IDCol() as a shortcut    \n",
    "    code: str = None\n",
    "    name: str = None"
   ]
  },
  {
   "cell_type": "markdown",
   "metadata": {},
   "source": [
    "And then define a `DocTable` with a 'foreignkey' constraint that indicates it\\'s relationship to the document table. We can use the reference to the \"party\" column using `nss_documents.party`."
   ]
  },
  {
   "cell_type": "code",
   "execution_count": 15,
   "metadata": {},
   "outputs": [
    {
     "data": {
      "text/plain": [
       "<__main__.PartyTable at 0x7f2a55afa310>"
      ]
     },
     "execution_count": 15,
     "metadata": {},
     "output_type": "execute_result"
    }
   ],
   "source": [
    "class PartyTable(doctable.DocTable):\n",
    "    _tabname_ = 'political_parties'\n",
    "    _schema_ = Party\n",
    "    _indices_ = {\n",
    "        doctable.Index('code_index', 'code')\n",
    "    }\n",
    "    _constraints_ = (\n",
    "        doctable.Constraint('foreignkey', ('code',), ('nss_documents.party',)),\n",
    "    )\n",
    "\n",
    "party_table = PartyTable(target=fname)\n",
    "party_table"
   ]
  },
  {
   "cell_type": "code",
   "execution_count": 16,
   "metadata": {},
   "outputs": [
    {
     "name": "stdout",
     "output_type": "stream",
     "text": [
      "{'code': 'R', 'name': 'Republican'}\n",
      "{'code': 'D', 'name': 'Democrat'}\n"
     ]
    },
    {
     "name": "stderr",
     "output_type": "stream",
     "text": [
      "/DataDrive/code/doctable/examples/../doctable/doctable.py:494: UserWarning: Method .delete() is depricated. Please use .q.delete() instead.\n",
      "  warnings.warn('Method .delete() is depricated. Please use .q.delete() instead.')\n",
      "/DataDrive/code/doctable/examples/../doctable/doctable.py:407: UserWarning: Method .head() is depricated. Please use .q.select_head() instead.\n",
      "  warnings.warn('Method .head() is depricated. Please use .q.select_head() instead.')\n"
     ]
    },
    {
     "data": {
      "text/html": [
       "<div>\n",
       "<style scoped>\n",
       "    .dataframe tbody tr th:only-of-type {\n",
       "        vertical-align: middle;\n",
       "    }\n",
       "\n",
       "    .dataframe tbody tr th {\n",
       "        vertical-align: top;\n",
       "    }\n",
       "\n",
       "    .dataframe thead th {\n",
       "        text-align: right;\n",
       "    }\n",
       "</style>\n",
       "<table border=\"1\" class=\"dataframe\">\n",
       "  <thead>\n",
       "    <tr style=\"text-align: right;\">\n",
       "      <th></th>\n",
       "      <th>id</th>\n",
       "      <th>code</th>\n",
       "      <th>name</th>\n",
       "    </tr>\n",
       "  </thead>\n",
       "  <tbody>\n",
       "    <tr>\n",
       "      <th>0</th>\n",
       "      <td>1</td>\n",
       "      <td>R</td>\n",
       "      <td>Republican</td>\n",
       "    </tr>\n",
       "    <tr>\n",
       "      <th>1</th>\n",
       "      <td>2</td>\n",
       "      <td>D</td>\n",
       "      <td>Democrat</td>\n",
       "    </tr>\n",
       "  </tbody>\n",
       "</table>\n",
       "</div>"
      ],
      "text/plain": [
       "   id code        name\n",
       "0   1    R  Republican\n",
       "1   2    D    Democrat"
      ]
     },
     "execution_count": 16,
     "metadata": {},
     "output_type": "execute_result"
    }
   ],
   "source": [
    "party_table.delete() # remove old entries if needed\n",
    "for party in party_metadata:\n",
    "    print(party)\n",
    "    party_table.insert(party)\n",
    "party_table.head()"
   ]
  },
  {
   "cell_type": "markdown",
   "metadata": {},
   "source": [
    "## Performing \"join\" select queries\n",
    "\n",
    "In contrast to sql, the type of join is inferred from the way the select query is used. Using a `select` method with columns for both tables will issue an outer join in lieu of other parameters. Also note that we must use `as_dataclass` to indicate the data should not use a dataclass for the results, since joined results includes fields from both "
   ]
  },
  {
   "cell_type": "code",
   "execution_count": 17,
   "metadata": {},
   "outputs": [
    {
     "name": "stderr",
     "output_type": "stream",
     "text": [
      "/DataDrive/code/doctable/examples/../doctable/doctable.py:443: UserWarning: Method .select() is depricated. Please use .q.select() instead.\n",
      "  warnings.warn('Method .select() is depricated. Please use .q.select() instead.')\n",
      "/DataDrive/code/doctable/examples/../doctable/doctable.py:445: UserWarning: The \"as_dataclass\" parameter has been depricated: please set get_raw=True or select_raw to specify that you would like to retrieve a raw RowProxy pobject.\n",
      "  warnings.warn(f'The \"as_dataclass\" parameter has been depricated: please set get_raw=True or '\n",
      "/DataDrive/code/doctable/examples/../doctable/connectengine.py:69: SAWarning: SELECT statement has a cartesian product between FROM element(s) \"nss_documents\" and FROM element \"political_parties\".  Apply join condition(s) between each element to resolve.\n",
      "  return self._engine.execute(query, *args, **kwargs)\n",
      "/DataDrive/code/doctable/examples/../doctable/doctable.py:453: UserWarning: Conversion from row to object failed according to the following error. Please use .q.select_raw() next time in the future to avoid this issue. e=RowDataConversionFailed(\"Conversion from <class 'sqlalchemy.engine.row.LegacyRow'> to <class '__main__.Party'> failed.\")\n",
      "  warnings.warn(f'Conversion from row to object failed according to the following '\n"
     ]
    },
    {
     "data": {
      "text/plain": [
       "[('Republican', 'Clinton'),\n",
       " ('Republican', 'W. Bush'),\n",
       " ('Republican', 'W. Bush'),\n",
       " ('Republican', 'Obama'),\n",
       " ('Republican', 'Obama'),\n",
       " ('Republican', 'Trump'),\n",
       " ('Republican', None),\n",
       " ('Democrat', 'Clinton'),\n",
       " ('Democrat', 'W. Bush'),\n",
       " ('Democrat', 'W. Bush'),\n",
       " ('Democrat', 'Obama'),\n",
       " ('Democrat', 'Obama'),\n",
       " ('Democrat', 'Trump'),\n",
       " ('Democrat', None)]"
      ]
     },
     "execution_count": 17,
     "metadata": {},
     "output_type": "execute_result"
    }
   ],
   "source": [
    "party_table.select(['name', docs_table['president']], as_dataclass=False)"
   ]
  },
  {
   "cell_type": "markdown",
   "metadata": {},
   "source": [
    "To perform an inner join, use a where conditional indicating the columns to be matched."
   ]
  },
  {
   "cell_type": "code",
   "execution_count": 18,
   "metadata": {},
   "outputs": [
    {
     "name": "stderr",
     "output_type": "stream",
     "text": [
      "/DataDrive/code/doctable/examples/../doctable/doctable.py:453: UserWarning: Conversion from row to object failed according to the following error. Please use .q.select_raw() next time in the future to avoid this issue. e=RowDataConversionFailed(\"Conversion from <class 'sqlalchemy.engine.row.LegacyRow'> to <class '__main__.NSSDoc'> failed.\")\n",
      "  warnings.warn(f'Conversion from row to object failed according to the following '\n"
     ]
    },
    {
     "data": {
      "text/plain": [
       "[(2000, 'Clinton', 'Democrat'),\n",
       " (2002, 'W. Bush', 'Republican'),\n",
       " (2006, 'W. Bush', 'Republican'),\n",
       " (2010, 'Obama', 'Democrat'),\n",
       " (2015, 'Obama', 'Democrat'),\n",
       " (2017, 'Trump', 'Republican')]"
      ]
     },
     "execution_count": 18,
     "metadata": {},
     "output_type": "execute_result"
    }
   ],
   "source": [
    "docs_table.select(['year', 'president', party_table['name']], as_dataclass=False, where=docs_table['party']==party_table['code'])"
   ]
  },
  {
   "cell_type": "markdown",
   "metadata": {},
   "source": [
    "And this works approximately the same when we switch the tables being selected."
   ]
  },
  {
   "cell_type": "code",
   "execution_count": 19,
   "metadata": {},
   "outputs": [
    {
     "data": {
      "text/plain": [
       "[('R', 'Republican', 'Trump'),\n",
       " ('R', 'Republican', 'W. Bush'),\n",
       " ('R', 'Republican', 'W. Bush'),\n",
       " ('D', 'Democrat', 'Clinton'),\n",
       " ('D', 'Democrat', 'Obama'),\n",
       " ('D', 'Democrat', 'Obama')]"
      ]
     },
     "execution_count": 19,
     "metadata": {},
     "output_type": "execute_result"
    }
   ],
   "source": [
    "party_table.select(['code', 'name', docs_table['president']], as_dataclass=False, where=docs_table['party']==party_table['code'])"
   ]
  },
  {
   "cell_type": "markdown",
   "metadata": {},
   "source": [
    "And that is all for this vignette! See the list of vignettes at the top of this page for more examples."
   ]
  }
 ],
 "metadata": {
  "kernelspec": {
   "display_name": "Python 3 (ipykernel)",
   "language": "python",
   "name": "python3"
  },
  "language_info": {
   "codemirror_mode": {
    "name": "ipython",
    "version": 3
   },
   "file_extension": ".py",
   "mimetype": "text/x-python",
   "name": "python",
   "nbconvert_exporter": "python",
   "pygments_lexer": "ipython3",
   "version": "3.9.13 (main, Aug 25 2022, 23:26:10) \n[GCC 11.2.0]"
  },
  "vscode": {
   "interpreter": {
    "hash": "6655beaf7f57a241ed2fe3a58b558d568db09842d57c904b8c0db510272f5c22"
   }
  }
 },
 "nbformat": 4,
 "nbformat_minor": 4
}
