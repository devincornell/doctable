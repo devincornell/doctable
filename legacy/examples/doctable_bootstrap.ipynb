{
 "cells": [
  {
   "cell_type": "markdown",
   "metadata": {},
   "source": [
    "# Document Bootstrapping Examples\n",
    "When estimating machine learning or statistical models on your corpus, you may need to bootstrap documents (randomly sample with replacement). The `.bootstrap()` method of `DocTable` will act like a select statement but return a bootstrap object instead of a direct query result. Here I show how to do some basic bootstrapping using an example doctable."
   ]
  },
  {
   "cell_type": "code",
   "execution_count": 1,
   "metadata": {},
   "outputs": [],
   "source": [
    "import random\n",
    "import pandas as pd\n",
    "import numpy as np\n",
    "import sys\n",
    "sys.path.append('..')\n",
    "import doctable as dt"
   ]
  },
  {
   "cell_type": "markdown",
   "metadata": {},
   "source": [
    "### Create Example DocTable\n",
    "First we define a DocTable that will be used for examples."
   ]
  },
  {
   "cell_type": "code",
   "execution_count": 2,
   "metadata": {},
   "outputs": [
    {
     "name": "stdout",
     "output_type": "stream",
     "text": [
      "<DocTable::sqlite:///:memory::_documents_ ct: 0>\n"
     ]
    }
   ],
   "source": [
    "schema = (\n",
    "    ('integer','id',dict(primary_key=True, autoincrement=True)),\n",
    "    ('string','name', dict(nullable=False, unique=True)),\n",
    "    ('integer','age'),\n",
    "    ('boolean', 'is_old'),\n",
    ")\n",
    "db = dt.DocTable(target=':memory:', schema=schema)\n",
    "print(db)"
   ]
  },
  {
   "cell_type": "markdown",
   "metadata": {},
   "source": [
    "Then we add several example rows to the doctable."
   ]
  },
  {
   "cell_type": "code",
   "execution_count": 3,
   "metadata": {},
   "outputs": [
    {
     "name": "stdout",
     "output_type": "stream",
     "text": [
      "(1, 'user_0', 0.16086747483303065, False)\n",
      "(2, 'user_1', 0.14322051505126332, False)\n",
      "(3, 'user_2', 0.22664393988892395, False)\n"
     ]
    }
   ],
   "source": [
    "for i in range(10):\n",
    "    age = random.random() # number in [0,1]\n",
    "    is_old = age > 0.5\n",
    "    row = {'name':'user_'+str(i), 'age':age, 'is_old':is_old}\n",
    "    db.insert(row, ifnotunique='replace')\n",
    "\n",
    "for doc in db.select(limit=3):\n",
    "    print(doc)"
   ]
  },
  {
   "cell_type": "markdown",
   "metadata": {},
   "source": [
    "### Create a Bootstrap\n",
    "We can use the doctable method `.bootstrap()` to return a bootstrap object using the keyword argument `n` to set the sample size (will use number of docs by default). This method acts like a select query, so we can specify columns and use the where argument to choose columns and rows to be bootstrapped. The bootsrap object contains the rows in the `.doc` property.\n",
    "\n",
    "Notice that while our select statement drew three documens, the sample size specified with `n` is 5. The boostrap object will always return 5 objects, even though the number of docs stays the same."
   ]
  },
  {
   "cell_type": "code",
   "execution_count": 4,
   "metadata": {},
   "outputs": [
    {
     "name": "stdout",
     "output_type": "stream",
     "text": [
      "<class 'doctable.bootstrap.DocBootstrap'>\n",
      "3\n"
     ]
    },
    {
     "data": {
      "text/plain": [
       "4"
      ]
     },
     "execution_count": 4,
     "metadata": {},
     "output_type": "execute_result"
    }
   ],
   "source": [
    "bs = db.bootstrap(['name','age'], where=db['id'] % 3 == 0, n=4)\n",
    "print(type(bs))\n",
    "print(len(bs.docs))\n",
    "bs.n"
   ]
  },
  {
   "cell_type": "markdown",
   "metadata": {},
   "source": [
    "Use the bootstrap object as an iterator to access the bootstrapped docs. The bootstrap object draws a sample upon instantiation, so the same sample is maintained until reset."
   ]
  },
  {
   "cell_type": "code",
   "execution_count": 5,
   "metadata": {},
   "outputs": [
    {
     "name": "stdout",
     "output_type": "stream",
     "text": [
      "first run:\n",
      "('user_5', 0.6473182290263347)\n",
      "('user_2', 0.22664393988892395)\n",
      "('user_2', 0.22664393988892395)\n",
      "('user_5', 0.6473182290263347)\n",
      "second run:\n",
      "('user_5', 0.6473182290263347)\n",
      "('user_2', 0.22664393988892395)\n",
      "('user_2', 0.22664393988892395)\n",
      "('user_5', 0.6473182290263347)\n"
     ]
    }
   ],
   "source": [
    "print('first run:')\n",
    "for doc in bs:\n",
    "    print(doc)\n",
    "print('second run:')\n",
    "for doc in bs:\n",
    "    print(doc)"
   ]
  },
  {
   "cell_type": "markdown",
   "metadata": {},
   "source": [
    "### Draw New Sample\n",
    "You can reset the internal sample of the bootstrap object using the `.set_new_sample()` method. See that we now sample 2 docs and the output is different from previous runs. The sample will still remain the same each time we iterate until we reset the sample."
   ]
  },
  {
   "cell_type": "code",
   "execution_count": 6,
   "metadata": {},
   "outputs": [
    {
     "name": "stdout",
     "output_type": "stream",
     "text": [
      "first run:\n",
      "('user_5', 0.6473182290263347)\n",
      "('user_8', 0.5270190808172914)\n",
      "second run:\n",
      "('user_5', 0.6473182290263347)\n",
      "('user_8', 0.5270190808172914)\n"
     ]
    }
   ],
   "source": [
    "bs.set_new_sample(2)\n",
    "print('first run:')\n",
    "for doc in bs:\n",
    "    print(doc)\n",
    "print('second run:')\n",
    "for doc in bs:\n",
    "    print(doc)"
   ]
  },
  {
   "cell_type": "markdown",
   "metadata": {},
   "source": [
    "And we can iterate through a new sample using `.new_sample()`. Equivalent to calling `.set_new_sample()` and then iterating through elements."
   ]
  },
  {
   "cell_type": "code",
   "execution_count": 7,
   "metadata": {},
   "outputs": [
    {
     "name": "stdout",
     "output_type": "stream",
     "text": [
      "drawing new sample:\n",
      "('user_5', 0.6473182290263347)\n",
      "('user_5', 0.6473182290263347)\n",
      "('user_8', 0.5270190808172914)\n",
      "repeating sample:\n",
      "('user_5', 0.6473182290263347)\n",
      "('user_5', 0.6473182290263347)\n",
      "('user_8', 0.5270190808172914)\n"
     ]
    }
   ],
   "source": [
    "print('drawing new sample:')\n",
    "for doc in bs.new_sample(3):\n",
    "    print(doc)\n",
    "print('repeating sample:')\n",
    "for doc in bs:\n",
    "    print(doc)"
   ]
  },
  {
   "cell_type": "markdown",
   "metadata": {},
   "source": [
    "I may add additional functionality in the future if I use this in any projects, but that's it for now."
   ]
  }
 ],
 "metadata": {
  "kernelspec": {
   "display_name": "Python 3 (ipykernel)",
   "language": "python",
   "name": "python3"
  },
  "language_info": {
   "codemirror_mode": {
    "name": "ipython",
    "version": 3
   },
   "file_extension": ".py",
   "mimetype": "text/x-python",
   "name": "python",
   "nbconvert_exporter": "python",
   "pygments_lexer": "ipython3",
   "version": "3.9.13"
  }
 },
 "nbformat": 4,
 "nbformat_minor": 4
}
