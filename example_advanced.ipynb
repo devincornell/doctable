{
 "cells": [
  {
   "cell_type": "markdown",
   "metadata": {},
   "source": [
    "# DocTable (slightly more) Advanced Example\n",
    "In this notebook, I show how to define a DocTable with blob data types, add new rows, and then iterate through rows to populate previously empty fields."
   ]
  },
  {
   "cell_type": "code",
   "execution_count": 1,
   "metadata": {},
   "outputs": [],
   "source": [
    "import email\n",
    "from example_helper import get_sklearn_newsgroups # for this example\n",
    "\n",
    "from doctable import DocTable # this will be the table object we use to interact with our database."
   ]
  },
  {
   "cell_type": "markdown",
   "metadata": {},
   "source": [
    "## Get News Data From sklearn.datasets\n",
    "Then parses into a dataframe."
   ]
  },
  {
   "cell_type": "code",
   "execution_count": 2,
   "metadata": {},
   "outputs": [
    {
     "name": "stdout",
     "output_type": "stream",
     "text": [
      "(11314, 3)\n"
     ]
    },
    {
     "data": {
      "text/html": [
       "<div>\n",
       "<style scoped>\n",
       "    .dataframe tbody tr th:only-of-type {\n",
       "        vertical-align: middle;\n",
       "    }\n",
       "\n",
       "    .dataframe tbody tr th {\n",
       "        vertical-align: top;\n",
       "    }\n",
       "\n",
       "    .dataframe thead th {\n",
       "        text-align: right;\n",
       "    }\n",
       "</style>\n",
       "<table border=\"1\" class=\"dataframe\">\n",
       "  <thead>\n",
       "    <tr style=\"text-align: right;\">\n",
       "      <th></th>\n",
       "      <th>filename</th>\n",
       "      <th>target</th>\n",
       "      <th>text</th>\n",
       "    </tr>\n",
       "  </thead>\n",
       "  <tbody>\n",
       "    <tr>\n",
       "      <th>0</th>\n",
       "      <td>21379</td>\n",
       "      <td>soc.religion.christian</td>\n",
       "      <td>From: kbanner@philae.sas.upenn.edu (Ken Banner...</td>\n",
       "    </tr>\n",
       "    <tr>\n",
       "      <th>1</th>\n",
       "      <td>20874</td>\n",
       "      <td>soc.religion.christian</td>\n",
       "      <td>From: simon@monu6.cc.monash.edu.au\\nSubject: S...</td>\n",
       "    </tr>\n",
       "    <tr>\n",
       "      <th>2</th>\n",
       "      <td>58936</td>\n",
       "      <td>sci.med</td>\n",
       "      <td>From: jeffp@vetmed.wsu.edu (Jeff Parke)\\nSubje...</td>\n",
       "    </tr>\n",
       "  </tbody>\n",
       "</table>\n",
       "</div>"
      ],
      "text/plain": [
       "  filename                  target  \\\n",
       "0    21379  soc.religion.christian   \n",
       "1    20874  soc.religion.christian   \n",
       "2    58936                 sci.med   \n",
       "\n",
       "                                                text  \n",
       "0  From: kbanner@philae.sas.upenn.edu (Ken Banner...  \n",
       "1  From: simon@monu6.cc.monash.edu.au\\nSubject: S...  \n",
       "2  From: jeffp@vetmed.wsu.edu (Jeff Parke)\\nSubje...  "
      ]
     },
     "execution_count": 2,
     "metadata": {},
     "output_type": "execute_result"
    }
   ],
   "source": [
    "ddf = get_sklearn_newsgroups()\n",
    "print(ddf.shape)\n",
    "ddf.head(3)"
   ]
  },
  {
   "cell_type": "markdown",
   "metadata": {},
   "source": [
    "## Define NewsGroups DocTable\n",
    "This definition includes fields file_id, category, raw_text, subject, author, and tokenized_text. The extra columns compared to example_simple.ipynb are for storing extracted metadata."
   ]
  },
  {
   "cell_type": "code",
   "execution_count": 3,
   "metadata": {},
   "outputs": [],
   "source": [
    "class NewsGroups(DocTable):\n",
    "    def __init__(self, fname):\n",
    "        '''\n",
    "            DocTable class.\n",
    "            Inputs:\n",
    "                fname: fname is the name of the new sqlite database that will be used for instances of class.\n",
    "        '''\n",
    "        tabname = 'newsgroups'\n",
    "        super().__init__(\n",
    "            fname=fname, \n",
    "            tabname=tabname, \n",
    "            colschema=(\n",
    "                'id integer primary key autoincrement',\n",
    "                'file_id int', \n",
    "                'category string',\n",
    "                'raw_text string',\n",
    "                'subject string', \n",
    "                'author string', \n",
    "                'tokenized_text blob', \n",
    "            ),\n",
    "            constraints=('UNIQUE(file_id)',)\n",
    "        )\n",
    "        \n",
    "        # create indices on file_id and category\n",
    "        self.query(\"create index if not exists idx1 on \"+tabname+\"(file_id)\")\n",
    "        self.query(\"create index if not exists idx2 on \"+tabname+\"(category)\")"
   ]
  },
  {
   "cell_type": "code",
   "execution_count": 4,
   "metadata": {},
   "outputs": [
    {
     "name": "stdout",
     "output_type": "stream",
     "text": [
      "<Documents ct: 9840>\n"
     ]
    }
   ],
   "source": [
    "sng = NewsGroups('news_groupssss.db')\n",
    "print(sng)"
   ]
  },
  {
   "cell_type": "code",
   "execution_count": 5,
   "metadata": {},
   "outputs": [
    {
     "data": {
      "text/html": [
       "<div>\n",
       "<style scoped>\n",
       "    .dataframe tbody tr th:only-of-type {\n",
       "        vertical-align: middle;\n",
       "    }\n",
       "\n",
       "    .dataframe tbody tr th {\n",
       "        vertical-align: top;\n",
       "    }\n",
       "\n",
       "    .dataframe thead th {\n",
       "        text-align: right;\n",
       "    }\n",
       "</style>\n",
       "<table border=\"1\" class=\"dataframe\">\n",
       "  <thead>\n",
       "    <tr style=\"text-align: right;\">\n",
       "      <th></th>\n",
       "      <th>id</th>\n",
       "      <th>file_id</th>\n",
       "      <th>category</th>\n",
       "      <th>raw_text</th>\n",
       "      <th>subject</th>\n",
       "      <th>author</th>\n",
       "      <th>tokenized_text</th>\n",
       "    </tr>\n",
       "  </thead>\n",
       "  <tbody>\n",
       "    <tr>\n",
       "      <th>0</th>\n",
       "      <td>1</td>\n",
       "      <td>21379</td>\n",
       "      <td>soc.religion.christian</td>\n",
       "      <td>From: kbanner@philae.sas.upenn.edu (Ken Banner...</td>\n",
       "      <td>None</td>\n",
       "      <td>None</td>\n",
       "      <td>None</td>\n",
       "    </tr>\n",
       "    <tr>\n",
       "      <th>1</th>\n",
       "      <td>2</td>\n",
       "      <td>20874</td>\n",
       "      <td>soc.religion.christian</td>\n",
       "      <td>From: simon@monu6.cc.monash.edu.au\\nSubject: S...</td>\n",
       "      <td>None</td>\n",
       "      <td>None</td>\n",
       "      <td>None</td>\n",
       "    </tr>\n",
       "  </tbody>\n",
       "</table>\n",
       "</div>"
      ],
      "text/plain": [
       "   id  file_id                category  \\\n",
       "0   1    21379  soc.religion.christian   \n",
       "1   2    20874  soc.religion.christian   \n",
       "\n",
       "                                            raw_text subject author  \\\n",
       "0  From: kbanner@philae.sas.upenn.edu (Ken Banner...    None   None   \n",
       "1  From: simon@monu6.cc.monash.edu.au\\nSubject: S...    None   None   \n",
       "\n",
       "  tokenized_text  \n",
       "0           None  \n",
       "1           None  "
      ]
     },
     "execution_count": 5,
     "metadata": {},
     "output_type": "execute_result"
    }
   ],
   "source": [
    "# add in raw data\n",
    "col_order = ('file_id','category','raw_text')\n",
    "data = [(dat['filename'],dat['target'],dat['text']) for ind,dat in ddf.iterrows()]\n",
    "sng.addmany(data,keys=col_order, ifnotunique='ignore')\n",
    "sng.getdf(limit=2)"
   ]
  },
  {
   "cell_type": "markdown",
   "metadata": {},
   "source": [
    "## Update \"tokenized_text\" Column\n",
    "Use .get() to loop through rows in the database, and .update() to add in the newly extracted data. In this case, we simply tokenize the text using the python builtin split() function."
   ]
  },
  {
   "cell_type": "code",
   "execution_count": 6,
   "metadata": {},
   "outputs": [
    {
     "data": {
      "text/html": [
       "<div>\n",
       "<style scoped>\n",
       "    .dataframe tbody tr th:only-of-type {\n",
       "        vertical-align: middle;\n",
       "    }\n",
       "\n",
       "    .dataframe tbody tr th {\n",
       "        vertical-align: top;\n",
       "    }\n",
       "\n",
       "    .dataframe thead th {\n",
       "        text-align: right;\n",
       "    }\n",
       "</style>\n",
       "<table border=\"1\" class=\"dataframe\">\n",
       "  <thead>\n",
       "    <tr style=\"text-align: right;\">\n",
       "      <th></th>\n",
       "      <th>id</th>\n",
       "      <th>file_id</th>\n",
       "      <th>category</th>\n",
       "      <th>raw_text</th>\n",
       "      <th>subject</th>\n",
       "      <th>author</th>\n",
       "      <th>tokenized_text</th>\n",
       "    </tr>\n",
       "  </thead>\n",
       "  <tbody>\n",
       "    <tr>\n",
       "      <th>0</th>\n",
       "      <td>1</td>\n",
       "      <td>21379</td>\n",
       "      <td>soc.religion.christian</td>\n",
       "      <td>From: kbanner@philae.sas.upenn.edu (Ken Banner...</td>\n",
       "      <td>None</td>\n",
       "      <td>None</td>\n",
       "      <td>[From:, kbanner@philae.sas.upenn.edu, (Ken, Ba...</td>\n",
       "    </tr>\n",
       "    <tr>\n",
       "      <th>1</th>\n",
       "      <td>2</td>\n",
       "      <td>20874</td>\n",
       "      <td>soc.religion.christian</td>\n",
       "      <td>From: simon@monu6.cc.monash.edu.au\\nSubject: S...</td>\n",
       "      <td>None</td>\n",
       "      <td>None</td>\n",
       "      <td>[From:, simon@monu6.cc.monash.edu.au, Subject:...</td>\n",
       "    </tr>\n",
       "  </tbody>\n",
       "</table>\n",
       "</div>"
      ],
      "text/plain": [
       "   id  file_id                category  \\\n",
       "0   1    21379  soc.religion.christian   \n",
       "1   2    20874  soc.religion.christian   \n",
       "\n",
       "                                            raw_text subject author  \\\n",
       "0  From: kbanner@philae.sas.upenn.edu (Ken Banner...    None   None   \n",
       "1  From: simon@monu6.cc.monash.edu.au\\nSubject: S...    None   None   \n",
       "\n",
       "                                      tokenized_text  \n",
       "0  [From:, kbanner@philae.sas.upenn.edu, (Ken, Ba...  \n",
       "1  [From:, simon@monu6.cc.monash.edu.au, Subject:...  "
      ]
     },
     "execution_count": 6,
     "metadata": {},
     "output_type": "execute_result"
    }
   ],
   "source": [
    "query = sng.get(sel=('file_id','raw_text',))\n",
    "for row in query:\n",
    "    \n",
    "    dat = {'tokenized_text':row['raw_text'].split(),}\n",
    "    sng.update(dat, 'file_id == {}'.format(row['file_id']))\n",
    "sng.getdf(limit=2)"
   ]
  },
  {
   "cell_type": "markdown",
   "metadata": {},
   "source": [
    "## Extract Email Metadata\n",
    "This example takes it even further by using the \"email\" package to parse apart the blog files. It then uses the extracted information to populate the corresponding fields in the DocTable."
   ]
  },
  {
   "cell_type": "code",
   "execution_count": 7,
   "metadata": {},
   "outputs": [
    {
     "data": {
      "text/html": [
       "<div>\n",
       "<style scoped>\n",
       "    .dataframe tbody tr th:only-of-type {\n",
       "        vertical-align: middle;\n",
       "    }\n",
       "\n",
       "    .dataframe tbody tr th {\n",
       "        vertical-align: top;\n",
       "    }\n",
       "\n",
       "    .dataframe thead th {\n",
       "        text-align: right;\n",
       "    }\n",
       "</style>\n",
       "<table border=\"1\" class=\"dataframe\">\n",
       "  <thead>\n",
       "    <tr style=\"text-align: right;\">\n",
       "      <th></th>\n",
       "      <th>id</th>\n",
       "      <th>file_id</th>\n",
       "      <th>category</th>\n",
       "      <th>raw_text</th>\n",
       "      <th>subject</th>\n",
       "      <th>author</th>\n",
       "      <th>tokenized_text</th>\n",
       "    </tr>\n",
       "  </thead>\n",
       "  <tbody>\n",
       "    <tr>\n",
       "      <th>0</th>\n",
       "      <td>1</td>\n",
       "      <td>21379</td>\n",
       "      <td>soc.religion.christian</td>\n",
       "      <td>From: kbanner@philae.sas.upenn.edu (Ken Banner...</td>\n",
       "      <td>Re: SATANIC TOUNGES</td>\n",
       "      <td>kbanner@philae.sas.upenn.edu (Ken Banner)</td>\n",
       "      <td>[In, article, &lt;May.5.02.53.10.1993.28880@athos...</td>\n",
       "    </tr>\n",
       "    <tr>\n",
       "      <th>1</th>\n",
       "      <td>2</td>\n",
       "      <td>20874</td>\n",
       "      <td>soc.religion.christian</td>\n",
       "      <td>From: simon@monu6.cc.monash.edu.au\\nSubject: S...</td>\n",
       "      <td>Saint Story St. Aloysius Gonzaga</td>\n",
       "      <td>simon@monu6.cc.monash.edu.au</td>\n",
       "      <td>[Heres, a, story, of, a, Saint, that, people, ...</td>\n",
       "    </tr>\n",
       "  </tbody>\n",
       "</table>\n",
       "</div>"
      ],
      "text/plain": [
       "   id  file_id                category  \\\n",
       "0   1    21379  soc.religion.christian   \n",
       "1   2    20874  soc.religion.christian   \n",
       "\n",
       "                                            raw_text  \\\n",
       "0  From: kbanner@philae.sas.upenn.edu (Ken Banner...   \n",
       "1  From: simon@monu6.cc.monash.edu.au\\nSubject: S...   \n",
       "\n",
       "                            subject  \\\n",
       "0               Re: SATANIC TOUNGES   \n",
       "1  Saint Story St. Aloysius Gonzaga   \n",
       "\n",
       "                                      author  \\\n",
       "0  kbanner@philae.sas.upenn.edu (Ken Banner)   \n",
       "1               simon@monu6.cc.monash.edu.au   \n",
       "\n",
       "                                      tokenized_text  \n",
       "0  [In, article, <May.5.02.53.10.1993.28880@athos...  \n",
       "1  [Heres, a, story, of, a, Saint, that, people, ...  "
      ]
     },
     "execution_count": 7,
     "metadata": {},
     "output_type": "execute_result"
    }
   ],
   "source": [
    "query = sng.get(sel=('file_id','raw_text',), asdict=False)\n",
    "for fid,text in query:\n",
    "    e = email.message_from_string(text)\n",
    "    auth = e['From'] if 'From' in e.keys() else ''\n",
    "    subj = e['Subject'] if 'Subject' in e.keys() else ''\n",
    "    tok = e.get_payload().split()\n",
    "    dat = {\n",
    "        'tokenized_text':tok,\n",
    "        'author':auth,\n",
    "        'subject':subj,\n",
    "    }\n",
    "    \n",
    "    sng.update(dat, 'file_id == {}'.format(fid))\n",
    "sng.getdf(limit=2)"
   ]
  },
  {
   "cell_type": "code",
   "execution_count": 8,
   "metadata": {},
   "outputs": [],
   "source": [
    "sng.getdf().to_csv('newsgroup20.csv')"
   ]
  }
 ],
 "metadata": {
  "kernelspec": {
   "display_name": "Python 3",
   "language": "python",
   "name": "python3"
  },
  "language_info": {
   "codemirror_mode": {
    "name": "ipython",
    "version": 3
   },
   "file_extension": ".py",
   "mimetype": "text/x-python",
   "name": "python",
   "nbconvert_exporter": "python",
   "pygments_lexer": "ipython3",
   "version": "3.6.4"
  }
 },
 "nbformat": 4,
 "nbformat_minor": 2
}
