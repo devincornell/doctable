{
 "cells": [
  {
   "cell_type": "markdown",
   "metadata": {},
   "source": [
    "# Pickle / JSON / Token (DocTable Datatype) Experiments\n",
    "\n",
    "Conclusions:\n",
    "* my custom tokenization algorithm is worse on every measure\n",
    "* pickle/cpickle is 5x as fast as json at serializing\n",
    "* pickle/cpickle is 10x as fast as json at deserializing\n",
    "* pickle/cpickle creates 10x as small compressed data\n",
    "* numpy .tobytes() is ~30% faster at serialization compared to pickle/cpickle, same serialized size\n",
    "* numpy .frombytes is 5x faster than pickle/cpickle"
   ]
  },
  {
   "cell_type": "code",
   "execution_count": 1,
   "metadata": {},
   "outputs": [],
   "source": [
    "import sys\n",
    "sys.path.append('..')\n",
    "from doctable.coltypes import store_tokens, load_tokens\n",
    "import os\n",
    "import random\n",
    "import _pickle\n",
    "import pickle\n",
    "import json\n",
    "import numpy as np\n",
    "class DevinToks:\n",
    "    @staticmethod\n",
    "    def dumps(toks):\n",
    "        return store_tokens(toks)\n",
    "    @staticmethod\n",
    "    def loads(tokdat):\n",
    "        return load_tokens(tokdat)"
   ]
  },
  {
   "cell_type": "code",
   "execution_count": 2,
   "metadata": {},
   "outputs": [
    {
     "data": {
      "text/plain": [
       "10000000"
      ]
     },
     "execution_count": 2,
     "metadata": {},
     "output_type": "execute_result"
    }
   ],
   "source": [
    "# try tuples\n",
    "def random_paragraphs(n_par=1000, n_sent=1000, n_tok=20):\n",
    "    pars = tuple([\n",
    "        tuple([\n",
    "            tuple(['abcdslkjkljaghjk' for _ in range(n_tok)])\n",
    "            for _ in range(n_sent)\n",
    "        ])\n",
    "        for _ in range(n_par)\n",
    "    ])\n",
    "    return pars\n",
    "paragraphs = random_paragraphs(10000)\n",
    "len([t for sent in paragraphs for t in sent])"
   ]
  },
  {
   "cell_type": "code",
   "execution_count": 3,
   "metadata": {},
   "outputs": [
    {
     "data": {
      "text/plain": [
       "10000"
      ]
     },
     "execution_count": 3,
     "metadata": {},
     "output_type": "execute_result"
    }
   ],
   "source": [
    "# try lists\n",
    "def random_paragraphs_list(n_par=1000, n_sent=1000, n_tok=20):\n",
    "    pars = [\n",
    "        [\n",
    "            ['abcdslkjkljaghjk' for _ in range(n_tok)]\n",
    "            for _ in range(n_sent)\n",
    "        ]\n",
    "        for _ in range(n_par)\n",
    "    ]\n",
    "    return pars\n",
    "list_pars = random_paragraphs_list(10)\n",
    "len([t for sent in list_pars for t in sent])"
   ]
  },
  {
   "cell_type": "code",
   "execution_count": 4,
   "metadata": {},
   "outputs": [
    {
     "name": "stdout",
     "output_type": "stream",
     "text": [
      "1min 48s ± 132 ms per loop (mean ± std. dev. of 7 runs, 1 loop each)\n",
      "7.62 s ± 40.4 ms per loop (mean ± std. dev. of 7 runs, 1 loop each)\n",
      "7.65 s ± 58 ms per loop (mean ± std. dev. of 7 runs, 1 loop each)\n",
      "36.2 s ± 103 ms per loop (mean ± std. dev. of 7 runs, 1 loop each)\n"
     ]
    }
   ],
   "source": [
    "# test serialization\n",
    "def test_dump(pars, serializer):\n",
    "    return serializer.dumps(pars)\n",
    "%timeit test_dump(paragraphs,DevinToks)\n",
    "%timeit test_dump(paragraphs,pickle)\n",
    "%timeit test_dump(paragraphs,_pickle)\n",
    "%timeit test_dump(paragraphs,json)"
   ]
  },
  {
   "cell_type": "code",
   "execution_count": 5,
   "metadata": {},
   "outputs": [
    {
     "name": "stdout",
     "output_type": "stream",
     "text": [
      "92 ms ± 185 µs per loop (mean ± std. dev. of 7 runs, 10 loops each)\n",
      "5.49 ms ± 269 µs per loop (mean ± std. dev. of 7 runs, 100 loops each)\n",
      "5.41 ms ± 212 µs per loop (mean ± std. dev. of 7 runs, 100 loops each)\n",
      "31.2 ms ± 36.7 µs per loop (mean ± std. dev. of 7 runs, 10 loops each)\n"
     ]
    }
   ],
   "source": [
    "# this time tokenizing lists - looks the same!\n",
    "%timeit test_dump(list_pars,DevinToks)\n",
    "%timeit test_dump(list_pars,pickle)\n",
    "%timeit test_dump(list_pars,_pickle)\n",
    "%timeit test_dump(list_pars,json)"
   ]
  },
  {
   "cell_type": "code",
   "execution_count": null,
   "metadata": {},
   "outputs": [
    {
     "name": "stdout",
     "output_type": "stream",
     "text": [
      "470069266 470069266 4020020000 3410010001\n"
     ]
    }
   ],
   "source": [
    "# now test loading\n",
    "pdat, cdat, jdat, ddat = test_dump(paragraphs,pickle), test_dump(paragraphs,_pickle), test_dump(paragraphs,json), test_dump(paragraphs,DevinToks)\n",
    "print(len(pdat), len(cdat), len(jdat), len(ddat))\n",
    "\n",
    "def test_load(dat, serializer):\n",
    "    return serializer.loads(dat)\n",
    "%timeit test_load(ddat,DevinToks)\n",
    "%timeit test_load(pdat,pickle)\n",
    "%timeit test_load(cdat,_pickle)\n",
    "%timeit test_load(jdat,json)"
   ]
  },
  {
   "cell_type": "code",
   "execution_count": null,
   "metadata": {},
   "outputs": [],
   "source": [
    "fnames = ('pic.dat', 'cpic.dat', 'json.dat', 'devin.dat')"
   ]
  },
  {
   "cell_type": "code",
   "execution_count": null,
   "metadata": {},
   "outputs": [],
   "source": [
    "a = np.zeros((10000,1000))\n",
    "%timeit a.tobytes()\n",
    "%timeit pickle.dumps(a)\n",
    "%timeit _pickle.dumps(a)\n",
    "bdat, pdat, cdat = a.tobytes(), pickle.dumps(a), _pickle.dumps(a)\n",
    "len(bdat), len(pdat), len(cdat)"
   ]
  },
  {
   "cell_type": "code",
   "execution_count": null,
   "metadata": {},
   "outputs": [],
   "source": [
    "%timeit np.frombuffer(bdat)\n",
    "%timeit pickle.loads(pdat)\n",
    "%timeit _pickle.loads(cdat)"
   ]
  },
  {
   "cell_type": "code",
   "execution_count": null,
   "metadata": {},
   "outputs": [],
   "source": []
  }
 ],
 "metadata": {
  "kernelspec": {
   "display_name": "Python 3",
   "language": "python",
   "name": "python3"
  },
  "language_info": {
   "codemirror_mode": {
    "name": "ipython",
    "version": 3
   },
   "file_extension": ".py",
   "mimetype": "text/x-python",
   "name": "python",
   "nbconvert_exporter": "python",
   "pygments_lexer": "ipython3",
   "version": "3.6.9"
  }
 },
 "nbformat": 4,
 "nbformat_minor": 4
}
