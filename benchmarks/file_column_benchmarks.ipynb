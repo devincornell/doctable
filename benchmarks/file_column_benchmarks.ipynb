{
 "cells": [
  {
   "cell_type": "code",
   "execution_count": 1,
   "metadata": {},
   "outputs": [],
   "source": [
    "import numpy as np\n",
    "from dataclasses import dataclass, field\n",
    "\n",
    "import sys\n",
    "sys.path.append('..')\n",
    "import doctable"
   ]
  },
  {
   "cell_type": "code",
   "execution_count": null,
   "metadata": {
    "tags": []
   },
   "outputs": [],
   "source": [
    "# set up database objects\n",
    "#folder = '/tmp/devintest'\n",
    "folder = '/econ/home/d/dc326/research/data/testing/tmp'\n",
    "tmpf = doctable.TempFolder(folder)\n",
    "\n",
    "@dataclass\n",
    "class DataObj(doctable.DocTableSchema):\n",
    "    id: int = doctable.IDCol()\n",
    "    data: np.ndarray = doctable.Col(None)\n",
    "\n",
    "@dataclass\n",
    "class FileObj(doctable.DocTableSchema):\n",
    "    id: int = doctable.IDCol()\n",
    "    data: np.ndarray = doctable.Col(None, coltype='picklefile', type_args=dict(folder=folder))\n",
    "\n",
    "target = f'{folder}/benchmark_fileobj.db'\n",
    "ddb = doctable.DocTable(schema=DataObj, target=target, tabname='dataobj', new_db=True)\n",
    "ddb.delete()\n",
    "\n",
    "fdb = doctable.DocTable(schema=FileObj, target=target, tabname='fileobj', new_db=True)\n",
    "fdb.delete() # empty datbases\n",
    "fdb.clean_col_files('data')\n",
    "print(fdb, ddb)"
   ]
  },
  {
   "cell_type": "code",
   "execution_count": 3,
   "metadata": {
    "tags": []
   },
   "outputs": [],
   "source": [
    "def make_payload(wrap_class, sizeGB=0.1, num=10):\n",
    "    # 5000000000 (5e9) is 45 GB max, ~38GB stable.\n",
    "    siz = int(1e8 * sizeGB)\n",
    "    payload = [wrap_class(data=np.ones(siz)) for i in range(num)]\n",
    "    return payload\n",
    "\n",
    "def run_test(**payload_args):\n",
    "    d_payload = make_payload(DataObj, **payload_args)\n",
    "    f_payload = make_payload(FileObj, **payload_args)\n",
    "    \n",
    "    print('=== DB Delete ===')\n",
    "    %time ddb.delete()\n",
    "    %time fdb.delete()\n",
    "    fdb.clean_col_files('data')\n",
    "    print()\n",
    "    \n",
    "    print('=== DB Insert ===')\n",
    "    %timeit ddb.insert(d_payload)\n",
    "    %timeit fdb.insert(f_payload)\n",
    "    print()\n",
    "    \n",
    "    print('=== DB Select ===')\n",
    "    %timeit a = ddb.select()\n",
    "    %timeit a = fdb.select()\n",
    "    print()"
   ]
  },
  {
   "cell_type": "code",
   "execution_count": null,
   "metadata": {},
   "outputs": [
    {
     "name": "stdout",
     "output_type": "stream",
     "text": [
      "=== DB Delete ===\n",
      "CPU times: user 2.93 ms, sys: 683 µs, total: 3.62 ms\n",
      "Wall time: 29.9 ms\n",
      "CPU times: user 572 µs, sys: 1.98 ms, total: 2.55 ms\n",
      "Wall time: 25.8 ms\n",
      "\n",
      "=== DB Insert ===\n",
      "4.36 s ± 550 ms per loop (mean ± std. dev. of 7 runs, 1 loop each)\n",
      "1min 36s ± 14.7 s per loop (mean ± std. dev. of 7 runs, 1 loop each)\n",
      "\n",
      "=== DB Select ===\n"
     ]
    }
   ],
   "source": [
    "run_test(sizeGB=0.0001, num=10000)"
   ]
  },
  {
   "cell_type": "code",
   "execution_count": null,
   "metadata": {
    "tags": []
   },
   "outputs": [],
   "source": [
    "run_test(sizeGB=0.001, num=1000)"
   ]
  },
  {
   "cell_type": "code",
   "execution_count": null,
   "metadata": {},
   "outputs": [],
   "source": [
    "run_test(sizeGB=0.01, num=100)"
   ]
  },
  {
   "cell_type": "code",
   "execution_count": null,
   "metadata": {},
   "outputs": [],
   "source": [
    "run_test(sizeGB=0.1, num=10)"
   ]
  },
  {
   "cell_type": "code",
   "execution_count": null,
   "metadata": {},
   "outputs": [],
   "source": [
    "run_test(sizeGB=0.5, num=10)"
   ]
  },
  {
   "cell_type": "code",
   "execution_count": null,
   "metadata": {},
   "outputs": [],
   "source": [
    "run_test(sizeGB=1, num=5)"
   ]
  },
  {
   "cell_type": "code",
   "execution_count": null,
   "metadata": {},
   "outputs": [],
   "source": []
  },
  {
   "cell_type": "code",
   "execution_count": null,
   "metadata": {},
   "outputs": [],
   "source": []
  }
 ],
 "metadata": {
  "kernelspec": {
   "display_name": "Python 3",
   "language": "python",
   "name": "python3"
  },
  "language_info": {
   "codemirror_mode": {
    "name": "ipython",
    "version": 3
   },
   "file_extension": ".py",
   "mimetype": "text/x-python",
   "name": "python",
   "nbconvert_exporter": "python",
   "pygments_lexer": "ipython3",
   "version": "3.8.5"
  }
 },
 "nbformat": 4,
 "nbformat_minor": 4
}
